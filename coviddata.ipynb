{
  "nbformat": 4,
  "nbformat_minor": 0,
  "metadata": {
    "colab": {
      "name": "coviddata",
      "provenance": [],
      "toc_visible": true,
      "authorship_tag": "ABX9TyMdjWPB6hXJBJxlBLoceydJ",
      "include_colab_link": true
    },
    "kernelspec": {
      "name": "python3",
      "display_name": "Python 3"
    }
  },
  "cells": [
    {
      "cell_type": "markdown",
      "metadata": {
        "id": "view-in-github",
        "colab_type": "text"
      },
      "source": [
        "<a href=\"https://colab.research.google.com/github/DMXMax/covid19/blob/gc_20200315/coviddata.ipynb\" target=\"_parent\"><img src=\"https://colab.research.google.com/assets/colab-badge.svg\" alt=\"Open In Colab\"/></a>"
      ]
    },
    {
      "cell_type": "code",
      "metadata": {
        "id": "jCzokJEPxFhv",
        "colab_type": "code",
        "colab": {}
      },
      "source": [
        "import numpy as np\n",
        "import pandas as pd\n",
        "import matplotlib.pyplot as plt\n",
        "import requests,json\n"
      ],
      "execution_count": 0,
      "outputs": []
    },
    {
      "cell_type": "code",
      "metadata": {
        "id": "zNKPT5Z8BXPT",
        "colab_type": "code",
        "colab": {}
      },
      "source": [
        "covidtrackingurl = \"https://covidtracking.com/api/states/daily\"\n",
        "response = requests.get(covidtrackingurl)\n",
        "dfCovidtracking = pd.DataFrame(response.json())\n",
        "dfCovidtracking.fillna(0, inplace=True)\n",
        "dfCovidtracking.negative = dfCovidtracking.negative.astype('int64')\n",
        "dfCovidtracking.positive = dfCovidtracking.positive.astype('int64')\n",
        "dfCovidtracking.pending = dfCovidtracking.pending.astype('int64')\n",
        "dfCovidtracking.total = dfCovidtracking.total.astype('int64')\n",
        "dfCovidtracking.death = dfCovidtracking.death.astype('int64')\n"
      ],
      "execution_count": 0,
      "outputs": []
    },
    {
      "cell_type": "code",
      "metadata": {
        "id": "MwokJX5VqDG_",
        "colab_type": "code",
        "colab": {}
      },
      "source": [
        "#Setthe current date for new cells\n",
        "current_date = 20200315\n"
      ],
      "execution_count": 0,
      "outputs": []
    },
    {
      "cell_type": "code",
      "metadata": {
        "id": "8_Il5iuohC8_",
        "colab_type": "code",
        "colab": {}
      },
      "source": [
        "dfWHO = pd.read_csv(\"https://raw.githubusercontent.com/DMXMax/covid19/master/who/who_data.tsv\",\n",
        "                     sep='\\t', index_col='Date')"
      ],
      "execution_count": 0,
      "outputs": []
    },
    {
      "cell_type": "code",
      "metadata": {
        "id": "hrPlWJJCVtBR",
        "colab_type": "code",
        "colab": {}
      },
      "source": [
        "dfWHO = dfWHO.rename(columns={\"Confirmed\": \"confirmed\", \"Deaths\": \"who_deaths\"})\n",
        "dfWHO.index.names=['date']\n"
      ],
      "execution_count": 0,
      "outputs": []
    },
    {
      "cell_type": "code",
      "metadata": {
        "id": "HWHSGPq_yF50",
        "colab_type": "code",
        "outputId": "268a1bdb-31b7-4fec-9266-9d3e4d9eb9a2",
        "colab": {
          "base_uri": "https://localhost:8080/",
          "height": 126
        }
      },
      "source": [
        "res = dfCovidtracking.loc[dfCovidtracking.date==current_date, ['positive', 'negative', 'pending', 'total']].sum()\n",
        "print(res)\n",
        "print(f\"Current Infection Rate {res.positive/res.total*100:2f}%\")"
      ],
      "execution_count": 38,
      "outputs": [
        {
          "output_type": "stream",
          "text": [
            "positive     3173\n",
            "negative    22548\n",
            "pending      2242\n",
            "total       27963\n",
            "dtype: int64\n",
            "Current Infection Rate 11.347137%\n"
          ],
          "name": "stdout"
        }
      ]
    },
    {
      "cell_type": "code",
      "metadata": {
        "colab_type": "code",
        "outputId": "2d0d7fc0-c0b1-4a24-db00-0b7b77cf9d92",
        "id": "idyqfNddlLPv",
        "colab": {
          "base_uri": "https://localhost:8080/",
          "height": 348
        }
      },
      "source": [
        "dfCovidtracking.loc[dfCovidtracking.date==current_date,['state', 'positive']].sort_values(by='positive', ascending=False).head(10)"
      ],
      "execution_count": 0,
      "outputs": [
        {
          "output_type": "execute_result",
          "data": {
            "text/html": [
              "<div>\n",
              "<style scoped>\n",
              "    .dataframe tbody tr th:only-of-type {\n",
              "        vertical-align: middle;\n",
              "    }\n",
              "\n",
              "    .dataframe tbody tr th {\n",
              "        vertical-align: top;\n",
              "    }\n",
              "\n",
              "    .dataframe thead th {\n",
              "        text-align: right;\n",
              "    }\n",
              "</style>\n",
              "<table border=\"1\" class=\"dataframe\">\n",
              "  <thead>\n",
              "    <tr style=\"text-align: right;\">\n",
              "      <th></th>\n",
              "      <th>state</th>\n",
              "      <th>positive</th>\n",
              "    </tr>\n",
              "  </thead>\n",
              "  <tbody>\n",
              "    <tr>\n",
              "      <th>34</th>\n",
              "      <td>NY</td>\n",
              "      <td>729</td>\n",
              "    </tr>\n",
              "    <tr>\n",
              "      <th>47</th>\n",
              "      <td>WA</td>\n",
              "      <td>642</td>\n",
              "    </tr>\n",
              "    <tr>\n",
              "      <th>4</th>\n",
              "      <td>CA</td>\n",
              "      <td>293</td>\n",
              "    </tr>\n",
              "    <tr>\n",
              "      <th>19</th>\n",
              "      <td>MA</td>\n",
              "      <td>138</td>\n",
              "    </tr>\n",
              "    <tr>\n",
              "      <th>5</th>\n",
              "      <td>CO</td>\n",
              "      <td>131</td>\n",
              "    </tr>\n",
              "    <tr>\n",
              "      <th>9</th>\n",
              "      <td>FL</td>\n",
              "      <td>116</td>\n",
              "    </tr>\n",
              "    <tr>\n",
              "      <th>10</th>\n",
              "      <td>GA</td>\n",
              "      <td>99</td>\n",
              "    </tr>\n",
              "    <tr>\n",
              "      <th>31</th>\n",
              "      <td>NJ</td>\n",
              "      <td>98</td>\n",
              "    </tr>\n",
              "    <tr>\n",
              "      <th>18</th>\n",
              "      <td>LA</td>\n",
              "      <td>91</td>\n",
              "    </tr>\n",
              "    <tr>\n",
              "      <th>14</th>\n",
              "      <td>IL</td>\n",
              "      <td>64</td>\n",
              "    </tr>\n",
              "  </tbody>\n",
              "</table>\n",
              "</div>"
            ],
            "text/plain": [
              "   state  positive\n",
              "34    NY       729\n",
              "47    WA       642\n",
              "4     CA       293\n",
              "19    MA       138\n",
              "5     CO       131\n",
              "9     FL       116\n",
              "10    GA        99\n",
              "31    NJ        98\n",
              "18    LA        91\n",
              "14    IL        64"
            ]
          },
          "metadata": {
            "tags": []
          },
          "execution_count": 39
        }
      ]
    },
    {
      "cell_type": "code",
      "metadata": {
        "id": "aDnXxFW47TDX",
        "colab_type": "code",
        "colab": {}
      },
      "source": [
        "#Compare growth from 20200311 and 202020313\n",
        "dtstart = 20200311\n",
        "dtend = 20200314\n",
        "dfCA = dfCovidtracking[dfCovidtracking.state=='CA']"
      ],
      "execution_count": 0,
      "outputs": []
    },
    {
      "cell_type": "code",
      "metadata": {
        "id": "ZbzZ81viuetv",
        "colab_type": "code",
        "outputId": "3ca08c75-c749-4687-e9cd-8f8cf6f850d6",
        "colab": {
          "base_uri": "https://localhost:8080/",
          "height": 199
        }
      },
      "source": [
        "arCols = ['positive', 'negative', 'death']\n",
        "arTotCols= ['positive', 'negative']\n",
        "\n",
        "dfUSAstart = dfCovidtracking.loc[dfCovidtracking.date == dtstart, arCols].sum()\n",
        "print(dfUSAstart)\n",
        "print(dfUSAstart.loc[arTotCols].sum())\n",
        "dfUSAend = dfCovidtracking.loc[dfCovidtracking.date == dtend, arCols].sum()\n",
        "print(dfUSAend)\n",
        "print(dfUSAend.loc[arTotCols].sum())\n"
      ],
      "execution_count": 42,
      "outputs": [
        {
          "output_type": "stream",
          "text": [
            "positive    1053\n",
            "negative    5978\n",
            "death         27\n",
            "dtype: int64\n",
            "7031\n",
            "positive     2450\n",
            "negative    17107\n",
            "death          49\n",
            "dtype: int64\n",
            "19557\n"
          ],
          "name": "stdout"
        }
      ]
    },
    {
      "cell_type": "code",
      "metadata": {
        "id": "rFOHyOwb4bcm",
        "colab_type": "code",
        "colab": {}
      },
      "source": [
        "gbUSA = dfCovidtracking.groupby(['date'])\n",
        "gbCA = dfCovidtracking[dfCovidtracking.state=='CA'].groupby(['date'])\n",
        "\n",
        "dfUSAPos = gbUSA.positive.sum().reset_index().copy()\n",
        "dfCAPos = gbCA.positive.sum().reset_index().copy()\n",
        "\n",
        "#This will calculate the percentage each day is of the total. In a flattening, this will be more even\n",
        "# In a high growth situation, you'll higher percentages at the tail. \n",
        "dfUSAPos['PCT']= dfUSAPos.positive/dfUSAPos.max().positive\n",
        "dfCAPos['PCT']=dfCAPos.positive/dfCAPos.max().positive"
      ],
      "execution_count": 0,
      "outputs": []
    },
    {
      "cell_type": "code",
      "metadata": {
        "id": "PW0-6X2f9emU",
        "colab_type": "code",
        "outputId": "eba4fc3f-e6cc-45f2-94f0-7a95f2c2d7b9",
        "colab": {
          "base_uri": "https://localhost:8080/",
          "height": 408
        }
      },
      "source": [
        "dfUSAPos"
      ],
      "execution_count": 44,
      "outputs": [
        {
          "output_type": "execute_result",
          "data": {
            "text/html": [
              "<div>\n",
              "<style scoped>\n",
              "    .dataframe tbody tr th:only-of-type {\n",
              "        vertical-align: middle;\n",
              "    }\n",
              "\n",
              "    .dataframe tbody tr th {\n",
              "        vertical-align: top;\n",
              "    }\n",
              "\n",
              "    .dataframe thead th {\n",
              "        text-align: right;\n",
              "    }\n",
              "</style>\n",
              "<table border=\"1\" class=\"dataframe\">\n",
              "  <thead>\n",
              "    <tr style=\"text-align: right;\">\n",
              "      <th></th>\n",
              "      <th>date</th>\n",
              "      <th>positive</th>\n",
              "      <th>PCT</th>\n",
              "    </tr>\n",
              "  </thead>\n",
              "  <tbody>\n",
              "    <tr>\n",
              "      <th>0</th>\n",
              "      <td>20200304</td>\n",
              "      <td>118</td>\n",
              "      <td>0.037189</td>\n",
              "    </tr>\n",
              "    <tr>\n",
              "      <th>1</th>\n",
              "      <td>20200305</td>\n",
              "      <td>176</td>\n",
              "      <td>0.055468</td>\n",
              "    </tr>\n",
              "    <tr>\n",
              "      <th>2</th>\n",
              "      <td>20200306</td>\n",
              "      <td>223</td>\n",
              "      <td>0.070280</td>\n",
              "    </tr>\n",
              "    <tr>\n",
              "      <th>3</th>\n",
              "      <td>20200307</td>\n",
              "      <td>341</td>\n",
              "      <td>0.107469</td>\n",
              "    </tr>\n",
              "    <tr>\n",
              "      <th>4</th>\n",
              "      <td>20200308</td>\n",
              "      <td>417</td>\n",
              "      <td>0.131421</td>\n",
              "    </tr>\n",
              "    <tr>\n",
              "      <th>5</th>\n",
              "      <td>20200309</td>\n",
              "      <td>584</td>\n",
              "      <td>0.184053</td>\n",
              "    </tr>\n",
              "    <tr>\n",
              "      <th>6</th>\n",
              "      <td>20200310</td>\n",
              "      <td>778</td>\n",
              "      <td>0.245194</td>\n",
              "    </tr>\n",
              "    <tr>\n",
              "      <th>7</th>\n",
              "      <td>20200311</td>\n",
              "      <td>1053</td>\n",
              "      <td>0.331863</td>\n",
              "    </tr>\n",
              "    <tr>\n",
              "      <th>8</th>\n",
              "      <td>20200312</td>\n",
              "      <td>1315</td>\n",
              "      <td>0.414434</td>\n",
              "    </tr>\n",
              "    <tr>\n",
              "      <th>9</th>\n",
              "      <td>20200313</td>\n",
              "      <td>1967</td>\n",
              "      <td>0.619918</td>\n",
              "    </tr>\n",
              "    <tr>\n",
              "      <th>10</th>\n",
              "      <td>20200314</td>\n",
              "      <td>2450</td>\n",
              "      <td>0.772140</td>\n",
              "    </tr>\n",
              "    <tr>\n",
              "      <th>11</th>\n",
              "      <td>20200315</td>\n",
              "      <td>3173</td>\n",
              "      <td>1.000000</td>\n",
              "    </tr>\n",
              "  </tbody>\n",
              "</table>\n",
              "</div>"
            ],
            "text/plain": [
              "        date  positive       PCT\n",
              "0   20200304       118  0.037189\n",
              "1   20200305       176  0.055468\n",
              "2   20200306       223  0.070280\n",
              "3   20200307       341  0.107469\n",
              "4   20200308       417  0.131421\n",
              "5   20200309       584  0.184053\n",
              "6   20200310       778  0.245194\n",
              "7   20200311      1053  0.331863\n",
              "8   20200312      1315  0.414434\n",
              "9   20200313      1967  0.619918\n",
              "10  20200314      2450  0.772140\n",
              "11  20200315      3173  1.000000"
            ]
          },
          "metadata": {
            "tags": []
          },
          "execution_count": 44
        }
      ]
    },
    {
      "cell_type": "code",
      "metadata": {
        "id": "2p-0pMF7-cbv",
        "colab_type": "code",
        "outputId": "5af36986-9f1c-4cfe-8906-26b5be1ef4e3",
        "colab": {
          "base_uri": "https://localhost:8080/",
          "height": 408
        }
      },
      "source": [
        "dfCAPos"
      ],
      "execution_count": 45,
      "outputs": [
        {
          "output_type": "execute_result",
          "data": {
            "text/html": [
              "<div>\n",
              "<style scoped>\n",
              "    .dataframe tbody tr th:only-of-type {\n",
              "        vertical-align: middle;\n",
              "    }\n",
              "\n",
              "    .dataframe tbody tr th {\n",
              "        vertical-align: top;\n",
              "    }\n",
              "\n",
              "    .dataframe thead th {\n",
              "        text-align: right;\n",
              "    }\n",
              "</style>\n",
              "<table border=\"1\" class=\"dataframe\">\n",
              "  <thead>\n",
              "    <tr style=\"text-align: right;\">\n",
              "      <th></th>\n",
              "      <th>date</th>\n",
              "      <th>positive</th>\n",
              "      <th>PCT</th>\n",
              "    </tr>\n",
              "  </thead>\n",
              "  <tbody>\n",
              "    <tr>\n",
              "      <th>0</th>\n",
              "      <td>20200304</td>\n",
              "      <td>53</td>\n",
              "      <td>0.180887</td>\n",
              "    </tr>\n",
              "    <tr>\n",
              "      <th>1</th>\n",
              "      <td>20200305</td>\n",
              "      <td>53</td>\n",
              "      <td>0.180887</td>\n",
              "    </tr>\n",
              "    <tr>\n",
              "      <th>2</th>\n",
              "      <td>20200306</td>\n",
              "      <td>60</td>\n",
              "      <td>0.204778</td>\n",
              "    </tr>\n",
              "    <tr>\n",
              "      <th>3</th>\n",
              "      <td>20200307</td>\n",
              "      <td>69</td>\n",
              "      <td>0.235495</td>\n",
              "    </tr>\n",
              "    <tr>\n",
              "      <th>4</th>\n",
              "      <td>20200308</td>\n",
              "      <td>88</td>\n",
              "      <td>0.300341</td>\n",
              "    </tr>\n",
              "    <tr>\n",
              "      <th>5</th>\n",
              "      <td>20200309</td>\n",
              "      <td>114</td>\n",
              "      <td>0.389078</td>\n",
              "    </tr>\n",
              "    <tr>\n",
              "      <th>6</th>\n",
              "      <td>20200310</td>\n",
              "      <td>133</td>\n",
              "      <td>0.453925</td>\n",
              "    </tr>\n",
              "    <tr>\n",
              "      <th>7</th>\n",
              "      <td>20200311</td>\n",
              "      <td>157</td>\n",
              "      <td>0.535836</td>\n",
              "    </tr>\n",
              "    <tr>\n",
              "      <th>8</th>\n",
              "      <td>20200312</td>\n",
              "      <td>202</td>\n",
              "      <td>0.689420</td>\n",
              "    </tr>\n",
              "    <tr>\n",
              "      <th>9</th>\n",
              "      <td>20200313</td>\n",
              "      <td>247</td>\n",
              "      <td>0.843003</td>\n",
              "    </tr>\n",
              "    <tr>\n",
              "      <th>10</th>\n",
              "      <td>20200314</td>\n",
              "      <td>252</td>\n",
              "      <td>0.860068</td>\n",
              "    </tr>\n",
              "    <tr>\n",
              "      <th>11</th>\n",
              "      <td>20200315</td>\n",
              "      <td>293</td>\n",
              "      <td>1.000000</td>\n",
              "    </tr>\n",
              "  </tbody>\n",
              "</table>\n",
              "</div>"
            ],
            "text/plain": [
              "        date  positive       PCT\n",
              "0   20200304        53  0.180887\n",
              "1   20200305        53  0.180887\n",
              "2   20200306        60  0.204778\n",
              "3   20200307        69  0.235495\n",
              "4   20200308        88  0.300341\n",
              "5   20200309       114  0.389078\n",
              "6   20200310       133  0.453925\n",
              "7   20200311       157  0.535836\n",
              "8   20200312       202  0.689420\n",
              "9   20200313       247  0.843003\n",
              "10  20200314       252  0.860068\n",
              "11  20200315       293  1.000000"
            ]
          },
          "metadata": {
            "tags": []
          },
          "execution_count": 45
        }
      ]
    },
    {
      "cell_type": "code",
      "metadata": {
        "id": "BTvuZKJN0RoI",
        "colab_type": "code",
        "outputId": "5049d449-fb77-4b84-9508-dafbd047900e",
        "colab": {
          "base_uri": "https://localhost:8080/",
          "height": 438
        }
      },
      "source": [
        "gbUSA.sum()"
      ],
      "execution_count": 46,
      "outputs": [
        {
          "output_type": "execute_result",
          "data": {
            "text/html": [
              "<div>\n",
              "<style scoped>\n",
              "    .dataframe tbody tr th:only-of-type {\n",
              "        vertical-align: middle;\n",
              "    }\n",
              "\n",
              "    .dataframe tbody tr th {\n",
              "        vertical-align: top;\n",
              "    }\n",
              "\n",
              "    .dataframe thead th {\n",
              "        text-align: right;\n",
              "    }\n",
              "</style>\n",
              "<table border=\"1\" class=\"dataframe\">\n",
              "  <thead>\n",
              "    <tr style=\"text-align: right;\">\n",
              "      <th></th>\n",
              "      <th>positive</th>\n",
              "      <th>negative</th>\n",
              "      <th>pending</th>\n",
              "      <th>death</th>\n",
              "      <th>total</th>\n",
              "    </tr>\n",
              "    <tr>\n",
              "      <th>date</th>\n",
              "      <th></th>\n",
              "      <th></th>\n",
              "      <th></th>\n",
              "      <th></th>\n",
              "      <th></th>\n",
              "    </tr>\n",
              "  </thead>\n",
              "  <tbody>\n",
              "    <tr>\n",
              "      <th>20200304</th>\n",
              "      <td>118</td>\n",
              "      <td>748</td>\n",
              "      <td>103</td>\n",
              "      <td>0</td>\n",
              "      <td>969</td>\n",
              "    </tr>\n",
              "    <tr>\n",
              "      <th>20200305</th>\n",
              "      <td>176</td>\n",
              "      <td>971</td>\n",
              "      <td>197</td>\n",
              "      <td>0</td>\n",
              "      <td>1344</td>\n",
              "    </tr>\n",
              "    <tr>\n",
              "      <th>20200306</th>\n",
              "      <td>223</td>\n",
              "      <td>1617</td>\n",
              "      <td>458</td>\n",
              "      <td>0</td>\n",
              "      <td>2298</td>\n",
              "    </tr>\n",
              "    <tr>\n",
              "      <th>20200307</th>\n",
              "      <td>341</td>\n",
              "      <td>1863</td>\n",
              "      <td>602</td>\n",
              "      <td>0</td>\n",
              "      <td>2806</td>\n",
              "    </tr>\n",
              "    <tr>\n",
              "      <th>20200308</th>\n",
              "      <td>417</td>\n",
              "      <td>2437</td>\n",
              "      <td>347</td>\n",
              "      <td>0</td>\n",
              "      <td>3201</td>\n",
              "    </tr>\n",
              "    <tr>\n",
              "      <th>20200309</th>\n",
              "      <td>584</td>\n",
              "      <td>3500</td>\n",
              "      <td>313</td>\n",
              "      <td>0</td>\n",
              "      <td>4397</td>\n",
              "    </tr>\n",
              "    <tr>\n",
              "      <th>20200310</th>\n",
              "      <td>778</td>\n",
              "      <td>3807</td>\n",
              "      <td>469</td>\n",
              "      <td>0</td>\n",
              "      <td>4889</td>\n",
              "    </tr>\n",
              "    <tr>\n",
              "      <th>20200311</th>\n",
              "      <td>1053</td>\n",
              "      <td>5978</td>\n",
              "      <td>563</td>\n",
              "      <td>27</td>\n",
              "      <td>7617</td>\n",
              "    </tr>\n",
              "    <tr>\n",
              "      <th>20200312</th>\n",
              "      <td>1315</td>\n",
              "      <td>7913</td>\n",
              "      <td>673</td>\n",
              "      <td>36</td>\n",
              "      <td>9836</td>\n",
              "    </tr>\n",
              "    <tr>\n",
              "      <th>20200313</th>\n",
              "      <td>1967</td>\n",
              "      <td>13513</td>\n",
              "      <td>1130</td>\n",
              "      <td>39</td>\n",
              "      <td>16565</td>\n",
              "    </tr>\n",
              "    <tr>\n",
              "      <th>20200314</th>\n",
              "      <td>2450</td>\n",
              "      <td>17107</td>\n",
              "      <td>1236</td>\n",
              "      <td>49</td>\n",
              "      <td>20795</td>\n",
              "    </tr>\n",
              "    <tr>\n",
              "      <th>20200315</th>\n",
              "      <td>3173</td>\n",
              "      <td>22548</td>\n",
              "      <td>2242</td>\n",
              "      <td>60</td>\n",
              "      <td>27963</td>\n",
              "    </tr>\n",
              "  </tbody>\n",
              "</table>\n",
              "</div>"
            ],
            "text/plain": [
              "          positive  negative  pending  death  total\n",
              "date                                               \n",
              "20200304       118       748      103      0    969\n",
              "20200305       176       971      197      0   1344\n",
              "20200306       223      1617      458      0   2298\n",
              "20200307       341      1863      602      0   2806\n",
              "20200308       417      2437      347      0   3201\n",
              "20200309       584      3500      313      0   4397\n",
              "20200310       778      3807      469      0   4889\n",
              "20200311      1053      5978      563     27   7617\n",
              "20200312      1315      7913      673     36   9836\n",
              "20200313      1967     13513     1130     39  16565\n",
              "20200314      2450     17107     1236     49  20795\n",
              "20200315      3173     22548     2242     60  27963"
            ]
          },
          "metadata": {
            "tags": []
          },
          "execution_count": 46
        }
      ]
    },
    {
      "cell_type": "code",
      "metadata": {
        "id": "916a0sCVdNRQ",
        "colab_type": "code",
        "outputId": "49863fb1-3b67-40b1-afa5-b86e0bb8a272",
        "colab": {
          "base_uri": "https://localhost:8080/",
          "height": 297
        }
      },
      "source": [
        "gbUSA.sum().loc[:, ['positive', 'negative','death','total']].plot.line()"
      ],
      "execution_count": 47,
      "outputs": [
        {
          "output_type": "execute_result",
          "data": {
            "text/plain": [
              "<matplotlib.axes._subplots.AxesSubplot at 0x7f2a83ae0fd0>"
            ]
          },
          "metadata": {
            "tags": []
          },
          "execution_count": 47
        },
        {
          "output_type": "display_data",
          "data": {
            "image/png": "[encoded data removed]",
            "text/plain": [
              "<Figure size 432x288 with 1 Axes>"
            ]
          },
          "metadata": {
            "tags": []
          }
        }
      ]
    },
    {
      "cell_type": "code",
      "metadata": {
        "id": "Ftv2uSph2y7_",
        "colab_type": "code",
        "outputId": "06e82ec6-b24e-4eff-f451-28fedd9cf3e7",
        "colab": {
          "base_uri": "https://localhost:8080/",
          "height": 297
        }
      },
      "source": [
        "dfResults = gbUSA.sum().join(dfWHO, how='left', rsuffix='_who' )\n",
        "dfResults.loc[:, ['positive', 'confirmed']].plot.line()"
      ],
      "execution_count": 48,
      "outputs": [
        {
          "output_type": "execute_result",
          "data": {
            "text/plain": [
              "<matplotlib.axes._subplots.AxesSubplot at 0x7f2a8233e630>"
            ]
          },
          "metadata": {
            "tags": []
          },
          "execution_count": 48
        },
        {
          "output_type": "display_data",
          "data": {
            "image/png": "[encoded data removed]",
            "text/plain": [
              "<Figure size 432x288 with 1 Axes>"
            ]
          },
          "metadata": {
            "tags": []
          }
        }
      ]
    },
    {
      "cell_type": "code",
      "metadata": {
        "colab_type": "code",
        "outputId": "2cfeab6f-7132-4082-9bf0-5c4d7db21669",
        "id": "55lq16z8w_Ec",
        "colab": {
          "base_uri": "https://localhost:8080/",
          "height": 438
        }
      },
      "source": [
        "gbCA.sum().sort_values(by='date')"
      ],
      "execution_count": 49,
      "outputs": [
        {
          "output_type": "execute_result",
          "data": {
            "text/html": [
              "<div>\n",
              "<style scoped>\n",
              "    .dataframe tbody tr th:only-of-type {\n",
              "        vertical-align: middle;\n",
              "    }\n",
              "\n",
              "    .dataframe tbody tr th {\n",
              "        vertical-align: top;\n",
              "    }\n",
              "\n",
              "    .dataframe thead th {\n",
              "        text-align: right;\n",
              "    }\n",
              "</style>\n",
              "<table border=\"1\" class=\"dataframe\">\n",
              "  <thead>\n",
              "    <tr style=\"text-align: right;\">\n",
              "      <th></th>\n",
              "      <th>positive</th>\n",
              "      <th>negative</th>\n",
              "      <th>pending</th>\n",
              "      <th>death</th>\n",
              "      <th>total</th>\n",
              "    </tr>\n",
              "    <tr>\n",
              "      <th>date</th>\n",
              "      <th></th>\n",
              "      <th></th>\n",
              "      <th></th>\n",
              "      <th></th>\n",
              "      <th></th>\n",
              "    </tr>\n",
              "  </thead>\n",
              "  <tbody>\n",
              "    <tr>\n",
              "      <th>20200304</th>\n",
              "      <td>53</td>\n",
              "      <td>462</td>\n",
              "      <td>0</td>\n",
              "      <td>0</td>\n",
              "      <td>515</td>\n",
              "    </tr>\n",
              "    <tr>\n",
              "      <th>20200305</th>\n",
              "      <td>53</td>\n",
              "      <td>462</td>\n",
              "      <td>0</td>\n",
              "      <td>0</td>\n",
              "      <td>515</td>\n",
              "    </tr>\n",
              "    <tr>\n",
              "      <th>20200306</th>\n",
              "      <td>60</td>\n",
              "      <td>462</td>\n",
              "      <td>0</td>\n",
              "      <td>0</td>\n",
              "      <td>522</td>\n",
              "    </tr>\n",
              "    <tr>\n",
              "      <th>20200307</th>\n",
              "      <td>69</td>\n",
              "      <td>462</td>\n",
              "      <td>0</td>\n",
              "      <td>0</td>\n",
              "      <td>531</td>\n",
              "    </tr>\n",
              "    <tr>\n",
              "      <th>20200308</th>\n",
              "      <td>88</td>\n",
              "      <td>462</td>\n",
              "      <td>0</td>\n",
              "      <td>0</td>\n",
              "      <td>550</td>\n",
              "    </tr>\n",
              "    <tr>\n",
              "      <th>20200309</th>\n",
              "      <td>114</td>\n",
              "      <td>690</td>\n",
              "      <td>0</td>\n",
              "      <td>0</td>\n",
              "      <td>804</td>\n",
              "    </tr>\n",
              "    <tr>\n",
              "      <th>20200310</th>\n",
              "      <td>133</td>\n",
              "      <td>690</td>\n",
              "      <td>0</td>\n",
              "      <td>0</td>\n",
              "      <td>823</td>\n",
              "    </tr>\n",
              "    <tr>\n",
              "      <th>20200311</th>\n",
              "      <td>157</td>\n",
              "      <td>916</td>\n",
              "      <td>0</td>\n",
              "      <td>0</td>\n",
              "      <td>1073</td>\n",
              "    </tr>\n",
              "    <tr>\n",
              "      <th>20200312</th>\n",
              "      <td>202</td>\n",
              "      <td>916</td>\n",
              "      <td>0</td>\n",
              "      <td>4</td>\n",
              "      <td>1118</td>\n",
              "    </tr>\n",
              "    <tr>\n",
              "      <th>20200313</th>\n",
              "      <td>247</td>\n",
              "      <td>916</td>\n",
              "      <td>0</td>\n",
              "      <td>4</td>\n",
              "      <td>1118</td>\n",
              "    </tr>\n",
              "    <tr>\n",
              "      <th>20200314</th>\n",
              "      <td>252</td>\n",
              "      <td>916</td>\n",
              "      <td>0</td>\n",
              "      <td>5</td>\n",
              "      <td>1168</td>\n",
              "    </tr>\n",
              "    <tr>\n",
              "      <th>20200315</th>\n",
              "      <td>293</td>\n",
              "      <td>916</td>\n",
              "      <td>0</td>\n",
              "      <td>5</td>\n",
              "      <td>1209</td>\n",
              "    </tr>\n",
              "  </tbody>\n",
              "</table>\n",
              "</div>"
            ],
            "text/plain": [
              "          positive  negative  pending  death  total\n",
              "date                                               \n",
              "20200304        53       462        0      0    515\n",
              "20200305        53       462        0      0    515\n",
              "20200306        60       462        0      0    522\n",
              "20200307        69       462        0      0    531\n",
              "20200308        88       462        0      0    550\n",
              "20200309       114       690        0      0    804\n",
              "20200310       133       690        0      0    823\n",
              "20200311       157       916        0      0   1073\n",
              "20200312       202       916        0      4   1118\n",
              "20200313       247       916        0      4   1118\n",
              "20200314       252       916        0      5   1168\n",
              "20200315       293       916        0      5   1209"
            ]
          },
          "metadata": {
            "tags": []
          },
          "execution_count": 49
        }
      ]
    },
    {
      "cell_type": "code",
      "metadata": {
        "id": "IHNp61EvdwQG",
        "colab_type": "code",
        "colab": {}
      },
      "source": [
        "jhurl = \"https://raw.githubusercontent.com/CSSEGISandData/COVID-19/master/csse_covid_19_data/csse_covid_19_daily_reports/03-14-2020.csv\"\n",
        "dfJHUData = pd.read_csv(jhurl, header=0,\n",
        "                        names=['state', 'country', 'last_update',\n",
        "                               'confirmed', 'dead', 'recovered', 'lat','lon'])"
      ],
      "execution_count": 0,
      "outputs": []
    },
    {
      "cell_type": "code",
      "metadata": {
        "id": "3WBkdfv2eLEc",
        "colab_type": "code",
        "outputId": "0fc0658c-8c0c-4fa4-f038-25870422f6ce",
        "colab": {
          "base_uri": "https://localhost:8080/",
          "height": 72
        }
      },
      "source": [
        "dfJHUData[dfJHUData.country=='US'][['confirmed', 'dead']].sum()"
      ],
      "execution_count": 51,
      "outputs": [
        {
          "output_type": "execute_result",
          "data": {
            "text/plain": [
              "confirmed    2726\n",
              "dead           54\n",
              "dtype: int64"
            ]
          },
          "metadata": {
            "tags": []
          },
          "execution_count": 51
        }
      ]
    },
    {
      "cell_type": "code",
      "metadata": {
        "id": "NUQ35Inse05H",
        "colab_type": "code",
        "outputId": "bf5511f5-9c61-42f6-d737-9238a78c9875",
        "colab": {
          "base_uri": "https://localhost:8080/",
          "height": 72
        }
      },
      "source": [
        "dfJHUData[(dfJHUData.country=='US')&(dfJHUData.state=='California')][['confirmed', 'dead']].sum()"
      ],
      "execution_count": 52,
      "outputs": [
        {
          "output_type": "execute_result",
          "data": {
            "text/plain": [
              "confirmed    340\n",
              "dead           5\n",
              "dtype: int64"
            ]
          },
          "metadata": {
            "tags": []
          },
          "execution_count": 52
        }
      ]
    },
    {
      "cell_type": "code",
      "metadata": {
        "id": "H0JVVTFGfMOW",
        "colab_type": "code",
        "colab": {}
      },
      "source": [
        ""
      ],
      "execution_count": 0,
      "outputs": []
    }
  ]
}