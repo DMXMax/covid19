{
  "nbformat": 4,
  "nbformat_minor": 0,
  "metadata": {
    "colab": {
      "name": "coviddata",
      "provenance": [],
      "toc_visible": true,
      "authorship_tag": "ABX9TyNFrRhaw7eZSC1+I0VqpD2y",
      "include_colab_link": true
    },
    "kernelspec": {
      "name": "python3",
      "display_name": "Python 3"
    }
  },
  "cells": [
    {
      "cell_type": "markdown",
      "metadata": {
        "id": "view-in-github",
        "colab_type": "text"
      },
      "source": [
        "<a href=\"https://colab.research.google.com/github/DMXMax/covid19/blob/gc_20200315/coviddata.ipynb\" target=\"_parent\"><img src=\"https://colab.research.google.com/assets/colab-badge.svg\" alt=\"Open In Colab\"/></a>"
      ]
    },
    {
      "cell_type": "code",
      "metadata": {
        "id": "jCzokJEPxFhv",
        "colab_type": "code",
        "colab": {}
      },
      "source": [
        "import numpy as np\n",
        "import pandas as pd\n",
        "import matplotlib.pyplot as plt\n",
        "import requests,json\n",
        "import datetime\n"
      ],
      "execution_count": 0,
      "outputs": []
    },
    {
      "cell_type": "code",
      "metadata": {
        "id": "zNKPT5Z8BXPT",
        "colab_type": "code",
        "colab": {}
      },
      "source": [
        "covidtrackingurl = \"https://covidtracking.com/api/states/daily\"\n",
        "response = requests.get(covidtrackingurl)\n",
        "dfCovidtracking = pd.DataFrame(response.json())\n",
        "dfCovidtracking.fillna(0, inplace=True)\n",
        "dfCovidtracking.negative = dfCovidtracking.negative.astype('int64')\n",
        "dfCovidtracking.positive = dfCovidtracking.positive.astype('int64')\n",
        "dfCovidtracking.pending = dfCovidtracking.pending.astype('int64')\n",
        "dfCovidtracking.total = dfCovidtracking.total.astype('int64')\n",
        "dfCovidtracking.death = dfCovidtracking.death.astype('int64')\n",
        "\n",
        "dfCovidtracking.date = dfCovidtracking.date.transform(lambda x: pd.to_datetime(datetime.date(x//10000, x%10000//100, x%100\n",
        "                                          )))\n"
      ],
      "execution_count": 0,
      "outputs": []
    },
    {
      "cell_type": "code",
      "metadata": {
        "id": "8_Il5iuohC8_",
        "colab_type": "code",
        "colab": {}
      },
      "source": [
        "dfWHO = pd.read_csv(\"https://raw.githubusercontent.com/DMXMax/covid19/master/who/who_data.tsv\",\n",
        "                     sep='\\t', index_col='Date')"
      ],
      "execution_count": 0,
      "outputs": []
    },
    {
      "cell_type": "code",
      "metadata": {
        "id": "IHNp61EvdwQG",
        "colab_type": "code",
        "colab": {}
      },
      "source": [
        "jhurl = \"https://raw.githubusercontent.com/CSSEGISandData/COVID-19/master/\"+\\\n",
        "\"csse_covid_19_data/csse_covid_19_daily_reports/04-21-2020.csv\"\n",
        "\n",
        "#https://raw.githubusercontent.com/CSSEGISandData/COVID-19/master/\n",
        "#csse_covid_19_data/csse_covid_19_daily_reports/04-01-2020.csv\n",
        "dfJHUData = pd.read_csv(jhurl, header=0,\n",
        "                        names=['FIPS', 'city','state', 'country', 'last_update',\n",
        "                               'lat', 'lon','confirmed', 'dead', 'recovered','active', 'key'])"
      ],
      "execution_count": 0,
      "outputs": []
    },
    {
      "cell_type": "code",
      "metadata": {
        "id": "hrPlWJJCVtBR",
        "colab_type": "code",
        "colab": {}
      },
      "source": [
        "dfWHO = dfWHO.rename(columns={\"Confirmed\": \"confirmed\", \"Deaths\": \"who_deaths\"})\n",
        "dfWHO.index.names=['date']\n"
      ],
      "execution_count": 0,
      "outputs": []
    },
    {
      "cell_type": "code",
      "metadata": {
        "colab_type": "code",
        "outputId": "3bfa4c61-1db0-4b3f-c6d4-34738c0fdbc2",
        "id": "idyqfNddlLPv",
        "colab": {
          "base_uri": "https://localhost:8080/",
          "height": 348
        }
      },
      "source": [
        "dfCovidtracking.loc[dfCovidtracking.date==dfCovidtracking.date.max(),\\\n",
        "  ['state', 'positive', 'negative', 'totalTestResults']].sort_values(by='positive', ascending=False).head(10)"
      ],
      "execution_count": 6,
      "outputs": [
        {
          "output_type": "execute_result",
          "data": {
            "text/html": [
              "<div>\n",
              "<style scoped>\n",
              "    .dataframe tbody tr th:only-of-type {\n",
              "        vertical-align: middle;\n",
              "    }\n",
              "\n",
              "    .dataframe tbody tr th {\n",
              "        vertical-align: top;\n",
              "    }\n",
              "\n",
              "    .dataframe thead th {\n",
              "        text-align: right;\n",
              "    }\n",
              "</style>\n",
              "<table border=\"1\" class=\"dataframe\">\n",
              "  <thead>\n",
              "    <tr style=\"text-align: right;\">\n",
              "      <th></th>\n",
              "      <th>state</th>\n",
              "      <th>positive</th>\n",
              "      <th>negative</th>\n",
              "      <th>totalTestResults</th>\n",
              "    </tr>\n",
              "  </thead>\n",
              "  <tbody>\n",
              "    <tr>\n",
              "      <th>37</th>\n",
              "      <td>NY</td>\n",
              "      <td>251690</td>\n",
              "      <td>397635</td>\n",
              "      <td>649325.0</td>\n",
              "    </tr>\n",
              "    <tr>\n",
              "      <th>34</th>\n",
              "      <td>NJ</td>\n",
              "      <td>92387</td>\n",
              "      <td>92439</td>\n",
              "      <td>184826.0</td>\n",
              "    </tr>\n",
              "    <tr>\n",
              "      <th>21</th>\n",
              "      <td>MA</td>\n",
              "      <td>41199</td>\n",
              "      <td>134173</td>\n",
              "      <td>175372.0</td>\n",
              "    </tr>\n",
              "    <tr>\n",
              "      <th>41</th>\n",
              "      <td>PA</td>\n",
              "      <td>34528</td>\n",
              "      <td>132323</td>\n",
              "      <td>166851.0</td>\n",
              "    </tr>\n",
              "    <tr>\n",
              "      <th>5</th>\n",
              "      <td>CA</td>\n",
              "      <td>33261</td>\n",
              "      <td>266839</td>\n",
              "      <td>300100.0</td>\n",
              "    </tr>\n",
              "    <tr>\n",
              "      <th>16</th>\n",
              "      <td>IL</td>\n",
              "      <td>33059</td>\n",
              "      <td>121938</td>\n",
              "      <td>154997.0</td>\n",
              "    </tr>\n",
              "    <tr>\n",
              "      <th>24</th>\n",
              "      <td>MI</td>\n",
              "      <td>32967</td>\n",
              "      <td>84259</td>\n",
              "      <td>117226.0</td>\n",
              "    </tr>\n",
              "    <tr>\n",
              "      <th>10</th>\n",
              "      <td>FL</td>\n",
              "      <td>27495</td>\n",
              "      <td>249564</td>\n",
              "      <td>277059.0</td>\n",
              "    </tr>\n",
              "    <tr>\n",
              "      <th>20</th>\n",
              "      <td>LA</td>\n",
              "      <td>24854</td>\n",
              "      <td>117576</td>\n",
              "      <td>142430.0</td>\n",
              "    </tr>\n",
              "    <tr>\n",
              "      <th>7</th>\n",
              "      <td>CT</td>\n",
              "      <td>20360</td>\n",
              "      <td>43832</td>\n",
              "      <td>64192.0</td>\n",
              "    </tr>\n",
              "  </tbody>\n",
              "</table>\n",
              "</div>"
            ],
            "text/plain": [
              "   state  positive  negative  totalTestResults\n",
              "37    NY    251690    397635          649325.0\n",
              "34    NJ     92387     92439          184826.0\n",
              "21    MA     41199    134173          175372.0\n",
              "41    PA     34528    132323          166851.0\n",
              "5     CA     33261    266839          300100.0\n",
              "16    IL     33059    121938          154997.0\n",
              "24    MI     32967     84259          117226.0\n",
              "10    FL     27495    249564          277059.0\n",
              "20    LA     24854    117576          142430.0\n",
              "7     CT     20360     43832           64192.0"
            ]
          },
          "metadata": {
            "tags": []
          },
          "execution_count": 6
        }
      ]
    },
    {
      "cell_type": "code",
      "metadata": {
        "id": "rFOHyOwb4bcm",
        "colab_type": "code",
        "colab": {}
      },
      "source": [
        "gbUSA = dfCovidtracking.groupby(['date'])\n",
        "gbCA = dfCovidtracking[dfCovidtracking.state=='CA'].groupby(['date'])\n",
        "\n",
        "dfUSAPos = gbUSA[['positive', 'totalTestResults', 'death', 'deathIncrease']].sum().reset_index().copy()\n",
        "dfCAPos = gbCA[['positive', 'totalTestResults', 'death', 'deathIncrease']].sum().reset_index().copy()\n",
        "\n",
        "#This will calculate the percentage each day is of the total. In a flattening, this will be more even\n",
        "# In a high growth situation, you'll higher percentages at the tail. \n",
        "dfUSAPos['PCT']= dfUSAPos.positive/dfUSAPos.max().positive\n",
        "dfCAPos['PCT']=dfCAPos.positive/dfCAPos.max().positive"
      ],
      "execution_count": 0,
      "outputs": []
    },
    {
      "cell_type": "code",
      "metadata": {
        "colab_type": "code",
        "outputId": "8fea4416-44df-49e6-8acf-f6680b2efdbe",
        "id": "BHKhtPRozVFF",
        "colab": {
          "base_uri": "https://localhost:8080/",
          "height": 288
        }
      },
      "source": [
        "dfUSAPos[-8:]"
      ],
      "execution_count": 43,
      "outputs": [
        {
          "output_type": "execute_result",
          "data": {
            "text/html": [
              "<div>\n",
              "<style scoped>\n",
              "    .dataframe tbody tr th:only-of-type {\n",
              "        vertical-align: middle;\n",
              "    }\n",
              "\n",
              "    .dataframe tbody tr th {\n",
              "        vertical-align: top;\n",
              "    }\n",
              "\n",
              "    .dataframe thead th {\n",
              "        text-align: right;\n",
              "    }\n",
              "</style>\n",
              "<table border=\"1\" class=\"dataframe\">\n",
              "  <thead>\n",
              "    <tr style=\"text-align: right;\">\n",
              "      <th></th>\n",
              "      <th>date</th>\n",
              "      <th>positive</th>\n",
              "      <th>totalTestResults</th>\n",
              "      <th>death</th>\n",
              "      <th>deathIncrease</th>\n",
              "      <th>PCT</th>\n",
              "    </tr>\n",
              "  </thead>\n",
              "  <tbody>\n",
              "    <tr>\n",
              "      <th>46</th>\n",
              "      <td>2020-04-14</td>\n",
              "      <td>602473</td>\n",
              "      <td>3081620.0</td>\n",
              "      <td>25668</td>\n",
              "      <td>2299.0</td>\n",
              "      <td>0.753358</td>\n",
              "    </tr>\n",
              "    <tr>\n",
              "      <th>47</th>\n",
              "      <td>2020-04-15</td>\n",
              "      <td>632656</td>\n",
              "      <td>3242755.0</td>\n",
              "      <td>28160</td>\n",
              "      <td>2492.0</td>\n",
              "      <td>0.791100</td>\n",
              "    </tr>\n",
              "    <tr>\n",
              "      <th>48</th>\n",
              "      <td>2020-04-16</td>\n",
              "      <td>663260</td>\n",
              "      <td>3401064.0</td>\n",
              "      <td>30296</td>\n",
              "      <td>2136.0</td>\n",
              "      <td>0.829368</td>\n",
              "    </tr>\n",
              "    <tr>\n",
              "      <th>49</th>\n",
              "      <td>2020-04-17</td>\n",
              "      <td>694520</td>\n",
              "      <td>3557493.0</td>\n",
              "      <td>32365</td>\n",
              "      <td>2069.0</td>\n",
              "      <td>0.868457</td>\n",
              "    </tr>\n",
              "    <tr>\n",
              "      <th>50</th>\n",
              "      <td>2020-04-18</td>\n",
              "      <td>722182</td>\n",
              "      <td>3698534.0</td>\n",
              "      <td>34139</td>\n",
              "      <td>1774.0</td>\n",
              "      <td>0.903047</td>\n",
              "    </tr>\n",
              "    <tr>\n",
              "      <th>51</th>\n",
              "      <td>2020-04-19</td>\n",
              "      <td>749203</td>\n",
              "      <td>3865864.0</td>\n",
              "      <td>35793</td>\n",
              "      <td>1654.0</td>\n",
              "      <td>0.936835</td>\n",
              "    </tr>\n",
              "    <tr>\n",
              "      <th>52</th>\n",
              "      <td>2020-04-20</td>\n",
              "      <td>772524</td>\n",
              "      <td>4003551.0</td>\n",
              "      <td>37321</td>\n",
              "      <td>1528.0</td>\n",
              "      <td>0.965997</td>\n",
              "    </tr>\n",
              "    <tr>\n",
              "      <th>53</th>\n",
              "      <td>2020-04-21</td>\n",
              "      <td>799717</td>\n",
              "      <td>4155178.0</td>\n",
              "      <td>39995</td>\n",
              "      <td>2674.0</td>\n",
              "      <td>1.000000</td>\n",
              "    </tr>\n",
              "  </tbody>\n",
              "</table>\n",
              "</div>"
            ],
            "text/plain": [
              "         date  positive  totalTestResults  death  deathIncrease       PCT\n",
              "46 2020-04-14    602473         3081620.0  25668         2299.0  0.753358\n",
              "47 2020-04-15    632656         3242755.0  28160         2492.0  0.791100\n",
              "48 2020-04-16    663260         3401064.0  30296         2136.0  0.829368\n",
              "49 2020-04-17    694520         3557493.0  32365         2069.0  0.868457\n",
              "50 2020-04-18    722182         3698534.0  34139         1774.0  0.903047\n",
              "51 2020-04-19    749203         3865864.0  35793         1654.0  0.936835\n",
              "52 2020-04-20    772524         4003551.0  37321         1528.0  0.965997\n",
              "53 2020-04-21    799717         4155178.0  39995         2674.0  1.000000"
            ]
          },
          "metadata": {
            "tags": []
          },
          "execution_count": 43
        }
      ]
    },
    {
      "cell_type": "code",
      "metadata": {
        "colab_type": "code",
        "outputId": "a86db1ac-f86f-4b22-ffec-36cd25eb2650",
        "id": "EI4hKgZ5zUd8",
        "colab": {
          "base_uri": "https://localhost:8080/",
          "height": 258
        }
      },
      "source": [
        "dfCAPos[-7:]"
      ],
      "execution_count": 9,
      "outputs": [
        {
          "output_type": "execute_result",
          "data": {
            "text/html": [
              "<div>\n",
              "<style scoped>\n",
              "    .dataframe tbody tr th:only-of-type {\n",
              "        vertical-align: middle;\n",
              "    }\n",
              "\n",
              "    .dataframe tbody tr th {\n",
              "        vertical-align: top;\n",
              "    }\n",
              "\n",
              "    .dataframe thead th {\n",
              "        text-align: right;\n",
              "    }\n",
              "</style>\n",
              "<table border=\"1\" class=\"dataframe\">\n",
              "  <thead>\n",
              "    <tr style=\"text-align: right;\">\n",
              "      <th></th>\n",
              "      <th>date</th>\n",
              "      <th>positive</th>\n",
              "      <th>totalTestResults</th>\n",
              "      <th>death</th>\n",
              "      <th>deathIncrease</th>\n",
              "      <th>PCT</th>\n",
              "    </tr>\n",
              "  </thead>\n",
              "  <tbody>\n",
              "    <tr>\n",
              "      <th>42</th>\n",
              "      <td>2020-04-15</td>\n",
              "      <td>24424</td>\n",
              "      <td>216486.0</td>\n",
              "      <td>821</td>\n",
              "      <td>63.0</td>\n",
              "      <td>0.734313</td>\n",
              "    </tr>\n",
              "    <tr>\n",
              "      <th>43</th>\n",
              "      <td>2020-04-16</td>\n",
              "      <td>26182</td>\n",
              "      <td>246400.0</td>\n",
              "      <td>890</td>\n",
              "      <td>69.0</td>\n",
              "      <td>0.787168</td>\n",
              "    </tr>\n",
              "    <tr>\n",
              "      <th>44</th>\n",
              "      <td>2020-04-17</td>\n",
              "      <td>27528</td>\n",
              "      <td>251614.0</td>\n",
              "      <td>985</td>\n",
              "      <td>95.0</td>\n",
              "      <td>0.827636</td>\n",
              "    </tr>\n",
              "    <tr>\n",
              "      <th>45</th>\n",
              "      <td>2020-04-18</td>\n",
              "      <td>28963</td>\n",
              "      <td>259666.0</td>\n",
              "      <td>1072</td>\n",
              "      <td>87.0</td>\n",
              "      <td>0.870780</td>\n",
              "    </tr>\n",
              "    <tr>\n",
              "      <th>46</th>\n",
              "      <td>2020-04-19</td>\n",
              "      <td>30333</td>\n",
              "      <td>280900.0</td>\n",
              "      <td>1166</td>\n",
              "      <td>94.0</td>\n",
              "      <td>0.911969</td>\n",
              "    </tr>\n",
              "    <tr>\n",
              "      <th>47</th>\n",
              "      <td>2020-04-20</td>\n",
              "      <td>30978</td>\n",
              "      <td>290500.0</td>\n",
              "      <td>1208</td>\n",
              "      <td>42.0</td>\n",
              "      <td>0.931361</td>\n",
              "    </tr>\n",
              "    <tr>\n",
              "      <th>48</th>\n",
              "      <td>2020-04-21</td>\n",
              "      <td>33261</td>\n",
              "      <td>300100.0</td>\n",
              "      <td>1268</td>\n",
              "      <td>60.0</td>\n",
              "      <td>1.000000</td>\n",
              "    </tr>\n",
              "  </tbody>\n",
              "</table>\n",
              "</div>"
            ],
            "text/plain": [
              "         date  positive  totalTestResults  death  deathIncrease       PCT\n",
              "42 2020-04-15     24424          216486.0    821           63.0  0.734313\n",
              "43 2020-04-16     26182          246400.0    890           69.0  0.787168\n",
              "44 2020-04-17     27528          251614.0    985           95.0  0.827636\n",
              "45 2020-04-18     28963          259666.0   1072           87.0  0.870780\n",
              "46 2020-04-19     30333          280900.0   1166           94.0  0.911969\n",
              "47 2020-04-20     30978          290500.0   1208           42.0  0.931361\n",
              "48 2020-04-21     33261          300100.0   1268           60.0  1.000000"
            ]
          },
          "metadata": {
            "tags": []
          },
          "execution_count": 9
        }
      ]
    },
    {
      "cell_type": "code",
      "metadata": {
        "id": "BTvuZKJN0RoI",
        "colab_type": "code",
        "outputId": "85466fe4-c3db-4ea5-819d-9b679476733d",
        "colab": {
          "base_uri": "https://localhost:8080/",
          "height": 335
        }
      },
      "source": [
        "gbUSA.sum()[-5:]"
      ],
      "execution_count": 10,
      "outputs": [
        {
          "output_type": "execute_result",
          "data": {
            "text/html": [
              "<div>\n",
              "<style scoped>\n",
              "    .dataframe tbody tr th:only-of-type {\n",
              "        vertical-align: middle;\n",
              "    }\n",
              "\n",
              "    .dataframe tbody tr th {\n",
              "        vertical-align: top;\n",
              "    }\n",
              "\n",
              "    .dataframe thead th {\n",
              "        text-align: right;\n",
              "    }\n",
              "</style>\n",
              "<table border=\"1\" class=\"dataframe\">\n",
              "  <thead>\n",
              "    <tr style=\"text-align: right;\">\n",
              "      <th></th>\n",
              "      <th>positive</th>\n",
              "      <th>negative</th>\n",
              "      <th>pending</th>\n",
              "      <th>hospitalizedCurrently</th>\n",
              "      <th>hospitalizedCumulative</th>\n",
              "      <th>inIcuCurrently</th>\n",
              "      <th>inIcuCumulative</th>\n",
              "      <th>onVentilatorCurrently</th>\n",
              "      <th>onVentilatorCumulative</th>\n",
              "      <th>recovered</th>\n",
              "      <th>death</th>\n",
              "      <th>hospitalized</th>\n",
              "      <th>total</th>\n",
              "      <th>totalTestResults</th>\n",
              "      <th>posNeg</th>\n",
              "      <th>deathIncrease</th>\n",
              "      <th>hospitalizedIncrease</th>\n",
              "      <th>negativeIncrease</th>\n",
              "      <th>positiveIncrease</th>\n",
              "      <th>totalTestResultsIncrease</th>\n",
              "    </tr>\n",
              "    <tr>\n",
              "      <th>date</th>\n",
              "      <th></th>\n",
              "      <th></th>\n",
              "      <th></th>\n",
              "      <th></th>\n",
              "      <th></th>\n",
              "      <th></th>\n",
              "      <th></th>\n",
              "      <th></th>\n",
              "      <th></th>\n",
              "      <th></th>\n",
              "      <th></th>\n",
              "      <th></th>\n",
              "      <th></th>\n",
              "      <th></th>\n",
              "      <th></th>\n",
              "      <th></th>\n",
              "      <th></th>\n",
              "      <th></th>\n",
              "      <th></th>\n",
              "      <th></th>\n",
              "    </tr>\n",
              "  </thead>\n",
              "  <tbody>\n",
              "    <tr>\n",
              "      <th>2020-04-17</th>\n",
              "      <td>694520</td>\n",
              "      <td>2862973</td>\n",
              "      <td>10889</td>\n",
              "      <td>57858.0</td>\n",
              "      <td>77955.0</td>\n",
              "      <td>14910.0</td>\n",
              "      <td>2052.0</td>\n",
              "      <td>6096.0</td>\n",
              "      <td>148.0</td>\n",
              "      <td>44139.0</td>\n",
              "      <td>32365</td>\n",
              "      <td>77955.0</td>\n",
              "      <td>3568382</td>\n",
              "      <td>3557493.0</td>\n",
              "      <td>3557493.0</td>\n",
              "      <td>2069.0</td>\n",
              "      <td>3250.0</td>\n",
              "      <td>125169.0</td>\n",
              "      <td>31260.0</td>\n",
              "      <td>156429.0</td>\n",
              "    </tr>\n",
              "    <tr>\n",
              "      <th>2020-04-18</th>\n",
              "      <td>722182</td>\n",
              "      <td>2976352</td>\n",
              "      <td>9906</td>\n",
              "      <td>56575.0</td>\n",
              "      <td>78839.0</td>\n",
              "      <td>14788.0</td>\n",
              "      <td>2096.0</td>\n",
              "      <td>5729.0</td>\n",
              "      <td>205.0</td>\n",
              "      <td>51390.0</td>\n",
              "      <td>34139</td>\n",
              "      <td>78839.0</td>\n",
              "      <td>3708440</td>\n",
              "      <td>3698534.0</td>\n",
              "      <td>3698534.0</td>\n",
              "      <td>1774.0</td>\n",
              "      <td>3224.0</td>\n",
              "      <td>113379.0</td>\n",
              "      <td>27662.0</td>\n",
              "      <td>141041.0</td>\n",
              "    </tr>\n",
              "    <tr>\n",
              "      <th>2020-04-19</th>\n",
              "      <td>749203</td>\n",
              "      <td>3116661</td>\n",
              "      <td>11324</td>\n",
              "      <td>55565.0</td>\n",
              "      <td>80881.0</td>\n",
              "      <td>14548.0</td>\n",
              "      <td>2145.0</td>\n",
              "      <td>5603.0</td>\n",
              "      <td>214.0</td>\n",
              "      <td>53630.0</td>\n",
              "      <td>35793</td>\n",
              "      <td>80881.0</td>\n",
              "      <td>3877188</td>\n",
              "      <td>3865864.0</td>\n",
              "      <td>3865864.0</td>\n",
              "      <td>1654.0</td>\n",
              "      <td>2042.0</td>\n",
              "      <td>140309.0</td>\n",
              "      <td>27021.0</td>\n",
              "      <td>167330.0</td>\n",
              "    </tr>\n",
              "    <tr>\n",
              "      <th>2020-04-20</th>\n",
              "      <td>772524</td>\n",
              "      <td>3231027</td>\n",
              "      <td>4037</td>\n",
              "      <td>55509.0</td>\n",
              "      <td>82879.0</td>\n",
              "      <td>14691.0</td>\n",
              "      <td>2193.0</td>\n",
              "      <td>5567.0</td>\n",
              "      <td>214.0</td>\n",
              "      <td>54438.0</td>\n",
              "      <td>37321</td>\n",
              "      <td>82879.0</td>\n",
              "      <td>4007588</td>\n",
              "      <td>4003551.0</td>\n",
              "      <td>4003551.0</td>\n",
              "      <td>1528.0</td>\n",
              "      <td>1998.0</td>\n",
              "      <td>114366.0</td>\n",
              "      <td>23321.0</td>\n",
              "      <td>137687.0</td>\n",
              "    </tr>\n",
              "    <tr>\n",
              "      <th>2020-04-21</th>\n",
              "      <td>799717</td>\n",
              "      <td>3355461</td>\n",
              "      <td>3956</td>\n",
              "      <td>58468.0</td>\n",
              "      <td>84292.0</td>\n",
              "      <td>15228.0</td>\n",
              "      <td>2315.0</td>\n",
              "      <td>5514.0</td>\n",
              "      <td>214.0</td>\n",
              "      <td>58117.0</td>\n",
              "      <td>39995</td>\n",
              "      <td>84292.0</td>\n",
              "      <td>4159134</td>\n",
              "      <td>4155178.0</td>\n",
              "      <td>4155178.0</td>\n",
              "      <td>2674.0</td>\n",
              "      <td>1413.0</td>\n",
              "      <td>124434.0</td>\n",
              "      <td>27193.0</td>\n",
              "      <td>151627.0</td>\n",
              "    </tr>\n",
              "  </tbody>\n",
              "</table>\n",
              "</div>"
            ],
            "text/plain": [
              "            positive  negative  ...  positiveIncrease  totalTestResultsIncrease\n",
              "date                            ...                                            \n",
              "2020-04-17    694520   2862973  ...           31260.0                  156429.0\n",
              "2020-04-18    722182   2976352  ...           27662.0                  141041.0\n",
              "2020-04-19    749203   3116661  ...           27021.0                  167330.0\n",
              "2020-04-20    772524   3231027  ...           23321.0                  137687.0\n",
              "2020-04-21    799717   3355461  ...           27193.0                  151627.0\n",
              "\n",
              "[5 rows x 20 columns]"
            ]
          },
          "metadata": {
            "tags": []
          },
          "execution_count": 10
        }
      ]
    },
    {
      "cell_type": "code",
      "metadata": {
        "id": "bjpo-qlGoA7A",
        "colab_type": "code",
        "outputId": "213f6f88-51aa-4195-b611-57611df66abe",
        "colab": {
          "base_uri": "https://localhost:8080/",
          "height": 335
        }
      },
      "source": [
        "gbCA.sum()[-5:]"
      ],
      "execution_count": 11,
      "outputs": [
        {
          "output_type": "execute_result",
          "data": {
            "text/html": [
              "<div>\n",
              "<style scoped>\n",
              "    .dataframe tbody tr th:only-of-type {\n",
              "        vertical-align: middle;\n",
              "    }\n",
              "\n",
              "    .dataframe tbody tr th {\n",
              "        vertical-align: top;\n",
              "    }\n",
              "\n",
              "    .dataframe thead th {\n",
              "        text-align: right;\n",
              "    }\n",
              "</style>\n",
              "<table border=\"1\" class=\"dataframe\">\n",
              "  <thead>\n",
              "    <tr style=\"text-align: right;\">\n",
              "      <th></th>\n",
              "      <th>positive</th>\n",
              "      <th>negative</th>\n",
              "      <th>pending</th>\n",
              "      <th>hospitalizedCurrently</th>\n",
              "      <th>hospitalizedCumulative</th>\n",
              "      <th>inIcuCurrently</th>\n",
              "      <th>inIcuCumulative</th>\n",
              "      <th>onVentilatorCurrently</th>\n",
              "      <th>onVentilatorCumulative</th>\n",
              "      <th>recovered</th>\n",
              "      <th>death</th>\n",
              "      <th>hospitalized</th>\n",
              "      <th>total</th>\n",
              "      <th>totalTestResults</th>\n",
              "      <th>posNeg</th>\n",
              "      <th>deathIncrease</th>\n",
              "      <th>hospitalizedIncrease</th>\n",
              "      <th>negativeIncrease</th>\n",
              "      <th>positiveIncrease</th>\n",
              "      <th>totalTestResultsIncrease</th>\n",
              "    </tr>\n",
              "    <tr>\n",
              "      <th>date</th>\n",
              "      <th></th>\n",
              "      <th></th>\n",
              "      <th></th>\n",
              "      <th></th>\n",
              "      <th></th>\n",
              "      <th></th>\n",
              "      <th></th>\n",
              "      <th></th>\n",
              "      <th></th>\n",
              "      <th></th>\n",
              "      <th></th>\n",
              "      <th></th>\n",
              "      <th></th>\n",
              "      <th></th>\n",
              "      <th></th>\n",
              "      <th></th>\n",
              "      <th></th>\n",
              "      <th></th>\n",
              "      <th></th>\n",
              "      <th></th>\n",
              "    </tr>\n",
              "  </thead>\n",
              "  <tbody>\n",
              "    <tr>\n",
              "      <th>2020-04-17</th>\n",
              "      <td>27528</td>\n",
              "      <td>224086</td>\n",
              "      <td>7200</td>\n",
              "      <td>4892.0</td>\n",
              "      <td>0.0</td>\n",
              "      <td>1484.0</td>\n",
              "      <td>0.0</td>\n",
              "      <td>0.0</td>\n",
              "      <td>0.0</td>\n",
              "      <td>0.0</td>\n",
              "      <td>985</td>\n",
              "      <td>0.0</td>\n",
              "      <td>258814</td>\n",
              "      <td>251614.0</td>\n",
              "      <td>251614.0</td>\n",
              "      <td>95.0</td>\n",
              "      <td>0.0</td>\n",
              "      <td>3868.0</td>\n",
              "      <td>1346.0</td>\n",
              "      <td>5214.0</td>\n",
              "    </tr>\n",
              "    <tr>\n",
              "      <th>2020-04-18</th>\n",
              "      <td>28963</td>\n",
              "      <td>230703</td>\n",
              "      <td>7200</td>\n",
              "      <td>4936.0</td>\n",
              "      <td>0.0</td>\n",
              "      <td>1490.0</td>\n",
              "      <td>0.0</td>\n",
              "      <td>0.0</td>\n",
              "      <td>0.0</td>\n",
              "      <td>0.0</td>\n",
              "      <td>1072</td>\n",
              "      <td>0.0</td>\n",
              "      <td>266866</td>\n",
              "      <td>259666.0</td>\n",
              "      <td>259666.0</td>\n",
              "      <td>87.0</td>\n",
              "      <td>0.0</td>\n",
              "      <td>6617.0</td>\n",
              "      <td>1435.0</td>\n",
              "      <td>8052.0</td>\n",
              "    </tr>\n",
              "    <tr>\n",
              "      <th>2020-04-19</th>\n",
              "      <td>30333</td>\n",
              "      <td>250567</td>\n",
              "      <td>7200</td>\n",
              "      <td>4731.0</td>\n",
              "      <td>0.0</td>\n",
              "      <td>1457.0</td>\n",
              "      <td>0.0</td>\n",
              "      <td>0.0</td>\n",
              "      <td>0.0</td>\n",
              "      <td>0.0</td>\n",
              "      <td>1166</td>\n",
              "      <td>0.0</td>\n",
              "      <td>288100</td>\n",
              "      <td>280900.0</td>\n",
              "      <td>280900.0</td>\n",
              "      <td>94.0</td>\n",
              "      <td>0.0</td>\n",
              "      <td>19864.0</td>\n",
              "      <td>1370.0</td>\n",
              "      <td>21234.0</td>\n",
              "    </tr>\n",
              "    <tr>\n",
              "      <th>2020-04-20</th>\n",
              "      <td>30978</td>\n",
              "      <td>259522</td>\n",
              "      <td>0</td>\n",
              "      <td>4674.0</td>\n",
              "      <td>0.0</td>\n",
              "      <td>1480.0</td>\n",
              "      <td>0.0</td>\n",
              "      <td>0.0</td>\n",
              "      <td>0.0</td>\n",
              "      <td>0.0</td>\n",
              "      <td>1208</td>\n",
              "      <td>0.0</td>\n",
              "      <td>290500</td>\n",
              "      <td>290500.0</td>\n",
              "      <td>290500.0</td>\n",
              "      <td>42.0</td>\n",
              "      <td>0.0</td>\n",
              "      <td>8955.0</td>\n",
              "      <td>645.0</td>\n",
              "      <td>9600.0</td>\n",
              "    </tr>\n",
              "    <tr>\n",
              "      <th>2020-04-21</th>\n",
              "      <td>33261</td>\n",
              "      <td>266839</td>\n",
              "      <td>0</td>\n",
              "      <td>4886.0</td>\n",
              "      <td>0.0</td>\n",
              "      <td>1502.0</td>\n",
              "      <td>0.0</td>\n",
              "      <td>0.0</td>\n",
              "      <td>0.0</td>\n",
              "      <td>0.0</td>\n",
              "      <td>1268</td>\n",
              "      <td>0.0</td>\n",
              "      <td>300100</td>\n",
              "      <td>300100.0</td>\n",
              "      <td>300100.0</td>\n",
              "      <td>60.0</td>\n",
              "      <td>0.0</td>\n",
              "      <td>7317.0</td>\n",
              "      <td>2283.0</td>\n",
              "      <td>9600.0</td>\n",
              "    </tr>\n",
              "  </tbody>\n",
              "</table>\n",
              "</div>"
            ],
            "text/plain": [
              "            positive  negative  ...  positiveIncrease  totalTestResultsIncrease\n",
              "date                            ...                                            \n",
              "2020-04-17     27528    224086  ...            1346.0                    5214.0\n",
              "2020-04-18     28963    230703  ...            1435.0                    8052.0\n",
              "2020-04-19     30333    250567  ...            1370.0                   21234.0\n",
              "2020-04-20     30978    259522  ...             645.0                    9600.0\n",
              "2020-04-21     33261    266839  ...            2283.0                    9600.0\n",
              "\n",
              "[5 rows x 20 columns]"
            ]
          },
          "metadata": {
            "tags": []
          },
          "execution_count": 11
        }
      ]
    },
    {
      "cell_type": "code",
      "metadata": {
        "id": "916a0sCVdNRQ",
        "colab_type": "code",
        "outputId": "c7cea62c-7afe-45dd-9528-0476d4d82932",
        "colab": {
          "base_uri": "https://localhost:8080/",
          "height": 325
        }
      },
      "source": [
        "x=gbUSA.sum().loc[:, ['positive', 'negative','death','total']].plot.line()"
      ],
      "execution_count": 12,
      "outputs": [
        {
          "output_type": "display_data",
          "data": {
            "image/png": "[encoded data removed]",
            "text/plain": [
              "<Figure size 432x288 with 1 Axes>"
            ]
          },
          "metadata": {
            "tags": [],
            "needs_background": "light"
          }
        }
      ]
    },
    {
      "cell_type": "code",
      "metadata": {
        "id": "WewkySHXaLc4",
        "colab_type": "code",
        "outputId": "e970ad29-3a3c-4929-a2c1-f80da2b5d328",
        "colab": {
          "base_uri": "https://localhost:8080/",
          "height": 498
        }
      },
      "source": [
        "dfWHO[-14:]"
      ],
      "execution_count": 13,
      "outputs": [
        {
          "output_type": "execute_result",
          "data": {
            "text/html": [
              "<div>\n",
              "<style scoped>\n",
              "    .dataframe tbody tr th:only-of-type {\n",
              "        vertical-align: middle;\n",
              "    }\n",
              "\n",
              "    .dataframe tbody tr th {\n",
              "        vertical-align: top;\n",
              "    }\n",
              "\n",
              "    .dataframe thead th {\n",
              "        text-align: right;\n",
              "    }\n",
              "</style>\n",
              "<table border=\"1\" class=\"dataframe\">\n",
              "  <thead>\n",
              "    <tr style=\"text-align: right;\">\n",
              "      <th></th>\n",
              "      <th>confirmed</th>\n",
              "      <th>who_deaths</th>\n",
              "    </tr>\n",
              "    <tr>\n",
              "      <th>date</th>\n",
              "      <th></th>\n",
              "      <th></th>\n",
              "    </tr>\n",
              "  </thead>\n",
              "  <tbody>\n",
              "    <tr>\n",
              "      <th>2020-04-08</th>\n",
              "      <td>363321</td>\n",
              "      <td>10845</td>\n",
              "    </tr>\n",
              "    <tr>\n",
              "      <th>2020-04-09</th>\n",
              "      <td>395939</td>\n",
              "      <td>12740</td>\n",
              "    </tr>\n",
              "    <tr>\n",
              "      <th>2020-04-10</th>\n",
              "      <td>425889</td>\n",
              "      <td>14665</td>\n",
              "    </tr>\n",
              "    <tr>\n",
              "      <th>2020-04-11</th>\n",
              "      <td>461275</td>\n",
              "      <td>16596</td>\n",
              "    </tr>\n",
              "    <tr>\n",
              "      <th>2020-04-12</th>\n",
              "      <td>492881</td>\n",
              "      <td>18516</td>\n",
              "    </tr>\n",
              "    <tr>\n",
              "      <th>2020-04-13</th>\n",
              "      <td>524514</td>\n",
              "      <td>20444</td>\n",
              "    </tr>\n",
              "    <tr>\n",
              "      <th>2020-04-14</th>\n",
              "      <td>553822</td>\n",
              "      <td>21972</td>\n",
              "    </tr>\n",
              "    <tr>\n",
              "      <th>2020-04-15</th>\n",
              "      <td>578268</td>\n",
              "      <td>23476</td>\n",
              "    </tr>\n",
              "    <tr>\n",
              "      <th>2020-04-16</th>\n",
              "      <td>604070</td>\n",
              "      <td>25871</td>\n",
              "    </tr>\n",
              "    <tr>\n",
              "      <th>2020-04-17</th>\n",
              "      <td>632781</td>\n",
              "      <td>28221</td>\n",
              "    </tr>\n",
              "    <tr>\n",
              "      <th>2020-04-18</th>\n",
              "      <td>665330</td>\n",
              "      <td>30384</td>\n",
              "    </tr>\n",
              "    <tr>\n",
              "      <th>2020-04-19</th>\n",
              "      <td>695353</td>\n",
              "      <td>32427</td>\n",
              "    </tr>\n",
              "    <tr>\n",
              "      <th>2020-04-20</th>\n",
              "      <td>723605</td>\n",
              "      <td>34203</td>\n",
              "    </tr>\n",
              "    <tr>\n",
              "      <th>2020-04-21</th>\n",
              "      <td>751273</td>\n",
              "      <td>35884</td>\n",
              "    </tr>\n",
              "  </tbody>\n",
              "</table>\n",
              "</div>"
            ],
            "text/plain": [
              "            confirmed  who_deaths\n",
              "date                             \n",
              "2020-04-08     363321       10845\n",
              "2020-04-09     395939       12740\n",
              "2020-04-10     425889       14665\n",
              "2020-04-11     461275       16596\n",
              "2020-04-12     492881       18516\n",
              "2020-04-13     524514       20444\n",
              "2020-04-14     553822       21972\n",
              "2020-04-15     578268       23476\n",
              "2020-04-16     604070       25871\n",
              "2020-04-17     632781       28221\n",
              "2020-04-18     665330       30384\n",
              "2020-04-19     695353       32427\n",
              "2020-04-20     723605       34203\n",
              "2020-04-21     751273       35884"
            ]
          },
          "metadata": {
            "tags": []
          },
          "execution_count": 13
        }
      ]
    },
    {
      "cell_type": "code",
      "metadata": {
        "id": "Ftv2uSph2y7_",
        "colab_type": "code",
        "outputId": "ba5e50d2-9655-45a1-8e11-2c55e54f999d",
        "colab": {
          "base_uri": "https://localhost:8080/",
          "height": 332
        }
      },
      "source": [
        "dfResults = gbUSA.sum().join(dfWHO, how='left', rsuffix='_who' )\n",
        "dfResults.loc[:, ['positive', 'confirmed']].plot.line()"
      ],
      "execution_count": 14,
      "outputs": [
        {
          "output_type": "execute_result",
          "data": {
            "text/plain": [
              "<matplotlib.axes._subplots.AxesSubplot at 0x7fca028eadd8>"
            ]
          },
          "metadata": {
            "tags": []
          },
          "execution_count": 14
        },
        {
          "output_type": "display_data",
          "data": {
            "image/png": "[encoded data removed]",
            "text/plain": [
              "<Figure size 432x288 with 1 Axes>"
            ]
          },
          "metadata": {
            "tags": [],
            "needs_background": "light"
          }
        }
      ]
    },
    {
      "cell_type": "code",
      "metadata": {
        "id": "DTXXmezEHYPV",
        "colab_type": "code",
        "colab": {}
      },
      "source": [
        ""
      ],
      "execution_count": 0,
      "outputs": []
    },
    {
      "cell_type": "code",
      "metadata": {
        "colab_type": "code",
        "outputId": "87aa1691-a6b7-4e58-a01b-b494287f3f08",
        "id": "55lq16z8w_Ec",
        "colab": {
          "base_uri": "https://localhost:8080/",
          "height": 429
        }
      },
      "source": [
        "gbCA.sum()[-7:]"
      ],
      "execution_count": 15,
      "outputs": [
        {
          "output_type": "execute_result",
          "data": {
            "text/html": [
              "<div>\n",
              "<style scoped>\n",
              "    .dataframe tbody tr th:only-of-type {\n",
              "        vertical-align: middle;\n",
              "    }\n",
              "\n",
              "    .dataframe tbody tr th {\n",
              "        vertical-align: top;\n",
              "    }\n",
              "\n",
              "    .dataframe thead th {\n",
              "        text-align: right;\n",
              "    }\n",
              "</style>\n",
              "<table border=\"1\" class=\"dataframe\">\n",
              "  <thead>\n",
              "    <tr style=\"text-align: right;\">\n",
              "      <th></th>\n",
              "      <th>positive</th>\n",
              "      <th>negative</th>\n",
              "      <th>pending</th>\n",
              "      <th>hospitalizedCurrently</th>\n",
              "      <th>hospitalizedCumulative</th>\n",
              "      <th>inIcuCurrently</th>\n",
              "      <th>inIcuCumulative</th>\n",
              "      <th>onVentilatorCurrently</th>\n",
              "      <th>onVentilatorCumulative</th>\n",
              "      <th>recovered</th>\n",
              "      <th>death</th>\n",
              "      <th>hospitalized</th>\n",
              "      <th>total</th>\n",
              "      <th>totalTestResults</th>\n",
              "      <th>posNeg</th>\n",
              "      <th>deathIncrease</th>\n",
              "      <th>hospitalizedIncrease</th>\n",
              "      <th>negativeIncrease</th>\n",
              "      <th>positiveIncrease</th>\n",
              "      <th>totalTestResultsIncrease</th>\n",
              "    </tr>\n",
              "    <tr>\n",
              "      <th>date</th>\n",
              "      <th></th>\n",
              "      <th></th>\n",
              "      <th></th>\n",
              "      <th></th>\n",
              "      <th></th>\n",
              "      <th></th>\n",
              "      <th></th>\n",
              "      <th></th>\n",
              "      <th></th>\n",
              "      <th></th>\n",
              "      <th></th>\n",
              "      <th></th>\n",
              "      <th></th>\n",
              "      <th></th>\n",
              "      <th></th>\n",
              "      <th></th>\n",
              "      <th></th>\n",
              "      <th></th>\n",
              "      <th></th>\n",
              "      <th></th>\n",
              "    </tr>\n",
              "  </thead>\n",
              "  <tbody>\n",
              "    <tr>\n",
              "      <th>2020-04-15</th>\n",
              "      <td>24424</td>\n",
              "      <td>192062</td>\n",
              "      <td>13200</td>\n",
              "      <td>5163.0</td>\n",
              "      <td>0.0</td>\n",
              "      <td>1175.0</td>\n",
              "      <td>0.0</td>\n",
              "      <td>0.0</td>\n",
              "      <td>0.0</td>\n",
              "      <td>0.0</td>\n",
              "      <td>821</td>\n",
              "      <td>0.0</td>\n",
              "      <td>229686</td>\n",
              "      <td>216486.0</td>\n",
              "      <td>216486.0</td>\n",
              "      <td>63.0</td>\n",
              "      <td>0.0</td>\n",
              "      <td>13192.0</td>\n",
              "      <td>1086.0</td>\n",
              "      <td>14278.0</td>\n",
              "    </tr>\n",
              "    <tr>\n",
              "      <th>2020-04-16</th>\n",
              "      <td>26182</td>\n",
              "      <td>220218</td>\n",
              "      <td>13200</td>\n",
              "      <td>5031.0</td>\n",
              "      <td>0.0</td>\n",
              "      <td>1568.0</td>\n",
              "      <td>0.0</td>\n",
              "      <td>0.0</td>\n",
              "      <td>0.0</td>\n",
              "      <td>0.0</td>\n",
              "      <td>890</td>\n",
              "      <td>0.0</td>\n",
              "      <td>259600</td>\n",
              "      <td>246400.0</td>\n",
              "      <td>246400.0</td>\n",
              "      <td>69.0</td>\n",
              "      <td>0.0</td>\n",
              "      <td>28156.0</td>\n",
              "      <td>1758.0</td>\n",
              "      <td>29914.0</td>\n",
              "    </tr>\n",
              "    <tr>\n",
              "      <th>2020-04-17</th>\n",
              "      <td>27528</td>\n",
              "      <td>224086</td>\n",
              "      <td>7200</td>\n",
              "      <td>4892.0</td>\n",
              "      <td>0.0</td>\n",
              "      <td>1484.0</td>\n",
              "      <td>0.0</td>\n",
              "      <td>0.0</td>\n",
              "      <td>0.0</td>\n",
              "      <td>0.0</td>\n",
              "      <td>985</td>\n",
              "      <td>0.0</td>\n",
              "      <td>258814</td>\n",
              "      <td>251614.0</td>\n",
              "      <td>251614.0</td>\n",
              "      <td>95.0</td>\n",
              "      <td>0.0</td>\n",
              "      <td>3868.0</td>\n",
              "      <td>1346.0</td>\n",
              "      <td>5214.0</td>\n",
              "    </tr>\n",
              "    <tr>\n",
              "      <th>2020-04-18</th>\n",
              "      <td>28963</td>\n",
              "      <td>230703</td>\n",
              "      <td>7200</td>\n",
              "      <td>4936.0</td>\n",
              "      <td>0.0</td>\n",
              "      <td>1490.0</td>\n",
              "      <td>0.0</td>\n",
              "      <td>0.0</td>\n",
              "      <td>0.0</td>\n",
              "      <td>0.0</td>\n",
              "      <td>1072</td>\n",
              "      <td>0.0</td>\n",
              "      <td>266866</td>\n",
              "      <td>259666.0</td>\n",
              "      <td>259666.0</td>\n",
              "      <td>87.0</td>\n",
              "      <td>0.0</td>\n",
              "      <td>6617.0</td>\n",
              "      <td>1435.0</td>\n",
              "      <td>8052.0</td>\n",
              "    </tr>\n",
              "    <tr>\n",
              "      <th>2020-04-19</th>\n",
              "      <td>30333</td>\n",
              "      <td>250567</td>\n",
              "      <td>7200</td>\n",
              "      <td>4731.0</td>\n",
              "      <td>0.0</td>\n",
              "      <td>1457.0</td>\n",
              "      <td>0.0</td>\n",
              "      <td>0.0</td>\n",
              "      <td>0.0</td>\n",
              "      <td>0.0</td>\n",
              "      <td>1166</td>\n",
              "      <td>0.0</td>\n",
              "      <td>288100</td>\n",
              "      <td>280900.0</td>\n",
              "      <td>280900.0</td>\n",
              "      <td>94.0</td>\n",
              "      <td>0.0</td>\n",
              "      <td>19864.0</td>\n",
              "      <td>1370.0</td>\n",
              "      <td>21234.0</td>\n",
              "    </tr>\n",
              "    <tr>\n",
              "      <th>2020-04-20</th>\n",
              "      <td>30978</td>\n",
              "      <td>259522</td>\n",
              "      <td>0</td>\n",
              "      <td>4674.0</td>\n",
              "      <td>0.0</td>\n",
              "      <td>1480.0</td>\n",
              "      <td>0.0</td>\n",
              "      <td>0.0</td>\n",
              "      <td>0.0</td>\n",
              "      <td>0.0</td>\n",
              "      <td>1208</td>\n",
              "      <td>0.0</td>\n",
              "      <td>290500</td>\n",
              "      <td>290500.0</td>\n",
              "      <td>290500.0</td>\n",
              "      <td>42.0</td>\n",
              "      <td>0.0</td>\n",
              "      <td>8955.0</td>\n",
              "      <td>645.0</td>\n",
              "      <td>9600.0</td>\n",
              "    </tr>\n",
              "    <tr>\n",
              "      <th>2020-04-21</th>\n",
              "      <td>33261</td>\n",
              "      <td>266839</td>\n",
              "      <td>0</td>\n",
              "      <td>4886.0</td>\n",
              "      <td>0.0</td>\n",
              "      <td>1502.0</td>\n",
              "      <td>0.0</td>\n",
              "      <td>0.0</td>\n",
              "      <td>0.0</td>\n",
              "      <td>0.0</td>\n",
              "      <td>1268</td>\n",
              "      <td>0.0</td>\n",
              "      <td>300100</td>\n",
              "      <td>300100.0</td>\n",
              "      <td>300100.0</td>\n",
              "      <td>60.0</td>\n",
              "      <td>0.0</td>\n",
              "      <td>7317.0</td>\n",
              "      <td>2283.0</td>\n",
              "      <td>9600.0</td>\n",
              "    </tr>\n",
              "  </tbody>\n",
              "</table>\n",
              "</div>"
            ],
            "text/plain": [
              "            positive  negative  ...  positiveIncrease  totalTestResultsIncrease\n",
              "date                            ...                                            \n",
              "2020-04-15     24424    192062  ...            1086.0                   14278.0\n",
              "2020-04-16     26182    220218  ...            1758.0                   29914.0\n",
              "2020-04-17     27528    224086  ...            1346.0                    5214.0\n",
              "2020-04-18     28963    230703  ...            1435.0                    8052.0\n",
              "2020-04-19     30333    250567  ...            1370.0                   21234.0\n",
              "2020-04-20     30978    259522  ...             645.0                    9600.0\n",
              "2020-04-21     33261    266839  ...            2283.0                    9600.0\n",
              "\n",
              "[7 rows x 20 columns]"
            ]
          },
          "metadata": {
            "tags": []
          },
          "execution_count": 15
        }
      ]
    },
    {
      "cell_type": "code",
      "metadata": {
        "id": "3WBkdfv2eLEc",
        "colab_type": "code",
        "outputId": "bd82310f-2edc-4304-9c77-21b10b7c0166",
        "colab": {
          "base_uri": "https://localhost:8080/",
          "height": 72
        }
      },
      "source": [
        "dfJHUData[dfJHUData.country=='US'][['confirmed', 'dead']].sum()"
      ],
      "execution_count": 16,
      "outputs": [
        {
          "output_type": "execute_result",
          "data": {
            "text/plain": [
              "confirmed    823786\n",
              "dead          44845\n",
              "dtype: int64"
            ]
          },
          "metadata": {
            "tags": []
          },
          "execution_count": 16
        }
      ]
    },
    {
      "cell_type": "code",
      "metadata": {
        "id": "NUQ35Inse05H",
        "colab_type": "code",
        "outputId": "9f3f1158-f73c-4b80-9f2f-c293c54e9bdf",
        "colab": {
          "base_uri": "https://localhost:8080/",
          "height": 72
        }
      },
      "source": [
        "dfJHUData[(dfJHUData.country=='US')&(dfJHUData.state=='California')][['confirmed', 'dead']].sum()"
      ],
      "execution_count": 17,
      "outputs": [
        {
          "output_type": "execute_result",
          "data": {
            "text/plain": [
              "confirmed    35465\n",
              "dead          1282\n",
              "dtype: int64"
            ]
          },
          "metadata": {
            "tags": []
          },
          "execution_count": 17
        }
      ]
    },
    {
      "cell_type": "code",
      "metadata": {
        "id": "H0JVVTFGfMOW",
        "colab_type": "code",
        "colab": {}
      },
      "source": [
        "dfJHUUS = dfJHUData[dfJHUData.country=='US']\n",
        "gbJHUByState= dfJHUUS.groupby(by='state')\n",
        "gbJHUByCountry = dfJHUData.groupby(by='country')"
      ],
      "execution_count": 0,
      "outputs": []
    },
    {
      "cell_type": "code",
      "metadata": {
        "id": "W8qWd0AYmg58",
        "colab_type": "code",
        "outputId": "822870b0-bca6-4ecb-ea94-373f08d54abb",
        "colab": {
          "base_uri": "https://localhost:8080/",
          "height": 235
        }
      },
      "source": [
        "gbJHUByCountry.confirmed.sum().sort_values(ascending=False).head(10)"
      ],
      "execution_count": 19,
      "outputs": [
        {
          "output_type": "execute_result",
          "data": {
            "text/plain": [
              "country\n",
              "US                823786\n",
              "Spain             204178\n",
              "Italy             183957\n",
              "France            159297\n",
              "Germany           148291\n",
              "United Kingdom    130172\n",
              "Turkey             95591\n",
              "Iran               84802\n",
              "China              83853\n",
              "Russia             52763\n",
              "Name: confirmed, dtype: int64"
            ]
          },
          "metadata": {
            "tags": []
          },
          "execution_count": 19
        }
      ]
    },
    {
      "cell_type": "code",
      "metadata": {
        "id": "9crIlvPH4oSU",
        "colab_type": "code",
        "colab": {}
      },
      "source": [
        "dfData = dfCovidtracking.groupby('date')"
      ],
      "execution_count": 0,
      "outputs": []
    },
    {
      "cell_type": "code",
      "metadata": {
        "id": "SjlCtiOt2b__",
        "colab_type": "code",
        "colab": {}
      },
      "source": [
        "dfStateTotal = dfCovidtracking[['state', 'positive']].groupby(by='state').max() \\\n",
        ".rename(columns={'positive':'current_total'})\n"
      ],
      "execution_count": 0,
      "outputs": []
    },
    {
      "cell_type": "code",
      "metadata": {
        "id": "iPsfvvHC2_j1",
        "colab_type": "code",
        "colab": {}
      },
      "source": [
        "dfState = dfCovidtracking[['date','state','positive']].set_index('state') \\\n",
        "  .join(dfStateTotal)"
      ],
      "execution_count": 0,
      "outputs": []
    },
    {
      "cell_type": "code",
      "metadata": {
        "id": "AkxH55Mx5yE6",
        "colab_type": "code",
        "colab": {}
      },
      "source": [
        "dfState['pct']=dfState.positive/dfState.current_total"
      ],
      "execution_count": 0,
      "outputs": []
    },
    {
      "cell_type": "code",
      "metadata": {
        "id": "PKQ2rgz76XZR",
        "colab_type": "code",
        "outputId": "dafd2927-aa20-48d2-b13a-2f77c6a43c46",
        "colab": {
          "base_uri": "https://localhost:8080/",
          "height": 288
        }
      },
      "source": [
        "dfState.loc['FL'].head(7)"
      ],
      "execution_count": 24,
      "outputs": [
        {
          "output_type": "execute_result",
          "data": {
            "text/html": [
              "<div>\n",
              "<style scoped>\n",
              "    .dataframe tbody tr th:only-of-type {\n",
              "        vertical-align: middle;\n",
              "    }\n",
              "\n",
              "    .dataframe tbody tr th {\n",
              "        vertical-align: top;\n",
              "    }\n",
              "\n",
              "    .dataframe thead th {\n",
              "        text-align: right;\n",
              "    }\n",
              "</style>\n",
              "<table border=\"1\" class=\"dataframe\">\n",
              "  <thead>\n",
              "    <tr style=\"text-align: right;\">\n",
              "      <th></th>\n",
              "      <th>date</th>\n",
              "      <th>positive</th>\n",
              "      <th>current_total</th>\n",
              "      <th>pct</th>\n",
              "    </tr>\n",
              "    <tr>\n",
              "      <th>state</th>\n",
              "      <th></th>\n",
              "      <th></th>\n",
              "      <th></th>\n",
              "      <th></th>\n",
              "    </tr>\n",
              "  </thead>\n",
              "  <tbody>\n",
              "    <tr>\n",
              "      <th>FL</th>\n",
              "      <td>2020-04-21</td>\n",
              "      <td>27495</td>\n",
              "      <td>27495</td>\n",
              "      <td>1.000000</td>\n",
              "    </tr>\n",
              "    <tr>\n",
              "      <th>FL</th>\n",
              "      <td>2020-04-20</td>\n",
              "      <td>26660</td>\n",
              "      <td>27495</td>\n",
              "      <td>0.969631</td>\n",
              "    </tr>\n",
              "    <tr>\n",
              "      <th>FL</th>\n",
              "      <td>2020-04-19</td>\n",
              "      <td>25996</td>\n",
              "      <td>27495</td>\n",
              "      <td>0.945481</td>\n",
              "    </tr>\n",
              "    <tr>\n",
              "      <th>FL</th>\n",
              "      <td>2020-04-18</td>\n",
              "      <td>25269</td>\n",
              "      <td>27495</td>\n",
              "      <td>0.919040</td>\n",
              "    </tr>\n",
              "    <tr>\n",
              "      <th>FL</th>\n",
              "      <td>2020-04-17</td>\n",
              "      <td>24119</td>\n",
              "      <td>27495</td>\n",
              "      <td>0.877214</td>\n",
              "    </tr>\n",
              "    <tr>\n",
              "      <th>FL</th>\n",
              "      <td>2020-04-16</td>\n",
              "      <td>22897</td>\n",
              "      <td>27495</td>\n",
              "      <td>0.832770</td>\n",
              "    </tr>\n",
              "    <tr>\n",
              "      <th>FL</th>\n",
              "      <td>2020-04-15</td>\n",
              "      <td>22511</td>\n",
              "      <td>27495</td>\n",
              "      <td>0.818731</td>\n",
              "    </tr>\n",
              "  </tbody>\n",
              "</table>\n",
              "</div>"
            ],
            "text/plain": [
              "            date  positive  current_total       pct\n",
              "state                                              \n",
              "FL    2020-04-21     27495          27495  1.000000\n",
              "FL    2020-04-20     26660          27495  0.969631\n",
              "FL    2020-04-19     25996          27495  0.945481\n",
              "FL    2020-04-18     25269          27495  0.919040\n",
              "FL    2020-04-17     24119          27495  0.877214\n",
              "FL    2020-04-16     22897          27495  0.832770\n",
              "FL    2020-04-15     22511          27495  0.818731"
            ]
          },
          "metadata": {
            "tags": []
          },
          "execution_count": 24
        }
      ]
    },
    {
      "cell_type": "code",
      "metadata": {
        "id": "dkgVF6Q19glV",
        "colab_type": "code",
        "colab": {}
      },
      "source": [
        "res = dfState.reset_index().pivot(index = 'date', columns='state', values='pct').fillna(0)"
      ],
      "execution_count": 0,
      "outputs": []
    },
    {
      "cell_type": "code",
      "metadata": {
        "id": "w1ml4KC6BF7q",
        "colab_type": "code",
        "outputId": "fb4ea136-266b-4d33-e85c-9940a82ad026",
        "colab": {
          "base_uri": "https://localhost:8080/",
          "height": 314
        }
      },
      "source": [
        "x = res.loc[:, ['CA','FL']].plot.line()"
      ],
      "execution_count": 26,
      "outputs": [
        {
          "output_type": "display_data",
          "data": {
            "image/png": "[encoded data removed]",
            "text/plain": [
              "<Figure size 432x288 with 1 Axes>"
            ]
          },
          "metadata": {
            "tags": [],
            "needs_background": "light"
          }
        }
      ]
    },
    {
      "cell_type": "code",
      "metadata": {
        "id": "eaLSwLbuBLY0",
        "colab_type": "code",
        "colab": {}
      },
      "source": [
        "dfNYTesting = dfCovidtracking.loc[dfCovidtracking.state=='NY', ['date', 'negative']].set_index('date')"
      ],
      "execution_count": 0,
      "outputs": []
    },
    {
      "cell_type": "code",
      "metadata": {
        "id": "vhL4WBWECIhP",
        "colab_type": "code",
        "outputId": "4177df56-e115-47e4-ee73-d2c0ef7d00b1",
        "colab": {
          "base_uri": "https://localhost:8080/",
          "height": 314
        }
      },
      "source": [
        "x = dfNYTesting.plot.line()"
      ],
      "execution_count": 28,
      "outputs": [
        {
          "output_type": "display_data",
          "data": {
            "image/png": "[encoded data removed]",
            "text/plain": [
              "<Figure size 432x288 with 1 Axes>"
            ]
          },
          "metadata": {
            "tags": [],
            "needs_background": "light"
          }
        }
      ]
    },
    {
      "cell_type": "code",
      "metadata": {
        "id": "c4uuFBTquS3o",
        "colab_type": "code",
        "outputId": "804fb4f7-0111-4bc1-ca37-66f7222b67e2",
        "colab": {
          "base_uri": "https://localhost:8080/",
          "height": 348
        }
      },
      "source": [
        "dfDates = dfState.reset_index().copy()\n",
        "dfDates[(dfDates.state.isin(['FL']))].head(10)"
      ],
      "execution_count": 29,
      "outputs": [
        {
          "output_type": "execute_result",
          "data": {
            "text/html": [
              "<div>\n",
              "<style scoped>\n",
              "    .dataframe tbody tr th:only-of-type {\n",
              "        vertical-align: middle;\n",
              "    }\n",
              "\n",
              "    .dataframe tbody tr th {\n",
              "        vertical-align: top;\n",
              "    }\n",
              "\n",
              "    .dataframe thead th {\n",
              "        text-align: right;\n",
              "    }\n",
              "</style>\n",
              "<table border=\"1\" class=\"dataframe\">\n",
              "  <thead>\n",
              "    <tr style=\"text-align: right;\">\n",
              "      <th></th>\n",
              "      <th>state</th>\n",
              "      <th>date</th>\n",
              "      <th>positive</th>\n",
              "      <th>current_total</th>\n",
              "      <th>pct</th>\n",
              "    </tr>\n",
              "  </thead>\n",
              "  <tbody>\n",
              "    <tr>\n",
              "      <th>464</th>\n",
              "      <td>FL</td>\n",
              "      <td>2020-04-21</td>\n",
              "      <td>27495</td>\n",
              "      <td>27495</td>\n",
              "      <td>1.000000</td>\n",
              "    </tr>\n",
              "    <tr>\n",
              "      <th>465</th>\n",
              "      <td>FL</td>\n",
              "      <td>2020-04-20</td>\n",
              "      <td>26660</td>\n",
              "      <td>27495</td>\n",
              "      <td>0.969631</td>\n",
              "    </tr>\n",
              "    <tr>\n",
              "      <th>466</th>\n",
              "      <td>FL</td>\n",
              "      <td>2020-04-19</td>\n",
              "      <td>25996</td>\n",
              "      <td>27495</td>\n",
              "      <td>0.945481</td>\n",
              "    </tr>\n",
              "    <tr>\n",
              "      <th>467</th>\n",
              "      <td>FL</td>\n",
              "      <td>2020-04-18</td>\n",
              "      <td>25269</td>\n",
              "      <td>27495</td>\n",
              "      <td>0.919040</td>\n",
              "    </tr>\n",
              "    <tr>\n",
              "      <th>468</th>\n",
              "      <td>FL</td>\n",
              "      <td>2020-04-17</td>\n",
              "      <td>24119</td>\n",
              "      <td>27495</td>\n",
              "      <td>0.877214</td>\n",
              "    </tr>\n",
              "    <tr>\n",
              "      <th>469</th>\n",
              "      <td>FL</td>\n",
              "      <td>2020-04-16</td>\n",
              "      <td>22897</td>\n",
              "      <td>27495</td>\n",
              "      <td>0.832770</td>\n",
              "    </tr>\n",
              "    <tr>\n",
              "      <th>470</th>\n",
              "      <td>FL</td>\n",
              "      <td>2020-04-15</td>\n",
              "      <td>22511</td>\n",
              "      <td>27495</td>\n",
              "      <td>0.818731</td>\n",
              "    </tr>\n",
              "    <tr>\n",
              "      <th>471</th>\n",
              "      <td>FL</td>\n",
              "      <td>2020-04-14</td>\n",
              "      <td>21367</td>\n",
              "      <td>27495</td>\n",
              "      <td>0.777123</td>\n",
              "    </tr>\n",
              "    <tr>\n",
              "      <th>472</th>\n",
              "      <td>FL</td>\n",
              "      <td>2020-04-13</td>\n",
              "      <td>20601</td>\n",
              "      <td>27495</td>\n",
              "      <td>0.749264</td>\n",
              "    </tr>\n",
              "    <tr>\n",
              "      <th>473</th>\n",
              "      <td>FL</td>\n",
              "      <td>2020-04-12</td>\n",
              "      <td>19355</td>\n",
              "      <td>27495</td>\n",
              "      <td>0.703946</td>\n",
              "    </tr>\n",
              "  </tbody>\n",
              "</table>\n",
              "</div>"
            ],
            "text/plain": [
              "    state       date  positive  current_total       pct\n",
              "464    FL 2020-04-21     27495          27495  1.000000\n",
              "465    FL 2020-04-20     26660          27495  0.969631\n",
              "466    FL 2020-04-19     25996          27495  0.945481\n",
              "467    FL 2020-04-18     25269          27495  0.919040\n",
              "468    FL 2020-04-17     24119          27495  0.877214\n",
              "469    FL 2020-04-16     22897          27495  0.832770\n",
              "470    FL 2020-04-15     22511          27495  0.818731\n",
              "471    FL 2020-04-14     21367          27495  0.777123\n",
              "472    FL 2020-04-13     20601          27495  0.749264\n",
              "473    FL 2020-04-12     19355          27495  0.703946"
            ]
          },
          "metadata": {
            "tags": []
          },
          "execution_count": 29
        }
      ]
    },
    {
      "cell_type": "code",
      "metadata": {
        "id": "Puz0PBzemMD3",
        "colab_type": "code",
        "outputId": "55722aa7-f7d6-44da-cf95-88f0222827b5",
        "colab": {
          "base_uri": "https://localhost:8080/",
          "height": 108
        }
      },
      "source": [
        "datecutoff = dfDates.date.max()-datetime.timedelta(days=3)\n",
        "dfDates[(dfDates.date == datecutoff) & (dfDates.pct < .7)].sort_values(by='pct')\n"
      ],
      "execution_count": 30,
      "outputs": [
        {
          "output_type": "execute_result",
          "data": {
            "text/html": [
              "<div>\n",
              "<style scoped>\n",
              "    .dataframe tbody tr th:only-of-type {\n",
              "        vertical-align: middle;\n",
              "    }\n",
              "\n",
              "    .dataframe tbody tr th {\n",
              "        vertical-align: top;\n",
              "    }\n",
              "\n",
              "    .dataframe thead th {\n",
              "        text-align: right;\n",
              "    }\n",
              "</style>\n",
              "<table border=\"1\" class=\"dataframe\">\n",
              "  <thead>\n",
              "    <tr style=\"text-align: right;\">\n",
              "      <th></th>\n",
              "      <th>state</th>\n",
              "      <th>date</th>\n",
              "      <th>positive</th>\n",
              "      <th>current_total</th>\n",
              "      <th>pct</th>\n",
              "    </tr>\n",
              "  </thead>\n",
              "  <tbody>\n",
              "    <tr>\n",
              "      <th>648</th>\n",
              "      <td>IA</td>\n",
              "      <td>2020-04-18</td>\n",
              "      <td>2513</td>\n",
              "      <td>3641</td>\n",
              "      <td>0.690195</td>\n",
              "    </tr>\n",
              "    <tr>\n",
              "      <th>1489</th>\n",
              "      <td>NE</td>\n",
              "      <td>2020-04-18</td>\n",
              "      <td>1138</td>\n",
              "      <td>1648</td>\n",
              "      <td>0.690534</td>\n",
              "    </tr>\n",
              "  </tbody>\n",
              "</table>\n",
              "</div>"
            ],
            "text/plain": [
              "     state       date  positive  current_total       pct\n",
              "648     IA 2020-04-18      2513           3641  0.690195\n",
              "1489    NE 2020-04-18      1138           1648  0.690534"
            ]
          },
          "metadata": {
            "tags": []
          },
          "execution_count": 30
        }
      ]
    },
    {
      "cell_type": "code",
      "metadata": {
        "id": "ZmaKzaBnGQwj",
        "colab_type": "code",
        "outputId": "366646a8-5f3e-4a74-ad78-abf7899b5499",
        "colab": {
          "base_uri": "https://localhost:8080/",
          "height": 360
        }
      },
      "source": [
        "state = 'CA'\n",
        "dfState = dfCovidtracking[dfCovidtracking.state==state].sort_values(by='date')\n",
        "vals = dfState.positive.values\n",
        "\n",
        "x=pd.Series([y-x for x,y in zip(vals,vals[1:])], \\\n",
        "          index = dfCovidtracking[dfCovidtracking.state==state]\\\n",
        "          .sort_values(by='date').date.values[1:] ) \\\n",
        "          .plot.bar()\n",
        "\n"
      ],
      "execution_count": 31,
      "outputs": [
        {
          "output_type": "display_data",
          "data": {
            "image/png": "[encoded data removed]",
            "text/plain": [
              "<Figure size 432x288 with 1 Axes>"
            ]
          },
          "metadata": {
            "tags": [],
            "needs_background": "light"
          }
        }
      ]
    },
    {
      "cell_type": "markdown",
      "metadata": {
        "id": "xFA0q8At-4sZ",
        "colab_type": "text"
      },
      "source": [
        "# Added State Data"
      ]
    },
    {
      "cell_type": "code",
      "metadata": {
        "id": "Nlx8_xZ27kvp",
        "colab_type": "code",
        "colab": {}
      },
      "source": [
        "data_url = \"https://www2.census.gov/programs-surveys/popest/datasets/2010-2019/national/totals/nst-est2019-alldata.csv\"\n"
      ],
      "execution_count": 0,
      "outputs": []
    },
    {
      "cell_type": "code",
      "metadata": {
        "id": "Lwz6IJdX_WFx",
        "colab_type": "code",
        "colab": {}
      },
      "source": [
        "dfUSPop = pd.read_csv(data_url)"
      ],
      "execution_count": 0,
      "outputs": []
    },
    {
      "cell_type": "code",
      "metadata": {
        "id": "aU3ZzHS-AkRS",
        "colab_type": "code",
        "outputId": "f1b1100b-3bed-432d-b580-5f9290ce6e65",
        "colab": {
          "base_uri": "https://localhost:8080/",
          "height": 181
        }
      },
      "source": [
        "us_pop = dfUSPop.loc[0].POPESTIMATE2019 #Estimate from Wikipedia\n",
        "res = dfCovidtracking.loc[dfCovidtracking.date==dfCovidtracking.date.max(), ['positive', 'negative', 'pending','death', 'total']].sum()\n",
        "print(res)\n",
        "print(f\"Current Infection Rate {res.positive/res.total*100:2f}%\")\n",
        "print(f\"Percentage of US affected: {(res.positive+res.death)/us_pop*100:2f}%\")\n",
        "print(f\"Percentage of US tested/affected: {(res.negative+res.positive+res.death)/us_pop*100:2f}%\")"
      ],
      "execution_count": 34,
      "outputs": [
        {
          "output_type": "stream",
          "text": [
            "positive     799717\n",
            "negative    3355461\n",
            "pending        3956\n",
            "death         39995\n",
            "total       4159134\n",
            "dtype: int64\n",
            "Current Infection Rate 19.227969%\n",
            "Percentage of US affected: 0.255823%\n",
            "Percentage of US tested/affected: 1.278083%\n"
          ],
          "name": "stdout"
        }
      ]
    },
    {
      "cell_type": "code",
      "metadata": {
        "id": "vihKU2ItzKWi",
        "colab_type": "code",
        "colab": {}
      },
      "source": [
        "!if [ ! -d \"loc\" ]; then \\\n",
        "git clone https://gist.github.com/rogerallen/1583593 --depth=1 --quiet loc; \\\n",
        "fi\n",
        "import sys\n",
        "sys.path.append(\"loc\")\n",
        "\n",
        "\n"
      ],
      "execution_count": 0,
      "outputs": []
    },
    {
      "cell_type": "code",
      "metadata": {
        "id": "66JPa3Sv0uH1",
        "colab_type": "code",
        "colab": {}
      },
      "source": [
        "import us_state_abbrev as us_abbr\n"
      ],
      "execution_count": 0,
      "outputs": []
    },
    {
      "cell_type": "code",
      "metadata": {
        "id": "JYnrS2eV2ohs",
        "colab_type": "code",
        "colab": {}
      },
      "source": [
        "dfStatePop = dfUSPop[dfUSPop.STATE != 0].copy()"
      ],
      "execution_count": 0,
      "outputs": []
    },
    {
      "cell_type": "code",
      "metadata": {
        "id": "43XHoUsx4Px7",
        "colab_type": "code",
        "colab": {}
      },
      "source": [
        "dfStatePop['ABBR']=dfStatePop.NAME.apply(lambda x: us_abbr.us_state_abbrev[x])"
      ],
      "execution_count": 0,
      "outputs": []
    },
    {
      "cell_type": "code",
      "metadata": {
        "id": "d08OerM_4vBo",
        "colab_type": "code",
        "colab": {}
      },
      "source": [
        "dfStatePop = dfStatePop.loc[:, ['ABBR', 'POPESTIMATE2019']]\n",
        "dfStatePop.set_index('ABBR', inplace=True)"
      ],
      "execution_count": 0,
      "outputs": []
    },
    {
      "cell_type": "code",
      "metadata": {
        "id": "4puN3Aea5qwp",
        "colab_type": "code",
        "colab": {}
      },
      "source": [
        "dfStateCovid = dfCovidtracking.loc[dfCovidtracking.date==dfCovidtracking.date.max()].set_index('state')"
      ],
      "execution_count": 0,
      "outputs": []
    },
    {
      "cell_type": "code",
      "metadata": {
        "id": "R2rumgN265Zr",
        "colab_type": "code",
        "colab": {}
      },
      "source": [
        "dfStateJoin = dfStateCovid.join(dfStatePop)"
      ],
      "execution_count": 0,
      "outputs": []
    },
    {
      "cell_type": "code",
      "metadata": {
        "id": "pgD43HXE7ayl",
        "colab_type": "code",
        "outputId": "6fd98218-1aca-45ed-8994-fb751956ced0",
        "colab": {
          "base_uri": "https://localhost:8080/",
          "height": 1000
        }
      },
      "source": [
        "pd.DataFrame([(dfStateJoin.positive / dfStateJoin.POPESTIMATE2019)*100, \\\n",
        "              (dfStateJoin.totalTestResults/ dfStateJoin.POPESTIMATE2019)*100],\\\n",
        "             index=['state_pos_pop','state_test_pop'] ).T.sort_values(by=\"state_pos_pop\", ascending=False)[:51]"
      ],
      "execution_count": 71,
      "outputs": [
        {
          "output_type": "execute_result",
          "data": {
            "text/html": [
              "<div>\n",
              "<style scoped>\n",
              "    .dataframe tbody tr th:only-of-type {\n",
              "        vertical-align: middle;\n",
              "    }\n",
              "\n",
              "    .dataframe tbody tr th {\n",
              "        vertical-align: top;\n",
              "    }\n",
              "\n",
              "    .dataframe thead th {\n",
              "        text-align: right;\n",
              "    }\n",
              "</style>\n",
              "<table border=\"1\" class=\"dataframe\">\n",
              "  <thead>\n",
              "    <tr style=\"text-align: right;\">\n",
              "      <th></th>\n",
              "      <th>state_pos_pop</th>\n",
              "      <th>state_test_pop</th>\n",
              "    </tr>\n",
              "    <tr>\n",
              "      <th>state</th>\n",
              "      <th></th>\n",
              "      <th></th>\n",
              "    </tr>\n",
              "  </thead>\n",
              "  <tbody>\n",
              "    <tr>\n",
              "      <th>NY</th>\n",
              "      <td>1.293799</td>\n",
              "      <td>3.337821</td>\n",
              "    </tr>\n",
              "    <tr>\n",
              "      <th>NJ</th>\n",
              "      <td>1.040138</td>\n",
              "      <td>2.080861</td>\n",
              "    </tr>\n",
              "    <tr>\n",
              "      <th>MA</th>\n",
              "      <td>0.597736</td>\n",
              "      <td>2.544388</td>\n",
              "    </tr>\n",
              "    <tr>\n",
              "      <th>CT</th>\n",
              "      <td>0.571062</td>\n",
              "      <td>1.800472</td>\n",
              "    </tr>\n",
              "    <tr>\n",
              "      <th>LA</th>\n",
              "      <td>0.534633</td>\n",
              "      <td>3.063805</td>\n",
              "    </tr>\n",
              "    <tr>\n",
              "      <th>RI</th>\n",
              "      <td>0.519181</td>\n",
              "      <td>3.712899</td>\n",
              "    </tr>\n",
              "    <tr>\n",
              "      <th>DC</th>\n",
              "      <td>0.438966</td>\n",
              "      <td>2.116758</td>\n",
              "    </tr>\n",
              "    <tr>\n",
              "      <th>MI</th>\n",
              "      <td>0.330104</td>\n",
              "      <td>1.173803</td>\n",
              "    </tr>\n",
              "    <tr>\n",
              "      <th>DE</th>\n",
              "      <td>0.300997</td>\n",
              "      <td>1.710476</td>\n",
              "    </tr>\n",
              "    <tr>\n",
              "      <th>PA</th>\n",
              "      <td>0.269708</td>\n",
              "      <td>1.303321</td>\n",
              "    </tr>\n",
              "    <tr>\n",
              "      <th>IL</th>\n",
              "      <td>0.260886</td>\n",
              "      <td>1.223163</td>\n",
              "    </tr>\n",
              "    <tr>\n",
              "      <th>MD</th>\n",
              "      <td>0.234763</td>\n",
              "      <td>1.217977</td>\n",
              "    </tr>\n",
              "    <tr>\n",
              "      <th>SD</th>\n",
              "      <td>0.198382</td>\n",
              "      <td>1.448581</td>\n",
              "    </tr>\n",
              "    <tr>\n",
              "      <th>GA</th>\n",
              "      <td>0.187249</td>\n",
              "      <td>0.830145</td>\n",
              "    </tr>\n",
              "    <tr>\n",
              "      <th>IN</th>\n",
              "      <td>0.179688</td>\n",
              "      <td>0.999136</td>\n",
              "    </tr>\n",
              "    <tr>\n",
              "      <th>CO</th>\n",
              "      <td>0.175490</td>\n",
              "      <td>0.824243</td>\n",
              "    </tr>\n",
              "    <tr>\n",
              "      <th>WA</th>\n",
              "      <td>0.158702</td>\n",
              "      <td>1.851779</td>\n",
              "    </tr>\n",
              "    <tr>\n",
              "      <th>MS</th>\n",
              "      <td>0.158460</td>\n",
              "      <td>1.759455</td>\n",
              "    </tr>\n",
              "    <tr>\n",
              "      <th>VT</th>\n",
              "      <td>0.131092</td>\n",
              "      <td>2.101159</td>\n",
              "    </tr>\n",
              "    <tr>\n",
              "      <th>FL</th>\n",
              "      <td>0.128016</td>\n",
              "      <td>1.289982</td>\n",
              "    </tr>\n",
              "    <tr>\n",
              "      <th>NV</th>\n",
              "      <td>0.127818</td>\n",
              "      <td>1.073160</td>\n",
              "    </tr>\n",
              "    <tr>\n",
              "      <th>IA</th>\n",
              "      <td>0.115402</td>\n",
              "      <td>0.875258</td>\n",
              "    </tr>\n",
              "    <tr>\n",
              "      <th>OH</th>\n",
              "      <td>0.113353</td>\n",
              "      <td>0.806213</td>\n",
              "    </tr>\n",
              "    <tr>\n",
              "      <th>VA</th>\n",
              "      <td>0.110726</td>\n",
              "      <td>0.683661</td>\n",
              "    </tr>\n",
              "    <tr>\n",
              "      <th>NH</th>\n",
              "      <td>0.109656</td>\n",
              "      <td>1.054562</td>\n",
              "    </tr>\n",
              "    <tr>\n",
              "      <th>TN</th>\n",
              "      <td>0.108271</td>\n",
              "      <td>1.584115</td>\n",
              "    </tr>\n",
              "    <tr>\n",
              "      <th>AL</th>\n",
              "      <td>0.106686</td>\n",
              "      <td>0.989683</td>\n",
              "    </tr>\n",
              "    <tr>\n",
              "      <th>UT</th>\n",
              "      <td>0.102809</td>\n",
              "      <td>2.256985</td>\n",
              "    </tr>\n",
              "    <tr>\n",
              "      <th>ID</th>\n",
              "      <td>0.097143</td>\n",
              "      <td>0.988213</td>\n",
              "    </tr>\n",
              "    <tr>\n",
              "      <th>MO</th>\n",
              "      <td>0.096800</td>\n",
              "      <td>0.930683</td>\n",
              "    </tr>\n",
              "    <tr>\n",
              "      <th>NM</th>\n",
              "      <td>0.093999</td>\n",
              "      <td>1.848267</td>\n",
              "    </tr>\n",
              "    <tr>\n",
              "      <th>SC</th>\n",
              "      <td>0.086216</td>\n",
              "      <td>0.801695</td>\n",
              "    </tr>\n",
              "    <tr>\n",
              "      <th>NE</th>\n",
              "      <td>0.085194</td>\n",
              "      <td>0.846357</td>\n",
              "    </tr>\n",
              "    <tr>\n",
              "      <th>ND</th>\n",
              "      <td>0.084508</td>\n",
              "      <td>1.966638</td>\n",
              "    </tr>\n",
              "    <tr>\n",
              "      <th>CA</th>\n",
              "      <td>0.084179</td>\n",
              "      <td>0.759512</td>\n",
              "    </tr>\n",
              "    <tr>\n",
              "      <th>WI</th>\n",
              "      <td>0.079348</td>\n",
              "      <td>0.901015</td>\n",
              "    </tr>\n",
              "    <tr>\n",
              "      <th>AR</th>\n",
              "      <td>0.073795</td>\n",
              "      <td>0.909304</td>\n",
              "    </tr>\n",
              "    <tr>\n",
              "      <th>AZ</th>\n",
              "      <td>0.072142</td>\n",
              "      <td>0.757716</td>\n",
              "    </tr>\n",
              "    <tr>\n",
              "      <th>OK</th>\n",
              "      <td>0.070938</td>\n",
              "      <td>1.120655</td>\n",
              "    </tr>\n",
              "    <tr>\n",
              "      <th>TX</th>\n",
              "      <td>0.069651</td>\n",
              "      <td>0.708373</td>\n",
              "    </tr>\n",
              "    <tr>\n",
              "      <th>KS</th>\n",
              "      <td>0.069508</td>\n",
              "      <td>0.655645</td>\n",
              "    </tr>\n",
              "    <tr>\n",
              "      <th>KY</th>\n",
              "      <td>0.068268</td>\n",
              "      <td>0.734611</td>\n",
              "    </tr>\n",
              "    <tr>\n",
              "      <th>NC</th>\n",
              "      <td>0.066275</td>\n",
              "      <td>0.794530</td>\n",
              "    </tr>\n",
              "    <tr>\n",
              "      <th>ME</th>\n",
              "      <td>0.066061</td>\n",
              "      <td>1.113217</td>\n",
              "    </tr>\n",
              "    <tr>\n",
              "      <th>WY</th>\n",
              "      <td>0.055291</td>\n",
              "      <td>1.316783</td>\n",
              "    </tr>\n",
              "    <tr>\n",
              "      <th>WV</th>\n",
              "      <td>0.051000</td>\n",
              "      <td>1.270153</td>\n",
              "    </tr>\n",
              "    <tr>\n",
              "      <th>OR</th>\n",
              "      <td>0.047466</td>\n",
              "      <td>0.975120</td>\n",
              "    </tr>\n",
              "    <tr>\n",
              "      <th>MN</th>\n",
              "      <td>0.045517</td>\n",
              "      <td>0.845747</td>\n",
              "    </tr>\n",
              "    <tr>\n",
              "      <th>AK</th>\n",
              "      <td>0.044973</td>\n",
              "      <td>1.519934</td>\n",
              "    </tr>\n",
              "    <tr>\n",
              "      <th>HI</th>\n",
              "      <td>0.041247</td>\n",
              "      <td>1.744225</td>\n",
              "    </tr>\n",
              "    <tr>\n",
              "      <th>MT</th>\n",
              "      <td>0.040888</td>\n",
              "      <td>1.051762</td>\n",
              "    </tr>\n",
              "  </tbody>\n",
              "</table>\n",
              "</div>"
            ],
            "text/plain": [
              "       state_pos_pop  state_test_pop\n",
              "state                               \n",
              "NY          1.293799        3.337821\n",
              "NJ          1.040138        2.080861\n",
              "MA          0.597736        2.544388\n",
              "CT          0.571062        1.800472\n",
              "LA          0.534633        3.063805\n",
              "RI          0.519181        3.712899\n",
              "DC          0.438966        2.116758\n",
              "MI          0.330104        1.173803\n",
              "DE          0.300997        1.710476\n",
              "PA          0.269708        1.303321\n",
              "IL          0.260886        1.223163\n",
              "MD          0.234763        1.217977\n",
              "SD          0.198382        1.448581\n",
              "GA          0.187249        0.830145\n",
              "IN          0.179688        0.999136\n",
              "CO          0.175490        0.824243\n",
              "WA          0.158702        1.851779\n",
              "MS          0.158460        1.759455\n",
              "VT          0.131092        2.101159\n",
              "FL          0.128016        1.289982\n",
              "NV          0.127818        1.073160\n",
              "IA          0.115402        0.875258\n",
              "OH          0.113353        0.806213\n",
              "VA          0.110726        0.683661\n",
              "NH          0.109656        1.054562\n",
              "TN          0.108271        1.584115\n",
              "AL          0.106686        0.989683\n",
              "UT          0.102809        2.256985\n",
              "ID          0.097143        0.988213\n",
              "MO          0.096800        0.930683\n",
              "NM          0.093999        1.848267\n",
              "SC          0.086216        0.801695\n",
              "NE          0.085194        0.846357\n",
              "ND          0.084508        1.966638\n",
              "CA          0.084179        0.759512\n",
              "WI          0.079348        0.901015\n",
              "AR          0.073795        0.909304\n",
              "AZ          0.072142        0.757716\n",
              "OK          0.070938        1.120655\n",
              "TX          0.069651        0.708373\n",
              "KS          0.069508        0.655645\n",
              "KY          0.068268        0.734611\n",
              "NC          0.066275        0.794530\n",
              "ME          0.066061        1.113217\n",
              "WY          0.055291        1.316783\n",
              "WV          0.051000        1.270153\n",
              "OR          0.047466        0.975120\n",
              "MN          0.045517        0.845747\n",
              "AK          0.044973        1.519934\n",
              "HI          0.041247        1.744225\n",
              "MT          0.040888        1.051762"
            ]
          },
          "metadata": {
            "tags": []
          },
          "execution_count": 71
        }
      ]
    },
    {
      "cell_type": "code",
      "metadata": {
        "id": "-uy6plHZ84GH",
        "colab_type": "code",
        "colab": {
          "base_uri": "https://localhost:8080/",
          "height": 35
        },
        "outputId": "cffba754-de1e-4d25-e316-3a7d08b908e4"
      },
      "source": [
        "#print(f\"Current Infection Rate {res.positive/res.total*100:2f}%\")\n",
        "\n",
        "print(f\"Current Testing Percent {gbUSA.sum().tail(1).totalTestResults[0]/dfUSPop[dfUSPop.REGION=='0'].POPESTIMATE2019[0]*100:2f}%\")"
      ],
      "execution_count": 70,
      "outputs": [
        {
          "output_type": "stream",
          "text": [
            "Current Testing Percent 1.265898%\n"
          ],
          "name": "stdout"
        }
      ]
    },
    {
      "cell_type": "code",
      "metadata": {
        "id": "wHx0rKrpxBAD",
        "colab_type": "code",
        "colab": {}
      },
      "source": [
        ""
      ],
      "execution_count": 0,
      "outputs": []
    }
  ]
}