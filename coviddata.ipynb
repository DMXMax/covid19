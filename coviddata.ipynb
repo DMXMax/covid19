{
  "nbformat": 4,
  "nbformat_minor": 0,
  "metadata": {
    "colab": {
      "name": "coviddata",
      "provenance": [],
      "toc_visible": true,
      "authorship_tag": "ABX9TyMO1Cb6/KKjaHV7O8N+XGZq",
      "include_colab_link": true
    },
    "kernelspec": {
      "name": "python3",
      "display_name": "Python 3"
    }
  },
  "cells": [
    {
      "cell_type": "markdown",
      "metadata": {
        "id": "view-in-github",
        "colab_type": "text"
      },
      "source": [
        "<a href=\"https://colab.research.google.com/github/DMXMax/covid19/blob/gc_20200315/coviddata.ipynb\" target=\"_parent\"><img src=\"https://colab.research.google.com/assets/colab-badge.svg\" alt=\"Open In Colab\"/></a>"
      ]
    },
    {
      "cell_type": "code",
      "metadata": {
        "id": "jCzokJEPxFhv",
        "colab_type": "code",
        "colab": {}
      },
      "source": [
        "import numpy as np\n",
        "import pandas as pd\n",
        "import matplotlib.pyplot as plt\n",
        "import requests,json\n"
      ],
      "execution_count": 0,
      "outputs": []
    },
    {
      "cell_type": "code",
      "metadata": {
        "id": "zNKPT5Z8BXPT",
        "colab_type": "code",
        "colab": {}
      },
      "source": [
        "covidtrackingurl = \"https://covidtracking.com/api/states/daily\"\n",
        "response = requests.get(covidtrackingurl)\n",
        "dfCovidtracking = pd.DataFrame(response.json())\n",
        "dfCovidtracking.fillna(0, inplace=True)\n",
        "dfCovidtracking.negative = dfCovidtracking.negative.astype('int64')\n",
        "dfCovidtracking.positive = dfCovidtracking.positive.astype('int64')\n",
        "dfCovidtracking.pending = dfCovidtracking.pending.astype('int64')\n",
        "dfCovidtracking.total = dfCovidtracking.total.astype('int64')\n",
        "dfCovidtracking.death = dfCovidtracking.death.astype('int64')\n"
      ],
      "execution_count": 0,
      "outputs": []
    },
    {
      "cell_type": "code",
      "metadata": {
        "id": "8_Il5iuohC8_",
        "colab_type": "code",
        "colab": {}
      },
      "source": [
        "dfWHO = pd.read_csv(\"https://raw.githubusercontent.com/DMXMax/covid19/master/who/who_data.tsv\",\n",
        "                     sep='\\t', index_col='Date')"
      ],
      "execution_count": 0,
      "outputs": []
    },
    {
      "cell_type": "code",
      "metadata": {
        "id": "IHNp61EvdwQG",
        "colab_type": "code",
        "colab": {}
      },
      "source": [
        "jhurl = \"https://raw.githubusercontent.com/CSSEGISandData/COVID-19/master/\"+\\\n",
        "\"csse_covid_19_data/csse_covid_19_daily_reports/03-23-2020.csv\"\n",
        "dfJHUData = pd.read_csv(jhurl, header=0,\n",
        "                        names=['FIPS', 'city','state', 'country', 'last_update',\n",
        "                               'lat', 'lon','confirmed', 'dead', 'recovered','active', 'key'])"
      ],
      "execution_count": 0,
      "outputs": []
    },
    {
      "cell_type": "code",
      "metadata": {
        "id": "hrPlWJJCVtBR",
        "colab_type": "code",
        "colab": {}
      },
      "source": [
        "dfWHO = dfWHO.rename(columns={\"Confirmed\": \"confirmed\", \"Deaths\": \"who_deaths\"})\n",
        "dfWHO.index.names=['date']\n"
      ],
      "execution_count": 0,
      "outputs": []
    },
    {
      "cell_type": "code",
      "metadata": {
        "id": "HWHSGPq_yF50",
        "colab_type": "code",
        "outputId": "c7da4f6a-e9e9-4637-ddf2-1b208e3ef250",
        "colab": {
          "base_uri": "https://localhost:8080/",
          "height": 145
        }
      },
      "source": [
        "us_pop = 329968629  #Estimate from Wikipedia\n",
        "res = dfCovidtracking.loc[dfCovidtracking.date==dfCovidtracking.date.max(), ['positive', 'negative', 'pending', 'total']].sum()\n",
        "print(res)\n",
        "print(f\"Current Infection Rate {res.positive/res.total*100:2f}%\")\n",
        "print(f\"Percentage of US: {res.positive/us_pop*100:2f}%\")"
      ],
      "execution_count": 6,
      "outputs": [
        {
          "output_type": "stream",
          "text": [
            "positive     42164\n",
            "negative    237321\n",
            "pending      14571\n",
            "total       294056\n",
            "dtype: int64\n",
            "Current Infection Rate 14.338765%\n",
            "Percentage of US: 0.012778%\n"
          ],
          "name": "stdout"
        }
      ]
    },
    {
      "cell_type": "code",
      "metadata": {
        "colab_type": "code",
        "outputId": "aa5e0618-0a0e-4941-a0f8-78478dd39020",
        "id": "idyqfNddlLPv",
        "colab": {
          "base_uri": "https://localhost:8080/",
          "height": 348
        }
      },
      "source": [
        "dfCovidtracking.loc[dfCovidtracking.date==dfCovidtracking.date.max(),['state', 'positive']].sort_values(by='positive', ascending=False).head(10)"
      ],
      "execution_count": 7,
      "outputs": [
        {
          "output_type": "execute_result",
          "data": {
            "text/html": [
              "<div>\n",
              "<style scoped>\n",
              "    .dataframe tbody tr th:only-of-type {\n",
              "        vertical-align: middle;\n",
              "    }\n",
              "\n",
              "    .dataframe tbody tr th {\n",
              "        vertical-align: top;\n",
              "    }\n",
              "\n",
              "    .dataframe thead th {\n",
              "        text-align: right;\n",
              "    }\n",
              "</style>\n",
              "<table border=\"1\" class=\"dataframe\">\n",
              "  <thead>\n",
              "    <tr style=\"text-align: right;\">\n",
              "      <th></th>\n",
              "      <th>state</th>\n",
              "      <th>positive</th>\n",
              "    </tr>\n",
              "  </thead>\n",
              "  <tbody>\n",
              "    <tr>\n",
              "      <th>37</th>\n",
              "      <td>NY</td>\n",
              "      <td>20875</td>\n",
              "    </tr>\n",
              "    <tr>\n",
              "      <th>34</th>\n",
              "      <td>NJ</td>\n",
              "      <td>2844</td>\n",
              "    </tr>\n",
              "    <tr>\n",
              "      <th>52</th>\n",
              "      <td>WA</td>\n",
              "      <td>1996</td>\n",
              "    </tr>\n",
              "    <tr>\n",
              "      <th>5</th>\n",
              "      <td>CA</td>\n",
              "      <td>1733</td>\n",
              "    </tr>\n",
              "    <tr>\n",
              "      <th>24</th>\n",
              "      <td>MI</td>\n",
              "      <td>1328</td>\n",
              "    </tr>\n",
              "    <tr>\n",
              "      <th>16</th>\n",
              "      <td>IL</td>\n",
              "      <td>1285</td>\n",
              "    </tr>\n",
              "    <tr>\n",
              "      <th>20</th>\n",
              "      <td>LA</td>\n",
              "      <td>1172</td>\n",
              "    </tr>\n",
              "    <tr>\n",
              "      <th>10</th>\n",
              "      <td>FL</td>\n",
              "      <td>1171</td>\n",
              "    </tr>\n",
              "    <tr>\n",
              "      <th>21</th>\n",
              "      <td>MA</td>\n",
              "      <td>777</td>\n",
              "    </tr>\n",
              "    <tr>\n",
              "      <th>11</th>\n",
              "      <td>GA</td>\n",
              "      <td>772</td>\n",
              "    </tr>\n",
              "  </tbody>\n",
              "</table>\n",
              "</div>"
            ],
            "text/plain": [
              "   state  positive\n",
              "37    NY     20875\n",
              "34    NJ      2844\n",
              "52    WA      1996\n",
              "5     CA      1733\n",
              "24    MI      1328\n",
              "16    IL      1285\n",
              "20    LA      1172\n",
              "10    FL      1171\n",
              "21    MA       777\n",
              "11    GA       772"
            ]
          },
          "metadata": {
            "tags": []
          },
          "execution_count": 7
        }
      ]
    },
    {
      "cell_type": "code",
      "metadata": {
        "id": "aDnXxFW47TDX",
        "colab_type": "code",
        "colab": {}
      },
      "source": [
        "#Compare growth from 20200311 and 202020313\n",
        "dtstart = 20200311\n",
        "dtend = 20200317\n",
        "dfCA = dfCovidtracking[dfCovidtracking.state=='CA']"
      ],
      "execution_count": 0,
      "outputs": []
    },
    {
      "cell_type": "code",
      "metadata": {
        "id": "ZbzZ81viuetv",
        "colab_type": "code",
        "outputId": "78d6f367-349c-4914-cff9-276a95cc1ad5",
        "colab": {
          "base_uri": "https://localhost:8080/",
          "height": 199
        }
      },
      "source": [
        "arCols = ['positive', 'negative', 'death']\n",
        "arTotCols= ['positive', 'negative']\n",
        "\n",
        "dfUSAstart = dfCovidtracking.loc[dfCovidtracking.date == dtstart, arCols].sum()\n",
        "print(dfUSAstart)\n",
        "print(dfUSAstart.loc[arTotCols].sum())\n",
        "dfUSAend = dfCovidtracking.loc[dfCovidtracking.date == dtend, arCols].sum()\n",
        "print(dfUSAend)\n",
        "print(dfUSAend.loc[arTotCols].sum())\n"
      ],
      "execution_count": 9,
      "outputs": [
        {
          "output_type": "stream",
          "text": [
            "positive    1053\n",
            "negative    5978\n",
            "death         27\n",
            "dtype: int64\n",
            "7031\n",
            "positive     5723\n",
            "negative    47604\n",
            "death          90\n",
            "dtype: int64\n",
            "53327\n"
          ],
          "name": "stdout"
        }
      ]
    },
    {
      "cell_type": "code",
      "metadata": {
        "id": "rFOHyOwb4bcm",
        "colab_type": "code",
        "colab": {}
      },
      "source": [
        "gbUSA = dfCovidtracking.groupby(['date'])\n",
        "gbCA = dfCovidtracking[dfCovidtracking.state=='CA'].groupby(['date'])\n",
        "\n",
        "dfUSAPos = gbUSA.positive.sum().reset_index().copy()\n",
        "dfCAPos = gbCA.positive.sum().reset_index().copy()\n",
        "\n",
        "#This will calculate the percentage each day is of the total. In a flattening, this will be more even\n",
        "# In a high growth situation, you'll higher percentages at the tail. \n",
        "dfUSAPos['PCT']= dfUSAPos.positive/dfUSAPos.max().positive\n",
        "dfCAPos['PCT']=dfCAPos.positive/dfCAPos.max().positive"
      ],
      "execution_count": 0,
      "outputs": []
    },
    {
      "cell_type": "code",
      "metadata": {
        "colab_type": "code",
        "outputId": "c601f0c1-454f-45ac-c7c1-75ac7504ec7f",
        "id": "BHKhtPRozVFF",
        "colab": {
          "base_uri": "https://localhost:8080/",
          "height": 258
        }
      },
      "source": [
        "dfUSAPos[-7:]"
      ],
      "execution_count": 11,
      "outputs": [
        {
          "output_type": "execute_result",
          "data": {
            "text/html": [
              "<div>\n",
              "<style scoped>\n",
              "    .dataframe tbody tr th:only-of-type {\n",
              "        vertical-align: middle;\n",
              "    }\n",
              "\n",
              "    .dataframe tbody tr th {\n",
              "        vertical-align: top;\n",
              "    }\n",
              "\n",
              "    .dataframe thead th {\n",
              "        text-align: right;\n",
              "    }\n",
              "</style>\n",
              "<table border=\"1\" class=\"dataframe\">\n",
              "  <thead>\n",
              "    <tr style=\"text-align: right;\">\n",
              "      <th></th>\n",
              "      <th>date</th>\n",
              "      <th>positive</th>\n",
              "      <th>PCT</th>\n",
              "    </tr>\n",
              "  </thead>\n",
              "  <tbody>\n",
              "    <tr>\n",
              "      <th>13</th>\n",
              "      <td>20200317</td>\n",
              "      <td>5723</td>\n",
              "      <td>0.135732</td>\n",
              "    </tr>\n",
              "    <tr>\n",
              "      <th>14</th>\n",
              "      <td>20200318</td>\n",
              "      <td>7731</td>\n",
              "      <td>0.183355</td>\n",
              "    </tr>\n",
              "    <tr>\n",
              "      <th>15</th>\n",
              "      <td>20200319</td>\n",
              "      <td>11723</td>\n",
              "      <td>0.278033</td>\n",
              "    </tr>\n",
              "    <tr>\n",
              "      <th>16</th>\n",
              "      <td>20200320</td>\n",
              "      <td>17038</td>\n",
              "      <td>0.404089</td>\n",
              "    </tr>\n",
              "    <tr>\n",
              "      <th>17</th>\n",
              "      <td>20200321</td>\n",
              "      <td>23203</td>\n",
              "      <td>0.550304</td>\n",
              "    </tr>\n",
              "    <tr>\n",
              "      <th>18</th>\n",
              "      <td>20200322</td>\n",
              "      <td>31888</td>\n",
              "      <td>0.756285</td>\n",
              "    </tr>\n",
              "    <tr>\n",
              "      <th>19</th>\n",
              "      <td>20200323</td>\n",
              "      <td>42164</td>\n",
              "      <td>1.000000</td>\n",
              "    </tr>\n",
              "  </tbody>\n",
              "</table>\n",
              "</div>"
            ],
            "text/plain": [
              "        date  positive       PCT\n",
              "13  20200317      5723  0.135732\n",
              "14  20200318      7731  0.183355\n",
              "15  20200319     11723  0.278033\n",
              "16  20200320     17038  0.404089\n",
              "17  20200321     23203  0.550304\n",
              "18  20200322     31888  0.756285\n",
              "19  20200323     42164  1.000000"
            ]
          },
          "metadata": {
            "tags": []
          },
          "execution_count": 11
        }
      ]
    },
    {
      "cell_type": "code",
      "metadata": {
        "colab_type": "code",
        "outputId": "06d820e3-935f-48a5-bd78-2afaa749c4c8",
        "id": "EI4hKgZ5zUd8",
        "colab": {
          "base_uri": "https://localhost:8080/",
          "height": 258
        }
      },
      "source": [
        "dfCAPos[-7:]"
      ],
      "execution_count": 12,
      "outputs": [
        {
          "output_type": "execute_result",
          "data": {
            "text/html": [
              "<div>\n",
              "<style scoped>\n",
              "    .dataframe tbody tr th:only-of-type {\n",
              "        vertical-align: middle;\n",
              "    }\n",
              "\n",
              "    .dataframe tbody tr th {\n",
              "        vertical-align: top;\n",
              "    }\n",
              "\n",
              "    .dataframe thead th {\n",
              "        text-align: right;\n",
              "    }\n",
              "</style>\n",
              "<table border=\"1\" class=\"dataframe\">\n",
              "  <thead>\n",
              "    <tr style=\"text-align: right;\">\n",
              "      <th></th>\n",
              "      <th>date</th>\n",
              "      <th>positive</th>\n",
              "      <th>PCT</th>\n",
              "    </tr>\n",
              "  </thead>\n",
              "  <tbody>\n",
              "    <tr>\n",
              "      <th>13</th>\n",
              "      <td>20200317</td>\n",
              "      <td>483</td>\n",
              "      <td>0.278707</td>\n",
              "    </tr>\n",
              "    <tr>\n",
              "      <th>14</th>\n",
              "      <td>20200318</td>\n",
              "      <td>611</td>\n",
              "      <td>0.352568</td>\n",
              "    </tr>\n",
              "    <tr>\n",
              "      <th>15</th>\n",
              "      <td>20200319</td>\n",
              "      <td>924</td>\n",
              "      <td>0.533179</td>\n",
              "    </tr>\n",
              "    <tr>\n",
              "      <th>16</th>\n",
              "      <td>20200320</td>\n",
              "      <td>1063</td>\n",
              "      <td>0.613387</td>\n",
              "    </tr>\n",
              "    <tr>\n",
              "      <th>17</th>\n",
              "      <td>20200321</td>\n",
              "      <td>1279</td>\n",
              "      <td>0.738027</td>\n",
              "    </tr>\n",
              "    <tr>\n",
              "      <th>18</th>\n",
              "      <td>20200322</td>\n",
              "      <td>1536</td>\n",
              "      <td>0.886324</td>\n",
              "    </tr>\n",
              "    <tr>\n",
              "      <th>19</th>\n",
              "      <td>20200323</td>\n",
              "      <td>1733</td>\n",
              "      <td>1.000000</td>\n",
              "    </tr>\n",
              "  </tbody>\n",
              "</table>\n",
              "</div>"
            ],
            "text/plain": [
              "        date  positive       PCT\n",
              "13  20200317       483  0.278707\n",
              "14  20200318       611  0.352568\n",
              "15  20200319       924  0.533179\n",
              "16  20200320      1063  0.613387\n",
              "17  20200321      1279  0.738027\n",
              "18  20200322      1536  0.886324\n",
              "19  20200323      1733  1.000000"
            ]
          },
          "metadata": {
            "tags": []
          },
          "execution_count": 12
        }
      ]
    },
    {
      "cell_type": "code",
      "metadata": {
        "id": "BTvuZKJN0RoI",
        "colab_type": "code",
        "outputId": "313c408d-ac04-4603-d670-5c6213a7589f",
        "colab": {
          "base_uri": "https://localhost:8080/",
          "height": 228
        }
      },
      "source": [
        "gbUSA.sum()[-5:]"
      ],
      "execution_count": 13,
      "outputs": [
        {
          "output_type": "execute_result",
          "data": {
            "text/html": [
              "<div>\n",
              "<style scoped>\n",
              "    .dataframe tbody tr th:only-of-type {\n",
              "        vertical-align: middle;\n",
              "    }\n",
              "\n",
              "    .dataframe tbody tr th {\n",
              "        vertical-align: top;\n",
              "    }\n",
              "\n",
              "    .dataframe thead th {\n",
              "        text-align: right;\n",
              "    }\n",
              "</style>\n",
              "<table border=\"1\" class=\"dataframe\">\n",
              "  <thead>\n",
              "    <tr style=\"text-align: right;\">\n",
              "      <th></th>\n",
              "      <th>positive</th>\n",
              "      <th>negative</th>\n",
              "      <th>pending</th>\n",
              "      <th>hospitalized</th>\n",
              "      <th>death</th>\n",
              "      <th>total</th>\n",
              "    </tr>\n",
              "    <tr>\n",
              "      <th>date</th>\n",
              "      <th></th>\n",
              "      <th></th>\n",
              "      <th></th>\n",
              "      <th></th>\n",
              "      <th></th>\n",
              "      <th></th>\n",
              "    </tr>\n",
              "  </thead>\n",
              "  <tbody>\n",
              "    <tr>\n",
              "      <th>20200319</th>\n",
              "      <td>11723</td>\n",
              "      <td>89119</td>\n",
              "      <td>3025</td>\n",
              "      <td>0.0</td>\n",
              "      <td>160</td>\n",
              "      <td>103867</td>\n",
              "    </tr>\n",
              "    <tr>\n",
              "      <th>20200320</th>\n",
              "      <td>17038</td>\n",
              "      <td>118147</td>\n",
              "      <td>3336</td>\n",
              "      <td>0.0</td>\n",
              "      <td>219</td>\n",
              "      <td>138521</td>\n",
              "    </tr>\n",
              "    <tr>\n",
              "      <th>20200321</th>\n",
              "      <td>23203</td>\n",
              "      <td>155909</td>\n",
              "      <td>3477</td>\n",
              "      <td>1964.0</td>\n",
              "      <td>272</td>\n",
              "      <td>182589</td>\n",
              "    </tr>\n",
              "    <tr>\n",
              "      <th>20200322</th>\n",
              "      <td>31888</td>\n",
              "      <td>193463</td>\n",
              "      <td>2842</td>\n",
              "      <td>2554.0</td>\n",
              "      <td>398</td>\n",
              "      <td>228216</td>\n",
              "    </tr>\n",
              "    <tr>\n",
              "      <th>20200323</th>\n",
              "      <td>42164</td>\n",
              "      <td>237321</td>\n",
              "      <td>14571</td>\n",
              "      <td>3325.0</td>\n",
              "      <td>471</td>\n",
              "      <td>294056</td>\n",
              "    </tr>\n",
              "  </tbody>\n",
              "</table>\n",
              "</div>"
            ],
            "text/plain": [
              "          positive  negative  pending  hospitalized  death   total\n",
              "date                                                              \n",
              "20200319     11723     89119     3025           0.0    160  103867\n",
              "20200320     17038    118147     3336           0.0    219  138521\n",
              "20200321     23203    155909     3477        1964.0    272  182589\n",
              "20200322     31888    193463     2842        2554.0    398  228216\n",
              "20200323     42164    237321    14571        3325.0    471  294056"
            ]
          },
          "metadata": {
            "tags": []
          },
          "execution_count": 13
        }
      ]
    },
    {
      "cell_type": "code",
      "metadata": {
        "id": "916a0sCVdNRQ",
        "colab_type": "code",
        "outputId": "379dfd4d-d03c-4f9b-fc6a-726b54d0a840",
        "colab": {
          "base_uri": "https://localhost:8080/",
          "height": 297
        }
      },
      "source": [
        "gbUSA.sum().loc[:, ['positive', 'negative','death','total']].plot.line()"
      ],
      "execution_count": 14,
      "outputs": [
        {
          "output_type": "execute_result",
          "data": {
            "text/plain": [
              "<matplotlib.axes._subplots.AxesSubplot at 0x7f64c64f0dd8>"
            ]
          },
          "metadata": {
            "tags": []
          },
          "execution_count": 14
        },
        {
          "output_type": "display_data",
          "data": {
            "image/png": "[encoded data removed]",
            "text/plain": [
              "<Figure size 432x288 with 1 Axes>"
            ]
          },
          "metadata": {
            "tags": []
          }
        }
      ]
    },
    {
      "cell_type": "code",
      "metadata": {
        "id": "WewkySHXaLc4",
        "colab_type": "code",
        "colab": {
          "base_uri": "https://localhost:8080/",
          "height": 498
        },
        "outputId": "6fe526eb-fda2-4388-e045-bdf13f48b6d0"
      },
      "source": [
        "dfWHO[-14:]"
      ],
      "execution_count": 15,
      "outputs": [
        {
          "output_type": "execute_result",
          "data": {
            "text/html": [
              "<div>\n",
              "<style scoped>\n",
              "    .dataframe tbody tr th:only-of-type {\n",
              "        vertical-align: middle;\n",
              "    }\n",
              "\n",
              "    .dataframe tbody tr th {\n",
              "        vertical-align: top;\n",
              "    }\n",
              "\n",
              "    .dataframe thead th {\n",
              "        text-align: right;\n",
              "    }\n",
              "</style>\n",
              "<table border=\"1\" class=\"dataframe\">\n",
              "  <thead>\n",
              "    <tr style=\"text-align: right;\">\n",
              "      <th></th>\n",
              "      <th>confirmed</th>\n",
              "      <th>who_deaths</th>\n",
              "    </tr>\n",
              "    <tr>\n",
              "      <th>date</th>\n",
              "      <th></th>\n",
              "      <th></th>\n",
              "    </tr>\n",
              "  </thead>\n",
              "  <tbody>\n",
              "    <tr>\n",
              "      <th>20200310</th>\n",
              "      <td>472</td>\n",
              "      <td>19</td>\n",
              "    </tr>\n",
              "    <tr>\n",
              "      <th>20200311</th>\n",
              "      <td>696</td>\n",
              "      <td>25</td>\n",
              "    </tr>\n",
              "    <tr>\n",
              "      <th>20200312</th>\n",
              "      <td>987</td>\n",
              "      <td>29</td>\n",
              "    </tr>\n",
              "    <tr>\n",
              "      <th>20200313</th>\n",
              "      <td>1264</td>\n",
              "      <td>36</td>\n",
              "    </tr>\n",
              "    <tr>\n",
              "      <th>20200314</th>\n",
              "      <td>1678</td>\n",
              "      <td>41</td>\n",
              "    </tr>\n",
              "    <tr>\n",
              "      <th>20200315</th>\n",
              "      <td>1678</td>\n",
              "      <td>41</td>\n",
              "    </tr>\n",
              "    <tr>\n",
              "      <th>20200316</th>\n",
              "      <td>1678</td>\n",
              "      <td>41</td>\n",
              "    </tr>\n",
              "    <tr>\n",
              "      <th>20200317</th>\n",
              "      <td>3503</td>\n",
              "      <td>58</td>\n",
              "    </tr>\n",
              "    <tr>\n",
              "      <th>20200318</th>\n",
              "      <td>3536</td>\n",
              "      <td>58</td>\n",
              "    </tr>\n",
              "    <tr>\n",
              "      <th>20200319</th>\n",
              "      <td>7087</td>\n",
              "      <td>100</td>\n",
              "    </tr>\n",
              "    <tr>\n",
              "      <th>20200320</th>\n",
              "      <td>10442</td>\n",
              "      <td>150</td>\n",
              "    </tr>\n",
              "    <tr>\n",
              "      <th>20200321</th>\n",
              "      <td>15219</td>\n",
              "      <td>201</td>\n",
              "    </tr>\n",
              "    <tr>\n",
              "      <th>20200322</th>\n",
              "      <td>15219</td>\n",
              "      <td>201</td>\n",
              "    </tr>\n",
              "    <tr>\n",
              "      <th>20200323</th>\n",
              "      <td>31573</td>\n",
              "      <td>402</td>\n",
              "    </tr>\n",
              "  </tbody>\n",
              "</table>\n",
              "</div>"
            ],
            "text/plain": [
              "          confirmed  who_deaths\n",
              "date                           \n",
              "20200310        472          19\n",
              "20200311        696          25\n",
              "20200312        987          29\n",
              "20200313       1264          36\n",
              "20200314       1678          41\n",
              "20200315       1678          41\n",
              "20200316       1678          41\n",
              "20200317       3503          58\n",
              "20200318       3536          58\n",
              "20200319       7087         100\n",
              "20200320      10442         150\n",
              "20200321      15219         201\n",
              "20200322      15219         201\n",
              "20200323      31573         402"
            ]
          },
          "metadata": {
            "tags": []
          },
          "execution_count": 15
        }
      ]
    },
    {
      "cell_type": "code",
      "metadata": {
        "id": "Ftv2uSph2y7_",
        "colab_type": "code",
        "outputId": "071a0e95-4316-4f49-86f5-e746ffab02b3",
        "colab": {
          "base_uri": "https://localhost:8080/",
          "height": 297
        }
      },
      "source": [
        "dfResults = gbUSA.sum().join(dfWHO, how='left', rsuffix='_who' )\n",
        "dfResults.loc[:, ['positive', 'confirmed']].plot.line()"
      ],
      "execution_count": 16,
      "outputs": [
        {
          "output_type": "execute_result",
          "data": {
            "text/plain": [
              "<matplotlib.axes._subplots.AxesSubplot at 0x7f64c4d0c3c8>"
            ]
          },
          "metadata": {
            "tags": []
          },
          "execution_count": 16
        },
        {
          "output_type": "display_data",
          "data": {
            "image/png": "[encoded data removed]",
            "text/plain": [
              "<Figure size 432x288 with 1 Axes>"
            ]
          },
          "metadata": {
            "tags": []
          }
        }
      ]
    },
    {
      "cell_type": "code",
      "metadata": {
        "id": "F_PzBH2ydHQE",
        "colab_type": "code",
        "colab": {
          "base_uri": "https://localhost:8080/",
          "height": 228
        },
        "outputId": "c6b70d69-1c52-4642-c001-e18e1686a6dd"
      },
      "source": [
        "dfResults.tail()"
      ],
      "execution_count": 17,
      "outputs": [
        {
          "output_type": "execute_result",
          "data": {
            "text/html": [
              "<div>\n",
              "<style scoped>\n",
              "    .dataframe tbody tr th:only-of-type {\n",
              "        vertical-align: middle;\n",
              "    }\n",
              "\n",
              "    .dataframe tbody tr th {\n",
              "        vertical-align: top;\n",
              "    }\n",
              "\n",
              "    .dataframe thead th {\n",
              "        text-align: right;\n",
              "    }\n",
              "</style>\n",
              "<table border=\"1\" class=\"dataframe\">\n",
              "  <thead>\n",
              "    <tr style=\"text-align: right;\">\n",
              "      <th></th>\n",
              "      <th>positive</th>\n",
              "      <th>negative</th>\n",
              "      <th>pending</th>\n",
              "      <th>hospitalized</th>\n",
              "      <th>death</th>\n",
              "      <th>total</th>\n",
              "      <th>confirmed</th>\n",
              "      <th>who_deaths</th>\n",
              "    </tr>\n",
              "    <tr>\n",
              "      <th>date</th>\n",
              "      <th></th>\n",
              "      <th></th>\n",
              "      <th></th>\n",
              "      <th></th>\n",
              "      <th></th>\n",
              "      <th></th>\n",
              "      <th></th>\n",
              "      <th></th>\n",
              "    </tr>\n",
              "  </thead>\n",
              "  <tbody>\n",
              "    <tr>\n",
              "      <th>20200319</th>\n",
              "      <td>11723</td>\n",
              "      <td>89119</td>\n",
              "      <td>3025</td>\n",
              "      <td>0.0</td>\n",
              "      <td>160</td>\n",
              "      <td>103867</td>\n",
              "      <td>7087</td>\n",
              "      <td>100</td>\n",
              "    </tr>\n",
              "    <tr>\n",
              "      <th>20200320</th>\n",
              "      <td>17038</td>\n",
              "      <td>118147</td>\n",
              "      <td>3336</td>\n",
              "      <td>0.0</td>\n",
              "      <td>219</td>\n",
              "      <td>138521</td>\n",
              "      <td>10442</td>\n",
              "      <td>150</td>\n",
              "    </tr>\n",
              "    <tr>\n",
              "      <th>20200321</th>\n",
              "      <td>23203</td>\n",
              "      <td>155909</td>\n",
              "      <td>3477</td>\n",
              "      <td>1964.0</td>\n",
              "      <td>272</td>\n",
              "      <td>182589</td>\n",
              "      <td>15219</td>\n",
              "      <td>201</td>\n",
              "    </tr>\n",
              "    <tr>\n",
              "      <th>20200322</th>\n",
              "      <td>31888</td>\n",
              "      <td>193463</td>\n",
              "      <td>2842</td>\n",
              "      <td>2554.0</td>\n",
              "      <td>398</td>\n",
              "      <td>228216</td>\n",
              "      <td>15219</td>\n",
              "      <td>201</td>\n",
              "    </tr>\n",
              "    <tr>\n",
              "      <th>20200323</th>\n",
              "      <td>42164</td>\n",
              "      <td>237321</td>\n",
              "      <td>14571</td>\n",
              "      <td>3325.0</td>\n",
              "      <td>471</td>\n",
              "      <td>294056</td>\n",
              "      <td>31573</td>\n",
              "      <td>402</td>\n",
              "    </tr>\n",
              "  </tbody>\n",
              "</table>\n",
              "</div>"
            ],
            "text/plain": [
              "          positive  negative  pending  ...   total  confirmed  who_deaths\n",
              "date                                   ...                               \n",
              "20200319     11723     89119     3025  ...  103867       7087         100\n",
              "20200320     17038    118147     3336  ...  138521      10442         150\n",
              "20200321     23203    155909     3477  ...  182589      15219         201\n",
              "20200322     31888    193463     2842  ...  228216      15219         201\n",
              "20200323     42164    237321    14571  ...  294056      31573         402\n",
              "\n",
              "[5 rows x 8 columns]"
            ]
          },
          "metadata": {
            "tags": []
          },
          "execution_count": 17
        }
      ]
    },
    {
      "cell_type": "code",
      "metadata": {
        "colab_type": "code",
        "outputId": "b58b0924-f028-4bba-d60b-15f86a2ca1f7",
        "id": "55lq16z8w_Ec",
        "colab": {
          "base_uri": "https://localhost:8080/",
          "height": 288
        }
      },
      "source": [
        "gbCA.sum()[-7:]"
      ],
      "execution_count": 18,
      "outputs": [
        {
          "output_type": "execute_result",
          "data": {
            "text/html": [
              "<div>\n",
              "<style scoped>\n",
              "    .dataframe tbody tr th:only-of-type {\n",
              "        vertical-align: middle;\n",
              "    }\n",
              "\n",
              "    .dataframe tbody tr th {\n",
              "        vertical-align: top;\n",
              "    }\n",
              "\n",
              "    .dataframe thead th {\n",
              "        text-align: right;\n",
              "    }\n",
              "</style>\n",
              "<table border=\"1\" class=\"dataframe\">\n",
              "  <thead>\n",
              "    <tr style=\"text-align: right;\">\n",
              "      <th></th>\n",
              "      <th>positive</th>\n",
              "      <th>negative</th>\n",
              "      <th>pending</th>\n",
              "      <th>hospitalized</th>\n",
              "      <th>death</th>\n",
              "      <th>total</th>\n",
              "    </tr>\n",
              "    <tr>\n",
              "      <th>date</th>\n",
              "      <th></th>\n",
              "      <th></th>\n",
              "      <th></th>\n",
              "      <th></th>\n",
              "      <th></th>\n",
              "      <th></th>\n",
              "    </tr>\n",
              "  </thead>\n",
              "  <tbody>\n",
              "    <tr>\n",
              "      <th>20200317</th>\n",
              "      <td>483</td>\n",
              "      <td>7981</td>\n",
              "      <td>0</td>\n",
              "      <td>0.0</td>\n",
              "      <td>11</td>\n",
              "      <td>8407</td>\n",
              "    </tr>\n",
              "    <tr>\n",
              "      <th>20200318</th>\n",
              "      <td>611</td>\n",
              "      <td>7981</td>\n",
              "      <td>0</td>\n",
              "      <td>0.0</td>\n",
              "      <td>13</td>\n",
              "      <td>8592</td>\n",
              "    </tr>\n",
              "    <tr>\n",
              "      <th>20200319</th>\n",
              "      <td>924</td>\n",
              "      <td>8787</td>\n",
              "      <td>0</td>\n",
              "      <td>0.0</td>\n",
              "      <td>18</td>\n",
              "      <td>9711</td>\n",
              "    </tr>\n",
              "    <tr>\n",
              "      <th>20200320</th>\n",
              "      <td>1063</td>\n",
              "      <td>10424</td>\n",
              "      <td>0</td>\n",
              "      <td>0.0</td>\n",
              "      <td>20</td>\n",
              "      <td>11487</td>\n",
              "    </tr>\n",
              "    <tr>\n",
              "      <th>20200321</th>\n",
              "      <td>1279</td>\n",
              "      <td>11249</td>\n",
              "      <td>0</td>\n",
              "      <td>0.0</td>\n",
              "      <td>24</td>\n",
              "      <td>12528</td>\n",
              "    </tr>\n",
              "    <tr>\n",
              "      <th>20200322</th>\n",
              "      <td>1536</td>\n",
              "      <td>11304</td>\n",
              "      <td>0</td>\n",
              "      <td>0.0</td>\n",
              "      <td>27</td>\n",
              "      <td>12840</td>\n",
              "    </tr>\n",
              "    <tr>\n",
              "      <th>20200323</th>\n",
              "      <td>1733</td>\n",
              "      <td>12567</td>\n",
              "      <td>12100</td>\n",
              "      <td>0.0</td>\n",
              "      <td>27</td>\n",
              "      <td>26400</td>\n",
              "    </tr>\n",
              "  </tbody>\n",
              "</table>\n",
              "</div>"
            ],
            "text/plain": [
              "          positive  negative  pending  hospitalized  death  total\n",
              "date                                                             \n",
              "20200317       483      7981        0           0.0     11   8407\n",
              "20200318       611      7981        0           0.0     13   8592\n",
              "20200319       924      8787        0           0.0     18   9711\n",
              "20200320      1063     10424        0           0.0     20  11487\n",
              "20200321      1279     11249        0           0.0     24  12528\n",
              "20200322      1536     11304        0           0.0     27  12840\n",
              "20200323      1733     12567    12100           0.0     27  26400"
            ]
          },
          "metadata": {
            "tags": []
          },
          "execution_count": 18
        }
      ]
    },
    {
      "cell_type": "code",
      "metadata": {
        "id": "3WBkdfv2eLEc",
        "colab_type": "code",
        "outputId": "cee5423b-9b13-4062-e9a3-60c8f57a625d",
        "colab": {
          "base_uri": "https://localhost:8080/",
          "height": 72
        }
      },
      "source": [
        "dfJHUData[dfJHUData.country=='US'][['confirmed', 'dead']].sum()"
      ],
      "execution_count": 19,
      "outputs": [
        {
          "output_type": "execute_result",
          "data": {
            "text/plain": [
              "confirmed    43667\n",
              "dead           552\n",
              "dtype: int64"
            ]
          },
          "metadata": {
            "tags": []
          },
          "execution_count": 19
        }
      ]
    },
    {
      "cell_type": "code",
      "metadata": {
        "id": "NUQ35Inse05H",
        "colab_type": "code",
        "outputId": "cae5cb2b-87cb-42da-96a7-1e687c9023a9",
        "colab": {
          "base_uri": "https://localhost:8080/",
          "height": 72
        }
      },
      "source": [
        "dfJHUData[(dfJHUData.country=='US')&(dfJHUData.state=='California')][['confirmed', 'dead']].sum()"
      ],
      "execution_count": 20,
      "outputs": [
        {
          "output_type": "execute_result",
          "data": {
            "text/plain": [
              "confirmed    2108\n",
              "dead           39\n",
              "dtype: int64"
            ]
          },
          "metadata": {
            "tags": []
          },
          "execution_count": 20
        }
      ]
    },
    {
      "cell_type": "code",
      "metadata": {
        "id": "H0JVVTFGfMOW",
        "colab_type": "code",
        "colab": {}
      },
      "source": [
        "dfJHUUS = dfJHUData[dfJHUData.country=='US']\n",
        "gbJHUByState= dfJHUUS.groupby(by='state')\n",
        "gbJHUByCountry = dfJHUData.groupby(by='country')"
      ],
      "execution_count": 0,
      "outputs": []
    },
    {
      "cell_type": "code",
      "metadata": {
        "id": "W8qWd0AYmg58",
        "colab_type": "code",
        "outputId": "50d4aa04-f2dc-4622-f2c4-b62f77f0300d",
        "colab": {
          "base_uri": "https://localhost:8080/",
          "height": 235
        }
      },
      "source": [
        "gbJHUByCountry.confirmed.sum().sort_values(ascending=False).head(10)"
      ],
      "execution_count": 22,
      "outputs": [
        {
          "output_type": "execute_result",
          "data": {
            "text/plain": [
              "country\n",
              "China             81496\n",
              "Italy             63927\n",
              "US                43667\n",
              "Spain             35136\n",
              "Germany           29056\n",
              "Iran              23049\n",
              "France            20123\n",
              "Korea, South       8961\n",
              "Switzerland        8795\n",
              "United Kingdom     6726\n",
              "Name: confirmed, dtype: int64"
            ]
          },
          "metadata": {
            "tags": []
          },
          "execution_count": 22
        }
      ]
    },
    {
      "cell_type": "code",
      "metadata": {
        "id": "YYKFYQpImnHI",
        "colab_type": "code",
        "outputId": "d86503b0-a687-4765-be29-0c740004ce75",
        "colab": {
          "base_uri": "https://localhost:8080/",
          "height": 417
        }
      },
      "source": [
        "gbJHUByCountry.confirmed.sum().sort_values(ascending=False).head(20)"
      ],
      "execution_count": 23,
      "outputs": [
        {
          "output_type": "execute_result",
          "data": {
            "text/plain": [
              "country\n",
              "China             81496\n",
              "Italy             63927\n",
              "US                43667\n",
              "Spain             35136\n",
              "Germany           29056\n",
              "Iran              23049\n",
              "France            20123\n",
              "Korea, South       8961\n",
              "Switzerland        8795\n",
              "United Kingdom     6726\n",
              "Netherlands        4764\n",
              "Austria            4474\n",
              "Belgium            3743\n",
              "Norway             2621\n",
              "Canada             2088\n",
              "Portugal           2060\n",
              "Sweden             2046\n",
              "Brazil             1924\n",
              "Australia          1682\n",
              "Denmark            1572\n",
              "Name: confirmed, dtype: int64"
            ]
          },
          "metadata": {
            "tags": []
          },
          "execution_count": 23
        }
      ]
    },
    {
      "cell_type": "code",
      "metadata": {
        "id": "9crIlvPH4oSU",
        "colab_type": "code",
        "colab": {}
      },
      "source": [
        "dfData = dfCovidtracking.groupby('date')"
      ],
      "execution_count": 0,
      "outputs": []
    },
    {
      "cell_type": "code",
      "metadata": {
        "id": "SjlCtiOt2b__",
        "colab_type": "code",
        "colab": {}
      },
      "source": [
        "dfStateTotal = dfCovidtracking[['state', 'positive']].groupby(by='state').max() \\\n",
        ".rename(columns={'positive':'current_total'})\n"
      ],
      "execution_count": 0,
      "outputs": []
    },
    {
      "cell_type": "code",
      "metadata": {
        "id": "iPsfvvHC2_j1",
        "colab_type": "code",
        "colab": {}
      },
      "source": [
        "dfState = dfCovidtracking[['date','state','positive']].set_index('state') \\\n",
        "  .join(dfStateTotal)"
      ],
      "execution_count": 0,
      "outputs": []
    },
    {
      "cell_type": "code",
      "metadata": {
        "id": "AkxH55Mx5yE6",
        "colab_type": "code",
        "colab": {}
      },
      "source": [
        "dfState['pct']=dfState.positive/dfState.current_total"
      ],
      "execution_count": 0,
      "outputs": []
    },
    {
      "cell_type": "code",
      "metadata": {
        "id": "PKQ2rgz76XZR",
        "colab_type": "code",
        "outputId": "41842322-2667-400b-8c5c-d64f638f7a0f",
        "colab": {
          "base_uri": "https://localhost:8080/",
          "height": 678
        }
      },
      "source": [
        "dfState.loc['NY']"
      ],
      "execution_count": 28,
      "outputs": [
        {
          "output_type": "execute_result",
          "data": {
            "text/html": [
              "<div>\n",
              "<style scoped>\n",
              "    .dataframe tbody tr th:only-of-type {\n",
              "        vertical-align: middle;\n",
              "    }\n",
              "\n",
              "    .dataframe tbody tr th {\n",
              "        vertical-align: top;\n",
              "    }\n",
              "\n",
              "    .dataframe thead th {\n",
              "        text-align: right;\n",
              "    }\n",
              "</style>\n",
              "<table border=\"1\" class=\"dataframe\">\n",
              "  <thead>\n",
              "    <tr style=\"text-align: right;\">\n",
              "      <th></th>\n",
              "      <th>date</th>\n",
              "      <th>positive</th>\n",
              "      <th>current_total</th>\n",
              "      <th>pct</th>\n",
              "    </tr>\n",
              "    <tr>\n",
              "      <th>state</th>\n",
              "      <th></th>\n",
              "      <th></th>\n",
              "      <th></th>\n",
              "      <th></th>\n",
              "    </tr>\n",
              "  </thead>\n",
              "  <tbody>\n",
              "    <tr>\n",
              "      <th>NY</th>\n",
              "      <td>20200323</td>\n",
              "      <td>20875</td>\n",
              "      <td>20875</td>\n",
              "      <td>1.000000</td>\n",
              "    </tr>\n",
              "    <tr>\n",
              "      <th>NY</th>\n",
              "      <td>20200322</td>\n",
              "      <td>15168</td>\n",
              "      <td>20875</td>\n",
              "      <td>0.726611</td>\n",
              "    </tr>\n",
              "    <tr>\n",
              "      <th>NY</th>\n",
              "      <td>20200321</td>\n",
              "      <td>10356</td>\n",
              "      <td>20875</td>\n",
              "      <td>0.496096</td>\n",
              "    </tr>\n",
              "    <tr>\n",
              "      <th>NY</th>\n",
              "      <td>20200320</td>\n",
              "      <td>7102</td>\n",
              "      <td>20875</td>\n",
              "      <td>0.340216</td>\n",
              "    </tr>\n",
              "    <tr>\n",
              "      <th>NY</th>\n",
              "      <td>20200319</td>\n",
              "      <td>4152</td>\n",
              "      <td>20875</td>\n",
              "      <td>0.198898</td>\n",
              "    </tr>\n",
              "    <tr>\n",
              "      <th>NY</th>\n",
              "      <td>20200318</td>\n",
              "      <td>2382</td>\n",
              "      <td>20875</td>\n",
              "      <td>0.114108</td>\n",
              "    </tr>\n",
              "    <tr>\n",
              "      <th>NY</th>\n",
              "      <td>20200317</td>\n",
              "      <td>1700</td>\n",
              "      <td>20875</td>\n",
              "      <td>0.081437</td>\n",
              "    </tr>\n",
              "    <tr>\n",
              "      <th>NY</th>\n",
              "      <td>20200316</td>\n",
              "      <td>950</td>\n",
              "      <td>20875</td>\n",
              "      <td>0.045509</td>\n",
              "    </tr>\n",
              "    <tr>\n",
              "      <th>NY</th>\n",
              "      <td>20200315</td>\n",
              "      <td>729</td>\n",
              "      <td>20875</td>\n",
              "      <td>0.034922</td>\n",
              "    </tr>\n",
              "    <tr>\n",
              "      <th>NY</th>\n",
              "      <td>20200314</td>\n",
              "      <td>524</td>\n",
              "      <td>20875</td>\n",
              "      <td>0.025102</td>\n",
              "    </tr>\n",
              "    <tr>\n",
              "      <th>NY</th>\n",
              "      <td>20200313</td>\n",
              "      <td>421</td>\n",
              "      <td>20875</td>\n",
              "      <td>0.020168</td>\n",
              "    </tr>\n",
              "    <tr>\n",
              "      <th>NY</th>\n",
              "      <td>20200312</td>\n",
              "      <td>216</td>\n",
              "      <td>20875</td>\n",
              "      <td>0.010347</td>\n",
              "    </tr>\n",
              "    <tr>\n",
              "      <th>NY</th>\n",
              "      <td>20200311</td>\n",
              "      <td>216</td>\n",
              "      <td>20875</td>\n",
              "      <td>0.010347</td>\n",
              "    </tr>\n",
              "    <tr>\n",
              "      <th>NY</th>\n",
              "      <td>20200310</td>\n",
              "      <td>173</td>\n",
              "      <td>20875</td>\n",
              "      <td>0.008287</td>\n",
              "    </tr>\n",
              "    <tr>\n",
              "      <th>NY</th>\n",
              "      <td>20200309</td>\n",
              "      <td>142</td>\n",
              "      <td>20875</td>\n",
              "      <td>0.006802</td>\n",
              "    </tr>\n",
              "    <tr>\n",
              "      <th>NY</th>\n",
              "      <td>20200308</td>\n",
              "      <td>105</td>\n",
              "      <td>20875</td>\n",
              "      <td>0.005030</td>\n",
              "    </tr>\n",
              "    <tr>\n",
              "      <th>NY</th>\n",
              "      <td>20200307</td>\n",
              "      <td>76</td>\n",
              "      <td>20875</td>\n",
              "      <td>0.003641</td>\n",
              "    </tr>\n",
              "    <tr>\n",
              "      <th>NY</th>\n",
              "      <td>20200306</td>\n",
              "      <td>33</td>\n",
              "      <td>20875</td>\n",
              "      <td>0.001581</td>\n",
              "    </tr>\n",
              "    <tr>\n",
              "      <th>NY</th>\n",
              "      <td>20200305</td>\n",
              "      <td>22</td>\n",
              "      <td>20875</td>\n",
              "      <td>0.001054</td>\n",
              "    </tr>\n",
              "    <tr>\n",
              "      <th>NY</th>\n",
              "      <td>20200304</td>\n",
              "      <td>6</td>\n",
              "      <td>20875</td>\n",
              "      <td>0.000287</td>\n",
              "    </tr>\n",
              "  </tbody>\n",
              "</table>\n",
              "</div>"
            ],
            "text/plain": [
              "           date  positive  current_total       pct\n",
              "state                                             \n",
              "NY     20200323     20875          20875  1.000000\n",
              "NY     20200322     15168          20875  0.726611\n",
              "NY     20200321     10356          20875  0.496096\n",
              "NY     20200320      7102          20875  0.340216\n",
              "NY     20200319      4152          20875  0.198898\n",
              "NY     20200318      2382          20875  0.114108\n",
              "NY     20200317      1700          20875  0.081437\n",
              "NY     20200316       950          20875  0.045509\n",
              "NY     20200315       729          20875  0.034922\n",
              "NY     20200314       524          20875  0.025102\n",
              "NY     20200313       421          20875  0.020168\n",
              "NY     20200312       216          20875  0.010347\n",
              "NY     20200311       216          20875  0.010347\n",
              "NY     20200310       173          20875  0.008287\n",
              "NY     20200309       142          20875  0.006802\n",
              "NY     20200308       105          20875  0.005030\n",
              "NY     20200307        76          20875  0.003641\n",
              "NY     20200306        33          20875  0.001581\n",
              "NY     20200305        22          20875  0.001054\n",
              "NY     20200304         6          20875  0.000287"
            ]
          },
          "metadata": {
            "tags": []
          },
          "execution_count": 28
        }
      ]
    },
    {
      "cell_type": "code",
      "metadata": {
        "id": "dkgVF6Q19glV",
        "colab_type": "code",
        "colab": {}
      },
      "source": [
        "res = dfState.reset_index().pivot(index = 'date', columns='state', values='pct').fillna(0)"
      ],
      "execution_count": 0,
      "outputs": []
    },
    {
      "cell_type": "code",
      "metadata": {
        "id": "w1ml4KC6BF7q",
        "colab_type": "code",
        "outputId": "f9d89600-d90e-44a6-f4f0-61e083ff6b46",
        "colab": {
          "base_uri": "https://localhost:8080/",
          "height": 297
        }
      },
      "source": [
        "res.loc[:, ['CA','NY','NC']].plot.line()"
      ],
      "execution_count": 31,
      "outputs": [
        {
          "output_type": "execute_result",
          "data": {
            "text/plain": [
              "<matplotlib.axes._subplots.AxesSubplot at 0x7f64c4cc3278>"
            ]
          },
          "metadata": {
            "tags": []
          },
          "execution_count": 31
        },
        {
          "output_type": "display_data",
          "data": {
            "image/png": "[encoded data removed]",
            "text/plain": [
              "<Figure size 432x288 with 1 Axes>"
            ]
          },
          "metadata": {
            "tags": []
          }
        }
      ]
    },
    {
      "cell_type": "code",
      "metadata": {
        "id": "eaLSwLbuBLY0",
        "colab_type": "code",
        "colab": {}
      },
      "source": [
        "dfNYTesting = dfCovidtracking.loc[dfCovidtracking.state=='NY', ['date', 'negative']].set_index('date')"
      ],
      "execution_count": 0,
      "outputs": []
    },
    {
      "cell_type": "code",
      "metadata": {
        "id": "vhL4WBWECIhP",
        "colab_type": "code",
        "outputId": "e9acf383-e527-4595-92a5-7d3bad7b354e",
        "colab": {
          "base_uri": "https://localhost:8080/",
          "height": 300
        }
      },
      "source": [
        "dfNYTesting.plot.line()"
      ],
      "execution_count": 34,
      "outputs": [
        {
          "output_type": "execute_result",
          "data": {
            "text/plain": [
              "<matplotlib.axes._subplots.AxesSubplot at 0x7f64c4c400f0>"
            ]
          },
          "metadata": {
            "tags": []
          },
          "execution_count": 34
        },
        {
          "output_type": "display_data",
          "data": {
            "image/png": "[encoded data removed]",
            "text/plain": [
              "<Figure size 432x288 with 1 Axes>"
            ]
          },
          "metadata": {
            "tags": []
          }
        }
      ]
    },
    {
      "cell_type": "code",
      "metadata": {
        "id": "HLc_MFH7Cum1",
        "colab_type": "code",
        "colab": {}
      },
      "source": [
        "dfDates = dfState.reset_index()"
      ],
      "execution_count": 0,
      "outputs": []
    },
    {
      "cell_type": "code",
      "metadata": {
        "id": "c4uuFBTquS3o",
        "colab_type": "code",
        "outputId": "8d2ee9ca-c9f0-4ee1-9b5a-fb01b46472b3",
        "colab": {
          "base_uri": "https://localhost:8080/",
          "height": 198
        }
      },
      "source": [
        "dfDates[(dfDates.state.isin(['CA'])) & (dfDates.date>20200318)]"
      ],
      "execution_count": 36,
      "outputs": [
        {
          "output_type": "execute_result",
          "data": {
            "text/html": [
              "<div>\n",
              "<style scoped>\n",
              "    .dataframe tbody tr th:only-of-type {\n",
              "        vertical-align: middle;\n",
              "    }\n",
              "\n",
              "    .dataframe tbody tr th {\n",
              "        vertical-align: top;\n",
              "    }\n",
              "\n",
              "    .dataframe thead th {\n",
              "        text-align: right;\n",
              "    }\n",
              "</style>\n",
              "<table border=\"1\" class=\"dataframe\">\n",
              "  <thead>\n",
              "    <tr style=\"text-align: right;\">\n",
              "      <th></th>\n",
              "      <th>state</th>\n",
              "      <th>date</th>\n",
              "      <th>positive</th>\n",
              "      <th>current_total</th>\n",
              "      <th>pct</th>\n",
              "    </tr>\n",
              "  </thead>\n",
              "  <tbody>\n",
              "    <tr>\n",
              "      <th>81</th>\n",
              "      <td>CA</td>\n",
              "      <td>20200323</td>\n",
              "      <td>1733</td>\n",
              "      <td>1733</td>\n",
              "      <td>1.000000</td>\n",
              "    </tr>\n",
              "    <tr>\n",
              "      <th>82</th>\n",
              "      <td>CA</td>\n",
              "      <td>20200322</td>\n",
              "      <td>1536</td>\n",
              "      <td>1733</td>\n",
              "      <td>0.886324</td>\n",
              "    </tr>\n",
              "    <tr>\n",
              "      <th>83</th>\n",
              "      <td>CA</td>\n",
              "      <td>20200321</td>\n",
              "      <td>1279</td>\n",
              "      <td>1733</td>\n",
              "      <td>0.738027</td>\n",
              "    </tr>\n",
              "    <tr>\n",
              "      <th>84</th>\n",
              "      <td>CA</td>\n",
              "      <td>20200320</td>\n",
              "      <td>1063</td>\n",
              "      <td>1733</td>\n",
              "      <td>0.613387</td>\n",
              "    </tr>\n",
              "    <tr>\n",
              "      <th>85</th>\n",
              "      <td>CA</td>\n",
              "      <td>20200319</td>\n",
              "      <td>924</td>\n",
              "      <td>1733</td>\n",
              "      <td>0.533179</td>\n",
              "    </tr>\n",
              "  </tbody>\n",
              "</table>\n",
              "</div>"
            ],
            "text/plain": [
              "   state      date  positive  current_total       pct\n",
              "81    CA  20200323      1733           1733  1.000000\n",
              "82    CA  20200322      1536           1733  0.886324\n",
              "83    CA  20200321      1279           1733  0.738027\n",
              "84    CA  20200320      1063           1733  0.613387\n",
              "85    CA  20200319       924           1733  0.533179"
            ]
          },
          "metadata": {
            "tags": []
          },
          "execution_count": 36
        }
      ]
    },
    {
      "cell_type": "code",
      "metadata": {
        "id": "9qtLEoO3SdKH",
        "colab_type": "code",
        "colab": {}
      },
      "source": [
        ""
      ],
      "execution_count": 0,
      "outputs": []
    }
  ]
}