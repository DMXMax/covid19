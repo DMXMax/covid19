{
  "nbformat": 4,
  "nbformat_minor": 0,
  "metadata": {
    "colab": {
      "name": "coviddata",
      "provenance": [],
      "toc_visible": true,
      "authorship_tag": "ABX9TyMRc5Kr36o2/s1BjfqxmpiY",
      "include_colab_link": true
    },
    "kernelspec": {
      "name": "python3",
      "display_name": "Python 3"
    }
  },
  "cells": [
    {
      "cell_type": "markdown",
      "metadata": {
        "id": "view-in-github",
        "colab_type": "text"
      },
      "source": [
        "<a href=\"https://colab.research.google.com/github/DMXMax/covid19/blob/gc_20200315/coviddata.ipynb\" target=\"_parent\"><img src=\"https://colab.research.google.com/assets/colab-badge.svg\" alt=\"Open In Colab\"/></a>"
      ]
    },
    {
      "cell_type": "code",
      "metadata": {
        "id": "jCzokJEPxFhv",
        "colab_type": "code",
        "colab": {}
      },
      "source": [
        "import numpy as np\n",
        "import pandas as pd\n",
        "import matplotlib.pyplot as plt\n",
        "import requests,json\n",
        "import datetime\n"
      ],
      "execution_count": 0,
      "outputs": []
    },
    {
      "cell_type": "code",
      "metadata": {
        "id": "zNKPT5Z8BXPT",
        "colab_type": "code",
        "colab": {}
      },
      "source": [
        "covidtrackingurl = \"https://covidtracking.com/api/states/daily\"\n",
        "response = requests.get(covidtrackingurl)\n",
        "dfCovidtracking = pd.DataFrame(response.json())\n",
        "dfCovidtracking.fillna(0, inplace=True)\n",
        "dfCovidtracking.negative = dfCovidtracking.negative.astype('int64')\n",
        "dfCovidtracking.positive = dfCovidtracking.positive.astype('int64')\n",
        "dfCovidtracking.pending = dfCovidtracking.pending.astype('int64')\n",
        "dfCovidtracking.total = dfCovidtracking.total.astype('int64')\n",
        "dfCovidtracking.death = dfCovidtracking.death.astype('int64')\n"
      ],
      "execution_count": 0,
      "outputs": []
    },
    {
      "cell_type": "code",
      "metadata": {
        "id": "8_Il5iuohC8_",
        "colab_type": "code",
        "colab": {}
      },
      "source": [
        "dfWHO = pd.read_csv(\"https://raw.githubusercontent.com/DMXMax/covid19/master/who/who_data.tsv\",\n",
        "                     sep='\\t', index_col='Date')"
      ],
      "execution_count": 0,
      "outputs": []
    },
    {
      "cell_type": "code",
      "metadata": {
        "id": "IHNp61EvdwQG",
        "colab_type": "code",
        "colab": {}
      },
      "source": [
        "jhurl = \"https://raw.githubusercontent.com/CSSEGISandData/COVID-19/master/\"+\\\n",
        "\"csse_covid_19_data/csse_covid_19_daily_reports/03-23-2020.csv\"\n",
        "dfJHUData = pd.read_csv(jhurl, header=0,\n",
        "                        names=['FIPS', 'city','state', 'country', 'last_update',\n",
        "                               'lat', 'lon','confirmed', 'dead', 'recovered','active', 'key'])"
      ],
      "execution_count": 0,
      "outputs": []
    },
    {
      "cell_type": "code",
      "metadata": {
        "id": "hrPlWJJCVtBR",
        "colab_type": "code",
        "colab": {}
      },
      "source": [
        "dfWHO = dfWHO.rename(columns={\"Confirmed\": \"confirmed\", \"Deaths\": \"who_deaths\"})\n",
        "dfWHO.index.names=['date']\n"
      ],
      "execution_count": 0,
      "outputs": []
    },
    {
      "cell_type": "code",
      "metadata": {
        "id": "HWHSGPq_yF50",
        "colab_type": "code",
        "outputId": "692ecf3a-41ec-4eef-976f-023a7edb9fef",
        "colab": {
          "base_uri": "https://localhost:8080/",
          "height": 145
        }
      },
      "source": [
        "us_pop = 329968629  #Estimate from Wikipedia\n",
        "res = dfCovidtracking.loc[dfCovidtracking.date==dfCovidtracking.date.max(), ['positive', 'negative', 'pending', 'total']].sum()\n",
        "print(res)\n",
        "print(f\"Current Infection Rate {res.positive/res.total*100:2f}%\")\n",
        "print(f\"Percentage of US: {res.positive/us_pop*100:2f}%\")"
      ],
      "execution_count": 6,
      "outputs": [
        {
          "output_type": "stream",
          "text": [
            "positive     42164\n",
            "negative    237321\n",
            "pending      14571\n",
            "total       294056\n",
            "dtype: int64\n",
            "Current Infection Rate 14.338765%\n",
            "Percentage of US: 0.012778%\n"
          ],
          "name": "stdout"
        }
      ]
    },
    {
      "cell_type": "code",
      "metadata": {
        "colab_type": "code",
        "outputId": "fa9c5d8d-1797-435a-a5db-6e7b7751851c",
        "id": "idyqfNddlLPv",
        "colab": {
          "base_uri": "https://localhost:8080/",
          "height": 348
        }
      },
      "source": [
        "dfCovidtracking.loc[dfCovidtracking.date==dfCovidtracking.date.max(),\\\n",
        "  ['state', 'positive', 'negative']].sort_values(by='positive', ascending=False).head(10)"
      ],
      "execution_count": 7,
      "outputs": [
        {
          "output_type": "execute_result",
          "data": {
            "text/html": [
              "<div>\n",
              "<style scoped>\n",
              "    .dataframe tbody tr th:only-of-type {\n",
              "        vertical-align: middle;\n",
              "    }\n",
              "\n",
              "    .dataframe tbody tr th {\n",
              "        vertical-align: top;\n",
              "    }\n",
              "\n",
              "    .dataframe thead th {\n",
              "        text-align: right;\n",
              "    }\n",
              "</style>\n",
              "<table border=\"1\" class=\"dataframe\">\n",
              "  <thead>\n",
              "    <tr style=\"text-align: right;\">\n",
              "      <th></th>\n",
              "      <th>state</th>\n",
              "      <th>positive</th>\n",
              "      <th>negative</th>\n",
              "    </tr>\n",
              "  </thead>\n",
              "  <tbody>\n",
              "    <tr>\n",
              "      <th>37</th>\n",
              "      <td>NY</td>\n",
              "      <td>20875</td>\n",
              "      <td>57414</td>\n",
              "    </tr>\n",
              "    <tr>\n",
              "      <th>34</th>\n",
              "      <td>NJ</td>\n",
              "      <td>2844</td>\n",
              "      <td>359</td>\n",
              "    </tr>\n",
              "    <tr>\n",
              "      <th>52</th>\n",
              "      <td>WA</td>\n",
              "      <td>1996</td>\n",
              "      <td>28879</td>\n",
              "    </tr>\n",
              "    <tr>\n",
              "      <th>5</th>\n",
              "      <td>CA</td>\n",
              "      <td>1733</td>\n",
              "      <td>12567</td>\n",
              "    </tr>\n",
              "    <tr>\n",
              "      <th>24</th>\n",
              "      <td>MI</td>\n",
              "      <td>1328</td>\n",
              "      <td>2069</td>\n",
              "    </tr>\n",
              "    <tr>\n",
              "      <th>16</th>\n",
              "      <td>IL</td>\n",
              "      <td>1285</td>\n",
              "      <td>8583</td>\n",
              "    </tr>\n",
              "    <tr>\n",
              "      <th>20</th>\n",
              "      <td>LA</td>\n",
              "      <td>1172</td>\n",
              "      <td>4776</td>\n",
              "    </tr>\n",
              "    <tr>\n",
              "      <th>10</th>\n",
              "      <td>FL</td>\n",
              "      <td>1171</td>\n",
              "      <td>11063</td>\n",
              "    </tr>\n",
              "    <tr>\n",
              "      <th>21</th>\n",
              "      <td>MA</td>\n",
              "      <td>777</td>\n",
              "      <td>8145</td>\n",
              "    </tr>\n",
              "    <tr>\n",
              "      <th>11</th>\n",
              "      <td>GA</td>\n",
              "      <td>772</td>\n",
              "      <td>4297</td>\n",
              "    </tr>\n",
              "  </tbody>\n",
              "</table>\n",
              "</div>"
            ],
            "text/plain": [
              "   state  positive  negative\n",
              "37    NY     20875     57414\n",
              "34    NJ      2844       359\n",
              "52    WA      1996     28879\n",
              "5     CA      1733     12567\n",
              "24    MI      1328      2069\n",
              "16    IL      1285      8583\n",
              "20    LA      1172      4776\n",
              "10    FL      1171     11063\n",
              "21    MA       777      8145\n",
              "11    GA       772      4297"
            ]
          },
          "metadata": {
            "tags": []
          },
          "execution_count": 7
        }
      ]
    },
    {
      "cell_type": "code",
      "metadata": {
        "id": "rFOHyOwb4bcm",
        "colab_type": "code",
        "colab": {}
      },
      "source": [
        "gbUSA = dfCovidtracking.groupby(['date'])\n",
        "gbCA = dfCovidtracking[dfCovidtracking.state=='CA'].groupby(['date'])\n",
        "\n",
        "dfUSAPos = gbUSA.positive.sum().reset_index().copy()\n",
        "dfCAPos = gbCA.positive.sum().reset_index().copy()\n",
        "\n",
        "#This will calculate the percentage each day is of the total. In a flattening, this will be more even\n",
        "# In a high growth situation, you'll higher percentages at the tail. \n",
        "dfUSAPos['PCT']= dfUSAPos.positive/dfUSAPos.max().positive\n",
        "dfCAPos['PCT']=dfCAPos.positive/dfCAPos.max().positive"
      ],
      "execution_count": 0,
      "outputs": []
    },
    {
      "cell_type": "code",
      "metadata": {
        "colab_type": "code",
        "outputId": "7740582a-f061-48f1-d30e-19af51eadd78",
        "id": "BHKhtPRozVFF",
        "colab": {
          "base_uri": "https://localhost:8080/",
          "height": 258
        }
      },
      "source": [
        "dfUSAPos[-7:]"
      ],
      "execution_count": 9,
      "outputs": [
        {
          "output_type": "execute_result",
          "data": {
            "text/html": [
              "<div>\n",
              "<style scoped>\n",
              "    .dataframe tbody tr th:only-of-type {\n",
              "        vertical-align: middle;\n",
              "    }\n",
              "\n",
              "    .dataframe tbody tr th {\n",
              "        vertical-align: top;\n",
              "    }\n",
              "\n",
              "    .dataframe thead th {\n",
              "        text-align: right;\n",
              "    }\n",
              "</style>\n",
              "<table border=\"1\" class=\"dataframe\">\n",
              "  <thead>\n",
              "    <tr style=\"text-align: right;\">\n",
              "      <th></th>\n",
              "      <th>date</th>\n",
              "      <th>positive</th>\n",
              "      <th>PCT</th>\n",
              "    </tr>\n",
              "  </thead>\n",
              "  <tbody>\n",
              "    <tr>\n",
              "      <th>13</th>\n",
              "      <td>20200317</td>\n",
              "      <td>5723</td>\n",
              "      <td>0.135732</td>\n",
              "    </tr>\n",
              "    <tr>\n",
              "      <th>14</th>\n",
              "      <td>20200318</td>\n",
              "      <td>7731</td>\n",
              "      <td>0.183355</td>\n",
              "    </tr>\n",
              "    <tr>\n",
              "      <th>15</th>\n",
              "      <td>20200319</td>\n",
              "      <td>11723</td>\n",
              "      <td>0.278033</td>\n",
              "    </tr>\n",
              "    <tr>\n",
              "      <th>16</th>\n",
              "      <td>20200320</td>\n",
              "      <td>17038</td>\n",
              "      <td>0.404089</td>\n",
              "    </tr>\n",
              "    <tr>\n",
              "      <th>17</th>\n",
              "      <td>20200321</td>\n",
              "      <td>23203</td>\n",
              "      <td>0.550304</td>\n",
              "    </tr>\n",
              "    <tr>\n",
              "      <th>18</th>\n",
              "      <td>20200322</td>\n",
              "      <td>31888</td>\n",
              "      <td>0.756285</td>\n",
              "    </tr>\n",
              "    <tr>\n",
              "      <th>19</th>\n",
              "      <td>20200323</td>\n",
              "      <td>42164</td>\n",
              "      <td>1.000000</td>\n",
              "    </tr>\n",
              "  </tbody>\n",
              "</table>\n",
              "</div>"
            ],
            "text/plain": [
              "        date  positive       PCT\n",
              "13  20200317      5723  0.135732\n",
              "14  20200318      7731  0.183355\n",
              "15  20200319     11723  0.278033\n",
              "16  20200320     17038  0.404089\n",
              "17  20200321     23203  0.550304\n",
              "18  20200322     31888  0.756285\n",
              "19  20200323     42164  1.000000"
            ]
          },
          "metadata": {
            "tags": []
          },
          "execution_count": 9
        }
      ]
    },
    {
      "cell_type": "code",
      "metadata": {
        "colab_type": "code",
        "outputId": "bd7d086c-08ab-472e-d100-82b67379a993",
        "id": "EI4hKgZ5zUd8",
        "colab": {
          "base_uri": "https://localhost:8080/",
          "height": 258
        }
      },
      "source": [
        "dfCAPos[-7:]"
      ],
      "execution_count": 10,
      "outputs": [
        {
          "output_type": "execute_result",
          "data": {
            "text/html": [
              "<div>\n",
              "<style scoped>\n",
              "    .dataframe tbody tr th:only-of-type {\n",
              "        vertical-align: middle;\n",
              "    }\n",
              "\n",
              "    .dataframe tbody tr th {\n",
              "        vertical-align: top;\n",
              "    }\n",
              "\n",
              "    .dataframe thead th {\n",
              "        text-align: right;\n",
              "    }\n",
              "</style>\n",
              "<table border=\"1\" class=\"dataframe\">\n",
              "  <thead>\n",
              "    <tr style=\"text-align: right;\">\n",
              "      <th></th>\n",
              "      <th>date</th>\n",
              "      <th>positive</th>\n",
              "      <th>PCT</th>\n",
              "    </tr>\n",
              "  </thead>\n",
              "  <tbody>\n",
              "    <tr>\n",
              "      <th>13</th>\n",
              "      <td>20200317</td>\n",
              "      <td>483</td>\n",
              "      <td>0.278707</td>\n",
              "    </tr>\n",
              "    <tr>\n",
              "      <th>14</th>\n",
              "      <td>20200318</td>\n",
              "      <td>611</td>\n",
              "      <td>0.352568</td>\n",
              "    </tr>\n",
              "    <tr>\n",
              "      <th>15</th>\n",
              "      <td>20200319</td>\n",
              "      <td>924</td>\n",
              "      <td>0.533179</td>\n",
              "    </tr>\n",
              "    <tr>\n",
              "      <th>16</th>\n",
              "      <td>20200320</td>\n",
              "      <td>1063</td>\n",
              "      <td>0.613387</td>\n",
              "    </tr>\n",
              "    <tr>\n",
              "      <th>17</th>\n",
              "      <td>20200321</td>\n",
              "      <td>1279</td>\n",
              "      <td>0.738027</td>\n",
              "    </tr>\n",
              "    <tr>\n",
              "      <th>18</th>\n",
              "      <td>20200322</td>\n",
              "      <td>1536</td>\n",
              "      <td>0.886324</td>\n",
              "    </tr>\n",
              "    <tr>\n",
              "      <th>19</th>\n",
              "      <td>20200323</td>\n",
              "      <td>1733</td>\n",
              "      <td>1.000000</td>\n",
              "    </tr>\n",
              "  </tbody>\n",
              "</table>\n",
              "</div>"
            ],
            "text/plain": [
              "        date  positive       PCT\n",
              "13  20200317       483  0.278707\n",
              "14  20200318       611  0.352568\n",
              "15  20200319       924  0.533179\n",
              "16  20200320      1063  0.613387\n",
              "17  20200321      1279  0.738027\n",
              "18  20200322      1536  0.886324\n",
              "19  20200323      1733  1.000000"
            ]
          },
          "metadata": {
            "tags": []
          },
          "execution_count": 10
        }
      ]
    },
    {
      "cell_type": "code",
      "metadata": {
        "id": "BTvuZKJN0RoI",
        "colab_type": "code",
        "outputId": "3e6c67c4-e8b0-4b3b-bfda-c83524d9f614",
        "colab": {
          "base_uri": "https://localhost:8080/",
          "height": 228
        }
      },
      "source": [
        "gbUSA.sum()[-5:]"
      ],
      "execution_count": 11,
      "outputs": [
        {
          "output_type": "execute_result",
          "data": {
            "text/html": [
              "<div>\n",
              "<style scoped>\n",
              "    .dataframe tbody tr th:only-of-type {\n",
              "        vertical-align: middle;\n",
              "    }\n",
              "\n",
              "    .dataframe tbody tr th {\n",
              "        vertical-align: top;\n",
              "    }\n",
              "\n",
              "    .dataframe thead th {\n",
              "        text-align: right;\n",
              "    }\n",
              "</style>\n",
              "<table border=\"1\" class=\"dataframe\">\n",
              "  <thead>\n",
              "    <tr style=\"text-align: right;\">\n",
              "      <th></th>\n",
              "      <th>positive</th>\n",
              "      <th>negative</th>\n",
              "      <th>pending</th>\n",
              "      <th>hospitalized</th>\n",
              "      <th>death</th>\n",
              "      <th>total</th>\n",
              "    </tr>\n",
              "    <tr>\n",
              "      <th>date</th>\n",
              "      <th></th>\n",
              "      <th></th>\n",
              "      <th></th>\n",
              "      <th></th>\n",
              "      <th></th>\n",
              "      <th></th>\n",
              "    </tr>\n",
              "  </thead>\n",
              "  <tbody>\n",
              "    <tr>\n",
              "      <th>20200319</th>\n",
              "      <td>11723</td>\n",
              "      <td>89119</td>\n",
              "      <td>3025</td>\n",
              "      <td>0.0</td>\n",
              "      <td>160</td>\n",
              "      <td>103867</td>\n",
              "    </tr>\n",
              "    <tr>\n",
              "      <th>20200320</th>\n",
              "      <td>17038</td>\n",
              "      <td>118147</td>\n",
              "      <td>3336</td>\n",
              "      <td>0.0</td>\n",
              "      <td>219</td>\n",
              "      <td>138521</td>\n",
              "    </tr>\n",
              "    <tr>\n",
              "      <th>20200321</th>\n",
              "      <td>23203</td>\n",
              "      <td>155909</td>\n",
              "      <td>3477</td>\n",
              "      <td>1964.0</td>\n",
              "      <td>272</td>\n",
              "      <td>182589</td>\n",
              "    </tr>\n",
              "    <tr>\n",
              "      <th>20200322</th>\n",
              "      <td>31888</td>\n",
              "      <td>193463</td>\n",
              "      <td>2842</td>\n",
              "      <td>2554.0</td>\n",
              "      <td>398</td>\n",
              "      <td>228216</td>\n",
              "    </tr>\n",
              "    <tr>\n",
              "      <th>20200323</th>\n",
              "      <td>42164</td>\n",
              "      <td>237321</td>\n",
              "      <td>14571</td>\n",
              "      <td>3325.0</td>\n",
              "      <td>471</td>\n",
              "      <td>294056</td>\n",
              "    </tr>\n",
              "  </tbody>\n",
              "</table>\n",
              "</div>"
            ],
            "text/plain": [
              "          positive  negative  pending  hospitalized  death   total\n",
              "date                                                              \n",
              "20200319     11723     89119     3025           0.0    160  103867\n",
              "20200320     17038    118147     3336           0.0    219  138521\n",
              "20200321     23203    155909     3477        1964.0    272  182589\n",
              "20200322     31888    193463     2842        2554.0    398  228216\n",
              "20200323     42164    237321    14571        3325.0    471  294056"
            ]
          },
          "metadata": {
            "tags": []
          },
          "execution_count": 11
        }
      ]
    },
    {
      "cell_type": "code",
      "metadata": {
        "id": "916a0sCVdNRQ",
        "colab_type": "code",
        "outputId": "cc306c13-5879-4a64-8f80-38a8832135a5",
        "colab": {
          "base_uri": "https://localhost:8080/",
          "height": 297
        }
      },
      "source": [
        "gbUSA.sum().loc[:, ['positive', 'negative','death','total']].plot.line()"
      ],
      "execution_count": 12,
      "outputs": [
        {
          "output_type": "execute_result",
          "data": {
            "text/plain": [
              "<matplotlib.axes._subplots.AxesSubplot at 0x7f7b093af978>"
            ]
          },
          "metadata": {
            "tags": []
          },
          "execution_count": 12
        },
        {
          "output_type": "display_data",
          "data": {
            "image/png": "[encoded data removed]",
            "text/plain": [
              "<Figure size 432x288 with 1 Axes>"
            ]
          },
          "metadata": {
            "tags": []
          }
        }
      ]
    },
    {
      "cell_type": "code",
      "metadata": {
        "id": "WewkySHXaLc4",
        "colab_type": "code",
        "colab": {
          "base_uri": "https://localhost:8080/",
          "height": 498
        },
        "outputId": "d0788e55-61c6-414f-cc7c-9fc26b9d1e43"
      },
      "source": [
        "dfWHO[-14:]"
      ],
      "execution_count": 13,
      "outputs": [
        {
          "output_type": "execute_result",
          "data": {
            "text/html": [
              "<div>\n",
              "<style scoped>\n",
              "    .dataframe tbody tr th:only-of-type {\n",
              "        vertical-align: middle;\n",
              "    }\n",
              "\n",
              "    .dataframe tbody tr th {\n",
              "        vertical-align: top;\n",
              "    }\n",
              "\n",
              "    .dataframe thead th {\n",
              "        text-align: right;\n",
              "    }\n",
              "</style>\n",
              "<table border=\"1\" class=\"dataframe\">\n",
              "  <thead>\n",
              "    <tr style=\"text-align: right;\">\n",
              "      <th></th>\n",
              "      <th>confirmed</th>\n",
              "      <th>who_deaths</th>\n",
              "    </tr>\n",
              "    <tr>\n",
              "      <th>date</th>\n",
              "      <th></th>\n",
              "      <th></th>\n",
              "    </tr>\n",
              "  </thead>\n",
              "  <tbody>\n",
              "    <tr>\n",
              "      <th>20200310</th>\n",
              "      <td>472</td>\n",
              "      <td>19</td>\n",
              "    </tr>\n",
              "    <tr>\n",
              "      <th>20200311</th>\n",
              "      <td>696</td>\n",
              "      <td>25</td>\n",
              "    </tr>\n",
              "    <tr>\n",
              "      <th>20200312</th>\n",
              "      <td>987</td>\n",
              "      <td>29</td>\n",
              "    </tr>\n",
              "    <tr>\n",
              "      <th>20200313</th>\n",
              "      <td>1264</td>\n",
              "      <td>36</td>\n",
              "    </tr>\n",
              "    <tr>\n",
              "      <th>20200314</th>\n",
              "      <td>1678</td>\n",
              "      <td>41</td>\n",
              "    </tr>\n",
              "    <tr>\n",
              "      <th>20200315</th>\n",
              "      <td>1678</td>\n",
              "      <td>41</td>\n",
              "    </tr>\n",
              "    <tr>\n",
              "      <th>20200316</th>\n",
              "      <td>1678</td>\n",
              "      <td>41</td>\n",
              "    </tr>\n",
              "    <tr>\n",
              "      <th>20200317</th>\n",
              "      <td>3503</td>\n",
              "      <td>58</td>\n",
              "    </tr>\n",
              "    <tr>\n",
              "      <th>20200318</th>\n",
              "      <td>3536</td>\n",
              "      <td>58</td>\n",
              "    </tr>\n",
              "    <tr>\n",
              "      <th>20200319</th>\n",
              "      <td>7087</td>\n",
              "      <td>100</td>\n",
              "    </tr>\n",
              "    <tr>\n",
              "      <th>20200320</th>\n",
              "      <td>10442</td>\n",
              "      <td>150</td>\n",
              "    </tr>\n",
              "    <tr>\n",
              "      <th>20200321</th>\n",
              "      <td>15219</td>\n",
              "      <td>201</td>\n",
              "    </tr>\n",
              "    <tr>\n",
              "      <th>20200322</th>\n",
              "      <td>15219</td>\n",
              "      <td>201</td>\n",
              "    </tr>\n",
              "    <tr>\n",
              "      <th>20200323</th>\n",
              "      <td>31573</td>\n",
              "      <td>402</td>\n",
              "    </tr>\n",
              "  </tbody>\n",
              "</table>\n",
              "</div>"
            ],
            "text/plain": [
              "          confirmed  who_deaths\n",
              "date                           \n",
              "20200310        472          19\n",
              "20200311        696          25\n",
              "20200312        987          29\n",
              "20200313       1264          36\n",
              "20200314       1678          41\n",
              "20200315       1678          41\n",
              "20200316       1678          41\n",
              "20200317       3503          58\n",
              "20200318       3536          58\n",
              "20200319       7087         100\n",
              "20200320      10442         150\n",
              "20200321      15219         201\n",
              "20200322      15219         201\n",
              "20200323      31573         402"
            ]
          },
          "metadata": {
            "tags": []
          },
          "execution_count": 13
        }
      ]
    },
    {
      "cell_type": "code",
      "metadata": {
        "id": "Ftv2uSph2y7_",
        "colab_type": "code",
        "outputId": "90329908-5288-4003-f594-69a11373cad8",
        "colab": {
          "base_uri": "https://localhost:8080/",
          "height": 297
        }
      },
      "source": [
        "dfResults = gbUSA.sum().join(dfWHO, how='left', rsuffix='_who' )\n",
        "dfResults.loc[:, ['positive', 'confirmed']].plot.line()"
      ],
      "execution_count": 14,
      "outputs": [
        {
          "output_type": "execute_result",
          "data": {
            "text/plain": [
              "<matplotlib.axes._subplots.AxesSubplot at 0x7f7b07bde748>"
            ]
          },
          "metadata": {
            "tags": []
          },
          "execution_count": 14
        },
        {
          "output_type": "display_data",
          "data": {
            "image/png": "[encoded data removed]",
            "text/plain": [
              "<Figure size 432x288 with 1 Axes>"
            ]
          },
          "metadata": {
            "tags": []
          }
        }
      ]
    },
    {
      "cell_type": "code",
      "metadata": {
        "colab_type": "code",
        "outputId": "b9378ca6-671b-4fca-d8ad-2a03f254d821",
        "id": "55lq16z8w_Ec",
        "colab": {
          "base_uri": "https://localhost:8080/",
          "height": 288
        }
      },
      "source": [
        "gbCA.sum()[-7:]"
      ],
      "execution_count": 16,
      "outputs": [
        {
          "output_type": "execute_result",
          "data": {
            "text/html": [
              "<div>\n",
              "<style scoped>\n",
              "    .dataframe tbody tr th:only-of-type {\n",
              "        vertical-align: middle;\n",
              "    }\n",
              "\n",
              "    .dataframe tbody tr th {\n",
              "        vertical-align: top;\n",
              "    }\n",
              "\n",
              "    .dataframe thead th {\n",
              "        text-align: right;\n",
              "    }\n",
              "</style>\n",
              "<table border=\"1\" class=\"dataframe\">\n",
              "  <thead>\n",
              "    <tr style=\"text-align: right;\">\n",
              "      <th></th>\n",
              "      <th>positive</th>\n",
              "      <th>negative</th>\n",
              "      <th>pending</th>\n",
              "      <th>hospitalized</th>\n",
              "      <th>death</th>\n",
              "      <th>total</th>\n",
              "    </tr>\n",
              "    <tr>\n",
              "      <th>date</th>\n",
              "      <th></th>\n",
              "      <th></th>\n",
              "      <th></th>\n",
              "      <th></th>\n",
              "      <th></th>\n",
              "      <th></th>\n",
              "    </tr>\n",
              "  </thead>\n",
              "  <tbody>\n",
              "    <tr>\n",
              "      <th>20200317</th>\n",
              "      <td>483</td>\n",
              "      <td>7981</td>\n",
              "      <td>0</td>\n",
              "      <td>0.0</td>\n",
              "      <td>11</td>\n",
              "      <td>8407</td>\n",
              "    </tr>\n",
              "    <tr>\n",
              "      <th>20200318</th>\n",
              "      <td>611</td>\n",
              "      <td>7981</td>\n",
              "      <td>0</td>\n",
              "      <td>0.0</td>\n",
              "      <td>13</td>\n",
              "      <td>8592</td>\n",
              "    </tr>\n",
              "    <tr>\n",
              "      <th>20200319</th>\n",
              "      <td>924</td>\n",
              "      <td>8787</td>\n",
              "      <td>0</td>\n",
              "      <td>0.0</td>\n",
              "      <td>18</td>\n",
              "      <td>9711</td>\n",
              "    </tr>\n",
              "    <tr>\n",
              "      <th>20200320</th>\n",
              "      <td>1063</td>\n",
              "      <td>10424</td>\n",
              "      <td>0</td>\n",
              "      <td>0.0</td>\n",
              "      <td>20</td>\n",
              "      <td>11487</td>\n",
              "    </tr>\n",
              "    <tr>\n",
              "      <th>20200321</th>\n",
              "      <td>1279</td>\n",
              "      <td>11249</td>\n",
              "      <td>0</td>\n",
              "      <td>0.0</td>\n",
              "      <td>24</td>\n",
              "      <td>12528</td>\n",
              "    </tr>\n",
              "    <tr>\n",
              "      <th>20200322</th>\n",
              "      <td>1536</td>\n",
              "      <td>11304</td>\n",
              "      <td>0</td>\n",
              "      <td>0.0</td>\n",
              "      <td>27</td>\n",
              "      <td>12840</td>\n",
              "    </tr>\n",
              "    <tr>\n",
              "      <th>20200323</th>\n",
              "      <td>1733</td>\n",
              "      <td>12567</td>\n",
              "      <td>12100</td>\n",
              "      <td>0.0</td>\n",
              "      <td>27</td>\n",
              "      <td>26400</td>\n",
              "    </tr>\n",
              "  </tbody>\n",
              "</table>\n",
              "</div>"
            ],
            "text/plain": [
              "          positive  negative  pending  hospitalized  death  total\n",
              "date                                                             \n",
              "20200317       483      7981        0           0.0     11   8407\n",
              "20200318       611      7981        0           0.0     13   8592\n",
              "20200319       924      8787        0           0.0     18   9711\n",
              "20200320      1063     10424        0           0.0     20  11487\n",
              "20200321      1279     11249        0           0.0     24  12528\n",
              "20200322      1536     11304        0           0.0     27  12840\n",
              "20200323      1733     12567    12100           0.0     27  26400"
            ]
          },
          "metadata": {
            "tags": []
          },
          "execution_count": 16
        }
      ]
    },
    {
      "cell_type": "code",
      "metadata": {
        "id": "3WBkdfv2eLEc",
        "colab_type": "code",
        "outputId": "bf44325e-8720-44cc-cc2d-edc2401a3c11",
        "colab": {
          "base_uri": "https://localhost:8080/",
          "height": 72
        }
      },
      "source": [
        "dfJHUData[dfJHUData.country=='US'][['confirmed', 'dead']].sum()"
      ],
      "execution_count": 17,
      "outputs": [
        {
          "output_type": "execute_result",
          "data": {
            "text/plain": [
              "confirmed    43667\n",
              "dead           552\n",
              "dtype: int64"
            ]
          },
          "metadata": {
            "tags": []
          },
          "execution_count": 17
        }
      ]
    },
    {
      "cell_type": "code",
      "metadata": {
        "id": "NUQ35Inse05H",
        "colab_type": "code",
        "outputId": "2c2f297f-16d2-4c94-89c3-3efcb7518db0",
        "colab": {
          "base_uri": "https://localhost:8080/",
          "height": 72
        }
      },
      "source": [
        "dfJHUData[(dfJHUData.country=='US')&(dfJHUData.state=='California')][['confirmed', 'dead']].sum()"
      ],
      "execution_count": 18,
      "outputs": [
        {
          "output_type": "execute_result",
          "data": {
            "text/plain": [
              "confirmed    2108\n",
              "dead           39\n",
              "dtype: int64"
            ]
          },
          "metadata": {
            "tags": []
          },
          "execution_count": 18
        }
      ]
    },
    {
      "cell_type": "code",
      "metadata": {
        "id": "H0JVVTFGfMOW",
        "colab_type": "code",
        "colab": {}
      },
      "source": [
        "dfJHUUS = dfJHUData[dfJHUData.country=='US']\n",
        "gbJHUByState= dfJHUUS.groupby(by='state')\n",
        "gbJHUByCountry = dfJHUData.groupby(by='country')"
      ],
      "execution_count": 0,
      "outputs": []
    },
    {
      "cell_type": "code",
      "metadata": {
        "id": "W8qWd0AYmg58",
        "colab_type": "code",
        "outputId": "1685dac4-4552-4f5b-b898-9258ee5d536b",
        "colab": {
          "base_uri": "https://localhost:8080/",
          "height": 235
        }
      },
      "source": [
        "gbJHUByCountry.confirmed.sum().sort_values(ascending=False).head(10)"
      ],
      "execution_count": 34,
      "outputs": [
        {
          "output_type": "execute_result",
          "data": {
            "text/plain": [
              "country\n",
              "China             81496\n",
              "Italy             63927\n",
              "US                43667\n",
              "Spain             35136\n",
              "Germany           29056\n",
              "Iran              23049\n",
              "France            20123\n",
              "Korea, South       8961\n",
              "Switzerland        8795\n",
              "United Kingdom     6726\n",
              "Name: confirmed, dtype: int64"
            ]
          },
          "metadata": {
            "tags": []
          },
          "execution_count": 34
        }
      ]
    },
    {
      "cell_type": "code",
      "metadata": {
        "id": "YYKFYQpImnHI",
        "colab_type": "code",
        "outputId": "e7cc97a0-a555-4afa-b785-420ac989e65b",
        "colab": {
          "base_uri": "https://localhost:8080/",
          "height": 417
        }
      },
      "source": [
        "gbJHUByCountry.confirmed.sum().sort_values(ascending=False).head(20)"
      ],
      "execution_count": 21,
      "outputs": [
        {
          "output_type": "execute_result",
          "data": {
            "text/plain": [
              "country\n",
              "China             81496\n",
              "Italy             63927\n",
              "US                43667\n",
              "Spain             35136\n",
              "Germany           29056\n",
              "Iran              23049\n",
              "France            20123\n",
              "Korea, South       8961\n",
              "Switzerland        8795\n",
              "United Kingdom     6726\n",
              "Netherlands        4764\n",
              "Austria            4474\n",
              "Belgium            3743\n",
              "Norway             2621\n",
              "Canada             2088\n",
              "Portugal           2060\n",
              "Sweden             2046\n",
              "Brazil             1924\n",
              "Australia          1682\n",
              "Denmark            1572\n",
              "Name: confirmed, dtype: int64"
            ]
          },
          "metadata": {
            "tags": []
          },
          "execution_count": 21
        }
      ]
    },
    {
      "cell_type": "code",
      "metadata": {
        "id": "9crIlvPH4oSU",
        "colab_type": "code",
        "colab": {}
      },
      "source": [
        "dfData = dfCovidtracking.groupby('date')"
      ],
      "execution_count": 0,
      "outputs": []
    },
    {
      "cell_type": "code",
      "metadata": {
        "id": "SjlCtiOt2b__",
        "colab_type": "code",
        "colab": {}
      },
      "source": [
        "dfStateTotal = dfCovidtracking[['state', 'positive']].groupby(by='state').max() \\\n",
        ".rename(columns={'positive':'current_total'})\n"
      ],
      "execution_count": 0,
      "outputs": []
    },
    {
      "cell_type": "code",
      "metadata": {
        "id": "iPsfvvHC2_j1",
        "colab_type": "code",
        "colab": {}
      },
      "source": [
        "dfState = dfCovidtracking[['date','state','positive']].set_index('state') \\\n",
        "  .join(dfStateTotal)"
      ],
      "execution_count": 0,
      "outputs": []
    },
    {
      "cell_type": "code",
      "metadata": {
        "id": "AkxH55Mx5yE6",
        "colab_type": "code",
        "colab": {}
      },
      "source": [
        "dfState['pct']=dfState.positive/dfState.current_total"
      ],
      "execution_count": 0,
      "outputs": []
    },
    {
      "cell_type": "code",
      "metadata": {
        "id": "PKQ2rgz76XZR",
        "colab_type": "code",
        "outputId": "bb297f40-2a81-4703-c2fd-de13a784e0cc",
        "colab": {
          "base_uri": "https://localhost:8080/",
          "height": 288
        }
      },
      "source": [
        "dfState.loc['NY'].head(7)"
      ],
      "execution_count": 36,
      "outputs": [
        {
          "output_type": "execute_result",
          "data": {
            "text/html": [
              "<div>\n",
              "<style scoped>\n",
              "    .dataframe tbody tr th:only-of-type {\n",
              "        vertical-align: middle;\n",
              "    }\n",
              "\n",
              "    .dataframe tbody tr th {\n",
              "        vertical-align: top;\n",
              "    }\n",
              "\n",
              "    .dataframe thead th {\n",
              "        text-align: right;\n",
              "    }\n",
              "</style>\n",
              "<table border=\"1\" class=\"dataframe\">\n",
              "  <thead>\n",
              "    <tr style=\"text-align: right;\">\n",
              "      <th></th>\n",
              "      <th>date</th>\n",
              "      <th>positive</th>\n",
              "      <th>current_total</th>\n",
              "      <th>pct</th>\n",
              "    </tr>\n",
              "    <tr>\n",
              "      <th>state</th>\n",
              "      <th></th>\n",
              "      <th></th>\n",
              "      <th></th>\n",
              "      <th></th>\n",
              "    </tr>\n",
              "  </thead>\n",
              "  <tbody>\n",
              "    <tr>\n",
              "      <th>NY</th>\n",
              "      <td>20200323</td>\n",
              "      <td>20875</td>\n",
              "      <td>20875</td>\n",
              "      <td>1.000000</td>\n",
              "    </tr>\n",
              "    <tr>\n",
              "      <th>NY</th>\n",
              "      <td>20200322</td>\n",
              "      <td>15168</td>\n",
              "      <td>20875</td>\n",
              "      <td>0.726611</td>\n",
              "    </tr>\n",
              "    <tr>\n",
              "      <th>NY</th>\n",
              "      <td>20200321</td>\n",
              "      <td>10356</td>\n",
              "      <td>20875</td>\n",
              "      <td>0.496096</td>\n",
              "    </tr>\n",
              "    <tr>\n",
              "      <th>NY</th>\n",
              "      <td>20200320</td>\n",
              "      <td>7102</td>\n",
              "      <td>20875</td>\n",
              "      <td>0.340216</td>\n",
              "    </tr>\n",
              "    <tr>\n",
              "      <th>NY</th>\n",
              "      <td>20200319</td>\n",
              "      <td>4152</td>\n",
              "      <td>20875</td>\n",
              "      <td>0.198898</td>\n",
              "    </tr>\n",
              "    <tr>\n",
              "      <th>NY</th>\n",
              "      <td>20200318</td>\n",
              "      <td>2382</td>\n",
              "      <td>20875</td>\n",
              "      <td>0.114108</td>\n",
              "    </tr>\n",
              "    <tr>\n",
              "      <th>NY</th>\n",
              "      <td>20200317</td>\n",
              "      <td>1700</td>\n",
              "      <td>20875</td>\n",
              "      <td>0.081437</td>\n",
              "    </tr>\n",
              "  </tbody>\n",
              "</table>\n",
              "</div>"
            ],
            "text/plain": [
              "           date  positive  current_total       pct\n",
              "state                                             \n",
              "NY     20200323     20875          20875  1.000000\n",
              "NY     20200322     15168          20875  0.726611\n",
              "NY     20200321     10356          20875  0.496096\n",
              "NY     20200320      7102          20875  0.340216\n",
              "NY     20200319      4152          20875  0.198898\n",
              "NY     20200318      2382          20875  0.114108\n",
              "NY     20200317      1700          20875  0.081437"
            ]
          },
          "metadata": {
            "tags": []
          },
          "execution_count": 36
        }
      ]
    },
    {
      "cell_type": "code",
      "metadata": {
        "id": "dkgVF6Q19glV",
        "colab_type": "code",
        "colab": {}
      },
      "source": [
        "res = dfState.reset_index().pivot(index = 'date', columns='state', values='pct').fillna(0)"
      ],
      "execution_count": 0,
      "outputs": []
    },
    {
      "cell_type": "code",
      "metadata": {
        "id": "w1ml4KC6BF7q",
        "colab_type": "code",
        "outputId": "c3a68d44-91a8-4cb0-fc00-ff0a9ded9987",
        "colab": {
          "base_uri": "https://localhost:8080/",
          "height": 279
        }
      },
      "source": [
        "x = res.loc[:, ['CA','NY','FL']].plot.line()"
      ],
      "execution_count": 42,
      "outputs": [
        {
          "output_type": "display_data",
          "data": {
            "image/png": "[encoded data removed]",
            "text/plain": [
              "<Figure size 432x288 with 1 Axes>"
            ]
          },
          "metadata": {
            "tags": []
          }
        }
      ]
    },
    {
      "cell_type": "code",
      "metadata": {
        "id": "eaLSwLbuBLY0",
        "colab_type": "code",
        "colab": {}
      },
      "source": [
        "dfNYTesting = dfCovidtracking.loc[dfCovidtracking.state=='NY', ['date', 'negative']].set_index('date')"
      ],
      "execution_count": 0,
      "outputs": []
    },
    {
      "cell_type": "code",
      "metadata": {
        "id": "vhL4WBWECIhP",
        "colab_type": "code",
        "outputId": "b85e767c-7075-4a19-fa97-a42eed18ad1c",
        "colab": {
          "base_uri": "https://localhost:8080/",
          "height": 282
        }
      },
      "source": [
        "x = dfNYTesting.plot.line()"
      ],
      "execution_count": 41,
      "outputs": [
        {
          "output_type": "display_data",
          "data": {
            "image/png": "[encoded data removed]",
            "text/plain": [
              "<Figure size 432x288 with 1 Axes>"
            ]
          },
          "metadata": {
            "tags": []
          }
        }
      ]
    },
    {
      "cell_type": "code",
      "metadata": {
        "id": "c4uuFBTquS3o",
        "colab_type": "code",
        "outputId": "53b3123f-039f-4c10-ae13-b6760bf4bf71",
        "colab": {
          "base_uri": "https://localhost:8080/",
          "height": 348
        }
      },
      "source": [
        "dfDates[(dfDates.state.isin(['GA']))].head(10)"
      ],
      "execution_count": 52,
      "outputs": [
        {
          "output_type": "execute_result",
          "data": {
            "text/html": [
              "<div>\n",
              "<style scoped>\n",
              "    .dataframe tbody tr th:only-of-type {\n",
              "        vertical-align: middle;\n",
              "    }\n",
              "\n",
              "    .dataframe tbody tr th {\n",
              "        vertical-align: top;\n",
              "    }\n",
              "\n",
              "    .dataframe thead th {\n",
              "        text-align: right;\n",
              "    }\n",
              "</style>\n",
              "<table border=\"1\" class=\"dataframe\">\n",
              "  <thead>\n",
              "    <tr style=\"text-align: right;\">\n",
              "      <th></th>\n",
              "      <th>state</th>\n",
              "      <th>date</th>\n",
              "      <th>positive</th>\n",
              "      <th>current_total</th>\n",
              "      <th>pct</th>\n",
              "    </tr>\n",
              "  </thead>\n",
              "  <tbody>\n",
              "    <tr>\n",
              "      <th>194</th>\n",
              "      <td>GA</td>\n",
              "      <td>20200323</td>\n",
              "      <td>772</td>\n",
              "      <td>772</td>\n",
              "      <td>1.000000</td>\n",
              "    </tr>\n",
              "    <tr>\n",
              "      <th>195</th>\n",
              "      <td>GA</td>\n",
              "      <td>20200322</td>\n",
              "      <td>600</td>\n",
              "      <td>772</td>\n",
              "      <td>0.777202</td>\n",
              "    </tr>\n",
              "    <tr>\n",
              "      <th>196</th>\n",
              "      <td>GA</td>\n",
              "      <td>20200321</td>\n",
              "      <td>507</td>\n",
              "      <td>772</td>\n",
              "      <td>0.656736</td>\n",
              "    </tr>\n",
              "    <tr>\n",
              "      <th>197</th>\n",
              "      <td>GA</td>\n",
              "      <td>20200320</td>\n",
              "      <td>420</td>\n",
              "      <td>772</td>\n",
              "      <td>0.544041</td>\n",
              "    </tr>\n",
              "    <tr>\n",
              "      <th>198</th>\n",
              "      <td>GA</td>\n",
              "      <td>20200319</td>\n",
              "      <td>287</td>\n",
              "      <td>772</td>\n",
              "      <td>0.371762</td>\n",
              "    </tr>\n",
              "    <tr>\n",
              "      <th>199</th>\n",
              "      <td>GA</td>\n",
              "      <td>20200318</td>\n",
              "      <td>197</td>\n",
              "      <td>772</td>\n",
              "      <td>0.255181</td>\n",
              "    </tr>\n",
              "    <tr>\n",
              "      <th>200</th>\n",
              "      <td>GA</td>\n",
              "      <td>20200317</td>\n",
              "      <td>146</td>\n",
              "      <td>772</td>\n",
              "      <td>0.189119</td>\n",
              "    </tr>\n",
              "    <tr>\n",
              "      <th>201</th>\n",
              "      <td>GA</td>\n",
              "      <td>20200316</td>\n",
              "      <td>121</td>\n",
              "      <td>772</td>\n",
              "      <td>0.156736</td>\n",
              "    </tr>\n",
              "    <tr>\n",
              "      <th>202</th>\n",
              "      <td>GA</td>\n",
              "      <td>20200315</td>\n",
              "      <td>99</td>\n",
              "      <td>772</td>\n",
              "      <td>0.128238</td>\n",
              "    </tr>\n",
              "    <tr>\n",
              "      <th>203</th>\n",
              "      <td>GA</td>\n",
              "      <td>20200314</td>\n",
              "      <td>66</td>\n",
              "      <td>772</td>\n",
              "      <td>0.085492</td>\n",
              "    </tr>\n",
              "  </tbody>\n",
              "</table>\n",
              "</div>"
            ],
            "text/plain": [
              "    state      date  positive  current_total       pct\n",
              "194    GA  20200323       772            772  1.000000\n",
              "195    GA  20200322       600            772  0.777202\n",
              "196    GA  20200321       507            772  0.656736\n",
              "197    GA  20200320       420            772  0.544041\n",
              "198    GA  20200319       287            772  0.371762\n",
              "199    GA  20200318       197            772  0.255181\n",
              "200    GA  20200317       146            772  0.189119\n",
              "201    GA  20200316       121            772  0.156736\n",
              "202    GA  20200315        99            772  0.128238\n",
              "203    GA  20200314        66            772  0.085492"
            ]
          },
          "metadata": {
            "tags": []
          },
          "execution_count": 52
        }
      ]
    },
    {
      "cell_type": "code",
      "metadata": {
        "id": "Puz0PBzemMD3",
        "colab_type": "code",
        "colab": {
          "base_uri": "https://localhost:8080/",
          "height": 498
        },
        "outputId": "69dfdea5-0f19-436e-cad8-c17b11723a3a"
      },
      "source": [
        "datecutoff = int(((pd.to_datetime(str(dfDates.date.max())))-datetime.timedelta(days=2)).strftime(\"%Y%m%d\"))\n",
        "dfDates[(dfDates.date == datecutoff) & (dfDates.pct < .55)].sort_values(by='positive',ascending=False)\n"
      ],
      "execution_count": 81,
      "outputs": [
        {
          "output_type": "execute_result",
          "data": {
            "text/html": [
              "<div>\n",
              "<style scoped>\n",
              "    .dataframe tbody tr th:only-of-type {\n",
              "        vertical-align: middle;\n",
              "    }\n",
              "\n",
              "    .dataframe tbody tr th {\n",
              "        vertical-align: top;\n",
              "    }\n",
              "\n",
              "    .dataframe thead th {\n",
              "        text-align: right;\n",
              "    }\n",
              "</style>\n",
              "<table border=\"1\" class=\"dataframe\">\n",
              "  <thead>\n",
              "    <tr style=\"text-align: right;\">\n",
              "      <th></th>\n",
              "      <th>state</th>\n",
              "      <th>date</th>\n",
              "      <th>positive</th>\n",
              "      <th>current_total</th>\n",
              "      <th>pct</th>\n",
              "    </tr>\n",
              "  </thead>\n",
              "  <tbody>\n",
              "    <tr>\n",
              "      <th>651</th>\n",
              "      <td>NY</td>\n",
              "      <td>20200321</td>\n",
              "      <td>10356</td>\n",
              "      <td>20875</td>\n",
              "      <td>0.496096</td>\n",
              "    </tr>\n",
              "    <tr>\n",
              "      <th>595</th>\n",
              "      <td>NJ</td>\n",
              "      <td>20200321</td>\n",
              "      <td>1327</td>\n",
              "      <td>2844</td>\n",
              "      <td>0.466596</td>\n",
              "    </tr>\n",
              "    <tr>\n",
              "      <th>350</th>\n",
              "      <td>LA</td>\n",
              "      <td>20200321</td>\n",
              "      <td>585</td>\n",
              "      <td>1172</td>\n",
              "      <td>0.499147</td>\n",
              "    </tr>\n",
              "    <tr>\n",
              "      <th>122</th>\n",
              "      <td>CT</td>\n",
              "      <td>20200321</td>\n",
              "      <td>194</td>\n",
              "      <td>415</td>\n",
              "      <td>0.467470</td>\n",
              "    </tr>\n",
              "    <tr>\n",
              "      <th>770</th>\n",
              "      <td>SC</td>\n",
              "      <td>20200321</td>\n",
              "      <td>152</td>\n",
              "      <td>299</td>\n",
              "      <td>0.508361</td>\n",
              "    </tr>\n",
              "    <tr>\n",
              "      <th>846</th>\n",
              "      <td>UT</td>\n",
              "      <td>20200321</td>\n",
              "      <td>136</td>\n",
              "      <td>257</td>\n",
              "      <td>0.529183</td>\n",
              "    </tr>\n",
              "    <tr>\n",
              "      <th>296</th>\n",
              "      <td>IN</td>\n",
              "      <td>20200321</td>\n",
              "      <td>126</td>\n",
              "      <td>259</td>\n",
              "      <td>0.486486</td>\n",
              "    </tr>\n",
              "    <tr>\n",
              "      <th>632</th>\n",
              "      <td>NV</td>\n",
              "      <td>20200321</td>\n",
              "      <td>124</td>\n",
              "      <td>245</td>\n",
              "      <td>0.506122</td>\n",
              "    </tr>\n",
              "    <tr>\n",
              "      <th>63</th>\n",
              "      <td>AZ</td>\n",
              "      <td>20200321</td>\n",
              "      <td>104</td>\n",
              "      <td>265</td>\n",
              "      <td>0.392453</td>\n",
              "    </tr>\n",
              "    <tr>\n",
              "      <th>460</th>\n",
              "      <td>MO</td>\n",
              "      <td>20200321</td>\n",
              "      <td>73</td>\n",
              "      <td>183</td>\n",
              "      <td>0.398907</td>\n",
              "    </tr>\n",
              "    <tr>\n",
              "      <th>332</th>\n",
              "      <td>KY</td>\n",
              "      <td>20200321</td>\n",
              "      <td>54</td>\n",
              "      <td>104</td>\n",
              "      <td>0.519231</td>\n",
              "    </tr>\n",
              "    <tr>\n",
              "      <th>890</th>\n",
              "      <td>VT</td>\n",
              "      <td>20200321</td>\n",
              "      <td>29</td>\n",
              "      <td>75</td>\n",
              "      <td>0.386667</td>\n",
              "    </tr>\n",
              "    <tr>\n",
              "      <th>216</th>\n",
              "      <td>GU</td>\n",
              "      <td>20200321</td>\n",
              "      <td>15</td>\n",
              "      <td>29</td>\n",
              "      <td>0.517241</td>\n",
              "    </tr>\n",
              "    <tr>\n",
              "      <th>790</th>\n",
              "      <td>SD</td>\n",
              "      <td>20200321</td>\n",
              "      <td>14</td>\n",
              "      <td>28</td>\n",
              "      <td>0.500000</td>\n",
              "    </tr>\n",
              "    <tr>\n",
              "      <th>882</th>\n",
              "      <td>VI</td>\n",
              "      <td>20200321</td>\n",
              "      <td>6</td>\n",
              "      <td>17</td>\n",
              "      <td>0.352941</td>\n",
              "    </tr>\n",
              "  </tbody>\n",
              "</table>\n",
              "</div>"
            ],
            "text/plain": [
              "    state      date  positive  current_total       pct\n",
              "651    NY  20200321     10356          20875  0.496096\n",
              "595    NJ  20200321      1327           2844  0.466596\n",
              "350    LA  20200321       585           1172  0.499147\n",
              "122    CT  20200321       194            415  0.467470\n",
              "770    SC  20200321       152            299  0.508361\n",
              "846    UT  20200321       136            257  0.529183\n",
              "296    IN  20200321       126            259  0.486486\n",
              "632    NV  20200321       124            245  0.506122\n",
              "63     AZ  20200321       104            265  0.392453\n",
              "460    MO  20200321        73            183  0.398907\n",
              "332    KY  20200321        54            104  0.519231\n",
              "890    VT  20200321        29             75  0.386667\n",
              "216    GU  20200321        15             29  0.517241\n",
              "790    SD  20200321        14             28  0.500000\n",
              "882    VI  20200321         6             17  0.352941"
            ]
          },
          "metadata": {
            "tags": []
          },
          "execution_count": 81
        }
      ]
    },
    {
      "cell_type": "code",
      "metadata": {
        "id": "8t-cqZx7nJLZ",
        "colab_type": "code",
        "colab": {
          "base_uri": "https://localhost:8080/",
          "height": 35
        },
        "outputId": "d50c71d2-1cef-41cc-8010-daf82a825350"
      },
      "source": [
        ""
      ],
      "execution_count": 75,
      "outputs": [
        {
          "output_type": "execute_result",
          "data": {
            "text/plain": [
              "20200301"
            ]
          },
          "metadata": {
            "tags": []
          },
          "execution_count": 75
        }
      ]
    },
    {
      "cell_type": "code",
      "metadata": {
        "id": "yp3F4tWCqM9v",
        "colab_type": "code",
        "colab": {}
      },
      "source": [
        ""
      ],
      "execution_count": 0,
      "outputs": []
    }
  ]
}