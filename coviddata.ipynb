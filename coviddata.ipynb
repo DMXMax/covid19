{
  "nbformat": 4,
  "nbformat_minor": 0,
  "metadata": {
    "colab": {
      "name": "coviddata",
      "provenance": [],
      "toc_visible": true,
      "authorship_tag": "ABX9TyM7IHygERt7ZZir0WJJMuup",
      "include_colab_link": true
    },
    "kernelspec": {
      "name": "python3",
      "display_name": "Python 3"
    }
  },
  "cells": [
    {
      "cell_type": "markdown",
      "metadata": {
        "id": "view-in-github",
        "colab_type": "text"
      },
      "source": [
        "<a href=\"https://colab.research.google.com/github/DMXMax/covid19/blob/gc_20200315/coviddata.ipynb\" target=\"_parent\"><img src=\"https://colab.research.google.com/assets/colab-badge.svg\" alt=\"Open In Colab\"/></a>"
      ]
    },
    {
      "cell_type": "code",
      "metadata": {
        "id": "jCzokJEPxFhv",
        "colab_type": "code",
        "colab": {}
      },
      "source": [
        "import numpy as np\n",
        "import pandas as pd\n",
        "import matplotlib.pyplot as plt\n",
        "import requests,json\n",
        "import datetime\n"
      ],
      "execution_count": 0,
      "outputs": []
    },
    {
      "cell_type": "code",
      "metadata": {
        "id": "zNKPT5Z8BXPT",
        "colab_type": "code",
        "colab": {}
      },
      "source": [
        "covidtrackingurl = \"https://covidtracking.com/api/states/daily\"\n",
        "response = requests.get(covidtrackingurl)\n",
        "dfCovidtracking = pd.DataFrame(response.json())\n",
        "dfCovidtracking.fillna(0, inplace=True)\n",
        "dfCovidtracking.negative = dfCovidtracking.negative.astype('int64')\n",
        "dfCovidtracking.positive = dfCovidtracking.positive.astype('int64')\n",
        "dfCovidtracking.pending = dfCovidtracking.pending.astype('int64')\n",
        "dfCovidtracking.total = dfCovidtracking.total.astype('int64')\n",
        "dfCovidtracking.death = dfCovidtracking.death.astype('int64')\n",
        "\n",
        "dfCovidtracking.date = dfCovidtracking.date.transform(lambda x: pd.to_datetime(datetime.date(x//10000, x%10000//100, x%100\n",
        "                                          )))\n"
      ],
      "execution_count": 0,
      "outputs": []
    },
    {
      "cell_type": "code",
      "metadata": {
        "id": "8_Il5iuohC8_",
        "colab_type": "code",
        "colab": {}
      },
      "source": [
        "dfWHO = pd.read_csv(\"https://raw.githubusercontent.com/DMXMax/covid19/master/who/who_data.tsv\",\n",
        "                     sep='\\t', index_col='Date')"
      ],
      "execution_count": 0,
      "outputs": []
    },
    {
      "cell_type": "code",
      "metadata": {
        "id": "IHNp61EvdwQG",
        "colab_type": "code",
        "colab": {}
      },
      "source": [
        "jhurl = \"https://raw.githubusercontent.com/CSSEGISandData/COVID-19/master/\"+\\\n",
        "\"csse_covid_19_data/csse_covid_19_daily_reports/04-24-2020.csv\"\n",
        "\n",
        "\n",
        "dfJHUData = pd.read_csv(jhurl, header=0,\n",
        "                        names=['FIPS', 'city','state', 'country', 'last_update',\n",
        "                               'lat', 'lon','confirmed', 'dead', 'recovered','active', 'key'])"
      ],
      "execution_count": 0,
      "outputs": []
    },
    {
      "cell_type": "code",
      "metadata": {
        "id": "hrPlWJJCVtBR",
        "colab_type": "code",
        "colab": {}
      },
      "source": [
        "dfWHO = dfWHO.rename(columns={\"Confirmed\": \"confirmed\", \"Deaths\": \"who_deaths\"})\n",
        "dfWHO.index.names=['date']\n"
      ],
      "execution_count": 0,
      "outputs": []
    },
    {
      "cell_type": "code",
      "metadata": {
        "colab_type": "code",
        "id": "idyqfNddlLPv",
        "outputId": "2bc3e95a-7b0f-46e9-d6de-a9b7fa6b568a",
        "colab": {
          "base_uri": "https://localhost:8080/",
          "height": 348
        }
      },
      "source": [
        "dfCovidtracking.loc[dfCovidtracking.date==dfCovidtracking.date.max(),\\\n",
        "  ['state', 'positive', 'negative', 'totalTestResults']].sort_values(by='positive', ascending=False).head(10)"
      ],
      "execution_count": 6,
      "outputs": [
        {
          "output_type": "execute_result",
          "data": {
            "text/html": [
              "<div>\n",
              "<style scoped>\n",
              "    .dataframe tbody tr th:only-of-type {\n",
              "        vertical-align: middle;\n",
              "    }\n",
              "\n",
              "    .dataframe tbody tr th {\n",
              "        vertical-align: top;\n",
              "    }\n",
              "\n",
              "    .dataframe thead th {\n",
              "        text-align: right;\n",
              "    }\n",
              "</style>\n",
              "<table border=\"1\" class=\"dataframe\">\n",
              "  <thead>\n",
              "    <tr style=\"text-align: right;\">\n",
              "      <th></th>\n",
              "      <th>state</th>\n",
              "      <th>positive</th>\n",
              "      <th>negative</th>\n",
              "      <th>totalTestResults</th>\n",
              "    </tr>\n",
              "  </thead>\n",
              "  <tbody>\n",
              "    <tr>\n",
              "      <th>37</th>\n",
              "      <td>NY</td>\n",
              "      <td>282143</td>\n",
              "      <td>495425</td>\n",
              "      <td>777568.0</td>\n",
              "    </tr>\n",
              "    <tr>\n",
              "      <th>34</th>\n",
              "      <td>NJ</td>\n",
              "      <td>105523</td>\n",
              "      <td>108163</td>\n",
              "      <td>213686.0</td>\n",
              "    </tr>\n",
              "    <tr>\n",
              "      <th>21</th>\n",
              "      <td>MA</td>\n",
              "      <td>53348</td>\n",
              "      <td>173497</td>\n",
              "      <td>226845.0</td>\n",
              "    </tr>\n",
              "    <tr>\n",
              "      <th>16</th>\n",
              "      <td>IL</td>\n",
              "      <td>41777</td>\n",
              "      <td>159840</td>\n",
              "      <td>201617.0</td>\n",
              "    </tr>\n",
              "    <tr>\n",
              "      <th>5</th>\n",
              "      <td>CA</td>\n",
              "      <td>41137</td>\n",
              "      <td>464898</td>\n",
              "      <td>506035.0</td>\n",
              "    </tr>\n",
              "    <tr>\n",
              "      <th>41</th>\n",
              "      <td>PA</td>\n",
              "      <td>40049</td>\n",
              "      <td>152886</td>\n",
              "      <td>192935.0</td>\n",
              "    </tr>\n",
              "    <tr>\n",
              "      <th>24</th>\n",
              "      <td>MI</td>\n",
              "      <td>37203</td>\n",
              "      <td>106841</td>\n",
              "      <td>144044.0</td>\n",
              "    </tr>\n",
              "    <tr>\n",
              "      <th>10</th>\n",
              "      <td>FL</td>\n",
              "      <td>30839</td>\n",
              "      <td>302260</td>\n",
              "      <td>333099.0</td>\n",
              "    </tr>\n",
              "    <tr>\n",
              "      <th>20</th>\n",
              "      <td>LA</td>\n",
              "      <td>26512</td>\n",
              "      <td>112490</td>\n",
              "      <td>139002.0</td>\n",
              "    </tr>\n",
              "    <tr>\n",
              "      <th>7</th>\n",
              "      <td>CT</td>\n",
              "      <td>24582</td>\n",
              "      <td>53020</td>\n",
              "      <td>77602.0</td>\n",
              "    </tr>\n",
              "  </tbody>\n",
              "</table>\n",
              "</div>"
            ],
            "text/plain": [
              "   state  positive  negative  totalTestResults\n",
              "37    NY    282143    495425          777568.0\n",
              "34    NJ    105523    108163          213686.0\n",
              "21    MA     53348    173497          226845.0\n",
              "16    IL     41777    159840          201617.0\n",
              "5     CA     41137    464898          506035.0\n",
              "41    PA     40049    152886          192935.0\n",
              "24    MI     37203    106841          144044.0\n",
              "10    FL     30839    302260          333099.0\n",
              "20    LA     26512    112490          139002.0\n",
              "7     CT     24582     53020           77602.0"
            ]
          },
          "metadata": {
            "tags": []
          },
          "execution_count": 6
        }
      ]
    },
    {
      "cell_type": "code",
      "metadata": {
        "id": "rFOHyOwb4bcm",
        "colab_type": "code",
        "colab": {}
      },
      "source": [
        "gbUSA = dfCovidtracking.groupby(['date'])\n",
        "gbCA = dfCovidtracking[dfCovidtracking.state=='CA'].groupby(['date'])\n",
        "\n",
        "dfUSAPos = gbUSA[['positive', 'totalTestResults', 'death', 'positiveIncrease','deathIncrease']].sum().reset_index().copy()\n",
        "dfCAPos = gbCA[['positive', 'totalTestResults', 'death','positiveIncrease', 'deathIncrease']].sum().reset_index().copy()\n",
        "\n",
        "#This will calculate the percentage each day is of the total. In a flattening, this will be more even\n",
        "# In a high growth situation, you'll higher percentages at the tail. \n",
        "dfUSAPos['PCT']= dfUSAPos.positive/dfUSAPos.max().positive\n",
        "dfCAPos['PCT']=dfCAPos.positive/dfCAPos.max().positive"
      ],
      "execution_count": 0,
      "outputs": []
    },
    {
      "cell_type": "code",
      "metadata": {
        "colab_type": "code",
        "id": "BHKhtPRozVFF",
        "outputId": "858842b2-b496-471e-d706-c4d35636c287",
        "colab": {
          "base_uri": "https://localhost:8080/",
          "height": 468
        }
      },
      "source": [
        "dfUSAPos[-14:]\n"
      ],
      "execution_count": 61,
      "outputs": [
        {
          "output_type": "execute_result",
          "data": {
            "text/html": [
              "<div>\n",
              "<style scoped>\n",
              "    .dataframe tbody tr th:only-of-type {\n",
              "        vertical-align: middle;\n",
              "    }\n",
              "\n",
              "    .dataframe tbody tr th {\n",
              "        vertical-align: top;\n",
              "    }\n",
              "\n",
              "    .dataframe thead th {\n",
              "        text-align: right;\n",
              "    }\n",
              "</style>\n",
              "<table border=\"1\" class=\"dataframe\">\n",
              "  <thead>\n",
              "    <tr style=\"text-align: right;\">\n",
              "      <th></th>\n",
              "      <th>date</th>\n",
              "      <th>positive</th>\n",
              "      <th>totalTestResults</th>\n",
              "      <th>death</th>\n",
              "      <th>positiveIncrease</th>\n",
              "      <th>deathIncrease</th>\n",
              "      <th>PCT</th>\n",
              "    </tr>\n",
              "  </thead>\n",
              "  <tbody>\n",
              "    <tr>\n",
              "      <th>81</th>\n",
              "      <td>2020-04-12</td>\n",
              "      <td>551953</td>\n",
              "      <td>2806019.0</td>\n",
              "      <td>21919</td>\n",
              "      <td>29217.0</td>\n",
              "      <td>1496.0</td>\n",
              "      <td>0.592416</td>\n",
              "    </tr>\n",
              "    <tr>\n",
              "      <th>82</th>\n",
              "      <td>2020-04-13</td>\n",
              "      <td>576902</td>\n",
              "      <td>2935134.0</td>\n",
              "      <td>23369</td>\n",
              "      <td>24949.0</td>\n",
              "      <td>1450.0</td>\n",
              "      <td>0.619194</td>\n",
              "    </tr>\n",
              "    <tr>\n",
              "      <th>83</th>\n",
              "      <td>2020-04-14</td>\n",
              "      <td>602676</td>\n",
              "      <td>3081589.0</td>\n",
              "      <td>25668</td>\n",
              "      <td>25774.0</td>\n",
              "      <td>2299.0</td>\n",
              "      <td>0.646858</td>\n",
              "    </tr>\n",
              "    <tr>\n",
              "      <th>84</th>\n",
              "      <td>2020-04-15</td>\n",
              "      <td>633010</td>\n",
              "      <td>3243109.0</td>\n",
              "      <td>28160</td>\n",
              "      <td>30334.0</td>\n",
              "      <td>2492.0</td>\n",
              "      <td>0.679415</td>\n",
              "    </tr>\n",
              "    <tr>\n",
              "      <th>85</th>\n",
              "      <td>2020-04-16</td>\n",
              "      <td>663767</td>\n",
              "      <td>3401571.0</td>\n",
              "      <td>30296</td>\n",
              "      <td>30757.0</td>\n",
              "      <td>2136.0</td>\n",
              "      <td>0.712427</td>\n",
              "    </tr>\n",
              "    <tr>\n",
              "      <th>86</th>\n",
              "      <td>2020-04-17</td>\n",
              "      <td>694986</td>\n",
              "      <td>3557959.0</td>\n",
              "      <td>32365</td>\n",
              "      <td>31219.0</td>\n",
              "      <td>2069.0</td>\n",
              "      <td>0.745935</td>\n",
              "    </tr>\n",
              "    <tr>\n",
              "      <th>87</th>\n",
              "      <td>2020-04-18</td>\n",
              "      <td>722566</td>\n",
              "      <td>3698918.0</td>\n",
              "      <td>34139</td>\n",
              "      <td>27580.0</td>\n",
              "      <td>1774.0</td>\n",
              "      <td>0.775537</td>\n",
              "    </tr>\n",
              "    <tr>\n",
              "      <th>88</th>\n",
              "      <td>2020-04-19</td>\n",
              "      <td>749486</td>\n",
              "      <td>3866147.0</td>\n",
              "      <td>35793</td>\n",
              "      <td>26920.0</td>\n",
              "      <td>1654.0</td>\n",
              "      <td>0.804430</td>\n",
              "    </tr>\n",
              "    <tr>\n",
              "      <th>89</th>\n",
              "      <td>2020-04-20</td>\n",
              "      <td>773020</td>\n",
              "      <td>4004047.0</td>\n",
              "      <td>37321</td>\n",
              "      <td>23534.0</td>\n",
              "      <td>1528.0</td>\n",
              "      <td>0.829689</td>\n",
              "    </tr>\n",
              "    <tr>\n",
              "      <th>90</th>\n",
              "      <td>2020-04-21</td>\n",
              "      <td>800305</td>\n",
              "      <td>4155587.0</td>\n",
              "      <td>39995</td>\n",
              "      <td>27285.0</td>\n",
              "      <td>2674.0</td>\n",
              "      <td>0.858975</td>\n",
              "    </tr>\n",
              "    <tr>\n",
              "      <th>91</th>\n",
              "      <td>2020-04-22</td>\n",
              "      <td>827963</td>\n",
              "      <td>4469195.0</td>\n",
              "      <td>42128</td>\n",
              "      <td>27658.0</td>\n",
              "      <td>2133.0</td>\n",
              "      <td>0.888660</td>\n",
              "    </tr>\n",
              "    <tr>\n",
              "      <th>92</th>\n",
              "      <td>2020-04-23</td>\n",
              "      <td>859318</td>\n",
              "      <td>4660250.0</td>\n",
              "      <td>44014</td>\n",
              "      <td>31355.0</td>\n",
              "      <td>1886.0</td>\n",
              "      <td>0.922314</td>\n",
              "    </tr>\n",
              "    <tr>\n",
              "      <th>93</th>\n",
              "      <td>2020-04-24</td>\n",
              "      <td>890816</td>\n",
              "      <td>4883802.0</td>\n",
              "      <td>45786</td>\n",
              "      <td>31498.0</td>\n",
              "      <td>1772.0</td>\n",
              "      <td>0.956121</td>\n",
              "    </tr>\n",
              "    <tr>\n",
              "      <th>94</th>\n",
              "      <td>2020-04-25</td>\n",
              "      <td>931698</td>\n",
              "      <td>5184635.0</td>\n",
              "      <td>47980</td>\n",
              "      <td>40882.0</td>\n",
              "      <td>2194.0</td>\n",
              "      <td>1.000000</td>\n",
              "    </tr>\n",
              "  </tbody>\n",
              "</table>\n",
              "</div>"
            ],
            "text/plain": [
              "         date  positive  ...  deathIncrease       PCT\n",
              "81 2020-04-12    551953  ...         1496.0  0.592416\n",
              "82 2020-04-13    576902  ...         1450.0  0.619194\n",
              "83 2020-04-14    602676  ...         2299.0  0.646858\n",
              "84 2020-04-15    633010  ...         2492.0  0.679415\n",
              "85 2020-04-16    663767  ...         2136.0  0.712427\n",
              "86 2020-04-17    694986  ...         2069.0  0.745935\n",
              "87 2020-04-18    722566  ...         1774.0  0.775537\n",
              "88 2020-04-19    749486  ...         1654.0  0.804430\n",
              "89 2020-04-20    773020  ...         1528.0  0.829689\n",
              "90 2020-04-21    800305  ...         2674.0  0.858975\n",
              "91 2020-04-22    827963  ...         2133.0  0.888660\n",
              "92 2020-04-23    859318  ...         1886.0  0.922314\n",
              "93 2020-04-24    890816  ...         1772.0  0.956121\n",
              "94 2020-04-25    931698  ...         2194.0  1.000000\n",
              "\n",
              "[14 rows x 7 columns]"
            ]
          },
          "metadata": {
            "tags": []
          },
          "execution_count": 61
        }
      ]
    },
    {
      "cell_type": "code",
      "metadata": {
        "colab_type": "code",
        "id": "EI4hKgZ5zUd8",
        "outputId": "b5121602-8863-4612-a636-03b833b16c37",
        "colab": {
          "base_uri": "https://localhost:8080/",
          "height": 258
        }
      },
      "source": [
        "dfCAPos[-7:]"
      ],
      "execution_count": 9,
      "outputs": [
        {
          "output_type": "execute_result",
          "data": {
            "text/html": [
              "<div>\n",
              "<style scoped>\n",
              "    .dataframe tbody tr th:only-of-type {\n",
              "        vertical-align: middle;\n",
              "    }\n",
              "\n",
              "    .dataframe tbody tr th {\n",
              "        vertical-align: top;\n",
              "    }\n",
              "\n",
              "    .dataframe thead th {\n",
              "        text-align: right;\n",
              "    }\n",
              "</style>\n",
              "<table border=\"1\" class=\"dataframe\">\n",
              "  <thead>\n",
              "    <tr style=\"text-align: right;\">\n",
              "      <th></th>\n",
              "      <th>date</th>\n",
              "      <th>positive</th>\n",
              "      <th>totalTestResults</th>\n",
              "      <th>death</th>\n",
              "      <th>positiveIncrease</th>\n",
              "      <th>deathIncrease</th>\n",
              "      <th>PCT</th>\n",
              "    </tr>\n",
              "  </thead>\n",
              "  <tbody>\n",
              "    <tr>\n",
              "      <th>46</th>\n",
              "      <td>2020-04-19</td>\n",
              "      <td>30333</td>\n",
              "      <td>280900.0</td>\n",
              "      <td>1166</td>\n",
              "      <td>1370.0</td>\n",
              "      <td>94.0</td>\n",
              "      <td>0.737365</td>\n",
              "    </tr>\n",
              "    <tr>\n",
              "      <th>47</th>\n",
              "      <td>2020-04-20</td>\n",
              "      <td>30978</td>\n",
              "      <td>290500.0</td>\n",
              "      <td>1208</td>\n",
              "      <td>645.0</td>\n",
              "      <td>42.0</td>\n",
              "      <td>0.753045</td>\n",
              "    </tr>\n",
              "    <tr>\n",
              "      <th>48</th>\n",
              "      <td>2020-04-21</td>\n",
              "      <td>33261</td>\n",
              "      <td>300100.0</td>\n",
              "      <td>1268</td>\n",
              "      <td>2283.0</td>\n",
              "      <td>60.0</td>\n",
              "      <td>0.808542</td>\n",
              "    </tr>\n",
              "    <tr>\n",
              "      <th>49</th>\n",
              "      <td>2020-04-22</td>\n",
              "      <td>35396</td>\n",
              "      <td>465327.0</td>\n",
              "      <td>1354</td>\n",
              "      <td>2135.0</td>\n",
              "      <td>86.0</td>\n",
              "      <td>0.860442</td>\n",
              "    </tr>\n",
              "    <tr>\n",
              "      <th>50</th>\n",
              "      <td>2020-04-23</td>\n",
              "      <td>37369</td>\n",
              "      <td>482097.0</td>\n",
              "      <td>1469</td>\n",
              "      <td>1973.0</td>\n",
              "      <td>115.0</td>\n",
              "      <td>0.908404</td>\n",
              "    </tr>\n",
              "    <tr>\n",
              "      <th>51</th>\n",
              "      <td>2020-04-24</td>\n",
              "      <td>39254</td>\n",
              "      <td>494173.0</td>\n",
              "      <td>1562</td>\n",
              "      <td>1885.0</td>\n",
              "      <td>93.0</td>\n",
              "      <td>0.954226</td>\n",
              "    </tr>\n",
              "    <tr>\n",
              "      <th>52</th>\n",
              "      <td>2020-04-25</td>\n",
              "      <td>41137</td>\n",
              "      <td>506035.0</td>\n",
              "      <td>1651</td>\n",
              "      <td>1883.0</td>\n",
              "      <td>89.0</td>\n",
              "      <td>1.000000</td>\n",
              "    </tr>\n",
              "  </tbody>\n",
              "</table>\n",
              "</div>"
            ],
            "text/plain": [
              "         date  positive  ...  deathIncrease       PCT\n",
              "46 2020-04-19     30333  ...           94.0  0.737365\n",
              "47 2020-04-20     30978  ...           42.0  0.753045\n",
              "48 2020-04-21     33261  ...           60.0  0.808542\n",
              "49 2020-04-22     35396  ...           86.0  0.860442\n",
              "50 2020-04-23     37369  ...          115.0  0.908404\n",
              "51 2020-04-24     39254  ...           93.0  0.954226\n",
              "52 2020-04-25     41137  ...           89.0  1.000000\n",
              "\n",
              "[7 rows x 7 columns]"
            ]
          },
          "metadata": {
            "tags": []
          },
          "execution_count": 9
        }
      ]
    },
    {
      "cell_type": "code",
      "metadata": {
        "id": "BTvuZKJN0RoI",
        "colab_type": "code",
        "outputId": "ace27866-a9ff-4d28-9c12-104bf148c2ba",
        "colab": {
          "base_uri": "https://localhost:8080/",
          "height": 335
        }
      },
      "source": [
        "gbUSA.sum()[-5:]"
      ],
      "execution_count": 10,
      "outputs": [
        {
          "output_type": "execute_result",
          "data": {
            "text/html": [
              "<div>\n",
              "<style scoped>\n",
              "    .dataframe tbody tr th:only-of-type {\n",
              "        vertical-align: middle;\n",
              "    }\n",
              "\n",
              "    .dataframe tbody tr th {\n",
              "        vertical-align: top;\n",
              "    }\n",
              "\n",
              "    .dataframe thead th {\n",
              "        text-align: right;\n",
              "    }\n",
              "</style>\n",
              "<table border=\"1\" class=\"dataframe\">\n",
              "  <thead>\n",
              "    <tr style=\"text-align: right;\">\n",
              "      <th></th>\n",
              "      <th>positive</th>\n",
              "      <th>negative</th>\n",
              "      <th>pending</th>\n",
              "      <th>hospitalizedCurrently</th>\n",
              "      <th>hospitalizedCumulative</th>\n",
              "      <th>inIcuCurrently</th>\n",
              "      <th>inIcuCumulative</th>\n",
              "      <th>onVentilatorCurrently</th>\n",
              "      <th>onVentilatorCumulative</th>\n",
              "      <th>recovered</th>\n",
              "      <th>death</th>\n",
              "      <th>hospitalized</th>\n",
              "      <th>total</th>\n",
              "      <th>totalTestResults</th>\n",
              "      <th>posNeg</th>\n",
              "      <th>deathIncrease</th>\n",
              "      <th>hospitalizedIncrease</th>\n",
              "      <th>negativeIncrease</th>\n",
              "      <th>positiveIncrease</th>\n",
              "      <th>totalTestResultsIncrease</th>\n",
              "    </tr>\n",
              "    <tr>\n",
              "      <th>date</th>\n",
              "      <th></th>\n",
              "      <th></th>\n",
              "      <th></th>\n",
              "      <th></th>\n",
              "      <th></th>\n",
              "      <th></th>\n",
              "      <th></th>\n",
              "      <th></th>\n",
              "      <th></th>\n",
              "      <th></th>\n",
              "      <th></th>\n",
              "      <th></th>\n",
              "      <th></th>\n",
              "      <th></th>\n",
              "      <th></th>\n",
              "      <th></th>\n",
              "      <th></th>\n",
              "      <th></th>\n",
              "      <th></th>\n",
              "      <th></th>\n",
              "    </tr>\n",
              "  </thead>\n",
              "  <tbody>\n",
              "    <tr>\n",
              "      <th>2020-04-21</th>\n",
              "      <td>800305</td>\n",
              "      <td>3355282</td>\n",
              "      <td>3956</td>\n",
              "      <td>58468.0</td>\n",
              "      <td>84292.0</td>\n",
              "      <td>15228.0</td>\n",
              "      <td>2315.0</td>\n",
              "      <td>5514.0</td>\n",
              "      <td>214.0</td>\n",
              "      <td>58117.0</td>\n",
              "      <td>39995</td>\n",
              "      <td>84292.0</td>\n",
              "      <td>4159543</td>\n",
              "      <td>4155587.0</td>\n",
              "      <td>4155587.0</td>\n",
              "      <td>2674.0</td>\n",
              "      <td>1413.0</td>\n",
              "      <td>124255.0</td>\n",
              "      <td>27285.0</td>\n",
              "      <td>151540.0</td>\n",
              "    </tr>\n",
              "    <tr>\n",
              "      <th>2020-04-22</th>\n",
              "      <td>827963</td>\n",
              "      <td>3641232</td>\n",
              "      <td>4191</td>\n",
              "      <td>58173.0</td>\n",
              "      <td>85543.0</td>\n",
              "      <td>15341.0</td>\n",
              "      <td>2370.0</td>\n",
              "      <td>5474.0</td>\n",
              "      <td>227.0</td>\n",
              "      <td>61519.0</td>\n",
              "      <td>42128</td>\n",
              "      <td>85543.0</td>\n",
              "      <td>4473386</td>\n",
              "      <td>4469195.0</td>\n",
              "      <td>4469195.0</td>\n",
              "      <td>2133.0</td>\n",
              "      <td>1251.0</td>\n",
              "      <td>285950.0</td>\n",
              "      <td>27658.0</td>\n",
              "      <td>313608.0</td>\n",
              "    </tr>\n",
              "    <tr>\n",
              "      <th>2020-04-23</th>\n",
              "      <td>859318</td>\n",
              "      <td>3800932</td>\n",
              "      <td>4258</td>\n",
              "      <td>57879.0</td>\n",
              "      <td>91108.0</td>\n",
              "      <td>15163.0</td>\n",
              "      <td>2428.0</td>\n",
              "      <td>5464.0</td>\n",
              "      <td>227.0</td>\n",
              "      <td>63547.0</td>\n",
              "      <td>44014</td>\n",
              "      <td>91108.0</td>\n",
              "      <td>4664508</td>\n",
              "      <td>4660250.0</td>\n",
              "      <td>4660250.0</td>\n",
              "      <td>1886.0</td>\n",
              "      <td>5601.0</td>\n",
              "      <td>159700.0</td>\n",
              "      <td>31355.0</td>\n",
              "      <td>191055.0</td>\n",
              "    </tr>\n",
              "    <tr>\n",
              "      <th>2020-04-24</th>\n",
              "      <td>890816</td>\n",
              "      <td>3992986</td>\n",
              "      <td>4396</td>\n",
              "      <td>56118.0</td>\n",
              "      <td>93107.0</td>\n",
              "      <td>15078.0</td>\n",
              "      <td>2468.0</td>\n",
              "      <td>5187.0</td>\n",
              "      <td>227.0</td>\n",
              "      <td>80958.0</td>\n",
              "      <td>45786</td>\n",
              "      <td>93107.0</td>\n",
              "      <td>4888198</td>\n",
              "      <td>4883802.0</td>\n",
              "      <td>4883802.0</td>\n",
              "      <td>1772.0</td>\n",
              "      <td>1999.0</td>\n",
              "      <td>192054.0</td>\n",
              "      <td>31498.0</td>\n",
              "      <td>223552.0</td>\n",
              "    </tr>\n",
              "    <tr>\n",
              "      <th>2020-04-25</th>\n",
              "      <td>931698</td>\n",
              "      <td>4252937</td>\n",
              "      <td>5315</td>\n",
              "      <td>56312.0</td>\n",
              "      <td>94743.0</td>\n",
              "      <td>15020.0</td>\n",
              "      <td>2516.0</td>\n",
              "      <td>5266.0</td>\n",
              "      <td>227.0</td>\n",
              "      <td>90445.0</td>\n",
              "      <td>47980</td>\n",
              "      <td>94743.0</td>\n",
              "      <td>5189950</td>\n",
              "      <td>5184635.0</td>\n",
              "      <td>5184635.0</td>\n",
              "      <td>2194.0</td>\n",
              "      <td>1636.0</td>\n",
              "      <td>259951.0</td>\n",
              "      <td>40882.0</td>\n",
              "      <td>300833.0</td>\n",
              "    </tr>\n",
              "  </tbody>\n",
              "</table>\n",
              "</div>"
            ],
            "text/plain": [
              "            positive  negative  ...  positiveIncrease  totalTestResultsIncrease\n",
              "date                            ...                                            \n",
              "2020-04-21    800305   3355282  ...           27285.0                  151540.0\n",
              "2020-04-22    827963   3641232  ...           27658.0                  313608.0\n",
              "2020-04-23    859318   3800932  ...           31355.0                  191055.0\n",
              "2020-04-24    890816   3992986  ...           31498.0                  223552.0\n",
              "2020-04-25    931698   4252937  ...           40882.0                  300833.0\n",
              "\n",
              "[5 rows x 20 columns]"
            ]
          },
          "metadata": {
            "tags": []
          },
          "execution_count": 10
        }
      ]
    },
    {
      "cell_type": "code",
      "metadata": {
        "id": "bjpo-qlGoA7A",
        "colab_type": "code",
        "outputId": "4169fe8f-ab1c-4ca8-877b-fc48f40c07d0",
        "colab": {
          "base_uri": "https://localhost:8080/",
          "height": 335
        }
      },
      "source": [
        "gbCA.sum()[-5:]"
      ],
      "execution_count": 11,
      "outputs": [
        {
          "output_type": "execute_result",
          "data": {
            "text/html": [
              "<div>\n",
              "<style scoped>\n",
              "    .dataframe tbody tr th:only-of-type {\n",
              "        vertical-align: middle;\n",
              "    }\n",
              "\n",
              "    .dataframe tbody tr th {\n",
              "        vertical-align: top;\n",
              "    }\n",
              "\n",
              "    .dataframe thead th {\n",
              "        text-align: right;\n",
              "    }\n",
              "</style>\n",
              "<table border=\"1\" class=\"dataframe\">\n",
              "  <thead>\n",
              "    <tr style=\"text-align: right;\">\n",
              "      <th></th>\n",
              "      <th>positive</th>\n",
              "      <th>negative</th>\n",
              "      <th>pending</th>\n",
              "      <th>hospitalizedCurrently</th>\n",
              "      <th>hospitalizedCumulative</th>\n",
              "      <th>inIcuCurrently</th>\n",
              "      <th>inIcuCumulative</th>\n",
              "      <th>onVentilatorCurrently</th>\n",
              "      <th>onVentilatorCumulative</th>\n",
              "      <th>recovered</th>\n",
              "      <th>death</th>\n",
              "      <th>hospitalized</th>\n",
              "      <th>total</th>\n",
              "      <th>totalTestResults</th>\n",
              "      <th>posNeg</th>\n",
              "      <th>deathIncrease</th>\n",
              "      <th>hospitalizedIncrease</th>\n",
              "      <th>negativeIncrease</th>\n",
              "      <th>positiveIncrease</th>\n",
              "      <th>totalTestResultsIncrease</th>\n",
              "    </tr>\n",
              "    <tr>\n",
              "      <th>date</th>\n",
              "      <th></th>\n",
              "      <th></th>\n",
              "      <th></th>\n",
              "      <th></th>\n",
              "      <th></th>\n",
              "      <th></th>\n",
              "      <th></th>\n",
              "      <th></th>\n",
              "      <th></th>\n",
              "      <th></th>\n",
              "      <th></th>\n",
              "      <th></th>\n",
              "      <th></th>\n",
              "      <th></th>\n",
              "      <th></th>\n",
              "      <th></th>\n",
              "      <th></th>\n",
              "      <th></th>\n",
              "      <th></th>\n",
              "      <th></th>\n",
              "    </tr>\n",
              "  </thead>\n",
              "  <tbody>\n",
              "    <tr>\n",
              "      <th>2020-04-21</th>\n",
              "      <td>33261</td>\n",
              "      <td>266839</td>\n",
              "      <td>0</td>\n",
              "      <td>4886.0</td>\n",
              "      <td>0.0</td>\n",
              "      <td>1502.0</td>\n",
              "      <td>0.0</td>\n",
              "      <td>0.0</td>\n",
              "      <td>0.0</td>\n",
              "      <td>0.0</td>\n",
              "      <td>1268</td>\n",
              "      <td>0.0</td>\n",
              "      <td>300100</td>\n",
              "      <td>300100.0</td>\n",
              "      <td>300100.0</td>\n",
              "      <td>60.0</td>\n",
              "      <td>0.0</td>\n",
              "      <td>7317.0</td>\n",
              "      <td>2283.0</td>\n",
              "      <td>9600.0</td>\n",
              "    </tr>\n",
              "    <tr>\n",
              "      <th>2020-04-22</th>\n",
              "      <td>35396</td>\n",
              "      <td>429931</td>\n",
              "      <td>0</td>\n",
              "      <td>4984.0</td>\n",
              "      <td>0.0</td>\n",
              "      <td>1551.0</td>\n",
              "      <td>0.0</td>\n",
              "      <td>0.0</td>\n",
              "      <td>0.0</td>\n",
              "      <td>0.0</td>\n",
              "      <td>1354</td>\n",
              "      <td>0.0</td>\n",
              "      <td>465327</td>\n",
              "      <td>465327.0</td>\n",
              "      <td>465327.0</td>\n",
              "      <td>86.0</td>\n",
              "      <td>0.0</td>\n",
              "      <td>163092.0</td>\n",
              "      <td>2135.0</td>\n",
              "      <td>165227.0</td>\n",
              "    </tr>\n",
              "    <tr>\n",
              "      <th>2020-04-23</th>\n",
              "      <td>37369</td>\n",
              "      <td>444728</td>\n",
              "      <td>0</td>\n",
              "      <td>4929.0</td>\n",
              "      <td>0.0</td>\n",
              "      <td>1531.0</td>\n",
              "      <td>0.0</td>\n",
              "      <td>0.0</td>\n",
              "      <td>0.0</td>\n",
              "      <td>0.0</td>\n",
              "      <td>1469</td>\n",
              "      <td>0.0</td>\n",
              "      <td>482097</td>\n",
              "      <td>482097.0</td>\n",
              "      <td>482097.0</td>\n",
              "      <td>115.0</td>\n",
              "      <td>0.0</td>\n",
              "      <td>14797.0</td>\n",
              "      <td>1973.0</td>\n",
              "      <td>16770.0</td>\n",
              "    </tr>\n",
              "    <tr>\n",
              "      <th>2020-04-24</th>\n",
              "      <td>39254</td>\n",
              "      <td>454919</td>\n",
              "      <td>0</td>\n",
              "      <td>4880.0</td>\n",
              "      <td>0.0</td>\n",
              "      <td>1521.0</td>\n",
              "      <td>0.0</td>\n",
              "      <td>0.0</td>\n",
              "      <td>0.0</td>\n",
              "      <td>0.0</td>\n",
              "      <td>1562</td>\n",
              "      <td>0.0</td>\n",
              "      <td>494173</td>\n",
              "      <td>494173.0</td>\n",
              "      <td>494173.0</td>\n",
              "      <td>93.0</td>\n",
              "      <td>0.0</td>\n",
              "      <td>10191.0</td>\n",
              "      <td>1885.0</td>\n",
              "      <td>12076.0</td>\n",
              "    </tr>\n",
              "    <tr>\n",
              "      <th>2020-04-25</th>\n",
              "      <td>41137</td>\n",
              "      <td>464898</td>\n",
              "      <td>0</td>\n",
              "      <td>4847.0</td>\n",
              "      <td>0.0</td>\n",
              "      <td>1458.0</td>\n",
              "      <td>0.0</td>\n",
              "      <td>0.0</td>\n",
              "      <td>0.0</td>\n",
              "      <td>0.0</td>\n",
              "      <td>1651</td>\n",
              "      <td>0.0</td>\n",
              "      <td>506035</td>\n",
              "      <td>506035.0</td>\n",
              "      <td>506035.0</td>\n",
              "      <td>89.0</td>\n",
              "      <td>0.0</td>\n",
              "      <td>9979.0</td>\n",
              "      <td>1883.0</td>\n",
              "      <td>11862.0</td>\n",
              "    </tr>\n",
              "  </tbody>\n",
              "</table>\n",
              "</div>"
            ],
            "text/plain": [
              "            positive  negative  ...  positiveIncrease  totalTestResultsIncrease\n",
              "date                            ...                                            \n",
              "2020-04-21     33261    266839  ...            2283.0                    9600.0\n",
              "2020-04-22     35396    429931  ...            2135.0                  165227.0\n",
              "2020-04-23     37369    444728  ...            1973.0                   16770.0\n",
              "2020-04-24     39254    454919  ...            1885.0                   12076.0\n",
              "2020-04-25     41137    464898  ...            1883.0                   11862.0\n",
              "\n",
              "[5 rows x 20 columns]"
            ]
          },
          "metadata": {
            "tags": []
          },
          "execution_count": 11
        }
      ]
    },
    {
      "cell_type": "code",
      "metadata": {
        "id": "916a0sCVdNRQ",
        "colab_type": "code",
        "outputId": "8e1f6e9c-a2ec-4980-bdb5-58127ee2c3a9",
        "colab": {
          "base_uri": "https://localhost:8080/",
          "height": 302
        }
      },
      "source": [
        "x=gbUSA.sum().loc[:, ['positive', 'negative','death','total']].plot.line()"
      ],
      "execution_count": 12,
      "outputs": [
        {
          "output_type": "display_data",
          "data": {
            "image/png": "[encoded data removed]",
            "text/plain": [
              "<Figure size 432x288 with 1 Axes>"
            ]
          },
          "metadata": {
            "tags": [],
            "needs_background": "light"
          }
        }
      ]
    },
    {
      "cell_type": "code",
      "metadata": {
        "id": "WewkySHXaLc4",
        "colab_type": "code",
        "outputId": "4b6d3da3-a7ba-4f14-ec4e-6e4479689131",
        "colab": {
          "base_uri": "https://localhost:8080/",
          "height": 498
        }
      },
      "source": [
        "dfWHO[-14:]"
      ],
      "execution_count": 13,
      "outputs": [
        {
          "output_type": "execute_result",
          "data": {
            "text/html": [
              "<div>\n",
              "<style scoped>\n",
              "    .dataframe tbody tr th:only-of-type {\n",
              "        vertical-align: middle;\n",
              "    }\n",
              "\n",
              "    .dataframe tbody tr th {\n",
              "        vertical-align: top;\n",
              "    }\n",
              "\n",
              "    .dataframe thead th {\n",
              "        text-align: right;\n",
              "    }\n",
              "</style>\n",
              "<table border=\"1\" class=\"dataframe\">\n",
              "  <thead>\n",
              "    <tr style=\"text-align: right;\">\n",
              "      <th></th>\n",
              "      <th>confirmed</th>\n",
              "      <th>who_deaths</th>\n",
              "    </tr>\n",
              "    <tr>\n",
              "      <th>date</th>\n",
              "      <th></th>\n",
              "      <th></th>\n",
              "    </tr>\n",
              "  </thead>\n",
              "  <tbody>\n",
              "    <tr>\n",
              "      <th>2020-04-12</th>\n",
              "      <td>492881</td>\n",
              "      <td>18516</td>\n",
              "    </tr>\n",
              "    <tr>\n",
              "      <th>2020-04-13</th>\n",
              "      <td>524514</td>\n",
              "      <td>20444</td>\n",
              "    </tr>\n",
              "    <tr>\n",
              "      <th>2020-04-14</th>\n",
              "      <td>553822</td>\n",
              "      <td>21972</td>\n",
              "    </tr>\n",
              "    <tr>\n",
              "      <th>2020-04-15</th>\n",
              "      <td>578268</td>\n",
              "      <td>23476</td>\n",
              "    </tr>\n",
              "    <tr>\n",
              "      <th>2020-04-16</th>\n",
              "      <td>604070</td>\n",
              "      <td>25871</td>\n",
              "    </tr>\n",
              "    <tr>\n",
              "      <th>2020-04-17</th>\n",
              "      <td>632781</td>\n",
              "      <td>28221</td>\n",
              "    </tr>\n",
              "    <tr>\n",
              "      <th>2020-04-18</th>\n",
              "      <td>665330</td>\n",
              "      <td>30384</td>\n",
              "    </tr>\n",
              "    <tr>\n",
              "      <th>2020-04-19</th>\n",
              "      <td>695353</td>\n",
              "      <td>32427</td>\n",
              "    </tr>\n",
              "    <tr>\n",
              "      <th>2020-04-20</th>\n",
              "      <td>723605</td>\n",
              "      <td>34203</td>\n",
              "    </tr>\n",
              "    <tr>\n",
              "      <th>2020-04-21</th>\n",
              "      <td>751273</td>\n",
              "      <td>35884</td>\n",
              "    </tr>\n",
              "    <tr>\n",
              "      <th>2020-04-22</th>\n",
              "      <td>776907</td>\n",
              "      <td>37602</td>\n",
              "    </tr>\n",
              "    <tr>\n",
              "      <th>2020-04-23</th>\n",
              "      <td>800926</td>\n",
              "      <td>40073</td>\n",
              "    </tr>\n",
              "    <tr>\n",
              "      <th>2020-04-24</th>\n",
              "      <td>830053</td>\n",
              "      <td>42311</td>\n",
              "    </tr>\n",
              "    <tr>\n",
              "      <th>2020-04-25</th>\n",
              "      <td>860772</td>\n",
              "      <td>44053</td>\n",
              "    </tr>\n",
              "  </tbody>\n",
              "</table>\n",
              "</div>"
            ],
            "text/plain": [
              "            confirmed  who_deaths\n",
              "date                             \n",
              "2020-04-12     492881       18516\n",
              "2020-04-13     524514       20444\n",
              "2020-04-14     553822       21972\n",
              "2020-04-15     578268       23476\n",
              "2020-04-16     604070       25871\n",
              "2020-04-17     632781       28221\n",
              "2020-04-18     665330       30384\n",
              "2020-04-19     695353       32427\n",
              "2020-04-20     723605       34203\n",
              "2020-04-21     751273       35884\n",
              "2020-04-22     776907       37602\n",
              "2020-04-23     800926       40073\n",
              "2020-04-24     830053       42311\n",
              "2020-04-25     860772       44053"
            ]
          },
          "metadata": {
            "tags": []
          },
          "execution_count": 13
        }
      ]
    },
    {
      "cell_type": "code",
      "metadata": {
        "id": "Ftv2uSph2y7_",
        "colab_type": "code",
        "outputId": "7f7fc29a-8254-4b55-d47f-9ba18de878d9",
        "colab": {
          "base_uri": "https://localhost:8080/",
          "height": 309
        }
      },
      "source": [
        "dfResults = gbUSA.sum().join(dfWHO, how='left', rsuffix='_who' )\n",
        "dfResults.loc[:, ['positive', 'confirmed']].plot.line()"
      ],
      "execution_count": 14,
      "outputs": [
        {
          "output_type": "execute_result",
          "data": {
            "text/plain": [
              "<matplotlib.axes._subplots.AxesSubplot at 0x7fa3f6d6c5c0>"
            ]
          },
          "metadata": {
            "tags": []
          },
          "execution_count": 14
        },
        {
          "output_type": "display_data",
          "data": {
            "image/png": "[encoded data removed]",
            "text/plain": [
              "<Figure size 432x288 with 1 Axes>"
            ]
          },
          "metadata": {
            "tags": [],
            "needs_background": "light"
          }
        }
      ]
    },
    {
      "cell_type": "code",
      "metadata": {
        "id": "DTXXmezEHYPV",
        "colab_type": "code",
        "colab": {}
      },
      "source": [
        ""
      ],
      "execution_count": 0,
      "outputs": []
    },
    {
      "cell_type": "code",
      "metadata": {
        "colab_type": "code",
        "id": "55lq16z8w_Ec",
        "outputId": "046bf3ff-053a-4d0e-a7e7-6dbfbf990b8a",
        "colab": {
          "base_uri": "https://localhost:8080/",
          "height": 429
        }
      },
      "source": [
        "gbCA.sum()[-7:]"
      ],
      "execution_count": 15,
      "outputs": [
        {
          "output_type": "execute_result",
          "data": {
            "text/html": [
              "<div>\n",
              "<style scoped>\n",
              "    .dataframe tbody tr th:only-of-type {\n",
              "        vertical-align: middle;\n",
              "    }\n",
              "\n",
              "    .dataframe tbody tr th {\n",
              "        vertical-align: top;\n",
              "    }\n",
              "\n",
              "    .dataframe thead th {\n",
              "        text-align: right;\n",
              "    }\n",
              "</style>\n",
              "<table border=\"1\" class=\"dataframe\">\n",
              "  <thead>\n",
              "    <tr style=\"text-align: right;\">\n",
              "      <th></th>\n",
              "      <th>positive</th>\n",
              "      <th>negative</th>\n",
              "      <th>pending</th>\n",
              "      <th>hospitalizedCurrently</th>\n",
              "      <th>hospitalizedCumulative</th>\n",
              "      <th>inIcuCurrently</th>\n",
              "      <th>inIcuCumulative</th>\n",
              "      <th>onVentilatorCurrently</th>\n",
              "      <th>onVentilatorCumulative</th>\n",
              "      <th>recovered</th>\n",
              "      <th>death</th>\n",
              "      <th>hospitalized</th>\n",
              "      <th>total</th>\n",
              "      <th>totalTestResults</th>\n",
              "      <th>posNeg</th>\n",
              "      <th>deathIncrease</th>\n",
              "      <th>hospitalizedIncrease</th>\n",
              "      <th>negativeIncrease</th>\n",
              "      <th>positiveIncrease</th>\n",
              "      <th>totalTestResultsIncrease</th>\n",
              "    </tr>\n",
              "    <tr>\n",
              "      <th>date</th>\n",
              "      <th></th>\n",
              "      <th></th>\n",
              "      <th></th>\n",
              "      <th></th>\n",
              "      <th></th>\n",
              "      <th></th>\n",
              "      <th></th>\n",
              "      <th></th>\n",
              "      <th></th>\n",
              "      <th></th>\n",
              "      <th></th>\n",
              "      <th></th>\n",
              "      <th></th>\n",
              "      <th></th>\n",
              "      <th></th>\n",
              "      <th></th>\n",
              "      <th></th>\n",
              "      <th></th>\n",
              "      <th></th>\n",
              "      <th></th>\n",
              "    </tr>\n",
              "  </thead>\n",
              "  <tbody>\n",
              "    <tr>\n",
              "      <th>2020-04-19</th>\n",
              "      <td>30333</td>\n",
              "      <td>250567</td>\n",
              "      <td>7200</td>\n",
              "      <td>4731.0</td>\n",
              "      <td>0.0</td>\n",
              "      <td>1457.0</td>\n",
              "      <td>0.0</td>\n",
              "      <td>0.0</td>\n",
              "      <td>0.0</td>\n",
              "      <td>0.0</td>\n",
              "      <td>1166</td>\n",
              "      <td>0.0</td>\n",
              "      <td>288100</td>\n",
              "      <td>280900.0</td>\n",
              "      <td>280900.0</td>\n",
              "      <td>94.0</td>\n",
              "      <td>0.0</td>\n",
              "      <td>19864.0</td>\n",
              "      <td>1370.0</td>\n",
              "      <td>21234.0</td>\n",
              "    </tr>\n",
              "    <tr>\n",
              "      <th>2020-04-20</th>\n",
              "      <td>30978</td>\n",
              "      <td>259522</td>\n",
              "      <td>0</td>\n",
              "      <td>4674.0</td>\n",
              "      <td>0.0</td>\n",
              "      <td>1480.0</td>\n",
              "      <td>0.0</td>\n",
              "      <td>0.0</td>\n",
              "      <td>0.0</td>\n",
              "      <td>0.0</td>\n",
              "      <td>1208</td>\n",
              "      <td>0.0</td>\n",
              "      <td>290500</td>\n",
              "      <td>290500.0</td>\n",
              "      <td>290500.0</td>\n",
              "      <td>42.0</td>\n",
              "      <td>0.0</td>\n",
              "      <td>8955.0</td>\n",
              "      <td>645.0</td>\n",
              "      <td>9600.0</td>\n",
              "    </tr>\n",
              "    <tr>\n",
              "      <th>2020-04-21</th>\n",
              "      <td>33261</td>\n",
              "      <td>266839</td>\n",
              "      <td>0</td>\n",
              "      <td>4886.0</td>\n",
              "      <td>0.0</td>\n",
              "      <td>1502.0</td>\n",
              "      <td>0.0</td>\n",
              "      <td>0.0</td>\n",
              "      <td>0.0</td>\n",
              "      <td>0.0</td>\n",
              "      <td>1268</td>\n",
              "      <td>0.0</td>\n",
              "      <td>300100</td>\n",
              "      <td>300100.0</td>\n",
              "      <td>300100.0</td>\n",
              "      <td>60.0</td>\n",
              "      <td>0.0</td>\n",
              "      <td>7317.0</td>\n",
              "      <td>2283.0</td>\n",
              "      <td>9600.0</td>\n",
              "    </tr>\n",
              "    <tr>\n",
              "      <th>2020-04-22</th>\n",
              "      <td>35396</td>\n",
              "      <td>429931</td>\n",
              "      <td>0</td>\n",
              "      <td>4984.0</td>\n",
              "      <td>0.0</td>\n",
              "      <td>1551.0</td>\n",
              "      <td>0.0</td>\n",
              "      <td>0.0</td>\n",
              "      <td>0.0</td>\n",
              "      <td>0.0</td>\n",
              "      <td>1354</td>\n",
              "      <td>0.0</td>\n",
              "      <td>465327</td>\n",
              "      <td>465327.0</td>\n",
              "      <td>465327.0</td>\n",
              "      <td>86.0</td>\n",
              "      <td>0.0</td>\n",
              "      <td>163092.0</td>\n",
              "      <td>2135.0</td>\n",
              "      <td>165227.0</td>\n",
              "    </tr>\n",
              "    <tr>\n",
              "      <th>2020-04-23</th>\n",
              "      <td>37369</td>\n",
              "      <td>444728</td>\n",
              "      <td>0</td>\n",
              "      <td>4929.0</td>\n",
              "      <td>0.0</td>\n",
              "      <td>1531.0</td>\n",
              "      <td>0.0</td>\n",
              "      <td>0.0</td>\n",
              "      <td>0.0</td>\n",
              "      <td>0.0</td>\n",
              "      <td>1469</td>\n",
              "      <td>0.0</td>\n",
              "      <td>482097</td>\n",
              "      <td>482097.0</td>\n",
              "      <td>482097.0</td>\n",
              "      <td>115.0</td>\n",
              "      <td>0.0</td>\n",
              "      <td>14797.0</td>\n",
              "      <td>1973.0</td>\n",
              "      <td>16770.0</td>\n",
              "    </tr>\n",
              "    <tr>\n",
              "      <th>2020-04-24</th>\n",
              "      <td>39254</td>\n",
              "      <td>454919</td>\n",
              "      <td>0</td>\n",
              "      <td>4880.0</td>\n",
              "      <td>0.0</td>\n",
              "      <td>1521.0</td>\n",
              "      <td>0.0</td>\n",
              "      <td>0.0</td>\n",
              "      <td>0.0</td>\n",
              "      <td>0.0</td>\n",
              "      <td>1562</td>\n",
              "      <td>0.0</td>\n",
              "      <td>494173</td>\n",
              "      <td>494173.0</td>\n",
              "      <td>494173.0</td>\n",
              "      <td>93.0</td>\n",
              "      <td>0.0</td>\n",
              "      <td>10191.0</td>\n",
              "      <td>1885.0</td>\n",
              "      <td>12076.0</td>\n",
              "    </tr>\n",
              "    <tr>\n",
              "      <th>2020-04-25</th>\n",
              "      <td>41137</td>\n",
              "      <td>464898</td>\n",
              "      <td>0</td>\n",
              "      <td>4847.0</td>\n",
              "      <td>0.0</td>\n",
              "      <td>1458.0</td>\n",
              "      <td>0.0</td>\n",
              "      <td>0.0</td>\n",
              "      <td>0.0</td>\n",
              "      <td>0.0</td>\n",
              "      <td>1651</td>\n",
              "      <td>0.0</td>\n",
              "      <td>506035</td>\n",
              "      <td>506035.0</td>\n",
              "      <td>506035.0</td>\n",
              "      <td>89.0</td>\n",
              "      <td>0.0</td>\n",
              "      <td>9979.0</td>\n",
              "      <td>1883.0</td>\n",
              "      <td>11862.0</td>\n",
              "    </tr>\n",
              "  </tbody>\n",
              "</table>\n",
              "</div>"
            ],
            "text/plain": [
              "            positive  negative  ...  positiveIncrease  totalTestResultsIncrease\n",
              "date                            ...                                            \n",
              "2020-04-19     30333    250567  ...            1370.0                   21234.0\n",
              "2020-04-20     30978    259522  ...             645.0                    9600.0\n",
              "2020-04-21     33261    266839  ...            2283.0                    9600.0\n",
              "2020-04-22     35396    429931  ...            2135.0                  165227.0\n",
              "2020-04-23     37369    444728  ...            1973.0                   16770.0\n",
              "2020-04-24     39254    454919  ...            1885.0                   12076.0\n",
              "2020-04-25     41137    464898  ...            1883.0                   11862.0\n",
              "\n",
              "[7 rows x 20 columns]"
            ]
          },
          "metadata": {
            "tags": []
          },
          "execution_count": 15
        }
      ]
    },
    {
      "cell_type": "code",
      "metadata": {
        "id": "3WBkdfv2eLEc",
        "colab_type": "code",
        "outputId": "652f6fb0-4450-4d20-b3b2-d6a4b5336a29",
        "colab": {
          "base_uri": "https://localhost:8080/",
          "height": 72
        }
      },
      "source": [
        "dfJHUData[dfJHUData.country=='US'][['confirmed', 'dead']].sum()"
      ],
      "execution_count": 16,
      "outputs": [
        {
          "output_type": "execute_result",
          "data": {
            "text/plain": [
              "confirmed    905333\n",
              "dead          51949\n",
              "dtype: int64"
            ]
          },
          "metadata": {
            "tags": []
          },
          "execution_count": 16
        }
      ]
    },
    {
      "cell_type": "code",
      "metadata": {
        "id": "NUQ35Inse05H",
        "colab_type": "code",
        "outputId": "89ccf4a5-fe74-456d-977d-dfdb06c91044",
        "colab": {
          "base_uri": "https://localhost:8080/",
          "height": 72
        }
      },
      "source": [
        "dfJHUData[(dfJHUData.country=='US')&(dfJHUData.state=='California')][['confirmed', 'dead']].sum()"
      ],
      "execution_count": 17,
      "outputs": [
        {
          "output_type": "execute_result",
          "data": {
            "text/plain": [
              "confirmed    41355\n",
              "dead          1621\n",
              "dtype: int64"
            ]
          },
          "metadata": {
            "tags": []
          },
          "execution_count": 17
        }
      ]
    },
    {
      "cell_type": "code",
      "metadata": {
        "id": "H0JVVTFGfMOW",
        "colab_type": "code",
        "colab": {}
      },
      "source": [
        "dfJHUUS = dfJHUData[dfJHUData.country=='US']\n",
        "gbJHUByState= dfJHUUS.groupby(by='state')\n",
        "gbJHUByCountry = dfJHUData.groupby(by='country')"
      ],
      "execution_count": 0,
      "outputs": []
    },
    {
      "cell_type": "code",
      "metadata": {
        "id": "W8qWd0AYmg58",
        "colab_type": "code",
        "outputId": "60d60658-b306-46a3-d9f1-adf5b496180a",
        "colab": {
          "base_uri": "https://localhost:8080/",
          "height": 235
        }
      },
      "source": [
        "gbJHUByCountry.confirmed.sum().sort_values(ascending=False).head(10)"
      ],
      "execution_count": 19,
      "outputs": [
        {
          "output_type": "execute_result",
          "data": {
            "text/plain": [
              "country\n",
              "US                905333\n",
              "Spain             219764\n",
              "Italy             192994\n",
              "France            159952\n",
              "Germany           154999\n",
              "United Kingdom    144640\n",
              "Turkey            104912\n",
              "Iran               88194\n",
              "China              83899\n",
              "Russia             68622\n",
              "Name: confirmed, dtype: int64"
            ]
          },
          "metadata": {
            "tags": []
          },
          "execution_count": 19
        }
      ]
    },
    {
      "cell_type": "code",
      "metadata": {
        "id": "9crIlvPH4oSU",
        "colab_type": "code",
        "colab": {}
      },
      "source": [
        "dfData = dfCovidtracking.groupby('date')"
      ],
      "execution_count": 0,
      "outputs": []
    },
    {
      "cell_type": "code",
      "metadata": {
        "id": "SjlCtiOt2b__",
        "colab_type": "code",
        "colab": {}
      },
      "source": [
        "dfStateTotal = dfCovidtracking[['state', 'positive']].groupby(by='state').max() \\\n",
        ".rename(columns={'positive':'current_total'})\n"
      ],
      "execution_count": 0,
      "outputs": []
    },
    {
      "cell_type": "code",
      "metadata": {
        "id": "iPsfvvHC2_j1",
        "colab_type": "code",
        "colab": {}
      },
      "source": [
        "dfState = dfCovidtracking[['date','state','positive', 'death']].set_index('state') \\\n",
        "  .join(dfStateTotal)"
      ],
      "execution_count": 0,
      "outputs": []
    },
    {
      "cell_type": "code",
      "metadata": {
        "id": "AkxH55Mx5yE6",
        "colab_type": "code",
        "colab": {}
      },
      "source": [
        "dfState['pct']=dfState.positive/dfState.current_total"
      ],
      "execution_count": 0,
      "outputs": []
    },
    {
      "cell_type": "code",
      "metadata": {
        "id": "PKQ2rgz76XZR",
        "colab_type": "code",
        "outputId": "cfdfb60a-2d07-4d99-ff6b-49f7255a16f5",
        "colab": {
          "base_uri": "https://localhost:8080/",
          "height": 288
        }
      },
      "source": [
        "dfState.loc['FL'].head(7)"
      ],
      "execution_count": 24,
      "outputs": [
        {
          "output_type": "execute_result",
          "data": {
            "text/html": [
              "<div>\n",
              "<style scoped>\n",
              "    .dataframe tbody tr th:only-of-type {\n",
              "        vertical-align: middle;\n",
              "    }\n",
              "\n",
              "    .dataframe tbody tr th {\n",
              "        vertical-align: top;\n",
              "    }\n",
              "\n",
              "    .dataframe thead th {\n",
              "        text-align: right;\n",
              "    }\n",
              "</style>\n",
              "<table border=\"1\" class=\"dataframe\">\n",
              "  <thead>\n",
              "    <tr style=\"text-align: right;\">\n",
              "      <th></th>\n",
              "      <th>date</th>\n",
              "      <th>positive</th>\n",
              "      <th>death</th>\n",
              "      <th>current_total</th>\n",
              "      <th>pct</th>\n",
              "    </tr>\n",
              "    <tr>\n",
              "      <th>state</th>\n",
              "      <th></th>\n",
              "      <th></th>\n",
              "      <th></th>\n",
              "      <th></th>\n",
              "      <th></th>\n",
              "    </tr>\n",
              "  </thead>\n",
              "  <tbody>\n",
              "    <tr>\n",
              "      <th>FL</th>\n",
              "      <td>2020-04-25</td>\n",
              "      <td>30839</td>\n",
              "      <td>1075</td>\n",
              "      <td>30839</td>\n",
              "      <td>1.000000</td>\n",
              "    </tr>\n",
              "    <tr>\n",
              "      <th>FL</th>\n",
              "      <td>2020-04-24</td>\n",
              "      <td>30174</td>\n",
              "      <td>1031</td>\n",
              "      <td>30839</td>\n",
              "      <td>0.978436</td>\n",
              "    </tr>\n",
              "    <tr>\n",
              "      <th>FL</th>\n",
              "      <td>2020-04-23</td>\n",
              "      <td>28832</td>\n",
              "      <td>979</td>\n",
              "      <td>30839</td>\n",
              "      <td>0.934920</td>\n",
              "    </tr>\n",
              "    <tr>\n",
              "      <th>FL</th>\n",
              "      <td>2020-04-22</td>\n",
              "      <td>28309</td>\n",
              "      <td>910</td>\n",
              "      <td>30839</td>\n",
              "      <td>0.917961</td>\n",
              "    </tr>\n",
              "    <tr>\n",
              "      <th>FL</th>\n",
              "      <td>2020-04-21</td>\n",
              "      <td>27495</td>\n",
              "      <td>856</td>\n",
              "      <td>30839</td>\n",
              "      <td>0.891566</td>\n",
              "    </tr>\n",
              "    <tr>\n",
              "      <th>FL</th>\n",
              "      <td>2020-04-20</td>\n",
              "      <td>26660</td>\n",
              "      <td>806</td>\n",
              "      <td>30839</td>\n",
              "      <td>0.864490</td>\n",
              "    </tr>\n",
              "    <tr>\n",
              "      <th>FL</th>\n",
              "      <td>2020-04-19</td>\n",
              "      <td>25996</td>\n",
              "      <td>781</td>\n",
              "      <td>30839</td>\n",
              "      <td>0.842959</td>\n",
              "    </tr>\n",
              "  </tbody>\n",
              "</table>\n",
              "</div>"
            ],
            "text/plain": [
              "            date  positive  death  current_total       pct\n",
              "state                                                     \n",
              "FL    2020-04-25     30839   1075          30839  1.000000\n",
              "FL    2020-04-24     30174   1031          30839  0.978436\n",
              "FL    2020-04-23     28832    979          30839  0.934920\n",
              "FL    2020-04-22     28309    910          30839  0.917961\n",
              "FL    2020-04-21     27495    856          30839  0.891566\n",
              "FL    2020-04-20     26660    806          30839  0.864490\n",
              "FL    2020-04-19     25996    781          30839  0.842959"
            ]
          },
          "metadata": {
            "tags": []
          },
          "execution_count": 24
        }
      ]
    },
    {
      "cell_type": "code",
      "metadata": {
        "id": "dkgVF6Q19glV",
        "colab_type": "code",
        "colab": {}
      },
      "source": [
        "res = dfState.reset_index().pivot(index = 'date', columns='state', values='pct').fillna(0)"
      ],
      "execution_count": 0,
      "outputs": []
    },
    {
      "cell_type": "code",
      "metadata": {
        "id": "w1ml4KC6BF7q",
        "colab_type": "code",
        "outputId": "dc562b32-6875-42f7-ca53-14d7015e51a7",
        "colab": {
          "base_uri": "https://localhost:8080/",
          "height": 291
        }
      },
      "source": [
        "x = res.loc[:, ['CA','FL']].plot.line()"
      ],
      "execution_count": 26,
      "outputs": [
        {
          "output_type": "display_data",
          "data": {
            "image/png": "[encoded data removed]",
            "text/plain": [
              "<Figure size 432x288 with 1 Axes>"
            ]
          },
          "metadata": {
            "tags": [],
            "needs_background": "light"
          }
        }
      ]
    },
    {
      "cell_type": "code",
      "metadata": {
        "id": "eaLSwLbuBLY0",
        "colab_type": "code",
        "colab": {}
      },
      "source": [
        "dfNYTesting = dfCovidtracking.loc[dfCovidtracking.state=='NY', ['date', 'negative']].set_index('date')"
      ],
      "execution_count": 0,
      "outputs": []
    },
    {
      "cell_type": "code",
      "metadata": {
        "id": "vhL4WBWECIhP",
        "colab_type": "code",
        "outputId": "430ca69d-28ef-4e60-fac3-6acd90b65ac3",
        "colab": {
          "base_uri": "https://localhost:8080/",
          "height": 314
        }
      },
      "source": [
        "x = dfNYTesting.plot.line()"
      ],
      "execution_count": 28,
      "outputs": [
        {
          "output_type": "display_data",
          "data": {
            "image/png": "[encoded data removed]",
            "text/plain": [
              "<Figure size 432x288 with 1 Axes>"
            ]
          },
          "metadata": {
            "tags": [],
            "needs_background": "light"
          }
        }
      ]
    },
    {
      "cell_type": "code",
      "metadata": {
        "id": "c4uuFBTquS3o",
        "colab_type": "code",
        "outputId": "011e928c-cd4d-4198-9e04-b8b9dd1ae785",
        "colab": {
          "base_uri": "https://localhost:8080/",
          "height": 348
        }
      },
      "source": [
        "dfDates = dfState.reset_index().copy()\n",
        "dfDates[(dfDates.state.isin(['FL']))].head(10)"
      ],
      "execution_count": 29,
      "outputs": [
        {
          "output_type": "execute_result",
          "data": {
            "text/html": [
              "<div>\n",
              "<style scoped>\n",
              "    .dataframe tbody tr th:only-of-type {\n",
              "        vertical-align: middle;\n",
              "    }\n",
              "\n",
              "    .dataframe tbody tr th {\n",
              "        vertical-align: top;\n",
              "    }\n",
              "\n",
              "    .dataframe thead th {\n",
              "        text-align: right;\n",
              "    }\n",
              "</style>\n",
              "<table border=\"1\" class=\"dataframe\">\n",
              "  <thead>\n",
              "    <tr style=\"text-align: right;\">\n",
              "      <th></th>\n",
              "      <th>state</th>\n",
              "      <th>date</th>\n",
              "      <th>positive</th>\n",
              "      <th>death</th>\n",
              "      <th>current_total</th>\n",
              "      <th>pct</th>\n",
              "    </tr>\n",
              "  </thead>\n",
              "  <tbody>\n",
              "    <tr>\n",
              "      <th>504</th>\n",
              "      <td>FL</td>\n",
              "      <td>2020-04-25</td>\n",
              "      <td>30839</td>\n",
              "      <td>1075</td>\n",
              "      <td>30839</td>\n",
              "      <td>1.000000</td>\n",
              "    </tr>\n",
              "    <tr>\n",
              "      <th>505</th>\n",
              "      <td>FL</td>\n",
              "      <td>2020-04-24</td>\n",
              "      <td>30174</td>\n",
              "      <td>1031</td>\n",
              "      <td>30839</td>\n",
              "      <td>0.978436</td>\n",
              "    </tr>\n",
              "    <tr>\n",
              "      <th>506</th>\n",
              "      <td>FL</td>\n",
              "      <td>2020-04-23</td>\n",
              "      <td>28832</td>\n",
              "      <td>979</td>\n",
              "      <td>30839</td>\n",
              "      <td>0.934920</td>\n",
              "    </tr>\n",
              "    <tr>\n",
              "      <th>507</th>\n",
              "      <td>FL</td>\n",
              "      <td>2020-04-22</td>\n",
              "      <td>28309</td>\n",
              "      <td>910</td>\n",
              "      <td>30839</td>\n",
              "      <td>0.917961</td>\n",
              "    </tr>\n",
              "    <tr>\n",
              "      <th>508</th>\n",
              "      <td>FL</td>\n",
              "      <td>2020-04-21</td>\n",
              "      <td>27495</td>\n",
              "      <td>856</td>\n",
              "      <td>30839</td>\n",
              "      <td>0.891566</td>\n",
              "    </tr>\n",
              "    <tr>\n",
              "      <th>509</th>\n",
              "      <td>FL</td>\n",
              "      <td>2020-04-20</td>\n",
              "      <td>26660</td>\n",
              "      <td>806</td>\n",
              "      <td>30839</td>\n",
              "      <td>0.864490</td>\n",
              "    </tr>\n",
              "    <tr>\n",
              "      <th>510</th>\n",
              "      <td>FL</td>\n",
              "      <td>2020-04-19</td>\n",
              "      <td>25996</td>\n",
              "      <td>781</td>\n",
              "      <td>30839</td>\n",
              "      <td>0.842959</td>\n",
              "    </tr>\n",
              "    <tr>\n",
              "      <th>511</th>\n",
              "      <td>FL</td>\n",
              "      <td>2020-04-18</td>\n",
              "      <td>25269</td>\n",
              "      <td>754</td>\n",
              "      <td>30839</td>\n",
              "      <td>0.819385</td>\n",
              "    </tr>\n",
              "    <tr>\n",
              "      <th>512</th>\n",
              "      <td>FL</td>\n",
              "      <td>2020-04-17</td>\n",
              "      <td>24119</td>\n",
              "      <td>699</td>\n",
              "      <td>30839</td>\n",
              "      <td>0.782094</td>\n",
              "    </tr>\n",
              "    <tr>\n",
              "      <th>513</th>\n",
              "      <td>FL</td>\n",
              "      <td>2020-04-16</td>\n",
              "      <td>22897</td>\n",
              "      <td>646</td>\n",
              "      <td>30839</td>\n",
              "      <td>0.742469</td>\n",
              "    </tr>\n",
              "  </tbody>\n",
              "</table>\n",
              "</div>"
            ],
            "text/plain": [
              "    state       date  positive  death  current_total       pct\n",
              "504    FL 2020-04-25     30839   1075          30839  1.000000\n",
              "505    FL 2020-04-24     30174   1031          30839  0.978436\n",
              "506    FL 2020-04-23     28832    979          30839  0.934920\n",
              "507    FL 2020-04-22     28309    910          30839  0.917961\n",
              "508    FL 2020-04-21     27495    856          30839  0.891566\n",
              "509    FL 2020-04-20     26660    806          30839  0.864490\n",
              "510    FL 2020-04-19     25996    781          30839  0.842959\n",
              "511    FL 2020-04-18     25269    754          30839  0.819385\n",
              "512    FL 2020-04-17     24119    699          30839  0.782094\n",
              "513    FL 2020-04-16     22897    646          30839  0.742469"
            ]
          },
          "metadata": {
            "tags": []
          },
          "execution_count": 29
        }
      ]
    },
    {
      "cell_type": "code",
      "metadata": {
        "id": "Puz0PBzemMD3",
        "colab_type": "code",
        "outputId": "a0c0b331-b4c0-4b16-bc3c-8c8a84244294",
        "colab": {
          "base_uri": "https://localhost:8080/",
          "height": 48
        }
      },
      "source": [
        "datecutoff = dfDates.date.max()-datetime.timedelta(days=3)\n",
        "dfDates[(dfDates.date == datecutoff) & (dfDates.pct < .7)].sort_values(by='pct')\n"
      ],
      "execution_count": 30,
      "outputs": [
        {
          "output_type": "execute_result",
          "data": {
            "text/html": [
              "<div>\n",
              "<style scoped>\n",
              "    .dataframe tbody tr th:only-of-type {\n",
              "        vertical-align: middle;\n",
              "    }\n",
              "\n",
              "    .dataframe tbody tr th {\n",
              "        vertical-align: top;\n",
              "    }\n",
              "\n",
              "    .dataframe thead th {\n",
              "        text-align: right;\n",
              "    }\n",
              "</style>\n",
              "<table border=\"1\" class=\"dataframe\">\n",
              "  <thead>\n",
              "    <tr style=\"text-align: right;\">\n",
              "      <th></th>\n",
              "      <th>state</th>\n",
              "      <th>date</th>\n",
              "      <th>positive</th>\n",
              "      <th>death</th>\n",
              "      <th>current_total</th>\n",
              "      <th>pct</th>\n",
              "    </tr>\n",
              "  </thead>\n",
              "  <tbody>\n",
              "  </tbody>\n",
              "</table>\n",
              "</div>"
            ],
            "text/plain": [
              "Empty DataFrame\n",
              "Columns: [state, date, positive, death, current_total, pct]\n",
              "Index: []"
            ]
          },
          "metadata": {
            "tags": []
          },
          "execution_count": 30
        }
      ]
    },
    {
      "cell_type": "code",
      "metadata": {
        "id": "ZmaKzaBnGQwj",
        "colab_type": "code",
        "outputId": "7a5a87e4-80dd-432a-f91f-c252016c9acf",
        "colab": {
          "base_uri": "https://localhost:8080/",
          "height": 360
        }
      },
      "source": [
        "state = 'CA'\n",
        "dfState = dfCovidtracking[dfCovidtracking.state==state].sort_values(by='date')\n",
        "vals = dfState.positive.values\n",
        "\n",
        "x=pd.Series([y-x for x,y in zip(vals,vals[1:])], \\\n",
        "          index = dfCovidtracking[dfCovidtracking.state==state]\\\n",
        "          .sort_values(by='date').date.values[1:] ) \\\n",
        "          .plot.bar()\n",
        "\n"
      ],
      "execution_count": 31,
      "outputs": [
        {
          "output_type": "display_data",
          "data": {
            "image/png": "[encoded data removed]",
            "text/plain": [
              "<Figure size 432x288 with 1 Axes>"
            ]
          },
          "metadata": {
            "tags": [],
            "needs_background": "light"
          }
        }
      ]
    },
    {
      "cell_type": "markdown",
      "metadata": {
        "id": "xFA0q8At-4sZ",
        "colab_type": "text"
      },
      "source": [
        "# Added State Data"
      ]
    },
    {
      "cell_type": "code",
      "metadata": {
        "id": "Nlx8_xZ27kvp",
        "colab_type": "code",
        "colab": {}
      },
      "source": [
        "data_url = \"https://www2.census.gov/programs-surveys/popest/datasets/2010-2019/national/totals/nst-est2019-alldata.csv\"\n"
      ],
      "execution_count": 0,
      "outputs": []
    },
    {
      "cell_type": "code",
      "metadata": {
        "id": "Lwz6IJdX_WFx",
        "colab_type": "code",
        "colab": {}
      },
      "source": [
        "dfUSPop = pd.read_csv(data_url)"
      ],
      "execution_count": 0,
      "outputs": []
    },
    {
      "cell_type": "code",
      "metadata": {
        "id": "aU3ZzHS-AkRS",
        "colab_type": "code",
        "outputId": "398c8383-9c5f-4c81-c0ee-45033f9ec9ae",
        "colab": {
          "base_uri": "https://localhost:8080/",
          "height": 181
        }
      },
      "source": [
        "us_pop = dfUSPop.loc[0].POPESTIMATE2019 #Estimate from Wikipedia\n",
        "res = dfCovidtracking.loc[dfCovidtracking.date==dfCovidtracking.date.max(), ['positive', 'negative', 'pending','death', 'total']].sum()\n",
        "print(res)\n",
        "print(f\"Current Infection Rate {res.positive/res.total*100:2f}%\")\n",
        "print(f\"Percentage of US affected: {(res.positive+res.death)/us_pop*100:2f}%\")\n",
        "print(f\"Percentage of US tested/affected: {(res.negative+res.positive+res.death)/us_pop*100:2f}%\")"
      ],
      "execution_count": 34,
      "outputs": [
        {
          "output_type": "stream",
          "text": [
            "positive     931698\n",
            "negative    4252937\n",
            "pending        5315\n",
            "death         47980\n",
            "total       5189950\n",
            "dtype: int64\n",
            "Current Infection Rate 17.951965%\n",
            "Percentage of US affected: 0.298464%\n",
            "Percentage of US tested/affected: 1.594145%\n"
          ],
          "name": "stdout"
        }
      ]
    },
    {
      "cell_type": "code",
      "metadata": {
        "id": "vihKU2ItzKWi",
        "colab_type": "code",
        "colab": {}
      },
      "source": [
        "!if [ ! -d \"loc\" ]; then \\\n",
        "git clone https://gist.github.com/rogerallen/1583593 --depth=1 --quiet loc; \\\n",
        "fi\n",
        "import sys\n",
        "sys.path.append(\"loc\")\n",
        "\n",
        "\n"
      ],
      "execution_count": 0,
      "outputs": []
    },
    {
      "cell_type": "code",
      "metadata": {
        "id": "66JPa3Sv0uH1",
        "colab_type": "code",
        "colab": {}
      },
      "source": [
        "import us_state_abbrev as us_abbr\n"
      ],
      "execution_count": 0,
      "outputs": []
    },
    {
      "cell_type": "code",
      "metadata": {
        "id": "JYnrS2eV2ohs",
        "colab_type": "code",
        "colab": {}
      },
      "source": [
        "dfStatePop = dfUSPop[dfUSPop.STATE != 0].copy()"
      ],
      "execution_count": 0,
      "outputs": []
    },
    {
      "cell_type": "code",
      "metadata": {
        "id": "43XHoUsx4Px7",
        "colab_type": "code",
        "colab": {}
      },
      "source": [
        "dfStatePop['ABBR']=dfStatePop.NAME.apply(lambda x: us_abbr.us_state_abbrev[x])"
      ],
      "execution_count": 0,
      "outputs": []
    },
    {
      "cell_type": "code",
      "metadata": {
        "id": "d08OerM_4vBo",
        "colab_type": "code",
        "colab": {}
      },
      "source": [
        "dfStatePop = dfStatePop.loc[:, ['ABBR', 'POPESTIMATE2019']]\n",
        "dfStatePop.set_index('ABBR', inplace=True)"
      ],
      "execution_count": 0,
      "outputs": []
    },
    {
      "cell_type": "code",
      "metadata": {
        "id": "4puN3Aea5qwp",
        "colab_type": "code",
        "colab": {}
      },
      "source": [
        "dfStateCovid = dfCovidtracking.loc[dfCovidtracking.date==dfCovidtracking.date.max()].set_index('state')"
      ],
      "execution_count": 0,
      "outputs": []
    },
    {
      "cell_type": "code",
      "metadata": {
        "id": "R2rumgN265Zr",
        "colab_type": "code",
        "colab": {}
      },
      "source": [
        "dfStateJoin = dfStateCovid.join(dfStatePop)"
      ],
      "execution_count": 0,
      "outputs": []
    },
    {
      "cell_type": "code",
      "metadata": {
        "id": "pgD43HXE7ayl",
        "colab_type": "code",
        "outputId": "736f2f9f-a5fe-4080-9849-a98c020cfa0c",
        "colab": {
          "base_uri": "https://localhost:8080/",
          "height": 1000
        }
      },
      "source": [
        "pd.DataFrame([(dfStateJoin.positive / dfStateJoin.POPESTIMATE2019)*100, \\\n",
        "              (dfStateJoin.totalTestResults/ dfStateJoin.POPESTIMATE2019)*100],\\\n",
        "             index=['state_pos_pop','state_test_pop'] ).T.sort_values(by=\"state_pos_pop\", ascending=False)[:51]"
      ],
      "execution_count": 42,
      "outputs": [
        {
          "output_type": "execute_result",
          "data": {
            "text/html": [
              "<div>\n",
              "<style scoped>\n",
              "    .dataframe tbody tr th:only-of-type {\n",
              "        vertical-align: middle;\n",
              "    }\n",
              "\n",
              "    .dataframe tbody tr th {\n",
              "        vertical-align: top;\n",
              "    }\n",
              "\n",
              "    .dataframe thead th {\n",
              "        text-align: right;\n",
              "    }\n",
              "</style>\n",
              "<table border=\"1\" class=\"dataframe\">\n",
              "  <thead>\n",
              "    <tr style=\"text-align: right;\">\n",
              "      <th></th>\n",
              "      <th>state_pos_pop</th>\n",
              "      <th>state_test_pop</th>\n",
              "    </tr>\n",
              "    <tr>\n",
              "      <th>state</th>\n",
              "      <th></th>\n",
              "      <th></th>\n",
              "    </tr>\n",
              "  </thead>\n",
              "  <tbody>\n",
              "    <tr>\n",
              "      <th>NY</th>\n",
              "      <td>1.450341</td>\n",
              "      <td>3.997047</td>\n",
              "    </tr>\n",
              "    <tr>\n",
              "      <th>NJ</th>\n",
              "      <td>1.188029</td>\n",
              "      <td>2.405781</td>\n",
              "    </tr>\n",
              "    <tr>\n",
              "      <th>MA</th>\n",
              "      <td>0.774000</td>\n",
              "      <td>3.291185</td>\n",
              "    </tr>\n",
              "    <tr>\n",
              "      <th>CT</th>\n",
              "      <td>0.689482</td>\n",
              "      <td>2.176599</td>\n",
              "    </tr>\n",
              "    <tr>\n",
              "      <th>RI</th>\n",
              "      <td>0.672953</td>\n",
              "      <td>4.803934</td>\n",
              "    </tr>\n",
              "    <tr>\n",
              "      <th>LA</th>\n",
              "      <td>0.570298</td>\n",
              "      <td>2.990066</td>\n",
              "    </tr>\n",
              "    <tr>\n",
              "      <th>DC</th>\n",
              "      <td>0.524124</td>\n",
              "      <td>2.451580</td>\n",
              "    </tr>\n",
              "    <tr>\n",
              "      <th>MI</th>\n",
              "      <td>0.372520</td>\n",
              "      <td>1.442336</td>\n",
              "    </tr>\n",
              "    <tr>\n",
              "      <th>DE</th>\n",
              "      <td>0.367235</td>\n",
              "      <td>1.817483</td>\n",
              "    </tr>\n",
              "    <tr>\n",
              "      <th>IL</th>\n",
              "      <td>0.329684</td>\n",
              "      <td>1.591066</td>\n",
              "    </tr>\n",
              "    <tr>\n",
              "      <th>PA</th>\n",
              "      <td>0.312834</td>\n",
              "      <td>1.507071</td>\n",
              "    </tr>\n",
              "    <tr>\n",
              "      <th>MD</th>\n",
              "      <td>0.293863</td>\n",
              "      <td>1.474160</td>\n",
              "    </tr>\n",
              "    <tr>\n",
              "      <th>SD</th>\n",
              "      <td>0.242692</td>\n",
              "      <td>1.762939</td>\n",
              "    </tr>\n",
              "    <tr>\n",
              "      <th>IN</th>\n",
              "      <td>0.213823</td>\n",
              "      <td>1.184958</td>\n",
              "    </tr>\n",
              "    <tr>\n",
              "      <th>GA</th>\n",
              "      <td>0.213752</td>\n",
              "      <td>1.120931</td>\n",
              "    </tr>\n",
              "    <tr>\n",
              "      <th>CO</th>\n",
              "      <td>0.212824</td>\n",
              "      <td>0.986137</td>\n",
              "    </tr>\n",
              "    <tr>\n",
              "      <th>MS</th>\n",
              "      <td>0.192127</td>\n",
              "      <td>1.980983</td>\n",
              "    </tr>\n",
              "    <tr>\n",
              "      <th>WA</th>\n",
              "      <td>0.170416</td>\n",
              "      <td>2.105401</td>\n",
              "    </tr>\n",
              "    <tr>\n",
              "      <th>IA</th>\n",
              "      <td>0.161391</td>\n",
              "      <td>1.088724</td>\n",
              "    </tr>\n",
              "    <tr>\n",
              "      <th>NV</th>\n",
              "      <td>0.147363</td>\n",
              "      <td>1.207991</td>\n",
              "    </tr>\n",
              "    <tr>\n",
              "      <th>FL</th>\n",
              "      <td>0.143586</td>\n",
              "      <td>1.550904</td>\n",
              "    </tr>\n",
              "    <tr>\n",
              "      <th>VA</th>\n",
              "      <td>0.139441</td>\n",
              "      <td>0.845619</td>\n",
              "    </tr>\n",
              "    <tr>\n",
              "      <th>VT</th>\n",
              "      <td>0.135099</td>\n",
              "      <td>2.352926</td>\n",
              "    </tr>\n",
              "    <tr>\n",
              "      <th>TN</th>\n",
              "      <td>0.134555</td>\n",
              "      <td>2.070616</td>\n",
              "    </tr>\n",
              "    <tr>\n",
              "      <th>OH</th>\n",
              "      <td>0.128179</td>\n",
              "      <td>0.952845</td>\n",
              "    </tr>\n",
              "    <tr>\n",
              "      <th>NH</th>\n",
              "      <td>0.126497</td>\n",
              "      <td>1.303733</td>\n",
              "    </tr>\n",
              "    <tr>\n",
              "      <th>AL</th>\n",
              "      <td>0.125164</td>\n",
              "      <td>1.455054</td>\n",
              "    </tr>\n",
              "    <tr>\n",
              "      <th>NE</th>\n",
              "      <td>0.125155</td>\n",
              "      <td>1.032512</td>\n",
              "    </tr>\n",
              "    <tr>\n",
              "      <th>UT</th>\n",
              "      <td>0.123146</td>\n",
              "      <td>2.813699</td>\n",
              "    </tr>\n",
              "    <tr>\n",
              "      <th>NM</th>\n",
              "      <td>0.120229</td>\n",
              "      <td>2.456567</td>\n",
              "    </tr>\n",
              "    <tr>\n",
              "      <th>MO</th>\n",
              "      <td>0.111219</td>\n",
              "      <td>1.095214</td>\n",
              "    </tr>\n",
              "    <tr>\n",
              "      <th>ND</th>\n",
              "      <td>0.105372</td>\n",
              "      <td>2.539163</td>\n",
              "    </tr>\n",
              "    <tr>\n",
              "      <th>KS</th>\n",
              "      <td>0.104898</td>\n",
              "      <td>0.864960</td>\n",
              "    </tr>\n",
              "    <tr>\n",
              "      <th>ID</th>\n",
              "      <td>0.104641</td>\n",
              "      <td>1.083397</td>\n",
              "    </tr>\n",
              "    <tr>\n",
              "      <th>CA</th>\n",
              "      <td>0.104112</td>\n",
              "      <td>1.280705</td>\n",
              "    </tr>\n",
              "    <tr>\n",
              "      <th>SC</th>\n",
              "      <td>0.102025</td>\n",
              "      <td>0.951966</td>\n",
              "    </tr>\n",
              "    <tr>\n",
              "      <th>WI</th>\n",
              "      <td>0.097674</td>\n",
              "      <td>1.079016</td>\n",
              "    </tr>\n",
              "    <tr>\n",
              "      <th>AR</th>\n",
              "      <td>0.093744</td>\n",
              "      <td>1.260950</td>\n",
              "    </tr>\n",
              "    <tr>\n",
              "      <th>AZ</th>\n",
              "      <td>0.086279</td>\n",
              "      <td>0.858778</td>\n",
              "    </tr>\n",
              "    <tr>\n",
              "      <th>KY</th>\n",
              "      <td>0.084585</td>\n",
              "      <td>1.006385</td>\n",
              "    </tr>\n",
              "    <tr>\n",
              "      <th>NC</th>\n",
              "      <td>0.082217</td>\n",
              "      <td>1.003663</td>\n",
              "    </tr>\n",
              "    <tr>\n",
              "      <th>TX</th>\n",
              "      <td>0.081988</td>\n",
              "      <td>0.906391</td>\n",
              "    </tr>\n",
              "    <tr>\n",
              "      <th>OK</th>\n",
              "      <td>0.080693</td>\n",
              "      <td>1.341531</td>\n",
              "    </tr>\n",
              "    <tr>\n",
              "      <th>ME</th>\n",
              "      <td>0.073649</td>\n",
              "      <td>1.322262</td>\n",
              "    </tr>\n",
              "    <tr>\n",
              "      <th>MN</th>\n",
              "      <td>0.061103</td>\n",
              "      <td>1.058562</td>\n",
              "    </tr>\n",
              "    <tr>\n",
              "      <th>WY</th>\n",
              "      <td>0.060301</td>\n",
              "      <td>1.407494</td>\n",
              "    </tr>\n",
              "    <tr>\n",
              "      <th>WV</th>\n",
              "      <td>0.056915</td>\n",
              "      <td>1.839470</td>\n",
              "    </tr>\n",
              "    <tr>\n",
              "      <th>OR</th>\n",
              "      <td>0.053417</td>\n",
              "      <td>1.123280</td>\n",
              "    </tr>\n",
              "    <tr>\n",
              "      <th>AK</th>\n",
              "      <td>0.046340</td>\n",
              "      <td>2.150517</td>\n",
              "    </tr>\n",
              "    <tr>\n",
              "      <th>HI</th>\n",
              "      <td>0.042447</td>\n",
              "      <td>1.980405</td>\n",
              "    </tr>\n",
              "    <tr>\n",
              "      <th>MT</th>\n",
              "      <td>0.041636</td>\n",
              "      <td>1.169279</td>\n",
              "    </tr>\n",
              "  </tbody>\n",
              "</table>\n",
              "</div>"
            ],
            "text/plain": [
              "       state_pos_pop  state_test_pop\n",
              "state                               \n",
              "NY          1.450341        3.997047\n",
              "NJ          1.188029        2.405781\n",
              "MA          0.774000        3.291185\n",
              "CT          0.689482        2.176599\n",
              "RI          0.672953        4.803934\n",
              "LA          0.570298        2.990066\n",
              "DC          0.524124        2.451580\n",
              "MI          0.372520        1.442336\n",
              "DE          0.367235        1.817483\n",
              "IL          0.329684        1.591066\n",
              "PA          0.312834        1.507071\n",
              "MD          0.293863        1.474160\n",
              "SD          0.242692        1.762939\n",
              "IN          0.213823        1.184958\n",
              "GA          0.213752        1.120931\n",
              "CO          0.212824        0.986137\n",
              "MS          0.192127        1.980983\n",
              "WA          0.170416        2.105401\n",
              "IA          0.161391        1.088724\n",
              "NV          0.147363        1.207991\n",
              "FL          0.143586        1.550904\n",
              "VA          0.139441        0.845619\n",
              "VT          0.135099        2.352926\n",
              "TN          0.134555        2.070616\n",
              "OH          0.128179        0.952845\n",
              "NH          0.126497        1.303733\n",
              "AL          0.125164        1.455054\n",
              "NE          0.125155        1.032512\n",
              "UT          0.123146        2.813699\n",
              "NM          0.120229        2.456567\n",
              "MO          0.111219        1.095214\n",
              "ND          0.105372        2.539163\n",
              "KS          0.104898        0.864960\n",
              "ID          0.104641        1.083397\n",
              "CA          0.104112        1.280705\n",
              "SC          0.102025        0.951966\n",
              "WI          0.097674        1.079016\n",
              "AR          0.093744        1.260950\n",
              "AZ          0.086279        0.858778\n",
              "KY          0.084585        1.006385\n",
              "NC          0.082217        1.003663\n",
              "TX          0.081988        0.906391\n",
              "OK          0.080693        1.341531\n",
              "ME          0.073649        1.322262\n",
              "MN          0.061103        1.058562\n",
              "WY          0.060301        1.407494\n",
              "WV          0.056915        1.839470\n",
              "OR          0.053417        1.123280\n",
              "AK          0.046340        2.150517\n",
              "HI          0.042447        1.980405\n",
              "MT          0.041636        1.169279"
            ]
          },
          "metadata": {
            "tags": []
          },
          "execution_count": 42
        }
      ]
    },
    {
      "cell_type": "code",
      "metadata": {
        "id": "-uy6plHZ84GH",
        "colab_type": "code",
        "outputId": "cd1436f3-318e-4dcf-f20b-a490f3915de0",
        "colab": {
          "base_uri": "https://localhost:8080/",
          "height": 35
        }
      },
      "source": [
        "#print(f\"Current Infection Rate {res.positive/res.total*100:2f}%\")\n",
        "\n",
        "print(f\"Current Testing Percent {gbUSA.sum().tail(1).totalTestResults[0]/dfUSPop[dfUSPop.REGION=='0'].POPESTIMATE2019[0]*100:2f}%\")"
      ],
      "execution_count": 43,
      "outputs": [
        {
          "output_type": "stream",
          "text": [
            "Current Testing Percent 1.579528%\n"
          ],
          "name": "stdout"
        }
      ]
    },
    {
      "cell_type": "code",
      "metadata": {
        "id": "Oe5ZLr99QRRc",
        "colab_type": "code",
        "outputId": "6547bf0d-e8a0-43d5-a7db-244d1b8c7cb7",
        "colab": {
          "base_uri": "https://localhost:8080/",
          "height": 72
        }
      },
      "source": [
        "dfJHUData.columns"
      ],
      "execution_count": 44,
      "outputs": [
        {
          "output_type": "execute_result",
          "data": {
            "text/plain": [
              "Index(['FIPS', 'city', 'state', 'country', 'last_update', 'lat', 'lon',\n",
              "       'confirmed', 'dead', 'recovered', 'active', 'key'],\n",
              "      dtype='object')"
            ]
          },
          "metadata": {
            "tags": []
          },
          "execution_count": 44
        }
      ]
    },
    {
      "cell_type": "code",
      "metadata": {
        "id": "R8BhxDaaZG7J",
        "colab_type": "code",
        "colab": {}
      },
      "source": [
        "dfOwid = pd.read_csv(\"https://raw.githubusercontent.com/owid/covid-19-data/master/public/data/owid-covid-data.csv\")"
      ],
      "execution_count": 0,
      "outputs": []
    },
    {
      "cell_type": "code",
      "metadata": {
        "id": "P34L2uyifz16",
        "colab_type": "code",
        "outputId": "7806deec-bcf3-4fba-bc72-465511c38cdf",
        "colab": {
          "base_uri": "https://localhost:8080/",
          "height": 435
        }
      },
      "source": [
        "dfOwid.info()\n"
      ],
      "execution_count": 46,
      "outputs": [
        {
          "output_type": "stream",
          "text": [
            "<class 'pandas.core.frame.DataFrame'>\n",
            "RangeIndex: 13261 entries, 0 to 13260\n",
            "Data columns (total 16 columns):\n",
            " #   Column                    Non-Null Count  Dtype  \n",
            "---  ------                    --------------  -----  \n",
            " 0   iso_code                  13080 non-null  object \n",
            " 1   location                  13261 non-null  object \n",
            " 2   date                      13261 non-null  object \n",
            " 3   total_cases               13261 non-null  int64  \n",
            " 4   new_cases                 13261 non-null  int64  \n",
            " 5   total_deaths              13261 non-null  int64  \n",
            " 6   new_deaths                13261 non-null  int64  \n",
            " 7   total_cases_per_million   12985 non-null  float64\n",
            " 8   new_cases_per_million     12985 non-null  float64\n",
            " 9   total_deaths_per_million  12985 non-null  float64\n",
            " 10  new_deaths_per_million    12985 non-null  float64\n",
            " 11  total_tests               3144 non-null   float64\n",
            " 12  new_tests                 2804 non-null   float64\n",
            " 13  total_tests_per_thousand  3144 non-null   float64\n",
            " 14  new_tests_per_thousand    2807 non-null   float64\n",
            " 15  tests_units               3144 non-null   object \n",
            "dtypes: float64(8), int64(4), object(4)\n",
            "memory usage: 1.6+ MB\n"
          ],
          "name": "stdout"
        }
      ]
    },
    {
      "cell_type": "code",
      "metadata": {
        "id": "KgJXmpC1g-Wz",
        "colab_type": "code",
        "colab": {}
      },
      "source": [
        "dfOwidTests = dfOwid.dropna(subset=['total_tests']).copy()"
      ],
      "execution_count": 0,
      "outputs": []
    },
    {
      "cell_type": "code",
      "metadata": {
        "id": "SAciuLfhhwFr",
        "colab_type": "code",
        "outputId": "10b2fa64-5f37-4c85-9ce8-2413590c39bb",
        "colab": {
          "base_uri": "https://localhost:8080/",
          "height": 35
        }
      },
      "source": [
        "dfOwidTests.date.max()"
      ],
      "execution_count": 50,
      "outputs": [
        {
          "output_type": "execute_result",
          "data": {
            "text/plain": [
              "'2020-04-25'"
            ]
          },
          "metadata": {
            "tags": []
          },
          "execution_count": 50
        }
      ]
    },
    {
      "cell_type": "code",
      "metadata": {
        "id": "Qngm15gRiTJY",
        "colab_type": "code",
        "colab": {}
      },
      "source": [
        "dfOwidLatest = dfOwidTests.sort_values(by='date').groupby('iso_code').last()"
      ],
      "execution_count": 0,
      "outputs": []
    },
    {
      "cell_type": "code",
      "metadata": {
        "id": "kmMUQTWUioLl",
        "colab_type": "code",
        "outputId": "dd78840e-ac87-498d-a4c1-630fc9a3d786",
        "colab": {
          "base_uri": "https://localhost:8080/",
          "height": 254
        }
      },
      "source": [
        "dfOwidLatest.total_tests.sort_values(ascending=False)"
      ],
      "execution_count": 53,
      "outputs": [
        {
          "output_type": "execute_result",
          "data": {
            "text/plain": [
              "iso_code\n",
              "USA    4883802.0\n",
              "RUS    2721500.0\n",
              "DEU    2072669.0\n",
              "ITA    1707743.0\n",
              "ESP     930230.0\n",
              "         ...    \n",
              "CRI       8748.0\n",
              "PRY       7307.0\n",
              "SEN       7076.0\n",
              "MMR       5775.0\n",
              "BOL       5297.0\n",
              "Name: total_tests, Length: 78, dtype: float64"
            ]
          },
          "metadata": {
            "tags": []
          },
          "execution_count": 53
        }
      ]
    },
    {
      "cell_type": "code",
      "metadata": {
        "id": "fJMhnvEtjjf8",
        "colab_type": "code",
        "outputId": "b4071a59-1c05-433c-c477-dad041f43d7f",
        "colab": {
          "base_uri": "https://localhost:8080/",
          "height": 72
        }
      },
      "source": [
        "isUSA = dfOwidLatest.index.isin(['USA'])\n",
        "NonUSTests = dfOwidLatest[~isUSA].total_tests.sum()\n",
        "USTests = dfOwidLatest[isUSA].total_tests.sum()\n",
        "\n",
        "print(f\"Total testing done outside of USA: {NonUSTests:.0f}\")\n",
        "print(f\"Total tests done in USA : {USTests:.0f}\")\n",
        "print(f\"How many more times has the world tested more than the US: {NonUSTests/USTests:.1f}\")"
      ],
      "execution_count": 54,
      "outputs": [
        {
          "output_type": "stream",
          "text": [
            "Total testing done outside of USA: 17854563\n",
            "Total tests done in USA : 4883802\n",
            "How many more times has the world tested more than the US: 3.7\n"
          ],
          "name": "stdout"
        }
      ]
    },
    {
      "cell_type": "code",
      "metadata": {
        "id": "PHEIbDtQnQ65",
        "colab_type": "code",
        "outputId": "bee209e0-2db2-4255-9bed-d4489cd595a3",
        "colab": {
          "base_uri": "https://localhost:8080/",
          "height": 35
        }
      },
      "source": [
        "dfOwid.iso_code.nunique()"
      ],
      "execution_count": 55,
      "outputs": [
        {
          "output_type": "execute_result",
          "data": {
            "text/plain": [
              "206"
            ]
          },
          "metadata": {
            "tags": []
          },
          "execution_count": 55
        }
      ]
    },
    {
      "cell_type": "code",
      "metadata": {
        "id": "Hjjf3Lmaokbv",
        "colab_type": "code",
        "outputId": "a93018e5-0334-4083-99a5-ceaa46ea20da",
        "colab": {
          "base_uri": "https://localhost:8080/",
          "height": 305
        }
      },
      "source": [
        "dfOwid.head()"
      ],
      "execution_count": 56,
      "outputs": [
        {
          "output_type": "execute_result",
          "data": {
            "text/html": [
              "<div>\n",
              "<style scoped>\n",
              "    .dataframe tbody tr th:only-of-type {\n",
              "        vertical-align: middle;\n",
              "    }\n",
              "\n",
              "    .dataframe tbody tr th {\n",
              "        vertical-align: top;\n",
              "    }\n",
              "\n",
              "    .dataframe thead th {\n",
              "        text-align: right;\n",
              "    }\n",
              "</style>\n",
              "<table border=\"1\" class=\"dataframe\">\n",
              "  <thead>\n",
              "    <tr style=\"text-align: right;\">\n",
              "      <th></th>\n",
              "      <th>iso_code</th>\n",
              "      <th>location</th>\n",
              "      <th>date</th>\n",
              "      <th>total_cases</th>\n",
              "      <th>new_cases</th>\n",
              "      <th>total_deaths</th>\n",
              "      <th>new_deaths</th>\n",
              "      <th>total_cases_per_million</th>\n",
              "      <th>new_cases_per_million</th>\n",
              "      <th>total_deaths_per_million</th>\n",
              "      <th>new_deaths_per_million</th>\n",
              "      <th>total_tests</th>\n",
              "      <th>new_tests</th>\n",
              "      <th>total_tests_per_thousand</th>\n",
              "      <th>new_tests_per_thousand</th>\n",
              "      <th>tests_units</th>\n",
              "    </tr>\n",
              "  </thead>\n",
              "  <tbody>\n",
              "    <tr>\n",
              "      <th>0</th>\n",
              "      <td>ABW</td>\n",
              "      <td>Aruba</td>\n",
              "      <td>2020-03-13</td>\n",
              "      <td>2</td>\n",
              "      <td>2</td>\n",
              "      <td>0</td>\n",
              "      <td>0</td>\n",
              "      <td>18.733</td>\n",
              "      <td>18.733</td>\n",
              "      <td>0.0</td>\n",
              "      <td>0.0</td>\n",
              "      <td>NaN</td>\n",
              "      <td>NaN</td>\n",
              "      <td>NaN</td>\n",
              "      <td>NaN</td>\n",
              "      <td>NaN</td>\n",
              "    </tr>\n",
              "    <tr>\n",
              "      <th>1</th>\n",
              "      <td>ABW</td>\n",
              "      <td>Aruba</td>\n",
              "      <td>2020-03-20</td>\n",
              "      <td>4</td>\n",
              "      <td>2</td>\n",
              "      <td>0</td>\n",
              "      <td>0</td>\n",
              "      <td>37.465</td>\n",
              "      <td>18.733</td>\n",
              "      <td>0.0</td>\n",
              "      <td>0.0</td>\n",
              "      <td>NaN</td>\n",
              "      <td>NaN</td>\n",
              "      <td>NaN</td>\n",
              "      <td>NaN</td>\n",
              "      <td>NaN</td>\n",
              "    </tr>\n",
              "    <tr>\n",
              "      <th>2</th>\n",
              "      <td>ABW</td>\n",
              "      <td>Aruba</td>\n",
              "      <td>2020-03-24</td>\n",
              "      <td>12</td>\n",
              "      <td>8</td>\n",
              "      <td>0</td>\n",
              "      <td>0</td>\n",
              "      <td>112.395</td>\n",
              "      <td>74.930</td>\n",
              "      <td>0.0</td>\n",
              "      <td>0.0</td>\n",
              "      <td>NaN</td>\n",
              "      <td>NaN</td>\n",
              "      <td>NaN</td>\n",
              "      <td>NaN</td>\n",
              "      <td>NaN</td>\n",
              "    </tr>\n",
              "    <tr>\n",
              "      <th>3</th>\n",
              "      <td>ABW</td>\n",
              "      <td>Aruba</td>\n",
              "      <td>2020-03-25</td>\n",
              "      <td>17</td>\n",
              "      <td>5</td>\n",
              "      <td>0</td>\n",
              "      <td>0</td>\n",
              "      <td>159.227</td>\n",
              "      <td>46.831</td>\n",
              "      <td>0.0</td>\n",
              "      <td>0.0</td>\n",
              "      <td>NaN</td>\n",
              "      <td>NaN</td>\n",
              "      <td>NaN</td>\n",
              "      <td>NaN</td>\n",
              "      <td>NaN</td>\n",
              "    </tr>\n",
              "    <tr>\n",
              "      <th>4</th>\n",
              "      <td>ABW</td>\n",
              "      <td>Aruba</td>\n",
              "      <td>2020-03-26</td>\n",
              "      <td>19</td>\n",
              "      <td>2</td>\n",
              "      <td>0</td>\n",
              "      <td>0</td>\n",
              "      <td>177.959</td>\n",
              "      <td>18.733</td>\n",
              "      <td>0.0</td>\n",
              "      <td>0.0</td>\n",
              "      <td>NaN</td>\n",
              "      <td>NaN</td>\n",
              "      <td>NaN</td>\n",
              "      <td>NaN</td>\n",
              "      <td>NaN</td>\n",
              "    </tr>\n",
              "  </tbody>\n",
              "</table>\n",
              "</div>"
            ],
            "text/plain": [
              "  iso_code location  ... new_tests_per_thousand  tests_units\n",
              "0      ABW    Aruba  ...                    NaN          NaN\n",
              "1      ABW    Aruba  ...                    NaN          NaN\n",
              "2      ABW    Aruba  ...                    NaN          NaN\n",
              "3      ABW    Aruba  ...                    NaN          NaN\n",
              "4      ABW    Aruba  ...                    NaN          NaN\n",
              "\n",
              "[5 rows x 16 columns]"
            ]
          },
          "metadata": {
            "tags": []
          },
          "execution_count": 56
        }
      ]
    },
    {
      "cell_type": "code",
      "metadata": {
        "id": "kFfq__ymooV8",
        "colab_type": "code",
        "colab": {}
      },
      "source": [
        ""
      ],
      "execution_count": 0,
      "outputs": []
    }
  ]
}