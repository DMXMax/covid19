{
  "nbformat": 4,
  "nbformat_minor": 0,
  "metadata": {
    "colab": {
      "name": "coviddata",
      "provenance": [],
      "toc_visible": true,
      "authorship_tag": "ABX9TyN1qbMzeeSuM356KRgHqB+Y",
      "include_colab_link": true
    },
    "kernelspec": {
      "name": "python3",
      "display_name": "Python 3"
    }
  },
  "cells": [
    {
      "cell_type": "markdown",
      "metadata": {
        "id": "view-in-github",
        "colab_type": "text"
      },
      "source": [
        "<a href=\"https://colab.research.google.com/github/DMXMax/covid19/blob/gc_20200315/coviddata.ipynb\" target=\"_parent\"><img src=\"https://colab.research.google.com/assets/colab-badge.svg\" alt=\"Open In Colab\"/></a>"
      ]
    },
    {
      "cell_type": "code",
      "metadata": {
        "id": "jCzokJEPxFhv",
        "colab_type": "code",
        "colab": {}
      },
      "source": [
        "import numpy as np\n",
        "import pandas as pd\n",
        "import matplotlib.pyplot as plt\n",
        "import requests,json\n",
        "import datetime\n"
      ],
      "execution_count": 0,
      "outputs": []
    },
    {
      "cell_type": "code",
      "metadata": {
        "id": "zNKPT5Z8BXPT",
        "colab_type": "code",
        "colab": {}
      },
      "source": [
        "covidtrackingurl = \"https://covidtracking.com/api/states/daily\"\n",
        "response = requests.get(covidtrackingurl)\n",
        "dfCovidtracking = pd.DataFrame(response.json())\n",
        "dfCovidtracking.fillna(0, inplace=True)\n",
        "dfCovidtracking.negative = dfCovidtracking.negative.astype('int64')\n",
        "dfCovidtracking.positive = dfCovidtracking.positive.astype('int64')\n",
        "dfCovidtracking.pending = dfCovidtracking.pending.astype('int64')\n",
        "dfCovidtracking.total = dfCovidtracking.total.astype('int64')\n",
        "dfCovidtracking.death = dfCovidtracking.death.astype('int64')\n",
        "\n",
        "dfCovidtracking.date = dfCovidtracking.date.transform(lambda x: pd.to_datetime(datetime.date(x//10000, x%10000//100, x%100\n",
        "                                          )))\n"
      ],
      "execution_count": 0,
      "outputs": []
    },
    {
      "cell_type": "code",
      "metadata": {
        "id": "8_Il5iuohC8_",
        "colab_type": "code",
        "colab": {}
      },
      "source": [
        "dfWHO = pd.read_csv(\"https://raw.githubusercontent.com/DMXMax/covid19/master/who/who_data.tsv\",\n",
        "                     sep='\\t', index_col='Date')"
      ],
      "execution_count": 0,
      "outputs": []
    },
    {
      "cell_type": "code",
      "metadata": {
        "id": "IHNp61EvdwQG",
        "colab_type": "code",
        "colab": {}
      },
      "source": [
        "jhurl = \"https://raw.githubusercontent.com/CSSEGISandData/COVID-19/master/\"+\\\n",
        "\"csse_covid_19_data/csse_covid_19_daily_reports/04-03-2020.csv\"\n",
        "\n",
        "#https://raw.githubusercontent.com/CSSEGISandData/COVID-19/master/\n",
        "#csse_covid_19_data/csse_covid_19_daily_reports/04-01-2020.csv\n",
        "dfJHUData = pd.read_csv(jhurl, header=0,\n",
        "                        names=['FIPS', 'city','state', 'country', 'last_update',\n",
        "                               'lat', 'lon','confirmed', 'dead', 'recovered','active', 'key'])"
      ],
      "execution_count": 0,
      "outputs": []
    },
    {
      "cell_type": "code",
      "metadata": {
        "id": "hrPlWJJCVtBR",
        "colab_type": "code",
        "colab": {}
      },
      "source": [
        "dfWHO = dfWHO.rename(columns={\"Confirmed\": \"confirmed\", \"Deaths\": \"who_deaths\"})\n",
        "dfWHO.index.names=['date']\n"
      ],
      "execution_count": 0,
      "outputs": []
    },
    {
      "cell_type": "code",
      "metadata": {
        "id": "HWHSGPq_yF50",
        "colab_type": "code",
        "outputId": "cb382a9b-b6f3-4c85-a656-0696bcdeccb0",
        "colab": {
          "base_uri": "https://localhost:8080/",
          "height": 163
        }
      },
      "source": [
        "us_pop = 329968629  #Estimate from Wikipedia\n",
        "res = dfCovidtracking.loc[dfCovidtracking.date==dfCovidtracking.date.max(), ['positive', 'negative', 'pending','death', 'total']].sum()\n",
        "print(res)\n",
        "print(f\"Current Infection Rate {res.positive/res.total*100:2f}%\")\n",
        "print(f\"Percentage of US affecte: {(res.positive+res.death)/us_pop*100:2f}%\")"
      ],
      "execution_count": 44,
      "outputs": [
        {
          "output_type": "stream",
          "text": [
            "positive     271915\n",
            "negative    1135356\n",
            "pending       61980\n",
            "death          6962\n",
            "total       1469251\n",
            "dtype: int64\n",
            "Current Infection Rate 18.507049%\n",
            "Percentage of US affecte: 0.084516%\n"
          ],
          "name": "stdout"
        }
      ]
    },
    {
      "cell_type": "code",
      "metadata": {
        "colab_type": "code",
        "outputId": "f7d73d1e-37ca-4cff-cd34-0b021d4dbeb6",
        "id": "idyqfNddlLPv",
        "colab": {
          "base_uri": "https://localhost:8080/",
          "height": 348
        }
      },
      "source": [
        "dfCovidtracking.loc[dfCovidtracking.date==dfCovidtracking.date.max(),\\\n",
        "  ['state', 'positive', 'negative']].sort_values(by='positive', ascending=False).head(10)"
      ],
      "execution_count": 45,
      "outputs": [
        {
          "output_type": "execute_result",
          "data": {
            "text/html": [
              "<div>\n",
              "<style scoped>\n",
              "    .dataframe tbody tr th:only-of-type {\n",
              "        vertical-align: middle;\n",
              "    }\n",
              "\n",
              "    .dataframe tbody tr th {\n",
              "        vertical-align: top;\n",
              "    }\n",
              "\n",
              "    .dataframe thead th {\n",
              "        text-align: right;\n",
              "    }\n",
              "</style>\n",
              "<table border=\"1\" class=\"dataframe\">\n",
              "  <thead>\n",
              "    <tr style=\"text-align: right;\">\n",
              "      <th></th>\n",
              "      <th>state</th>\n",
              "      <th>positive</th>\n",
              "      <th>negative</th>\n",
              "    </tr>\n",
              "  </thead>\n",
              "  <tbody>\n",
              "    <tr>\n",
              "      <th>37</th>\n",
              "      <td>NY</td>\n",
              "      <td>102863</td>\n",
              "      <td>168139</td>\n",
              "    </tr>\n",
              "    <tr>\n",
              "      <th>34</th>\n",
              "      <td>NJ</td>\n",
              "      <td>29895</td>\n",
              "      <td>37608</td>\n",
              "    </tr>\n",
              "    <tr>\n",
              "      <th>24</th>\n",
              "      <td>MI</td>\n",
              "      <td>12744</td>\n",
              "      <td>11893</td>\n",
              "    </tr>\n",
              "    <tr>\n",
              "      <th>5</th>\n",
              "      <td>CA</td>\n",
              "      <td>10701</td>\n",
              "      <td>24599</td>\n",
              "    </tr>\n",
              "    <tr>\n",
              "      <th>21</th>\n",
              "      <td>MA</td>\n",
              "      <td>10402</td>\n",
              "      <td>52560</td>\n",
              "    </tr>\n",
              "    <tr>\n",
              "      <th>20</th>\n",
              "      <td>LA</td>\n",
              "      <td>10297</td>\n",
              "      <td>43348</td>\n",
              "    </tr>\n",
              "    <tr>\n",
              "      <th>10</th>\n",
              "      <td>FL</td>\n",
              "      <td>9585</td>\n",
              "      <td>82137</td>\n",
              "    </tr>\n",
              "    <tr>\n",
              "      <th>16</th>\n",
              "      <td>IL</td>\n",
              "      <td>8904</td>\n",
              "      <td>39144</td>\n",
              "    </tr>\n",
              "    <tr>\n",
              "      <th>41</th>\n",
              "      <td>PA</td>\n",
              "      <td>8420</td>\n",
              "      <td>53695</td>\n",
              "    </tr>\n",
              "    <tr>\n",
              "      <th>52</th>\n",
              "      <td>WA</td>\n",
              "      <td>6585</td>\n",
              "      <td>72833</td>\n",
              "    </tr>\n",
              "  </tbody>\n",
              "</table>\n",
              "</div>"
            ],
            "text/plain": [
              "   state  positive  negative\n",
              "37    NY    102863    168139\n",
              "34    NJ     29895     37608\n",
              "24    MI     12744     11893\n",
              "5     CA     10701     24599\n",
              "21    MA     10402     52560\n",
              "20    LA     10297     43348\n",
              "10    FL      9585     82137\n",
              "16    IL      8904     39144\n",
              "41    PA      8420     53695\n",
              "52    WA      6585     72833"
            ]
          },
          "metadata": {
            "tags": []
          },
          "execution_count": 45
        }
      ]
    },
    {
      "cell_type": "code",
      "metadata": {
        "id": "rFOHyOwb4bcm",
        "colab_type": "code",
        "colab": {}
      },
      "source": [
        "gbUSA = dfCovidtracking.groupby(['date'])\n",
        "gbCA = dfCovidtracking[dfCovidtracking.state=='CA'].groupby(['date'])\n",
        "\n",
        "dfUSAPos = gbUSA.positive.sum().reset_index().copy()\n",
        "dfCAPos = gbCA.positive.sum().reset_index().copy()\n",
        "\n",
        "#This will calculate the percentage each day is of the total. In a flattening, this will be more even\n",
        "# In a high growth situation, you'll higher percentages at the tail. \n",
        "dfUSAPos['PCT']= dfUSAPos.positive/dfUSAPos.max().positive\n",
        "dfCAPos['PCT']=dfCAPos.positive/dfCAPos.max().positive"
      ],
      "execution_count": 0,
      "outputs": []
    },
    {
      "cell_type": "code",
      "metadata": {
        "colab_type": "code",
        "outputId": "912a5c38-b14a-4b22-b487-2be773ee8520",
        "id": "BHKhtPRozVFF",
        "colab": {
          "base_uri": "https://localhost:8080/",
          "height": 258
        }
      },
      "source": [
        "dfUSAPos[-7:]"
      ],
      "execution_count": 47,
      "outputs": [
        {
          "output_type": "execute_result",
          "data": {
            "text/html": [
              "<div>\n",
              "<style scoped>\n",
              "    .dataframe tbody tr th:only-of-type {\n",
              "        vertical-align: middle;\n",
              "    }\n",
              "\n",
              "    .dataframe tbody tr th {\n",
              "        vertical-align: top;\n",
              "    }\n",
              "\n",
              "    .dataframe thead th {\n",
              "        text-align: right;\n",
              "    }\n",
              "</style>\n",
              "<table border=\"1\" class=\"dataframe\">\n",
              "  <thead>\n",
              "    <tr style=\"text-align: right;\">\n",
              "      <th></th>\n",
              "      <th>date</th>\n",
              "      <th>positive</th>\n",
              "      <th>PCT</th>\n",
              "    </tr>\n",
              "  </thead>\n",
              "  <tbody>\n",
              "    <tr>\n",
              "      <th>24</th>\n",
              "      <td>2020-03-28</td>\n",
              "      <td>118234</td>\n",
              "      <td>0.434820</td>\n",
              "    </tr>\n",
              "    <tr>\n",
              "      <th>25</th>\n",
              "      <td>2020-03-29</td>\n",
              "      <td>139061</td>\n",
              "      <td>0.511413</td>\n",
              "    </tr>\n",
              "    <tr>\n",
              "      <th>26</th>\n",
              "      <td>2020-03-30</td>\n",
              "      <td>160530</td>\n",
              "      <td>0.590368</td>\n",
              "    </tr>\n",
              "    <tr>\n",
              "      <th>27</th>\n",
              "      <td>2020-03-31</td>\n",
              "      <td>184683</td>\n",
              "      <td>0.679194</td>\n",
              "    </tr>\n",
              "    <tr>\n",
              "      <th>28</th>\n",
              "      <td>2020-04-01</td>\n",
              "      <td>210770</td>\n",
              "      <td>0.775132</td>\n",
              "    </tr>\n",
              "    <tr>\n",
              "      <th>29</th>\n",
              "      <td>2020-04-02</td>\n",
              "      <td>239009</td>\n",
              "      <td>0.878984</td>\n",
              "    </tr>\n",
              "    <tr>\n",
              "      <th>30</th>\n",
              "      <td>2020-04-03</td>\n",
              "      <td>271915</td>\n",
              "      <td>1.000000</td>\n",
              "    </tr>\n",
              "  </tbody>\n",
              "</table>\n",
              "</div>"
            ],
            "text/plain": [
              "         date  positive       PCT\n",
              "24 2020-03-28    118234  0.434820\n",
              "25 2020-03-29    139061  0.511413\n",
              "26 2020-03-30    160530  0.590368\n",
              "27 2020-03-31    184683  0.679194\n",
              "28 2020-04-01    210770  0.775132\n",
              "29 2020-04-02    239009  0.878984\n",
              "30 2020-04-03    271915  1.000000"
            ]
          },
          "metadata": {
            "tags": []
          },
          "execution_count": 47
        }
      ]
    },
    {
      "cell_type": "code",
      "metadata": {
        "colab_type": "code",
        "outputId": "448cd4ad-a47a-4a18-bbcf-5d3c1e8270e1",
        "id": "EI4hKgZ5zUd8",
        "colab": {
          "base_uri": "https://localhost:8080/",
          "height": 258
        }
      },
      "source": [
        "dfCAPos[-7:]"
      ],
      "execution_count": 48,
      "outputs": [
        {
          "output_type": "execute_result",
          "data": {
            "text/html": [
              "<div>\n",
              "<style scoped>\n",
              "    .dataframe tbody tr th:only-of-type {\n",
              "        vertical-align: middle;\n",
              "    }\n",
              "\n",
              "    .dataframe tbody tr th {\n",
              "        vertical-align: top;\n",
              "    }\n",
              "\n",
              "    .dataframe thead th {\n",
              "        text-align: right;\n",
              "    }\n",
              "</style>\n",
              "<table border=\"1\" class=\"dataframe\">\n",
              "  <thead>\n",
              "    <tr style=\"text-align: right;\">\n",
              "      <th></th>\n",
              "      <th>date</th>\n",
              "      <th>positive</th>\n",
              "      <th>PCT</th>\n",
              "    </tr>\n",
              "  </thead>\n",
              "  <tbody>\n",
              "    <tr>\n",
              "      <th>24</th>\n",
              "      <td>2020-03-28</td>\n",
              "      <td>4643</td>\n",
              "      <td>0.433885</td>\n",
              "    </tr>\n",
              "    <tr>\n",
              "      <th>25</th>\n",
              "      <td>2020-03-29</td>\n",
              "      <td>5708</td>\n",
              "      <td>0.533408</td>\n",
              "    </tr>\n",
              "    <tr>\n",
              "      <th>26</th>\n",
              "      <td>2020-03-30</td>\n",
              "      <td>6447</td>\n",
              "      <td>0.602467</td>\n",
              "    </tr>\n",
              "    <tr>\n",
              "      <th>27</th>\n",
              "      <td>2020-03-31</td>\n",
              "      <td>7482</td>\n",
              "      <td>0.699187</td>\n",
              "    </tr>\n",
              "    <tr>\n",
              "      <th>28</th>\n",
              "      <td>2020-04-01</td>\n",
              "      <td>8155</td>\n",
              "      <td>0.762078</td>\n",
              "    </tr>\n",
              "    <tr>\n",
              "      <th>29</th>\n",
              "      <td>2020-04-02</td>\n",
              "      <td>9191</td>\n",
              "      <td>0.858892</td>\n",
              "    </tr>\n",
              "    <tr>\n",
              "      <th>30</th>\n",
              "      <td>2020-04-03</td>\n",
              "      <td>10701</td>\n",
              "      <td>1.000000</td>\n",
              "    </tr>\n",
              "  </tbody>\n",
              "</table>\n",
              "</div>"
            ],
            "text/plain": [
              "         date  positive       PCT\n",
              "24 2020-03-28      4643  0.433885\n",
              "25 2020-03-29      5708  0.533408\n",
              "26 2020-03-30      6447  0.602467\n",
              "27 2020-03-31      7482  0.699187\n",
              "28 2020-04-01      8155  0.762078\n",
              "29 2020-04-02      9191  0.858892\n",
              "30 2020-04-03     10701  1.000000"
            ]
          },
          "metadata": {
            "tags": []
          },
          "execution_count": 48
        }
      ]
    },
    {
      "cell_type": "code",
      "metadata": {
        "id": "BTvuZKJN0RoI",
        "colab_type": "code",
        "outputId": "798faead-329c-4ba4-82ab-5c16a6254dcc",
        "colab": {
          "base_uri": "https://localhost:8080/",
          "height": 335
        }
      },
      "source": [
        "gbUSA.sum()[-5:]"
      ],
      "execution_count": 49,
      "outputs": [
        {
          "output_type": "execute_result",
          "data": {
            "text/html": [
              "<div>\n",
              "<style scoped>\n",
              "    .dataframe tbody tr th:only-of-type {\n",
              "        vertical-align: middle;\n",
              "    }\n",
              "\n",
              "    .dataframe tbody tr th {\n",
              "        vertical-align: top;\n",
              "    }\n",
              "\n",
              "    .dataframe thead th {\n",
              "        text-align: right;\n",
              "    }\n",
              "</style>\n",
              "<table border=\"1\" class=\"dataframe\">\n",
              "  <thead>\n",
              "    <tr style=\"text-align: right;\">\n",
              "      <th></th>\n",
              "      <th>positive</th>\n",
              "      <th>negative</th>\n",
              "      <th>pending</th>\n",
              "      <th>hospitalizedCurrently</th>\n",
              "      <th>hospitalizedCumulative</th>\n",
              "      <th>inIcuCurrently</th>\n",
              "      <th>inIcuCumulative</th>\n",
              "      <th>onVentilatorCurrently</th>\n",
              "      <th>onVentilatorCumulative</th>\n",
              "      <th>recovered</th>\n",
              "      <th>death</th>\n",
              "      <th>hospitalized</th>\n",
              "      <th>total</th>\n",
              "      <th>totalTestResults</th>\n",
              "      <th>posNeg</th>\n",
              "      <th>deathIncrease</th>\n",
              "      <th>hospitalizedIncrease</th>\n",
              "      <th>negativeIncrease</th>\n",
              "      <th>positiveIncrease</th>\n",
              "      <th>totalTestResultsIncrease</th>\n",
              "    </tr>\n",
              "    <tr>\n",
              "      <th>date</th>\n",
              "      <th></th>\n",
              "      <th></th>\n",
              "      <th></th>\n",
              "      <th></th>\n",
              "      <th></th>\n",
              "      <th></th>\n",
              "      <th></th>\n",
              "      <th></th>\n",
              "      <th></th>\n",
              "      <th></th>\n",
              "      <th></th>\n",
              "      <th></th>\n",
              "      <th></th>\n",
              "      <th></th>\n",
              "      <th></th>\n",
              "      <th></th>\n",
              "      <th></th>\n",
              "      <th></th>\n",
              "      <th></th>\n",
              "      <th></th>\n",
              "    </tr>\n",
              "  </thead>\n",
              "  <tbody>\n",
              "    <tr>\n",
              "      <th>2020-03-30</th>\n",
              "      <td>160530</td>\n",
              "      <td>784324</td>\n",
              "      <td>65369</td>\n",
              "      <td>12147.0</td>\n",
              "      <td>22303.0</td>\n",
              "      <td>2982.0</td>\n",
              "      <td>3177.0</td>\n",
              "      <td>259.0</td>\n",
              "      <td>644.0</td>\n",
              "      <td>4560.0</td>\n",
              "      <td>2939</td>\n",
              "      <td>22303.0</td>\n",
              "      <td>1010223</td>\n",
              "      <td>944854</td>\n",
              "      <td>944854</td>\n",
              "      <td>511.0</td>\n",
              "      <td>2902.0</td>\n",
              "      <td>92034.0</td>\n",
              "      <td>21469.0</td>\n",
              "      <td>113503.0</td>\n",
              "    </tr>\n",
              "    <tr>\n",
              "      <th>2020-03-31</th>\n",
              "      <td>184683</td>\n",
              "      <td>864201</td>\n",
              "      <td>59518</td>\n",
              "      <td>14236.0</td>\n",
              "      <td>26660.0</td>\n",
              "      <td>3402.0</td>\n",
              "      <td>3644.0</td>\n",
              "      <td>69.0</td>\n",
              "      <td>507.0</td>\n",
              "      <td>5666.0</td>\n",
              "      <td>3746</td>\n",
              "      <td>26660.0</td>\n",
              "      <td>1108402</td>\n",
              "      <td>1048884</td>\n",
              "      <td>1048884</td>\n",
              "      <td>807.0</td>\n",
              "      <td>4357.0</td>\n",
              "      <td>79877.0</td>\n",
              "      <td>24153.0</td>\n",
              "      <td>104030.0</td>\n",
              "    </tr>\n",
              "    <tr>\n",
              "      <th>2020-04-01</th>\n",
              "      <td>210770</td>\n",
              "      <td>939190</td>\n",
              "      <td>59669</td>\n",
              "      <td>16223.0</td>\n",
              "      <td>31142.0</td>\n",
              "      <td>3837.0</td>\n",
              "      <td>4270.0</td>\n",
              "      <td>71.0</td>\n",
              "      <td>676.0</td>\n",
              "      <td>7084.0</td>\n",
              "      <td>4700</td>\n",
              "      <td>31142.0</td>\n",
              "      <td>1209629</td>\n",
              "      <td>1149960</td>\n",
              "      <td>1149960</td>\n",
              "      <td>954.0</td>\n",
              "      <td>4482.0</td>\n",
              "      <td>74989.0</td>\n",
              "      <td>26087.0</td>\n",
              "      <td>101076.0</td>\n",
              "    </tr>\n",
              "    <tr>\n",
              "      <th>2020-04-02</th>\n",
              "      <td>239009</td>\n",
              "      <td>1028649</td>\n",
              "      <td>62101</td>\n",
              "      <td>17157.0</td>\n",
              "      <td>32649.0</td>\n",
              "      <td>4264.0</td>\n",
              "      <td>541.0</td>\n",
              "      <td>67.0</td>\n",
              "      <td>661.0</td>\n",
              "      <td>8586.0</td>\n",
              "      <td>5784</td>\n",
              "      <td>32649.0</td>\n",
              "      <td>1329759</td>\n",
              "      <td>1267658</td>\n",
              "      <td>1267658</td>\n",
              "      <td>1084.0</td>\n",
              "      <td>4335.0</td>\n",
              "      <td>89459.0</td>\n",
              "      <td>28239.0</td>\n",
              "      <td>117698.0</td>\n",
              "    </tr>\n",
              "    <tr>\n",
              "      <th>2020-04-03</th>\n",
              "      <td>271915</td>\n",
              "      <td>1135356</td>\n",
              "      <td>61980</td>\n",
              "      <td>19926.0</td>\n",
              "      <td>35991.0</td>\n",
              "      <td>4686.0</td>\n",
              "      <td>593.0</td>\n",
              "      <td>70.0</td>\n",
              "      <td>728.0</td>\n",
              "      <td>10422.0</td>\n",
              "      <td>6962</td>\n",
              "      <td>35991.0</td>\n",
              "      <td>1469251</td>\n",
              "      <td>1407271</td>\n",
              "      <td>1407271</td>\n",
              "      <td>1178.0</td>\n",
              "      <td>3509.0</td>\n",
              "      <td>106707.0</td>\n",
              "      <td>32906.0</td>\n",
              "      <td>139613.0</td>\n",
              "    </tr>\n",
              "  </tbody>\n",
              "</table>\n",
              "</div>"
            ],
            "text/plain": [
              "            positive  negative  ...  positiveIncrease  totalTestResultsIncrease\n",
              "date                            ...                                            \n",
              "2020-03-30    160530    784324  ...           21469.0                  113503.0\n",
              "2020-03-31    184683    864201  ...           24153.0                  104030.0\n",
              "2020-04-01    210770    939190  ...           26087.0                  101076.0\n",
              "2020-04-02    239009   1028649  ...           28239.0                  117698.0\n",
              "2020-04-03    271915   1135356  ...           32906.0                  139613.0\n",
              "\n",
              "[5 rows x 20 columns]"
            ]
          },
          "metadata": {
            "tags": []
          },
          "execution_count": 49
        }
      ]
    },
    {
      "cell_type": "code",
      "metadata": {
        "id": "bjpo-qlGoA7A",
        "colab_type": "code",
        "outputId": "1a69ff2f-04be-46f1-a446-cc92fce727a2",
        "colab": {
          "base_uri": "https://localhost:8080/",
          "height": 335
        }
      },
      "source": [
        "gbCA.sum()[-5:]"
      ],
      "execution_count": 50,
      "outputs": [
        {
          "output_type": "execute_result",
          "data": {
            "text/html": [
              "<div>\n",
              "<style scoped>\n",
              "    .dataframe tbody tr th:only-of-type {\n",
              "        vertical-align: middle;\n",
              "    }\n",
              "\n",
              "    .dataframe tbody tr th {\n",
              "        vertical-align: top;\n",
              "    }\n",
              "\n",
              "    .dataframe thead th {\n",
              "        text-align: right;\n",
              "    }\n",
              "</style>\n",
              "<table border=\"1\" class=\"dataframe\">\n",
              "  <thead>\n",
              "    <tr style=\"text-align: right;\">\n",
              "      <th></th>\n",
              "      <th>positive</th>\n",
              "      <th>negative</th>\n",
              "      <th>pending</th>\n",
              "      <th>hospitalizedCurrently</th>\n",
              "      <th>hospitalizedCumulative</th>\n",
              "      <th>inIcuCurrently</th>\n",
              "      <th>inIcuCumulative</th>\n",
              "      <th>onVentilatorCurrently</th>\n",
              "      <th>onVentilatorCumulative</th>\n",
              "      <th>recovered</th>\n",
              "      <th>death</th>\n",
              "      <th>hospitalized</th>\n",
              "      <th>total</th>\n",
              "      <th>totalTestResults</th>\n",
              "      <th>posNeg</th>\n",
              "      <th>deathIncrease</th>\n",
              "      <th>hospitalizedIncrease</th>\n",
              "      <th>negativeIncrease</th>\n",
              "      <th>positiveIncrease</th>\n",
              "      <th>totalTestResultsIncrease</th>\n",
              "    </tr>\n",
              "    <tr>\n",
              "      <th>date</th>\n",
              "      <th></th>\n",
              "      <th></th>\n",
              "      <th></th>\n",
              "      <th></th>\n",
              "      <th></th>\n",
              "      <th></th>\n",
              "      <th></th>\n",
              "      <th></th>\n",
              "      <th></th>\n",
              "      <th></th>\n",
              "      <th></th>\n",
              "      <th></th>\n",
              "      <th></th>\n",
              "      <th></th>\n",
              "      <th></th>\n",
              "      <th></th>\n",
              "      <th></th>\n",
              "      <th></th>\n",
              "      <th></th>\n",
              "      <th></th>\n",
              "    </tr>\n",
              "  </thead>\n",
              "  <tbody>\n",
              "    <tr>\n",
              "      <th>2020-03-30</th>\n",
              "      <td>6447</td>\n",
              "      <td>20549</td>\n",
              "      <td>64400</td>\n",
              "      <td>1432.0</td>\n",
              "      <td>1432.0</td>\n",
              "      <td>597.0</td>\n",
              "      <td>597.0</td>\n",
              "      <td>0.0</td>\n",
              "      <td>0.0</td>\n",
              "      <td>0.0</td>\n",
              "      <td>133</td>\n",
              "      <td>1432.0</td>\n",
              "      <td>91396</td>\n",
              "      <td>26996</td>\n",
              "      <td>26996</td>\n",
              "      <td>10.0</td>\n",
              "      <td>398.0</td>\n",
              "      <td>0.0</td>\n",
              "      <td>739.0</td>\n",
              "      <td>739.0</td>\n",
              "    </tr>\n",
              "    <tr>\n",
              "      <th>2020-03-31</th>\n",
              "      <td>7482</td>\n",
              "      <td>21772</td>\n",
              "      <td>57400</td>\n",
              "      <td>1617.0</td>\n",
              "      <td>1617.0</td>\n",
              "      <td>657.0</td>\n",
              "      <td>657.0</td>\n",
              "      <td>0.0</td>\n",
              "      <td>0.0</td>\n",
              "      <td>0.0</td>\n",
              "      <td>153</td>\n",
              "      <td>1617.0</td>\n",
              "      <td>86654</td>\n",
              "      <td>29254</td>\n",
              "      <td>29254</td>\n",
              "      <td>20.0</td>\n",
              "      <td>185.0</td>\n",
              "      <td>1223.0</td>\n",
              "      <td>1035.0</td>\n",
              "      <td>2258.0</td>\n",
              "    </tr>\n",
              "    <tr>\n",
              "      <th>2020-04-01</th>\n",
              "      <td>8155</td>\n",
              "      <td>21772</td>\n",
              "      <td>57400</td>\n",
              "      <td>1855.0</td>\n",
              "      <td>1855.0</td>\n",
              "      <td>774.0</td>\n",
              "      <td>774.0</td>\n",
              "      <td>0.0</td>\n",
              "      <td>0.0</td>\n",
              "      <td>0.0</td>\n",
              "      <td>171</td>\n",
              "      <td>1855.0</td>\n",
              "      <td>87327</td>\n",
              "      <td>29927</td>\n",
              "      <td>29927</td>\n",
              "      <td>18.0</td>\n",
              "      <td>238.0</td>\n",
              "      <td>0.0</td>\n",
              "      <td>673.0</td>\n",
              "      <td>673.0</td>\n",
              "    </tr>\n",
              "    <tr>\n",
              "      <th>2020-04-02</th>\n",
              "      <td>9191</td>\n",
              "      <td>23809</td>\n",
              "      <td>59500</td>\n",
              "      <td>1922.0</td>\n",
              "      <td>0.0</td>\n",
              "      <td>816.0</td>\n",
              "      <td>0.0</td>\n",
              "      <td>0.0</td>\n",
              "      <td>0.0</td>\n",
              "      <td>0.0</td>\n",
              "      <td>203</td>\n",
              "      <td>0.0</td>\n",
              "      <td>92500</td>\n",
              "      <td>33000</td>\n",
              "      <td>33000</td>\n",
              "      <td>32.0</td>\n",
              "      <td>0.0</td>\n",
              "      <td>2037.0</td>\n",
              "      <td>1036.0</td>\n",
              "      <td>3073.0</td>\n",
              "    </tr>\n",
              "    <tr>\n",
              "      <th>2020-04-03</th>\n",
              "      <td>10701</td>\n",
              "      <td>24599</td>\n",
              "      <td>59500</td>\n",
              "      <td>2188.0</td>\n",
              "      <td>0.0</td>\n",
              "      <td>901.0</td>\n",
              "      <td>0.0</td>\n",
              "      <td>0.0</td>\n",
              "      <td>0.0</td>\n",
              "      <td>0.0</td>\n",
              "      <td>237</td>\n",
              "      <td>0.0</td>\n",
              "      <td>94800</td>\n",
              "      <td>35300</td>\n",
              "      <td>35300</td>\n",
              "      <td>34.0</td>\n",
              "      <td>0.0</td>\n",
              "      <td>790.0</td>\n",
              "      <td>1510.0</td>\n",
              "      <td>2300.0</td>\n",
              "    </tr>\n",
              "  </tbody>\n",
              "</table>\n",
              "</div>"
            ],
            "text/plain": [
              "            positive  negative  ...  positiveIncrease  totalTestResultsIncrease\n",
              "date                            ...                                            \n",
              "2020-03-30      6447     20549  ...             739.0                     739.0\n",
              "2020-03-31      7482     21772  ...            1035.0                    2258.0\n",
              "2020-04-01      8155     21772  ...             673.0                     673.0\n",
              "2020-04-02      9191     23809  ...            1036.0                    3073.0\n",
              "2020-04-03     10701     24599  ...            1510.0                    2300.0\n",
              "\n",
              "[5 rows x 20 columns]"
            ]
          },
          "metadata": {
            "tags": []
          },
          "execution_count": 50
        }
      ]
    },
    {
      "cell_type": "code",
      "metadata": {
        "id": "916a0sCVdNRQ",
        "colab_type": "code",
        "outputId": "046a5e9d-0da7-4db3-c6dc-3f3ef3cae5da",
        "colab": {
          "base_uri": "https://localhost:8080/",
          "height": 325
        }
      },
      "source": [
        "x=gbUSA.sum().loc[:, ['positive', 'negative','death','total']].plot.line()"
      ],
      "execution_count": 51,
      "outputs": [
        {
          "output_type": "display_data",
          "data": {
            "image/png": "[encoded data removed]",
            "text/plain": [
              "<Figure size 432x288 with 1 Axes>"
            ]
          },
          "metadata": {
            "tags": []
          }
        }
      ]
    },
    {
      "cell_type": "code",
      "metadata": {
        "id": "WewkySHXaLc4",
        "colab_type": "code",
        "outputId": "bd2d2f09-f8b4-4ff6-d261-c65e801cbb4b",
        "colab": {
          "base_uri": "https://localhost:8080/",
          "height": 498
        }
      },
      "source": [
        "dfWHO[-14:]"
      ],
      "execution_count": 52,
      "outputs": [
        {
          "output_type": "execute_result",
          "data": {
            "text/html": [
              "<div>\n",
              "<style scoped>\n",
              "    .dataframe tbody tr th:only-of-type {\n",
              "        vertical-align: middle;\n",
              "    }\n",
              "\n",
              "    .dataframe tbody tr th {\n",
              "        vertical-align: top;\n",
              "    }\n",
              "\n",
              "    .dataframe thead th {\n",
              "        text-align: right;\n",
              "    }\n",
              "</style>\n",
              "<table border=\"1\" class=\"dataframe\">\n",
              "  <thead>\n",
              "    <tr style=\"text-align: right;\">\n",
              "      <th></th>\n",
              "      <th>confirmed</th>\n",
              "      <th>who_deaths</th>\n",
              "    </tr>\n",
              "    <tr>\n",
              "      <th>date</th>\n",
              "      <th></th>\n",
              "      <th></th>\n",
              "    </tr>\n",
              "  </thead>\n",
              "  <tbody>\n",
              "    <tr>\n",
              "      <th>2020-03-21</th>\n",
              "      <td>15219</td>\n",
              "      <td>201</td>\n",
              "    </tr>\n",
              "    <tr>\n",
              "      <th>2020-03-22</th>\n",
              "      <td>15219</td>\n",
              "      <td>201</td>\n",
              "    </tr>\n",
              "    <tr>\n",
              "      <th>2020-03-23</th>\n",
              "      <td>31573</td>\n",
              "      <td>402</td>\n",
              "    </tr>\n",
              "    <tr>\n",
              "      <th>2020-03-24</th>\n",
              "      <td>42164</td>\n",
              "      <td>471</td>\n",
              "    </tr>\n",
              "    <tr>\n",
              "      <th>2020-03-25</th>\n",
              "      <td>51914</td>\n",
              "      <td>673</td>\n",
              "    </tr>\n",
              "    <tr>\n",
              "      <th>2020-03-26</th>\n",
              "      <td>63570</td>\n",
              "      <td>884</td>\n",
              "    </tr>\n",
              "    <tr>\n",
              "      <th>2020-03-27</th>\n",
              "      <td>68334</td>\n",
              "      <td>991</td>\n",
              "    </tr>\n",
              "    <tr>\n",
              "      <th>2020-03-28</th>\n",
              "      <td>85228</td>\n",
              "      <td>1243</td>\n",
              "    </tr>\n",
              "    <tr>\n",
              "      <th>2020-03-29</th>\n",
              "      <td>103321</td>\n",
              "      <td>1668</td>\n",
              "    </tr>\n",
              "    <tr>\n",
              "      <th>2020-03-30</th>\n",
              "      <td>122653</td>\n",
              "      <td>2112</td>\n",
              "    </tr>\n",
              "    <tr>\n",
              "      <th>2020-03-31</th>\n",
              "      <td>140640</td>\n",
              "      <td>2398</td>\n",
              "    </tr>\n",
              "    <tr>\n",
              "      <th>2020-04-01</th>\n",
              "      <td>163199</td>\n",
              "      <td>2850</td>\n",
              "    </tr>\n",
              "    <tr>\n",
              "      <th>2020-04-02</th>\n",
              "      <td>187302</td>\n",
              "      <td>3846</td>\n",
              "    </tr>\n",
              "    <tr>\n",
              "      <th>2020-04-03</th>\n",
              "      <td>213600</td>\n",
              "      <td>4793</td>\n",
              "    </tr>\n",
              "  </tbody>\n",
              "</table>\n",
              "</div>"
            ],
            "text/plain": [
              "            confirmed  who_deaths\n",
              "date                             \n",
              "2020-03-21      15219         201\n",
              "2020-03-22      15219         201\n",
              "2020-03-23      31573         402\n",
              "2020-03-24      42164         471\n",
              "2020-03-25      51914         673\n",
              "2020-03-26      63570         884\n",
              "2020-03-27      68334         991\n",
              "2020-03-28      85228        1243\n",
              "2020-03-29     103321        1668\n",
              "2020-03-30     122653        2112\n",
              "2020-03-31     140640        2398\n",
              "2020-04-01     163199        2850\n",
              "2020-04-02     187302        3846\n",
              "2020-04-03     213600        4793"
            ]
          },
          "metadata": {
            "tags": []
          },
          "execution_count": 52
        }
      ]
    },
    {
      "cell_type": "code",
      "metadata": {
        "id": "Ftv2uSph2y7_",
        "colab_type": "code",
        "outputId": "af943afb-34ae-41b8-c890-bfe0fd4d28d8",
        "colab": {
          "base_uri": "https://localhost:8080/",
          "height": 332
        }
      },
      "source": [
        "dfResults = gbUSA.sum().join(dfWHO, how='left', rsuffix='_who' )\n",
        "dfResults.loc[:, ['positive', 'confirmed']].plot.line()"
      ],
      "execution_count": 53,
      "outputs": [
        {
          "output_type": "execute_result",
          "data": {
            "text/plain": [
              "<matplotlib.axes._subplots.AxesSubplot at 0x7fe4a6c6ef28>"
            ]
          },
          "metadata": {
            "tags": []
          },
          "execution_count": 53
        },
        {
          "output_type": "display_data",
          "data": {
            "image/png": "[encoded data removed]",
            "text/plain": [
              "<Figure size 432x288 with 1 Axes>"
            ]
          },
          "metadata": {
            "tags": []
          }
        }
      ]
    },
    {
      "cell_type": "code",
      "metadata": {
        "id": "DTXXmezEHYPV",
        "colab_type": "code",
        "colab": {}
      },
      "source": [
        ""
      ],
      "execution_count": 0,
      "outputs": []
    },
    {
      "cell_type": "code",
      "metadata": {
        "colab_type": "code",
        "outputId": "19549380-1186-4a6d-c3d9-60aff252ac0d",
        "id": "55lq16z8w_Ec",
        "colab": {
          "base_uri": "https://localhost:8080/",
          "height": 429
        }
      },
      "source": [
        "gbCA.sum()[-7:]"
      ],
      "execution_count": 54,
      "outputs": [
        {
          "output_type": "execute_result",
          "data": {
            "text/html": [
              "<div>\n",
              "<style scoped>\n",
              "    .dataframe tbody tr th:only-of-type {\n",
              "        vertical-align: middle;\n",
              "    }\n",
              "\n",
              "    .dataframe tbody tr th {\n",
              "        vertical-align: top;\n",
              "    }\n",
              "\n",
              "    .dataframe thead th {\n",
              "        text-align: right;\n",
              "    }\n",
              "</style>\n",
              "<table border=\"1\" class=\"dataframe\">\n",
              "  <thead>\n",
              "    <tr style=\"text-align: right;\">\n",
              "      <th></th>\n",
              "      <th>positive</th>\n",
              "      <th>negative</th>\n",
              "      <th>pending</th>\n",
              "      <th>hospitalizedCurrently</th>\n",
              "      <th>hospitalizedCumulative</th>\n",
              "      <th>inIcuCurrently</th>\n",
              "      <th>inIcuCumulative</th>\n",
              "      <th>onVentilatorCurrently</th>\n",
              "      <th>onVentilatorCumulative</th>\n",
              "      <th>recovered</th>\n",
              "      <th>death</th>\n",
              "      <th>hospitalized</th>\n",
              "      <th>total</th>\n",
              "      <th>totalTestResults</th>\n",
              "      <th>posNeg</th>\n",
              "      <th>deathIncrease</th>\n",
              "      <th>hospitalizedIncrease</th>\n",
              "      <th>negativeIncrease</th>\n",
              "      <th>positiveIncrease</th>\n",
              "      <th>totalTestResultsIncrease</th>\n",
              "    </tr>\n",
              "    <tr>\n",
              "      <th>date</th>\n",
              "      <th></th>\n",
              "      <th></th>\n",
              "      <th></th>\n",
              "      <th></th>\n",
              "      <th></th>\n",
              "      <th></th>\n",
              "      <th></th>\n",
              "      <th></th>\n",
              "      <th></th>\n",
              "      <th></th>\n",
              "      <th></th>\n",
              "      <th></th>\n",
              "      <th></th>\n",
              "      <th></th>\n",
              "      <th></th>\n",
              "      <th></th>\n",
              "      <th></th>\n",
              "      <th></th>\n",
              "      <th></th>\n",
              "      <th></th>\n",
              "    </tr>\n",
              "  </thead>\n",
              "  <tbody>\n",
              "    <tr>\n",
              "      <th>2020-03-28</th>\n",
              "      <td>4643</td>\n",
              "      <td>20549</td>\n",
              "      <td>64400</td>\n",
              "      <td>1034.0</td>\n",
              "      <td>1034.0</td>\n",
              "      <td>410.0</td>\n",
              "      <td>410.0</td>\n",
              "      <td>0.0</td>\n",
              "      <td>0.0</td>\n",
              "      <td>0.0</td>\n",
              "      <td>101</td>\n",
              "      <td>1034.0</td>\n",
              "      <td>89592</td>\n",
              "      <td>25192</td>\n",
              "      <td>25192</td>\n",
              "      <td>23.0</td>\n",
              "      <td>288.0</td>\n",
              "      <td>3169.0</td>\n",
              "      <td>764.0</td>\n",
              "      <td>3933.0</td>\n",
              "    </tr>\n",
              "    <tr>\n",
              "      <th>2020-03-29</th>\n",
              "      <td>5708</td>\n",
              "      <td>20549</td>\n",
              "      <td>64400</td>\n",
              "      <td>1034.0</td>\n",
              "      <td>1034.0</td>\n",
              "      <td>410.0</td>\n",
              "      <td>410.0</td>\n",
              "      <td>0.0</td>\n",
              "      <td>0.0</td>\n",
              "      <td>0.0</td>\n",
              "      <td>123</td>\n",
              "      <td>1034.0</td>\n",
              "      <td>90657</td>\n",
              "      <td>26257</td>\n",
              "      <td>26257</td>\n",
              "      <td>22.0</td>\n",
              "      <td>0.0</td>\n",
              "      <td>0.0</td>\n",
              "      <td>1065.0</td>\n",
              "      <td>1065.0</td>\n",
              "    </tr>\n",
              "    <tr>\n",
              "      <th>2020-03-30</th>\n",
              "      <td>6447</td>\n",
              "      <td>20549</td>\n",
              "      <td>64400</td>\n",
              "      <td>1432.0</td>\n",
              "      <td>1432.0</td>\n",
              "      <td>597.0</td>\n",
              "      <td>597.0</td>\n",
              "      <td>0.0</td>\n",
              "      <td>0.0</td>\n",
              "      <td>0.0</td>\n",
              "      <td>133</td>\n",
              "      <td>1432.0</td>\n",
              "      <td>91396</td>\n",
              "      <td>26996</td>\n",
              "      <td>26996</td>\n",
              "      <td>10.0</td>\n",
              "      <td>398.0</td>\n",
              "      <td>0.0</td>\n",
              "      <td>739.0</td>\n",
              "      <td>739.0</td>\n",
              "    </tr>\n",
              "    <tr>\n",
              "      <th>2020-03-31</th>\n",
              "      <td>7482</td>\n",
              "      <td>21772</td>\n",
              "      <td>57400</td>\n",
              "      <td>1617.0</td>\n",
              "      <td>1617.0</td>\n",
              "      <td>657.0</td>\n",
              "      <td>657.0</td>\n",
              "      <td>0.0</td>\n",
              "      <td>0.0</td>\n",
              "      <td>0.0</td>\n",
              "      <td>153</td>\n",
              "      <td>1617.0</td>\n",
              "      <td>86654</td>\n",
              "      <td>29254</td>\n",
              "      <td>29254</td>\n",
              "      <td>20.0</td>\n",
              "      <td>185.0</td>\n",
              "      <td>1223.0</td>\n",
              "      <td>1035.0</td>\n",
              "      <td>2258.0</td>\n",
              "    </tr>\n",
              "    <tr>\n",
              "      <th>2020-04-01</th>\n",
              "      <td>8155</td>\n",
              "      <td>21772</td>\n",
              "      <td>57400</td>\n",
              "      <td>1855.0</td>\n",
              "      <td>1855.0</td>\n",
              "      <td>774.0</td>\n",
              "      <td>774.0</td>\n",
              "      <td>0.0</td>\n",
              "      <td>0.0</td>\n",
              "      <td>0.0</td>\n",
              "      <td>171</td>\n",
              "      <td>1855.0</td>\n",
              "      <td>87327</td>\n",
              "      <td>29927</td>\n",
              "      <td>29927</td>\n",
              "      <td>18.0</td>\n",
              "      <td>238.0</td>\n",
              "      <td>0.0</td>\n",
              "      <td>673.0</td>\n",
              "      <td>673.0</td>\n",
              "    </tr>\n",
              "    <tr>\n",
              "      <th>2020-04-02</th>\n",
              "      <td>9191</td>\n",
              "      <td>23809</td>\n",
              "      <td>59500</td>\n",
              "      <td>1922.0</td>\n",
              "      <td>0.0</td>\n",
              "      <td>816.0</td>\n",
              "      <td>0.0</td>\n",
              "      <td>0.0</td>\n",
              "      <td>0.0</td>\n",
              "      <td>0.0</td>\n",
              "      <td>203</td>\n",
              "      <td>0.0</td>\n",
              "      <td>92500</td>\n",
              "      <td>33000</td>\n",
              "      <td>33000</td>\n",
              "      <td>32.0</td>\n",
              "      <td>0.0</td>\n",
              "      <td>2037.0</td>\n",
              "      <td>1036.0</td>\n",
              "      <td>3073.0</td>\n",
              "    </tr>\n",
              "    <tr>\n",
              "      <th>2020-04-03</th>\n",
              "      <td>10701</td>\n",
              "      <td>24599</td>\n",
              "      <td>59500</td>\n",
              "      <td>2188.0</td>\n",
              "      <td>0.0</td>\n",
              "      <td>901.0</td>\n",
              "      <td>0.0</td>\n",
              "      <td>0.0</td>\n",
              "      <td>0.0</td>\n",
              "      <td>0.0</td>\n",
              "      <td>237</td>\n",
              "      <td>0.0</td>\n",
              "      <td>94800</td>\n",
              "      <td>35300</td>\n",
              "      <td>35300</td>\n",
              "      <td>34.0</td>\n",
              "      <td>0.0</td>\n",
              "      <td>790.0</td>\n",
              "      <td>1510.0</td>\n",
              "      <td>2300.0</td>\n",
              "    </tr>\n",
              "  </tbody>\n",
              "</table>\n",
              "</div>"
            ],
            "text/plain": [
              "            positive  negative  ...  positiveIncrease  totalTestResultsIncrease\n",
              "date                            ...                                            \n",
              "2020-03-28      4643     20549  ...             764.0                    3933.0\n",
              "2020-03-29      5708     20549  ...            1065.0                    1065.0\n",
              "2020-03-30      6447     20549  ...             739.0                     739.0\n",
              "2020-03-31      7482     21772  ...            1035.0                    2258.0\n",
              "2020-04-01      8155     21772  ...             673.0                     673.0\n",
              "2020-04-02      9191     23809  ...            1036.0                    3073.0\n",
              "2020-04-03     10701     24599  ...            1510.0                    2300.0\n",
              "\n",
              "[7 rows x 20 columns]"
            ]
          },
          "metadata": {
            "tags": []
          },
          "execution_count": 54
        }
      ]
    },
    {
      "cell_type": "code",
      "metadata": {
        "id": "3WBkdfv2eLEc",
        "colab_type": "code",
        "outputId": "b3cd2cd4-d65a-424d-8282-4683e56b3637",
        "colab": {
          "base_uri": "https://localhost:8080/",
          "height": 72
        }
      },
      "source": [
        "dfJHUData[dfJHUData.country=='US'][['confirmed', 'dead']].sum()"
      ],
      "execution_count": 55,
      "outputs": [
        {
          "output_type": "execute_result",
          "data": {
            "text/plain": [
              "confirmed    275586\n",
              "dead           7087\n",
              "dtype: int64"
            ]
          },
          "metadata": {
            "tags": []
          },
          "execution_count": 55
        }
      ]
    },
    {
      "cell_type": "code",
      "metadata": {
        "id": "NUQ35Inse05H",
        "colab_type": "code",
        "outputId": "8b2e53eb-306c-4dec-9d85-06cf89de6716",
        "colab": {
          "base_uri": "https://localhost:8080/",
          "height": 72
        }
      },
      "source": [
        "dfJHUData[(dfJHUData.country=='US')&(dfJHUData.state=='California')][['confirmed', 'dead']].sum()"
      ],
      "execution_count": 56,
      "outputs": [
        {
          "output_type": "execute_result",
          "data": {
            "text/plain": [
              "confirmed    12004\n",
              "dead           265\n",
              "dtype: int64"
            ]
          },
          "metadata": {
            "tags": []
          },
          "execution_count": 56
        }
      ]
    },
    {
      "cell_type": "code",
      "metadata": {
        "id": "H0JVVTFGfMOW",
        "colab_type": "code",
        "colab": {}
      },
      "source": [
        "dfJHUUS = dfJHUData[dfJHUData.country=='US']\n",
        "gbJHUByState= dfJHUUS.groupby(by='state')\n",
        "gbJHUByCountry = dfJHUData.groupby(by='country')"
      ],
      "execution_count": 0,
      "outputs": []
    },
    {
      "cell_type": "code",
      "metadata": {
        "id": "W8qWd0AYmg58",
        "colab_type": "code",
        "outputId": "c8afa6d7-d3d6-4c7e-fadb-04fe626d77e2",
        "colab": {
          "base_uri": "https://localhost:8080/",
          "height": 235
        }
      },
      "source": [
        "gbJHUByCountry.confirmed.sum().sort_values(ascending=False).head(10)"
      ],
      "execution_count": 58,
      "outputs": [
        {
          "output_type": "execute_result",
          "data": {
            "text/plain": [
              "country\n",
              "US                275586\n",
              "Italy             119827\n",
              "Spain             119199\n",
              "Germany            91159\n",
              "China              82511\n",
              "France             65202\n",
              "Iran               53183\n",
              "United Kingdom     38689\n",
              "Turkey             20921\n",
              "Switzerland        19606\n",
              "Name: confirmed, dtype: int64"
            ]
          },
          "metadata": {
            "tags": []
          },
          "execution_count": 58
        }
      ]
    },
    {
      "cell_type": "code",
      "metadata": {
        "id": "YYKFYQpImnHI",
        "colab_type": "code",
        "outputId": "c6096c44-2407-4ed4-93f4-8db6558efa7a",
        "colab": {
          "base_uri": "https://localhost:8080/",
          "height": 417
        }
      },
      "source": [
        "gbJHUByCountry.confirmed.sum().sort_values(ascending=False).head(20)"
      ],
      "execution_count": 59,
      "outputs": [
        {
          "output_type": "execute_result",
          "data": {
            "text/plain": [
              "country\n",
              "US                275586\n",
              "Italy             119827\n",
              "Spain             119199\n",
              "Germany            91159\n",
              "China              82511\n",
              "France             65202\n",
              "Iran               53183\n",
              "United Kingdom     38689\n",
              "Turkey             20921\n",
              "Switzerland        19606\n",
              "Belgium            16770\n",
              "Netherlands        15821\n",
              "Canada             12437\n",
              "Austria            11524\n",
              "Korea, South       10062\n",
              "Portugal            9886\n",
              "Brazil              9056\n",
              "Israel              7428\n",
              "Sweden              6131\n",
              "Norway              5370\n",
              "Name: confirmed, dtype: int64"
            ]
          },
          "metadata": {
            "tags": []
          },
          "execution_count": 59
        }
      ]
    },
    {
      "cell_type": "code",
      "metadata": {
        "id": "9crIlvPH4oSU",
        "colab_type": "code",
        "colab": {}
      },
      "source": [
        "dfData = dfCovidtracking.groupby('date')"
      ],
      "execution_count": 0,
      "outputs": []
    },
    {
      "cell_type": "code",
      "metadata": {
        "id": "SjlCtiOt2b__",
        "colab_type": "code",
        "colab": {}
      },
      "source": [
        "dfStateTotal = dfCovidtracking[['state', 'positive']].groupby(by='state').max() \\\n",
        ".rename(columns={'positive':'current_total'})\n"
      ],
      "execution_count": 0,
      "outputs": []
    },
    {
      "cell_type": "code",
      "metadata": {
        "id": "iPsfvvHC2_j1",
        "colab_type": "code",
        "colab": {}
      },
      "source": [
        "dfState = dfCovidtracking[['date','state','positive']].set_index('state') \\\n",
        "  .join(dfStateTotal)"
      ],
      "execution_count": 0,
      "outputs": []
    },
    {
      "cell_type": "code",
      "metadata": {
        "id": "AkxH55Mx5yE6",
        "colab_type": "code",
        "colab": {}
      },
      "source": [
        "dfState['pct']=dfState.positive/dfState.current_total"
      ],
      "execution_count": 0,
      "outputs": []
    },
    {
      "cell_type": "code",
      "metadata": {
        "id": "PKQ2rgz76XZR",
        "colab_type": "code",
        "outputId": "3479d8aa-0c61-4fe9-db4d-6f9052811fa6",
        "colab": {
          "base_uri": "https://localhost:8080/",
          "height": 288
        }
      },
      "source": [
        "dfState.loc['FL'].head(7)"
      ],
      "execution_count": 64,
      "outputs": [
        {
          "output_type": "execute_result",
          "data": {
            "text/html": [
              "<div>\n",
              "<style scoped>\n",
              "    .dataframe tbody tr th:only-of-type {\n",
              "        vertical-align: middle;\n",
              "    }\n",
              "\n",
              "    .dataframe tbody tr th {\n",
              "        vertical-align: top;\n",
              "    }\n",
              "\n",
              "    .dataframe thead th {\n",
              "        text-align: right;\n",
              "    }\n",
              "</style>\n",
              "<table border=\"1\" class=\"dataframe\">\n",
              "  <thead>\n",
              "    <tr style=\"text-align: right;\">\n",
              "      <th></th>\n",
              "      <th>date</th>\n",
              "      <th>positive</th>\n",
              "      <th>current_total</th>\n",
              "      <th>pct</th>\n",
              "    </tr>\n",
              "    <tr>\n",
              "      <th>state</th>\n",
              "      <th></th>\n",
              "      <th></th>\n",
              "      <th></th>\n",
              "      <th></th>\n",
              "    </tr>\n",
              "  </thead>\n",
              "  <tbody>\n",
              "    <tr>\n",
              "      <th>FL</th>\n",
              "      <td>2020-04-03</td>\n",
              "      <td>9585</td>\n",
              "      <td>9585</td>\n",
              "      <td>1.000000</td>\n",
              "    </tr>\n",
              "    <tr>\n",
              "      <th>FL</th>\n",
              "      <td>2020-04-02</td>\n",
              "      <td>8010</td>\n",
              "      <td>9585</td>\n",
              "      <td>0.835681</td>\n",
              "    </tr>\n",
              "    <tr>\n",
              "      <th>FL</th>\n",
              "      <td>2020-04-01</td>\n",
              "      <td>6955</td>\n",
              "      <td>9585</td>\n",
              "      <td>0.725613</td>\n",
              "    </tr>\n",
              "    <tr>\n",
              "      <th>FL</th>\n",
              "      <td>2020-03-31</td>\n",
              "      <td>6338</td>\n",
              "      <td>9585</td>\n",
              "      <td>0.661242</td>\n",
              "    </tr>\n",
              "    <tr>\n",
              "      <th>FL</th>\n",
              "      <td>2020-03-30</td>\n",
              "      <td>5473</td>\n",
              "      <td>9585</td>\n",
              "      <td>0.570996</td>\n",
              "    </tr>\n",
              "    <tr>\n",
              "      <th>FL</th>\n",
              "      <td>2020-03-29</td>\n",
              "      <td>4246</td>\n",
              "      <td>9585</td>\n",
              "      <td>0.442984</td>\n",
              "    </tr>\n",
              "    <tr>\n",
              "      <th>FL</th>\n",
              "      <td>2020-03-28</td>\n",
              "      <td>3763</td>\n",
              "      <td>9585</td>\n",
              "      <td>0.392593</td>\n",
              "    </tr>\n",
              "  </tbody>\n",
              "</table>\n",
              "</div>"
            ],
            "text/plain": [
              "            date  positive  current_total       pct\n",
              "state                                              \n",
              "FL    2020-04-03      9585           9585  1.000000\n",
              "FL    2020-04-02      8010           9585  0.835681\n",
              "FL    2020-04-01      6955           9585  0.725613\n",
              "FL    2020-03-31      6338           9585  0.661242\n",
              "FL    2020-03-30      5473           9585  0.570996\n",
              "FL    2020-03-29      4246           9585  0.442984\n",
              "FL    2020-03-28      3763           9585  0.392593"
            ]
          },
          "metadata": {
            "tags": []
          },
          "execution_count": 64
        }
      ]
    },
    {
      "cell_type": "code",
      "metadata": {
        "id": "dkgVF6Q19glV",
        "colab_type": "code",
        "colab": {}
      },
      "source": [
        "res = dfState.reset_index().pivot(index = 'date', columns='state', values='pct').fillna(0)"
      ],
      "execution_count": 0,
      "outputs": []
    },
    {
      "cell_type": "code",
      "metadata": {
        "id": "w1ml4KC6BF7q",
        "colab_type": "code",
        "outputId": "d9038ff1-e773-416f-fcd6-a25b0ef422ea",
        "colab": {
          "base_uri": "https://localhost:8080/",
          "height": 314
        }
      },
      "source": [
        "x = res.loc[:, ['CA','FL']].plot.line()"
      ],
      "execution_count": 66,
      "outputs": [
        {
          "output_type": "display_data",
          "data": {
            "image/png": "[encoded data removed]",
            "text/plain": [
              "<Figure size 432x288 with 1 Axes>"
            ]
          },
          "metadata": {
            "tags": []
          }
        }
      ]
    },
    {
      "cell_type": "code",
      "metadata": {
        "id": "eaLSwLbuBLY0",
        "colab_type": "code",
        "colab": {}
      },
      "source": [
        "dfNYTesting = dfCovidtracking.loc[dfCovidtracking.state=='NY', ['date', 'negative']].set_index('date')"
      ],
      "execution_count": 0,
      "outputs": []
    },
    {
      "cell_type": "code",
      "metadata": {
        "id": "vhL4WBWECIhP",
        "colab_type": "code",
        "outputId": "35be7d8d-545b-4432-b83c-51f87b5875e1",
        "colab": {
          "base_uri": "https://localhost:8080/",
          "height": 316
        }
      },
      "source": [
        "x = dfNYTesting.plot.line()"
      ],
      "execution_count": 68,
      "outputs": [
        {
          "output_type": "display_data",
          "data": {
            "image/png": "[encoded data removed]",
            "text/plain": [
              "<Figure size 432x288 with 1 Axes>"
            ]
          },
          "metadata": {
            "tags": []
          }
        }
      ]
    },
    {
      "cell_type": "code",
      "metadata": {
        "id": "c4uuFBTquS3o",
        "colab_type": "code",
        "outputId": "0de0e7aa-eb68-4781-bc03-0baa918364c3",
        "colab": {
          "base_uri": "https://localhost:8080/",
          "height": 348
        }
      },
      "source": [
        "dfDates = dfState.reset_index().copy()\n",
        "dfDates[(dfDates.state.isin(['FL']))].head(10)"
      ],
      "execution_count": 69,
      "outputs": [
        {
          "output_type": "execute_result",
          "data": {
            "text/html": [
              "<div>\n",
              "<style scoped>\n",
              "    .dataframe tbody tr th:only-of-type {\n",
              "        vertical-align: middle;\n",
              "    }\n",
              "\n",
              "    .dataframe tbody tr th {\n",
              "        vertical-align: top;\n",
              "    }\n",
              "\n",
              "    .dataframe thead th {\n",
              "        text-align: right;\n",
              "    }\n",
              "</style>\n",
              "<table border=\"1\" class=\"dataframe\">\n",
              "  <thead>\n",
              "    <tr style=\"text-align: right;\">\n",
              "      <th></th>\n",
              "      <th>state</th>\n",
              "      <th>date</th>\n",
              "      <th>positive</th>\n",
              "      <th>current_total</th>\n",
              "      <th>pct</th>\n",
              "    </tr>\n",
              "  </thead>\n",
              "  <tbody>\n",
              "    <tr>\n",
              "      <th>284</th>\n",
              "      <td>FL</td>\n",
              "      <td>2020-04-03</td>\n",
              "      <td>9585</td>\n",
              "      <td>9585</td>\n",
              "      <td>1.000000</td>\n",
              "    </tr>\n",
              "    <tr>\n",
              "      <th>285</th>\n",
              "      <td>FL</td>\n",
              "      <td>2020-04-02</td>\n",
              "      <td>8010</td>\n",
              "      <td>9585</td>\n",
              "      <td>0.835681</td>\n",
              "    </tr>\n",
              "    <tr>\n",
              "      <th>286</th>\n",
              "      <td>FL</td>\n",
              "      <td>2020-04-01</td>\n",
              "      <td>6955</td>\n",
              "      <td>9585</td>\n",
              "      <td>0.725613</td>\n",
              "    </tr>\n",
              "    <tr>\n",
              "      <th>287</th>\n",
              "      <td>FL</td>\n",
              "      <td>2020-03-31</td>\n",
              "      <td>6338</td>\n",
              "      <td>9585</td>\n",
              "      <td>0.661242</td>\n",
              "    </tr>\n",
              "    <tr>\n",
              "      <th>288</th>\n",
              "      <td>FL</td>\n",
              "      <td>2020-03-30</td>\n",
              "      <td>5473</td>\n",
              "      <td>9585</td>\n",
              "      <td>0.570996</td>\n",
              "    </tr>\n",
              "    <tr>\n",
              "      <th>289</th>\n",
              "      <td>FL</td>\n",
              "      <td>2020-03-29</td>\n",
              "      <td>4246</td>\n",
              "      <td>9585</td>\n",
              "      <td>0.442984</td>\n",
              "    </tr>\n",
              "    <tr>\n",
              "      <th>290</th>\n",
              "      <td>FL</td>\n",
              "      <td>2020-03-28</td>\n",
              "      <td>3763</td>\n",
              "      <td>9585</td>\n",
              "      <td>0.392593</td>\n",
              "    </tr>\n",
              "    <tr>\n",
              "      <th>291</th>\n",
              "      <td>FL</td>\n",
              "      <td>2020-03-27</td>\n",
              "      <td>2765</td>\n",
              "      <td>9585</td>\n",
              "      <td>0.288472</td>\n",
              "    </tr>\n",
              "    <tr>\n",
              "      <th>292</th>\n",
              "      <td>FL</td>\n",
              "      <td>2020-03-26</td>\n",
              "      <td>2355</td>\n",
              "      <td>9585</td>\n",
              "      <td>0.245696</td>\n",
              "    </tr>\n",
              "    <tr>\n",
              "      <th>293</th>\n",
              "      <td>FL</td>\n",
              "      <td>2020-03-25</td>\n",
              "      <td>1682</td>\n",
              "      <td>9585</td>\n",
              "      <td>0.175483</td>\n",
              "    </tr>\n",
              "  </tbody>\n",
              "</table>\n",
              "</div>"
            ],
            "text/plain": [
              "    state       date  positive  current_total       pct\n",
              "284    FL 2020-04-03      9585           9585  1.000000\n",
              "285    FL 2020-04-02      8010           9585  0.835681\n",
              "286    FL 2020-04-01      6955           9585  0.725613\n",
              "287    FL 2020-03-31      6338           9585  0.661242\n",
              "288    FL 2020-03-30      5473           9585  0.570996\n",
              "289    FL 2020-03-29      4246           9585  0.442984\n",
              "290    FL 2020-03-28      3763           9585  0.392593\n",
              "291    FL 2020-03-27      2765           9585  0.288472\n",
              "292    FL 2020-03-26      2355           9585  0.245696\n",
              "293    FL 2020-03-25      1682           9585  0.175483"
            ]
          },
          "metadata": {
            "tags": []
          },
          "execution_count": 69
        }
      ]
    },
    {
      "cell_type": "code",
      "metadata": {
        "id": "Puz0PBzemMD3",
        "colab_type": "code",
        "outputId": "4cea594d-79fa-4b24-eba0-1e668865d8de",
        "colab": {
          "base_uri": "https://localhost:8080/",
          "height": 258
        }
      },
      "source": [
        "datecutoff = dfDates.date.max()-datetime.timedelta(days=3)\n",
        "dfDates[(dfDates.date == datecutoff) & (dfDates.pct < .60)].sort_values(by='positive',ascending=False)\n"
      ],
      "execution_count": 70,
      "outputs": [
        {
          "output_type": "execute_result",
          "data": {
            "text/html": [
              "<div>\n",
              "<style scoped>\n",
              "    .dataframe tbody tr th:only-of-type {\n",
              "        vertical-align: middle;\n",
              "    }\n",
              "\n",
              "    .dataframe tbody tr th {\n",
              "        vertical-align: top;\n",
              "    }\n",
              "\n",
              "    .dataframe thead th {\n",
              "        text-align: right;\n",
              "    }\n",
              "</style>\n",
              "<table border=\"1\" class=\"dataframe\">\n",
              "  <thead>\n",
              "    <tr style=\"text-align: right;\">\n",
              "      <th></th>\n",
              "      <th>state</th>\n",
              "      <th>date</th>\n",
              "      <th>positive</th>\n",
              "      <th>current_total</th>\n",
              "      <th>pct</th>\n",
              "    </tr>\n",
              "  </thead>\n",
              "  <tbody>\n",
              "    <tr>\n",
              "      <th>688</th>\n",
              "      <td>MI</td>\n",
              "      <td>2020-03-31</td>\n",
              "      <td>7615</td>\n",
              "      <td>12744</td>\n",
              "      <td>0.597536</td>\n",
              "    </tr>\n",
              "    <tr>\n",
              "      <th>571</th>\n",
              "      <td>LA</td>\n",
              "      <td>2020-03-31</td>\n",
              "      <td>5237</td>\n",
              "      <td>10297</td>\n",
              "      <td>0.508595</td>\n",
              "    </tr>\n",
              "    <tr>\n",
              "      <th>1179</th>\n",
              "      <td>PA</td>\n",
              "      <td>2020-03-31</td>\n",
              "      <td>4843</td>\n",
              "      <td>8420</td>\n",
              "      <td>0.575178</td>\n",
              "    </tr>\n",
              "    <tr>\n",
              "      <th>1120</th>\n",
              "      <td>OK</td>\n",
              "      <td>2020-03-31</td>\n",
              "      <td>565</td>\n",
              "      <td>988</td>\n",
              "      <td>0.571862</td>\n",
              "    </tr>\n",
              "    <tr>\n",
              "      <th>425</th>\n",
              "      <td>ID</td>\n",
              "      <td>2020-03-31</td>\n",
              "      <td>415</td>\n",
              "      <td>891</td>\n",
              "      <td>0.465769</td>\n",
              "    </tr>\n",
              "    <tr>\n",
              "      <th>1286</th>\n",
              "      <td>SD</td>\n",
              "      <td>2020-03-31</td>\n",
              "      <td>108</td>\n",
              "      <td>187</td>\n",
              "      <td>0.577540</td>\n",
              "    </tr>\n",
              "    <tr>\n",
              "      <th>775</th>\n",
              "      <td>MP</td>\n",
              "      <td>2020-03-31</td>\n",
              "      <td>2</td>\n",
              "      <td>8</td>\n",
              "      <td>0.250000</td>\n",
              "    </tr>\n",
              "  </tbody>\n",
              "</table>\n",
              "</div>"
            ],
            "text/plain": [
              "     state       date  positive  current_total       pct\n",
              "688     MI 2020-03-31      7615          12744  0.597536\n",
              "571     LA 2020-03-31      5237          10297  0.508595\n",
              "1179    PA 2020-03-31      4843           8420  0.575178\n",
              "1120    OK 2020-03-31       565            988  0.571862\n",
              "425     ID 2020-03-31       415            891  0.465769\n",
              "1286    SD 2020-03-31       108            187  0.577540\n",
              "775     MP 2020-03-31         2              8  0.250000"
            ]
          },
          "metadata": {
            "tags": []
          },
          "execution_count": 70
        }
      ]
    },
    {
      "cell_type": "code",
      "metadata": {
        "id": "dUZ2KbdQ7h5f",
        "colab_type": "code",
        "outputId": "25acdffb-27fe-41ee-c416-3c9c88366832",
        "colab": {
          "base_uri": "https://localhost:8080/",
          "height": 35
        }
      },
      "source": [
        "datecutoff"
      ],
      "execution_count": 71,
      "outputs": [
        {
          "output_type": "execute_result",
          "data": {
            "text/plain": [
              "Timestamp('2020-03-31 00:00:00')"
            ]
          },
          "metadata": {
            "tags": []
          },
          "execution_count": 71
        }
      ]
    },
    {
      "cell_type": "code",
      "metadata": {
        "id": "ZmaKzaBnGQwj",
        "colab_type": "code",
        "outputId": "0f31f82a-f897-4c44-e247-1d6775f70afb",
        "colab": {
          "base_uri": "https://localhost:8080/",
          "height": 360
        }
      },
      "source": [
        "state = 'CA'\n",
        "dfState = dfCovidtracking[dfCovidtracking.state==state].sort_values(by='date')\n",
        "vals = dfState.positive.values\n",
        "\n",
        "x=pd.Series([y-x for x,y in zip(vals,vals[1:])], \\\n",
        "          index = dfCovidtracking[dfCovidtracking.state==state]\\\n",
        "          .sort_values(by='date').date.values[1:] ) \\\n",
        "          .plot.bar()\n",
        "\n"
      ],
      "execution_count": 72,
      "outputs": [
        {
          "output_type": "display_data",
          "data": {
            "image/png": "[encoded data removed]",
            "text/plain": [
              "<Figure size 432x288 with 1 Axes>"
            ]
          },
          "metadata": {
            "tags": []
          }
        }
      ]
    },
    {
      "cell_type": "markdown",
      "metadata": {
        "id": "xFA0q8At-4sZ",
        "colab_type": "text"
      },
      "source": [
        "# State Data"
      ]
    },
    {
      "cell_type": "code",
      "metadata": {
        "id": "Nlx8_xZ27kvp",
        "colab_type": "code",
        "colab": {}
      },
      "source": [
        "data_url = \"https://www2.census.gov/programs-surveys/popest/datasets/2010-2019/national/totals/nst-est2019-alldata.csv\"\n"
      ],
      "execution_count": 0,
      "outputs": []
    },
    {
      "cell_type": "code",
      "metadata": {
        "id": "Lwz6IJdX_WFx",
        "colab_type": "code",
        "colab": {}
      },
      "source": [
        "dfStateData = pd.read_csv(data_url)"
      ],
      "execution_count": 0,
      "outputs": []
    },
    {
      "cell_type": "code",
      "metadata": {
        "id": "Iq2qiltV_e9D",
        "colab_type": "code",
        "outputId": "56e49f66-d729-40d1-8aaa-7ff2c716009d",
        "colab": {
          "base_uri": "https://localhost:8080/",
          "height": 0
        }
      },
      "source": [
        "dfStateData[dfStateData.STATE >0][['STATE','NAME', 'POPESTIMATE2019']]"
      ],
      "execution_count": 75,
      "outputs": [
        {
          "output_type": "execute_result",
          "data": {
            "text/html": [
              "<div>\n",
              "<style scoped>\n",
              "    .dataframe tbody tr th:only-of-type {\n",
              "        vertical-align: middle;\n",
              "    }\n",
              "\n",
              "    .dataframe tbody tr th {\n",
              "        vertical-align: top;\n",
              "    }\n",
              "\n",
              "    .dataframe thead th {\n",
              "        text-align: right;\n",
              "    }\n",
              "</style>\n",
              "<table border=\"1\" class=\"dataframe\">\n",
              "  <thead>\n",
              "    <tr style=\"text-align: right;\">\n",
              "      <th></th>\n",
              "      <th>STATE</th>\n",
              "      <th>NAME</th>\n",
              "      <th>POPESTIMATE2019</th>\n",
              "    </tr>\n",
              "  </thead>\n",
              "  <tbody>\n",
              "    <tr>\n",
              "      <th>5</th>\n",
              "      <td>1</td>\n",
              "      <td>Alabama</td>\n",
              "      <td>4903185</td>\n",
              "    </tr>\n",
              "    <tr>\n",
              "      <th>6</th>\n",
              "      <td>2</td>\n",
              "      <td>Alaska</td>\n",
              "      <td>731545</td>\n",
              "    </tr>\n",
              "    <tr>\n",
              "      <th>7</th>\n",
              "      <td>4</td>\n",
              "      <td>Arizona</td>\n",
              "      <td>7278717</td>\n",
              "    </tr>\n",
              "    <tr>\n",
              "      <th>8</th>\n",
              "      <td>5</td>\n",
              "      <td>Arkansas</td>\n",
              "      <td>3017804</td>\n",
              "    </tr>\n",
              "    <tr>\n",
              "      <th>9</th>\n",
              "      <td>6</td>\n",
              "      <td>California</td>\n",
              "      <td>39512223</td>\n",
              "    </tr>\n",
              "    <tr>\n",
              "      <th>10</th>\n",
              "      <td>8</td>\n",
              "      <td>Colorado</td>\n",
              "      <td>5758736</td>\n",
              "    </tr>\n",
              "    <tr>\n",
              "      <th>11</th>\n",
              "      <td>9</td>\n",
              "      <td>Connecticut</td>\n",
              "      <td>3565287</td>\n",
              "    </tr>\n",
              "    <tr>\n",
              "      <th>12</th>\n",
              "      <td>10</td>\n",
              "      <td>Delaware</td>\n",
              "      <td>973764</td>\n",
              "    </tr>\n",
              "    <tr>\n",
              "      <th>13</th>\n",
              "      <td>11</td>\n",
              "      <td>District of Columbia</td>\n",
              "      <td>705749</td>\n",
              "    </tr>\n",
              "    <tr>\n",
              "      <th>14</th>\n",
              "      <td>12</td>\n",
              "      <td>Florida</td>\n",
              "      <td>21477737</td>\n",
              "    </tr>\n",
              "    <tr>\n",
              "      <th>15</th>\n",
              "      <td>13</td>\n",
              "      <td>Georgia</td>\n",
              "      <td>10617423</td>\n",
              "    </tr>\n",
              "    <tr>\n",
              "      <th>16</th>\n",
              "      <td>15</td>\n",
              "      <td>Hawaii</td>\n",
              "      <td>1415872</td>\n",
              "    </tr>\n",
              "    <tr>\n",
              "      <th>17</th>\n",
              "      <td>16</td>\n",
              "      <td>Idaho</td>\n",
              "      <td>1787065</td>\n",
              "    </tr>\n",
              "    <tr>\n",
              "      <th>18</th>\n",
              "      <td>17</td>\n",
              "      <td>Illinois</td>\n",
              "      <td>12671821</td>\n",
              "    </tr>\n",
              "    <tr>\n",
              "      <th>19</th>\n",
              "      <td>18</td>\n",
              "      <td>Indiana</td>\n",
              "      <td>6732219</td>\n",
              "    </tr>\n",
              "    <tr>\n",
              "      <th>20</th>\n",
              "      <td>19</td>\n",
              "      <td>Iowa</td>\n",
              "      <td>3155070</td>\n",
              "    </tr>\n",
              "    <tr>\n",
              "      <th>21</th>\n",
              "      <td>20</td>\n",
              "      <td>Kansas</td>\n",
              "      <td>2913314</td>\n",
              "    </tr>\n",
              "    <tr>\n",
              "      <th>22</th>\n",
              "      <td>21</td>\n",
              "      <td>Kentucky</td>\n",
              "      <td>4467673</td>\n",
              "    </tr>\n",
              "    <tr>\n",
              "      <th>23</th>\n",
              "      <td>22</td>\n",
              "      <td>Louisiana</td>\n",
              "      <td>4648794</td>\n",
              "    </tr>\n",
              "    <tr>\n",
              "      <th>24</th>\n",
              "      <td>23</td>\n",
              "      <td>Maine</td>\n",
              "      <td>1344212</td>\n",
              "    </tr>\n",
              "    <tr>\n",
              "      <th>25</th>\n",
              "      <td>24</td>\n",
              "      <td>Maryland</td>\n",
              "      <td>6045680</td>\n",
              "    </tr>\n",
              "    <tr>\n",
              "      <th>26</th>\n",
              "      <td>25</td>\n",
              "      <td>Massachusetts</td>\n",
              "      <td>6892503</td>\n",
              "    </tr>\n",
              "    <tr>\n",
              "      <th>27</th>\n",
              "      <td>26</td>\n",
              "      <td>Michigan</td>\n",
              "      <td>9986857</td>\n",
              "    </tr>\n",
              "    <tr>\n",
              "      <th>28</th>\n",
              "      <td>27</td>\n",
              "      <td>Minnesota</td>\n",
              "      <td>5639632</td>\n",
              "    </tr>\n",
              "    <tr>\n",
              "      <th>29</th>\n",
              "      <td>28</td>\n",
              "      <td>Mississippi</td>\n",
              "      <td>2976149</td>\n",
              "    </tr>\n",
              "    <tr>\n",
              "      <th>30</th>\n",
              "      <td>29</td>\n",
              "      <td>Missouri</td>\n",
              "      <td>6137428</td>\n",
              "    </tr>\n",
              "    <tr>\n",
              "      <th>31</th>\n",
              "      <td>30</td>\n",
              "      <td>Montana</td>\n",
              "      <td>1068778</td>\n",
              "    </tr>\n",
              "    <tr>\n",
              "      <th>32</th>\n",
              "      <td>31</td>\n",
              "      <td>Nebraska</td>\n",
              "      <td>1934408</td>\n",
              "    </tr>\n",
              "    <tr>\n",
              "      <th>33</th>\n",
              "      <td>32</td>\n",
              "      <td>Nevada</td>\n",
              "      <td>3080156</td>\n",
              "    </tr>\n",
              "    <tr>\n",
              "      <th>34</th>\n",
              "      <td>33</td>\n",
              "      <td>New Hampshire</td>\n",
              "      <td>1359711</td>\n",
              "    </tr>\n",
              "    <tr>\n",
              "      <th>35</th>\n",
              "      <td>34</td>\n",
              "      <td>New Jersey</td>\n",
              "      <td>8882190</td>\n",
              "    </tr>\n",
              "    <tr>\n",
              "      <th>36</th>\n",
              "      <td>35</td>\n",
              "      <td>New Mexico</td>\n",
              "      <td>2096829</td>\n",
              "    </tr>\n",
              "    <tr>\n",
              "      <th>37</th>\n",
              "      <td>36</td>\n",
              "      <td>New York</td>\n",
              "      <td>19453561</td>\n",
              "    </tr>\n",
              "    <tr>\n",
              "      <th>38</th>\n",
              "      <td>37</td>\n",
              "      <td>North Carolina</td>\n",
              "      <td>10488084</td>\n",
              "    </tr>\n",
              "    <tr>\n",
              "      <th>39</th>\n",
              "      <td>38</td>\n",
              "      <td>North Dakota</td>\n",
              "      <td>762062</td>\n",
              "    </tr>\n",
              "    <tr>\n",
              "      <th>40</th>\n",
              "      <td>39</td>\n",
              "      <td>Ohio</td>\n",
              "      <td>11689100</td>\n",
              "    </tr>\n",
              "    <tr>\n",
              "      <th>41</th>\n",
              "      <td>40</td>\n",
              "      <td>Oklahoma</td>\n",
              "      <td>3956971</td>\n",
              "    </tr>\n",
              "    <tr>\n",
              "      <th>42</th>\n",
              "      <td>41</td>\n",
              "      <td>Oregon</td>\n",
              "      <td>4217737</td>\n",
              "    </tr>\n",
              "    <tr>\n",
              "      <th>43</th>\n",
              "      <td>42</td>\n",
              "      <td>Pennsylvania</td>\n",
              "      <td>12801989</td>\n",
              "    </tr>\n",
              "    <tr>\n",
              "      <th>44</th>\n",
              "      <td>44</td>\n",
              "      <td>Rhode Island</td>\n",
              "      <td>1059361</td>\n",
              "    </tr>\n",
              "    <tr>\n",
              "      <th>45</th>\n",
              "      <td>45</td>\n",
              "      <td>South Carolina</td>\n",
              "      <td>5148714</td>\n",
              "    </tr>\n",
              "    <tr>\n",
              "      <th>46</th>\n",
              "      <td>46</td>\n",
              "      <td>South Dakota</td>\n",
              "      <td>884659</td>\n",
              "    </tr>\n",
              "    <tr>\n",
              "      <th>47</th>\n",
              "      <td>47</td>\n",
              "      <td>Tennessee</td>\n",
              "      <td>6829174</td>\n",
              "    </tr>\n",
              "    <tr>\n",
              "      <th>48</th>\n",
              "      <td>48</td>\n",
              "      <td>Texas</td>\n",
              "      <td>28995881</td>\n",
              "    </tr>\n",
              "    <tr>\n",
              "      <th>49</th>\n",
              "      <td>49</td>\n",
              "      <td>Utah</td>\n",
              "      <td>3205958</td>\n",
              "    </tr>\n",
              "    <tr>\n",
              "      <th>50</th>\n",
              "      <td>50</td>\n",
              "      <td>Vermont</td>\n",
              "      <td>623989</td>\n",
              "    </tr>\n",
              "    <tr>\n",
              "      <th>51</th>\n",
              "      <td>51</td>\n",
              "      <td>Virginia</td>\n",
              "      <td>8535519</td>\n",
              "    </tr>\n",
              "    <tr>\n",
              "      <th>52</th>\n",
              "      <td>53</td>\n",
              "      <td>Washington</td>\n",
              "      <td>7614893</td>\n",
              "    </tr>\n",
              "    <tr>\n",
              "      <th>53</th>\n",
              "      <td>54</td>\n",
              "      <td>West Virginia</td>\n",
              "      <td>1792147</td>\n",
              "    </tr>\n",
              "    <tr>\n",
              "      <th>54</th>\n",
              "      <td>55</td>\n",
              "      <td>Wisconsin</td>\n",
              "      <td>5822434</td>\n",
              "    </tr>\n",
              "    <tr>\n",
              "      <th>55</th>\n",
              "      <td>56</td>\n",
              "      <td>Wyoming</td>\n",
              "      <td>578759</td>\n",
              "    </tr>\n",
              "    <tr>\n",
              "      <th>56</th>\n",
              "      <td>72</td>\n",
              "      <td>Puerto Rico</td>\n",
              "      <td>3193694</td>\n",
              "    </tr>\n",
              "  </tbody>\n",
              "</table>\n",
              "</div>"
            ],
            "text/plain": [
              "    STATE                  NAME  POPESTIMATE2019\n",
              "5       1               Alabama          4903185\n",
              "6       2                Alaska           731545\n",
              "7       4               Arizona          7278717\n",
              "8       5              Arkansas          3017804\n",
              "9       6            California         39512223\n",
              "10      8              Colorado          5758736\n",
              "11      9           Connecticut          3565287\n",
              "12     10              Delaware           973764\n",
              "13     11  District of Columbia           705749\n",
              "14     12               Florida         21477737\n",
              "15     13               Georgia         10617423\n",
              "16     15                Hawaii          1415872\n",
              "17     16                 Idaho          1787065\n",
              "18     17              Illinois         12671821\n",
              "19     18               Indiana          6732219\n",
              "20     19                  Iowa          3155070\n",
              "21     20                Kansas          2913314\n",
              "22     21              Kentucky          4467673\n",
              "23     22             Louisiana          4648794\n",
              "24     23                 Maine          1344212\n",
              "25     24              Maryland          6045680\n",
              "26     25         Massachusetts          6892503\n",
              "27     26              Michigan          9986857\n",
              "28     27             Minnesota          5639632\n",
              "29     28           Mississippi          2976149\n",
              "30     29              Missouri          6137428\n",
              "31     30               Montana          1068778\n",
              "32     31              Nebraska          1934408\n",
              "33     32                Nevada          3080156\n",
              "34     33         New Hampshire          1359711\n",
              "35     34            New Jersey          8882190\n",
              "36     35            New Mexico          2096829\n",
              "37     36              New York         19453561\n",
              "38     37        North Carolina         10488084\n",
              "39     38          North Dakota           762062\n",
              "40     39                  Ohio         11689100\n",
              "41     40              Oklahoma          3956971\n",
              "42     41                Oregon          4217737\n",
              "43     42          Pennsylvania         12801989\n",
              "44     44          Rhode Island          1059361\n",
              "45     45        South Carolina          5148714\n",
              "46     46          South Dakota           884659\n",
              "47     47             Tennessee          6829174\n",
              "48     48                 Texas         28995881\n",
              "49     49                  Utah          3205958\n",
              "50     50               Vermont           623989\n",
              "51     51              Virginia          8535519\n",
              "52     53            Washington          7614893\n",
              "53     54         West Virginia          1792147\n",
              "54     55             Wisconsin          5822434\n",
              "55     56               Wyoming           578759\n",
              "56     72           Puerto Rico          3193694"
            ]
          },
          "metadata": {
            "tags": []
          },
          "execution_count": 75
        }
      ]
    },
    {
      "cell_type": "code",
      "metadata": {
        "id": "2vBfxc9X_g7F",
        "colab_type": "code",
        "outputId": "363cb03d-4409-43f8-f06e-f587fc0d694e",
        "colab": {
          "base_uri": "https://localhost:8080/",
          "height": 0
        }
      },
      "source": [
        "dfStateData[dfStateData.STATE ==0][['STATE','NAME', 'POPESTIMATE2019']]"
      ],
      "execution_count": 76,
      "outputs": [
        {
          "output_type": "execute_result",
          "data": {
            "text/html": [
              "<div>\n",
              "<style scoped>\n",
              "    .dataframe tbody tr th:only-of-type {\n",
              "        vertical-align: middle;\n",
              "    }\n",
              "\n",
              "    .dataframe tbody tr th {\n",
              "        vertical-align: top;\n",
              "    }\n",
              "\n",
              "    .dataframe thead th {\n",
              "        text-align: right;\n",
              "    }\n",
              "</style>\n",
              "<table border=\"1\" class=\"dataframe\">\n",
              "  <thead>\n",
              "    <tr style=\"text-align: right;\">\n",
              "      <th></th>\n",
              "      <th>STATE</th>\n",
              "      <th>NAME</th>\n",
              "      <th>POPESTIMATE2019</th>\n",
              "    </tr>\n",
              "  </thead>\n",
              "  <tbody>\n",
              "    <tr>\n",
              "      <th>0</th>\n",
              "      <td>0</td>\n",
              "      <td>United States</td>\n",
              "      <td>328239523</td>\n",
              "    </tr>\n",
              "    <tr>\n",
              "      <th>1</th>\n",
              "      <td>0</td>\n",
              "      <td>Northeast Region</td>\n",
              "      <td>55982803</td>\n",
              "    </tr>\n",
              "    <tr>\n",
              "      <th>2</th>\n",
              "      <td>0</td>\n",
              "      <td>Midwest Region</td>\n",
              "      <td>68329004</td>\n",
              "    </tr>\n",
              "    <tr>\n",
              "      <th>3</th>\n",
              "      <td>0</td>\n",
              "      <td>South Region</td>\n",
              "      <td>125580448</td>\n",
              "    </tr>\n",
              "    <tr>\n",
              "      <th>4</th>\n",
              "      <td>0</td>\n",
              "      <td>West Region</td>\n",
              "      <td>78347268</td>\n",
              "    </tr>\n",
              "  </tbody>\n",
              "</table>\n",
              "</div>"
            ],
            "text/plain": [
              "   STATE              NAME  POPESTIMATE2019\n",
              "0      0     United States        328239523\n",
              "1      0  Northeast Region         55982803\n",
              "2      0    Midwest Region         68329004\n",
              "3      0      South Region        125580448\n",
              "4      0       West Region         78347268"
            ]
          },
          "metadata": {
            "tags": []
          },
          "execution_count": 76
        }
      ]
    },
    {
      "cell_type": "code",
      "metadata": {
        "id": "aU3ZzHS-AkRS",
        "colab_type": "code",
        "colab": {}
      },
      "source": [
        ""
      ],
      "execution_count": 0,
      "outputs": []
    }
  ]
}