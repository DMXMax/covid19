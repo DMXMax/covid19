{
  "nbformat": 4,
  "nbformat_minor": 0,
  "metadata": {
    "colab": {
      "name": "coviddata",
      "provenance": [],
      "toc_visible": true,
      "authorship_tag": "ABX9TyMjnuJRErBKqKw1QPQgx8hN",
      "include_colab_link": true
    },
    "kernelspec": {
      "name": "python3",
      "display_name": "Python 3"
    }
  },
  "cells": [
    {
      "cell_type": "markdown",
      "metadata": {
        "id": "view-in-github",
        "colab_type": "text"
      },
      "source": [
        "<a href=\"https://colab.research.google.com/github/DMXMax/covid19/blob/gc_20200315/coviddata.ipynb\" target=\"_parent\"><img src=\"https://colab.research.google.com/assets/colab-badge.svg\" alt=\"Open In Colab\"/></a>"
      ]
    },
    {
      "cell_type": "code",
      "metadata": {
        "id": "jCzokJEPxFhv",
        "colab_type": "code",
        "colab": {}
      },
      "source": [
        "import numpy as np\n",
        "import pandas as pd\n",
        "import matplotlib.pyplot as plt\n",
        "import requests,json\n",
        "import datetime\n"
      ],
      "execution_count": 0,
      "outputs": []
    },
    {
      "cell_type": "code",
      "metadata": {
        "id": "zNKPT5Z8BXPT",
        "colab_type": "code",
        "colab": {}
      },
      "source": [
        "covidtrackingurl = \"https://covidtracking.com/api/v1/states/daily.json\"\n",
        "response = requests.get(covidtrackingurl)\n",
        "dfCovidtracking = pd.DataFrame(response.json())\n",
        "dfCovidtracking.fillna(0, inplace=True)\n",
        "dfCovidtracking.negative = dfCovidtracking.negative.astype('int64')\n",
        "dfCovidtracking.positive = dfCovidtracking.positive.astype('int64')\n",
        "dfCovidtracking.pending = dfCovidtracking.pending.astype('int64')\n",
        "dfCovidtracking.total = dfCovidtracking.total.astype('int64')\n",
        "dfCovidtracking.death = dfCovidtracking.death.astype('int64')\n",
        "\n",
        "dfCovidtracking.date = dfCovidtracking.date.transform(lambda x: pd.to_datetime(datetime.date(x//10000, x%10000//100, x%100\n",
        "                                          )))\n"
      ],
      "execution_count": 0,
      "outputs": []
    },
    {
      "cell_type": "code",
      "metadata": {
        "id": "8_Il5iuohC8_",
        "colab_type": "code",
        "colab": {}
      },
      "source": [
        "dfWHO = pd.read_csv(\"https://raw.githubusercontent.com/DMXMax/covid19/master/who/who_data.tsv\",\n",
        "                     sep='\\t', index_col='Date')"
      ],
      "execution_count": 0,
      "outputs": []
    },
    {
      "cell_type": "code",
      "metadata": {
        "id": "IHNp61EvdwQG",
        "colab_type": "code",
        "colab": {}
      },
      "source": [
        "jhurl = \"https://raw.githubusercontent.com/CSSEGISandData/COVID-19/master/\"+\\\n",
        "\"csse_covid_19_data/csse_covid_19_daily_reports/05-07-2020.csv\"\n",
        "\n",
        "\n",
        "dfJHUData = pd.read_csv(jhurl, header=0,\n",
        "                        names=['FIPS', 'city','state', 'country', 'last_update',\n",
        "                               'lat', 'lon','confirmed', 'dead', 'recovered','active', 'key'])"
      ],
      "execution_count": 0,
      "outputs": []
    },
    {
      "cell_type": "code",
      "metadata": {
        "id": "hrPlWJJCVtBR",
        "colab_type": "code",
        "colab": {}
      },
      "source": [
        "dfWHO = dfWHO.rename(columns={\"Confirmed\": \"confirmed\", \"Deaths\": \"who_deaths\"})\n",
        "dfWHO.index.names=['date']\n"
      ],
      "execution_count": 0,
      "outputs": []
    },
    {
      "cell_type": "code",
      "metadata": {
        "colab_type": "code",
        "id": "idyqfNddlLPv",
        "outputId": "ade692ee-1a2e-4844-e3a8-9c8f7b26c437",
        "colab": {
          "base_uri": "https://localhost:8080/",
          "height": 348
        }
      },
      "source": [
        "dfCovidtracking.loc[dfCovidtracking.date==dfCovidtracking.date.max(),\\\n",
        "  ['state', 'positive', 'negative', 'totalTestResults']].sort_values(by='positive', ascending=False).head(10)"
      ],
      "execution_count": 6,
      "outputs": [
        {
          "output_type": "execute_result",
          "data": {
            "text/html": [
              "<div>\n",
              "<style scoped>\n",
              "    .dataframe tbody tr th:only-of-type {\n",
              "        vertical-align: middle;\n",
              "    }\n",
              "\n",
              "    .dataframe tbody tr th {\n",
              "        vertical-align: top;\n",
              "    }\n",
              "\n",
              "    .dataframe thead th {\n",
              "        text-align: right;\n",
              "    }\n",
              "</style>\n",
              "<table border=\"1\" class=\"dataframe\">\n",
              "  <thead>\n",
              "    <tr style=\"text-align: right;\">\n",
              "      <th></th>\n",
              "      <th>state</th>\n",
              "      <th>positive</th>\n",
              "      <th>negative</th>\n",
              "      <th>totalTestResults</th>\n",
              "    </tr>\n",
              "  </thead>\n",
              "  <tbody>\n",
              "    <tr>\n",
              "      <th>37</th>\n",
              "      <td>NY</td>\n",
              "      <td>330407</td>\n",
              "      <td>791136</td>\n",
              "      <td>1121543</td>\n",
              "    </tr>\n",
              "    <tr>\n",
              "      <th>34</th>\n",
              "      <td>NJ</td>\n",
              "      <td>135454</td>\n",
              "      <td>163305</td>\n",
              "      <td>298759</td>\n",
              "    </tr>\n",
              "    <tr>\n",
              "      <th>21</th>\n",
              "      <td>MA</td>\n",
              "      <td>75333</td>\n",
              "      <td>290690</td>\n",
              "      <td>366023</td>\n",
              "    </tr>\n",
              "    <tr>\n",
              "      <th>16</th>\n",
              "      <td>IL</td>\n",
              "      <td>73760</td>\n",
              "      <td>325954</td>\n",
              "      <td>399714</td>\n",
              "    </tr>\n",
              "    <tr>\n",
              "      <th>5</th>\n",
              "      <td>CA</td>\n",
              "      <td>62512</td>\n",
              "      <td>812760</td>\n",
              "      <td>875272</td>\n",
              "    </tr>\n",
              "    <tr>\n",
              "      <th>41</th>\n",
              "      <td>PA</td>\n",
              "      <td>54238</td>\n",
              "      <td>216321</td>\n",
              "      <td>270559</td>\n",
              "    </tr>\n",
              "    <tr>\n",
              "      <th>24</th>\n",
              "      <td>MI</td>\n",
              "      <td>46326</td>\n",
              "      <td>213927</td>\n",
              "      <td>260253</td>\n",
              "    </tr>\n",
              "    <tr>\n",
              "      <th>10</th>\n",
              "      <td>FL</td>\n",
              "      <td>39199</td>\n",
              "      <td>474142</td>\n",
              "      <td>513341</td>\n",
              "    </tr>\n",
              "    <tr>\n",
              "      <th>47</th>\n",
              "      <td>TX</td>\n",
              "      <td>36609</td>\n",
              "      <td>440509</td>\n",
              "      <td>477118</td>\n",
              "    </tr>\n",
              "    <tr>\n",
              "      <th>7</th>\n",
              "      <td>CT</td>\n",
              "      <td>32411</td>\n",
              "      <td>88130</td>\n",
              "      <td>120541</td>\n",
              "    </tr>\n",
              "  </tbody>\n",
              "</table>\n",
              "</div>"
            ],
            "text/plain": [
              "   state  positive  negative  totalTestResults\n",
              "37    NY    330407    791136           1121543\n",
              "34    NJ    135454    163305            298759\n",
              "21    MA     75333    290690            366023\n",
              "16    IL     73760    325954            399714\n",
              "5     CA     62512    812760            875272\n",
              "41    PA     54238    216321            270559\n",
              "24    MI     46326    213927            260253\n",
              "10    FL     39199    474142            513341\n",
              "47    TX     36609    440509            477118\n",
              "7     CT     32411     88130            120541"
            ]
          },
          "metadata": {
            "tags": []
          },
          "execution_count": 6
        }
      ]
    },
    {
      "cell_type": "code",
      "metadata": {
        "id": "rFOHyOwb4bcm",
        "colab_type": "code",
        "colab": {}
      },
      "source": [
        "gbUSA = dfCovidtracking.groupby(['date'])\n",
        "gbCA = dfCovidtracking[dfCovidtracking.state=='GA'].groupby(['date'])\n",
        "\n",
        "dfUSAPos = gbUSA[['positive', 'totalTestResults', 'death', 'positiveIncrease','deathIncrease']].sum().reset_index().copy()\n",
        "dfCAPos = gbCA[['positive', 'totalTestResults', 'death','positiveIncrease', 'deathIncrease']].sum().reset_index().copy()\n",
        "\n",
        "#This will calculate the percentage each day is of the total. In a flattening, this will be more even\n",
        "# In a high growth situation, you'll higher percentages at the tail. \n",
        "dfUSAPos['PCT']= dfUSAPos.positive/dfUSAPos.max().positive\n",
        "dfCAPos['PCT']=dfCAPos.positive/dfCAPos.max().positive"
      ],
      "execution_count": 0,
      "outputs": []
    },
    {
      "cell_type": "code",
      "metadata": {
        "colab_type": "code",
        "id": "BHKhtPRozVFF",
        "outputId": "d0961c3e-0072-45b5-af90-a3b558355a5d",
        "colab": {
          "base_uri": "https://localhost:8080/",
          "height": 468
        }
      },
      "source": [
        "dfUSAPos[-14:]\n"
      ],
      "execution_count": 8,
      "outputs": [
        {
          "output_type": "execute_result",
          "data": {
            "text/html": [
              "<div>\n",
              "<style scoped>\n",
              "    .dataframe tbody tr th:only-of-type {\n",
              "        vertical-align: middle;\n",
              "    }\n",
              "\n",
              "    .dataframe tbody tr th {\n",
              "        vertical-align: top;\n",
              "    }\n",
              "\n",
              "    .dataframe thead th {\n",
              "        text-align: right;\n",
              "    }\n",
              "</style>\n",
              "<table border=\"1\" class=\"dataframe\">\n",
              "  <thead>\n",
              "    <tr style=\"text-align: right;\">\n",
              "      <th></th>\n",
              "      <th>date</th>\n",
              "      <th>positive</th>\n",
              "      <th>totalTestResults</th>\n",
              "      <th>death</th>\n",
              "      <th>positiveIncrease</th>\n",
              "      <th>deathIncrease</th>\n",
              "      <th>PCT</th>\n",
              "    </tr>\n",
              "  </thead>\n",
              "  <tbody>\n",
              "    <tr>\n",
              "      <th>94</th>\n",
              "      <td>2020-04-25</td>\n",
              "      <td>933310</td>\n",
              "      <td>5197717</td>\n",
              "      <td>48069</td>\n",
              "      <td>35991.0</td>\n",
              "      <td>1818.0</td>\n",
              "      <td>0.731482</td>\n",
              "    </tr>\n",
              "    <tr>\n",
              "      <th>95</th>\n",
              "      <td>2020-04-26</td>\n",
              "      <td>960343</td>\n",
              "      <td>5404137</td>\n",
              "      <td>49164</td>\n",
              "      <td>27033.0</td>\n",
              "      <td>1095.0</td>\n",
              "      <td>0.752669</td>\n",
              "    </tr>\n",
              "    <tr>\n",
              "      <th>96</th>\n",
              "      <td>2020-04-27</td>\n",
              "      <td>981134</td>\n",
              "      <td>5593495</td>\n",
              "      <td>50354</td>\n",
              "      <td>20791.0</td>\n",
              "      <td>1190.0</td>\n",
              "      <td>0.768964</td>\n",
              "    </tr>\n",
              "    <tr>\n",
              "      <th>97</th>\n",
              "      <td>2020-04-28</td>\n",
              "      <td>1006137</td>\n",
              "      <td>5796273</td>\n",
              "      <td>52482</td>\n",
              "      <td>25003.0</td>\n",
              "      <td>2128.0</td>\n",
              "      <td>0.788561</td>\n",
              "    </tr>\n",
              "    <tr>\n",
              "      <th>98</th>\n",
              "      <td>2020-04-29</td>\n",
              "      <td>1033157</td>\n",
              "      <td>6026170</td>\n",
              "      <td>55182</td>\n",
              "      <td>27020.0</td>\n",
              "      <td>2700.0</td>\n",
              "      <td>0.809737</td>\n",
              "    </tr>\n",
              "    <tr>\n",
              "      <th>99</th>\n",
              "      <td>2020-04-30</td>\n",
              "      <td>1062503</td>\n",
              "      <td>6255769</td>\n",
              "      <td>57320</td>\n",
              "      <td>29346.0</td>\n",
              "      <td>2138.0</td>\n",
              "      <td>0.832737</td>\n",
              "    </tr>\n",
              "    <tr>\n",
              "      <th>100</th>\n",
              "      <td>2020-05-01</td>\n",
              "      <td>1095681</td>\n",
              "      <td>6552602</td>\n",
              "      <td>59059</td>\n",
              "      <td>33178.0</td>\n",
              "      <td>1739.0</td>\n",
              "      <td>0.858741</td>\n",
              "    </tr>\n",
              "    <tr>\n",
              "      <th>101</th>\n",
              "      <td>2020-05-02</td>\n",
              "      <td>1125719</td>\n",
              "      <td>6805241</td>\n",
              "      <td>60710</td>\n",
              "      <td>30038.0</td>\n",
              "      <td>1651.0</td>\n",
              "      <td>0.882283</td>\n",
              "    </tr>\n",
              "    <tr>\n",
              "      <th>102</th>\n",
              "      <td>2020-05-03</td>\n",
              "      <td>1152006</td>\n",
              "      <td>7053366</td>\n",
              "      <td>61868</td>\n",
              "      <td>26287.0</td>\n",
              "      <td>1158.0</td>\n",
              "      <td>0.902885</td>\n",
              "    </tr>\n",
              "    <tr>\n",
              "      <th>103</th>\n",
              "      <td>2020-05-04</td>\n",
              "      <td>1173453</td>\n",
              "      <td>7285374</td>\n",
              "      <td>62780</td>\n",
              "      <td>21447.0</td>\n",
              "      <td>912.0</td>\n",
              "      <td>0.919695</td>\n",
              "    </tr>\n",
              "    <tr>\n",
              "      <th>104</th>\n",
              "      <td>2020-05-05</td>\n",
              "      <td>1195605</td>\n",
              "      <td>7544328</td>\n",
              "      <td>65307</td>\n",
              "      <td>22152.0</td>\n",
              "      <td>2527.0</td>\n",
              "      <td>0.937056</td>\n",
              "    </tr>\n",
              "    <tr>\n",
              "      <th>105</th>\n",
              "      <td>2020-05-06</td>\n",
              "      <td>1220557</td>\n",
              "      <td>7786793</td>\n",
              "      <td>67256</td>\n",
              "      <td>24952.0</td>\n",
              "      <td>1949.0</td>\n",
              "      <td>0.956612</td>\n",
              "    </tr>\n",
              "    <tr>\n",
              "      <th>106</th>\n",
              "      <td>2020-05-07</td>\n",
              "      <td>1248137</td>\n",
              "      <td>8105513</td>\n",
              "      <td>70002</td>\n",
              "      <td>27580.0</td>\n",
              "      <td>2746.0</td>\n",
              "      <td>0.978228</td>\n",
              "    </tr>\n",
              "    <tr>\n",
              "      <th>107</th>\n",
              "      <td>2020-05-08</td>\n",
              "      <td>1275916</td>\n",
              "      <td>8408788</td>\n",
              "      <td>71762</td>\n",
              "      <td>27779.0</td>\n",
              "      <td>1760.0</td>\n",
              "      <td>1.000000</td>\n",
              "    </tr>\n",
              "  </tbody>\n",
              "</table>\n",
              "</div>"
            ],
            "text/plain": [
              "          date  positive  ...  deathIncrease       PCT\n",
              "94  2020-04-25    933310  ...         1818.0  0.731482\n",
              "95  2020-04-26    960343  ...         1095.0  0.752669\n",
              "96  2020-04-27    981134  ...         1190.0  0.768964\n",
              "97  2020-04-28   1006137  ...         2128.0  0.788561\n",
              "98  2020-04-29   1033157  ...         2700.0  0.809737\n",
              "99  2020-04-30   1062503  ...         2138.0  0.832737\n",
              "100 2020-05-01   1095681  ...         1739.0  0.858741\n",
              "101 2020-05-02   1125719  ...         1651.0  0.882283\n",
              "102 2020-05-03   1152006  ...         1158.0  0.902885\n",
              "103 2020-05-04   1173453  ...          912.0  0.919695\n",
              "104 2020-05-05   1195605  ...         2527.0  0.937056\n",
              "105 2020-05-06   1220557  ...         1949.0  0.956612\n",
              "106 2020-05-07   1248137  ...         2746.0  0.978228\n",
              "107 2020-05-08   1275916  ...         1760.0  1.000000\n",
              "\n",
              "[14 rows x 7 columns]"
            ]
          },
          "metadata": {
            "tags": []
          },
          "execution_count": 8
        }
      ]
    },
    {
      "cell_type": "code",
      "metadata": {
        "colab_type": "code",
        "id": "EI4hKgZ5zUd8",
        "outputId": "e080874b-a561-4fe0-da08-64deb6f2a4d2",
        "colab": {
          "base_uri": "https://localhost:8080/",
          "height": 198
        }
      },
      "source": [
        "dfCAPos[-5:]"
      ],
      "execution_count": 74,
      "outputs": [
        {
          "output_type": "execute_result",
          "data": {
            "text/html": [
              "<div>\n",
              "<style scoped>\n",
              "    .dataframe tbody tr th:only-of-type {\n",
              "        vertical-align: middle;\n",
              "    }\n",
              "\n",
              "    .dataframe tbody tr th {\n",
              "        vertical-align: top;\n",
              "    }\n",
              "\n",
              "    .dataframe thead th {\n",
              "        text-align: right;\n",
              "    }\n",
              "</style>\n",
              "<table border=\"1\" class=\"dataframe\">\n",
              "  <thead>\n",
              "    <tr style=\"text-align: right;\">\n",
              "      <th></th>\n",
              "      <th>date</th>\n",
              "      <th>positive</th>\n",
              "      <th>totalTestResults</th>\n",
              "      <th>death</th>\n",
              "      <th>positiveIncrease</th>\n",
              "      <th>deathIncrease</th>\n",
              "      <th>PCT</th>\n",
              "    </tr>\n",
              "  </thead>\n",
              "  <tbody>\n",
              "    <tr>\n",
              "      <th>61</th>\n",
              "      <td>2020-05-04</td>\n",
              "      <td>29368</td>\n",
              "      <td>183325</td>\n",
              "      <td>1222</td>\n",
              "      <td>766.0</td>\n",
              "      <td>45.0</td>\n",
              "      <td>0.914720</td>\n",
              "    </tr>\n",
              "    <tr>\n",
              "      <th>62</th>\n",
              "      <td>2020-05-05</td>\n",
              "      <td>29711</td>\n",
              "      <td>200883</td>\n",
              "      <td>1288</td>\n",
              "      <td>343.0</td>\n",
              "      <td>66.0</td>\n",
              "      <td>0.925403</td>\n",
              "    </tr>\n",
              "    <tr>\n",
              "      <th>63</th>\n",
              "      <td>2020-05-06</td>\n",
              "      <td>30696</td>\n",
              "      <td>204137</td>\n",
              "      <td>1311</td>\n",
              "      <td>985.0</td>\n",
              "      <td>23.0</td>\n",
              "      <td>0.956083</td>\n",
              "    </tr>\n",
              "    <tr>\n",
              "      <th>64</th>\n",
              "      <td>2020-05-07</td>\n",
              "      <td>31439</td>\n",
              "      <td>217303</td>\n",
              "      <td>1336</td>\n",
              "      <td>743.0</td>\n",
              "      <td>25.0</td>\n",
              "      <td>0.979225</td>\n",
              "    </tr>\n",
              "    <tr>\n",
              "      <th>65</th>\n",
              "      <td>2020-05-08</td>\n",
              "      <td>32106</td>\n",
              "      <td>227567</td>\n",
              "      <td>1377</td>\n",
              "      <td>667.0</td>\n",
              "      <td>41.0</td>\n",
              "      <td>1.000000</td>\n",
              "    </tr>\n",
              "  </tbody>\n",
              "</table>\n",
              "</div>"
            ],
            "text/plain": [
              "         date  positive  ...  deathIncrease       PCT\n",
              "61 2020-05-04     29368  ...           45.0  0.914720\n",
              "62 2020-05-05     29711  ...           66.0  0.925403\n",
              "63 2020-05-06     30696  ...           23.0  0.956083\n",
              "64 2020-05-07     31439  ...           25.0  0.979225\n",
              "65 2020-05-08     32106  ...           41.0  1.000000\n",
              "\n",
              "[5 rows x 7 columns]"
            ]
          },
          "metadata": {
            "tags": []
          },
          "execution_count": 74
        }
      ]
    },
    {
      "cell_type": "code",
      "metadata": {
        "id": "BTvuZKJN0RoI",
        "colab_type": "code",
        "outputId": "e72d0776-96ae-4c14-e456-5ec60663fc67",
        "colab": {
          "base_uri": "https://localhost:8080/",
          "height": 335
        }
      },
      "source": [
        "gbUSA.sum()[-5:]"
      ],
      "execution_count": 10,
      "outputs": [
        {
          "output_type": "execute_result",
          "data": {
            "text/html": [
              "<div>\n",
              "<style scoped>\n",
              "    .dataframe tbody tr th:only-of-type {\n",
              "        vertical-align: middle;\n",
              "    }\n",
              "\n",
              "    .dataframe tbody tr th {\n",
              "        vertical-align: top;\n",
              "    }\n",
              "\n",
              "    .dataframe thead th {\n",
              "        text-align: right;\n",
              "    }\n",
              "</style>\n",
              "<table border=\"1\" class=\"dataframe\">\n",
              "  <thead>\n",
              "    <tr style=\"text-align: right;\">\n",
              "      <th></th>\n",
              "      <th>positive</th>\n",
              "      <th>negative</th>\n",
              "      <th>pending</th>\n",
              "      <th>hospitalizedCurrently</th>\n",
              "      <th>hospitalizedCumulative</th>\n",
              "      <th>inIcuCurrently</th>\n",
              "      <th>inIcuCumulative</th>\n",
              "      <th>onVentilatorCurrently</th>\n",
              "      <th>onVentilatorCumulative</th>\n",
              "      <th>recovered</th>\n",
              "      <th>death</th>\n",
              "      <th>hospitalized</th>\n",
              "      <th>total</th>\n",
              "      <th>totalTestResults</th>\n",
              "      <th>posNeg</th>\n",
              "      <th>deathIncrease</th>\n",
              "      <th>hospitalizedIncrease</th>\n",
              "      <th>negativeIncrease</th>\n",
              "      <th>positiveIncrease</th>\n",
              "      <th>totalTestResultsIncrease</th>\n",
              "    </tr>\n",
              "    <tr>\n",
              "      <th>date</th>\n",
              "      <th></th>\n",
              "      <th></th>\n",
              "      <th></th>\n",
              "      <th></th>\n",
              "      <th></th>\n",
              "      <th></th>\n",
              "      <th></th>\n",
              "      <th></th>\n",
              "      <th></th>\n",
              "      <th></th>\n",
              "      <th></th>\n",
              "      <th></th>\n",
              "      <th></th>\n",
              "      <th></th>\n",
              "      <th></th>\n",
              "      <th></th>\n",
              "      <th></th>\n",
              "      <th></th>\n",
              "      <th></th>\n",
              "      <th></th>\n",
              "    </tr>\n",
              "  </thead>\n",
              "  <tbody>\n",
              "    <tr>\n",
              "      <th>2020-05-04</th>\n",
              "      <td>1173453</td>\n",
              "      <td>6111921</td>\n",
              "      <td>2791</td>\n",
              "      <td>50062.0</td>\n",
              "      <td>127397.0</td>\n",
              "      <td>9366.0</td>\n",
              "      <td>4579.0</td>\n",
              "      <td>4848.0</td>\n",
              "      <td>430.0</td>\n",
              "      <td>187180.0</td>\n",
              "      <td>62780</td>\n",
              "      <td>127397.0</td>\n",
              "      <td>7288165</td>\n",
              "      <td>7285374</td>\n",
              "      <td>7285374</td>\n",
              "      <td>912.0</td>\n",
              "      <td>1601.0</td>\n",
              "      <td>210561.0</td>\n",
              "      <td>21447.0</td>\n",
              "      <td>232008.0</td>\n",
              "    </tr>\n",
              "    <tr>\n",
              "      <th>2020-05-05</th>\n",
              "      <td>1195605</td>\n",
              "      <td>6348723</td>\n",
              "      <td>2633</td>\n",
              "      <td>50906.0</td>\n",
              "      <td>129357.0</td>\n",
              "      <td>9348.0</td>\n",
              "      <td>4794.0</td>\n",
              "      <td>4818.0</td>\n",
              "      <td>439.0</td>\n",
              "      <td>189791.0</td>\n",
              "      <td>65307</td>\n",
              "      <td>129357.0</td>\n",
              "      <td>7546961</td>\n",
              "      <td>7544328</td>\n",
              "      <td>7544328</td>\n",
              "      <td>2527.0</td>\n",
              "      <td>1960.0</td>\n",
              "      <td>236802.0</td>\n",
              "      <td>22152.0</td>\n",
              "      <td>258954.0</td>\n",
              "    </tr>\n",
              "    <tr>\n",
              "      <th>2020-05-06</th>\n",
              "      <td>1220557</td>\n",
              "      <td>6566236</td>\n",
              "      <td>2742</td>\n",
              "      <td>50227.0</td>\n",
              "      <td>131477.0</td>\n",
              "      <td>9380.0</td>\n",
              "      <td>4911.0</td>\n",
              "      <td>4753.0</td>\n",
              "      <td>449.0</td>\n",
              "      <td>189910.0</td>\n",
              "      <td>67256</td>\n",
              "      <td>131477.0</td>\n",
              "      <td>7789535</td>\n",
              "      <td>7786793</td>\n",
              "      <td>7786793</td>\n",
              "      <td>1949.0</td>\n",
              "      <td>2120.0</td>\n",
              "      <td>226826.0</td>\n",
              "      <td>24952.0</td>\n",
              "      <td>242465.0</td>\n",
              "    </tr>\n",
              "    <tr>\n",
              "      <th>2020-05-07</th>\n",
              "      <td>1248137</td>\n",
              "      <td>6857376</td>\n",
              "      <td>3171</td>\n",
              "      <td>49130.0</td>\n",
              "      <td>135176.0</td>\n",
              "      <td>12137.0</td>\n",
              "      <td>5174.0</td>\n",
              "      <td>7070.0</td>\n",
              "      <td>529.0</td>\n",
              "      <td>195036.0</td>\n",
              "      <td>70002</td>\n",
              "      <td>135176.0</td>\n",
              "      <td>8108684</td>\n",
              "      <td>8105513</td>\n",
              "      <td>8105513</td>\n",
              "      <td>2746.0</td>\n",
              "      <td>3699.0</td>\n",
              "      <td>291140.0</td>\n",
              "      <td>27580.0</td>\n",
              "      <td>318720.0</td>\n",
              "    </tr>\n",
              "    <tr>\n",
              "      <th>2020-05-08</th>\n",
              "      <td>1275916</td>\n",
              "      <td>7132872</td>\n",
              "      <td>3307</td>\n",
              "      <td>47718.0</td>\n",
              "      <td>142037.0</td>\n",
              "      <td>11780.0</td>\n",
              "      <td>6294.0</td>\n",
              "      <td>6788.0</td>\n",
              "      <td>531.0</td>\n",
              "      <td>198993.0</td>\n",
              "      <td>71762</td>\n",
              "      <td>142037.0</td>\n",
              "      <td>8412095</td>\n",
              "      <td>8408788</td>\n",
              "      <td>8408788</td>\n",
              "      <td>1760.0</td>\n",
              "      <td>6861.0</td>\n",
              "      <td>275496.0</td>\n",
              "      <td>27779.0</td>\n",
              "      <td>303275.0</td>\n",
              "    </tr>\n",
              "  </tbody>\n",
              "</table>\n",
              "</div>"
            ],
            "text/plain": [
              "            positive  negative  ...  positiveIncrease  totalTestResultsIncrease\n",
              "date                            ...                                            \n",
              "2020-05-04   1173453   6111921  ...           21447.0                  232008.0\n",
              "2020-05-05   1195605   6348723  ...           22152.0                  258954.0\n",
              "2020-05-06   1220557   6566236  ...           24952.0                  242465.0\n",
              "2020-05-07   1248137   6857376  ...           27580.0                  318720.0\n",
              "2020-05-08   1275916   7132872  ...           27779.0                  303275.0\n",
              "\n",
              "[5 rows x 20 columns]"
            ]
          },
          "metadata": {
            "tags": []
          },
          "execution_count": 10
        }
      ]
    },
    {
      "cell_type": "code",
      "metadata": {
        "id": "bjpo-qlGoA7A",
        "colab_type": "code",
        "outputId": "a6857316-27cf-486e-b125-136385eb5665",
        "colab": {
          "base_uri": "https://localhost:8080/",
          "height": 335
        }
      },
      "source": [
        "gbCA.sum()[-5:]"
      ],
      "execution_count": 11,
      "outputs": [
        {
          "output_type": "execute_result",
          "data": {
            "text/html": [
              "<div>\n",
              "<style scoped>\n",
              "    .dataframe tbody tr th:only-of-type {\n",
              "        vertical-align: middle;\n",
              "    }\n",
              "\n",
              "    .dataframe tbody tr th {\n",
              "        vertical-align: top;\n",
              "    }\n",
              "\n",
              "    .dataframe thead th {\n",
              "        text-align: right;\n",
              "    }\n",
              "</style>\n",
              "<table border=\"1\" class=\"dataframe\">\n",
              "  <thead>\n",
              "    <tr style=\"text-align: right;\">\n",
              "      <th></th>\n",
              "      <th>positive</th>\n",
              "      <th>negative</th>\n",
              "      <th>pending</th>\n",
              "      <th>hospitalizedCurrently</th>\n",
              "      <th>hospitalizedCumulative</th>\n",
              "      <th>inIcuCurrently</th>\n",
              "      <th>inIcuCumulative</th>\n",
              "      <th>onVentilatorCurrently</th>\n",
              "      <th>onVentilatorCumulative</th>\n",
              "      <th>recovered</th>\n",
              "      <th>death</th>\n",
              "      <th>hospitalized</th>\n",
              "      <th>total</th>\n",
              "      <th>totalTestResults</th>\n",
              "      <th>posNeg</th>\n",
              "      <th>deathIncrease</th>\n",
              "      <th>hospitalizedIncrease</th>\n",
              "      <th>negativeIncrease</th>\n",
              "      <th>positiveIncrease</th>\n",
              "      <th>totalTestResultsIncrease</th>\n",
              "    </tr>\n",
              "    <tr>\n",
              "      <th>date</th>\n",
              "      <th></th>\n",
              "      <th></th>\n",
              "      <th></th>\n",
              "      <th></th>\n",
              "      <th></th>\n",
              "      <th></th>\n",
              "      <th></th>\n",
              "      <th></th>\n",
              "      <th></th>\n",
              "      <th></th>\n",
              "      <th></th>\n",
              "      <th></th>\n",
              "      <th></th>\n",
              "      <th></th>\n",
              "      <th></th>\n",
              "      <th></th>\n",
              "      <th></th>\n",
              "      <th></th>\n",
              "      <th></th>\n",
              "      <th></th>\n",
              "    </tr>\n",
              "  </thead>\n",
              "  <tbody>\n",
              "    <tr>\n",
              "      <th>2020-05-04</th>\n",
              "      <td>29368</td>\n",
              "      <td>153957</td>\n",
              "      <td>0</td>\n",
              "      <td>0.0</td>\n",
              "      <td>5526.0</td>\n",
              "      <td>0.0</td>\n",
              "      <td>1284.0</td>\n",
              "      <td>0.0</td>\n",
              "      <td>0.0</td>\n",
              "      <td>0.0</td>\n",
              "      <td>1222</td>\n",
              "      <td>5526.0</td>\n",
              "      <td>183325</td>\n",
              "      <td>183325</td>\n",
              "      <td>183325</td>\n",
              "      <td>45.0</td>\n",
              "      <td>133.0</td>\n",
              "      <td>7463.0</td>\n",
              "      <td>766.0</td>\n",
              "      <td>8229.0</td>\n",
              "    </tr>\n",
              "    <tr>\n",
              "      <th>2020-05-05</th>\n",
              "      <td>29711</td>\n",
              "      <td>171172</td>\n",
              "      <td>0</td>\n",
              "      <td>0.0</td>\n",
              "      <td>5634.0</td>\n",
              "      <td>0.0</td>\n",
              "      <td>1318.0</td>\n",
              "      <td>0.0</td>\n",
              "      <td>0.0</td>\n",
              "      <td>0.0</td>\n",
              "      <td>1288</td>\n",
              "      <td>5634.0</td>\n",
              "      <td>200883</td>\n",
              "      <td>200883</td>\n",
              "      <td>200883</td>\n",
              "      <td>66.0</td>\n",
              "      <td>108.0</td>\n",
              "      <td>17215.0</td>\n",
              "      <td>343.0</td>\n",
              "      <td>17558.0</td>\n",
              "    </tr>\n",
              "    <tr>\n",
              "      <th>2020-05-06</th>\n",
              "      <td>30696</td>\n",
              "      <td>173441</td>\n",
              "      <td>0</td>\n",
              "      <td>0.0</td>\n",
              "      <td>5765.0</td>\n",
              "      <td>0.0</td>\n",
              "      <td>1343.0</td>\n",
              "      <td>0.0</td>\n",
              "      <td>0.0</td>\n",
              "      <td>0.0</td>\n",
              "      <td>1311</td>\n",
              "      <td>5765.0</td>\n",
              "      <td>204137</td>\n",
              "      <td>204137</td>\n",
              "      <td>204137</td>\n",
              "      <td>23.0</td>\n",
              "      <td>131.0</td>\n",
              "      <td>2269.0</td>\n",
              "      <td>985.0</td>\n",
              "      <td>3254.0</td>\n",
              "    </tr>\n",
              "    <tr>\n",
              "      <th>2020-05-07</th>\n",
              "      <td>31439</td>\n",
              "      <td>185864</td>\n",
              "      <td>0</td>\n",
              "      <td>0.0</td>\n",
              "      <td>5835.0</td>\n",
              "      <td>0.0</td>\n",
              "      <td>1374.0</td>\n",
              "      <td>0.0</td>\n",
              "      <td>0.0</td>\n",
              "      <td>0.0</td>\n",
              "      <td>1336</td>\n",
              "      <td>5835.0</td>\n",
              "      <td>217303</td>\n",
              "      <td>217303</td>\n",
              "      <td>217303</td>\n",
              "      <td>25.0</td>\n",
              "      <td>70.0</td>\n",
              "      <td>12423.0</td>\n",
              "      <td>743.0</td>\n",
              "      <td>13166.0</td>\n",
              "    </tr>\n",
              "    <tr>\n",
              "      <th>2020-05-08</th>\n",
              "      <td>32106</td>\n",
              "      <td>195461</td>\n",
              "      <td>0</td>\n",
              "      <td>0.0</td>\n",
              "      <td>5935.0</td>\n",
              "      <td>0.0</td>\n",
              "      <td>1399.0</td>\n",
              "      <td>0.0</td>\n",
              "      <td>0.0</td>\n",
              "      <td>0.0</td>\n",
              "      <td>1377</td>\n",
              "      <td>5935.0</td>\n",
              "      <td>227567</td>\n",
              "      <td>227567</td>\n",
              "      <td>227567</td>\n",
              "      <td>41.0</td>\n",
              "      <td>100.0</td>\n",
              "      <td>9597.0</td>\n",
              "      <td>667.0</td>\n",
              "      <td>10264.0</td>\n",
              "    </tr>\n",
              "  </tbody>\n",
              "</table>\n",
              "</div>"
            ],
            "text/plain": [
              "            positive  negative  ...  positiveIncrease  totalTestResultsIncrease\n",
              "date                            ...                                            \n",
              "2020-05-04     29368    153957  ...             766.0                    8229.0\n",
              "2020-05-05     29711    171172  ...             343.0                   17558.0\n",
              "2020-05-06     30696    173441  ...             985.0                    3254.0\n",
              "2020-05-07     31439    185864  ...             743.0                   13166.0\n",
              "2020-05-08     32106    195461  ...             667.0                   10264.0\n",
              "\n",
              "[5 rows x 20 columns]"
            ]
          },
          "metadata": {
            "tags": []
          },
          "execution_count": 11
        }
      ]
    },
    {
      "cell_type": "code",
      "metadata": {
        "id": "9wU8B3GVvIiD",
        "colab_type": "code",
        "outputId": "55e4c717-d4c2-42b4-d599-de6e887028d5",
        "colab": {
          "base_uri": "https://localhost:8080/",
          "height": 35
        }
      },
      "source": [
        "rn = gbCA.sum().loc['2020-05-02']\n",
        "rn.positive/rn.totalTestResults*100"
      ],
      "execution_count": 12,
      "outputs": [
        {
          "output_type": "execute_result",
          "data": {
            "text/plain": [
              "16.193363844393595"
            ]
          },
          "metadata": {
            "tags": []
          },
          "execution_count": 12
        }
      ]
    },
    {
      "cell_type": "code",
      "metadata": {
        "id": "916a0sCVdNRQ",
        "colab_type": "code",
        "outputId": "5a49c111-cf20-419c-da15-10db1b290868",
        "colab": {
          "base_uri": "https://localhost:8080/",
          "height": 302
        }
      },
      "source": [
        "x=gbUSA.sum().loc[:, ['positive', 'negative','death','total']].plot.line()"
      ],
      "execution_count": 13,
      "outputs": [
        {
          "output_type": "display_data",
          "data": {
            "image/png": "[encoded data removed]",
            "text/plain": [
              "<Figure size 432x288 with 1 Axes>"
            ]
          },
          "metadata": {
            "tags": [],
            "needs_background": "light"
          }
        }
      ]
    },
    {
      "cell_type": "code",
      "metadata": {
        "id": "WewkySHXaLc4",
        "colab_type": "code",
        "outputId": "8900ca05-6a3e-44f2-ebb7-560df830d216",
        "colab": {
          "base_uri": "https://localhost:8080/",
          "height": 498
        }
      },
      "source": [
        "dfWHO[-14:]"
      ],
      "execution_count": 14,
      "outputs": [
        {
          "output_type": "execute_result",
          "data": {
            "text/html": [
              "<div>\n",
              "<style scoped>\n",
              "    .dataframe tbody tr th:only-of-type {\n",
              "        vertical-align: middle;\n",
              "    }\n",
              "\n",
              "    .dataframe tbody tr th {\n",
              "        vertical-align: top;\n",
              "    }\n",
              "\n",
              "    .dataframe thead th {\n",
              "        text-align: right;\n",
              "    }\n",
              "</style>\n",
              "<table border=\"1\" class=\"dataframe\">\n",
              "  <thead>\n",
              "    <tr style=\"text-align: right;\">\n",
              "      <th></th>\n",
              "      <th>confirmed</th>\n",
              "      <th>who_deaths</th>\n",
              "    </tr>\n",
              "    <tr>\n",
              "      <th>date</th>\n",
              "      <th></th>\n",
              "      <th></th>\n",
              "    </tr>\n",
              "  </thead>\n",
              "  <tbody>\n",
              "    <tr>\n",
              "      <th>2020-04-25</th>\n",
              "      <td>860772</td>\n",
              "      <td>44053</td>\n",
              "    </tr>\n",
              "    <tr>\n",
              "      <th>2020-04-26</th>\n",
              "      <td>899281</td>\n",
              "      <td>46204</td>\n",
              "    </tr>\n",
              "    <tr>\n",
              "      <th>2020-04-27</th>\n",
              "      <td>931698</td>\n",
              "      <td>47980</td>\n",
              "    </tr>\n",
              "    <tr>\n",
              "      <th>2020-04-28</th>\n",
              "      <td>960916</td>\n",
              "      <td>49170</td>\n",
              "    </tr>\n",
              "    <tr>\n",
              "      <th>2020-04-29</th>\n",
              "      <td>983457</td>\n",
              "      <td>50492</td>\n",
              "    </tr>\n",
              "    <tr>\n",
              "      <th>2020-04-30</th>\n",
              "      <td>1003974</td>\n",
              "      <td>52428</td>\n",
              "    </tr>\n",
              "    <tr>\n",
              "      <th>2020-05-01</th>\n",
              "      <td>1035353</td>\n",
              "      <td>55337</td>\n",
              "    </tr>\n",
              "    <tr>\n",
              "      <th>2020-05-02</th>\n",
              "      <td>1067127</td>\n",
              "      <td>57406</td>\n",
              "    </tr>\n",
              "    <tr>\n",
              "      <th>2020-05-03</th>\n",
              "      <td>1093880</td>\n",
              "      <td>62406</td>\n",
              "    </tr>\n",
              "    <tr>\n",
              "      <th>2020-05-04</th>\n",
              "      <td>1125719</td>\n",
              "      <td>60710</td>\n",
              "    </tr>\n",
              "    <tr>\n",
              "      <th>2020-05-05</th>\n",
              "      <td>1154985</td>\n",
              "      <td>61906</td>\n",
              "    </tr>\n",
              "    <tr>\n",
              "      <th>2020-05-06</th>\n",
              "      <td>1171185</td>\n",
              "      <td>62698</td>\n",
              "    </tr>\n",
              "    <tr>\n",
              "      <th>2020-05-07</th>\n",
              "      <td>1193452</td>\n",
              "      <td>65197</td>\n",
              "    </tr>\n",
              "    <tr>\n",
              "      <th>2020-05-08</th>\n",
              "      <td>1215571</td>\n",
              "      <td>67146</td>\n",
              "    </tr>\n",
              "  </tbody>\n",
              "</table>\n",
              "</div>"
            ],
            "text/plain": [
              "            confirmed  who_deaths\n",
              "date                             \n",
              "2020-04-25     860772       44053\n",
              "2020-04-26     899281       46204\n",
              "2020-04-27     931698       47980\n",
              "2020-04-28     960916       49170\n",
              "2020-04-29     983457       50492\n",
              "2020-04-30    1003974       52428\n",
              "2020-05-01    1035353       55337\n",
              "2020-05-02    1067127       57406\n",
              "2020-05-03    1093880       62406\n",
              "2020-05-04    1125719       60710\n",
              "2020-05-05    1154985       61906\n",
              "2020-05-06    1171185       62698\n",
              "2020-05-07    1193452       65197\n",
              "2020-05-08    1215571       67146"
            ]
          },
          "metadata": {
            "tags": []
          },
          "execution_count": 14
        }
      ]
    },
    {
      "cell_type": "code",
      "metadata": {
        "id": "Ftv2uSph2y7_",
        "colab_type": "code",
        "outputId": "f2c6f0c5-0589-4b21-d6dd-4c535fe77468",
        "colab": {
          "base_uri": "https://localhost:8080/",
          "height": 320
        }
      },
      "source": [
        "dfResults = gbUSA.sum().join(dfWHO, how='left', rsuffix='_who' )\n",
        "dfResults.loc[:, ['positive', 'confirmed']].plot.line()"
      ],
      "execution_count": 15,
      "outputs": [
        {
          "output_type": "execute_result",
          "data": {
            "text/plain": [
              "<matplotlib.axes._subplots.AxesSubplot at 0x7fb4309e75c0>"
            ]
          },
          "metadata": {
            "tags": []
          },
          "execution_count": 15
        },
        {
          "output_type": "display_data",
          "data": {
            "image/png": "[encoded data removed]",
            "text/plain": [
              "<Figure size 432x288 with 1 Axes>"
            ]
          },
          "metadata": {
            "tags": [],
            "needs_background": "light"
          }
        }
      ]
    },
    {
      "cell_type": "code",
      "metadata": {
        "id": "DTXXmezEHYPV",
        "colab_type": "code",
        "colab": {}
      },
      "source": [
        ""
      ],
      "execution_count": 0,
      "outputs": []
    },
    {
      "cell_type": "code",
      "metadata": {
        "colab_type": "code",
        "id": "55lq16z8w_Ec",
        "outputId": "e6d88ec0-7a62-4817-ec9d-8e8db2611484",
        "colab": {
          "base_uri": "https://localhost:8080/",
          "height": 429
        }
      },
      "source": [
        "gbCA.sum()[-7:]"
      ],
      "execution_count": 16,
      "outputs": [
        {
          "output_type": "execute_result",
          "data": {
            "text/html": [
              "<div>\n",
              "<style scoped>\n",
              "    .dataframe tbody tr th:only-of-type {\n",
              "        vertical-align: middle;\n",
              "    }\n",
              "\n",
              "    .dataframe tbody tr th {\n",
              "        vertical-align: top;\n",
              "    }\n",
              "\n",
              "    .dataframe thead th {\n",
              "        text-align: right;\n",
              "    }\n",
              "</style>\n",
              "<table border=\"1\" class=\"dataframe\">\n",
              "  <thead>\n",
              "    <tr style=\"text-align: right;\">\n",
              "      <th></th>\n",
              "      <th>positive</th>\n",
              "      <th>negative</th>\n",
              "      <th>pending</th>\n",
              "      <th>hospitalizedCurrently</th>\n",
              "      <th>hospitalizedCumulative</th>\n",
              "      <th>inIcuCurrently</th>\n",
              "      <th>inIcuCumulative</th>\n",
              "      <th>onVentilatorCurrently</th>\n",
              "      <th>onVentilatorCumulative</th>\n",
              "      <th>recovered</th>\n",
              "      <th>death</th>\n",
              "      <th>hospitalized</th>\n",
              "      <th>total</th>\n",
              "      <th>totalTestResults</th>\n",
              "      <th>posNeg</th>\n",
              "      <th>deathIncrease</th>\n",
              "      <th>hospitalizedIncrease</th>\n",
              "      <th>negativeIncrease</th>\n",
              "      <th>positiveIncrease</th>\n",
              "      <th>totalTestResultsIncrease</th>\n",
              "    </tr>\n",
              "    <tr>\n",
              "      <th>date</th>\n",
              "      <th></th>\n",
              "      <th></th>\n",
              "      <th></th>\n",
              "      <th></th>\n",
              "      <th></th>\n",
              "      <th></th>\n",
              "      <th></th>\n",
              "      <th></th>\n",
              "      <th></th>\n",
              "      <th></th>\n",
              "      <th></th>\n",
              "      <th></th>\n",
              "      <th></th>\n",
              "      <th></th>\n",
              "      <th></th>\n",
              "      <th></th>\n",
              "      <th></th>\n",
              "      <th></th>\n",
              "      <th></th>\n",
              "      <th></th>\n",
              "    </tr>\n",
              "  </thead>\n",
              "  <tbody>\n",
              "    <tr>\n",
              "      <th>2020-05-02</th>\n",
              "      <td>28306</td>\n",
              "      <td>146494</td>\n",
              "      <td>0</td>\n",
              "      <td>0.0</td>\n",
              "      <td>5387.0</td>\n",
              "      <td>0.0</td>\n",
              "      <td>1247.0</td>\n",
              "      <td>0.0</td>\n",
              "      <td>0.0</td>\n",
              "      <td>0.0</td>\n",
              "      <td>1174</td>\n",
              "      <td>5387.0</td>\n",
              "      <td>174800</td>\n",
              "      <td>174800</td>\n",
              "      <td>174800</td>\n",
              "      <td>20.0</td>\n",
              "      <td>118.0</td>\n",
              "      <td>5397.0</td>\n",
              "      <td>1036.0</td>\n",
              "      <td>6433.0</td>\n",
              "    </tr>\n",
              "    <tr>\n",
              "      <th>2020-05-03</th>\n",
              "      <td>28602</td>\n",
              "      <td>146494</td>\n",
              "      <td>0</td>\n",
              "      <td>0.0</td>\n",
              "      <td>5393.0</td>\n",
              "      <td>0.0</td>\n",
              "      <td>1249.0</td>\n",
              "      <td>0.0</td>\n",
              "      <td>0.0</td>\n",
              "      <td>0.0</td>\n",
              "      <td>1177</td>\n",
              "      <td>5393.0</td>\n",
              "      <td>175096</td>\n",
              "      <td>175096</td>\n",
              "      <td>175096</td>\n",
              "      <td>3.0</td>\n",
              "      <td>6.0</td>\n",
              "      <td>0.0</td>\n",
              "      <td>296.0</td>\n",
              "      <td>296.0</td>\n",
              "    </tr>\n",
              "    <tr>\n",
              "      <th>2020-05-04</th>\n",
              "      <td>29368</td>\n",
              "      <td>153957</td>\n",
              "      <td>0</td>\n",
              "      <td>0.0</td>\n",
              "      <td>5526.0</td>\n",
              "      <td>0.0</td>\n",
              "      <td>1284.0</td>\n",
              "      <td>0.0</td>\n",
              "      <td>0.0</td>\n",
              "      <td>0.0</td>\n",
              "      <td>1222</td>\n",
              "      <td>5526.0</td>\n",
              "      <td>183325</td>\n",
              "      <td>183325</td>\n",
              "      <td>183325</td>\n",
              "      <td>45.0</td>\n",
              "      <td>133.0</td>\n",
              "      <td>7463.0</td>\n",
              "      <td>766.0</td>\n",
              "      <td>8229.0</td>\n",
              "    </tr>\n",
              "    <tr>\n",
              "      <th>2020-05-05</th>\n",
              "      <td>29711</td>\n",
              "      <td>171172</td>\n",
              "      <td>0</td>\n",
              "      <td>0.0</td>\n",
              "      <td>5634.0</td>\n",
              "      <td>0.0</td>\n",
              "      <td>1318.0</td>\n",
              "      <td>0.0</td>\n",
              "      <td>0.0</td>\n",
              "      <td>0.0</td>\n",
              "      <td>1288</td>\n",
              "      <td>5634.0</td>\n",
              "      <td>200883</td>\n",
              "      <td>200883</td>\n",
              "      <td>200883</td>\n",
              "      <td>66.0</td>\n",
              "      <td>108.0</td>\n",
              "      <td>17215.0</td>\n",
              "      <td>343.0</td>\n",
              "      <td>17558.0</td>\n",
              "    </tr>\n",
              "    <tr>\n",
              "      <th>2020-05-06</th>\n",
              "      <td>30696</td>\n",
              "      <td>173441</td>\n",
              "      <td>0</td>\n",
              "      <td>0.0</td>\n",
              "      <td>5765.0</td>\n",
              "      <td>0.0</td>\n",
              "      <td>1343.0</td>\n",
              "      <td>0.0</td>\n",
              "      <td>0.0</td>\n",
              "      <td>0.0</td>\n",
              "      <td>1311</td>\n",
              "      <td>5765.0</td>\n",
              "      <td>204137</td>\n",
              "      <td>204137</td>\n",
              "      <td>204137</td>\n",
              "      <td>23.0</td>\n",
              "      <td>131.0</td>\n",
              "      <td>2269.0</td>\n",
              "      <td>985.0</td>\n",
              "      <td>3254.0</td>\n",
              "    </tr>\n",
              "    <tr>\n",
              "      <th>2020-05-07</th>\n",
              "      <td>31439</td>\n",
              "      <td>185864</td>\n",
              "      <td>0</td>\n",
              "      <td>0.0</td>\n",
              "      <td>5835.0</td>\n",
              "      <td>0.0</td>\n",
              "      <td>1374.0</td>\n",
              "      <td>0.0</td>\n",
              "      <td>0.0</td>\n",
              "      <td>0.0</td>\n",
              "      <td>1336</td>\n",
              "      <td>5835.0</td>\n",
              "      <td>217303</td>\n",
              "      <td>217303</td>\n",
              "      <td>217303</td>\n",
              "      <td>25.0</td>\n",
              "      <td>70.0</td>\n",
              "      <td>12423.0</td>\n",
              "      <td>743.0</td>\n",
              "      <td>13166.0</td>\n",
              "    </tr>\n",
              "    <tr>\n",
              "      <th>2020-05-08</th>\n",
              "      <td>32106</td>\n",
              "      <td>195461</td>\n",
              "      <td>0</td>\n",
              "      <td>0.0</td>\n",
              "      <td>5935.0</td>\n",
              "      <td>0.0</td>\n",
              "      <td>1399.0</td>\n",
              "      <td>0.0</td>\n",
              "      <td>0.0</td>\n",
              "      <td>0.0</td>\n",
              "      <td>1377</td>\n",
              "      <td>5935.0</td>\n",
              "      <td>227567</td>\n",
              "      <td>227567</td>\n",
              "      <td>227567</td>\n",
              "      <td>41.0</td>\n",
              "      <td>100.0</td>\n",
              "      <td>9597.0</td>\n",
              "      <td>667.0</td>\n",
              "      <td>10264.0</td>\n",
              "    </tr>\n",
              "  </tbody>\n",
              "</table>\n",
              "</div>"
            ],
            "text/plain": [
              "            positive  negative  ...  positiveIncrease  totalTestResultsIncrease\n",
              "date                            ...                                            \n",
              "2020-05-02     28306    146494  ...            1036.0                    6433.0\n",
              "2020-05-03     28602    146494  ...             296.0                     296.0\n",
              "2020-05-04     29368    153957  ...             766.0                    8229.0\n",
              "2020-05-05     29711    171172  ...             343.0                   17558.0\n",
              "2020-05-06     30696    173441  ...             985.0                    3254.0\n",
              "2020-05-07     31439    185864  ...             743.0                   13166.0\n",
              "2020-05-08     32106    195461  ...             667.0                   10264.0\n",
              "\n",
              "[7 rows x 20 columns]"
            ]
          },
          "metadata": {
            "tags": []
          },
          "execution_count": 16
        }
      ]
    },
    {
      "cell_type": "code",
      "metadata": {
        "id": "3WBkdfv2eLEc",
        "colab_type": "code",
        "outputId": "3bdc458c-c67a-42c0-f181-4222b0884156",
        "colab": {
          "base_uri": "https://localhost:8080/",
          "height": 72
        }
      },
      "source": [
        "dfJHUData[dfJHUData.country=='US'][['confirmed', 'dead']].sum()"
      ],
      "execution_count": 17,
      "outputs": [
        {
          "output_type": "execute_result",
          "data": {
            "text/plain": [
              "confirmed    1257023\n",
              "dead           75662\n",
              "dtype: int64"
            ]
          },
          "metadata": {
            "tags": []
          },
          "execution_count": 17
        }
      ]
    },
    {
      "cell_type": "code",
      "metadata": {
        "id": "NUQ35Inse05H",
        "colab_type": "code",
        "outputId": "21b32918-0025-4915-ffd8-7a21a875e835",
        "colab": {
          "base_uri": "https://localhost:8080/",
          "height": 72
        }
      },
      "source": [
        "dfJHUData[(dfJHUData.country=='US')&(dfJHUData.state=='California')][['confirmed', 'dead']].sum()"
      ],
      "execution_count": 18,
      "outputs": [
        {
          "output_type": "execute_result",
          "data": {
            "text/plain": [
              "confirmed    62148\n",
              "dead          2535\n",
              "dtype: int64"
            ]
          },
          "metadata": {
            "tags": []
          },
          "execution_count": 18
        }
      ]
    },
    {
      "cell_type": "code",
      "metadata": {
        "id": "H0JVVTFGfMOW",
        "colab_type": "code",
        "colab": {}
      },
      "source": [
        "dfJHUUS = dfJHUData[dfJHUData.country=='US']\n",
        "gbJHUByState= dfJHUUS.groupby(by='state')\n",
        "gbJHUByCountry = dfJHUData.groupby(by='country')"
      ],
      "execution_count": 0,
      "outputs": []
    },
    {
      "cell_type": "code",
      "metadata": {
        "id": "W8qWd0AYmg58",
        "colab_type": "code",
        "outputId": "6210efa4-68b4-40ae-a405-37b3a75c7521",
        "colab": {
          "base_uri": "https://localhost:8080/",
          "height": 235
        }
      },
      "source": [
        "gbJHUByCountry.confirmed.sum().sort_values(ascending=False).head(10)"
      ],
      "execution_count": 20,
      "outputs": [
        {
          "output_type": "execute_result",
          "data": {
            "text/plain": [
              "country\n",
              "US                1257023\n",
              "Spain              221447\n",
              "Italy              215858\n",
              "United Kingdom     207977\n",
              "Russia             177160\n",
              "France             174918\n",
              "Germany            169430\n",
              "Brazil             135773\n",
              "Turkey             133721\n",
              "Iran               103135\n",
              "Name: confirmed, dtype: int64"
            ]
          },
          "metadata": {
            "tags": []
          },
          "execution_count": 20
        }
      ]
    },
    {
      "cell_type": "code",
      "metadata": {
        "id": "9crIlvPH4oSU",
        "colab_type": "code",
        "colab": {}
      },
      "source": [
        "dfData = dfCovidtracking.groupby('date')"
      ],
      "execution_count": 0,
      "outputs": []
    },
    {
      "cell_type": "code",
      "metadata": {
        "id": "SjlCtiOt2b__",
        "colab_type": "code",
        "colab": {}
      },
      "source": [
        "dfStateTotal = dfCovidtracking[['state', 'positive']].groupby(by='state').max() \\\n",
        ".rename(columns={'positive':'current_total'})\n"
      ],
      "execution_count": 0,
      "outputs": []
    },
    {
      "cell_type": "code",
      "metadata": {
        "id": "iPsfvvHC2_j1",
        "colab_type": "code",
        "colab": {}
      },
      "source": [
        "dfState = dfCovidtracking[['date','state','positive', 'death']].set_index('state') \\\n",
        "  .join(dfStateTotal)"
      ],
      "execution_count": 0,
      "outputs": []
    },
    {
      "cell_type": "code",
      "metadata": {
        "id": "AkxH55Mx5yE6",
        "colab_type": "code",
        "colab": {}
      },
      "source": [
        "dfState['pct']=dfState.positive/dfState.current_total"
      ],
      "execution_count": 0,
      "outputs": []
    },
    {
      "cell_type": "code",
      "metadata": {
        "id": "PKQ2rgz76XZR",
        "colab_type": "code",
        "outputId": "b0373134-1a44-4c35-de51-1df497d30b69",
        "colab": {
          "base_uri": "https://localhost:8080/",
          "height": 288
        }
      },
      "source": [
        "dfState.loc['FL'].head(7)"
      ],
      "execution_count": 25,
      "outputs": [
        {
          "output_type": "execute_result",
          "data": {
            "text/html": [
              "<div>\n",
              "<style scoped>\n",
              "    .dataframe tbody tr th:only-of-type {\n",
              "        vertical-align: middle;\n",
              "    }\n",
              "\n",
              "    .dataframe tbody tr th {\n",
              "        vertical-align: top;\n",
              "    }\n",
              "\n",
              "    .dataframe thead th {\n",
              "        text-align: right;\n",
              "    }\n",
              "</style>\n",
              "<table border=\"1\" class=\"dataframe\">\n",
              "  <thead>\n",
              "    <tr style=\"text-align: right;\">\n",
              "      <th></th>\n",
              "      <th>date</th>\n",
              "      <th>positive</th>\n",
              "      <th>death</th>\n",
              "      <th>current_total</th>\n",
              "      <th>pct</th>\n",
              "    </tr>\n",
              "    <tr>\n",
              "      <th>state</th>\n",
              "      <th></th>\n",
              "      <th></th>\n",
              "      <th></th>\n",
              "      <th></th>\n",
              "      <th></th>\n",
              "    </tr>\n",
              "  </thead>\n",
              "  <tbody>\n",
              "    <tr>\n",
              "      <th>FL</th>\n",
              "      <td>2020-05-08</td>\n",
              "      <td>39199</td>\n",
              "      <td>1738</td>\n",
              "      <td>39199</td>\n",
              "      <td>1.000000</td>\n",
              "    </tr>\n",
              "    <tr>\n",
              "      <th>FL</th>\n",
              "      <td>2020-05-07</td>\n",
              "      <td>38828</td>\n",
              "      <td>1667</td>\n",
              "      <td>39199</td>\n",
              "      <td>0.990535</td>\n",
              "    </tr>\n",
              "    <tr>\n",
              "      <th>FL</th>\n",
              "      <td>2020-05-06</td>\n",
              "      <td>38002</td>\n",
              "      <td>1605</td>\n",
              "      <td>39199</td>\n",
              "      <td>0.969464</td>\n",
              "    </tr>\n",
              "    <tr>\n",
              "      <th>FL</th>\n",
              "      <td>2020-05-05</td>\n",
              "      <td>37439</td>\n",
              "      <td>1536</td>\n",
              "      <td>39199</td>\n",
              "      <td>0.955101</td>\n",
              "    </tr>\n",
              "    <tr>\n",
              "      <th>FL</th>\n",
              "      <td>2020-05-04</td>\n",
              "      <td>36897</td>\n",
              "      <td>1423</td>\n",
              "      <td>39199</td>\n",
              "      <td>0.941274</td>\n",
              "    </tr>\n",
              "    <tr>\n",
              "      <th>FL</th>\n",
              "      <td>2020-05-03</td>\n",
              "      <td>36078</td>\n",
              "      <td>1403</td>\n",
              "      <td>39199</td>\n",
              "      <td>0.920381</td>\n",
              "    </tr>\n",
              "    <tr>\n",
              "      <th>FL</th>\n",
              "      <td>2020-05-02</td>\n",
              "      <td>35463</td>\n",
              "      <td>1388</td>\n",
              "      <td>39199</td>\n",
              "      <td>0.904691</td>\n",
              "    </tr>\n",
              "  </tbody>\n",
              "</table>\n",
              "</div>"
            ],
            "text/plain": [
              "            date  positive  death  current_total       pct\n",
              "state                                                     \n",
              "FL    2020-05-08     39199   1738          39199  1.000000\n",
              "FL    2020-05-07     38828   1667          39199  0.990535\n",
              "FL    2020-05-06     38002   1605          39199  0.969464\n",
              "FL    2020-05-05     37439   1536          39199  0.955101\n",
              "FL    2020-05-04     36897   1423          39199  0.941274\n",
              "FL    2020-05-03     36078   1403          39199  0.920381\n",
              "FL    2020-05-02     35463   1388          39199  0.904691"
            ]
          },
          "metadata": {
            "tags": []
          },
          "execution_count": 25
        }
      ]
    },
    {
      "cell_type": "code",
      "metadata": {
        "id": "dkgVF6Q19glV",
        "colab_type": "code",
        "colab": {}
      },
      "source": [
        "res = dfState.reset_index().pivot(index = 'date', columns='state', values='pct').fillna(0)"
      ],
      "execution_count": 0,
      "outputs": []
    },
    {
      "cell_type": "code",
      "metadata": {
        "id": "w1ml4KC6BF7q",
        "colab_type": "code",
        "outputId": "d562db85-19f4-409d-afbf-bbc6a1a7b515",
        "colab": {
          "base_uri": "https://localhost:8080/",
          "height": 291
        }
      },
      "source": [
        "x = res.loc[:, ['CA','FL']].plot.line()"
      ],
      "execution_count": 27,
      "outputs": [
        {
          "output_type": "display_data",
          "data": {
            "image/png": "[encoded data removed]",
            "text/plain": [
              "<Figure size 432x288 with 1 Axes>"
            ]
          },
          "metadata": {
            "tags": [],
            "needs_background": "light"
          }
        }
      ]
    },
    {
      "cell_type": "code",
      "metadata": {
        "id": "eaLSwLbuBLY0",
        "colab_type": "code",
        "colab": {}
      },
      "source": [
        "dfNYTesting = dfCovidtracking.loc[dfCovidtracking.state=='NY', ['date', 'negative']].set_index('date')"
      ],
      "execution_count": 0,
      "outputs": []
    },
    {
      "cell_type": "code",
      "metadata": {
        "id": "vhL4WBWECIhP",
        "colab_type": "code",
        "outputId": "29dd786d-adcf-476b-ff83-984782415e18",
        "colab": {
          "base_uri": "https://localhost:8080/",
          "height": 462
        }
      },
      "source": [
        "x = dfCovidtracking.groupby(by='date')\n",
        "y1=x.sum()[-33:].deathIncrease.plot.line(figsize=(40,20), fontsize=36, \\\n",
        "  style='.-', markersize=48, color='red', linewidth=4) \\\n",
        ".legend(['Daily Additional Deaths'],fontsize=32)\n"
      ],
      "execution_count": 29,
      "outputs": [
        {
          "output_type": "display_data",
          "data": {
            "image/png": "[encoded data removed]",
            "text/plain": [
              "<Figure size 2880x1440 with 1 Axes>"
            ]
          },
          "metadata": {
            "tags": [],
            "needs_background": "light"
          }
        }
      ]
    },
    {
      "cell_type": "code",
      "metadata": {
        "colab_type": "code",
        "outputId": "e5f4cf82-76a1-4ef6-d240-c4fffc213a60",
        "id": "tU6xIJWlPyp5",
        "colab": {
          "base_uri": "https://localhost:8080/",
          "height": 458
        }
      },
      "source": [
        "x = dfCovidtracking.groupby(by='date')\n",
        "y1=x.sum()[-33:-3].positiveIncrease.plot.line(figsize=(40,20), fontsize=36, \\\n",
        "  style='.-', markersize=48, color='red', linewidth=4) \\\n",
        ".legend(['Daily Additional Positive Tests'],fontsize=32)\n"
      ],
      "execution_count": 30,
      "outputs": [
        {
          "output_type": "display_data",
          "data": {
            "image/png": "[encoded data removed]",
            "text/plain": [
              "<Figure size 2880x1440 with 1 Axes>"
            ]
          },
          "metadata": {
            "tags": [],
            "needs_background": "light"
          }
        }
      ]
    },
    {
      "cell_type": "code",
      "metadata": {
        "id": "NjDtqBrvDRMu",
        "colab_type": "code",
        "colab": {}
      },
      "source": [
        "def getWeek(dt):\n",
        "  return (dt.year*100)+dt.week\n",
        "\n",
        "dfByWeekYear = dfCovidtracking.set_index('date')[['deathIncrease', 'hospitalizedIncrease', 'negativeIncrease','positiveIncrease','totalTestResultsIncrease']].groupby(by=getWeek)\n"
      ],
      "execution_count": 0,
      "outputs": []
    },
    {
      "cell_type": "code",
      "metadata": {
        "colab_type": "code",
        "id": "z3kBSyO3Dvf7",
        "colab": {}
      },
      "source": [
        "def getWeek(dt):\n",
        "  return (dt.year*100)+dt.week\n",
        "\n",
        "dfDoW = dfCovidtracking.set_index('date')[['deathIncrease', 'hospitalizedIncrease', 'negativeIncrease','positiveIncrease','totalTestResultsIncrease']].groupby(by=lambda x: x.dayofweek)\n"
      ],
      "execution_count": 0,
      "outputs": []
    },
    {
      "cell_type": "code",
      "metadata": {
        "id": "Tz1eYggwEWXR",
        "colab_type": "code",
        "outputId": "9950c521-146f-44e0-a21e-64780b817027",
        "colab": {
          "base_uri": "https://localhost:8080/",
          "height": 163
        }
      },
      "source": [
        "dfDoW.sum().deathIncrease\n",
        "\n"
      ],
      "execution_count": 33,
      "outputs": [
        {
          "output_type": "execute_result",
          "data": {
            "text/plain": [
              "0     7186.0\n",
              "1    12474.0\n",
              "2    12357.0\n",
              "3    12216.0\n",
              "4    11135.0\n",
              "5     9063.0\n",
              "6     7331.0\n",
              "Name: deathIncrease, dtype: float64"
            ]
          },
          "metadata": {
            "tags": []
          },
          "execution_count": 33
        }
      ]
    },
    {
      "cell_type": "code",
      "metadata": {
        "id": "DzuSLqz6FnWX",
        "colab_type": "code",
        "outputId": "fe40f850-30ed-4e0c-d0e3-459cd9fcb3eb",
        "colab": {
          "base_uri": "https://localhost:8080/",
          "height": 630
        }
      },
      "source": [
        "dfCovidtracking.set_index('date')[['deathIncrease', 'hospitalizedIncrease', 'negativeIncrease','positiveIncrease','totalTestResultsIncrease']]\n"
      ],
      "execution_count": 34,
      "outputs": [
        {
          "output_type": "execute_result",
          "data": {
            "text/html": [
              "<div>\n",
              "<style scoped>\n",
              "    .dataframe tbody tr th:only-of-type {\n",
              "        vertical-align: middle;\n",
              "    }\n",
              "\n",
              "    .dataframe tbody tr th {\n",
              "        vertical-align: top;\n",
              "    }\n",
              "\n",
              "    .dataframe thead th {\n",
              "        text-align: right;\n",
              "    }\n",
              "</style>\n",
              "<table border=\"1\" class=\"dataframe\">\n",
              "  <thead>\n",
              "    <tr style=\"text-align: right;\">\n",
              "      <th></th>\n",
              "      <th>deathIncrease</th>\n",
              "      <th>hospitalizedIncrease</th>\n",
              "      <th>negativeIncrease</th>\n",
              "      <th>positiveIncrease</th>\n",
              "      <th>totalTestResultsIncrease</th>\n",
              "    </tr>\n",
              "    <tr>\n",
              "      <th>date</th>\n",
              "      <th></th>\n",
              "      <th></th>\n",
              "      <th></th>\n",
              "      <th></th>\n",
              "      <th></th>\n",
              "    </tr>\n",
              "  </thead>\n",
              "  <tbody>\n",
              "    <tr>\n",
              "      <th>2020-05-08</th>\n",
              "      <td>0.0</td>\n",
              "      <td>0.0</td>\n",
              "      <td>1129.0</td>\n",
              "      <td>3.0</td>\n",
              "      <td>1132.0</td>\n",
              "    </tr>\n",
              "    <tr>\n",
              "      <th>2020-05-08</th>\n",
              "      <td>26.0</td>\n",
              "      <td>29.0</td>\n",
              "      <td>4618.0</td>\n",
              "      <td>323.0</td>\n",
              "      <td>4941.0</td>\n",
              "    </tr>\n",
              "    <tr>\n",
              "      <th>2020-05-08</th>\n",
              "      <td>1.0</td>\n",
              "      <td>4.0</td>\n",
              "      <td>3916.0</td>\n",
              "      <td>83.0</td>\n",
              "      <td>3999.0</td>\n",
              "    </tr>\n",
              "    <tr>\n",
              "      <th>2020-05-08</th>\n",
              "      <td>0.0</td>\n",
              "      <td>0.0</td>\n",
              "      <td>0.0</td>\n",
              "      <td>0.0</td>\n",
              "      <td>0.0</td>\n",
              "    </tr>\n",
              "    <tr>\n",
              "      <th>2020-05-08</th>\n",
              "      <td>67.0</td>\n",
              "      <td>33.0</td>\n",
              "      <td>8240.0</td>\n",
              "      <td>581.0</td>\n",
              "      <td>8821.0</td>\n",
              "    </tr>\n",
              "    <tr>\n",
              "      <th>...</th>\n",
              "      <td>...</td>\n",
              "      <td>...</td>\n",
              "      <td>...</td>\n",
              "      <td>...</td>\n",
              "      <td>...</td>\n",
              "    </tr>\n",
              "    <tr>\n",
              "      <th>2020-01-26</th>\n",
              "      <td>0.0</td>\n",
              "      <td>0.0</td>\n",
              "      <td>0.0</td>\n",
              "      <td>0.0</td>\n",
              "      <td>0.0</td>\n",
              "    </tr>\n",
              "    <tr>\n",
              "      <th>2020-01-25</th>\n",
              "      <td>0.0</td>\n",
              "      <td>0.0</td>\n",
              "      <td>0.0</td>\n",
              "      <td>0.0</td>\n",
              "      <td>0.0</td>\n",
              "    </tr>\n",
              "    <tr>\n",
              "      <th>2020-01-24</th>\n",
              "      <td>0.0</td>\n",
              "      <td>0.0</td>\n",
              "      <td>0.0</td>\n",
              "      <td>0.0</td>\n",
              "      <td>0.0</td>\n",
              "    </tr>\n",
              "    <tr>\n",
              "      <th>2020-01-23</th>\n",
              "      <td>0.0</td>\n",
              "      <td>0.0</td>\n",
              "      <td>0.0</td>\n",
              "      <td>0.0</td>\n",
              "      <td>0.0</td>\n",
              "    </tr>\n",
              "    <tr>\n",
              "      <th>2020-01-22</th>\n",
              "      <td>0.0</td>\n",
              "      <td>0.0</td>\n",
              "      <td>0.0</td>\n",
              "      <td>0.0</td>\n",
              "      <td>0.0</td>\n",
              "    </tr>\n",
              "  </tbody>\n",
              "</table>\n",
              "<p>3601 rows × 5 columns</p>\n",
              "</div>"
            ],
            "text/plain": [
              "            deathIncrease  ...  totalTestResultsIncrease\n",
              "date                       ...                          \n",
              "2020-05-08            0.0  ...                    1132.0\n",
              "2020-05-08           26.0  ...                    4941.0\n",
              "2020-05-08            1.0  ...                    3999.0\n",
              "2020-05-08            0.0  ...                       0.0\n",
              "2020-05-08           67.0  ...                    8821.0\n",
              "...                   ...  ...                       ...\n",
              "2020-01-26            0.0  ...                       0.0\n",
              "2020-01-25            0.0  ...                       0.0\n",
              "2020-01-24            0.0  ...                       0.0\n",
              "2020-01-23            0.0  ...                       0.0\n",
              "2020-01-22            0.0  ...                       0.0\n",
              "\n",
              "[3601 rows x 5 columns]"
            ]
          },
          "metadata": {
            "tags": []
          },
          "execution_count": 34
        }
      ]
    },
    {
      "cell_type": "code",
      "metadata": {
        "id": "QlApKolYEeQk",
        "colab_type": "code",
        "outputId": "989e731e-f400-4113-e759-09a04285a6dd",
        "colab": {
          "base_uri": "https://localhost:8080/",
          "height": 518
        }
      },
      "source": [
        "dfByWeekYear.sum()[:-1]"
      ],
      "execution_count": 35,
      "outputs": [
        {
          "output_type": "execute_result",
          "data": {
            "text/html": [
              "<div>\n",
              "<style scoped>\n",
              "    .dataframe tbody tr th:only-of-type {\n",
              "        vertical-align: middle;\n",
              "    }\n",
              "\n",
              "    .dataframe tbody tr th {\n",
              "        vertical-align: top;\n",
              "    }\n",
              "\n",
              "    .dataframe thead th {\n",
              "        text-align: right;\n",
              "    }\n",
              "</style>\n",
              "<table border=\"1\" class=\"dataframe\">\n",
              "  <thead>\n",
              "    <tr style=\"text-align: right;\">\n",
              "      <th></th>\n",
              "      <th>deathIncrease</th>\n",
              "      <th>hospitalizedIncrease</th>\n",
              "      <th>negativeIncrease</th>\n",
              "      <th>positiveIncrease</th>\n",
              "      <th>totalTestResultsIncrease</th>\n",
              "    </tr>\n",
              "  </thead>\n",
              "  <tbody>\n",
              "    <tr>\n",
              "      <th>202004</th>\n",
              "      <td>0.0</td>\n",
              "      <td>0.0</td>\n",
              "      <td>0.0</td>\n",
              "      <td>0.0</td>\n",
              "      <td>0.0</td>\n",
              "    </tr>\n",
              "    <tr>\n",
              "      <th>202005</th>\n",
              "      <td>0.0</td>\n",
              "      <td>0.0</td>\n",
              "      <td>0.0</td>\n",
              "      <td>0.0</td>\n",
              "      <td>0.0</td>\n",
              "    </tr>\n",
              "    <tr>\n",
              "      <th>202006</th>\n",
              "      <td>0.0</td>\n",
              "      <td>0.0</td>\n",
              "      <td>0.0</td>\n",
              "      <td>1.0</td>\n",
              "      <td>1.0</td>\n",
              "    </tr>\n",
              "    <tr>\n",
              "      <th>202007</th>\n",
              "      <td>0.0</td>\n",
              "      <td>0.0</td>\n",
              "      <td>0.0</td>\n",
              "      <td>0.0</td>\n",
              "      <td>0.0</td>\n",
              "    </tr>\n",
              "    <tr>\n",
              "      <th>202008</th>\n",
              "      <td>0.0</td>\n",
              "      <td>0.0</td>\n",
              "      <td>0.0</td>\n",
              "      <td>0.0</td>\n",
              "      <td>0.0</td>\n",
              "    </tr>\n",
              "    <tr>\n",
              "      <th>202009</th>\n",
              "      <td>8.0</td>\n",
              "      <td>0.0</td>\n",
              "      <td>81.0</td>\n",
              "      <td>28.0</td>\n",
              "      <td>109.0</td>\n",
              "    </tr>\n",
              "    <tr>\n",
              "      <th>202010</th>\n",
              "      <td>23.0</td>\n",
              "      <td>0.0</td>\n",
              "      <td>2821.0</td>\n",
              "      <td>595.0</td>\n",
              "      <td>3416.0</td>\n",
              "    </tr>\n",
              "    <tr>\n",
              "      <th>202011</th>\n",
              "      <td>46.0</td>\n",
              "      <td>0.0</td>\n",
              "      <td>30203.0</td>\n",
              "      <td>4113.0</td>\n",
              "      <td>34316.0</td>\n",
              "    </tr>\n",
              "    <tr>\n",
              "      <th>202012</th>\n",
              "      <td>360.0</td>\n",
              "      <td>2498.0</td>\n",
              "      <td>179297.0</td>\n",
              "      <td>31483.0</td>\n",
              "      <td>210780.0</td>\n",
              "    </tr>\n",
              "    <tr>\n",
              "      <th>202013</th>\n",
              "      <td>2090.0</td>\n",
              "      <td>13766.0</td>\n",
              "      <td>497952.0</td>\n",
              "      <td>107963.0</td>\n",
              "      <td>605915.0</td>\n",
              "    </tr>\n",
              "    <tr>\n",
              "      <th>202014</th>\n",
              "      <td>7187.0</td>\n",
              "      <td>24448.0</td>\n",
              "      <td>744416.0</td>\n",
              "      <td>190421.0</td>\n",
              "      <td>934837.0</td>\n",
              "    </tr>\n",
              "    <tr>\n",
              "      <th>202015</th>\n",
              "      <td>12523.0</td>\n",
              "      <td>22930.0</td>\n",
              "      <td>834613.0</td>\n",
              "      <td>217188.0</td>\n",
              "      <td>1051801.0</td>\n",
              "    </tr>\n",
              "    <tr>\n",
              "      <th>202016</th>\n",
              "      <td>14063.0</td>\n",
              "      <td>21844.0</td>\n",
              "      <td>843524.0</td>\n",
              "      <td>199740.0</td>\n",
              "      <td>1043264.0</td>\n",
              "    </tr>\n",
              "    <tr>\n",
              "      <th>202017</th>\n",
              "      <td>12864.0</td>\n",
              "      <td>18239.0</td>\n",
              "      <td>1309854.0</td>\n",
              "      <td>208697.0</td>\n",
              "      <td>1518551.0</td>\n",
              "    </tr>\n",
              "    <tr>\n",
              "      <th>202018</th>\n",
              "      <td>12704.0</td>\n",
              "      <td>24854.0</td>\n",
              "      <td>1457566.0</td>\n",
              "      <td>191663.0</td>\n",
              "      <td>1649229.0</td>\n",
              "    </tr>\n",
              "  </tbody>\n",
              "</table>\n",
              "</div>"
            ],
            "text/plain": [
              "        deathIncrease  ...  totalTestResultsIncrease\n",
              "202004            0.0  ...                       0.0\n",
              "202005            0.0  ...                       0.0\n",
              "202006            0.0  ...                       1.0\n",
              "202007            0.0  ...                       0.0\n",
              "202008            0.0  ...                       0.0\n",
              "202009            8.0  ...                     109.0\n",
              "202010           23.0  ...                    3416.0\n",
              "202011           46.0  ...                   34316.0\n",
              "202012          360.0  ...                  210780.0\n",
              "202013         2090.0  ...                  605915.0\n",
              "202014         7187.0  ...                  934837.0\n",
              "202015        12523.0  ...                 1051801.0\n",
              "202016        14063.0  ...                 1043264.0\n",
              "202017        12864.0  ...                 1518551.0\n",
              "202018        12704.0  ...                 1649229.0\n",
              "\n",
              "[15 rows x 5 columns]"
            ]
          },
          "metadata": {
            "tags": []
          },
          "execution_count": 35
        }
      ]
    },
    {
      "cell_type": "code",
      "metadata": {
        "id": "1kOc3QH1FpMu",
        "colab_type": "code",
        "outputId": "5fcbd380-961f-45e5-dafd-32b0cc8ee924",
        "colab": {
          "base_uri": "https://localhost:8080/",
          "height": 1000
        }
      },
      "source": [
        "import matplotlib.ticker as ticker\n",
        "plt1 = dfByWeekYear.sum()[:-1][['deathIncrease']].plot.line(figsize=(40,20), \\\n",
        "    fontsize=36, style='.-', markersize=48, linewidth=10, color='red')\n",
        "plt1.legend(['Weekly Additional Deaths'],fontsize=32)\n",
        "plt2 = dfByWeekYear.sum()[:-1][['totalTestResultsIncrease']].plot.line(figsize=(40,20), \\\n",
        "    fontsize=36, style='.-', markersize=48, linewidth=10, color='purple')\n",
        "plt2.legend(['Weekly Additional Tests'],fontsize=32)\n",
        "\n",
        "plt2.yaxis.set_major_formatter(ticker.FormatStrFormatter('%6.0d'))\n",
        "    \n",
        "plt3 = dfByWeekYear.sum()[:-1][['positiveIncrease']].plot.line(figsize=(40,20), \\\n",
        "    fontsize=36, style='.-', markersize=48, linewidth=10, color='green')\n",
        "plt3.legend(['Weekly Additional Postives'],fontsize=32)"
      ],
      "execution_count": 36,
      "outputs": [
        {
          "output_type": "execute_result",
          "data": {
            "text/plain": [
              "<matplotlib.legend.Legend at 0x7fb42ea64828>"
            ]
          },
          "metadata": {
            "tags": []
          },
          "execution_count": 36
        },
        {
          "output_type": "display_data",
          "data": {
            "image/png": "[encoded data removed]",
            "text/plain": [
              "<Figure size 2880x1440 with 1 Axes>"
            ]
          },
          "metadata": {
            "tags": [],
            "needs_background": "light"
          }
        },
        {
          "output_type": "display_data",
          "data": {
            "image/png": "[encoded data removed]",
            "text/plain": [
              "<Figure size 2880x1440 with 1 Axes>"
            ]
          },
          "metadata": {
            "tags": [],
            "needs_background": "light"
          }
        },
        {
          "output_type": "display_data",
          "data": {
            "image/png": "[encoded data removed]",
            "text/plain": [
              "<Figure size 2880x1440 with 1 Axes>"
            ]
          },
          "metadata": {
            "tags": [],
            "needs_background": "light"
          }
        }
      ]
    },
    {
      "cell_type": "code",
      "metadata": {
        "id": "rvA7H7Ur2Wkg",
        "colab_type": "code",
        "outputId": "1c85aa30-7afb-4139-e90a-0263a0f16519",
        "colab": {
          "base_uri": "https://localhost:8080/",
          "height": 309
        }
      },
      "source": [
        "dfCovidtracking.groupby(by='date').sum().rolling(window=7).mean().positiveIncrease.plot.line()"
      ],
      "execution_count": 37,
      "outputs": [
        {
          "output_type": "execute_result",
          "data": {
            "text/plain": [
              "<matplotlib.axes._subplots.AxesSubplot at 0x7fb42eadb208>"
            ]
          },
          "metadata": {
            "tags": []
          },
          "execution_count": 37
        },
        {
          "output_type": "display_data",
          "data": {
            "image/png": "[encoded data removed]",
            "text/plain": [
              "<Figure size 432x288 with 1 Axes>"
            ]
          },
          "metadata": {
            "tags": [],
            "needs_background": "light"
          }
        }
      ]
    },
    {
      "cell_type": "code",
      "metadata": {
        "id": "veQ1Q3Kv3oJS",
        "colab_type": "code",
        "colab": {}
      },
      "source": [
        "dfCAAvg = dfCovidtracking[dfCovidtracking.state=='CA'] \\\n",
        ".groupby(by='date').sum().rolling(window=7).mean()"
      ],
      "execution_count": 0,
      "outputs": []
    },
    {
      "cell_type": "code",
      "metadata": {
        "id": "GjEOcXUC9jCW",
        "colab_type": "code",
        "outputId": "35462209-0058-42ee-b637-6fd563105ab2",
        "colab": {
          "base_uri": "https://localhost:8080/",
          "height": 345
        }
      },
      "source": [
        "dfCAAvg.index"
      ],
      "execution_count": 39,
      "outputs": [
        {
          "output_type": "execute_result",
          "data": {
            "text/plain": [
              "DatetimeIndex(['2020-03-04', '2020-03-05', '2020-03-06', '2020-03-07',\n",
              "               '2020-03-08', '2020-03-09', '2020-03-10', '2020-03-11',\n",
              "               '2020-03-12', '2020-03-13', '2020-03-14', '2020-03-15',\n",
              "               '2020-03-16', '2020-03-17', '2020-03-18', '2020-03-19',\n",
              "               '2020-03-20', '2020-03-21', '2020-03-22', '2020-03-23',\n",
              "               '2020-03-24', '2020-03-25', '2020-03-26', '2020-03-27',\n",
              "               '2020-03-28', '2020-03-29', '2020-03-30', '2020-03-31',\n",
              "               '2020-04-01', '2020-04-02', '2020-04-03', '2020-04-04',\n",
              "               '2020-04-05', '2020-04-06', '2020-04-07', '2020-04-08',\n",
              "               '2020-04-09', '2020-04-10', '2020-04-11', '2020-04-12',\n",
              "               '2020-04-13', '2020-04-14', '2020-04-15', '2020-04-16',\n",
              "               '2020-04-17', '2020-04-18', '2020-04-19', '2020-04-20',\n",
              "               '2020-04-21', '2020-04-22', '2020-04-23', '2020-04-24',\n",
              "               '2020-04-25', '2020-04-26', '2020-04-27', '2020-04-28',\n",
              "               '2020-04-29', '2020-04-30', '2020-05-01', '2020-05-02',\n",
              "               '2020-05-03', '2020-05-04', '2020-05-05', '2020-05-06',\n",
              "               '2020-05-07', '2020-05-08'],\n",
              "              dtype='datetime64[ns]', name='date', freq=None)"
            ]
          },
          "metadata": {
            "tags": []
          },
          "execution_count": 39
        }
      ]
    },
    {
      "cell_type": "code",
      "metadata": {
        "id": "aF9b089h4u7L",
        "colab_type": "code",
        "outputId": "3522a947-2124-4e4c-83c0-f03d3215379c",
        "colab": {
          "base_uri": "https://localhost:8080/",
          "height": 500
        }
      },
      "source": [
        "\n",
        "fig, ax = plt.subplots(figsize=(15,7))\n",
        "graph1 = dfCAAvg[20:].inIcuCurrently.plot(kind='bar',ax=ax)\n"
      ],
      "execution_count": 40,
      "outputs": [
        {
          "output_type": "display_data",
          "data": {
            "image/png": "[encoded data removed]",
            "text/plain": [
              "<Figure size 1080x504 with 1 Axes>"
            ]
          },
          "metadata": {
            "tags": [],
            "needs_background": "light"
          }
        }
      ]
    },
    {
      "cell_type": "code",
      "metadata": {
        "id": "8GA3W0gG4U5i",
        "colab_type": "code",
        "outputId": "814a5d98-230b-499b-bb05-aec04a5166b6",
        "colab": {
          "base_uri": "https://localhost:8080/",
          "height": 332
        }
      },
      "source": [
        "dfCAAvg.deathIncrease.plot.line()"
      ],
      "execution_count": 41,
      "outputs": [
        {
          "output_type": "execute_result",
          "data": {
            "text/plain": [
              "<matplotlib.axes._subplots.AxesSubplot at 0x7fb4309cbba8>"
            ]
          },
          "metadata": {
            "tags": []
          },
          "execution_count": 41
        },
        {
          "output_type": "display_data",
          "data": {
            "image/png": "[encoded data removed]",
            "text/plain": [
              "<Figure size 432x288 with 1 Axes>"
            ]
          },
          "metadata": {
            "tags": [],
            "needs_background": "light"
          }
        }
      ]
    },
    {
      "cell_type": "code",
      "metadata": {
        "id": "c4uuFBTquS3o",
        "colab_type": "code",
        "outputId": "4e4da2db-6808-4103-a826-dbef650df8b5",
        "colab": {
          "base_uri": "https://localhost:8080/",
          "height": 348
        }
      },
      "source": [
        "dfDates = dfState.reset_index().copy()\n",
        "dfDates[(dfDates.state.isin(['FL']))].head(10)"
      ],
      "execution_count": 42,
      "outputs": [
        {
          "output_type": "execute_result",
          "data": {
            "text/html": [
              "<div>\n",
              "<style scoped>\n",
              "    .dataframe tbody tr th:only-of-type {\n",
              "        vertical-align: middle;\n",
              "    }\n",
              "\n",
              "    .dataframe tbody tr th {\n",
              "        vertical-align: top;\n",
              "    }\n",
              "\n",
              "    .dataframe thead th {\n",
              "        text-align: right;\n",
              "    }\n",
              "</style>\n",
              "<table border=\"1\" class=\"dataframe\">\n",
              "  <thead>\n",
              "    <tr style=\"text-align: right;\">\n",
              "      <th></th>\n",
              "      <th>state</th>\n",
              "      <th>date</th>\n",
              "      <th>positive</th>\n",
              "      <th>death</th>\n",
              "      <th>current_total</th>\n",
              "      <th>pct</th>\n",
              "    </tr>\n",
              "  </thead>\n",
              "  <tbody>\n",
              "    <tr>\n",
              "      <th>634</th>\n",
              "      <td>FL</td>\n",
              "      <td>2020-05-08</td>\n",
              "      <td>39199</td>\n",
              "      <td>1738</td>\n",
              "      <td>39199</td>\n",
              "      <td>1.000000</td>\n",
              "    </tr>\n",
              "    <tr>\n",
              "      <th>635</th>\n",
              "      <td>FL</td>\n",
              "      <td>2020-05-07</td>\n",
              "      <td>38828</td>\n",
              "      <td>1667</td>\n",
              "      <td>39199</td>\n",
              "      <td>0.990535</td>\n",
              "    </tr>\n",
              "    <tr>\n",
              "      <th>636</th>\n",
              "      <td>FL</td>\n",
              "      <td>2020-05-06</td>\n",
              "      <td>38002</td>\n",
              "      <td>1605</td>\n",
              "      <td>39199</td>\n",
              "      <td>0.969464</td>\n",
              "    </tr>\n",
              "    <tr>\n",
              "      <th>637</th>\n",
              "      <td>FL</td>\n",
              "      <td>2020-05-05</td>\n",
              "      <td>37439</td>\n",
              "      <td>1536</td>\n",
              "      <td>39199</td>\n",
              "      <td>0.955101</td>\n",
              "    </tr>\n",
              "    <tr>\n",
              "      <th>638</th>\n",
              "      <td>FL</td>\n",
              "      <td>2020-05-04</td>\n",
              "      <td>36897</td>\n",
              "      <td>1423</td>\n",
              "      <td>39199</td>\n",
              "      <td>0.941274</td>\n",
              "    </tr>\n",
              "    <tr>\n",
              "      <th>639</th>\n",
              "      <td>FL</td>\n",
              "      <td>2020-05-03</td>\n",
              "      <td>36078</td>\n",
              "      <td>1403</td>\n",
              "      <td>39199</td>\n",
              "      <td>0.920381</td>\n",
              "    </tr>\n",
              "    <tr>\n",
              "      <th>640</th>\n",
              "      <td>FL</td>\n",
              "      <td>2020-05-02</td>\n",
              "      <td>35463</td>\n",
              "      <td>1388</td>\n",
              "      <td>39199</td>\n",
              "      <td>0.904691</td>\n",
              "    </tr>\n",
              "    <tr>\n",
              "      <th>641</th>\n",
              "      <td>FL</td>\n",
              "      <td>2020-05-01</td>\n",
              "      <td>34728</td>\n",
              "      <td>1314</td>\n",
              "      <td>39199</td>\n",
              "      <td>0.885941</td>\n",
              "    </tr>\n",
              "    <tr>\n",
              "      <th>642</th>\n",
              "      <td>FL</td>\n",
              "      <td>2020-04-30</td>\n",
              "      <td>33690</td>\n",
              "      <td>1290</td>\n",
              "      <td>39199</td>\n",
              "      <td>0.859461</td>\n",
              "    </tr>\n",
              "    <tr>\n",
              "      <th>643</th>\n",
              "      <td>FL</td>\n",
              "      <td>2020-04-29</td>\n",
              "      <td>33193</td>\n",
              "      <td>1240</td>\n",
              "      <td>39199</td>\n",
              "      <td>0.846782</td>\n",
              "    </tr>\n",
              "  </tbody>\n",
              "</table>\n",
              "</div>"
            ],
            "text/plain": [
              "    state       date  positive  death  current_total       pct\n",
              "634    FL 2020-05-08     39199   1738          39199  1.000000\n",
              "635    FL 2020-05-07     38828   1667          39199  0.990535\n",
              "636    FL 2020-05-06     38002   1605          39199  0.969464\n",
              "637    FL 2020-05-05     37439   1536          39199  0.955101\n",
              "638    FL 2020-05-04     36897   1423          39199  0.941274\n",
              "639    FL 2020-05-03     36078   1403          39199  0.920381\n",
              "640    FL 2020-05-02     35463   1388          39199  0.904691\n",
              "641    FL 2020-05-01     34728   1314          39199  0.885941\n",
              "642    FL 2020-04-30     33690   1290          39199  0.859461\n",
              "643    FL 2020-04-29     33193   1240          39199  0.846782"
            ]
          },
          "metadata": {
            "tags": []
          },
          "execution_count": 42
        }
      ]
    },
    {
      "cell_type": "code",
      "metadata": {
        "id": "Puz0PBzemMD3",
        "colab_type": "code",
        "outputId": "7fca33b3-1e97-47d3-803f-b0fbef4db9ea",
        "colab": {
          "base_uri": "https://localhost:8080/",
          "height": 78
        }
      },
      "source": [
        "datecutoff = dfDates.date.max()-datetime.timedelta(days=5)\n",
        "dfDates[(dfDates.date == datecutoff) & (dfDates.pct < .7)].sort_values(by='pct')\n"
      ],
      "execution_count": 43,
      "outputs": [
        {
          "output_type": "execute_result",
          "data": {
            "text/html": [
              "<div>\n",
              "<style scoped>\n",
              "    .dataframe tbody tr th:only-of-type {\n",
              "        vertical-align: middle;\n",
              "    }\n",
              "\n",
              "    .dataframe tbody tr th {\n",
              "        vertical-align: top;\n",
              "    }\n",
              "\n",
              "    .dataframe thead th {\n",
              "        text-align: right;\n",
              "    }\n",
              "</style>\n",
              "<table border=\"1\" class=\"dataframe\">\n",
              "  <thead>\n",
              "    <tr style=\"text-align: right;\">\n",
              "      <th></th>\n",
              "      <th>state</th>\n",
              "      <th>date</th>\n",
              "      <th>positive</th>\n",
              "      <th>death</th>\n",
              "      <th>current_total</th>\n",
              "      <th>pct</th>\n",
              "    </tr>\n",
              "  </thead>\n",
              "  <tbody>\n",
              "    <tr>\n",
              "      <th>1591</th>\n",
              "      <td>MN</td>\n",
              "      <td>2020-05-03</td>\n",
              "      <td>6663</td>\n",
              "      <td>419</td>\n",
              "      <td>10088</td>\n",
              "      <td>0.660488</td>\n",
              "    </tr>\n",
              "  </tbody>\n",
              "</table>\n",
              "</div>"
            ],
            "text/plain": [
              "     state       date  positive  death  current_total       pct\n",
              "1591    MN 2020-05-03      6663    419          10088  0.660488"
            ]
          },
          "metadata": {
            "tags": []
          },
          "execution_count": 43
        }
      ]
    },
    {
      "cell_type": "code",
      "metadata": {
        "id": "ZmaKzaBnGQwj",
        "colab_type": "code",
        "outputId": "cccebdb2-09ec-4f7b-b228-f80a385b17ff",
        "colab": {
          "base_uri": "https://localhost:8080/",
          "height": 360
        }
      },
      "source": [
        "state = 'CA'\n",
        "dfState = dfCovidtracking[dfCovidtracking.state==state].sort_values(by='date')\n",
        "vals = dfState.positive.values\n",
        "\n",
        "x=pd.Series([y-x for x,y in zip(vals,vals[1:])], \\\n",
        "          index = dfCovidtracking[dfCovidtracking.state==state]\\\n",
        "          .sort_values(by='date').date.values[1:] ) \\\n",
        "          .plot.bar()\n",
        "\n"
      ],
      "execution_count": 44,
      "outputs": [
        {
          "output_type": "display_data",
          "data": {
            "image/png": "[encoded data removed]",
            "text/plain": [
              "<Figure size 432x288 with 1 Axes>"
            ]
          },
          "metadata": {
            "tags": [],
            "needs_background": "light"
          }
        }
      ]
    },
    {
      "cell_type": "markdown",
      "metadata": {
        "id": "xFA0q8At-4sZ",
        "colab_type": "text"
      },
      "source": [
        "# Added State Data"
      ]
    },
    {
      "cell_type": "code",
      "metadata": {
        "id": "Nlx8_xZ27kvp",
        "colab_type": "code",
        "colab": {}
      },
      "source": [
        "data_url = \"https://www2.census.gov/programs-surveys/popest/datasets/2010-2019/national/totals/nst-est2019-alldata.csv\"\n"
      ],
      "execution_count": 0,
      "outputs": []
    },
    {
      "cell_type": "code",
      "metadata": {
        "id": "Lwz6IJdX_WFx",
        "colab_type": "code",
        "colab": {}
      },
      "source": [
        "dfUSPop = pd.read_csv(data_url)"
      ],
      "execution_count": 0,
      "outputs": []
    },
    {
      "cell_type": "code",
      "metadata": {
        "id": "aU3ZzHS-AkRS",
        "colab_type": "code",
        "outputId": "9ed0b3d8-1430-4b0c-804b-7dec8b73d9b9",
        "colab": {
          "base_uri": "https://localhost:8080/",
          "height": 235
        }
      },
      "source": [
        "import math\n",
        "us_pop = dfUSPop.loc[0].POPESTIMATE2019 #Estimate from Wikipedia\n",
        "res = dfCovidtracking.loc[dfCovidtracking.date==dfCovidtracking.date.max(), ['positive', 'negative', 'pending','death', 'total']].sum()\n",
        "cir = res.positive/res.total\n",
        "cfr = res.death/res.positive\n",
        "p_aff= math.ceil(us_pop*cir)\n",
        "p_dead= math.ceil(p_aff*cfr)\n",
        "print(res)\n",
        "print(f\"Current Infection Rate {cir*100:2f}%\")\n",
        "print(f\"Percentage of US affected: {(res.positive+res.death)/us_pop*100:2f}%\")\n",
        "print(f\"Observed CFR: {cfr*100:2f}%\")\n",
        "print(f\"Percentage of US tested/affected: {(res.negative+res.positive+res.death)/us_pop*100:2f}%\")\n",
        "print(f\"Projected affected by cir = {p_aff:,d}\")\n",
        "print(f\"Projected killed = {p_dead:,d}\")\n"
      ],
      "execution_count": 47,
      "outputs": [
        {
          "output_type": "stream",
          "text": [
            "positive    1275916\n",
            "negative    7132872\n",
            "pending        3307\n",
            "death         71762\n",
            "total       8412095\n",
            "dtype: int64\n",
            "Current Infection Rate 15.167637%\n",
            "Percentage of US affected: 0.410578%\n",
            "Observed CFR: 5.624351%\n",
            "Percentage of US tested/affected: 2.583647%\n",
            "Projected affected by cir = 49,786,179\n",
            "Projected killed = 2,800,150\n"
          ],
          "name": "stdout"
        }
      ]
    },
    {
      "cell_type": "code",
      "metadata": {
        "id": "vihKU2ItzKWi",
        "colab_type": "code",
        "colab": {}
      },
      "source": [
        "!if [ ! -d \"loc\" ]; then \\\n",
        "git clone https://gist.github.com/rogerallen/1583593 --depth=1 --quiet loc; \\\n",
        "fi\n",
        "import sys\n",
        "sys.path.append(\"loc\")\n",
        "\n",
        "\n"
      ],
      "execution_count": 0,
      "outputs": []
    },
    {
      "cell_type": "code",
      "metadata": {
        "id": "66JPa3Sv0uH1",
        "colab_type": "code",
        "colab": {}
      },
      "source": [
        "import us_state_abbrev as us_abbr\n"
      ],
      "execution_count": 0,
      "outputs": []
    },
    {
      "cell_type": "code",
      "metadata": {
        "id": "JYnrS2eV2ohs",
        "colab_type": "code",
        "colab": {}
      },
      "source": [
        "dfStatePop = dfUSPop[dfUSPop.STATE != 0].copy()"
      ],
      "execution_count": 0,
      "outputs": []
    },
    {
      "cell_type": "code",
      "metadata": {
        "id": "43XHoUsx4Px7",
        "colab_type": "code",
        "colab": {}
      },
      "source": [
        "dfStatePop['ABBR']=dfStatePop.NAME.apply(lambda x: us_abbr.us_state_abbrev[x])"
      ],
      "execution_count": 0,
      "outputs": []
    },
    {
      "cell_type": "code",
      "metadata": {
        "id": "d08OerM_4vBo",
        "colab_type": "code",
        "colab": {}
      },
      "source": [
        "dfStatePop = dfStatePop.loc[:, ['ABBR', 'POPESTIMATE2019']]\n",
        "dfStatePop.set_index('ABBR', inplace=True)"
      ],
      "execution_count": 0,
      "outputs": []
    },
    {
      "cell_type": "code",
      "metadata": {
        "id": "4puN3Aea5qwp",
        "colab_type": "code",
        "colab": {}
      },
      "source": [
        "dfStateCovid = dfCovidtracking.loc[dfCovidtracking.date==dfCovidtracking.date.max()].set_index('state')"
      ],
      "execution_count": 0,
      "outputs": []
    },
    {
      "cell_type": "code",
      "metadata": {
        "id": "R2rumgN265Zr",
        "colab_type": "code",
        "colab": {}
      },
      "source": [
        "dfStateJoin = dfStateCovid.join(dfStatePop)"
      ],
      "execution_count": 0,
      "outputs": []
    },
    {
      "cell_type": "code",
      "metadata": {
        "id": "pgD43HXE7ayl",
        "colab_type": "code",
        "outputId": "085e6b08-81fe-47af-8f7d-8408cfe8b7c7",
        "colab": {
          "base_uri": "https://localhost:8080/",
          "height": 1000
        }
      },
      "source": [
        "pd.DataFrame([(dfStateJoin.positive / dfStateJoin.POPESTIMATE2019)*100, \\\n",
        "              (dfStateJoin.totalTestResults/ dfStateJoin.POPESTIMATE2019)*100],\\\n",
        "             index=['state_pos_pop','state_test_pop'] ).T.sort_values(by=\"state_pos_pop\", ascending=False)[:51]"
      ],
      "execution_count": 55,
      "outputs": [
        {
          "output_type": "execute_result",
          "data": {
            "text/html": [
              "<div>\n",
              "<style scoped>\n",
              "    .dataframe tbody tr th:only-of-type {\n",
              "        vertical-align: middle;\n",
              "    }\n",
              "\n",
              "    .dataframe tbody tr th {\n",
              "        vertical-align: top;\n",
              "    }\n",
              "\n",
              "    .dataframe thead th {\n",
              "        text-align: right;\n",
              "    }\n",
              "</style>\n",
              "<table border=\"1\" class=\"dataframe\">\n",
              "  <thead>\n",
              "    <tr style=\"text-align: right;\">\n",
              "      <th></th>\n",
              "      <th>state_pos_pop</th>\n",
              "      <th>state_test_pop</th>\n",
              "    </tr>\n",
              "    <tr>\n",
              "      <th>state</th>\n",
              "      <th></th>\n",
              "      <th></th>\n",
              "    </tr>\n",
              "  </thead>\n",
              "  <tbody>\n",
              "    <tr>\n",
              "      <th>NY</th>\n",
              "      <td>1.698440</td>\n",
              "      <td>5.765232</td>\n",
              "    </tr>\n",
              "    <tr>\n",
              "      <th>NJ</th>\n",
              "      <td>1.525007</td>\n",
              "      <td>3.363574</td>\n",
              "    </tr>\n",
              "    <tr>\n",
              "      <th>MA</th>\n",
              "      <td>1.092970</td>\n",
              "      <td>5.310451</td>\n",
              "    </tr>\n",
              "    <tr>\n",
              "      <th>RI</th>\n",
              "      <td>1.017500</td>\n",
              "      <td>8.048814</td>\n",
              "    </tr>\n",
              "    <tr>\n",
              "      <th>CT</th>\n",
              "      <td>0.909071</td>\n",
              "      <td>3.380962</td>\n",
              "    </tr>\n",
              "    <tr>\n",
              "      <th>DC</th>\n",
              "      <td>0.835850</td>\n",
              "      <td>3.842017</td>\n",
              "    </tr>\n",
              "    <tr>\n",
              "      <th>LA</th>\n",
              "      <td>0.663721</td>\n",
              "      <td>4.354162</td>\n",
              "    </tr>\n",
              "    <tr>\n",
              "      <th>DE</th>\n",
              "      <td>0.627565</td>\n",
              "      <td>2.902551</td>\n",
              "    </tr>\n",
              "    <tr>\n",
              "      <th>IL</th>\n",
              "      <td>0.582079</td>\n",
              "      <td>3.154353</td>\n",
              "    </tr>\n",
              "    <tr>\n",
              "      <th>MD</th>\n",
              "      <td>0.504244</td>\n",
              "      <td>2.517285</td>\n",
              "    </tr>\n",
              "    <tr>\n",
              "      <th>MI</th>\n",
              "      <td>0.463870</td>\n",
              "      <td>2.605955</td>\n",
              "    </tr>\n",
              "    <tr>\n",
              "      <th>PA</th>\n",
              "      <td>0.423669</td>\n",
              "      <td>2.113414</td>\n",
              "    </tr>\n",
              "    <tr>\n",
              "      <th>NE</th>\n",
              "      <td>0.371690</td>\n",
              "      <td>2.089115</td>\n",
              "    </tr>\n",
              "    <tr>\n",
              "      <th>IA</th>\n",
              "      <td>0.363130</td>\n",
              "      <td>2.226924</td>\n",
              "    </tr>\n",
              "    <tr>\n",
              "      <th>SD</th>\n",
              "      <td>0.355391</td>\n",
              "      <td>2.406916</td>\n",
              "    </tr>\n",
              "    <tr>\n",
              "      <th>IN</th>\n",
              "      <td>0.343809</td>\n",
              "      <td>1.932914</td>\n",
              "    </tr>\n",
              "    <tr>\n",
              "      <th>CO</th>\n",
              "      <td>0.326478</td>\n",
              "      <td>1.641610</td>\n",
              "    </tr>\n",
              "    <tr>\n",
              "      <th>MS</th>\n",
              "      <td>0.305428</td>\n",
              "      <td>2.728056</td>\n",
              "    </tr>\n",
              "    <tr>\n",
              "      <th>GA</th>\n",
              "      <td>0.302390</td>\n",
              "      <td>2.143336</td>\n",
              "    </tr>\n",
              "    <tr>\n",
              "      <th>VA</th>\n",
              "      <td>0.261753</td>\n",
              "      <td>1.522403</td>\n",
              "    </tr>\n",
              "    <tr>\n",
              "      <th>KS</th>\n",
              "      <td>0.223148</td>\n",
              "      <td>1.637585</td>\n",
              "    </tr>\n",
              "    <tr>\n",
              "      <th>NM</th>\n",
              "      <td>0.214276</td>\n",
              "      <td>4.246031</td>\n",
              "    </tr>\n",
              "    <tr>\n",
              "      <th>WA</th>\n",
              "      <td>0.213148</td>\n",
              "      <td>3.029327</td>\n",
              "    </tr>\n",
              "    <tr>\n",
              "      <th>TN</th>\n",
              "      <td>0.211460</td>\n",
              "      <td>3.566727</td>\n",
              "    </tr>\n",
              "    <tr>\n",
              "      <th>NH</th>\n",
              "      <td>0.209089</td>\n",
              "      <td>2.255773</td>\n",
              "    </tr>\n",
              "    <tr>\n",
              "      <th>OH</th>\n",
              "      <td>0.196901</td>\n",
              "      <td>1.576819</td>\n",
              "    </tr>\n",
              "    <tr>\n",
              "      <th>NV</th>\n",
              "      <td>0.191029</td>\n",
              "      <td>1.731860</td>\n",
              "    </tr>\n",
              "    <tr>\n",
              "      <th>AL</th>\n",
              "      <td>0.188061</td>\n",
              "      <td>2.449714</td>\n",
              "    </tr>\n",
              "    <tr>\n",
              "      <th>ND</th>\n",
              "      <td>0.186993</td>\n",
              "      <td>5.577105</td>\n",
              "    </tr>\n",
              "    <tr>\n",
              "      <th>UT</th>\n",
              "      <td>0.184625</td>\n",
              "      <td>4.325946</td>\n",
              "    </tr>\n",
              "    <tr>\n",
              "      <th>FL</th>\n",
              "      <td>0.182510</td>\n",
              "      <td>2.390107</td>\n",
              "    </tr>\n",
              "    <tr>\n",
              "      <th>MN</th>\n",
              "      <td>0.178877</td>\n",
              "      <td>1.795685</td>\n",
              "    </tr>\n",
              "    <tr>\n",
              "      <th>WI</th>\n",
              "      <td>0.164708</td>\n",
              "      <td>1.835229</td>\n",
              "    </tr>\n",
              "    <tr>\n",
              "      <th>CA</th>\n",
              "      <td>0.158209</td>\n",
              "      <td>2.215193</td>\n",
              "    </tr>\n",
              "    <tr>\n",
              "      <th>MO</th>\n",
              "      <td>0.154609</td>\n",
              "      <td>1.771442</td>\n",
              "    </tr>\n",
              "    <tr>\n",
              "      <th>VT</th>\n",
              "      <td>0.147278</td>\n",
              "      <td>3.046208</td>\n",
              "    </tr>\n",
              "    <tr>\n",
              "      <th>AZ</th>\n",
              "      <td>0.144613</td>\n",
              "      <td>1.647365</td>\n",
              "    </tr>\n",
              "    <tr>\n",
              "      <th>SC</th>\n",
              "      <td>0.138714</td>\n",
              "      <td>1.426414</td>\n",
              "    </tr>\n",
              "    <tr>\n",
              "      <th>KY</th>\n",
              "      <td>0.137186</td>\n",
              "      <td>1.822000</td>\n",
              "    </tr>\n",
              "    <tr>\n",
              "      <th>NC</th>\n",
              "      <td>0.132226</td>\n",
              "      <td>1.703009</td>\n",
              "    </tr>\n",
              "    <tr>\n",
              "      <th>TX</th>\n",
              "      <td>0.126256</td>\n",
              "      <td>1.645468</td>\n",
              "    </tr>\n",
              "    <tr>\n",
              "      <th>AR</th>\n",
              "      <td>0.122407</td>\n",
              "      <td>2.120549</td>\n",
              "    </tr>\n",
              "    <tr>\n",
              "      <th>ID</th>\n",
              "      <td>0.121876</td>\n",
              "      <td>1.749796</td>\n",
              "    </tr>\n",
              "    <tr>\n",
              "      <th>OK</th>\n",
              "      <td>0.111803</td>\n",
              "      <td>2.270853</td>\n",
              "    </tr>\n",
              "    <tr>\n",
              "      <th>WY</th>\n",
              "      <td>0.109718</td>\n",
              "      <td>2.079968</td>\n",
              "    </tr>\n",
              "    <tr>\n",
              "      <th>ME</th>\n",
              "      <td>0.102216</td>\n",
              "      <td>1.745707</td>\n",
              "    </tr>\n",
              "    <tr>\n",
              "      <th>WV</th>\n",
              "      <td>0.073097</td>\n",
              "      <td>3.316469</td>\n",
              "    </tr>\n",
              "    <tr>\n",
              "      <th>OR</th>\n",
              "      <td>0.072740</td>\n",
              "      <td>1.723507</td>\n",
              "    </tr>\n",
              "    <tr>\n",
              "      <th>PR</th>\n",
              "      <td>0.067508</td>\n",
              "      <td>0.067508</td>\n",
              "    </tr>\n",
              "    <tr>\n",
              "      <th>AK</th>\n",
              "      <td>0.051535</td>\n",
              "      <td>3.482082</td>\n",
              "    </tr>\n",
              "    <tr>\n",
              "      <th>HI</th>\n",
              "      <td>0.044425</td>\n",
              "      <td>2.586251</td>\n",
              "    </tr>\n",
              "  </tbody>\n",
              "</table>\n",
              "</div>"
            ],
            "text/plain": [
              "       state_pos_pop  state_test_pop\n",
              "state                               \n",
              "NY          1.698440        5.765232\n",
              "NJ          1.525007        3.363574\n",
              "MA          1.092970        5.310451\n",
              "RI          1.017500        8.048814\n",
              "CT          0.909071        3.380962\n",
              "DC          0.835850        3.842017\n",
              "LA          0.663721        4.354162\n",
              "DE          0.627565        2.902551\n",
              "IL          0.582079        3.154353\n",
              "MD          0.504244        2.517285\n",
              "MI          0.463870        2.605955\n",
              "PA          0.423669        2.113414\n",
              "NE          0.371690        2.089115\n",
              "IA          0.363130        2.226924\n",
              "SD          0.355391        2.406916\n",
              "IN          0.343809        1.932914\n",
              "CO          0.326478        1.641610\n",
              "MS          0.305428        2.728056\n",
              "GA          0.302390        2.143336\n",
              "VA          0.261753        1.522403\n",
              "KS          0.223148        1.637585\n",
              "NM          0.214276        4.246031\n",
              "WA          0.213148        3.029327\n",
              "TN          0.211460        3.566727\n",
              "NH          0.209089        2.255773\n",
              "OH          0.196901        1.576819\n",
              "NV          0.191029        1.731860\n",
              "AL          0.188061        2.449714\n",
              "ND          0.186993        5.577105\n",
              "UT          0.184625        4.325946\n",
              "FL          0.182510        2.390107\n",
              "MN          0.178877        1.795685\n",
              "WI          0.164708        1.835229\n",
              "CA          0.158209        2.215193\n",
              "MO          0.154609        1.771442\n",
              "VT          0.147278        3.046208\n",
              "AZ          0.144613        1.647365\n",
              "SC          0.138714        1.426414\n",
              "KY          0.137186        1.822000\n",
              "NC          0.132226        1.703009\n",
              "TX          0.126256        1.645468\n",
              "AR          0.122407        2.120549\n",
              "ID          0.121876        1.749796\n",
              "OK          0.111803        2.270853\n",
              "WY          0.109718        2.079968\n",
              "ME          0.102216        1.745707\n",
              "WV          0.073097        3.316469\n",
              "OR          0.072740        1.723507\n",
              "PR          0.067508        0.067508\n",
              "AK          0.051535        3.482082\n",
              "HI          0.044425        2.586251"
            ]
          },
          "metadata": {
            "tags": []
          },
          "execution_count": 55
        }
      ]
    },
    {
      "cell_type": "code",
      "metadata": {
        "id": "-uy6plHZ84GH",
        "colab_type": "code",
        "outputId": "d2795337-2281-4fc8-ac9d-e168da63c85c",
        "colab": {
          "base_uri": "https://localhost:8080/",
          "height": 35
        }
      },
      "source": [
        "#print(f\"Current Infection Rate {res.positive/res.total*100:2f}%\")\n",
        "\n",
        "print(f\"Current Testing Percent {gbUSA.sum().tail(1).totalTestResults[0]/dfUSPop[dfUSPop.REGION=='0'].POPESTIMATE2019[0]*100:2f}%\")"
      ],
      "execution_count": 56,
      "outputs": [
        {
          "output_type": "stream",
          "text": [
            "Current Testing Percent 2.561784%\n"
          ],
          "name": "stdout"
        }
      ]
    },
    {
      "cell_type": "code",
      "metadata": {
        "id": "Oe5ZLr99QRRc",
        "colab_type": "code",
        "outputId": "5a4db372-6f2f-41ff-b483-6e9cd861b6d9",
        "colab": {
          "base_uri": "https://localhost:8080/",
          "height": 72
        }
      },
      "source": [
        "dfJHUData.columns"
      ],
      "execution_count": 57,
      "outputs": [
        {
          "output_type": "execute_result",
          "data": {
            "text/plain": [
              "Index(['FIPS', 'city', 'state', 'country', 'last_update', 'lat', 'lon',\n",
              "       'confirmed', 'dead', 'recovered', 'active', 'key'],\n",
              "      dtype='object')"
            ]
          },
          "metadata": {
            "tags": []
          },
          "execution_count": 57
        }
      ]
    },
    {
      "cell_type": "code",
      "metadata": {
        "id": "R8BhxDaaZG7J",
        "colab_type": "code",
        "colab": {}
      },
      "source": [
        "dfOwid = pd.read_csv(\"https://raw.githubusercontent.com/owid/covid-19-data/master/public/data/owid-covid-data.csv\")"
      ],
      "execution_count": 0,
      "outputs": []
    },
    {
      "cell_type": "code",
      "metadata": {
        "id": "P34L2uyifz16",
        "colab_type": "code",
        "outputId": "b4bf8ce2-0227-4a01-8eb9-c2b0d417a410",
        "colab": {
          "base_uri": "https://localhost:8080/",
          "height": 435
        }
      },
      "source": [
        "dfOwid.info()\n"
      ],
      "execution_count": 59,
      "outputs": [
        {
          "output_type": "stream",
          "text": [
            "<class 'pandas.core.frame.DataFrame'>\n",
            "RangeIndex: 15965 entries, 0 to 15964\n",
            "Data columns (total 16 columns):\n",
            " #   Column                    Non-Null Count  Dtype  \n",
            "---  ------                    --------------  -----  \n",
            " 0   iso_code                  15771 non-null  object \n",
            " 1   location                  15965 non-null  object \n",
            " 2   date                      15965 non-null  object \n",
            " 3   total_cases               15965 non-null  int64  \n",
            " 4   new_cases                 15965 non-null  int64  \n",
            " 5   total_deaths              15965 non-null  int64  \n",
            " 6   new_deaths                15965 non-null  int64  \n",
            " 7   total_cases_per_million   15664 non-null  float64\n",
            " 8   new_cases_per_million     15664 non-null  float64\n",
            " 9   total_deaths_per_million  15664 non-null  float64\n",
            " 10  new_deaths_per_million    15664 non-null  float64\n",
            " 11  total_tests               4061 non-null   float64\n",
            " 12  new_tests                 3638 non-null   float64\n",
            " 13  total_tests_per_thousand  4061 non-null   float64\n",
            " 14  new_tests_per_thousand    3643 non-null   float64\n",
            " 15  tests_units               4061 non-null   object \n",
            "dtypes: float64(8), int64(4), object(4)\n",
            "memory usage: 1.9+ MB\n"
          ],
          "name": "stdout"
        }
      ]
    },
    {
      "cell_type": "code",
      "metadata": {
        "id": "KgJXmpC1g-Wz",
        "colab_type": "code",
        "colab": {}
      },
      "source": [
        "dfOwidTests = dfOwid.dropna(subset=['total_tests']).copy()"
      ],
      "execution_count": 0,
      "outputs": []
    },
    {
      "cell_type": "code",
      "metadata": {
        "id": "Qngm15gRiTJY",
        "colab_type": "code",
        "colab": {}
      },
      "source": [
        "dfOwidLatest = dfOwidTests.sort_values(by='date').groupby('iso_code').last()"
      ],
      "execution_count": 0,
      "outputs": []
    },
    {
      "cell_type": "code",
      "metadata": {
        "id": "kmMUQTWUioLl",
        "colab_type": "code",
        "outputId": "28c4e00d-cd1e-43d0-ad82-4f3c410ab9f4",
        "colab": {
          "base_uri": "https://localhost:8080/",
          "height": 254
        }
      },
      "source": [
        "dfOwidLatest.total_tests.sort_values(ascending=False)"
      ],
      "execution_count": 62,
      "outputs": [
        {
          "output_type": "execute_result",
          "data": {
            "text/plain": [
              "iso_code\n",
              "USA    8105513.0\n",
              "RUS    4987468.0\n",
              "DEU    2755770.0\n",
              "ITA    2381288.0\n",
              "IND    1437788.0\n",
              "         ...    \n",
              "PRY      13096.0\n",
              "CRI      10375.0\n",
              "MMR      10227.0\n",
              "BOL       8167.0\n",
              "ZWE       7808.0\n",
              "Name: total_tests, Length: 84, dtype: float64"
            ]
          },
          "metadata": {
            "tags": []
          },
          "execution_count": 62
        }
      ]
    },
    {
      "cell_type": "code",
      "metadata": {
        "id": "fJMhnvEtjjf8",
        "colab_type": "code",
        "outputId": "9eaed811-40c7-4a71-f72a-480ac93e6258",
        "colab": {
          "base_uri": "https://localhost:8080/",
          "height": 72
        }
      },
      "source": [
        "isUSA = dfOwidLatest.index.isin(['USA'])\n",
        "NonUSTests = dfOwidLatest[~isUSA].total_tests.sum()\n",
        "USTests = dfOwidLatest[isUSA].total_tests.sum()\n",
        "\n",
        "print(f\"Total testing done outside of USA: {NonUSTests:.0f}\")\n",
        "print(f\"Total tests done in USA : {USTests:.0f}\")\n",
        "print(f\"How many more times has the world tested more than the US: {NonUSTests/USTests:.1f}\")"
      ],
      "execution_count": 63,
      "outputs": [
        {
          "output_type": "stream",
          "text": [
            "Total testing done outside of USA: 29632260\n",
            "Total tests done in USA : 8105513\n",
            "How many more times has the world tested more than the US: 3.7\n"
          ],
          "name": "stdout"
        }
      ]
    },
    {
      "cell_type": "code",
      "metadata": {
        "id": "PHEIbDtQnQ65",
        "colab_type": "code",
        "outputId": "bbeed64a-697b-47a3-e4bb-81600ff1d4b8",
        "colab": {
          "base_uri": "https://localhost:8080/",
          "height": 308
        }
      },
      "source": [
        "dfOwidLatest[isUSA].sum()"
      ],
      "execution_count": 64,
      "outputs": [
        {
          "output_type": "execute_result",
          "data": {
            "text/plain": [
              "location                                                  United States\n",
              "date                                                         2020-05-07\n",
              "total_cases                                                     1228603\n",
              "new_cases                                                         24128\n",
              "total_deaths                                                      73431\n",
              "new_deaths                                                         2353\n",
              "total_cases_per_million                                         3711.76\n",
              "new_cases_per_million                                            72.894\n",
              "total_deaths_per_million                                        221.844\n",
              "new_deaths_per_million                                            7.109\n",
              "total_tests                                                 8.10551e+06\n",
              "new_tests                                                        318720\n",
              "total_tests_per_thousand                                         24.488\n",
              "new_tests_per_thousand                                            0.963\n",
              "tests_units                 inconsistent units (COVID Tracking Project)\n",
              "dtype: object"
            ]
          },
          "metadata": {
            "tags": []
          },
          "execution_count": 64
        }
      ]
    },
    {
      "cell_type": "code",
      "metadata": {
        "id": "kFfq__ymooV8",
        "colab_type": "code",
        "outputId": "f8c58d73-e70f-420d-c94d-64a2200044f4",
        "colab": {
          "base_uri": "https://localhost:8080/",
          "height": 498
        }
      },
      "source": [
        "dfOwidUSA = dfOwid.loc[dfOwid.iso_code=='USA']\n",
        "dfOwidUSA.set_index('date')[['new_cases','new_deaths']][-14:]"
      ],
      "execution_count": 65,
      "outputs": [
        {
          "output_type": "execute_result",
          "data": {
            "text/html": [
              "<div>\n",
              "<style scoped>\n",
              "    .dataframe tbody tr th:only-of-type {\n",
              "        vertical-align: middle;\n",
              "    }\n",
              "\n",
              "    .dataframe tbody tr th {\n",
              "        vertical-align: top;\n",
              "    }\n",
              "\n",
              "    .dataframe thead th {\n",
              "        text-align: right;\n",
              "    }\n",
              "</style>\n",
              "<table border=\"1\" class=\"dataframe\">\n",
              "  <thead>\n",
              "    <tr style=\"text-align: right;\">\n",
              "      <th></th>\n",
              "      <th>new_cases</th>\n",
              "      <th>new_deaths</th>\n",
              "    </tr>\n",
              "    <tr>\n",
              "      <th>date</th>\n",
              "      <th></th>\n",
              "      <th></th>\n",
              "    </tr>\n",
              "  </thead>\n",
              "  <tbody>\n",
              "    <tr>\n",
              "      <th>2020-04-25</th>\n",
              "      <td>21352</td>\n",
              "      <td>1054</td>\n",
              "    </tr>\n",
              "    <tr>\n",
              "      <th>2020-04-26</th>\n",
              "      <td>48529</td>\n",
              "      <td>2172</td>\n",
              "    </tr>\n",
              "    <tr>\n",
              "      <th>2020-04-27</th>\n",
              "      <td>26857</td>\n",
              "      <td>1687</td>\n",
              "    </tr>\n",
              "    <tr>\n",
              "      <th>2020-04-28</th>\n",
              "      <td>22541</td>\n",
              "      <td>1369</td>\n",
              "    </tr>\n",
              "    <tr>\n",
              "      <th>2020-04-29</th>\n",
              "      <td>24132</td>\n",
              "      <td>2110</td>\n",
              "    </tr>\n",
              "    <tr>\n",
              "      <th>2020-04-30</th>\n",
              "      <td>27326</td>\n",
              "      <td>2611</td>\n",
              "    </tr>\n",
              "    <tr>\n",
              "      <th>2020-05-01</th>\n",
              "      <td>29917</td>\n",
              "      <td>2040</td>\n",
              "    </tr>\n",
              "    <tr>\n",
              "      <th>2020-05-02</th>\n",
              "      <td>33955</td>\n",
              "      <td>2062</td>\n",
              "    </tr>\n",
              "    <tr>\n",
              "      <th>2020-05-03</th>\n",
              "      <td>29288</td>\n",
              "      <td>1317</td>\n",
              "    </tr>\n",
              "    <tr>\n",
              "      <th>2020-05-04</th>\n",
              "      <td>24972</td>\n",
              "      <td>1297</td>\n",
              "    </tr>\n",
              "    <tr>\n",
              "      <th>2020-05-05</th>\n",
              "      <td>22593</td>\n",
              "      <td>1252</td>\n",
              "    </tr>\n",
              "    <tr>\n",
              "      <th>2020-05-06</th>\n",
              "      <td>23841</td>\n",
              "      <td>2144</td>\n",
              "    </tr>\n",
              "    <tr>\n",
              "      <th>2020-05-07</th>\n",
              "      <td>24128</td>\n",
              "      <td>2353</td>\n",
              "    </tr>\n",
              "    <tr>\n",
              "      <th>2020-05-08</th>\n",
              "      <td>28369</td>\n",
              "      <td>2239</td>\n",
              "    </tr>\n",
              "  </tbody>\n",
              "</table>\n",
              "</div>"
            ],
            "text/plain": [
              "            new_cases  new_deaths\n",
              "date                             \n",
              "2020-04-25      21352        1054\n",
              "2020-04-26      48529        2172\n",
              "2020-04-27      26857        1687\n",
              "2020-04-28      22541        1369\n",
              "2020-04-29      24132        2110\n",
              "2020-04-30      27326        2611\n",
              "2020-05-01      29917        2040\n",
              "2020-05-02      33955        2062\n",
              "2020-05-03      29288        1317\n",
              "2020-05-04      24972        1297\n",
              "2020-05-05      22593        1252\n",
              "2020-05-06      23841        2144\n",
              "2020-05-07      24128        2353\n",
              "2020-05-08      28369        2239"
            ]
          },
          "metadata": {
            "tags": []
          },
          "execution_count": 65
        }
      ]
    },
    {
      "cell_type": "code",
      "metadata": {
        "id": "hV5vAXrllxWs",
        "colab_type": "code",
        "outputId": "ae32b5cc-bb47-4e1d-9320-4f648f047bb6",
        "colab": {
          "base_uri": "https://localhost:8080/",
          "height": 768
        }
      },
      "source": [
        "dfOwidUSA.set_index('date')"
      ],
      "execution_count": 66,
      "outputs": [
        {
          "output_type": "execute_result",
          "data": {
            "text/html": [
              "<div>\n",
              "<style scoped>\n",
              "    .dataframe tbody tr th:only-of-type {\n",
              "        vertical-align: middle;\n",
              "    }\n",
              "\n",
              "    .dataframe tbody tr th {\n",
              "        vertical-align: top;\n",
              "    }\n",
              "\n",
              "    .dataframe thead th {\n",
              "        text-align: right;\n",
              "    }\n",
              "</style>\n",
              "<table border=\"1\" class=\"dataframe\">\n",
              "  <thead>\n",
              "    <tr style=\"text-align: right;\">\n",
              "      <th></th>\n",
              "      <th>iso_code</th>\n",
              "      <th>location</th>\n",
              "      <th>total_cases</th>\n",
              "      <th>new_cases</th>\n",
              "      <th>total_deaths</th>\n",
              "      <th>new_deaths</th>\n",
              "      <th>total_cases_per_million</th>\n",
              "      <th>new_cases_per_million</th>\n",
              "      <th>total_deaths_per_million</th>\n",
              "      <th>new_deaths_per_million</th>\n",
              "      <th>total_tests</th>\n",
              "      <th>new_tests</th>\n",
              "      <th>total_tests_per_thousand</th>\n",
              "      <th>new_tests_per_thousand</th>\n",
              "      <th>tests_units</th>\n",
              "    </tr>\n",
              "    <tr>\n",
              "      <th>date</th>\n",
              "      <th></th>\n",
              "      <th></th>\n",
              "      <th></th>\n",
              "      <th></th>\n",
              "      <th></th>\n",
              "      <th></th>\n",
              "      <th></th>\n",
              "      <th></th>\n",
              "      <th></th>\n",
              "      <th></th>\n",
              "      <th></th>\n",
              "      <th></th>\n",
              "      <th></th>\n",
              "      <th></th>\n",
              "      <th></th>\n",
              "    </tr>\n",
              "  </thead>\n",
              "  <tbody>\n",
              "    <tr>\n",
              "      <th>2019-12-31</th>\n",
              "      <td>USA</td>\n",
              "      <td>United States</td>\n",
              "      <td>0</td>\n",
              "      <td>0</td>\n",
              "      <td>0</td>\n",
              "      <td>0</td>\n",
              "      <td>0.000</td>\n",
              "      <td>0.000</td>\n",
              "      <td>0.000</td>\n",
              "      <td>0.000</td>\n",
              "      <td>NaN</td>\n",
              "      <td>NaN</td>\n",
              "      <td>NaN</td>\n",
              "      <td>NaN</td>\n",
              "      <td>NaN</td>\n",
              "    </tr>\n",
              "    <tr>\n",
              "      <th>2020-01-01</th>\n",
              "      <td>USA</td>\n",
              "      <td>United States</td>\n",
              "      <td>0</td>\n",
              "      <td>0</td>\n",
              "      <td>0</td>\n",
              "      <td>0</td>\n",
              "      <td>0.000</td>\n",
              "      <td>0.000</td>\n",
              "      <td>0.000</td>\n",
              "      <td>0.000</td>\n",
              "      <td>NaN</td>\n",
              "      <td>NaN</td>\n",
              "      <td>NaN</td>\n",
              "      <td>NaN</td>\n",
              "      <td>NaN</td>\n",
              "    </tr>\n",
              "    <tr>\n",
              "      <th>2020-01-02</th>\n",
              "      <td>USA</td>\n",
              "      <td>United States</td>\n",
              "      <td>0</td>\n",
              "      <td>0</td>\n",
              "      <td>0</td>\n",
              "      <td>0</td>\n",
              "      <td>0.000</td>\n",
              "      <td>0.000</td>\n",
              "      <td>0.000</td>\n",
              "      <td>0.000</td>\n",
              "      <td>NaN</td>\n",
              "      <td>NaN</td>\n",
              "      <td>NaN</td>\n",
              "      <td>NaN</td>\n",
              "      <td>NaN</td>\n",
              "    </tr>\n",
              "    <tr>\n",
              "      <th>2020-01-03</th>\n",
              "      <td>USA</td>\n",
              "      <td>United States</td>\n",
              "      <td>0</td>\n",
              "      <td>0</td>\n",
              "      <td>0</td>\n",
              "      <td>0</td>\n",
              "      <td>0.000</td>\n",
              "      <td>0.000</td>\n",
              "      <td>0.000</td>\n",
              "      <td>0.000</td>\n",
              "      <td>NaN</td>\n",
              "      <td>NaN</td>\n",
              "      <td>NaN</td>\n",
              "      <td>NaN</td>\n",
              "      <td>NaN</td>\n",
              "    </tr>\n",
              "    <tr>\n",
              "      <th>2020-01-04</th>\n",
              "      <td>USA</td>\n",
              "      <td>United States</td>\n",
              "      <td>0</td>\n",
              "      <td>0</td>\n",
              "      <td>0</td>\n",
              "      <td>0</td>\n",
              "      <td>0.000</td>\n",
              "      <td>0.000</td>\n",
              "      <td>0.000</td>\n",
              "      <td>0.000</td>\n",
              "      <td>NaN</td>\n",
              "      <td>NaN</td>\n",
              "      <td>NaN</td>\n",
              "      <td>NaN</td>\n",
              "      <td>NaN</td>\n",
              "    </tr>\n",
              "    <tr>\n",
              "      <th>...</th>\n",
              "      <td>...</td>\n",
              "      <td>...</td>\n",
              "      <td>...</td>\n",
              "      <td>...</td>\n",
              "      <td>...</td>\n",
              "      <td>...</td>\n",
              "      <td>...</td>\n",
              "      <td>...</td>\n",
              "      <td>...</td>\n",
              "      <td>...</td>\n",
              "      <td>...</td>\n",
              "      <td>...</td>\n",
              "      <td>...</td>\n",
              "      <td>...</td>\n",
              "      <td>...</td>\n",
              "    </tr>\n",
              "    <tr>\n",
              "      <th>2020-05-04</th>\n",
              "      <td>USA</td>\n",
              "      <td>United States</td>\n",
              "      <td>1158041</td>\n",
              "      <td>24972</td>\n",
              "      <td>67682</td>\n",
              "      <td>1297</td>\n",
              "      <td>3498.585</td>\n",
              "      <td>75.444</td>\n",
              "      <td>204.476</td>\n",
              "      <td>3.918</td>\n",
              "      <td>7285374.0</td>\n",
              "      <td>232008.0</td>\n",
              "      <td>22.010</td>\n",
              "      <td>0.701</td>\n",
              "      <td>inconsistent units (COVID Tracking Project)</td>\n",
              "    </tr>\n",
              "    <tr>\n",
              "      <th>2020-05-05</th>\n",
              "      <td>USA</td>\n",
              "      <td>United States</td>\n",
              "      <td>1180634</td>\n",
              "      <td>22593</td>\n",
              "      <td>68934</td>\n",
              "      <td>1252</td>\n",
              "      <td>3566.842</td>\n",
              "      <td>68.256</td>\n",
              "      <td>208.258</td>\n",
              "      <td>3.782</td>\n",
              "      <td>7544328.0</td>\n",
              "      <td>258954.0</td>\n",
              "      <td>22.792</td>\n",
              "      <td>0.782</td>\n",
              "      <td>inconsistent units (COVID Tracking Project)</td>\n",
              "    </tr>\n",
              "    <tr>\n",
              "      <th>2020-05-06</th>\n",
              "      <td>USA</td>\n",
              "      <td>United States</td>\n",
              "      <td>1204475</td>\n",
              "      <td>23841</td>\n",
              "      <td>71078</td>\n",
              "      <td>2144</td>\n",
              "      <td>3638.868</td>\n",
              "      <td>72.027</td>\n",
              "      <td>214.735</td>\n",
              "      <td>6.477</td>\n",
              "      <td>7786793.0</td>\n",
              "      <td>242465.0</td>\n",
              "      <td>23.525</td>\n",
              "      <td>0.733</td>\n",
              "      <td>inconsistent units (COVID Tracking Project)</td>\n",
              "    </tr>\n",
              "    <tr>\n",
              "      <th>2020-05-07</th>\n",
              "      <td>USA</td>\n",
              "      <td>United States</td>\n",
              "      <td>1228603</td>\n",
              "      <td>24128</td>\n",
              "      <td>73431</td>\n",
              "      <td>2353</td>\n",
              "      <td>3711.762</td>\n",
              "      <td>72.894</td>\n",
              "      <td>221.844</td>\n",
              "      <td>7.109</td>\n",
              "      <td>8105513.0</td>\n",
              "      <td>318720.0</td>\n",
              "      <td>24.488</td>\n",
              "      <td>0.963</td>\n",
              "      <td>inconsistent units (COVID Tracking Project)</td>\n",
              "    </tr>\n",
              "    <tr>\n",
              "      <th>2020-05-08</th>\n",
              "      <td>USA</td>\n",
              "      <td>United States</td>\n",
              "      <td>1256972</td>\n",
              "      <td>28369</td>\n",
              "      <td>75670</td>\n",
              "      <td>2239</td>\n",
              "      <td>3797.468</td>\n",
              "      <td>85.706</td>\n",
              "      <td>228.608</td>\n",
              "      <td>6.764</td>\n",
              "      <td>NaN</td>\n",
              "      <td>NaN</td>\n",
              "      <td>NaN</td>\n",
              "      <td>NaN</td>\n",
              "      <td>NaN</td>\n",
              "    </tr>\n",
              "  </tbody>\n",
              "</table>\n",
              "<p>130 rows × 15 columns</p>\n",
              "</div>"
            ],
            "text/plain": [
              "           iso_code  ...                                  tests_units\n",
              "date                 ...                                             \n",
              "2019-12-31      USA  ...                                          NaN\n",
              "2020-01-01      USA  ...                                          NaN\n",
              "2020-01-02      USA  ...                                          NaN\n",
              "2020-01-03      USA  ...                                          NaN\n",
              "2020-01-04      USA  ...                                          NaN\n",
              "...             ...  ...                                          ...\n",
              "2020-05-04      USA  ...  inconsistent units (COVID Tracking Project)\n",
              "2020-05-05      USA  ...  inconsistent units (COVID Tracking Project)\n",
              "2020-05-06      USA  ...  inconsistent units (COVID Tracking Project)\n",
              "2020-05-07      USA  ...  inconsistent units (COVID Tracking Project)\n",
              "2020-05-08      USA  ...                                          NaN\n",
              "\n",
              "[130 rows x 15 columns]"
            ]
          },
          "metadata": {
            "tags": []
          },
          "execution_count": 66
        }
      ]
    },
    {
      "cell_type": "code",
      "metadata": {
        "id": "reQqUOGsqSiW",
        "colab_type": "code",
        "outputId": "7961295e-741b-4653-846c-9d04470657d7",
        "colab": {
          "base_uri": "https://localhost:8080/",
          "height": 305
        }
      },
      "source": [
        "dfCovidtracking.head()"
      ],
      "execution_count": 67,
      "outputs": [
        {
          "output_type": "execute_result",
          "data": {
            "text/html": [
              "<div>\n",
              "<style scoped>\n",
              "    .dataframe tbody tr th:only-of-type {\n",
              "        vertical-align: middle;\n",
              "    }\n",
              "\n",
              "    .dataframe tbody tr th {\n",
              "        vertical-align: top;\n",
              "    }\n",
              "\n",
              "    .dataframe thead th {\n",
              "        text-align: right;\n",
              "    }\n",
              "</style>\n",
              "<table border=\"1\" class=\"dataframe\">\n",
              "  <thead>\n",
              "    <tr style=\"text-align: right;\">\n",
              "      <th></th>\n",
              "      <th>date</th>\n",
              "      <th>state</th>\n",
              "      <th>positive</th>\n",
              "      <th>negative</th>\n",
              "      <th>pending</th>\n",
              "      <th>hospitalizedCurrently</th>\n",
              "      <th>hospitalizedCumulative</th>\n",
              "      <th>inIcuCurrently</th>\n",
              "      <th>inIcuCumulative</th>\n",
              "      <th>onVentilatorCurrently</th>\n",
              "      <th>onVentilatorCumulative</th>\n",
              "      <th>recovered</th>\n",
              "      <th>dataQualityGrade</th>\n",
              "      <th>lastUpdateEt</th>\n",
              "      <th>hash</th>\n",
              "      <th>dateChecked</th>\n",
              "      <th>death</th>\n",
              "      <th>hospitalized</th>\n",
              "      <th>total</th>\n",
              "      <th>totalTestResults</th>\n",
              "      <th>posNeg</th>\n",
              "      <th>fips</th>\n",
              "      <th>deathIncrease</th>\n",
              "      <th>hospitalizedIncrease</th>\n",
              "      <th>negativeIncrease</th>\n",
              "      <th>positiveIncrease</th>\n",
              "      <th>totalTestResultsIncrease</th>\n",
              "    </tr>\n",
              "  </thead>\n",
              "  <tbody>\n",
              "    <tr>\n",
              "      <th>0</th>\n",
              "      <td>2020-05-08</td>\n",
              "      <td>AK</td>\n",
              "      <td>377</td>\n",
              "      <td>25096</td>\n",
              "      <td>0</td>\n",
              "      <td>16.0</td>\n",
              "      <td>0.0</td>\n",
              "      <td>0.0</td>\n",
              "      <td>0.0</td>\n",
              "      <td>0.0</td>\n",
              "      <td>0.0</td>\n",
              "      <td>305.0</td>\n",
              "      <td>C</td>\n",
              "      <td>5/8/2020 00:00</td>\n",
              "      <td>81130d86c029e28f831d55def58fcadc319009c7</td>\n",
              "      <td>2020-05-08T20:00:00Z</td>\n",
              "      <td>10</td>\n",
              "      <td>0.0</td>\n",
              "      <td>25473</td>\n",
              "      <td>25473</td>\n",
              "      <td>25473</td>\n",
              "      <td>02</td>\n",
              "      <td>0.0</td>\n",
              "      <td>0.0</td>\n",
              "      <td>1129.0</td>\n",
              "      <td>3.0</td>\n",
              "      <td>1132.0</td>\n",
              "    </tr>\n",
              "    <tr>\n",
              "      <th>1</th>\n",
              "      <td>2020-05-08</td>\n",
              "      <td>AL</td>\n",
              "      <td>9221</td>\n",
              "      <td>110893</td>\n",
              "      <td>0</td>\n",
              "      <td>0.0</td>\n",
              "      <td>1207.0</td>\n",
              "      <td>0.0</td>\n",
              "      <td>454.0</td>\n",
              "      <td>0.0</td>\n",
              "      <td>266.0</td>\n",
              "      <td>0.0</td>\n",
              "      <td>B</td>\n",
              "      <td>5/8/2020 00:00</td>\n",
              "      <td>7aa497df30566f92a1e2edef1fc0ea0aa8bb2120</td>\n",
              "      <td>2020-05-08T20:00:00Z</td>\n",
              "      <td>375</td>\n",
              "      <td>1207.0</td>\n",
              "      <td>120114</td>\n",
              "      <td>120114</td>\n",
              "      <td>120114</td>\n",
              "      <td>01</td>\n",
              "      <td>26.0</td>\n",
              "      <td>29.0</td>\n",
              "      <td>4618.0</td>\n",
              "      <td>323.0</td>\n",
              "      <td>4941.0</td>\n",
              "    </tr>\n",
              "    <tr>\n",
              "      <th>2</th>\n",
              "      <td>2020-05-08</td>\n",
              "      <td>AR</td>\n",
              "      <td>3694</td>\n",
              "      <td>60300</td>\n",
              "      <td>0</td>\n",
              "      <td>70.0</td>\n",
              "      <td>466.0</td>\n",
              "      <td>0.0</td>\n",
              "      <td>0.0</td>\n",
              "      <td>14.0</td>\n",
              "      <td>93.0</td>\n",
              "      <td>2159.0</td>\n",
              "      <td>B</td>\n",
              "      <td>5/8/2020 08:15</td>\n",
              "      <td>a4ca6c4d1efac4b48f7e80e29bbc2be13f132133</td>\n",
              "      <td>2020-05-08T20:00:00Z</td>\n",
              "      <td>88</td>\n",
              "      <td>466.0</td>\n",
              "      <td>63994</td>\n",
              "      <td>63994</td>\n",
              "      <td>63994</td>\n",
              "      <td>05</td>\n",
              "      <td>1.0</td>\n",
              "      <td>4.0</td>\n",
              "      <td>3916.0</td>\n",
              "      <td>83.0</td>\n",
              "      <td>3999.0</td>\n",
              "    </tr>\n",
              "    <tr>\n",
              "      <th>3</th>\n",
              "      <td>2020-05-08</td>\n",
              "      <td>AS</td>\n",
              "      <td>0</td>\n",
              "      <td>83</td>\n",
              "      <td>0</td>\n",
              "      <td>0.0</td>\n",
              "      <td>0.0</td>\n",
              "      <td>0.0</td>\n",
              "      <td>0.0</td>\n",
              "      <td>0.0</td>\n",
              "      <td>0.0</td>\n",
              "      <td>0.0</td>\n",
              "      <td>F</td>\n",
              "      <td>5/3/2020 00:00</td>\n",
              "      <td>aee242eef36c48dcf1bf337be214b3af34e8e755</td>\n",
              "      <td>2020-05-08T20:00:00Z</td>\n",
              "      <td>0</td>\n",
              "      <td>0.0</td>\n",
              "      <td>83</td>\n",
              "      <td>83</td>\n",
              "      <td>83</td>\n",
              "      <td>60</td>\n",
              "      <td>0.0</td>\n",
              "      <td>0.0</td>\n",
              "      <td>0.0</td>\n",
              "      <td>0.0</td>\n",
              "      <td>0.0</td>\n",
              "    </tr>\n",
              "    <tr>\n",
              "      <th>4</th>\n",
              "      <td>2020-05-08</td>\n",
              "      <td>AZ</td>\n",
              "      <td>10526</td>\n",
              "      <td>109381</td>\n",
              "      <td>0</td>\n",
              "      <td>730.0</td>\n",
              "      <td>1482.0</td>\n",
              "      <td>295.0</td>\n",
              "      <td>0.0</td>\n",
              "      <td>197.0</td>\n",
              "      <td>0.0</td>\n",
              "      <td>1747.0</td>\n",
              "      <td>A+</td>\n",
              "      <td>5/8/2020 00:00</td>\n",
              "      <td>f90cd0eb502865124ca024e8cd4dd3173109c8a9</td>\n",
              "      <td>2020-05-08T20:00:00Z</td>\n",
              "      <td>517</td>\n",
              "      <td>1482.0</td>\n",
              "      <td>119907</td>\n",
              "      <td>119907</td>\n",
              "      <td>119907</td>\n",
              "      <td>04</td>\n",
              "      <td>67.0</td>\n",
              "      <td>33.0</td>\n",
              "      <td>8240.0</td>\n",
              "      <td>581.0</td>\n",
              "      <td>8821.0</td>\n",
              "    </tr>\n",
              "  </tbody>\n",
              "</table>\n",
              "</div>"
            ],
            "text/plain": [
              "        date state  ...  positiveIncrease  totalTestResultsIncrease\n",
              "0 2020-05-08    AK  ...               3.0                    1132.0\n",
              "1 2020-05-08    AL  ...             323.0                    4941.0\n",
              "2 2020-05-08    AR  ...              83.0                    3999.0\n",
              "3 2020-05-08    AS  ...               0.0                       0.0\n",
              "4 2020-05-08    AZ  ...             581.0                    8821.0\n",
              "\n",
              "[5 rows x 27 columns]"
            ]
          },
          "metadata": {
            "tags": []
          },
          "execution_count": 67
        }
      ]
    },
    {
      "cell_type": "code",
      "metadata": {
        "id": "TLcrZlOtMrw4",
        "colab_type": "code",
        "colab": {}
      },
      "source": [
        "dfWeeklyFL = dfCovidtracking.loc[dfCovidtracking.state=='FL'].set_index('date')\\\n",
        ".groupby(by=lambda x: x.week).sum()\n"
      ],
      "execution_count": 0,
      "outputs": []
    },
    {
      "cell_type": "code",
      "metadata": {
        "id": "DAPb9lcDM4sD",
        "colab_type": "code",
        "outputId": "8c43ee68-c5a0-4ba3-aea3-6e5ad278721f",
        "colab": {
          "base_uri": "https://localhost:8080/",
          "height": 265
        }
      },
      "source": [
        "plt = dfWeeklyFL[:-1].positiveIncrease.plot.line()"
      ],
      "execution_count": 69,
      "outputs": [
        {
          "output_type": "display_data",
          "data": {
            "image/png": "[encoded data removed]",
            "text/plain": [
              "<Figure size 432x288 with 1 Axes>"
            ]
          },
          "metadata": {
            "tags": [],
            "needs_background": "light"
          }
        }
      ]
    },
    {
      "cell_type": "code",
      "metadata": {
        "id": "DJPb2rO9RIjF",
        "colab_type": "code",
        "outputId": "c02a118a-fa05-4c5d-df22-5c40c8944592",
        "colab": {
          "base_uri": "https://localhost:8080/",
          "height": 35
        }
      },
      "source": [
        "dfJHUData[dfJHUData.state=='Florida'].confirmed.sum()"
      ],
      "execution_count": 70,
      "outputs": [
        {
          "output_type": "execute_result",
          "data": {
            "text/plain": [
              "38828"
            ]
          },
          "metadata": {
            "tags": []
          },
          "execution_count": 70
        }
      ]
    },
    {
      "cell_type": "code",
      "metadata": {
        "id": "uFQUFgYoVB-q",
        "colab_type": "code",
        "outputId": "949b11e6-9036-4def-f333-39318f0bb4f2",
        "colab": {
          "base_uri": "https://localhost:8080/",
          "height": 600
        }
      },
      "source": [
        "dfCovidtracking[dfCovidtracking.state=='FL']"
      ],
      "execution_count": 71,
      "outputs": [
        {
          "output_type": "execute_result",
          "data": {
            "text/html": [
              "<div>\n",
              "<style scoped>\n",
              "    .dataframe tbody tr th:only-of-type {\n",
              "        vertical-align: middle;\n",
              "    }\n",
              "\n",
              "    .dataframe tbody tr th {\n",
              "        vertical-align: top;\n",
              "    }\n",
              "\n",
              "    .dataframe thead th {\n",
              "        text-align: right;\n",
              "    }\n",
              "</style>\n",
              "<table border=\"1\" class=\"dataframe\">\n",
              "  <thead>\n",
              "    <tr style=\"text-align: right;\">\n",
              "      <th></th>\n",
              "      <th>date</th>\n",
              "      <th>state</th>\n",
              "      <th>positive</th>\n",
              "      <th>negative</th>\n",
              "      <th>pending</th>\n",
              "      <th>hospitalizedCurrently</th>\n",
              "      <th>hospitalizedCumulative</th>\n",
              "      <th>inIcuCurrently</th>\n",
              "      <th>inIcuCumulative</th>\n",
              "      <th>onVentilatorCurrently</th>\n",
              "      <th>onVentilatorCumulative</th>\n",
              "      <th>recovered</th>\n",
              "      <th>dataQualityGrade</th>\n",
              "      <th>lastUpdateEt</th>\n",
              "      <th>hash</th>\n",
              "      <th>dateChecked</th>\n",
              "      <th>death</th>\n",
              "      <th>hospitalized</th>\n",
              "      <th>total</th>\n",
              "      <th>totalTestResults</th>\n",
              "      <th>posNeg</th>\n",
              "      <th>fips</th>\n",
              "      <th>deathIncrease</th>\n",
              "      <th>hospitalizedIncrease</th>\n",
              "      <th>negativeIncrease</th>\n",
              "      <th>positiveIncrease</th>\n",
              "      <th>totalTestResultsIncrease</th>\n",
              "    </tr>\n",
              "  </thead>\n",
              "  <tbody>\n",
              "    <tr>\n",
              "      <th>10</th>\n",
              "      <td>2020-05-08</td>\n",
              "      <td>FL</td>\n",
              "      <td>39199</td>\n",
              "      <td>474142</td>\n",
              "      <td>1433</td>\n",
              "      <td>0.0</td>\n",
              "      <td>7157.0</td>\n",
              "      <td>0.0</td>\n",
              "      <td>0.0</td>\n",
              "      <td>0.0</td>\n",
              "      <td>0.0</td>\n",
              "      <td>0.0</td>\n",
              "      <td>C</td>\n",
              "      <td>5/8/2020 10:10</td>\n",
              "      <td>d523f47e828d33beb300781280737503c7ddcbb1</td>\n",
              "      <td>2020-05-08T20:00:00Z</td>\n",
              "      <td>1738</td>\n",
              "      <td>7157.0</td>\n",
              "      <td>514774</td>\n",
              "      <td>513341</td>\n",
              "      <td>513341</td>\n",
              "      <td>12</td>\n",
              "      <td>71.0</td>\n",
              "      <td>167.0</td>\n",
              "      <td>20020.0</td>\n",
              "      <td>371.0</td>\n",
              "      <td>20391.0</td>\n",
              "    </tr>\n",
              "    <tr>\n",
              "      <th>66</th>\n",
              "      <td>2020-05-07</td>\n",
              "      <td>FL</td>\n",
              "      <td>38828</td>\n",
              "      <td>454122</td>\n",
              "      <td>1499</td>\n",
              "      <td>0.0</td>\n",
              "      <td>6990.0</td>\n",
              "      <td>0.0</td>\n",
              "      <td>0.0</td>\n",
              "      <td>0.0</td>\n",
              "      <td>0.0</td>\n",
              "      <td>0.0</td>\n",
              "      <td>C</td>\n",
              "      <td>5/7/2020 14:40</td>\n",
              "      <td>82a555f5e7054b394251d1718a523e26517abba0</td>\n",
              "      <td>2020-05-07T20:00:00Z</td>\n",
              "      <td>1667</td>\n",
              "      <td>6990.0</td>\n",
              "      <td>494449</td>\n",
              "      <td>492950</td>\n",
              "      <td>492950</td>\n",
              "      <td>12</td>\n",
              "      <td>62.0</td>\n",
              "      <td>214.0</td>\n",
              "      <td>12073.0</td>\n",
              "      <td>826.0</td>\n",
              "      <td>12899.0</td>\n",
              "    </tr>\n",
              "    <tr>\n",
              "      <th>122</th>\n",
              "      <td>2020-05-06</td>\n",
              "      <td>FL</td>\n",
              "      <td>38002</td>\n",
              "      <td>442049</td>\n",
              "      <td>1351</td>\n",
              "      <td>0.0</td>\n",
              "      <td>6776.0</td>\n",
              "      <td>0.0</td>\n",
              "      <td>0.0</td>\n",
              "      <td>0.0</td>\n",
              "      <td>0.0</td>\n",
              "      <td>0.0</td>\n",
              "      <td>C</td>\n",
              "      <td>5/6/2020 09:45</td>\n",
              "      <td>ef53ede20479581dcab76508f0c672a9542fe387</td>\n",
              "      <td>2020-05-06T20:00:00Z</td>\n",
              "      <td>1605</td>\n",
              "      <td>6776.0</td>\n",
              "      <td>481402</td>\n",
              "      <td>480051</td>\n",
              "      <td>480051</td>\n",
              "      <td>12</td>\n",
              "      <td>69.0</td>\n",
              "      <td>230.0</td>\n",
              "      <td>13797.0</td>\n",
              "      <td>563.0</td>\n",
              "      <td>14360.0</td>\n",
              "    </tr>\n",
              "    <tr>\n",
              "      <th>178</th>\n",
              "      <td>2020-05-05</td>\n",
              "      <td>FL</td>\n",
              "      <td>37439</td>\n",
              "      <td>428252</td>\n",
              "      <td>1265</td>\n",
              "      <td>0.0</td>\n",
              "      <td>6546.0</td>\n",
              "      <td>0.0</td>\n",
              "      <td>0.0</td>\n",
              "      <td>0.0</td>\n",
              "      <td>0.0</td>\n",
              "      <td>0.0</td>\n",
              "      <td>C</td>\n",
              "      <td>5/5/2020 10:31</td>\n",
              "      <td>cc9858355edd3f9217a9161416e34034e40cfd24</td>\n",
              "      <td>2020-05-05T20:00:00Z</td>\n",
              "      <td>1536</td>\n",
              "      <td>6546.0</td>\n",
              "      <td>466956</td>\n",
              "      <td>465691</td>\n",
              "      <td>465691</td>\n",
              "      <td>12</td>\n",
              "      <td>113.0</td>\n",
              "      <td>217.0</td>\n",
              "      <td>20879.0</td>\n",
              "      <td>542.0</td>\n",
              "      <td>21421.0</td>\n",
              "    </tr>\n",
              "    <tr>\n",
              "      <th>234</th>\n",
              "      <td>2020-05-04</td>\n",
              "      <td>FL</td>\n",
              "      <td>36897</td>\n",
              "      <td>407373</td>\n",
              "      <td>1181</td>\n",
              "      <td>0.0</td>\n",
              "      <td>6329.0</td>\n",
              "      <td>0.0</td>\n",
              "      <td>0.0</td>\n",
              "      <td>0.0</td>\n",
              "      <td>0.0</td>\n",
              "      <td>0.0</td>\n",
              "      <td>C</td>\n",
              "      <td>5/4/2020 09:12</td>\n",
              "      <td>ab9900a3978e419e37fd28c4c86ff5943dbb92e4</td>\n",
              "      <td>2020-05-04T20:00:00Z</td>\n",
              "      <td>1423</td>\n",
              "      <td>6329.0</td>\n",
              "      <td>445451</td>\n",
              "      <td>444270</td>\n",
              "      <td>444270</td>\n",
              "      <td>12</td>\n",
              "      <td>20.0</td>\n",
              "      <td>85.0</td>\n",
              "      <td>15262.0</td>\n",
              "      <td>819.0</td>\n",
              "      <td>16081.0</td>\n",
              "    </tr>\n",
              "    <tr>\n",
              "      <th>...</th>\n",
              "      <td>...</td>\n",
              "      <td>...</td>\n",
              "      <td>...</td>\n",
              "      <td>...</td>\n",
              "      <td>...</td>\n",
              "      <td>...</td>\n",
              "      <td>...</td>\n",
              "      <td>...</td>\n",
              "      <td>...</td>\n",
              "      <td>...</td>\n",
              "      <td>...</td>\n",
              "      <td>...</td>\n",
              "      <td>...</td>\n",
              "      <td>...</td>\n",
              "      <td>...</td>\n",
              "      <td>...</td>\n",
              "      <td>...</td>\n",
              "      <td>...</td>\n",
              "      <td>...</td>\n",
              "      <td>...</td>\n",
              "      <td>...</td>\n",
              "      <td>...</td>\n",
              "      <td>...</td>\n",
              "      <td>...</td>\n",
              "      <td>...</td>\n",
              "      <td>...</td>\n",
              "      <td>...</td>\n",
              "    </tr>\n",
              "    <tr>\n",
              "      <th>3387</th>\n",
              "      <td>2020-03-08</td>\n",
              "      <td>FL</td>\n",
              "      <td>17</td>\n",
              "      <td>118</td>\n",
              "      <td>108</td>\n",
              "      <td>0.0</td>\n",
              "      <td>0.0</td>\n",
              "      <td>0.0</td>\n",
              "      <td>0.0</td>\n",
              "      <td>0.0</td>\n",
              "      <td>0.0</td>\n",
              "      <td>0.0</td>\n",
              "      <td>0</td>\n",
              "      <td>0</td>\n",
              "      <td>6fe85d0dc53d6860063f38e98dccf29e36f035c3</td>\n",
              "      <td>2020-03-08T20:00:00Z</td>\n",
              "      <td>0</td>\n",
              "      <td>0.0</td>\n",
              "      <td>243</td>\n",
              "      <td>135</td>\n",
              "      <td>135</td>\n",
              "      <td>12</td>\n",
              "      <td>0.0</td>\n",
              "      <td>0.0</td>\n",
              "      <td>18.0</td>\n",
              "      <td>3.0</td>\n",
              "      <td>21.0</td>\n",
              "    </tr>\n",
              "    <tr>\n",
              "      <th>3437</th>\n",
              "      <td>2020-03-07</td>\n",
              "      <td>FL</td>\n",
              "      <td>14</td>\n",
              "      <td>100</td>\n",
              "      <td>88</td>\n",
              "      <td>0.0</td>\n",
              "      <td>0.0</td>\n",
              "      <td>0.0</td>\n",
              "      <td>0.0</td>\n",
              "      <td>0.0</td>\n",
              "      <td>0.0</td>\n",
              "      <td>0.0</td>\n",
              "      <td>0</td>\n",
              "      <td>0</td>\n",
              "      <td>78b1ecd25b46274b2fb969cd705c9ce078f24642</td>\n",
              "      <td>2020-03-07T21:00:00Z</td>\n",
              "      <td>0</td>\n",
              "      <td>0.0</td>\n",
              "      <td>202</td>\n",
              "      <td>114</td>\n",
              "      <td>114</td>\n",
              "      <td>12</td>\n",
              "      <td>0.0</td>\n",
              "      <td>0.0</td>\n",
              "      <td>45.0</td>\n",
              "      <td>5.0</td>\n",
              "      <td>50.0</td>\n",
              "    </tr>\n",
              "    <tr>\n",
              "      <th>3485</th>\n",
              "      <td>2020-03-06</td>\n",
              "      <td>FL</td>\n",
              "      <td>9</td>\n",
              "      <td>55</td>\n",
              "      <td>51</td>\n",
              "      <td>0.0</td>\n",
              "      <td>0.0</td>\n",
              "      <td>0.0</td>\n",
              "      <td>0.0</td>\n",
              "      <td>0.0</td>\n",
              "      <td>0.0</td>\n",
              "      <td>0.0</td>\n",
              "      <td>0</td>\n",
              "      <td>0</td>\n",
              "      <td>6b75ea058687eb6f8643e53e3f75f8739b986534</td>\n",
              "      <td>2020-03-06T21:00:00Z</td>\n",
              "      <td>0</td>\n",
              "      <td>0.0</td>\n",
              "      <td>115</td>\n",
              "      <td>64</td>\n",
              "      <td>64</td>\n",
              "      <td>12</td>\n",
              "      <td>0.0</td>\n",
              "      <td>0.0</td>\n",
              "      <td>24.0</td>\n",
              "      <td>0.0</td>\n",
              "      <td>24.0</td>\n",
              "    </tr>\n",
              "    <tr>\n",
              "      <th>3518</th>\n",
              "      <td>2020-03-05</td>\n",
              "      <td>FL</td>\n",
              "      <td>9</td>\n",
              "      <td>31</td>\n",
              "      <td>69</td>\n",
              "      <td>0.0</td>\n",
              "      <td>0.0</td>\n",
              "      <td>0.0</td>\n",
              "      <td>0.0</td>\n",
              "      <td>0.0</td>\n",
              "      <td>0.0</td>\n",
              "      <td>0.0</td>\n",
              "      <td>0</td>\n",
              "      <td>0</td>\n",
              "      <td>be40a4f79a747d11e86a789e72624d9fb7e87651</td>\n",
              "      <td>2020-03-05T21:00:00Z</td>\n",
              "      <td>0</td>\n",
              "      <td>0.0</td>\n",
              "      <td>109</td>\n",
              "      <td>40</td>\n",
              "      <td>40</td>\n",
              "      <td>12</td>\n",
              "      <td>0.0</td>\n",
              "      <td>0.0</td>\n",
              "      <td>7.0</td>\n",
              "      <td>7.0</td>\n",
              "      <td>14.0</td>\n",
              "    </tr>\n",
              "    <tr>\n",
              "      <th>3540</th>\n",
              "      <td>2020-03-04</td>\n",
              "      <td>FL</td>\n",
              "      <td>2</td>\n",
              "      <td>24</td>\n",
              "      <td>16</td>\n",
              "      <td>0.0</td>\n",
              "      <td>0.0</td>\n",
              "      <td>0.0</td>\n",
              "      <td>0.0</td>\n",
              "      <td>0.0</td>\n",
              "      <td>0.0</td>\n",
              "      <td>0.0</td>\n",
              "      <td>0</td>\n",
              "      <td>0</td>\n",
              "      <td>4a35e4c46f23402dcdc6bf216f34d0a541398420</td>\n",
              "      <td>2020-03-04T21:00:00Z</td>\n",
              "      <td>0</td>\n",
              "      <td>0.0</td>\n",
              "      <td>42</td>\n",
              "      <td>26</td>\n",
              "      <td>26</td>\n",
              "      <td>12</td>\n",
              "      <td>0.0</td>\n",
              "      <td>0.0</td>\n",
              "      <td>0.0</td>\n",
              "      <td>0.0</td>\n",
              "      <td>0.0</td>\n",
              "    </tr>\n",
              "  </tbody>\n",
              "</table>\n",
              "<p>66 rows × 27 columns</p>\n",
              "</div>"
            ],
            "text/plain": [
              "           date state  ...  positiveIncrease  totalTestResultsIncrease\n",
              "10   2020-05-08    FL  ...             371.0                   20391.0\n",
              "66   2020-05-07    FL  ...             826.0                   12899.0\n",
              "122  2020-05-06    FL  ...             563.0                   14360.0\n",
              "178  2020-05-05    FL  ...             542.0                   21421.0\n",
              "234  2020-05-04    FL  ...             819.0                   16081.0\n",
              "...         ...   ...  ...               ...                       ...\n",
              "3387 2020-03-08    FL  ...               3.0                      21.0\n",
              "3437 2020-03-07    FL  ...               5.0                      50.0\n",
              "3485 2020-03-06    FL  ...               0.0                      24.0\n",
              "3518 2020-03-05    FL  ...               7.0                      14.0\n",
              "3540 2020-03-04    FL  ...               0.0                       0.0\n",
              "\n",
              "[66 rows x 27 columns]"
            ]
          },
          "metadata": {
            "tags": []
          },
          "execution_count": 71
        }
      ]
    },
    {
      "cell_type": "code",
      "metadata": {
        "id": "a2_ggMU6VRNa",
        "colab_type": "code",
        "colab": {}
      },
      "source": [
        "doWGA = dfCovidtracking[dfCovidtracking.state=='GA'].set_index('date')[['deathIncrease', 'hospitalizedIncrease', 'negativeIncrease','positiveIncrease','totalTestResultsIncrease']]\\\n",
        ".groupby(lambda x: x.dayofweek)"
      ],
      "execution_count": 0,
      "outputs": []
    },
    {
      "cell_type": "code",
      "metadata": {
        "id": "a1KFQaErWpPL",
        "colab_type": "code",
        "outputId": "ed62b740-3bc4-464a-e39f-8203f5853dde",
        "colab": {
          "base_uri": "https://localhost:8080/",
          "height": 278
        }
      },
      "source": [
        "doWGA.sum()"
      ],
      "execution_count": 73,
      "outputs": [
        {
          "output_type": "execute_result",
          "data": {
            "text/html": [
              "<div>\n",
              "<style scoped>\n",
              "    .dataframe tbody tr th:only-of-type {\n",
              "        vertical-align: middle;\n",
              "    }\n",
              "\n",
              "    .dataframe tbody tr th {\n",
              "        vertical-align: top;\n",
              "    }\n",
              "\n",
              "    .dataframe thead th {\n",
              "        text-align: right;\n",
              "    }\n",
              "</style>\n",
              "<table border=\"1\" class=\"dataframe\">\n",
              "  <thead>\n",
              "    <tr style=\"text-align: right;\">\n",
              "      <th></th>\n",
              "      <th>deathIncrease</th>\n",
              "      <th>hospitalizedIncrease</th>\n",
              "      <th>negativeIncrease</th>\n",
              "      <th>positiveIncrease</th>\n",
              "      <th>totalTestResultsIncrease</th>\n",
              "    </tr>\n",
              "  </thead>\n",
              "  <tbody>\n",
              "    <tr>\n",
              "      <th>0</th>\n",
              "      <td>208.0</td>\n",
              "      <td>715.0</td>\n",
              "      <td>20005.0</td>\n",
              "      <td>3811.0</td>\n",
              "      <td>23816.0</td>\n",
              "    </tr>\n",
              "    <tr>\n",
              "      <th>1</th>\n",
              "      <td>355.0</td>\n",
              "      <td>1218.0</td>\n",
              "      <td>39541.0</td>\n",
              "      <td>5795.0</td>\n",
              "      <td>45336.0</td>\n",
              "    </tr>\n",
              "    <tr>\n",
              "      <th>2</th>\n",
              "      <td>247.0</td>\n",
              "      <td>1438.0</td>\n",
              "      <td>21047.0</td>\n",
              "      <td>5634.0</td>\n",
              "      <td>26681.0</td>\n",
              "    </tr>\n",
              "    <tr>\n",
              "      <th>3</th>\n",
              "      <td>181.0</td>\n",
              "      <td>815.0</td>\n",
              "      <td>32586.0</td>\n",
              "      <td>4532.0</td>\n",
              "      <td>37118.0</td>\n",
              "    </tr>\n",
              "    <tr>\n",
              "      <th>4</th>\n",
              "      <td>236.0</td>\n",
              "      <td>968.0</td>\n",
              "      <td>42359.0</td>\n",
              "      <td>5962.0</td>\n",
              "      <td>48321.0</td>\n",
              "    </tr>\n",
              "    <tr>\n",
              "      <th>5</th>\n",
              "      <td>90.0</td>\n",
              "      <td>579.0</td>\n",
              "      <td>25740.0</td>\n",
              "      <td>3544.0</td>\n",
              "      <td>29284.0</td>\n",
              "    </tr>\n",
              "    <tr>\n",
              "      <th>6</th>\n",
              "      <td>60.0</td>\n",
              "      <td>202.0</td>\n",
              "      <td>14183.0</td>\n",
              "      <td>2826.0</td>\n",
              "      <td>17009.0</td>\n",
              "    </tr>\n",
              "  </tbody>\n",
              "</table>\n",
              "</div>"
            ],
            "text/plain": [
              "   deathIncrease  ...  totalTestResultsIncrease\n",
              "0          208.0  ...                   23816.0\n",
              "1          355.0  ...                   45336.0\n",
              "2          247.0  ...                   26681.0\n",
              "3          181.0  ...                   37118.0\n",
              "4          236.0  ...                   48321.0\n",
              "5           90.0  ...                   29284.0\n",
              "6           60.0  ...                   17009.0\n",
              "\n",
              "[7 rows x 5 columns]"
            ]
          },
          "metadata": {
            "tags": []
          },
          "execution_count": 73
        }
      ]
    }
  ]
}