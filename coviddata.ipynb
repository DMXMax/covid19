{
  "nbformat": 4,
  "nbformat_minor": 0,
  "metadata": {
    "colab": {
      "name": "coviddata",
      "provenance": [],
      "toc_visible": true,
      "authorship_tag": "ABX9TyMx2DpgrnwzhRGAYj9jkEzO",
      "include_colab_link": true
    },
    "kernelspec": {
      "name": "python3",
      "display_name": "Python 3"
    }
  },
  "cells": [
    {
      "cell_type": "markdown",
      "metadata": {
        "id": "view-in-github",
        "colab_type": "text"
      },
      "source": [
        "<a href=\"https://colab.research.google.com/github/DMXMax/covid19/blob/gc_20200315/coviddata.ipynb\" target=\"_parent\"><img src=\"https://colab.research.google.com/assets/colab-badge.svg\" alt=\"Open In Colab\"/></a>"
      ]
    },
    {
      "cell_type": "code",
      "metadata": {
        "id": "jCzokJEPxFhv",
        "colab_type": "code",
        "colab": {}
      },
      "source": [
        "import numpy as np\n",
        "import pandas as pd\n",
        "import matplotlib.pyplot as plt\n",
        "import requests,json\n",
        "import datetime\n"
      ],
      "execution_count": 0,
      "outputs": []
    },
    {
      "cell_type": "code",
      "metadata": {
        "id": "zNKPT5Z8BXPT",
        "colab_type": "code",
        "colab": {}
      },
      "source": [
        "covidtrackingurl = \"https://covidtracking.com/api/states/daily\"\n",
        "response = requests.get(covidtrackingurl)\n",
        "dfCovidtracking = pd.DataFrame(response.json())\n",
        "dfCovidtracking.fillna(0, inplace=True)\n",
        "dfCovidtracking.negative = dfCovidtracking.negative.astype('int64')\n",
        "dfCovidtracking.positive = dfCovidtracking.positive.astype('int64')\n",
        "dfCovidtracking.pending = dfCovidtracking.pending.astype('int64')\n",
        "dfCovidtracking.total = dfCovidtracking.total.astype('int64')\n",
        "dfCovidtracking.death = dfCovidtracking.death.astype('int64')\n"
      ],
      "execution_count": 0,
      "outputs": []
    },
    {
      "cell_type": "code",
      "metadata": {
        "id": "8_Il5iuohC8_",
        "colab_type": "code",
        "colab": {}
      },
      "source": [
        "dfWHO = pd.read_csv(\"https://raw.githubusercontent.com/DMXMax/covid19/master/who/who_data.tsv\",\n",
        "                     sep='\\t', index_col='Date')"
      ],
      "execution_count": 0,
      "outputs": []
    },
    {
      "cell_type": "code",
      "metadata": {
        "id": "IHNp61EvdwQG",
        "colab_type": "code",
        "colab": {}
      },
      "source": [
        "jhurl = \"https://raw.githubusercontent.com/CSSEGISandData/COVID-19/master/\"+\\\n",
        "\"csse_covid_19_data/csse_covid_19_daily_reports/03-31-2020.csv\"\n",
        "\n",
        "#https://raw.githubusercontent.com/CSSEGISandData/COVID-19/master/\n",
        "#csse_covid_19_data/csse_covid_19_daily_reports/04-01-2020.csv\n",
        "dfJHUData = pd.read_csv(jhurl, header=0,\n",
        "                        names=['FIPS', 'city','state', 'country', 'last_update',\n",
        "                               'lat', 'lon','confirmed', 'dead', 'recovered','active', 'key'])"
      ],
      "execution_count": 0,
      "outputs": []
    },
    {
      "cell_type": "code",
      "metadata": {
        "id": "hrPlWJJCVtBR",
        "colab_type": "code",
        "colab": {}
      },
      "source": [
        "dfWHO = dfWHO.rename(columns={\"Confirmed\": \"confirmed\", \"Deaths\": \"who_deaths\"})\n",
        "dfWHO.index.names=['date']\n"
      ],
      "execution_count": 0,
      "outputs": []
    },
    {
      "cell_type": "code",
      "metadata": {
        "id": "HWHSGPq_yF50",
        "colab_type": "code",
        "outputId": "c4c86d45-551c-456c-8d73-45070fea4cf1",
        "colab": {
          "base_uri": "https://localhost:8080/",
          "height": 156
        }
      },
      "source": [
        "us_pop = 329968629  #Estimate from Wikipedia\n",
        "res = dfCovidtracking.loc[dfCovidtracking.date==dfCovidtracking.date.max(), ['positive', 'negative', 'pending','death', 'total']].sum()\n",
        "print(res)\n",
        "print(f\"Current Infection Rate {res.positive/res.total*100:2f}%\")\n",
        "print(f\"Percentage of US affecte: {(res.positive+res.death)/us_pop*100:2f}%\")"
      ],
      "execution_count": 7,
      "outputs": [
        {
          "output_type": "stream",
          "text": [
            "positive     210770\n",
            "negative     939190\n",
            "pending       59687\n",
            "death          4700\n",
            "total       1209647\n",
            "dtype: int64\n",
            "Current Infection Rate 17.424091%\n",
            "Percentage of US affecte: 0.065300%\n"
          ],
          "name": "stdout"
        }
      ]
    },
    {
      "cell_type": "code",
      "metadata": {
        "colab_type": "code",
        "outputId": "e7ac450e-79a2-4a51-ea05-b282cebe358b",
        "id": "idyqfNddlLPv",
        "colab": {
          "base_uri": "https://localhost:8080/",
          "height": 363
        }
      },
      "source": [
        "dfCovidtracking.loc[dfCovidtracking.date==dfCovidtracking.date.max(),\\\n",
        "  ['state', 'positive', 'negative']].sort_values(by='positive', ascending=False).head(10)"
      ],
      "execution_count": 8,
      "outputs": [
        {
          "output_type": "execute_result",
          "data": {
            "text/html": [
              "<div>\n",
              "<style scoped>\n",
              "    .dataframe tbody tr th:only-of-type {\n",
              "        vertical-align: middle;\n",
              "    }\n",
              "\n",
              "    .dataframe tbody tr th {\n",
              "        vertical-align: top;\n",
              "    }\n",
              "\n",
              "    .dataframe thead th {\n",
              "        text-align: right;\n",
              "    }\n",
              "</style>\n",
              "<table border=\"1\" class=\"dataframe\">\n",
              "  <thead>\n",
              "    <tr style=\"text-align: right;\">\n",
              "      <th></th>\n",
              "      <th>state</th>\n",
              "      <th>positive</th>\n",
              "      <th>negative</th>\n",
              "    </tr>\n",
              "  </thead>\n",
              "  <tbody>\n",
              "    <tr>\n",
              "      <th>37</th>\n",
              "      <td>NY</td>\n",
              "      <td>83712</td>\n",
              "      <td>137168</td>\n",
              "    </tr>\n",
              "    <tr>\n",
              "      <th>34</th>\n",
              "      <td>NJ</td>\n",
              "      <td>22255</td>\n",
              "      <td>30387</td>\n",
              "    </tr>\n",
              "    <tr>\n",
              "      <th>24</th>\n",
              "      <td>MI</td>\n",
              "      <td>9334</td>\n",
              "      <td>11893</td>\n",
              "    </tr>\n",
              "    <tr>\n",
              "      <th>5</th>\n",
              "      <td>CA</td>\n",
              "      <td>8155</td>\n",
              "      <td>21772</td>\n",
              "    </tr>\n",
              "    <tr>\n",
              "      <th>21</th>\n",
              "      <td>MA</td>\n",
              "      <td>7738</td>\n",
              "      <td>44000</td>\n",
              "    </tr>\n",
              "    <tr>\n",
              "      <th>16</th>\n",
              "      <td>IL</td>\n",
              "      <td>6980</td>\n",
              "      <td>33404</td>\n",
              "    </tr>\n",
              "    <tr>\n",
              "      <th>10</th>\n",
              "      <td>FL</td>\n",
              "      <td>6955</td>\n",
              "      <td>59529</td>\n",
              "    </tr>\n",
              "    <tr>\n",
              "      <th>20</th>\n",
              "      <td>LA</td>\n",
              "      <td>6424</td>\n",
              "      <td>39352</td>\n",
              "    </tr>\n",
              "    <tr>\n",
              "      <th>41</th>\n",
              "      <td>PA</td>\n",
              "      <td>5805</td>\n",
              "      <td>42427</td>\n",
              "    </tr>\n",
              "    <tr>\n",
              "      <th>52</th>\n",
              "      <td>WA</td>\n",
              "      <td>5634</td>\n",
              "      <td>60566</td>\n",
              "    </tr>\n",
              "  </tbody>\n",
              "</table>\n",
              "</div>"
            ],
            "text/plain": [
              "   state  positive  negative\n",
              "37    NY     83712    137168\n",
              "34    NJ     22255     30387\n",
              "24    MI      9334     11893\n",
              "5     CA      8155     21772\n",
              "21    MA      7738     44000\n",
              "16    IL      6980     33404\n",
              "10    FL      6955     59529\n",
              "20    LA      6424     39352\n",
              "41    PA      5805     42427\n",
              "52    WA      5634     60566"
            ]
          },
          "metadata": {
            "tags": []
          },
          "execution_count": 8
        }
      ]
    },
    {
      "cell_type": "code",
      "metadata": {
        "id": "rFOHyOwb4bcm",
        "colab_type": "code",
        "colab": {}
      },
      "source": [
        "gbUSA = dfCovidtracking.groupby(['date'])\n",
        "gbCA = dfCovidtracking[dfCovidtracking.state=='CA'].groupby(['date'])\n",
        "\n",
        "dfUSAPos = gbUSA.positive.sum().reset_index().copy()\n",
        "dfCAPos = gbCA.positive.sum().reset_index().copy()\n",
        "\n",
        "#This will calculate the percentage each day is of the total. In a flattening, this will be more even\n",
        "# In a high growth situation, you'll higher percentages at the tail. \n",
        "dfUSAPos['PCT']= dfUSAPos.positive/dfUSAPos.max().positive\n",
        "dfCAPos['PCT']=dfCAPos.positive/dfCAPos.max().positive"
      ],
      "execution_count": 0,
      "outputs": []
    },
    {
      "cell_type": "code",
      "metadata": {
        "colab_type": "code",
        "outputId": "f2ef39d6-465b-4445-9258-4470e27db3f7",
        "id": "BHKhtPRozVFF",
        "colab": {
          "base_uri": "https://localhost:8080/",
          "height": 269
        }
      },
      "source": [
        "dfUSAPos[-7:]"
      ],
      "execution_count": 10,
      "outputs": [
        {
          "output_type": "execute_result",
          "data": {
            "text/html": [
              "<div>\n",
              "<style scoped>\n",
              "    .dataframe tbody tr th:only-of-type {\n",
              "        vertical-align: middle;\n",
              "    }\n",
              "\n",
              "    .dataframe tbody tr th {\n",
              "        vertical-align: top;\n",
              "    }\n",
              "\n",
              "    .dataframe thead th {\n",
              "        text-align: right;\n",
              "    }\n",
              "</style>\n",
              "<table border=\"1\" class=\"dataframe\">\n",
              "  <thead>\n",
              "    <tr style=\"text-align: right;\">\n",
              "      <th></th>\n",
              "      <th>date</th>\n",
              "      <th>positive</th>\n",
              "      <th>PCT</th>\n",
              "    </tr>\n",
              "  </thead>\n",
              "  <tbody>\n",
              "    <tr>\n",
              "      <th>22</th>\n",
              "      <td>20200326</td>\n",
              "      <td>80735</td>\n",
              "      <td>0.383048</td>\n",
              "    </tr>\n",
              "    <tr>\n",
              "      <th>23</th>\n",
              "      <td>20200327</td>\n",
              "      <td>99413</td>\n",
              "      <td>0.471666</td>\n",
              "    </tr>\n",
              "    <tr>\n",
              "      <th>24</th>\n",
              "      <td>20200328</td>\n",
              "      <td>118234</td>\n",
              "      <td>0.560962</td>\n",
              "    </tr>\n",
              "    <tr>\n",
              "      <th>25</th>\n",
              "      <td>20200329</td>\n",
              "      <td>139061</td>\n",
              "      <td>0.659776</td>\n",
              "    </tr>\n",
              "    <tr>\n",
              "      <th>26</th>\n",
              "      <td>20200330</td>\n",
              "      <td>160530</td>\n",
              "      <td>0.761636</td>\n",
              "    </tr>\n",
              "    <tr>\n",
              "      <th>27</th>\n",
              "      <td>20200331</td>\n",
              "      <td>184770</td>\n",
              "      <td>0.876643</td>\n",
              "    </tr>\n",
              "    <tr>\n",
              "      <th>28</th>\n",
              "      <td>20200401</td>\n",
              "      <td>210770</td>\n",
              "      <td>1.000000</td>\n",
              "    </tr>\n",
              "  </tbody>\n",
              "</table>\n",
              "</div>"
            ],
            "text/plain": [
              "        date  positive       PCT\n",
              "22  20200326     80735  0.383048\n",
              "23  20200327     99413  0.471666\n",
              "24  20200328    118234  0.560962\n",
              "25  20200329    139061  0.659776\n",
              "26  20200330    160530  0.761636\n",
              "27  20200331    184770  0.876643\n",
              "28  20200401    210770  1.000000"
            ]
          },
          "metadata": {
            "tags": []
          },
          "execution_count": 10
        }
      ]
    },
    {
      "cell_type": "code",
      "metadata": {
        "colab_type": "code",
        "outputId": "43a9487b-8661-4ce2-8160-d659fac1a2cf",
        "id": "EI4hKgZ5zUd8",
        "colab": {
          "base_uri": "https://localhost:8080/",
          "height": 269
        }
      },
      "source": [
        "dfCAPos[-7:]"
      ],
      "execution_count": 11,
      "outputs": [
        {
          "output_type": "execute_result",
          "data": {
            "text/html": [
              "<div>\n",
              "<style scoped>\n",
              "    .dataframe tbody tr th:only-of-type {\n",
              "        vertical-align: middle;\n",
              "    }\n",
              "\n",
              "    .dataframe tbody tr th {\n",
              "        vertical-align: top;\n",
              "    }\n",
              "\n",
              "    .dataframe thead th {\n",
              "        text-align: right;\n",
              "    }\n",
              "</style>\n",
              "<table border=\"1\" class=\"dataframe\">\n",
              "  <thead>\n",
              "    <tr style=\"text-align: right;\">\n",
              "      <th></th>\n",
              "      <th>date</th>\n",
              "      <th>positive</th>\n",
              "      <th>PCT</th>\n",
              "    </tr>\n",
              "  </thead>\n",
              "  <tbody>\n",
              "    <tr>\n",
              "      <th>22</th>\n",
              "      <td>20200326</td>\n",
              "      <td>3006</td>\n",
              "      <td>0.368608</td>\n",
              "    </tr>\n",
              "    <tr>\n",
              "      <th>23</th>\n",
              "      <td>20200327</td>\n",
              "      <td>3879</td>\n",
              "      <td>0.475659</td>\n",
              "    </tr>\n",
              "    <tr>\n",
              "      <th>24</th>\n",
              "      <td>20200328</td>\n",
              "      <td>4643</td>\n",
              "      <td>0.569344</td>\n",
              "    </tr>\n",
              "    <tr>\n",
              "      <th>25</th>\n",
              "      <td>20200329</td>\n",
              "      <td>5708</td>\n",
              "      <td>0.699939</td>\n",
              "    </tr>\n",
              "    <tr>\n",
              "      <th>26</th>\n",
              "      <td>20200330</td>\n",
              "      <td>6447</td>\n",
              "      <td>0.790558</td>\n",
              "    </tr>\n",
              "    <tr>\n",
              "      <th>27</th>\n",
              "      <td>20200331</td>\n",
              "      <td>7482</td>\n",
              "      <td>0.917474</td>\n",
              "    </tr>\n",
              "    <tr>\n",
              "      <th>28</th>\n",
              "      <td>20200401</td>\n",
              "      <td>8155</td>\n",
              "      <td>1.000000</td>\n",
              "    </tr>\n",
              "  </tbody>\n",
              "</table>\n",
              "</div>"
            ],
            "text/plain": [
              "        date  positive       PCT\n",
              "22  20200326      3006  0.368608\n",
              "23  20200327      3879  0.475659\n",
              "24  20200328      4643  0.569344\n",
              "25  20200329      5708  0.699939\n",
              "26  20200330      6447  0.790558\n",
              "27  20200331      7482  0.917474\n",
              "28  20200401      8155  1.000000"
            ]
          },
          "metadata": {
            "tags": []
          },
          "execution_count": 11
        }
      ]
    },
    {
      "cell_type": "code",
      "metadata": {
        "id": "BTvuZKJN0RoI",
        "colab_type": "code",
        "outputId": "1269a458-8e00-49ef-adff-7b4da85eb068",
        "colab": {
          "base_uri": "https://localhost:8080/",
          "height": 258
        }
      },
      "source": [
        "gbUSA.sum()[-5:]"
      ],
      "execution_count": 12,
      "outputs": [
        {
          "output_type": "execute_result",
          "data": {
            "text/html": [
              "<div>\n",
              "<style scoped>\n",
              "    .dataframe tbody tr th:only-of-type {\n",
              "        vertical-align: middle;\n",
              "    }\n",
              "\n",
              "    .dataframe tbody tr th {\n",
              "        vertical-align: top;\n",
              "    }\n",
              "\n",
              "    .dataframe thead th {\n",
              "        text-align: right;\n",
              "    }\n",
              "</style>\n",
              "<table border=\"1\" class=\"dataframe\">\n",
              "  <thead>\n",
              "    <tr style=\"text-align: right;\">\n",
              "      <th></th>\n",
              "      <th>positive</th>\n",
              "      <th>negative</th>\n",
              "      <th>pending</th>\n",
              "      <th>hospitalized</th>\n",
              "      <th>death</th>\n",
              "      <th>total</th>\n",
              "      <th>totalTestResults</th>\n",
              "      <th>deathIncrease</th>\n",
              "      <th>hospitalizedIncrease</th>\n",
              "      <th>negativeIncrease</th>\n",
              "      <th>positiveIncrease</th>\n",
              "      <th>totalTestResultsIncrease</th>\n",
              "    </tr>\n",
              "    <tr>\n",
              "      <th>date</th>\n",
              "      <th></th>\n",
              "      <th></th>\n",
              "      <th></th>\n",
              "      <th></th>\n",
              "      <th></th>\n",
              "      <th></th>\n",
              "      <th></th>\n",
              "      <th></th>\n",
              "      <th></th>\n",
              "      <th></th>\n",
              "      <th></th>\n",
              "      <th></th>\n",
              "    </tr>\n",
              "  </thead>\n",
              "  <tbody>\n",
              "    <tr>\n",
              "      <th>20200328</th>\n",
              "      <td>118234</td>\n",
              "      <td>617470</td>\n",
              "      <td>65712</td>\n",
              "      <td>16729.0</td>\n",
              "      <td>1965</td>\n",
              "      <td>801416</td>\n",
              "      <td>735704</td>\n",
              "      <td>435.0</td>\n",
              "      <td>3012.0</td>\n",
              "      <td>90250.0</td>\n",
              "      <td>18821.0</td>\n",
              "      <td>109071.0</td>\n",
              "    </tr>\n",
              "    <tr>\n",
              "      <th>20200329</th>\n",
              "      <td>139061</td>\n",
              "      <td>692290</td>\n",
              "      <td>65549</td>\n",
              "      <td>19730.0</td>\n",
              "      <td>2428</td>\n",
              "      <td>896900</td>\n",
              "      <td>831351</td>\n",
              "      <td>463.0</td>\n",
              "      <td>3001.0</td>\n",
              "      <td>74820.0</td>\n",
              "      <td>20827.0</td>\n",
              "      <td>95647.0</td>\n",
              "    </tr>\n",
              "    <tr>\n",
              "      <th>20200330</th>\n",
              "      <td>160530</td>\n",
              "      <td>784324</td>\n",
              "      <td>65382</td>\n",
              "      <td>22303.0</td>\n",
              "      <td>2939</td>\n",
              "      <td>1010236</td>\n",
              "      <td>944854</td>\n",
              "      <td>511.0</td>\n",
              "      <td>2573.0</td>\n",
              "      <td>92034.0</td>\n",
              "      <td>21469.0</td>\n",
              "      <td>113503.0</td>\n",
              "    </tr>\n",
              "    <tr>\n",
              "      <th>20200331</th>\n",
              "      <td>184770</td>\n",
              "      <td>864201</td>\n",
              "      <td>59529</td>\n",
              "      <td>26660.0</td>\n",
              "      <td>3746</td>\n",
              "      <td>1108500</td>\n",
              "      <td>1048971</td>\n",
              "      <td>807.0</td>\n",
              "      <td>4357.0</td>\n",
              "      <td>79877.0</td>\n",
              "      <td>24240.0</td>\n",
              "      <td>104117.0</td>\n",
              "    </tr>\n",
              "    <tr>\n",
              "      <th>20200401</th>\n",
              "      <td>210770</td>\n",
              "      <td>939190</td>\n",
              "      <td>59687</td>\n",
              "      <td>31142.0</td>\n",
              "      <td>4700</td>\n",
              "      <td>1209647</td>\n",
              "      <td>1149960</td>\n",
              "      <td>954.0</td>\n",
              "      <td>4482.0</td>\n",
              "      <td>74989.0</td>\n",
              "      <td>26000.0</td>\n",
              "      <td>100989.0</td>\n",
              "    </tr>\n",
              "  </tbody>\n",
              "</table>\n",
              "</div>"
            ],
            "text/plain": [
              "          positive  negative  ...  positiveIncrease  totalTestResultsIncrease\n",
              "date                          ...                                            \n",
              "20200328    118234    617470  ...           18821.0                  109071.0\n",
              "20200329    139061    692290  ...           20827.0                   95647.0\n",
              "20200330    160530    784324  ...           21469.0                  113503.0\n",
              "20200331    184770    864201  ...           24240.0                  104117.0\n",
              "20200401    210770    939190  ...           26000.0                  100989.0\n",
              "\n",
              "[5 rows x 12 columns]"
            ]
          },
          "metadata": {
            "tags": []
          },
          "execution_count": 12
        }
      ]
    },
    {
      "cell_type": "code",
      "metadata": {
        "id": "bjpo-qlGoA7A",
        "colab_type": "code",
        "outputId": "505c9f2d-529b-4593-a645-23130598e915",
        "colab": {
          "base_uri": "https://localhost:8080/",
          "height": 258
        }
      },
      "source": [
        "gbCA.sum()[-5:]"
      ],
      "execution_count": 13,
      "outputs": [
        {
          "output_type": "execute_result",
          "data": {
            "text/html": [
              "<div>\n",
              "<style scoped>\n",
              "    .dataframe tbody tr th:only-of-type {\n",
              "        vertical-align: middle;\n",
              "    }\n",
              "\n",
              "    .dataframe tbody tr th {\n",
              "        vertical-align: top;\n",
              "    }\n",
              "\n",
              "    .dataframe thead th {\n",
              "        text-align: right;\n",
              "    }\n",
              "</style>\n",
              "<table border=\"1\" class=\"dataframe\">\n",
              "  <thead>\n",
              "    <tr style=\"text-align: right;\">\n",
              "      <th></th>\n",
              "      <th>positive</th>\n",
              "      <th>negative</th>\n",
              "      <th>pending</th>\n",
              "      <th>hospitalized</th>\n",
              "      <th>death</th>\n",
              "      <th>total</th>\n",
              "      <th>totalTestResults</th>\n",
              "      <th>deathIncrease</th>\n",
              "      <th>hospitalizedIncrease</th>\n",
              "      <th>negativeIncrease</th>\n",
              "      <th>positiveIncrease</th>\n",
              "      <th>totalTestResultsIncrease</th>\n",
              "    </tr>\n",
              "    <tr>\n",
              "      <th>date</th>\n",
              "      <th></th>\n",
              "      <th></th>\n",
              "      <th></th>\n",
              "      <th></th>\n",
              "      <th></th>\n",
              "      <th></th>\n",
              "      <th></th>\n",
              "      <th></th>\n",
              "      <th></th>\n",
              "      <th></th>\n",
              "      <th></th>\n",
              "      <th></th>\n",
              "    </tr>\n",
              "  </thead>\n",
              "  <tbody>\n",
              "    <tr>\n",
              "      <th>20200328</th>\n",
              "      <td>4643</td>\n",
              "      <td>20549</td>\n",
              "      <td>64400</td>\n",
              "      <td>1034.0</td>\n",
              "      <td>101</td>\n",
              "      <td>89592</td>\n",
              "      <td>25192</td>\n",
              "      <td>23.0</td>\n",
              "      <td>288.0</td>\n",
              "      <td>3169.0</td>\n",
              "      <td>764.0</td>\n",
              "      <td>3933.0</td>\n",
              "    </tr>\n",
              "    <tr>\n",
              "      <th>20200329</th>\n",
              "      <td>5708</td>\n",
              "      <td>20549</td>\n",
              "      <td>64400</td>\n",
              "      <td>1034.0</td>\n",
              "      <td>123</td>\n",
              "      <td>90657</td>\n",
              "      <td>26257</td>\n",
              "      <td>22.0</td>\n",
              "      <td>0.0</td>\n",
              "      <td>0.0</td>\n",
              "      <td>1065.0</td>\n",
              "      <td>1065.0</td>\n",
              "    </tr>\n",
              "    <tr>\n",
              "      <th>20200330</th>\n",
              "      <td>6447</td>\n",
              "      <td>20549</td>\n",
              "      <td>64400</td>\n",
              "      <td>1432.0</td>\n",
              "      <td>133</td>\n",
              "      <td>91396</td>\n",
              "      <td>26996</td>\n",
              "      <td>10.0</td>\n",
              "      <td>398.0</td>\n",
              "      <td>0.0</td>\n",
              "      <td>739.0</td>\n",
              "      <td>739.0</td>\n",
              "    </tr>\n",
              "    <tr>\n",
              "      <th>20200331</th>\n",
              "      <td>7482</td>\n",
              "      <td>21772</td>\n",
              "      <td>57400</td>\n",
              "      <td>1617.0</td>\n",
              "      <td>153</td>\n",
              "      <td>86654</td>\n",
              "      <td>29254</td>\n",
              "      <td>20.0</td>\n",
              "      <td>185.0</td>\n",
              "      <td>1223.0</td>\n",
              "      <td>1035.0</td>\n",
              "      <td>2258.0</td>\n",
              "    </tr>\n",
              "    <tr>\n",
              "      <th>20200401</th>\n",
              "      <td>8155</td>\n",
              "      <td>21772</td>\n",
              "      <td>57400</td>\n",
              "      <td>1855.0</td>\n",
              "      <td>171</td>\n",
              "      <td>87327</td>\n",
              "      <td>29927</td>\n",
              "      <td>18.0</td>\n",
              "      <td>238.0</td>\n",
              "      <td>0.0</td>\n",
              "      <td>673.0</td>\n",
              "      <td>673.0</td>\n",
              "    </tr>\n",
              "  </tbody>\n",
              "</table>\n",
              "</div>"
            ],
            "text/plain": [
              "          positive  negative  ...  positiveIncrease  totalTestResultsIncrease\n",
              "date                          ...                                            \n",
              "20200328      4643     20549  ...             764.0                    3933.0\n",
              "20200329      5708     20549  ...            1065.0                    1065.0\n",
              "20200330      6447     20549  ...             739.0                     739.0\n",
              "20200331      7482     21772  ...            1035.0                    2258.0\n",
              "20200401      8155     21772  ...             673.0                     673.0\n",
              "\n",
              "[5 rows x 12 columns]"
            ]
          },
          "metadata": {
            "tags": []
          },
          "execution_count": 13
        }
      ]
    },
    {
      "cell_type": "code",
      "metadata": {
        "id": "916a0sCVdNRQ",
        "colab_type": "code",
        "outputId": "a6042f24-4ab4-4bdc-d6ac-4ba5b3eeebe0",
        "colab": {
          "base_uri": "https://localhost:8080/",
          "height": 290
        }
      },
      "source": [
        "x=gbUSA.sum().loc[:, ['positive', 'negative','death','total']].plot.line()"
      ],
      "execution_count": 14,
      "outputs": [
        {
          "output_type": "display_data",
          "data": {
            "image/png": "[encoded data removed]",
            "text/plain": [
              "<Figure size 432x288 with 1 Axes>"
            ]
          },
          "metadata": {
            "tags": []
          }
        }
      ]
    },
    {
      "cell_type": "code",
      "metadata": {
        "id": "WewkySHXaLc4",
        "colab_type": "code",
        "outputId": "7ad72bfc-8079-43df-bb2d-6b36ea65f492",
        "colab": {
          "base_uri": "https://localhost:8080/",
          "height": 520
        }
      },
      "source": [
        "dfWHO[-14:]"
      ],
      "execution_count": 15,
      "outputs": [
        {
          "output_type": "execute_result",
          "data": {
            "text/html": [
              "<div>\n",
              "<style scoped>\n",
              "    .dataframe tbody tr th:only-of-type {\n",
              "        vertical-align: middle;\n",
              "    }\n",
              "\n",
              "    .dataframe tbody tr th {\n",
              "        vertical-align: top;\n",
              "    }\n",
              "\n",
              "    .dataframe thead th {\n",
              "        text-align: right;\n",
              "    }\n",
              "</style>\n",
              "<table border=\"1\" class=\"dataframe\">\n",
              "  <thead>\n",
              "    <tr style=\"text-align: right;\">\n",
              "      <th></th>\n",
              "      <th>confirmed</th>\n",
              "      <th>who_deaths</th>\n",
              "    </tr>\n",
              "    <tr>\n",
              "      <th>date</th>\n",
              "      <th></th>\n",
              "      <th></th>\n",
              "    </tr>\n",
              "  </thead>\n",
              "  <tbody>\n",
              "    <tr>\n",
              "      <th>20200319</th>\n",
              "      <td>7087</td>\n",
              "      <td>100</td>\n",
              "    </tr>\n",
              "    <tr>\n",
              "      <th>20200320</th>\n",
              "      <td>10442</td>\n",
              "      <td>150</td>\n",
              "    </tr>\n",
              "    <tr>\n",
              "      <th>20200321</th>\n",
              "      <td>15219</td>\n",
              "      <td>201</td>\n",
              "    </tr>\n",
              "    <tr>\n",
              "      <th>20200322</th>\n",
              "      <td>15219</td>\n",
              "      <td>201</td>\n",
              "    </tr>\n",
              "    <tr>\n",
              "      <th>20200323</th>\n",
              "      <td>31573</td>\n",
              "      <td>402</td>\n",
              "    </tr>\n",
              "    <tr>\n",
              "      <th>20200324</th>\n",
              "      <td>42164</td>\n",
              "      <td>471</td>\n",
              "    </tr>\n",
              "    <tr>\n",
              "      <th>20200325</th>\n",
              "      <td>51914</td>\n",
              "      <td>673</td>\n",
              "    </tr>\n",
              "    <tr>\n",
              "      <th>20200326</th>\n",
              "      <td>63570</td>\n",
              "      <td>884</td>\n",
              "    </tr>\n",
              "    <tr>\n",
              "      <th>20200327</th>\n",
              "      <td>68334</td>\n",
              "      <td>991</td>\n",
              "    </tr>\n",
              "    <tr>\n",
              "      <th>20200328</th>\n",
              "      <td>85228</td>\n",
              "      <td>1243</td>\n",
              "    </tr>\n",
              "    <tr>\n",
              "      <th>20200329</th>\n",
              "      <td>103321</td>\n",
              "      <td>1668</td>\n",
              "    </tr>\n",
              "    <tr>\n",
              "      <th>20200330</th>\n",
              "      <td>122653</td>\n",
              "      <td>2112</td>\n",
              "    </tr>\n",
              "    <tr>\n",
              "      <th>20200331</th>\n",
              "      <td>140640</td>\n",
              "      <td>2398</td>\n",
              "    </tr>\n",
              "    <tr>\n",
              "      <th>20200401</th>\n",
              "      <td>163199</td>\n",
              "      <td>2850</td>\n",
              "    </tr>\n",
              "  </tbody>\n",
              "</table>\n",
              "</div>"
            ],
            "text/plain": [
              "          confirmed  who_deaths\n",
              "date                           \n",
              "20200319       7087         100\n",
              "20200320      10442         150\n",
              "20200321      15219         201\n",
              "20200322      15219         201\n",
              "20200323      31573         402\n",
              "20200324      42164         471\n",
              "20200325      51914         673\n",
              "20200326      63570         884\n",
              "20200327      68334         991\n",
              "20200328      85228        1243\n",
              "20200329     103321        1668\n",
              "20200330     122653        2112\n",
              "20200331     140640        2398\n",
              "20200401     163199        2850"
            ]
          },
          "metadata": {
            "tags": []
          },
          "execution_count": 15
        }
      ]
    },
    {
      "cell_type": "code",
      "metadata": {
        "id": "Ftv2uSph2y7_",
        "colab_type": "code",
        "outputId": "91be62ce-db1f-4614-bd22-41bfa712e7a4",
        "colab": {
          "base_uri": "https://localhost:8080/",
          "height": 296
        }
      },
      "source": [
        "dfResults = gbUSA.sum().join(dfWHO, how='left', rsuffix='_who' )\n",
        "dfResults.loc[:, ['positive', 'confirmed']].plot.line()"
      ],
      "execution_count": 16,
      "outputs": [
        {
          "output_type": "execute_result",
          "data": {
            "text/plain": [
              "<matplotlib.axes._subplots.AxesSubplot at 0x7f82e8597898>"
            ]
          },
          "metadata": {
            "tags": []
          },
          "execution_count": 16
        },
        {
          "output_type": "display_data",
          "data": {
            "image/png": "[encoded data removed]",
            "text/plain": [
              "<Figure size 432x288 with 1 Axes>"
            ]
          },
          "metadata": {
            "tags": []
          }
        }
      ]
    },
    {
      "cell_type": "code",
      "metadata": {
        "id": "DTXXmezEHYPV",
        "colab_type": "code",
        "colab": {}
      },
      "source": [
        ""
      ],
      "execution_count": 0,
      "outputs": []
    },
    {
      "cell_type": "code",
      "metadata": {
        "colab_type": "code",
        "outputId": "9092469e-bafa-46c7-e6eb-e312a0b4e261",
        "id": "55lq16z8w_Ec",
        "colab": {
          "base_uri": "https://localhost:8080/",
          "height": 320
        }
      },
      "source": [
        "gbCA.sum()[-7:]"
      ],
      "execution_count": 17,
      "outputs": [
        {
          "output_type": "execute_result",
          "data": {
            "text/html": [
              "<div>\n",
              "<style scoped>\n",
              "    .dataframe tbody tr th:only-of-type {\n",
              "        vertical-align: middle;\n",
              "    }\n",
              "\n",
              "    .dataframe tbody tr th {\n",
              "        vertical-align: top;\n",
              "    }\n",
              "\n",
              "    .dataframe thead th {\n",
              "        text-align: right;\n",
              "    }\n",
              "</style>\n",
              "<table border=\"1\" class=\"dataframe\">\n",
              "  <thead>\n",
              "    <tr style=\"text-align: right;\">\n",
              "      <th></th>\n",
              "      <th>positive</th>\n",
              "      <th>negative</th>\n",
              "      <th>pending</th>\n",
              "      <th>hospitalized</th>\n",
              "      <th>death</th>\n",
              "      <th>total</th>\n",
              "      <th>totalTestResults</th>\n",
              "      <th>deathIncrease</th>\n",
              "      <th>hospitalizedIncrease</th>\n",
              "      <th>negativeIncrease</th>\n",
              "      <th>positiveIncrease</th>\n",
              "      <th>totalTestResultsIncrease</th>\n",
              "    </tr>\n",
              "    <tr>\n",
              "      <th>date</th>\n",
              "      <th></th>\n",
              "      <th></th>\n",
              "      <th></th>\n",
              "      <th></th>\n",
              "      <th></th>\n",
              "      <th></th>\n",
              "      <th></th>\n",
              "      <th></th>\n",
              "      <th></th>\n",
              "      <th></th>\n",
              "      <th></th>\n",
              "      <th></th>\n",
              "    </tr>\n",
              "  </thead>\n",
              "  <tbody>\n",
              "    <tr>\n",
              "      <th>20200326</th>\n",
              "      <td>3006</td>\n",
              "      <td>17380</td>\n",
              "      <td>57400</td>\n",
              "      <td>0.0</td>\n",
              "      <td>65</td>\n",
              "      <td>77786</td>\n",
              "      <td>20386</td>\n",
              "      <td>12.0</td>\n",
              "      <td>0.0</td>\n",
              "      <td>1459.0</td>\n",
              "      <td>651.0</td>\n",
              "      <td>2110.0</td>\n",
              "    </tr>\n",
              "    <tr>\n",
              "      <th>20200327</th>\n",
              "      <td>3879</td>\n",
              "      <td>17380</td>\n",
              "      <td>57400</td>\n",
              "      <td>746.0</td>\n",
              "      <td>78</td>\n",
              "      <td>78659</td>\n",
              "      <td>21259</td>\n",
              "      <td>13.0</td>\n",
              "      <td>746.0</td>\n",
              "      <td>0.0</td>\n",
              "      <td>873.0</td>\n",
              "      <td>873.0</td>\n",
              "    </tr>\n",
              "    <tr>\n",
              "      <th>20200328</th>\n",
              "      <td>4643</td>\n",
              "      <td>20549</td>\n",
              "      <td>64400</td>\n",
              "      <td>1034.0</td>\n",
              "      <td>101</td>\n",
              "      <td>89592</td>\n",
              "      <td>25192</td>\n",
              "      <td>23.0</td>\n",
              "      <td>288.0</td>\n",
              "      <td>3169.0</td>\n",
              "      <td>764.0</td>\n",
              "      <td>3933.0</td>\n",
              "    </tr>\n",
              "    <tr>\n",
              "      <th>20200329</th>\n",
              "      <td>5708</td>\n",
              "      <td>20549</td>\n",
              "      <td>64400</td>\n",
              "      <td>1034.0</td>\n",
              "      <td>123</td>\n",
              "      <td>90657</td>\n",
              "      <td>26257</td>\n",
              "      <td>22.0</td>\n",
              "      <td>0.0</td>\n",
              "      <td>0.0</td>\n",
              "      <td>1065.0</td>\n",
              "      <td>1065.0</td>\n",
              "    </tr>\n",
              "    <tr>\n",
              "      <th>20200330</th>\n",
              "      <td>6447</td>\n",
              "      <td>20549</td>\n",
              "      <td>64400</td>\n",
              "      <td>1432.0</td>\n",
              "      <td>133</td>\n",
              "      <td>91396</td>\n",
              "      <td>26996</td>\n",
              "      <td>10.0</td>\n",
              "      <td>398.0</td>\n",
              "      <td>0.0</td>\n",
              "      <td>739.0</td>\n",
              "      <td>739.0</td>\n",
              "    </tr>\n",
              "    <tr>\n",
              "      <th>20200331</th>\n",
              "      <td>7482</td>\n",
              "      <td>21772</td>\n",
              "      <td>57400</td>\n",
              "      <td>1617.0</td>\n",
              "      <td>153</td>\n",
              "      <td>86654</td>\n",
              "      <td>29254</td>\n",
              "      <td>20.0</td>\n",
              "      <td>185.0</td>\n",
              "      <td>1223.0</td>\n",
              "      <td>1035.0</td>\n",
              "      <td>2258.0</td>\n",
              "    </tr>\n",
              "    <tr>\n",
              "      <th>20200401</th>\n",
              "      <td>8155</td>\n",
              "      <td>21772</td>\n",
              "      <td>57400</td>\n",
              "      <td>1855.0</td>\n",
              "      <td>171</td>\n",
              "      <td>87327</td>\n",
              "      <td>29927</td>\n",
              "      <td>18.0</td>\n",
              "      <td>238.0</td>\n",
              "      <td>0.0</td>\n",
              "      <td>673.0</td>\n",
              "      <td>673.0</td>\n",
              "    </tr>\n",
              "  </tbody>\n",
              "</table>\n",
              "</div>"
            ],
            "text/plain": [
              "          positive  negative  ...  positiveIncrease  totalTestResultsIncrease\n",
              "date                          ...                                            \n",
              "20200326      3006     17380  ...             651.0                    2110.0\n",
              "20200327      3879     17380  ...             873.0                     873.0\n",
              "20200328      4643     20549  ...             764.0                    3933.0\n",
              "20200329      5708     20549  ...            1065.0                    1065.0\n",
              "20200330      6447     20549  ...             739.0                     739.0\n",
              "20200331      7482     21772  ...            1035.0                    2258.0\n",
              "20200401      8155     21772  ...             673.0                     673.0\n",
              "\n",
              "[7 rows x 12 columns]"
            ]
          },
          "metadata": {
            "tags": []
          },
          "execution_count": 17
        }
      ]
    },
    {
      "cell_type": "code",
      "metadata": {
        "id": "3WBkdfv2eLEc",
        "colab_type": "code",
        "outputId": "7793f3b0-45ed-4a56-c391-de9859ddd7a5",
        "colab": {
          "base_uri": "https://localhost:8080/",
          "height": 69
        }
      },
      "source": [
        "dfJHUData[dfJHUData.country=='US'][['confirmed', 'dead']].sum()"
      ],
      "execution_count": 18,
      "outputs": [
        {
          "output_type": "execute_result",
          "data": {
            "text/plain": [
              "confirmed    188172\n",
              "dead           3873\n",
              "dtype: int64"
            ]
          },
          "metadata": {
            "tags": []
          },
          "execution_count": 18
        }
      ]
    },
    {
      "cell_type": "code",
      "metadata": {
        "id": "NUQ35Inse05H",
        "colab_type": "code",
        "outputId": "3d11bc7d-439e-4926-c1b5-1ff4f92025ab",
        "colab": {
          "base_uri": "https://localhost:8080/",
          "height": 69
        }
      },
      "source": [
        "dfJHUData[(dfJHUData.country=='US')&(dfJHUData.state=='California')][['confirmed', 'dead']].sum()"
      ],
      "execution_count": 19,
      "outputs": [
        {
          "output_type": "execute_result",
          "data": {
            "text/plain": [
              "confirmed    8210\n",
              "dead          173\n",
              "dtype: int64"
            ]
          },
          "metadata": {
            "tags": []
          },
          "execution_count": 19
        }
      ]
    },
    {
      "cell_type": "code",
      "metadata": {
        "id": "H0JVVTFGfMOW",
        "colab_type": "code",
        "colab": {}
      },
      "source": [
        "dfJHUUS = dfJHUData[dfJHUData.country=='US']\n",
        "gbJHUByState= dfJHUUS.groupby(by='state')\n",
        "gbJHUByCountry = dfJHUData.groupby(by='country')"
      ],
      "execution_count": 0,
      "outputs": []
    },
    {
      "cell_type": "code",
      "metadata": {
        "id": "W8qWd0AYmg58",
        "colab_type": "code",
        "outputId": "0180dfb4-015f-4699-d023-80db2c83c592",
        "colab": {
          "base_uri": "https://localhost:8080/",
          "height": 225
        }
      },
      "source": [
        "gbJHUByCountry.confirmed.sum().sort_values(ascending=False).head(10)"
      ],
      "execution_count": 21,
      "outputs": [
        {
          "output_type": "execute_result",
          "data": {
            "text/plain": [
              "country\n",
              "US                188172\n",
              "Italy             105792\n",
              "Spain              95923\n",
              "China              82279\n",
              "Germany            71808\n",
              "France             52827\n",
              "Iran               44605\n",
              "United Kingdom     25481\n",
              "Switzerland        16605\n",
              "Turkey             13531\n",
              "Name: confirmed, dtype: int64"
            ]
          },
          "metadata": {
            "tags": []
          },
          "execution_count": 21
        }
      ]
    },
    {
      "cell_type": "code",
      "metadata": {
        "id": "YYKFYQpImnHI",
        "colab_type": "code",
        "outputId": "e910d7f7-5424-4f24-fff7-af7423ee9f1f",
        "colab": {
          "base_uri": "https://localhost:8080/",
          "height": 399
        }
      },
      "source": [
        "gbJHUByCountry.confirmed.sum().sort_values(ascending=False).head(20)"
      ],
      "execution_count": 22,
      "outputs": [
        {
          "output_type": "execute_result",
          "data": {
            "text/plain": [
              "country\n",
              "US                188172\n",
              "Italy             105792\n",
              "Spain              95923\n",
              "China              82279\n",
              "Germany            71808\n",
              "France             52827\n",
              "Iran               44605\n",
              "United Kingdom     25481\n",
              "Switzerland        16605\n",
              "Turkey             13531\n",
              "Belgium            12775\n",
              "Netherlands        12667\n",
              "Austria            10180\n",
              "Korea, South        9786\n",
              "Canada              8527\n",
              "Portugal            7443\n",
              "Brazil              5717\n",
              "Israel              5358\n",
              "Norway              4641\n",
              "Australia           4559\n",
              "Name: confirmed, dtype: int64"
            ]
          },
          "metadata": {
            "tags": []
          },
          "execution_count": 22
        }
      ]
    },
    {
      "cell_type": "code",
      "metadata": {
        "id": "9crIlvPH4oSU",
        "colab_type": "code",
        "colab": {}
      },
      "source": [
        "dfData = dfCovidtracking.groupby('date')"
      ],
      "execution_count": 0,
      "outputs": []
    },
    {
      "cell_type": "code",
      "metadata": {
        "id": "SjlCtiOt2b__",
        "colab_type": "code",
        "colab": {}
      },
      "source": [
        "dfStateTotal = dfCovidtracking[['state', 'positive']].groupby(by='state').max() \\\n",
        ".rename(columns={'positive':'current_total'})\n"
      ],
      "execution_count": 0,
      "outputs": []
    },
    {
      "cell_type": "code",
      "metadata": {
        "id": "iPsfvvHC2_j1",
        "colab_type": "code",
        "colab": {}
      },
      "source": [
        "dfState = dfCovidtracking[['date','state','positive']].set_index('state') \\\n",
        "  .join(dfStateTotal)"
      ],
      "execution_count": 0,
      "outputs": []
    },
    {
      "cell_type": "code",
      "metadata": {
        "id": "AkxH55Mx5yE6",
        "colab_type": "code",
        "colab": {}
      },
      "source": [
        "dfState['pct']=dfState.positive/dfState.current_total"
      ],
      "execution_count": 0,
      "outputs": []
    },
    {
      "cell_type": "code",
      "metadata": {
        "id": "PKQ2rgz76XZR",
        "colab_type": "code",
        "outputId": "d806b857-fd1e-4253-9a33-baba0e8f8da0",
        "colab": {
          "base_uri": "https://localhost:8080/",
          "height": 300
        }
      },
      "source": [
        "dfState.loc['FL'].head(7)"
      ],
      "execution_count": 27,
      "outputs": [
        {
          "output_type": "execute_result",
          "data": {
            "text/html": [
              "<div>\n",
              "<style scoped>\n",
              "    .dataframe tbody tr th:only-of-type {\n",
              "        vertical-align: middle;\n",
              "    }\n",
              "\n",
              "    .dataframe tbody tr th {\n",
              "        vertical-align: top;\n",
              "    }\n",
              "\n",
              "    .dataframe thead th {\n",
              "        text-align: right;\n",
              "    }\n",
              "</style>\n",
              "<table border=\"1\" class=\"dataframe\">\n",
              "  <thead>\n",
              "    <tr style=\"text-align: right;\">\n",
              "      <th></th>\n",
              "      <th>date</th>\n",
              "      <th>positive</th>\n",
              "      <th>current_total</th>\n",
              "      <th>pct</th>\n",
              "    </tr>\n",
              "    <tr>\n",
              "      <th>state</th>\n",
              "      <th></th>\n",
              "      <th></th>\n",
              "      <th></th>\n",
              "      <th></th>\n",
              "    </tr>\n",
              "  </thead>\n",
              "  <tbody>\n",
              "    <tr>\n",
              "      <th>FL</th>\n",
              "      <td>20200401</td>\n",
              "      <td>6955</td>\n",
              "      <td>6955</td>\n",
              "      <td>1.000000</td>\n",
              "    </tr>\n",
              "    <tr>\n",
              "      <th>FL</th>\n",
              "      <td>20200331</td>\n",
              "      <td>6338</td>\n",
              "      <td>6955</td>\n",
              "      <td>0.911287</td>\n",
              "    </tr>\n",
              "    <tr>\n",
              "      <th>FL</th>\n",
              "      <td>20200330</td>\n",
              "      <td>5473</td>\n",
              "      <td>6955</td>\n",
              "      <td>0.786916</td>\n",
              "    </tr>\n",
              "    <tr>\n",
              "      <th>FL</th>\n",
              "      <td>20200329</td>\n",
              "      <td>4246</td>\n",
              "      <td>6955</td>\n",
              "      <td>0.610496</td>\n",
              "    </tr>\n",
              "    <tr>\n",
              "      <th>FL</th>\n",
              "      <td>20200328</td>\n",
              "      <td>3763</td>\n",
              "      <td>6955</td>\n",
              "      <td>0.541050</td>\n",
              "    </tr>\n",
              "    <tr>\n",
              "      <th>FL</th>\n",
              "      <td>20200327</td>\n",
              "      <td>2765</td>\n",
              "      <td>6955</td>\n",
              "      <td>0.397556</td>\n",
              "    </tr>\n",
              "    <tr>\n",
              "      <th>FL</th>\n",
              "      <td>20200326</td>\n",
              "      <td>2355</td>\n",
              "      <td>6955</td>\n",
              "      <td>0.338605</td>\n",
              "    </tr>\n",
              "  </tbody>\n",
              "</table>\n",
              "</div>"
            ],
            "text/plain": [
              "           date  positive  current_total       pct\n",
              "state                                             \n",
              "FL     20200401      6955           6955  1.000000\n",
              "FL     20200331      6338           6955  0.911287\n",
              "FL     20200330      5473           6955  0.786916\n",
              "FL     20200329      4246           6955  0.610496\n",
              "FL     20200328      3763           6955  0.541050\n",
              "FL     20200327      2765           6955  0.397556\n",
              "FL     20200326      2355           6955  0.338605"
            ]
          },
          "metadata": {
            "tags": []
          },
          "execution_count": 27
        }
      ]
    },
    {
      "cell_type": "code",
      "metadata": {
        "id": "dkgVF6Q19glV",
        "colab_type": "code",
        "colab": {}
      },
      "source": [
        "res = dfState.reset_index().pivot(index = 'date', columns='state', values='pct').fillna(0)"
      ],
      "execution_count": 0,
      "outputs": []
    },
    {
      "cell_type": "code",
      "metadata": {
        "id": "w1ml4KC6BF7q",
        "colab_type": "code",
        "outputId": "e5d00e64-6ab9-4755-d2be-f860faca4a52",
        "colab": {
          "base_uri": "https://localhost:8080/",
          "height": 279
        }
      },
      "source": [
        "x = res.loc[:, ['CA','FL']].plot.line()"
      ],
      "execution_count": 29,
      "outputs": [
        {
          "output_type": "display_data",
          "data": {
            "image/png": "[encoded data removed]",
            "text/plain": [
              "<Figure size 432x288 with 1 Axes>"
            ]
          },
          "metadata": {
            "tags": []
          }
        }
      ]
    },
    {
      "cell_type": "code",
      "metadata": {
        "id": "eaLSwLbuBLY0",
        "colab_type": "code",
        "colab": {}
      },
      "source": [
        "dfNYTesting = dfCovidtracking.loc[dfCovidtracking.state=='NY', ['date', 'negative']].set_index('date')"
      ],
      "execution_count": 0,
      "outputs": []
    },
    {
      "cell_type": "code",
      "metadata": {
        "id": "vhL4WBWECIhP",
        "colab_type": "code",
        "outputId": "8dace4e3-9cbc-45ef-903b-92462fa01a57",
        "colab": {
          "base_uri": "https://localhost:8080/",
          "height": 279
        }
      },
      "source": [
        "x = dfNYTesting.plot.line()"
      ],
      "execution_count": 31,
      "outputs": [
        {
          "output_type": "display_data",
          "data": {
            "image/png": "[encoded data removed]",
            "text/plain": [
              "<Figure size 432x288 with 1 Axes>"
            ]
          },
          "metadata": {
            "tags": []
          }
        }
      ]
    },
    {
      "cell_type": "code",
      "metadata": {
        "id": "c4uuFBTquS3o",
        "colab_type": "code",
        "outputId": "3ec170e1-0fad-4ba5-b0a8-7f656490d5da",
        "colab": {
          "base_uri": "https://localhost:8080/",
          "height": 363
        }
      },
      "source": [
        "dfDates = dfState.reset_index().copy()\n",
        "dfDates[(dfDates.state.isin(['FL']))].head(10)"
      ],
      "execution_count": 32,
      "outputs": [
        {
          "output_type": "execute_result",
          "data": {
            "text/html": [
              "<div>\n",
              "<style scoped>\n",
              "    .dataframe tbody tr th:only-of-type {\n",
              "        vertical-align: middle;\n",
              "    }\n",
              "\n",
              "    .dataframe tbody tr th {\n",
              "        vertical-align: top;\n",
              "    }\n",
              "\n",
              "    .dataframe thead th {\n",
              "        text-align: right;\n",
              "    }\n",
              "</style>\n",
              "<table border=\"1\" class=\"dataframe\">\n",
              "  <thead>\n",
              "    <tr style=\"text-align: right;\">\n",
              "      <th></th>\n",
              "      <th>state</th>\n",
              "      <th>date</th>\n",
              "      <th>positive</th>\n",
              "      <th>current_total</th>\n",
              "      <th>pct</th>\n",
              "    </tr>\n",
              "  </thead>\n",
              "  <tbody>\n",
              "    <tr>\n",
              "      <th>264</th>\n",
              "      <td>FL</td>\n",
              "      <td>20200401</td>\n",
              "      <td>6955</td>\n",
              "      <td>6955</td>\n",
              "      <td>1.000000</td>\n",
              "    </tr>\n",
              "    <tr>\n",
              "      <th>265</th>\n",
              "      <td>FL</td>\n",
              "      <td>20200331</td>\n",
              "      <td>6338</td>\n",
              "      <td>6955</td>\n",
              "      <td>0.911287</td>\n",
              "    </tr>\n",
              "    <tr>\n",
              "      <th>266</th>\n",
              "      <td>FL</td>\n",
              "      <td>20200330</td>\n",
              "      <td>5473</td>\n",
              "      <td>6955</td>\n",
              "      <td>0.786916</td>\n",
              "    </tr>\n",
              "    <tr>\n",
              "      <th>267</th>\n",
              "      <td>FL</td>\n",
              "      <td>20200329</td>\n",
              "      <td>4246</td>\n",
              "      <td>6955</td>\n",
              "      <td>0.610496</td>\n",
              "    </tr>\n",
              "    <tr>\n",
              "      <th>268</th>\n",
              "      <td>FL</td>\n",
              "      <td>20200328</td>\n",
              "      <td>3763</td>\n",
              "      <td>6955</td>\n",
              "      <td>0.541050</td>\n",
              "    </tr>\n",
              "    <tr>\n",
              "      <th>269</th>\n",
              "      <td>FL</td>\n",
              "      <td>20200327</td>\n",
              "      <td>2765</td>\n",
              "      <td>6955</td>\n",
              "      <td>0.397556</td>\n",
              "    </tr>\n",
              "    <tr>\n",
              "      <th>270</th>\n",
              "      <td>FL</td>\n",
              "      <td>20200326</td>\n",
              "      <td>2355</td>\n",
              "      <td>6955</td>\n",
              "      <td>0.338605</td>\n",
              "    </tr>\n",
              "    <tr>\n",
              "      <th>271</th>\n",
              "      <td>FL</td>\n",
              "      <td>20200325</td>\n",
              "      <td>1682</td>\n",
              "      <td>6955</td>\n",
              "      <td>0.241840</td>\n",
              "    </tr>\n",
              "    <tr>\n",
              "      <th>272</th>\n",
              "      <td>FL</td>\n",
              "      <td>20200324</td>\n",
              "      <td>1412</td>\n",
              "      <td>6955</td>\n",
              "      <td>0.203019</td>\n",
              "    </tr>\n",
              "    <tr>\n",
              "      <th>273</th>\n",
              "      <td>FL</td>\n",
              "      <td>20200323</td>\n",
              "      <td>1171</td>\n",
              "      <td>6955</td>\n",
              "      <td>0.168368</td>\n",
              "    </tr>\n",
              "  </tbody>\n",
              "</table>\n",
              "</div>"
            ],
            "text/plain": [
              "    state      date  positive  current_total       pct\n",
              "264    FL  20200401      6955           6955  1.000000\n",
              "265    FL  20200331      6338           6955  0.911287\n",
              "266    FL  20200330      5473           6955  0.786916\n",
              "267    FL  20200329      4246           6955  0.610496\n",
              "268    FL  20200328      3763           6955  0.541050\n",
              "269    FL  20200327      2765           6955  0.397556\n",
              "270    FL  20200326      2355           6955  0.338605\n",
              "271    FL  20200325      1682           6955  0.241840\n",
              "272    FL  20200324      1412           6955  0.203019\n",
              "273    FL  20200323      1171           6955  0.168368"
            ]
          },
          "metadata": {
            "tags": []
          },
          "execution_count": 32
        }
      ]
    },
    {
      "cell_type": "code",
      "metadata": {
        "id": "Puz0PBzemMD3",
        "colab_type": "code",
        "outputId": "fe809655-27bc-41a6-e397-dd9f53568bf5",
        "colab": {
          "base_uri": "https://localhost:8080/",
          "height": 708
        }
      },
      "source": [
        "datecutoff = int(((pd.to_datetime(str(dfDates.date.max())))-datetime.timedelta(days=3)).strftime(\"%Y%m%d\"))\n",
        "dfDates[(dfDates.date == datecutoff) & (dfDates.pct < .60)].sort_values(by='positive',ascending=False)\n"
      ],
      "execution_count": 33,
      "outputs": [
        {
          "output_type": "execute_result",
          "data": {
            "text/html": [
              "<div>\n",
              "<style scoped>\n",
              "    .dataframe tbody tr th:only-of-type {\n",
              "        vertical-align: middle;\n",
              "    }\n",
              "\n",
              "    .dataframe tbody tr th {\n",
              "        vertical-align: top;\n",
              "    }\n",
              "\n",
              "    .dataframe thead th {\n",
              "        text-align: right;\n",
              "    }\n",
              "</style>\n",
              "<table border=\"1\" class=\"dataframe\">\n",
              "  <thead>\n",
              "    <tr style=\"text-align: right;\">\n",
              "      <th></th>\n",
              "      <th>state</th>\n",
              "      <th>date</th>\n",
              "      <th>positive</th>\n",
              "      <th>current_total</th>\n",
              "      <th>pct</th>\n",
              "    </tr>\n",
              "  </thead>\n",
              "  <tbody>\n",
              "    <tr>\n",
              "      <th>640</th>\n",
              "      <td>MI</td>\n",
              "      <td>20200329</td>\n",
              "      <td>5486</td>\n",
              "      <td>9334</td>\n",
              "      <td>0.587744</td>\n",
              "    </tr>\n",
              "    <tr>\n",
              "      <th>531</th>\n",
              "      <td>LA</td>\n",
              "      <td>20200329</td>\n",
              "      <td>3540</td>\n",
              "      <td>6424</td>\n",
              "      <td>0.551059</td>\n",
              "    </tr>\n",
              "    <tr>\n",
              "      <th>1097</th>\n",
              "      <td>PA</td>\n",
              "      <td>20200329</td>\n",
              "      <td>3394</td>\n",
              "      <td>5805</td>\n",
              "      <td>0.584668</td>\n",
              "    </tr>\n",
              "    <tr>\n",
              "      <th>296</th>\n",
              "      <td>GA</td>\n",
              "      <td>20200329</td>\n",
              "      <td>2651</td>\n",
              "      <td>4638</td>\n",
              "      <td>0.571583</td>\n",
              "    </tr>\n",
              "    <tr>\n",
              "      <th>186</th>\n",
              "      <td>CT</td>\n",
              "      <td>20200329</td>\n",
              "      <td>1993</td>\n",
              "      <td>3557</td>\n",
              "      <td>0.560304</td>\n",
              "    </tr>\n",
              "    <tr>\n",
              "      <th>1222</th>\n",
              "      <td>TN</td>\n",
              "      <td>20200329</td>\n",
              "      <td>1537</td>\n",
              "      <td>2683</td>\n",
              "      <td>0.572866</td>\n",
              "    </tr>\n",
              "    <tr>\n",
              "      <th>450</th>\n",
              "      <td>IN</td>\n",
              "      <td>20200329</td>\n",
              "      <td>1514</td>\n",
              "      <td>2565</td>\n",
              "      <td>0.590253</td>\n",
              "    </tr>\n",
              "    <tr>\n",
              "      <th>1305</th>\n",
              "      <td>VA</td>\n",
              "      <td>20200329</td>\n",
              "      <td>890</td>\n",
              "      <td>1484</td>\n",
              "      <td>0.599730</td>\n",
              "    </tr>\n",
              "    <tr>\n",
              "      <th>695</th>\n",
              "      <td>MO</td>\n",
              "      <td>20200329</td>\n",
              "      <td>838</td>\n",
              "      <td>1581</td>\n",
              "      <td>0.530044</td>\n",
              "    </tr>\n",
              "    <tr>\n",
              "      <th>1167</th>\n",
              "      <td>SC</td>\n",
              "      <td>20200329</td>\n",
              "      <td>774</td>\n",
              "      <td>1293</td>\n",
              "      <td>0.598608</td>\n",
              "    </tr>\n",
              "    <tr>\n",
              "      <th>957</th>\n",
              "      <td>NV</td>\n",
              "      <td>20200329</td>\n",
              "      <td>738</td>\n",
              "      <td>1279</td>\n",
              "      <td>0.577013</td>\n",
              "    </tr>\n",
              "    <tr>\n",
              "      <th>1042</th>\n",
              "      <td>OK</td>\n",
              "      <td>20200329</td>\n",
              "      <td>429</td>\n",
              "      <td>719</td>\n",
              "      <td>0.596662</td>\n",
              "    </tr>\n",
              "    <tr>\n",
              "      <th>212</th>\n",
              "      <td>DC</td>\n",
              "      <td>20200329</td>\n",
              "      <td>342</td>\n",
              "      <td>586</td>\n",
              "      <td>0.583618</td>\n",
              "    </tr>\n",
              "    <tr>\n",
              "      <th>1141</th>\n",
              "      <td>RI</td>\n",
              "      <td>20200329</td>\n",
              "      <td>294</td>\n",
              "      <td>566</td>\n",
              "      <td>0.519435</td>\n",
              "    </tr>\n",
              "    <tr>\n",
              "      <th>395</th>\n",
              "      <td>ID</td>\n",
              "      <td>20200329</td>\n",
              "      <td>261</td>\n",
              "      <td>525</td>\n",
              "      <td>0.497143</td>\n",
              "    </tr>\n",
              "    <tr>\n",
              "      <th>240</th>\n",
              "      <td>DE</td>\n",
              "      <td>20200329</td>\n",
              "      <td>232</td>\n",
              "      <td>406</td>\n",
              "      <td>0.571429</td>\n",
              "    </tr>\n",
              "    <tr>\n",
              "      <th>873</th>\n",
              "      <td>NH</td>\n",
              "      <td>20200329</td>\n",
              "      <td>214</td>\n",
              "      <td>415</td>\n",
              "      <td>0.515663</td>\n",
              "    </tr>\n",
              "    <tr>\n",
              "      <th>1124</th>\n",
              "      <td>PR</td>\n",
              "      <td>20200329</td>\n",
              "      <td>127</td>\n",
              "      <td>286</td>\n",
              "      <td>0.444056</td>\n",
              "    </tr>\n",
              "    <tr>\n",
              "      <th>1435</th>\n",
              "      <td>WV</td>\n",
              "      <td>20200329</td>\n",
              "      <td>113</td>\n",
              "      <td>191</td>\n",
              "      <td>0.591623</td>\n",
              "    </tr>\n",
              "    <tr>\n",
              "      <th>845</th>\n",
              "      <td>NE</td>\n",
              "      <td>20200329</td>\n",
              "      <td>108</td>\n",
              "      <td>210</td>\n",
              "      <td>0.514286</td>\n",
              "    </tr>\n",
              "    <tr>\n",
              "      <th>721</th>\n",
              "      <td>MP</td>\n",
              "      <td>20200329</td>\n",
              "      <td>2</td>\n",
              "      <td>6</td>\n",
              "      <td>0.333333</td>\n",
              "    </tr>\n",
              "  </tbody>\n",
              "</table>\n",
              "</div>"
            ],
            "text/plain": [
              "     state      date  positive  current_total       pct\n",
              "640     MI  20200329      5486           9334  0.587744\n",
              "531     LA  20200329      3540           6424  0.551059\n",
              "1097    PA  20200329      3394           5805  0.584668\n",
              "296     GA  20200329      2651           4638  0.571583\n",
              "186     CT  20200329      1993           3557  0.560304\n",
              "1222    TN  20200329      1537           2683  0.572866\n",
              "450     IN  20200329      1514           2565  0.590253\n",
              "1305    VA  20200329       890           1484  0.599730\n",
              "695     MO  20200329       838           1581  0.530044\n",
              "1167    SC  20200329       774           1293  0.598608\n",
              "957     NV  20200329       738           1279  0.577013\n",
              "1042    OK  20200329       429            719  0.596662\n",
              "212     DC  20200329       342            586  0.583618\n",
              "1141    RI  20200329       294            566  0.519435\n",
              "395     ID  20200329       261            525  0.497143\n",
              "240     DE  20200329       232            406  0.571429\n",
              "873     NH  20200329       214            415  0.515663\n",
              "1124    PR  20200329       127            286  0.444056\n",
              "1435    WV  20200329       113            191  0.591623\n",
              "845     NE  20200329       108            210  0.514286\n",
              "721     MP  20200329         2              6  0.333333"
            ]
          },
          "metadata": {
            "tags": []
          },
          "execution_count": 33
        }
      ]
    },
    {
      "cell_type": "code",
      "metadata": {
        "id": "ZmaKzaBnGQwj",
        "colab_type": "code",
        "outputId": "f8268a39-18b2-4f08-8603-b46c6bfd7c25",
        "colab": {
          "base_uri": "https://localhost:8080/",
          "height": 306
        }
      },
      "source": [
        "state = 'NY'\n",
        "dfState = dfCovidtracking[dfCovidtracking.state==state].sort_values(by='date')\n",
        "vals = dfState.positive.values\n",
        "\n",
        "x=pd.Series([y-x for x,y in zip(vals,vals[1:])], \\\n",
        "          index = dfCovidtracking[dfCovidtracking.state==state]\\\n",
        "          .sort_values(by='date').date.values[1:] ) \\\n",
        "          .plot.bar()\n",
        "\n"
      ],
      "execution_count": 39,
      "outputs": [
        {
          "output_type": "display_data",
          "data": {
            "image/png": "[encoded data removed]",
            "text/plain": [
              "<Figure size 432x288 with 1 Axes>"
            ]
          },
          "metadata": {
            "tags": []
          }
        }
      ]
    },
    {
      "cell_type": "markdown",
      "metadata": {
        "id": "xFA0q8At-4sZ",
        "colab_type": "text"
      },
      "source": [
        "# State Data"
      ]
    },
    {
      "cell_type": "code",
      "metadata": {
        "id": "Nlx8_xZ27kvp",
        "colab_type": "code",
        "colab": {}
      },
      "source": [
        "data_url = \"https://www2.census.gov/programs-surveys/popest/datasets/2010-2019/national/totals/nst-est2019-alldata.csv\"\n"
      ],
      "execution_count": 0,
      "outputs": []
    },
    {
      "cell_type": "code",
      "metadata": {
        "id": "Lwz6IJdX_WFx",
        "colab_type": "code",
        "colab": {}
      },
      "source": [
        "dfStateData = pd.read_csv(data_url)"
      ],
      "execution_count": 0,
      "outputs": []
    },
    {
      "cell_type": "code",
      "metadata": {
        "id": "Iq2qiltV_e9D",
        "colab_type": "code",
        "outputId": "39e0fe0b-668a-45c2-c5ef-55b9bee52f1e",
        "colab": {
          "base_uri": "https://localhost:8080/",
          "height": 1000
        }
      },
      "source": [
        "dfStateData[dfStateData.STATE >0][['STATE','NAME', 'POPESTIMATE2019']]"
      ],
      "execution_count": 37,
      "outputs": [
        {
          "output_type": "execute_result",
          "data": {
            "text/html": [
              "<div>\n",
              "<style scoped>\n",
              "    .dataframe tbody tr th:only-of-type {\n",
              "        vertical-align: middle;\n",
              "    }\n",
              "\n",
              "    .dataframe tbody tr th {\n",
              "        vertical-align: top;\n",
              "    }\n",
              "\n",
              "    .dataframe thead th {\n",
              "        text-align: right;\n",
              "    }\n",
              "</style>\n",
              "<table border=\"1\" class=\"dataframe\">\n",
              "  <thead>\n",
              "    <tr style=\"text-align: right;\">\n",
              "      <th></th>\n",
              "      <th>STATE</th>\n",
              "      <th>NAME</th>\n",
              "      <th>POPESTIMATE2019</th>\n",
              "    </tr>\n",
              "  </thead>\n",
              "  <tbody>\n",
              "    <tr>\n",
              "      <th>5</th>\n",
              "      <td>1</td>\n",
              "      <td>Alabama</td>\n",
              "      <td>4903185</td>\n",
              "    </tr>\n",
              "    <tr>\n",
              "      <th>6</th>\n",
              "      <td>2</td>\n",
              "      <td>Alaska</td>\n",
              "      <td>731545</td>\n",
              "    </tr>\n",
              "    <tr>\n",
              "      <th>7</th>\n",
              "      <td>4</td>\n",
              "      <td>Arizona</td>\n",
              "      <td>7278717</td>\n",
              "    </tr>\n",
              "    <tr>\n",
              "      <th>8</th>\n",
              "      <td>5</td>\n",
              "      <td>Arkansas</td>\n",
              "      <td>3017804</td>\n",
              "    </tr>\n",
              "    <tr>\n",
              "      <th>9</th>\n",
              "      <td>6</td>\n",
              "      <td>California</td>\n",
              "      <td>39512223</td>\n",
              "    </tr>\n",
              "    <tr>\n",
              "      <th>10</th>\n",
              "      <td>8</td>\n",
              "      <td>Colorado</td>\n",
              "      <td>5758736</td>\n",
              "    </tr>\n",
              "    <tr>\n",
              "      <th>11</th>\n",
              "      <td>9</td>\n",
              "      <td>Connecticut</td>\n",
              "      <td>3565287</td>\n",
              "    </tr>\n",
              "    <tr>\n",
              "      <th>12</th>\n",
              "      <td>10</td>\n",
              "      <td>Delaware</td>\n",
              "      <td>973764</td>\n",
              "    </tr>\n",
              "    <tr>\n",
              "      <th>13</th>\n",
              "      <td>11</td>\n",
              "      <td>District of Columbia</td>\n",
              "      <td>705749</td>\n",
              "    </tr>\n",
              "    <tr>\n",
              "      <th>14</th>\n",
              "      <td>12</td>\n",
              "      <td>Florida</td>\n",
              "      <td>21477737</td>\n",
              "    </tr>\n",
              "    <tr>\n",
              "      <th>15</th>\n",
              "      <td>13</td>\n",
              "      <td>Georgia</td>\n",
              "      <td>10617423</td>\n",
              "    </tr>\n",
              "    <tr>\n",
              "      <th>16</th>\n",
              "      <td>15</td>\n",
              "      <td>Hawaii</td>\n",
              "      <td>1415872</td>\n",
              "    </tr>\n",
              "    <tr>\n",
              "      <th>17</th>\n",
              "      <td>16</td>\n",
              "      <td>Idaho</td>\n",
              "      <td>1787065</td>\n",
              "    </tr>\n",
              "    <tr>\n",
              "      <th>18</th>\n",
              "      <td>17</td>\n",
              "      <td>Illinois</td>\n",
              "      <td>12671821</td>\n",
              "    </tr>\n",
              "    <tr>\n",
              "      <th>19</th>\n",
              "      <td>18</td>\n",
              "      <td>Indiana</td>\n",
              "      <td>6732219</td>\n",
              "    </tr>\n",
              "    <tr>\n",
              "      <th>20</th>\n",
              "      <td>19</td>\n",
              "      <td>Iowa</td>\n",
              "      <td>3155070</td>\n",
              "    </tr>\n",
              "    <tr>\n",
              "      <th>21</th>\n",
              "      <td>20</td>\n",
              "      <td>Kansas</td>\n",
              "      <td>2913314</td>\n",
              "    </tr>\n",
              "    <tr>\n",
              "      <th>22</th>\n",
              "      <td>21</td>\n",
              "      <td>Kentucky</td>\n",
              "      <td>4467673</td>\n",
              "    </tr>\n",
              "    <tr>\n",
              "      <th>23</th>\n",
              "      <td>22</td>\n",
              "      <td>Louisiana</td>\n",
              "      <td>4648794</td>\n",
              "    </tr>\n",
              "    <tr>\n",
              "      <th>24</th>\n",
              "      <td>23</td>\n",
              "      <td>Maine</td>\n",
              "      <td>1344212</td>\n",
              "    </tr>\n",
              "    <tr>\n",
              "      <th>25</th>\n",
              "      <td>24</td>\n",
              "      <td>Maryland</td>\n",
              "      <td>6045680</td>\n",
              "    </tr>\n",
              "    <tr>\n",
              "      <th>26</th>\n",
              "      <td>25</td>\n",
              "      <td>Massachusetts</td>\n",
              "      <td>6892503</td>\n",
              "    </tr>\n",
              "    <tr>\n",
              "      <th>27</th>\n",
              "      <td>26</td>\n",
              "      <td>Michigan</td>\n",
              "      <td>9986857</td>\n",
              "    </tr>\n",
              "    <tr>\n",
              "      <th>28</th>\n",
              "      <td>27</td>\n",
              "      <td>Minnesota</td>\n",
              "      <td>5639632</td>\n",
              "    </tr>\n",
              "    <tr>\n",
              "      <th>29</th>\n",
              "      <td>28</td>\n",
              "      <td>Mississippi</td>\n",
              "      <td>2976149</td>\n",
              "    </tr>\n",
              "    <tr>\n",
              "      <th>30</th>\n",
              "      <td>29</td>\n",
              "      <td>Missouri</td>\n",
              "      <td>6137428</td>\n",
              "    </tr>\n",
              "    <tr>\n",
              "      <th>31</th>\n",
              "      <td>30</td>\n",
              "      <td>Montana</td>\n",
              "      <td>1068778</td>\n",
              "    </tr>\n",
              "    <tr>\n",
              "      <th>32</th>\n",
              "      <td>31</td>\n",
              "      <td>Nebraska</td>\n",
              "      <td>1934408</td>\n",
              "    </tr>\n",
              "    <tr>\n",
              "      <th>33</th>\n",
              "      <td>32</td>\n",
              "      <td>Nevada</td>\n",
              "      <td>3080156</td>\n",
              "    </tr>\n",
              "    <tr>\n",
              "      <th>34</th>\n",
              "      <td>33</td>\n",
              "      <td>New Hampshire</td>\n",
              "      <td>1359711</td>\n",
              "    </tr>\n",
              "    <tr>\n",
              "      <th>35</th>\n",
              "      <td>34</td>\n",
              "      <td>New Jersey</td>\n",
              "      <td>8882190</td>\n",
              "    </tr>\n",
              "    <tr>\n",
              "      <th>36</th>\n",
              "      <td>35</td>\n",
              "      <td>New Mexico</td>\n",
              "      <td>2096829</td>\n",
              "    </tr>\n",
              "    <tr>\n",
              "      <th>37</th>\n",
              "      <td>36</td>\n",
              "      <td>New York</td>\n",
              "      <td>19453561</td>\n",
              "    </tr>\n",
              "    <tr>\n",
              "      <th>38</th>\n",
              "      <td>37</td>\n",
              "      <td>North Carolina</td>\n",
              "      <td>10488084</td>\n",
              "    </tr>\n",
              "    <tr>\n",
              "      <th>39</th>\n",
              "      <td>38</td>\n",
              "      <td>North Dakota</td>\n",
              "      <td>762062</td>\n",
              "    </tr>\n",
              "    <tr>\n",
              "      <th>40</th>\n",
              "      <td>39</td>\n",
              "      <td>Ohio</td>\n",
              "      <td>11689100</td>\n",
              "    </tr>\n",
              "    <tr>\n",
              "      <th>41</th>\n",
              "      <td>40</td>\n",
              "      <td>Oklahoma</td>\n",
              "      <td>3956971</td>\n",
              "    </tr>\n",
              "    <tr>\n",
              "      <th>42</th>\n",
              "      <td>41</td>\n",
              "      <td>Oregon</td>\n",
              "      <td>4217737</td>\n",
              "    </tr>\n",
              "    <tr>\n",
              "      <th>43</th>\n",
              "      <td>42</td>\n",
              "      <td>Pennsylvania</td>\n",
              "      <td>12801989</td>\n",
              "    </tr>\n",
              "    <tr>\n",
              "      <th>44</th>\n",
              "      <td>44</td>\n",
              "      <td>Rhode Island</td>\n",
              "      <td>1059361</td>\n",
              "    </tr>\n",
              "    <tr>\n",
              "      <th>45</th>\n",
              "      <td>45</td>\n",
              "      <td>South Carolina</td>\n",
              "      <td>5148714</td>\n",
              "    </tr>\n",
              "    <tr>\n",
              "      <th>46</th>\n",
              "      <td>46</td>\n",
              "      <td>South Dakota</td>\n",
              "      <td>884659</td>\n",
              "    </tr>\n",
              "    <tr>\n",
              "      <th>47</th>\n",
              "      <td>47</td>\n",
              "      <td>Tennessee</td>\n",
              "      <td>6829174</td>\n",
              "    </tr>\n",
              "    <tr>\n",
              "      <th>48</th>\n",
              "      <td>48</td>\n",
              "      <td>Texas</td>\n",
              "      <td>28995881</td>\n",
              "    </tr>\n",
              "    <tr>\n",
              "      <th>49</th>\n",
              "      <td>49</td>\n",
              "      <td>Utah</td>\n",
              "      <td>3205958</td>\n",
              "    </tr>\n",
              "    <tr>\n",
              "      <th>50</th>\n",
              "      <td>50</td>\n",
              "      <td>Vermont</td>\n",
              "      <td>623989</td>\n",
              "    </tr>\n",
              "    <tr>\n",
              "      <th>51</th>\n",
              "      <td>51</td>\n",
              "      <td>Virginia</td>\n",
              "      <td>8535519</td>\n",
              "    </tr>\n",
              "    <tr>\n",
              "      <th>52</th>\n",
              "      <td>53</td>\n",
              "      <td>Washington</td>\n",
              "      <td>7614893</td>\n",
              "    </tr>\n",
              "    <tr>\n",
              "      <th>53</th>\n",
              "      <td>54</td>\n",
              "      <td>West Virginia</td>\n",
              "      <td>1792147</td>\n",
              "    </tr>\n",
              "    <tr>\n",
              "      <th>54</th>\n",
              "      <td>55</td>\n",
              "      <td>Wisconsin</td>\n",
              "      <td>5822434</td>\n",
              "    </tr>\n",
              "    <tr>\n",
              "      <th>55</th>\n",
              "      <td>56</td>\n",
              "      <td>Wyoming</td>\n",
              "      <td>578759</td>\n",
              "    </tr>\n",
              "    <tr>\n",
              "      <th>56</th>\n",
              "      <td>72</td>\n",
              "      <td>Puerto Rico</td>\n",
              "      <td>3193694</td>\n",
              "    </tr>\n",
              "  </tbody>\n",
              "</table>\n",
              "</div>"
            ],
            "text/plain": [
              "    STATE                  NAME  POPESTIMATE2019\n",
              "5       1               Alabama          4903185\n",
              "6       2                Alaska           731545\n",
              "7       4               Arizona          7278717\n",
              "8       5              Arkansas          3017804\n",
              "9       6            California         39512223\n",
              "10      8              Colorado          5758736\n",
              "11      9           Connecticut          3565287\n",
              "12     10              Delaware           973764\n",
              "13     11  District of Columbia           705749\n",
              "14     12               Florida         21477737\n",
              "15     13               Georgia         10617423\n",
              "16     15                Hawaii          1415872\n",
              "17     16                 Idaho          1787065\n",
              "18     17              Illinois         12671821\n",
              "19     18               Indiana          6732219\n",
              "20     19                  Iowa          3155070\n",
              "21     20                Kansas          2913314\n",
              "22     21              Kentucky          4467673\n",
              "23     22             Louisiana          4648794\n",
              "24     23                 Maine          1344212\n",
              "25     24              Maryland          6045680\n",
              "26     25         Massachusetts          6892503\n",
              "27     26              Michigan          9986857\n",
              "28     27             Minnesota          5639632\n",
              "29     28           Mississippi          2976149\n",
              "30     29              Missouri          6137428\n",
              "31     30               Montana          1068778\n",
              "32     31              Nebraska          1934408\n",
              "33     32                Nevada          3080156\n",
              "34     33         New Hampshire          1359711\n",
              "35     34            New Jersey          8882190\n",
              "36     35            New Mexico          2096829\n",
              "37     36              New York         19453561\n",
              "38     37        North Carolina         10488084\n",
              "39     38          North Dakota           762062\n",
              "40     39                  Ohio         11689100\n",
              "41     40              Oklahoma          3956971\n",
              "42     41                Oregon          4217737\n",
              "43     42          Pennsylvania         12801989\n",
              "44     44          Rhode Island          1059361\n",
              "45     45        South Carolina          5148714\n",
              "46     46          South Dakota           884659\n",
              "47     47             Tennessee          6829174\n",
              "48     48                 Texas         28995881\n",
              "49     49                  Utah          3205958\n",
              "50     50               Vermont           623989\n",
              "51     51              Virginia          8535519\n",
              "52     53            Washington          7614893\n",
              "53     54         West Virginia          1792147\n",
              "54     55             Wisconsin          5822434\n",
              "55     56               Wyoming           578759\n",
              "56     72           Puerto Rico          3193694"
            ]
          },
          "metadata": {
            "tags": []
          },
          "execution_count": 37
        }
      ]
    },
    {
      "cell_type": "code",
      "metadata": {
        "id": "2vBfxc9X_g7F",
        "colab_type": "code",
        "outputId": "026e6a8c-a507-4e02-a782-f930ee7dbc7d",
        "colab": {
          "base_uri": "https://localhost:8080/",
          "height": 206
        }
      },
      "source": [
        "dfStateData[dfStateData.STATE ==0][['STATE','NAME', 'POPESTIMATE2019']]"
      ],
      "execution_count": 38,
      "outputs": [
        {
          "output_type": "execute_result",
          "data": {
            "text/html": [
              "<div>\n",
              "<style scoped>\n",
              "    .dataframe tbody tr th:only-of-type {\n",
              "        vertical-align: middle;\n",
              "    }\n",
              "\n",
              "    .dataframe tbody tr th {\n",
              "        vertical-align: top;\n",
              "    }\n",
              "\n",
              "    .dataframe thead th {\n",
              "        text-align: right;\n",
              "    }\n",
              "</style>\n",
              "<table border=\"1\" class=\"dataframe\">\n",
              "  <thead>\n",
              "    <tr style=\"text-align: right;\">\n",
              "      <th></th>\n",
              "      <th>STATE</th>\n",
              "      <th>NAME</th>\n",
              "      <th>POPESTIMATE2019</th>\n",
              "    </tr>\n",
              "  </thead>\n",
              "  <tbody>\n",
              "    <tr>\n",
              "      <th>0</th>\n",
              "      <td>0</td>\n",
              "      <td>United States</td>\n",
              "      <td>328239523</td>\n",
              "    </tr>\n",
              "    <tr>\n",
              "      <th>1</th>\n",
              "      <td>0</td>\n",
              "      <td>Northeast Region</td>\n",
              "      <td>55982803</td>\n",
              "    </tr>\n",
              "    <tr>\n",
              "      <th>2</th>\n",
              "      <td>0</td>\n",
              "      <td>Midwest Region</td>\n",
              "      <td>68329004</td>\n",
              "    </tr>\n",
              "    <tr>\n",
              "      <th>3</th>\n",
              "      <td>0</td>\n",
              "      <td>South Region</td>\n",
              "      <td>125580448</td>\n",
              "    </tr>\n",
              "    <tr>\n",
              "      <th>4</th>\n",
              "      <td>0</td>\n",
              "      <td>West Region</td>\n",
              "      <td>78347268</td>\n",
              "    </tr>\n",
              "  </tbody>\n",
              "</table>\n",
              "</div>"
            ],
            "text/plain": [
              "   STATE              NAME  POPESTIMATE2019\n",
              "0      0     United States        328239523\n",
              "1      0  Northeast Region         55982803\n",
              "2      0    Midwest Region         68329004\n",
              "3      0      South Region        125580448\n",
              "4      0       West Region         78347268"
            ]
          },
          "metadata": {
            "tags": []
          },
          "execution_count": 38
        }
      ]
    },
    {
      "cell_type": "code",
      "metadata": {
        "id": "aU3ZzHS-AkRS",
        "colab_type": "code",
        "colab": {}
      },
      "source": [
        ""
      ],
      "execution_count": 0,
      "outputs": []
    }
  ]
}