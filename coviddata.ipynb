{
  "nbformat": 4,
  "nbformat_minor": 0,
  "metadata": {
    "colab": {
      "name": "coviddata",
      "provenance": [],
      "toc_visible": true,
      "authorship_tag": "ABX9TyOJdF6cfXF7WlG/MF/Zm2Dr",
      "include_colab_link": true
    },
    "kernelspec": {
      "name": "python3",
      "display_name": "Python 3"
    }
  },
  "cells": [
    {
      "cell_type": "markdown",
      "metadata": {
        "id": "view-in-github",
        "colab_type": "text"
      },
      "source": [
        "<a href=\"https://colab.research.google.com/github/DMXMax/covid19/blob/gc_20200315/coviddata.ipynb\" target=\"_parent\"><img src=\"https://colab.research.google.com/assets/colab-badge.svg\" alt=\"Open In Colab\"/></a>"
      ]
    },
    {
      "cell_type": "code",
      "metadata": {
        "id": "jCzokJEPxFhv",
        "colab_type": "code",
        "colab": {}
      },
      "source": [
        "import numpy as np\n",
        "import pandas as pd\n",
        "import io\n",
        "import matplotlib.pyplot as plt\n",
        "import requests,json\n"
      ],
      "execution_count": 0,
      "outputs": []
    },
    {
      "cell_type": "code",
      "metadata": {
        "id": "cLNVxoIVmPnI",
        "colab_type": "code",
        "colab": {}
      },
      "source": [
        "\n",
        "#!mkdir -p covid_data/tpm_atlantic && mkdir -p covid_data/jhu\n",
        "#!wget https://raw.githubusercontent.com/CSSEGISandData/COVID-19/master/csse_covid_19_data/csse_covid_19_daily_reports/03-14-2020.csv --quiet --output-document ./covid_data/jhu/20200314.csv\n"
      ],
      "execution_count": 0,
      "outputs": []
    },
    {
      "cell_type": "code",
      "metadata": {
        "id": "zNKPT5Z8BXPT",
        "colab_type": "code",
        "colab": {}
      },
      "source": [
        "covidtrackingurl = \"https://covidtracking.com/api/states/daily\"\n",
        "response = requests.get(covidtrackingurl)\n",
        "dfData = pd.DataFrame(response.json())\n",
        "dfData.fillna(0, inplace=True)\n",
        "dfData.negative = dfData.negative.astype('int64')\n",
        "dfData.positive = dfData.positive.astype('int64')\n",
        "dfData.pending = dfData.pending.astype('int64')\n",
        "dfData.total = dfData.total.astype('int64')\n",
        "dfData.death = dfData.death.astype('int64')\n"
      ],
      "execution_count": 0,
      "outputs": []
    },
    {
      "cell_type": "code",
      "metadata": {
        "id": "QQbIdsJhOvIv",
        "colab_type": "code",
        "colab": {
          "base_uri": "https://localhost:8080/",
          "height": 204
        },
        "outputId": "ab11128a-7065-4c23-f4b8-9f0e3db82645"
      },
      "source": [
        "dfData.head()"
      ],
      "execution_count": 3,
      "outputs": [
        {
          "output_type": "execute_result",
          "data": {
            "text/html": [
              "<div>\n",
              "<style scoped>\n",
              "    .dataframe tbody tr th:only-of-type {\n",
              "        vertical-align: middle;\n",
              "    }\n",
              "\n",
              "    .dataframe tbody tr th {\n",
              "        vertical-align: top;\n",
              "    }\n",
              "\n",
              "    .dataframe thead th {\n",
              "        text-align: right;\n",
              "    }\n",
              "</style>\n",
              "<table border=\"1\" class=\"dataframe\">\n",
              "  <thead>\n",
              "    <tr style=\"text-align: right;\">\n",
              "      <th></th>\n",
              "      <th>date</th>\n",
              "      <th>state</th>\n",
              "      <th>positive</th>\n",
              "      <th>negative</th>\n",
              "      <th>pending</th>\n",
              "      <th>death</th>\n",
              "      <th>total</th>\n",
              "    </tr>\n",
              "  </thead>\n",
              "  <tbody>\n",
              "    <tr>\n",
              "      <th>0</th>\n",
              "      <td>20200315</td>\n",
              "      <td>AK</td>\n",
              "      <td>1</td>\n",
              "      <td>143</td>\n",
              "      <td>0</td>\n",
              "      <td>0</td>\n",
              "      <td>144</td>\n",
              "    </tr>\n",
              "    <tr>\n",
              "      <th>1</th>\n",
              "      <td>20200315</td>\n",
              "      <td>AL</td>\n",
              "      <td>12</td>\n",
              "      <td>28</td>\n",
              "      <td>46</td>\n",
              "      <td>0</td>\n",
              "      <td>86</td>\n",
              "    </tr>\n",
              "    <tr>\n",
              "      <th>2</th>\n",
              "      <td>20200315</td>\n",
              "      <td>AR</td>\n",
              "      <td>16</td>\n",
              "      <td>103</td>\n",
              "      <td>30</td>\n",
              "      <td>0</td>\n",
              "      <td>149</td>\n",
              "    </tr>\n",
              "    <tr>\n",
              "      <th>3</th>\n",
              "      <td>20200315</td>\n",
              "      <td>AZ</td>\n",
              "      <td>12</td>\n",
              "      <td>121</td>\n",
              "      <td>50</td>\n",
              "      <td>0</td>\n",
              "      <td>183</td>\n",
              "    </tr>\n",
              "    <tr>\n",
              "      <th>4</th>\n",
              "      <td>20200315</td>\n",
              "      <td>CA</td>\n",
              "      <td>293</td>\n",
              "      <td>916</td>\n",
              "      <td>0</td>\n",
              "      <td>5</td>\n",
              "      <td>1209</td>\n",
              "    </tr>\n",
              "  </tbody>\n",
              "</table>\n",
              "</div>"
            ],
            "text/plain": [
              "       date state  positive  negative  pending  death  total\n",
              "0  20200315    AK         1       143        0      0    144\n",
              "1  20200315    AL        12        28       46      0     86\n",
              "2  20200315    AR        16       103       30      0    149\n",
              "3  20200315    AZ        12       121       50      0    183\n",
              "4  20200315    CA       293       916        0      5   1209"
            ]
          },
          "metadata": {
            "tags": []
          },
          "execution_count": 3
        }
      ]
    },
    {
      "cell_type": "code",
      "metadata": {
        "id": "MwokJX5VqDG_",
        "colab_type": "code",
        "colab": {}
      },
      "source": [
        "#Setthe current date for new cells\n",
        "current_date = 20200314\n"
      ],
      "execution_count": 0,
      "outputs": []
    },
    {
      "cell_type": "code",
      "metadata": {
        "id": "s_-HikSXxwwG",
        "colab_type": "code",
        "colab": {}
      },
      "source": [
        "#dfData = pd.read_csv(\"/content/covid_data/tpm_atlantic/cvstate20200314.tsv\",\n",
        "#                     sep='\\t', thousands=',')\n",
        "#dfData.loc[(dfData.Date == 20200309) & (dfData.State=='WA'),['Negative']]= 1100\n",
        "#dfData.fillna(0, inplace=True)\n",
        "#dfData.Negative = dfData.Negative.astype('int64')\n",
        "#dfData.Positive = dfData.Positive.astype('int64')\n",
        "#dfData.Pending = dfData.Pending.astype('int64')\n",
        "#dfData.Total = dfData.Total.astype('int64')\n",
        "#dfData.Death = dfData.Death.astype('int64')"
      ],
      "execution_count": 0,
      "outputs": []
    },
    {
      "cell_type": "code",
      "metadata": {
        "id": "Fvn3kL43H9jJ",
        "colab_type": "code",
        "colab": {}
      },
      "source": [
        "#data correction on 3/13. This may go away\n",
        "dfData.loc[(dfData.state=='CA')& (dfData.date==20200313), ['positive']]=247"
      ],
      "execution_count": 0,
      "outputs": []
    },
    {
      "cell_type": "code",
      "metadata": {
        "id": "8_Il5iuohC8_",
        "colab_type": "code",
        "colab": {}
      },
      "source": [
        "dfWHO = pd.read_csv(\"https://raw.githubusercontent.com/DMXMax/hmacBlues/master/who/who_data.tsv\",\n",
        "                     sep='\\t', index_col='Date')"
      ],
      "execution_count": 0,
      "outputs": []
    },
    {
      "cell_type": "markdown",
      "metadata": {
        "id": "IMM_EThtYdSK",
        "colab_type": "text"
      },
      "source": [
        ""
      ]
    },
    {
      "cell_type": "code",
      "metadata": {
        "id": "hrPlWJJCVtBR",
        "colab_type": "code",
        "colab": {}
      },
      "source": [
        "dfWHO = dfWHO.rename(columns={\"Confirmed\": \"confirmed\", \"Deaths\": \"who_deaths\"})\n",
        "dfWHO.index.names=['date']\n"
      ],
      "execution_count": 0,
      "outputs": []
    },
    {
      "cell_type": "code",
      "metadata": {
        "id": "MpHUZ9dwWODc",
        "colab_type": "code",
        "colab": {
          "base_uri": "https://localhost:8080/",
          "height": 421
        },
        "outputId": "7e334186-49e4-4159-e04f-b2bb3ae545f8"
      },
      "source": [
        "dfWHO"
      ],
      "execution_count": 9,
      "outputs": [
        {
          "output_type": "execute_result",
          "data": {
            "text/html": [
              "<div>\n",
              "<style scoped>\n",
              "    .dataframe tbody tr th:only-of-type {\n",
              "        vertical-align: middle;\n",
              "    }\n",
              "\n",
              "    .dataframe tbody tr th {\n",
              "        vertical-align: top;\n",
              "    }\n",
              "\n",
              "    .dataframe thead th {\n",
              "        text-align: right;\n",
              "    }\n",
              "</style>\n",
              "<table border=\"1\" class=\"dataframe\">\n",
              "  <thead>\n",
              "    <tr style=\"text-align: right;\">\n",
              "      <th></th>\n",
              "      <th>confirmed</th>\n",
              "      <th>who_deaths</th>\n",
              "    </tr>\n",
              "    <tr>\n",
              "      <th>date</th>\n",
              "      <th></th>\n",
              "      <th></th>\n",
              "    </tr>\n",
              "  </thead>\n",
              "  <tbody>\n",
              "    <tr>\n",
              "      <th>20200304</th>\n",
              "      <td>108</td>\n",
              "      <td>6</td>\n",
              "    </tr>\n",
              "    <tr>\n",
              "      <th>20200305</th>\n",
              "      <td>129</td>\n",
              "      <td>9</td>\n",
              "    </tr>\n",
              "    <tr>\n",
              "      <th>20200306</th>\n",
              "      <td>148</td>\n",
              "      <td>10</td>\n",
              "    </tr>\n",
              "    <tr>\n",
              "      <th>20200307</th>\n",
              "      <td>213</td>\n",
              "      <td>11</td>\n",
              "    </tr>\n",
              "    <tr>\n",
              "      <th>20200308</th>\n",
              "      <td>213</td>\n",
              "      <td>11</td>\n",
              "    </tr>\n",
              "    <tr>\n",
              "      <th>20200309</th>\n",
              "      <td>213</td>\n",
              "      <td>11</td>\n",
              "    </tr>\n",
              "    <tr>\n",
              "      <th>20200310</th>\n",
              "      <td>472</td>\n",
              "      <td>19</td>\n",
              "    </tr>\n",
              "    <tr>\n",
              "      <th>20200311</th>\n",
              "      <td>696</td>\n",
              "      <td>25</td>\n",
              "    </tr>\n",
              "    <tr>\n",
              "      <th>20200312</th>\n",
              "      <td>987</td>\n",
              "      <td>29</td>\n",
              "    </tr>\n",
              "    <tr>\n",
              "      <th>20200313</th>\n",
              "      <td>1264</td>\n",
              "      <td>36</td>\n",
              "    </tr>\n",
              "    <tr>\n",
              "      <th>20200314</th>\n",
              "      <td>1678</td>\n",
              "      <td>41</td>\n",
              "    </tr>\n",
              "  </tbody>\n",
              "</table>\n",
              "</div>"
            ],
            "text/plain": [
              "          confirmed  who_deaths\n",
              "date                           \n",
              "20200304        108           6\n",
              "20200305        129           9\n",
              "20200306        148          10\n",
              "20200307        213          11\n",
              "20200308        213          11\n",
              "20200309        213          11\n",
              "20200310        472          19\n",
              "20200311        696          25\n",
              "20200312        987          29\n",
              "20200313       1264          36\n",
              "20200314       1678          41"
            ]
          },
          "metadata": {
            "tags": []
          },
          "execution_count": 9
        }
      ]
    },
    {
      "cell_type": "code",
      "metadata": {
        "id": "HWHSGPq_yF50",
        "colab_type": "code",
        "outputId": "b7694ccd-8fdd-4f59-a7ce-7d8da340d3cb",
        "colab": {
          "base_uri": "https://localhost:8080/",
          "height": 119
        }
      },
      "source": [
        "res = dfData.loc[dfData.date==current_date, ['positive', 'negative', 'pending', 'total']].sum()\n",
        "print(res)\n",
        "print(f\"Current Infection Rate {res.positive/res.total*100:2f}%\")"
      ],
      "execution_count": 10,
      "outputs": [
        {
          "output_type": "stream",
          "text": [
            "positive     2450\n",
            "negative    17107\n",
            "pending      1236\n",
            "total       20795\n",
            "dtype: int64\n",
            "Current Infection Rate 11.781678%\n"
          ],
          "name": "stdout"
        }
      ]
    },
    {
      "cell_type": "code",
      "metadata": {
        "id": "jr8Nxdpa100d",
        "colab_type": "code",
        "outputId": "e8616986-6eb5-48f1-cc88-468695e897ae",
        "colab": {
          "base_uri": "https://localhost:8080/",
          "height": 359
        }
      },
      "source": [
        "dfData.loc[dfData.date==current_date,['state', 'positive']].sort_values(by='positive', ascending=False).head(10)"
      ],
      "execution_count": 11,
      "outputs": [
        {
          "output_type": "execute_result",
          "data": {
            "text/html": [
              "<div>\n",
              "<style scoped>\n",
              "    .dataframe tbody tr th:only-of-type {\n",
              "        vertical-align: middle;\n",
              "    }\n",
              "\n",
              "    .dataframe tbody tr th {\n",
              "        vertical-align: top;\n",
              "    }\n",
              "\n",
              "    .dataframe thead th {\n",
              "        text-align: right;\n",
              "    }\n",
              "</style>\n",
              "<table border=\"1\" class=\"dataframe\">\n",
              "  <thead>\n",
              "    <tr style=\"text-align: right;\">\n",
              "      <th></th>\n",
              "      <th>state</th>\n",
              "      <th>positive</th>\n",
              "    </tr>\n",
              "  </thead>\n",
              "  <tbody>\n",
              "    <tr>\n",
              "      <th>98</th>\n",
              "      <td>WA</td>\n",
              "      <td>568</td>\n",
              "    </tr>\n",
              "    <tr>\n",
              "      <th>85</th>\n",
              "      <td>NY</td>\n",
              "      <td>524</td>\n",
              "    </tr>\n",
              "    <tr>\n",
              "      <th>55</th>\n",
              "      <td>CA</td>\n",
              "      <td>252</td>\n",
              "    </tr>\n",
              "    <tr>\n",
              "      <th>70</th>\n",
              "      <td>MA</td>\n",
              "      <td>138</td>\n",
              "    </tr>\n",
              "    <tr>\n",
              "      <th>56</th>\n",
              "      <td>CO</td>\n",
              "      <td>101</td>\n",
              "    </tr>\n",
              "    <tr>\n",
              "      <th>60</th>\n",
              "      <td>FL</td>\n",
              "      <td>77</td>\n",
              "    </tr>\n",
              "    <tr>\n",
              "      <th>69</th>\n",
              "      <td>LA</td>\n",
              "      <td>69</td>\n",
              "    </tr>\n",
              "    <tr>\n",
              "      <th>61</th>\n",
              "      <td>GA</td>\n",
              "      <td>66</td>\n",
              "    </tr>\n",
              "    <tr>\n",
              "      <th>94</th>\n",
              "      <td>TX</td>\n",
              "      <td>51</td>\n",
              "    </tr>\n",
              "    <tr>\n",
              "      <th>82</th>\n",
              "      <td>NJ</td>\n",
              "      <td>50</td>\n",
              "    </tr>\n",
              "  </tbody>\n",
              "</table>\n",
              "</div>"
            ],
            "text/plain": [
              "   state  positive\n",
              "98    WA       568\n",
              "85    NY       524\n",
              "55    CA       252\n",
              "70    MA       138\n",
              "56    CO       101\n",
              "60    FL        77\n",
              "69    LA        69\n",
              "61    GA        66\n",
              "94    TX        51\n",
              "82    NJ        50"
            ]
          },
          "metadata": {
            "tags": []
          },
          "execution_count": 11
        }
      ]
    },
    {
      "cell_type": "code",
      "metadata": {
        "id": "aDnXxFW47TDX",
        "colab_type": "code",
        "colab": {}
      },
      "source": [
        "#Compare growth from 20200311 and 202020313\n",
        "dtstart = 20200311\n",
        "dtend = 20200313\n",
        "dfCA = dfData[dfData.state=='CA']"
      ],
      "execution_count": 0,
      "outputs": []
    },
    {
      "cell_type": "code",
      "metadata": {
        "id": "ZbzZ81viuetv",
        "colab_type": "code",
        "outputId": "adaa5fdb-17c3-485f-928a-574dff1f1346",
        "colab": {
          "base_uri": "https://localhost:8080/",
          "height": 187
        }
      },
      "source": [
        "arCols = ['positive', 'negative', 'death']\n",
        "arTotCols= ['positive', 'negative']\n",
        "\n",
        "dfUSA0311 = dfData.loc[dfData.date == dtstart, arCols].sum()\n",
        "print(dfUSA0311)\n",
        "print(dfUSA0311.loc[arTotCols].sum())\n",
        "dfUSA0313 = dfData.loc[dfData.date == dtend, arCols].sum()\n",
        "print(dfUSA0313)\n",
        "print(dfUSA0313.loc[arTotCols].sum())\n"
      ],
      "execution_count": 13,
      "outputs": [
        {
          "output_type": "stream",
          "text": [
            "positive    1053\n",
            "negative    5978\n",
            "death         27\n",
            "dtype: int64\n",
            "7031\n",
            "positive     1967\n",
            "negative    13513\n",
            "death          39\n",
            "dtype: int64\n",
            "15480\n"
          ],
          "name": "stdout"
        }
      ]
    },
    {
      "cell_type": "code",
      "metadata": {
        "id": "rFOHyOwb4bcm",
        "colab_type": "code",
        "colab": {}
      },
      "source": [
        "dfUSA = dfData.groupby(['date'])\n",
        "dfCA = dfData[dfData.state=='CA'].groupby(['date'])\n",
        "\n",
        "dfUSAPos = dfUSA.positive.sum().reset_index().copy()\n",
        "dfCAPos = dfCA.positive.sum().reset_index().copy()\n",
        "\n",
        "#This will calculate the percentage each day is of the total. In a flattening, this will be more even\n",
        "# In a high growth situation, you'll higher percentages at the tail. \n",
        "dfUSAPos['PCT']= dfUSAPos.positive/dfUSAPos.max().positive\n",
        "dfCAPos['PCT']=dfCAPos.positive/dfCAPos.max().positive"
      ],
      "execution_count": 0,
      "outputs": []
    },
    {
      "cell_type": "code",
      "metadata": {
        "id": "PW0-6X2f9emU",
        "colab_type": "code",
        "outputId": "742517f4-ad79-479a-9738-c85b5b163979",
        "colab": {
          "base_uri": "https://localhost:8080/",
          "height": 421
        }
      },
      "source": [
        "dfUSAPos"
      ],
      "execution_count": 15,
      "outputs": [
        {
          "output_type": "execute_result",
          "data": {
            "text/html": [
              "<div>\n",
              "<style scoped>\n",
              "    .dataframe tbody tr th:only-of-type {\n",
              "        vertical-align: middle;\n",
              "    }\n",
              "\n",
              "    .dataframe tbody tr th {\n",
              "        vertical-align: top;\n",
              "    }\n",
              "\n",
              "    .dataframe thead th {\n",
              "        text-align: right;\n",
              "    }\n",
              "</style>\n",
              "<table border=\"1\" class=\"dataframe\">\n",
              "  <thead>\n",
              "    <tr style=\"text-align: right;\">\n",
              "      <th></th>\n",
              "      <th>date</th>\n",
              "      <th>positive</th>\n",
              "      <th>PCT</th>\n",
              "    </tr>\n",
              "  </thead>\n",
              "  <tbody>\n",
              "    <tr>\n",
              "      <th>0</th>\n",
              "      <td>20200304</td>\n",
              "      <td>118</td>\n",
              "      <td>0.037189</td>\n",
              "    </tr>\n",
              "    <tr>\n",
              "      <th>1</th>\n",
              "      <td>20200305</td>\n",
              "      <td>176</td>\n",
              "      <td>0.055468</td>\n",
              "    </tr>\n",
              "    <tr>\n",
              "      <th>2</th>\n",
              "      <td>20200306</td>\n",
              "      <td>223</td>\n",
              "      <td>0.070280</td>\n",
              "    </tr>\n",
              "    <tr>\n",
              "      <th>3</th>\n",
              "      <td>20200307</td>\n",
              "      <td>341</td>\n",
              "      <td>0.107469</td>\n",
              "    </tr>\n",
              "    <tr>\n",
              "      <th>4</th>\n",
              "      <td>20200308</td>\n",
              "      <td>417</td>\n",
              "      <td>0.131421</td>\n",
              "    </tr>\n",
              "    <tr>\n",
              "      <th>5</th>\n",
              "      <td>20200309</td>\n",
              "      <td>584</td>\n",
              "      <td>0.184053</td>\n",
              "    </tr>\n",
              "    <tr>\n",
              "      <th>6</th>\n",
              "      <td>20200310</td>\n",
              "      <td>778</td>\n",
              "      <td>0.245194</td>\n",
              "    </tr>\n",
              "    <tr>\n",
              "      <th>7</th>\n",
              "      <td>20200311</td>\n",
              "      <td>1053</td>\n",
              "      <td>0.331863</td>\n",
              "    </tr>\n",
              "    <tr>\n",
              "      <th>8</th>\n",
              "      <td>20200312</td>\n",
              "      <td>1315</td>\n",
              "      <td>0.414434</td>\n",
              "    </tr>\n",
              "    <tr>\n",
              "      <th>9</th>\n",
              "      <td>20200313</td>\n",
              "      <td>1967</td>\n",
              "      <td>0.619918</td>\n",
              "    </tr>\n",
              "    <tr>\n",
              "      <th>10</th>\n",
              "      <td>20200314</td>\n",
              "      <td>2450</td>\n",
              "      <td>0.772140</td>\n",
              "    </tr>\n",
              "    <tr>\n",
              "      <th>11</th>\n",
              "      <td>20200315</td>\n",
              "      <td>3173</td>\n",
              "      <td>1.000000</td>\n",
              "    </tr>\n",
              "  </tbody>\n",
              "</table>\n",
              "</div>"
            ],
            "text/plain": [
              "        date  positive       PCT\n",
              "0   20200304       118  0.037189\n",
              "1   20200305       176  0.055468\n",
              "2   20200306       223  0.070280\n",
              "3   20200307       341  0.107469\n",
              "4   20200308       417  0.131421\n",
              "5   20200309       584  0.184053\n",
              "6   20200310       778  0.245194\n",
              "7   20200311      1053  0.331863\n",
              "8   20200312      1315  0.414434\n",
              "9   20200313      1967  0.619918\n",
              "10  20200314      2450  0.772140\n",
              "11  20200315      3173  1.000000"
            ]
          },
          "metadata": {
            "tags": []
          },
          "execution_count": 15
        }
      ]
    },
    {
      "cell_type": "code",
      "metadata": {
        "id": "2p-0pMF7-cbv",
        "colab_type": "code",
        "outputId": "be0bcee6-d522-43ce-db8c-2b6d0406a441",
        "colab": {
          "base_uri": "https://localhost:8080/",
          "height": 421
        }
      },
      "source": [
        "dfCAPos"
      ],
      "execution_count": 16,
      "outputs": [
        {
          "output_type": "execute_result",
          "data": {
            "text/html": [
              "<div>\n",
              "<style scoped>\n",
              "    .dataframe tbody tr th:only-of-type {\n",
              "        vertical-align: middle;\n",
              "    }\n",
              "\n",
              "    .dataframe tbody tr th {\n",
              "        vertical-align: top;\n",
              "    }\n",
              "\n",
              "    .dataframe thead th {\n",
              "        text-align: right;\n",
              "    }\n",
              "</style>\n",
              "<table border=\"1\" class=\"dataframe\">\n",
              "  <thead>\n",
              "    <tr style=\"text-align: right;\">\n",
              "      <th></th>\n",
              "      <th>date</th>\n",
              "      <th>positive</th>\n",
              "      <th>PCT</th>\n",
              "    </tr>\n",
              "  </thead>\n",
              "  <tbody>\n",
              "    <tr>\n",
              "      <th>0</th>\n",
              "      <td>20200304</td>\n",
              "      <td>53</td>\n",
              "      <td>0.180887</td>\n",
              "    </tr>\n",
              "    <tr>\n",
              "      <th>1</th>\n",
              "      <td>20200305</td>\n",
              "      <td>53</td>\n",
              "      <td>0.180887</td>\n",
              "    </tr>\n",
              "    <tr>\n",
              "      <th>2</th>\n",
              "      <td>20200306</td>\n",
              "      <td>60</td>\n",
              "      <td>0.204778</td>\n",
              "    </tr>\n",
              "    <tr>\n",
              "      <th>3</th>\n",
              "      <td>20200307</td>\n",
              "      <td>69</td>\n",
              "      <td>0.235495</td>\n",
              "    </tr>\n",
              "    <tr>\n",
              "      <th>4</th>\n",
              "      <td>20200308</td>\n",
              "      <td>88</td>\n",
              "      <td>0.300341</td>\n",
              "    </tr>\n",
              "    <tr>\n",
              "      <th>5</th>\n",
              "      <td>20200309</td>\n",
              "      <td>114</td>\n",
              "      <td>0.389078</td>\n",
              "    </tr>\n",
              "    <tr>\n",
              "      <th>6</th>\n",
              "      <td>20200310</td>\n",
              "      <td>133</td>\n",
              "      <td>0.453925</td>\n",
              "    </tr>\n",
              "    <tr>\n",
              "      <th>7</th>\n",
              "      <td>20200311</td>\n",
              "      <td>157</td>\n",
              "      <td>0.535836</td>\n",
              "    </tr>\n",
              "    <tr>\n",
              "      <th>8</th>\n",
              "      <td>20200312</td>\n",
              "      <td>202</td>\n",
              "      <td>0.689420</td>\n",
              "    </tr>\n",
              "    <tr>\n",
              "      <th>9</th>\n",
              "      <td>20200313</td>\n",
              "      <td>247</td>\n",
              "      <td>0.843003</td>\n",
              "    </tr>\n",
              "    <tr>\n",
              "      <th>10</th>\n",
              "      <td>20200314</td>\n",
              "      <td>252</td>\n",
              "      <td>0.860068</td>\n",
              "    </tr>\n",
              "    <tr>\n",
              "      <th>11</th>\n",
              "      <td>20200315</td>\n",
              "      <td>293</td>\n",
              "      <td>1.000000</td>\n",
              "    </tr>\n",
              "  </tbody>\n",
              "</table>\n",
              "</div>"
            ],
            "text/plain": [
              "        date  positive       PCT\n",
              "0   20200304        53  0.180887\n",
              "1   20200305        53  0.180887\n",
              "2   20200306        60  0.204778\n",
              "3   20200307        69  0.235495\n",
              "4   20200308        88  0.300341\n",
              "5   20200309       114  0.389078\n",
              "6   20200310       133  0.453925\n",
              "7   20200311       157  0.535836\n",
              "8   20200312       202  0.689420\n",
              "9   20200313       247  0.843003\n",
              "10  20200314       252  0.860068\n",
              "11  20200315       293  1.000000"
            ]
          },
          "metadata": {
            "tags": []
          },
          "execution_count": 16
        }
      ]
    },
    {
      "cell_type": "code",
      "metadata": {
        "id": "916a0sCVdNRQ",
        "colab_type": "code",
        "outputId": "2095a9ba-ba57-4be2-d2f1-806650b7f75e",
        "colab": {
          "base_uri": "https://localhost:8080/",
          "height": 296
        }
      },
      "source": [
        "dfUSA.sum().loc[:, ['positive', 'negative','death','total']].plot.line()"
      ],
      "execution_count": 17,
      "outputs": [
        {
          "output_type": "execute_result",
          "data": {
            "text/plain": [
              "<matplotlib.axes._subplots.AxesSubplot at 0x7f0eafa12160>"
            ]
          },
          "metadata": {
            "tags": []
          },
          "execution_count": 17
        },
        {
          "output_type": "display_data",
          "data": {
            "image/png": "[encoded data removed]",
            "text/plain": [
              "<Figure size 432x288 with 1 Axes>"
            ]
          },
          "metadata": {
            "tags": []
          }
        }
      ]
    },
    {
      "cell_type": "code",
      "metadata": {
        "id": "yQNRT8yzdcWM",
        "colab_type": "code",
        "outputId": "ff2f6852-d541-4387-f8d9-c2682a0a01c4",
        "colab": {
          "base_uri": "https://localhost:8080/",
          "height": 452
        }
      },
      "source": [
        "dfUSA.sum()"
      ],
      "execution_count": 18,
      "outputs": [
        {
          "output_type": "execute_result",
          "data": {
            "text/html": [
              "<div>\n",
              "<style scoped>\n",
              "    .dataframe tbody tr th:only-of-type {\n",
              "        vertical-align: middle;\n",
              "    }\n",
              "\n",
              "    .dataframe tbody tr th {\n",
              "        vertical-align: top;\n",
              "    }\n",
              "\n",
              "    .dataframe thead th {\n",
              "        text-align: right;\n",
              "    }\n",
              "</style>\n",
              "<table border=\"1\" class=\"dataframe\">\n",
              "  <thead>\n",
              "    <tr style=\"text-align: right;\">\n",
              "      <th></th>\n",
              "      <th>positive</th>\n",
              "      <th>negative</th>\n",
              "      <th>pending</th>\n",
              "      <th>death</th>\n",
              "      <th>total</th>\n",
              "    </tr>\n",
              "    <tr>\n",
              "      <th>date</th>\n",
              "      <th></th>\n",
              "      <th></th>\n",
              "      <th></th>\n",
              "      <th></th>\n",
              "      <th></th>\n",
              "    </tr>\n",
              "  </thead>\n",
              "  <tbody>\n",
              "    <tr>\n",
              "      <th>20200304</th>\n",
              "      <td>118</td>\n",
              "      <td>748</td>\n",
              "      <td>103</td>\n",
              "      <td>0</td>\n",
              "      <td>969</td>\n",
              "    </tr>\n",
              "    <tr>\n",
              "      <th>20200305</th>\n",
              "      <td>176</td>\n",
              "      <td>971</td>\n",
              "      <td>197</td>\n",
              "      <td>0</td>\n",
              "      <td>1344</td>\n",
              "    </tr>\n",
              "    <tr>\n",
              "      <th>20200306</th>\n",
              "      <td>223</td>\n",
              "      <td>1617</td>\n",
              "      <td>458</td>\n",
              "      <td>0</td>\n",
              "      <td>2298</td>\n",
              "    </tr>\n",
              "    <tr>\n",
              "      <th>20200307</th>\n",
              "      <td>341</td>\n",
              "      <td>1863</td>\n",
              "      <td>602</td>\n",
              "      <td>0</td>\n",
              "      <td>2806</td>\n",
              "    </tr>\n",
              "    <tr>\n",
              "      <th>20200308</th>\n",
              "      <td>417</td>\n",
              "      <td>2437</td>\n",
              "      <td>347</td>\n",
              "      <td>0</td>\n",
              "      <td>3201</td>\n",
              "    </tr>\n",
              "    <tr>\n",
              "      <th>20200309</th>\n",
              "      <td>584</td>\n",
              "      <td>3500</td>\n",
              "      <td>313</td>\n",
              "      <td>0</td>\n",
              "      <td>4397</td>\n",
              "    </tr>\n",
              "    <tr>\n",
              "      <th>20200310</th>\n",
              "      <td>778</td>\n",
              "      <td>3807</td>\n",
              "      <td>469</td>\n",
              "      <td>0</td>\n",
              "      <td>4889</td>\n",
              "    </tr>\n",
              "    <tr>\n",
              "      <th>20200311</th>\n",
              "      <td>1053</td>\n",
              "      <td>5978</td>\n",
              "      <td>563</td>\n",
              "      <td>27</td>\n",
              "      <td>7617</td>\n",
              "    </tr>\n",
              "    <tr>\n",
              "      <th>20200312</th>\n",
              "      <td>1315</td>\n",
              "      <td>7913</td>\n",
              "      <td>673</td>\n",
              "      <td>36</td>\n",
              "      <td>9836</td>\n",
              "    </tr>\n",
              "    <tr>\n",
              "      <th>20200313</th>\n",
              "      <td>1967</td>\n",
              "      <td>13513</td>\n",
              "      <td>1130</td>\n",
              "      <td>39</td>\n",
              "      <td>16565</td>\n",
              "    </tr>\n",
              "    <tr>\n",
              "      <th>20200314</th>\n",
              "      <td>2450</td>\n",
              "      <td>17107</td>\n",
              "      <td>1236</td>\n",
              "      <td>49</td>\n",
              "      <td>20795</td>\n",
              "    </tr>\n",
              "    <tr>\n",
              "      <th>20200315</th>\n",
              "      <td>3173</td>\n",
              "      <td>22548</td>\n",
              "      <td>2242</td>\n",
              "      <td>60</td>\n",
              "      <td>27963</td>\n",
              "    </tr>\n",
              "  </tbody>\n",
              "</table>\n",
              "</div>"
            ],
            "text/plain": [
              "          positive  negative  pending  death  total\n",
              "date                                               \n",
              "20200304       118       748      103      0    969\n",
              "20200305       176       971      197      0   1344\n",
              "20200306       223      1617      458      0   2298\n",
              "20200307       341      1863      602      0   2806\n",
              "20200308       417      2437      347      0   3201\n",
              "20200309       584      3500      313      0   4397\n",
              "20200310       778      3807      469      0   4889\n",
              "20200311      1053      5978      563     27   7617\n",
              "20200312      1315      7913      673     36   9836\n",
              "20200313      1967     13513     1130     39  16565\n",
              "20200314      2450     17107     1236     49  20795\n",
              "20200315      3173     22548     2242     60  27963"
            ]
          },
          "metadata": {
            "tags": []
          },
          "execution_count": 18
        }
      ]
    },
    {
      "cell_type": "code",
      "metadata": {
        "id": "eXi8FTvh06kK",
        "colab_type": "code",
        "colab": {}
      },
      "source": [
        "dfResults = dfUSA.sum().join(dfWHO, how='left', rsuffix='_who' )"
      ],
      "execution_count": 0,
      "outputs": []
    },
    {
      "cell_type": "code",
      "metadata": {
        "id": "JXYchluLaUmj",
        "colab_type": "code",
        "colab": {
          "base_uri": "https://localhost:8080/",
          "height": 235
        },
        "outputId": "0c2a4f46-751a-4d6b-b8b2-7886330cf79c"
      },
      "source": [
        "dfResults.tail()"
      ],
      "execution_count": 20,
      "outputs": [
        {
          "output_type": "execute_result",
          "data": {
            "text/html": [
              "<div>\n",
              "<style scoped>\n",
              "    .dataframe tbody tr th:only-of-type {\n",
              "        vertical-align: middle;\n",
              "    }\n",
              "\n",
              "    .dataframe tbody tr th {\n",
              "        vertical-align: top;\n",
              "    }\n",
              "\n",
              "    .dataframe thead th {\n",
              "        text-align: right;\n",
              "    }\n",
              "</style>\n",
              "<table border=\"1\" class=\"dataframe\">\n",
              "  <thead>\n",
              "    <tr style=\"text-align: right;\">\n",
              "      <th></th>\n",
              "      <th>positive</th>\n",
              "      <th>negative</th>\n",
              "      <th>pending</th>\n",
              "      <th>death</th>\n",
              "      <th>total</th>\n",
              "      <th>confirmed</th>\n",
              "      <th>who_deaths</th>\n",
              "    </tr>\n",
              "    <tr>\n",
              "      <th>date</th>\n",
              "      <th></th>\n",
              "      <th></th>\n",
              "      <th></th>\n",
              "      <th></th>\n",
              "      <th></th>\n",
              "      <th></th>\n",
              "      <th></th>\n",
              "    </tr>\n",
              "  </thead>\n",
              "  <tbody>\n",
              "    <tr>\n",
              "      <th>20200311</th>\n",
              "      <td>1053</td>\n",
              "      <td>5978</td>\n",
              "      <td>563</td>\n",
              "      <td>27</td>\n",
              "      <td>7617</td>\n",
              "      <td>696.0</td>\n",
              "      <td>25.0</td>\n",
              "    </tr>\n",
              "    <tr>\n",
              "      <th>20200312</th>\n",
              "      <td>1315</td>\n",
              "      <td>7913</td>\n",
              "      <td>673</td>\n",
              "      <td>36</td>\n",
              "      <td>9836</td>\n",
              "      <td>987.0</td>\n",
              "      <td>29.0</td>\n",
              "    </tr>\n",
              "    <tr>\n",
              "      <th>20200313</th>\n",
              "      <td>1967</td>\n",
              "      <td>13513</td>\n",
              "      <td>1130</td>\n",
              "      <td>39</td>\n",
              "      <td>16565</td>\n",
              "      <td>1264.0</td>\n",
              "      <td>36.0</td>\n",
              "    </tr>\n",
              "    <tr>\n",
              "      <th>20200314</th>\n",
              "      <td>2450</td>\n",
              "      <td>17107</td>\n",
              "      <td>1236</td>\n",
              "      <td>49</td>\n",
              "      <td>20795</td>\n",
              "      <td>1678.0</td>\n",
              "      <td>41.0</td>\n",
              "    </tr>\n",
              "    <tr>\n",
              "      <th>20200315</th>\n",
              "      <td>3173</td>\n",
              "      <td>22548</td>\n",
              "      <td>2242</td>\n",
              "      <td>60</td>\n",
              "      <td>27963</td>\n",
              "      <td>NaN</td>\n",
              "      <td>NaN</td>\n",
              "    </tr>\n",
              "  </tbody>\n",
              "</table>\n",
              "</div>"
            ],
            "text/plain": [
              "          positive  negative  pending  death  total  confirmed  who_deaths\n",
              "date                                                                      \n",
              "20200311      1053      5978      563     27   7617      696.0        25.0\n",
              "20200312      1315      7913      673     36   9836      987.0        29.0\n",
              "20200313      1967     13513     1130     39  16565     1264.0        36.0\n",
              "20200314      2450     17107     1236     49  20795     1678.0        41.0\n",
              "20200315      3173     22548     2242     60  27963        NaN         NaN"
            ]
          },
          "metadata": {
            "tags": []
          },
          "execution_count": 20
        }
      ]
    },
    {
      "cell_type": "code",
      "metadata": {
        "id": "Ftv2uSph2y7_",
        "colab_type": "code",
        "outputId": "f18cb9ac-b37d-4be6-a0d8-ad64852a0488",
        "colab": {
          "base_uri": "https://localhost:8080/",
          "height": 296
        }
      },
      "source": [
        "dfResults.loc[:, ['positive', 'confirmed']].plot.line()"
      ],
      "execution_count": 21,
      "outputs": [
        {
          "output_type": "execute_result",
          "data": {
            "text/plain": [
              "<matplotlib.axes._subplots.AxesSubplot at 0x7f0eae2b54e0>"
            ]
          },
          "metadata": {
            "tags": []
          },
          "execution_count": 21
        },
        {
          "output_type": "display_data",
          "data": {
            "image/png": "[encoded data removed]",
            "text/plain": [
              "<Figure size 432x288 with 1 Axes>"
            ]
          },
          "metadata": {
            "tags": []
          }
        }
      ]
    },
    {
      "cell_type": "code",
      "metadata": {
        "id": "9DnPP6WG3lS2",
        "colab_type": "code",
        "outputId": "5640b1a2-8793-4c74-96cb-f2a7cbf291ae",
        "colab": {
          "base_uri": "https://localhost:8080/",
          "height": 421
        }
      },
      "source": [
        "dfData[dfData.state=='CA'].sort_values(by='date')"
      ],
      "execution_count": 22,
      "outputs": [
        {
          "output_type": "execute_result",
          "data": {
            "text/html": [
              "<div>\n",
              "<style scoped>\n",
              "    .dataframe tbody tr th:only-of-type {\n",
              "        vertical-align: middle;\n",
              "    }\n",
              "\n",
              "    .dataframe tbody tr th {\n",
              "        vertical-align: top;\n",
              "    }\n",
              "\n",
              "    .dataframe thead th {\n",
              "        text-align: right;\n",
              "    }\n",
              "</style>\n",
              "<table border=\"1\" class=\"dataframe\">\n",
              "  <thead>\n",
              "    <tr style=\"text-align: right;\">\n",
              "      <th></th>\n",
              "      <th>date</th>\n",
              "      <th>state</th>\n",
              "      <th>positive</th>\n",
              "      <th>negative</th>\n",
              "      <th>pending</th>\n",
              "      <th>death</th>\n",
              "      <th>total</th>\n",
              "    </tr>\n",
              "  </thead>\n",
              "  <tbody>\n",
              "    <tr>\n",
              "      <th>520</th>\n",
              "      <td>20200304</td>\n",
              "      <td>CA</td>\n",
              "      <td>53</td>\n",
              "      <td>462</td>\n",
              "      <td>0</td>\n",
              "      <td>0</td>\n",
              "      <td>515</td>\n",
              "    </tr>\n",
              "    <tr>\n",
              "      <th>496</th>\n",
              "      <td>20200305</td>\n",
              "      <td>CA</td>\n",
              "      <td>53</td>\n",
              "      <td>462</td>\n",
              "      <td>0</td>\n",
              "      <td>0</td>\n",
              "      <td>515</td>\n",
              "    </tr>\n",
              "    <tr>\n",
              "      <th>460</th>\n",
              "      <td>20200306</td>\n",
              "      <td>CA</td>\n",
              "      <td>60</td>\n",
              "      <td>462</td>\n",
              "      <td>0</td>\n",
              "      <td>0</td>\n",
              "      <td>522</td>\n",
              "    </tr>\n",
              "    <tr>\n",
              "      <th>410</th>\n",
              "      <td>20200307</td>\n",
              "      <td>CA</td>\n",
              "      <td>69</td>\n",
              "      <td>462</td>\n",
              "      <td>0</td>\n",
              "      <td>0</td>\n",
              "      <td>531</td>\n",
              "    </tr>\n",
              "    <tr>\n",
              "      <th>359</th>\n",
              "      <td>20200308</td>\n",
              "      <td>CA</td>\n",
              "      <td>88</td>\n",
              "      <td>462</td>\n",
              "      <td>0</td>\n",
              "      <td>0</td>\n",
              "      <td>550</td>\n",
              "    </tr>\n",
              "    <tr>\n",
              "      <th>310</th>\n",
              "      <td>20200309</td>\n",
              "      <td>CA</td>\n",
              "      <td>114</td>\n",
              "      <td>690</td>\n",
              "      <td>0</td>\n",
              "      <td>0</td>\n",
              "      <td>804</td>\n",
              "    </tr>\n",
              "    <tr>\n",
              "      <th>259</th>\n",
              "      <td>20200310</td>\n",
              "      <td>CA</td>\n",
              "      <td>133</td>\n",
              "      <td>690</td>\n",
              "      <td>0</td>\n",
              "      <td>0</td>\n",
              "      <td>823</td>\n",
              "    </tr>\n",
              "    <tr>\n",
              "      <th>208</th>\n",
              "      <td>20200311</td>\n",
              "      <td>CA</td>\n",
              "      <td>157</td>\n",
              "      <td>916</td>\n",
              "      <td>0</td>\n",
              "      <td>0</td>\n",
              "      <td>1073</td>\n",
              "    </tr>\n",
              "    <tr>\n",
              "      <th>157</th>\n",
              "      <td>20200312</td>\n",
              "      <td>CA</td>\n",
              "      <td>202</td>\n",
              "      <td>916</td>\n",
              "      <td>0</td>\n",
              "      <td>4</td>\n",
              "      <td>1118</td>\n",
              "    </tr>\n",
              "    <tr>\n",
              "      <th>106</th>\n",
              "      <td>20200313</td>\n",
              "      <td>CA</td>\n",
              "      <td>247</td>\n",
              "      <td>916</td>\n",
              "      <td>0</td>\n",
              "      <td>4</td>\n",
              "      <td>1118</td>\n",
              "    </tr>\n",
              "    <tr>\n",
              "      <th>55</th>\n",
              "      <td>20200314</td>\n",
              "      <td>CA</td>\n",
              "      <td>252</td>\n",
              "      <td>916</td>\n",
              "      <td>0</td>\n",
              "      <td>5</td>\n",
              "      <td>1168</td>\n",
              "    </tr>\n",
              "    <tr>\n",
              "      <th>4</th>\n",
              "      <td>20200315</td>\n",
              "      <td>CA</td>\n",
              "      <td>293</td>\n",
              "      <td>916</td>\n",
              "      <td>0</td>\n",
              "      <td>5</td>\n",
              "      <td>1209</td>\n",
              "    </tr>\n",
              "  </tbody>\n",
              "</table>\n",
              "</div>"
            ],
            "text/plain": [
              "         date state  positive  negative  pending  death  total\n",
              "520  20200304    CA        53       462        0      0    515\n",
              "496  20200305    CA        53       462        0      0    515\n",
              "460  20200306    CA        60       462        0      0    522\n",
              "410  20200307    CA        69       462        0      0    531\n",
              "359  20200308    CA        88       462        0      0    550\n",
              "310  20200309    CA       114       690        0      0    804\n",
              "259  20200310    CA       133       690        0      0    823\n",
              "208  20200311    CA       157       916        0      0   1073\n",
              "157  20200312    CA       202       916        0      4   1118\n",
              "106  20200313    CA       247       916        0      4   1118\n",
              "55   20200314    CA       252       916        0      5   1168\n",
              "4    20200315    CA       293       916        0      5   1209"
            ]
          },
          "metadata": {
            "tags": []
          },
          "execution_count": 22
        }
      ]
    },
    {
      "cell_type": "code",
      "metadata": {
        "id": "PKEnoIJjJLhP",
        "colab_type": "code",
        "outputId": "7ee9023f-2bd6-467e-ac66-6137a68a591b",
        "colab": {
          "base_uri": "https://localhost:8080/",
          "height": 452
        }
      },
      "source": [
        "dfResults"
      ],
      "execution_count": 23,
      "outputs": [
        {
          "output_type": "execute_result",
          "data": {
            "text/html": [
              "<div>\n",
              "<style scoped>\n",
              "    .dataframe tbody tr th:only-of-type {\n",
              "        vertical-align: middle;\n",
              "    }\n",
              "\n",
              "    .dataframe tbody tr th {\n",
              "        vertical-align: top;\n",
              "    }\n",
              "\n",
              "    .dataframe thead th {\n",
              "        text-align: right;\n",
              "    }\n",
              "</style>\n",
              "<table border=\"1\" class=\"dataframe\">\n",
              "  <thead>\n",
              "    <tr style=\"text-align: right;\">\n",
              "      <th></th>\n",
              "      <th>positive</th>\n",
              "      <th>negative</th>\n",
              "      <th>pending</th>\n",
              "      <th>death</th>\n",
              "      <th>total</th>\n",
              "      <th>confirmed</th>\n",
              "      <th>who_deaths</th>\n",
              "    </tr>\n",
              "    <tr>\n",
              "      <th>date</th>\n",
              "      <th></th>\n",
              "      <th></th>\n",
              "      <th></th>\n",
              "      <th></th>\n",
              "      <th></th>\n",
              "      <th></th>\n",
              "      <th></th>\n",
              "    </tr>\n",
              "  </thead>\n",
              "  <tbody>\n",
              "    <tr>\n",
              "      <th>20200304</th>\n",
              "      <td>118</td>\n",
              "      <td>748</td>\n",
              "      <td>103</td>\n",
              "      <td>0</td>\n",
              "      <td>969</td>\n",
              "      <td>108.0</td>\n",
              "      <td>6.0</td>\n",
              "    </tr>\n",
              "    <tr>\n",
              "      <th>20200305</th>\n",
              "      <td>176</td>\n",
              "      <td>971</td>\n",
              "      <td>197</td>\n",
              "      <td>0</td>\n",
              "      <td>1344</td>\n",
              "      <td>129.0</td>\n",
              "      <td>9.0</td>\n",
              "    </tr>\n",
              "    <tr>\n",
              "      <th>20200306</th>\n",
              "      <td>223</td>\n",
              "      <td>1617</td>\n",
              "      <td>458</td>\n",
              "      <td>0</td>\n",
              "      <td>2298</td>\n",
              "      <td>148.0</td>\n",
              "      <td>10.0</td>\n",
              "    </tr>\n",
              "    <tr>\n",
              "      <th>20200307</th>\n",
              "      <td>341</td>\n",
              "      <td>1863</td>\n",
              "      <td>602</td>\n",
              "      <td>0</td>\n",
              "      <td>2806</td>\n",
              "      <td>213.0</td>\n",
              "      <td>11.0</td>\n",
              "    </tr>\n",
              "    <tr>\n",
              "      <th>20200308</th>\n",
              "      <td>417</td>\n",
              "      <td>2437</td>\n",
              "      <td>347</td>\n",
              "      <td>0</td>\n",
              "      <td>3201</td>\n",
              "      <td>213.0</td>\n",
              "      <td>11.0</td>\n",
              "    </tr>\n",
              "    <tr>\n",
              "      <th>20200309</th>\n",
              "      <td>584</td>\n",
              "      <td>3500</td>\n",
              "      <td>313</td>\n",
              "      <td>0</td>\n",
              "      <td>4397</td>\n",
              "      <td>213.0</td>\n",
              "      <td>11.0</td>\n",
              "    </tr>\n",
              "    <tr>\n",
              "      <th>20200310</th>\n",
              "      <td>778</td>\n",
              "      <td>3807</td>\n",
              "      <td>469</td>\n",
              "      <td>0</td>\n",
              "      <td>4889</td>\n",
              "      <td>472.0</td>\n",
              "      <td>19.0</td>\n",
              "    </tr>\n",
              "    <tr>\n",
              "      <th>20200311</th>\n",
              "      <td>1053</td>\n",
              "      <td>5978</td>\n",
              "      <td>563</td>\n",
              "      <td>27</td>\n",
              "      <td>7617</td>\n",
              "      <td>696.0</td>\n",
              "      <td>25.0</td>\n",
              "    </tr>\n",
              "    <tr>\n",
              "      <th>20200312</th>\n",
              "      <td>1315</td>\n",
              "      <td>7913</td>\n",
              "      <td>673</td>\n",
              "      <td>36</td>\n",
              "      <td>9836</td>\n",
              "      <td>987.0</td>\n",
              "      <td>29.0</td>\n",
              "    </tr>\n",
              "    <tr>\n",
              "      <th>20200313</th>\n",
              "      <td>1967</td>\n",
              "      <td>13513</td>\n",
              "      <td>1130</td>\n",
              "      <td>39</td>\n",
              "      <td>16565</td>\n",
              "      <td>1264.0</td>\n",
              "      <td>36.0</td>\n",
              "    </tr>\n",
              "    <tr>\n",
              "      <th>20200314</th>\n",
              "      <td>2450</td>\n",
              "      <td>17107</td>\n",
              "      <td>1236</td>\n",
              "      <td>49</td>\n",
              "      <td>20795</td>\n",
              "      <td>1678.0</td>\n",
              "      <td>41.0</td>\n",
              "    </tr>\n",
              "    <tr>\n",
              "      <th>20200315</th>\n",
              "      <td>3173</td>\n",
              "      <td>22548</td>\n",
              "      <td>2242</td>\n",
              "      <td>60</td>\n",
              "      <td>27963</td>\n",
              "      <td>NaN</td>\n",
              "      <td>NaN</td>\n",
              "    </tr>\n",
              "  </tbody>\n",
              "</table>\n",
              "</div>"
            ],
            "text/plain": [
              "          positive  negative  pending  death  total  confirmed  who_deaths\n",
              "date                                                                      \n",
              "20200304       118       748      103      0    969      108.0         6.0\n",
              "20200305       176       971      197      0   1344      129.0         9.0\n",
              "20200306       223      1617      458      0   2298      148.0        10.0\n",
              "20200307       341      1863      602      0   2806      213.0        11.0\n",
              "20200308       417      2437      347      0   3201      213.0        11.0\n",
              "20200309       584      3500      313      0   4397      213.0        11.0\n",
              "20200310       778      3807      469      0   4889      472.0        19.0\n",
              "20200311      1053      5978      563     27   7617      696.0        25.0\n",
              "20200312      1315      7913      673     36   9836      987.0        29.0\n",
              "20200313      1967     13513     1130     39  16565     1264.0        36.0\n",
              "20200314      2450     17107     1236     49  20795     1678.0        41.0\n",
              "20200315      3173     22548     2242     60  27963        NaN         NaN"
            ]
          },
          "metadata": {
            "tags": []
          },
          "execution_count": 23
        }
      ]
    },
    {
      "cell_type": "code",
      "metadata": {
        "id": "IHNp61EvdwQG",
        "colab_type": "code",
        "colab": {}
      },
      "source": [
        "jhurl = \"https://raw.githubusercontent.com/CSSEGISandData/COVID-19/master/csse_covid_19_data/csse_covid_19_daily_reports/03-14-2020.csv\"\n",
        "dfJHUData = pd.read_csv(jhurl, header=0,\n",
        "                        names=['state', 'country', 'last_update',\n",
        "                               'confirmed', 'dead', 'recovered', 'lat','lon'])"
      ],
      "execution_count": 0,
      "outputs": []
    },
    {
      "cell_type": "code",
      "metadata": {
        "id": "3WBkdfv2eLEc",
        "colab_type": "code",
        "outputId": "ab366706-1919-41c3-9dc1-7e417f52a0f9",
        "colab": {
          "base_uri": "https://localhost:8080/",
          "height": 68
        }
      },
      "source": [
        "dfJHUData[dfJHUData.country=='US'][['confirmed', 'dead']].sum()"
      ],
      "execution_count": 25,
      "outputs": [
        {
          "output_type": "execute_result",
          "data": {
            "text/plain": [
              "confirmed    2726\n",
              "dead           54\n",
              "dtype: int64"
            ]
          },
          "metadata": {
            "tags": []
          },
          "execution_count": 25
        }
      ]
    },
    {
      "cell_type": "code",
      "metadata": {
        "id": "NUQ35Inse05H",
        "colab_type": "code",
        "outputId": "f9a755ec-f44b-40a3-9652-9e5076164409",
        "colab": {
          "base_uri": "https://localhost:8080/",
          "height": 68
        }
      },
      "source": [
        "dfJHUData[(dfJHUData.country=='US')&(dfJHUData.state=='California')][['confirmed', 'dead']].sum()"
      ],
      "execution_count": 26,
      "outputs": [
        {
          "output_type": "execute_result",
          "data": {
            "text/plain": [
              "confirmed    340\n",
              "dead           5\n",
              "dtype: int64"
            ]
          },
          "metadata": {
            "tags": []
          },
          "execution_count": 26
        }
      ]
    },
    {
      "cell_type": "code",
      "metadata": {
        "id": "H0JVVTFGfMOW",
        "colab_type": "code",
        "colab": {}
      },
      "source": [
        ""
      ],
      "execution_count": 0,
      "outputs": []
    }
  ]
}