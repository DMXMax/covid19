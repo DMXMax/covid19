{
  "nbformat": 4,
  "nbformat_minor": 0,
  "metadata": {
    "colab": {
      "name": "coviddata",
      "provenance": [],
      "toc_visible": true,
      "authorship_tag": "ABX9TyPvZgVlOXGNCO0iU5+hWbzu",
      "include_colab_link": true
    },
    "kernelspec": {
      "name": "python3",
      "display_name": "Python 3"
    }
  },
  "cells": [
    {
      "cell_type": "markdown",
      "metadata": {
        "id": "view-in-github",
        "colab_type": "text"
      },
      "source": [
        "<a href=\"https://colab.research.google.com/github/DMXMax/covid19/blob/master/coviddata.ipynb\" target=\"_parent\"><img src=\"https://colab.research.google.com/assets/colab-badge.svg\" alt=\"Open In Colab\"/></a>"
      ]
    },
    {
      "cell_type": "code",
      "metadata": {
        "id": "jCzokJEPxFhv",
        "colab_type": "code",
        "colab": {}
      },
      "source": [
        "import numpy as np\n",
        "import pandas as pd\n",
        "import io\n"
      ],
      "execution_count": 0,
      "outputs": []
    },
    {
      "cell_type": "code",
      "metadata": {
        "id": "s_-HikSXxwwG",
        "colab_type": "code",
        "colab": {}
      },
      "source": [
        "dfData = pd.read_csv(\"/content/Coronavirus numbers by state 20200308.csv\")"
      ],
      "execution_count": 0,
      "outputs": []
    },
    {
      "cell_type": "code",
      "metadata": {
        "id": "HWHSGPq_yF50",
        "colab_type": "code",
        "colab": {
          "base_uri": "https://localhost:8080/",
          "height": 198
        },
        "outputId": "44426708-3386-4e3b-a533-5fec5663d9df"
      },
      "source": [
        "dfData.head()"
      ],
      "execution_count": 30,
      "outputs": [
        {
          "output_type": "execute_result",
          "data": {
            "text/html": [
              "<div>\n",
              "<style scoped>\n",
              "    .dataframe tbody tr th:only-of-type {\n",
              "        vertical-align: middle;\n",
              "    }\n",
              "\n",
              "    .dataframe tbody tr th {\n",
              "        vertical-align: top;\n",
              "    }\n",
              "\n",
              "    .dataframe thead th {\n",
              "        text-align: right;\n",
              "    }\n",
              "</style>\n",
              "<table border=\"1\" class=\"dataframe\">\n",
              "  <thead>\n",
              "    <tr style=\"text-align: right;\">\n",
              "      <th></th>\n",
              "      <th>Date</th>\n",
              "      <th>State</th>\n",
              "      <th>Positive</th>\n",
              "      <th>Negative</th>\n",
              "      <th>Pending</th>\n",
              "      <th>Total</th>\n",
              "      <th>Notes</th>\n",
              "    </tr>\n",
              "  </thead>\n",
              "  <tbody>\n",
              "    <tr>\n",
              "      <th>0</th>\n",
              "      <td>20200304</td>\n",
              "      <td>AZ</td>\n",
              "      <td>2.0</td>\n",
              "      <td>27</td>\n",
              "      <td>5.0</td>\n",
              "      <td>34</td>\n",
              "      <td>NaN</td>\n",
              "    </tr>\n",
              "    <tr>\n",
              "      <th>1</th>\n",
              "      <td>20200304</td>\n",
              "      <td>CA</td>\n",
              "      <td>53.0</td>\n",
              "      <td>462</td>\n",
              "      <td>NaN</td>\n",
              "      <td>515</td>\n",
              "      <td>NaN</td>\n",
              "    </tr>\n",
              "    <tr>\n",
              "      <th>2</th>\n",
              "      <td>20200304</td>\n",
              "      <td>FL</td>\n",
              "      <td>2.0</td>\n",
              "      <td>24</td>\n",
              "      <td>16.0</td>\n",
              "      <td>42</td>\n",
              "      <td>NaN</td>\n",
              "    </tr>\n",
              "    <tr>\n",
              "      <th>3</th>\n",
              "      <td>20200304</td>\n",
              "      <td>GA</td>\n",
              "      <td>2.0</td>\n",
              "      <td>NaN</td>\n",
              "      <td>NaN</td>\n",
              "      <td>2</td>\n",
              "      <td>NaN</td>\n",
              "    </tr>\n",
              "    <tr>\n",
              "      <th>4</th>\n",
              "      <td>20200304</td>\n",
              "      <td>IL</td>\n",
              "      <td>4.0</td>\n",
              "      <td>124</td>\n",
              "      <td>27.0</td>\n",
              "      <td>155</td>\n",
              "      <td>NaN</td>\n",
              "    </tr>\n",
              "  </tbody>\n",
              "</table>\n",
              "</div>"
            ],
            "text/plain": [
              "       Date State  Positive Negative  Pending  Total Notes\n",
              "0  20200304    AZ       2.0       27      5.0     34   NaN\n",
              "1  20200304    CA      53.0      462      NaN    515   NaN\n",
              "2  20200304    FL       2.0       24     16.0     42   NaN\n",
              "3  20200304    GA       2.0      NaN      NaN      2   NaN\n",
              "4  20200304    IL       4.0      124     27.0    155   NaN"
            ]
          },
          "metadata": {
            "tags": []
          },
          "execution_count": 30
        }
      ]
    },
    {
      "cell_type": "code",
      "metadata": {
        "id": "PpfNh95wyHbA",
        "colab_type": "code",
        "colab": {
          "base_uri": "https://localhost:8080/",
          "height": 35
        },
        "outputId": "e4717fb6-66d6-4b26-9b49-ea8fab2d8fc4"
      },
      "source": [
        "dfData.columns"
      ],
      "execution_count": 31,
      "outputs": [
        {
          "output_type": "execute_result",
          "data": {
            "text/plain": [
              "Index(['Date', 'State', 'Positive', 'Negative', 'Pending', 'Total', 'Notes'], dtype='object')"
            ]
          },
          "metadata": {
            "tags": []
          },
          "execution_count": 31
        }
      ]
    },
    {
      "cell_type": "code",
      "metadata": {
        "id": "rHUijmSGyMJl",
        "colab_type": "code",
        "colab": {
          "base_uri": "https://localhost:8080/",
          "height": 963
        },
        "outputId": "1ae35124-6022-4d11-b042-19d6505bed59"
      },
      "source": [
        "dfData.State.value_counts()"
      ],
      "execution_count": 32,
      "outputs": [
        {
          "output_type": "execute_result",
          "data": {
            "text/plain": [
              "NH    6\n",
              "TX    6\n",
              "FL    6\n",
              "WA    6\n",
              "AZ    6\n",
              "CA    6\n",
              "OR    6\n",
              "MA    6\n",
              "NY    6\n",
              "NC    6\n",
              "WI    6\n",
              "GA    6\n",
              "SC    6\n",
              "IL    6\n",
              "VA    5\n",
              "CO    5\n",
              "TN    5\n",
              "NJ    5\n",
              "NE    5\n",
              "MD    5\n",
              "NV    5\n",
              "DC    5\n",
              "OH    5\n",
              "MI    5\n",
              "AR    4\n",
              "IN    4\n",
              "NM    4\n",
              "DE    4\n",
              "WV    4\n",
              "IA    4\n",
              "PA    4\n",
              "MN    4\n",
              "KS    4\n",
              "VT    4\n",
              "AK    4\n",
              "KY    4\n",
              "UT    3\n",
              "ME    3\n",
              "AL    3\n",
              "SD    3\n",
              "MT    3\n",
              "ND    3\n",
              "HI    3\n",
              "OK    3\n",
              "WY    3\n",
              "CT    3\n",
              "RI    3\n",
              "MO    3\n",
              "MS    3\n",
              "ID    3\n",
              "LA    3\n",
              "Name: State, dtype: int64"
            ]
          },
          "metadata": {
            "tags": []
          },
          "execution_count": 32
        }
      ]
    },
    {
      "cell_type": "code",
      "metadata": {
        "id": "ZjAHlG81yVr4",
        "colab_type": "code",
        "colab": {
          "base_uri": "https://localhost:8080/",
          "height": 163
        },
        "outputId": "1aa717eb-af15-4c6e-ab14-96b58741adcb"
      },
      "source": [
        "dfData.dtypes\n",
        "\n"
      ],
      "execution_count": 33,
      "outputs": [
        {
          "output_type": "execute_result",
          "data": {
            "text/plain": [
              "Date          int64\n",
              "State        object\n",
              "Positive    float64\n",
              "Negative     object\n",
              "Pending     float64\n",
              "Total         int64\n",
              "Notes        object\n",
              "dtype: object"
            ]
          },
          "metadata": {
            "tags": []
          },
          "execution_count": 33
        }
      ]
    },
    {
      "cell_type": "code",
      "metadata": {
        "id": "t8r-oAVtynmg",
        "colab_type": "code",
        "colab": {
          "base_uri": "https://localhost:8080/",
          "height": 35
        },
        "outputId": "c567aca0-2b3b-4885-907a-93f30fab4efe"
      },
      "source": [
        "dfData.index"
      ],
      "execution_count": 34,
      "outputs": [
        {
          "output_type": "execute_result",
          "data": {
            "text/plain": [
              "RangeIndex(start=0, stop=227, step=1)"
            ]
          },
          "metadata": {
            "tags": []
          },
          "execution_count": 34
        }
      ]
    },
    {
      "cell_type": "code",
      "metadata": {
        "id": "k8C8GxaBzhkZ",
        "colab_type": "code",
        "colab": {
          "base_uri": "https://localhost:8080/",
          "height": 288
        },
        "outputId": "75c6a3d8-f30d-4eb9-d310-633cda603392"
      },
      "source": [
        "dfData.describe()"
      ],
      "execution_count": 35,
      "outputs": [
        {
          "output_type": "execute_result",
          "data": {
            "text/html": [
              "<div>\n",
              "<style scoped>\n",
              "    .dataframe tbody tr th:only-of-type {\n",
              "        vertical-align: middle;\n",
              "    }\n",
              "\n",
              "    .dataframe tbody tr th {\n",
              "        vertical-align: top;\n",
              "    }\n",
              "\n",
              "    .dataframe thead th {\n",
              "        text-align: right;\n",
              "    }\n",
              "</style>\n",
              "<table border=\"1\" class=\"dataframe\">\n",
              "  <thead>\n",
              "    <tr style=\"text-align: right;\">\n",
              "      <th></th>\n",
              "      <th>Date</th>\n",
              "      <th>Positive</th>\n",
              "      <th>Pending</th>\n",
              "      <th>Total</th>\n",
              "    </tr>\n",
              "  </thead>\n",
              "  <tbody>\n",
              "    <tr>\n",
              "      <th>count</th>\n",
              "      <td>2.270000e+02</td>\n",
              "      <td>225.000000</td>\n",
              "      <td>116.000000</td>\n",
              "      <td>227.000000</td>\n",
              "    </tr>\n",
              "    <tr>\n",
              "      <th>mean</th>\n",
              "      <td>2.020031e+07</td>\n",
              "      <td>7.924444</td>\n",
              "      <td>17.965517</td>\n",
              "      <td>65.140969</td>\n",
              "    </tr>\n",
              "    <tr>\n",
              "      <th>std</th>\n",
              "      <td>1.501899e+00</td>\n",
              "      <td>21.741759</td>\n",
              "      <td>36.641609</td>\n",
              "      <td>151.501738</td>\n",
              "    </tr>\n",
              "    <tr>\n",
              "      <th>min</th>\n",
              "      <td>2.020030e+07</td>\n",
              "      <td>0.000000</td>\n",
              "      <td>0.000000</td>\n",
              "      <td>0.000000</td>\n",
              "    </tr>\n",
              "    <tr>\n",
              "      <th>25%</th>\n",
              "      <td>2.020031e+07</td>\n",
              "      <td>0.000000</td>\n",
              "      <td>1.750000</td>\n",
              "      <td>5.000000</td>\n",
              "    </tr>\n",
              "    <tr>\n",
              "      <th>50%</th>\n",
              "      <td>2.020031e+07</td>\n",
              "      <td>1.000000</td>\n",
              "      <td>5.000000</td>\n",
              "      <td>14.000000</td>\n",
              "    </tr>\n",
              "    <tr>\n",
              "      <th>75%</th>\n",
              "      <td>2.020031e+07</td>\n",
              "      <td>4.000000</td>\n",
              "      <td>14.250000</td>\n",
              "      <td>45.000000</td>\n",
              "    </tr>\n",
              "    <tr>\n",
              "      <th>max</th>\n",
              "      <td>2.020031e+07</td>\n",
              "      <td>136.000000</td>\n",
              "      <td>236.000000</td>\n",
              "      <td>1326.000000</td>\n",
              "    </tr>\n",
              "  </tbody>\n",
              "</table>\n",
              "</div>"
            ],
            "text/plain": [
              "               Date    Positive     Pending        Total\n",
              "count  2.270000e+02  225.000000  116.000000   227.000000\n",
              "mean   2.020031e+07    7.924444   17.965517    65.140969\n",
              "std    1.501899e+00   21.741759   36.641609   151.501738\n",
              "min    2.020030e+07    0.000000    0.000000     0.000000\n",
              "25%    2.020031e+07    0.000000    1.750000     5.000000\n",
              "50%    2.020031e+07    1.000000    5.000000    14.000000\n",
              "75%    2.020031e+07    4.000000   14.250000    45.000000\n",
              "max    2.020031e+07  136.000000  236.000000  1326.000000"
            ]
          },
          "metadata": {
            "tags": []
          },
          "execution_count": 35
        }
      ]
    },
    {
      "cell_type": "code",
      "metadata": {
        "id": "jr8Nxdpa100d",
        "colab_type": "code",
        "colab": {
          "base_uri": "https://localhost:8080/",
          "height": 407
        },
        "outputId": "56b4f3ec-b566-4669-f60f-4c62ba14a9a6"
      },
      "source": [
        "dfData.loc[:, ['State', 'Positive']].sort_values(by='Positive')"
      ],
      "execution_count": 36,
      "outputs": [
        {
          "output_type": "execute_result",
          "data": {
            "text/html": [
              "<div>\n",
              "<style scoped>\n",
              "    .dataframe tbody tr th:only-of-type {\n",
              "        vertical-align: middle;\n",
              "    }\n",
              "\n",
              "    .dataframe tbody tr th {\n",
              "        vertical-align: top;\n",
              "    }\n",
              "\n",
              "    .dataframe thead th {\n",
              "        text-align: right;\n",
              "    }\n",
              "</style>\n",
              "<table border=\"1\" class=\"dataframe\">\n",
              "  <thead>\n",
              "    <tr style=\"text-align: right;\">\n",
              "      <th></th>\n",
              "      <th>State</th>\n",
              "      <th>Positive</th>\n",
              "    </tr>\n",
              "  </thead>\n",
              "  <tbody>\n",
              "    <tr>\n",
              "      <th>112</th>\n",
              "      <td>DE</td>\n",
              "      <td>0.0</td>\n",
              "    </tr>\n",
              "    <tr>\n",
              "      <th>121</th>\n",
              "      <td>ND</td>\n",
              "      <td>0.0</td>\n",
              "    </tr>\n",
              "    <tr>\n",
              "      <th>120</th>\n",
              "      <td>MS</td>\n",
              "      <td>0.0</td>\n",
              "    </tr>\n",
              "    <tr>\n",
              "      <th>119</th>\n",
              "      <td>MO</td>\n",
              "      <td>0.0</td>\n",
              "    </tr>\n",
              "    <tr>\n",
              "      <th>118</th>\n",
              "      <td>LA</td>\n",
              "      <td>0.0</td>\n",
              "    </tr>\n",
              "    <tr>\n",
              "      <th>...</th>\n",
              "      <td>...</td>\n",
              "      <td>...</td>\n",
              "    </tr>\n",
              "    <tr>\n",
              "      <th>125</th>\n",
              "      <td>NY</td>\n",
              "      <td>105.0</td>\n",
              "    </tr>\n",
              "    <tr>\n",
              "      <th>180</th>\n",
              "      <td>CA</td>\n",
              "      <td>114.0</td>\n",
              "    </tr>\n",
              "    <tr>\n",
              "      <th>223</th>\n",
              "      <td>WA</td>\n",
              "      <td>136.0</td>\n",
              "    </tr>\n",
              "    <tr>\n",
              "      <th>123</th>\n",
              "      <td>AL</td>\n",
              "      <td>NaN</td>\n",
              "    </tr>\n",
              "    <tr>\n",
              "      <th>124</th>\n",
              "      <td>CT</td>\n",
              "      <td>NaN</td>\n",
              "    </tr>\n",
              "  </tbody>\n",
              "</table>\n",
              "<p>227 rows × 2 columns</p>\n",
              "</div>"
            ],
            "text/plain": [
              "    State  Positive\n",
              "112    DE       0.0\n",
              "121    ND       0.0\n",
              "120    MS       0.0\n",
              "119    MO       0.0\n",
              "118    LA       0.0\n",
              "..    ...       ...\n",
              "125    NY     105.0\n",
              "180    CA     114.0\n",
              "223    WA     136.0\n",
              "123    AL       NaN\n",
              "124    CT       NaN\n",
              "\n",
              "[227 rows x 2 columns]"
            ]
          },
          "metadata": {
            "tags": []
          },
          "execution_count": 36
        }
      ]
    },
    {
      "cell_type": "code",
      "metadata": {
        "id": "4KRiknP72VCm",
        "colab_type": "code",
        "colab": {
          "base_uri": "https://localhost:8080/",
          "height": 35
        },
        "outputId": "c696e60e-6ca7-4d65-9bbd-83839bd77aee"
      },
      "source": [
        "dfData[(dfData.Positive >0) & (dfData.Date==20200309)].sort_values(by='Positive').Date.count()"
      ],
      "execution_count": 42,
      "outputs": [
        {
          "output_type": "execute_result",
          "data": {
            "text/plain": [
              "35"
            ]
          },
          "metadata": {
            "tags": []
          },
          "execution_count": 42
        }
      ]
    },
    {
      "cell_type": "code",
      "metadata": {
        "id": "bTjSuRjO3GWK",
        "colab_type": "code",
        "colab": {}
      },
      "source": [
        "dfPositive= dfData[dfData.Positive>0]"
      ],
      "execution_count": 0,
      "outputs": []
    },
    {
      "cell_type": "code",
      "metadata": {
        "id": "aDnXxFW47TDX",
        "colab_type": "code",
        "colab": {
          "base_uri": "https://localhost:8080/",
          "height": 228
        },
        "outputId": "50e3aee2-6800-4e48-fabb-b881a6c638ef"
      },
      "source": [
        "dfPositive[dfPositive.State=='CA']"
      ],
      "execution_count": 39,
      "outputs": [
        {
          "output_type": "execute_result",
          "data": {
            "text/html": [
              "<div>\n",
              "<style scoped>\n",
              "    .dataframe tbody tr th:only-of-type {\n",
              "        vertical-align: middle;\n",
              "    }\n",
              "\n",
              "    .dataframe tbody tr th {\n",
              "        vertical-align: top;\n",
              "    }\n",
              "\n",
              "    .dataframe thead th {\n",
              "        text-align: right;\n",
              "    }\n",
              "</style>\n",
              "<table border=\"1\" class=\"dataframe\">\n",
              "  <thead>\n",
              "    <tr style=\"text-align: right;\">\n",
              "      <th></th>\n",
              "      <th>Date</th>\n",
              "      <th>State</th>\n",
              "      <th>Positive</th>\n",
              "      <th>Negative</th>\n",
              "      <th>Pending</th>\n",
              "      <th>Total</th>\n",
              "      <th>Notes</th>\n",
              "    </tr>\n",
              "  </thead>\n",
              "  <tbody>\n",
              "    <tr>\n",
              "      <th>1</th>\n",
              "      <td>20200304</td>\n",
              "      <td>CA</td>\n",
              "      <td>53.0</td>\n",
              "      <td>462</td>\n",
              "      <td>NaN</td>\n",
              "      <td>515</td>\n",
              "      <td>NaN</td>\n",
              "    </tr>\n",
              "    <tr>\n",
              "      <th>15</th>\n",
              "      <td>20200305</td>\n",
              "      <td>CA</td>\n",
              "      <td>53.0</td>\n",
              "      <td>462</td>\n",
              "      <td>NaN</td>\n",
              "      <td>515</td>\n",
              "      <td>NaN</td>\n",
              "    </tr>\n",
              "    <tr>\n",
              "      <th>39</th>\n",
              "      <td>20200306</td>\n",
              "      <td>CA</td>\n",
              "      <td>60.0</td>\n",
              "      <td>462</td>\n",
              "      <td>NaN</td>\n",
              "      <td>522</td>\n",
              "      <td>NaN</td>\n",
              "    </tr>\n",
              "    <tr>\n",
              "      <th>76</th>\n",
              "      <td>20200307</td>\n",
              "      <td>CA</td>\n",
              "      <td>69.0</td>\n",
              "      <td>462</td>\n",
              "      <td>NaN</td>\n",
              "      <td>531</td>\n",
              "      <td>NaN</td>\n",
              "    </tr>\n",
              "    <tr>\n",
              "      <th>127</th>\n",
              "      <td>20200308</td>\n",
              "      <td>CA</td>\n",
              "      <td>88.0</td>\n",
              "      <td>462</td>\n",
              "      <td>NaN</td>\n",
              "      <td>550</td>\n",
              "      <td>NaN</td>\n",
              "    </tr>\n",
              "    <tr>\n",
              "      <th>180</th>\n",
              "      <td>20200309</td>\n",
              "      <td>CA</td>\n",
              "      <td>114.0</td>\n",
              "      <td>690</td>\n",
              "      <td>NaN</td>\n",
              "      <td>804</td>\n",
              "      <td>Negative from CDPH report of 778 tests on 3/7</td>\n",
              "    </tr>\n",
              "  </tbody>\n",
              "</table>\n",
              "</div>"
            ],
            "text/plain": [
              "         Date State  ...  Total                                           Notes\n",
              "1    20200304    CA  ...    515                                             NaN\n",
              "15   20200305    CA  ...    515                                             NaN\n",
              "39   20200306    CA  ...    522                                             NaN\n",
              "76   20200307    CA  ...    531                                             NaN\n",
              "127  20200308    CA  ...    550                                             NaN\n",
              "180  20200309    CA  ...    804  Negative from CDPH report of 778 tests on 3/7 \n",
              "\n",
              "[6 rows x 7 columns]"
            ]
          },
          "metadata": {
            "tags": []
          },
          "execution_count": 39
        }
      ]
    },
    {
      "cell_type": "code",
      "metadata": {
        "id": "kOYyGLhF7Ytv",
        "colab_type": "code",
        "colab": {}
      },
      "source": [
        ""
      ],
      "execution_count": 0,
      "outputs": []
    },
    {
      "cell_type": "code",
      "metadata": {
        "id": "q5E7n3Uxm5N1",
        "colab_type": "code",
        "colab": {}
      },
      "source": [
        "df2 = dfPositive.State.unique()"
      ],
      "execution_count": 0,
      "outputs": []
    },
    {
      "cell_type": "code",
      "metadata": {
        "id": "86LPq_anqi3x",
        "colab_type": "code",
        "colab": {
          "base_uri": "https://localhost:8080/",
          "height": 90
        },
        "outputId": "72913457-61a8-4afa-83c3-4fc77ad5d6b8"
      },
      "source": [
        "df2"
      ],
      "execution_count": 44,
      "outputs": [
        {
          "output_type": "execute_result",
          "data": {
            "text/plain": [
              "array(['AZ', 'CA', 'FL', 'GA', 'IL', 'MA', 'NC', 'NH', 'NY', 'OR', 'TX',\n",
              "       'WA', 'WI', 'NJ', 'NV', 'TN', 'MD', 'CO', 'PA', 'IN', 'SC', 'RI',\n",
              "       'MN', 'NE', 'KY', 'HI', 'OK', 'UT', 'VA', 'CT', 'VT', 'KS', 'DC',\n",
              "       'MO', 'IA'], dtype=object)"
            ]
          },
          "metadata": {
            "tags": []
          },
          "execution_count": 44
        }
      ]
    },
    {
      "cell_type": "code",
      "metadata": {
        "id": "EQH99n5Gqjib",
        "colab_type": "code",
        "colab": {}
      },
      "source": [
        "df1 = dfPositive[dfPositive.Date == 20200308].State\n",
        "df2 = dfPositive[dfPositive.Date == 20200309].State"
      ],
      "execution_count": 0,
      "outputs": []
    },
    {
      "cell_type": "code",
      "metadata": {
        "id": "seR49VdlqsnK",
        "colab_type": "code",
        "colab": {
          "base_uri": "https://localhost:8080/",
          "height": 54
        },
        "outputId": "3bc988c0-77b1-4bfd-8bd9-d5b88bd7a9d2"
      },
      "source": [
        "print(df1.count())\n",
        "print(df2.count())"
      ],
      "execution_count": 63,
      "outputs": [
        {
          "output_type": "stream",
          "text": [
            "34\n",
            "35\n"
          ],
          "name": "stdout"
        }
      ]
    },
    {
      "cell_type": "code",
      "metadata": {
        "id": "yLtydXEjqvV2",
        "colab_type": "code",
        "colab": {
          "base_uri": "https://localhost:8080/",
          "height": 228
        },
        "outputId": "1ac0bae9-de63-4ed8-8472-c2033f043d45"
      },
      "source": [
        "dfData.loc[  dfData.State=='CA',['Date', 'Positive', 'Negative', 'Pending', 'Total'] ]\n"
      ],
      "execution_count": 79,
      "outputs": [
        {
          "output_type": "execute_result",
          "data": {
            "text/html": [
              "<div>\n",
              "<style scoped>\n",
              "    .dataframe tbody tr th:only-of-type {\n",
              "        vertical-align: middle;\n",
              "    }\n",
              "\n",
              "    .dataframe tbody tr th {\n",
              "        vertical-align: top;\n",
              "    }\n",
              "\n",
              "    .dataframe thead th {\n",
              "        text-align: right;\n",
              "    }\n",
              "</style>\n",
              "<table border=\"1\" class=\"dataframe\">\n",
              "  <thead>\n",
              "    <tr style=\"text-align: right;\">\n",
              "      <th></th>\n",
              "      <th>Date</th>\n",
              "      <th>Positive</th>\n",
              "      <th>Negative</th>\n",
              "      <th>Pending</th>\n",
              "      <th>Total</th>\n",
              "    </tr>\n",
              "  </thead>\n",
              "  <tbody>\n",
              "    <tr>\n",
              "      <th>1</th>\n",
              "      <td>20200304</td>\n",
              "      <td>53.0</td>\n",
              "      <td>462</td>\n",
              "      <td>NaN</td>\n",
              "      <td>515</td>\n",
              "    </tr>\n",
              "    <tr>\n",
              "      <th>15</th>\n",
              "      <td>20200305</td>\n",
              "      <td>53.0</td>\n",
              "      <td>462</td>\n",
              "      <td>NaN</td>\n",
              "      <td>515</td>\n",
              "    </tr>\n",
              "    <tr>\n",
              "      <th>39</th>\n",
              "      <td>20200306</td>\n",
              "      <td>60.0</td>\n",
              "      <td>462</td>\n",
              "      <td>NaN</td>\n",
              "      <td>522</td>\n",
              "    </tr>\n",
              "    <tr>\n",
              "      <th>76</th>\n",
              "      <td>20200307</td>\n",
              "      <td>69.0</td>\n",
              "      <td>462</td>\n",
              "      <td>NaN</td>\n",
              "      <td>531</td>\n",
              "    </tr>\n",
              "    <tr>\n",
              "      <th>127</th>\n",
              "      <td>20200308</td>\n",
              "      <td>88.0</td>\n",
              "      <td>462</td>\n",
              "      <td>NaN</td>\n",
              "      <td>550</td>\n",
              "    </tr>\n",
              "    <tr>\n",
              "      <th>180</th>\n",
              "      <td>20200309</td>\n",
              "      <td>114.0</td>\n",
              "      <td>690</td>\n",
              "      <td>NaN</td>\n",
              "      <td>804</td>\n",
              "    </tr>\n",
              "  </tbody>\n",
              "</table>\n",
              "</div>"
            ],
            "text/plain": [
              "         Date  Positive Negative  Pending  Total\n",
              "1    20200304      53.0      462      NaN    515\n",
              "15   20200305      53.0      462      NaN    515\n",
              "39   20200306      60.0      462      NaN    522\n",
              "76   20200307      69.0      462      NaN    531\n",
              "127  20200308      88.0      462      NaN    550\n",
              "180  20200309     114.0      690      NaN    804"
            ]
          },
          "metadata": {
            "tags": []
          },
          "execution_count": 79
        }
      ]
    },
    {
      "cell_type": "code",
      "metadata": {
        "id": "BS9p5kDstFX7",
        "colab_type": "code",
        "colab": {
          "base_uri": "https://localhost:8080/",
          "height": 35
        },
        "outputId": "129d6a32-7143-48ea-dee7-ccff3b97bb3b"
      },
      "source": [
        "690-462"
      ],
      "execution_count": 80,
      "outputs": [
        {
          "output_type": "execute_result",
          "data": {
            "text/plain": [
              "228"
            ]
          },
          "metadata": {
            "tags": []
          },
          "execution_count": 80
        }
      ]
    },
    {
      "cell_type": "code",
      "metadata": {
        "id": "H2h7sELsvooL",
        "colab_type": "code",
        "colab": {
          "base_uri": "https://localhost:8080/",
          "height": 35
        },
        "outputId": "6c2200f0-156d-412d-9ae6-a7f2e6fde3d6"
      },
      "source": [
        "550-804"
      ],
      "execution_count": 81,
      "outputs": [
        {
          "output_type": "execute_result",
          "data": {
            "text/plain": [
              "-254"
            ]
          },
          "metadata": {
            "tags": []
          },
          "execution_count": 81
        }
      ]
    },
    {
      "cell_type": "code",
      "metadata": {
        "id": "5y0PA8z7vzEp",
        "colab_type": "code",
        "colab": {
          "base_uri": "https://localhost:8080/",
          "height": 163
        },
        "outputId": "1ab64379-b16a-4a69-f291-3f92a48e9194"
      },
      "source": [
        "dfData.iloc[127]"
      ],
      "execution_count": 82,
      "outputs": [
        {
          "output_type": "execute_result",
          "data": {
            "text/plain": [
              "Date        20200308\n",
              "State             CA\n",
              "Positive          88\n",
              "Negative         462\n",
              "Pending          NaN\n",
              "Total            550\n",
              "Notes            NaN\n",
              "Name: 127, dtype: object"
            ]
          },
          "metadata": {
            "tags": []
          },
          "execution_count": 82
        }
      ]
    },
    {
      "cell_type": "code",
      "metadata": {
        "id": "bA-thgTcwH6D",
        "colab_type": "code",
        "colab": {
          "base_uri": "https://localhost:8080/",
          "height": 163
        },
        "outputId": "0d626179-10ee-4a2e-8ce3-0d839c7ed8ad"
      },
      "source": [
        "dfData.iloc[180]"
      ],
      "execution_count": 83,
      "outputs": [
        {
          "output_type": "execute_result",
          "data": {
            "text/plain": [
              "Date                                              20200309\n",
              "State                                                   CA\n",
              "Positive                                               114\n",
              "Negative                                               690\n",
              "Pending                                                NaN\n",
              "Total                                                  804\n",
              "Notes       Negative from CDPH report of 778 tests on 3/7 \n",
              "Name: 180, dtype: object"
            ]
          },
          "metadata": {
            "tags": []
          },
          "execution_count": 83
        }
      ]
    },
    {
      "cell_type": "code",
      "metadata": {
        "id": "QgHwJJKnwL6H",
        "colab_type": "code",
        "colab": {}
      },
      "source": [
        "df1 = dfData.loc[180, ['Positive', 'Negative','Total']]\n",
        "df2 = dfData.loc[127, ['Positive', 'Negative','Total']]"
      ],
      "execution_count": 0,
      "outputs": []
    },
    {
      "cell_type": "code",
      "metadata": {
        "id": "HD4EUDpvwR54",
        "colab_type": "code",
        "colab": {
          "base_uri": "https://localhost:8080/",
          "height": 407
        },
        "outputId": "726243b1-8e39-4823-8c5a-3735aa730515"
      },
      "source": [
        "dfPositive.astype({'Positive': 'int32'})\n"
      ],
      "execution_count": 129,
      "outputs": [
        {
          "output_type": "execute_result",
          "data": {
            "text/html": [
              "<div>\n",
              "<style scoped>\n",
              "    .dataframe tbody tr th:only-of-type {\n",
              "        vertical-align: middle;\n",
              "    }\n",
              "\n",
              "    .dataframe tbody tr th {\n",
              "        vertical-align: top;\n",
              "    }\n",
              "\n",
              "    .dataframe thead th {\n",
              "        text-align: right;\n",
              "    }\n",
              "</style>\n",
              "<table border=\"1\" class=\"dataframe\">\n",
              "  <thead>\n",
              "    <tr style=\"text-align: right;\">\n",
              "      <th></th>\n",
              "      <th>Date</th>\n",
              "      <th>State</th>\n",
              "      <th>Positive</th>\n",
              "      <th>Negative</th>\n",
              "      <th>Pending</th>\n",
              "      <th>Total</th>\n",
              "      <th>Notes</th>\n",
              "    </tr>\n",
              "  </thead>\n",
              "  <tbody>\n",
              "    <tr>\n",
              "      <th>0</th>\n",
              "      <td>20200304</td>\n",
              "      <td>AZ</td>\n",
              "      <td>2</td>\n",
              "      <td>27</td>\n",
              "      <td>5.0</td>\n",
              "      <td>34</td>\n",
              "      <td>NaN</td>\n",
              "    </tr>\n",
              "    <tr>\n",
              "      <th>1</th>\n",
              "      <td>20200304</td>\n",
              "      <td>CA</td>\n",
              "      <td>53</td>\n",
              "      <td>462</td>\n",
              "      <td>NaN</td>\n",
              "      <td>515</td>\n",
              "      <td>NaN</td>\n",
              "    </tr>\n",
              "    <tr>\n",
              "      <th>2</th>\n",
              "      <td>20200304</td>\n",
              "      <td>FL</td>\n",
              "      <td>2</td>\n",
              "      <td>24</td>\n",
              "      <td>16.0</td>\n",
              "      <td>42</td>\n",
              "      <td>NaN</td>\n",
              "    </tr>\n",
              "    <tr>\n",
              "      <th>3</th>\n",
              "      <td>20200304</td>\n",
              "      <td>GA</td>\n",
              "      <td>2</td>\n",
              "      <td>NaN</td>\n",
              "      <td>NaN</td>\n",
              "      <td>2</td>\n",
              "      <td>NaN</td>\n",
              "    </tr>\n",
              "    <tr>\n",
              "      <th>4</th>\n",
              "      <td>20200304</td>\n",
              "      <td>IL</td>\n",
              "      <td>4</td>\n",
              "      <td>124</td>\n",
              "      <td>27.0</td>\n",
              "      <td>155</td>\n",
              "      <td>NaN</td>\n",
              "    </tr>\n",
              "    <tr>\n",
              "      <th>...</th>\n",
              "      <td>...</td>\n",
              "      <td>...</td>\n",
              "      <td>...</td>\n",
              "      <td>...</td>\n",
              "      <td>...</td>\n",
              "      <td>...</td>\n",
              "      <td>...</td>\n",
              "    </tr>\n",
              "    <tr>\n",
              "      <th>220</th>\n",
              "      <td>20200309</td>\n",
              "      <td>UT</td>\n",
              "      <td>1</td>\n",
              "      <td>NaN</td>\n",
              "      <td>NaN</td>\n",
              "      <td>1</td>\n",
              "      <td>Only positives reported</td>\n",
              "    </tr>\n",
              "    <tr>\n",
              "      <th>221</th>\n",
              "      <td>20200309</td>\n",
              "      <td>VA</td>\n",
              "      <td>2</td>\n",
              "      <td>36</td>\n",
              "      <td>6.0</td>\n",
              "      <td>44</td>\n",
              "      <td>NaN</td>\n",
              "    </tr>\n",
              "    <tr>\n",
              "      <th>222</th>\n",
              "      <td>20200309</td>\n",
              "      <td>VT</td>\n",
              "      <td>1</td>\n",
              "      <td>28</td>\n",
              "      <td>NaN</td>\n",
              "      <td>29</td>\n",
              "      <td>NaN</td>\n",
              "    </tr>\n",
              "    <tr>\n",
              "      <th>223</th>\n",
              "      <td>20200309</td>\n",
              "      <td>WA</td>\n",
              "      <td>136</td>\n",
              "      <td>1,110</td>\n",
              "      <td>80.0</td>\n",
              "      <td>1326</td>\n",
              "      <td>Pending from counties</td>\n",
              "    </tr>\n",
              "    <tr>\n",
              "      <th>224</th>\n",
              "      <td>20200309</td>\n",
              "      <td>WI</td>\n",
              "      <td>1</td>\n",
              "      <td>31</td>\n",
              "      <td>12.0</td>\n",
              "      <td>44</td>\n",
              "      <td>NaN</td>\n",
              "    </tr>\n",
              "  </tbody>\n",
              "</table>\n",
              "<p>146 rows × 7 columns</p>\n",
              "</div>"
            ],
            "text/plain": [
              "         Date State  Positive Negative  Pending  Total                    Notes\n",
              "0    20200304    AZ         2       27      5.0     34                      NaN\n",
              "1    20200304    CA        53      462      NaN    515                      NaN\n",
              "2    20200304    FL         2       24     16.0     42                      NaN\n",
              "3    20200304    GA         2      NaN      NaN      2                      NaN\n",
              "4    20200304    IL         4      124     27.0    155                      NaN\n",
              "..        ...   ...       ...      ...      ...    ...                      ...\n",
              "220  20200309    UT         1      NaN      NaN      1  Only positives reported\n",
              "221  20200309    VA         2       36      6.0     44                      NaN\n",
              "222  20200309    VT         1       28      NaN     29                      NaN\n",
              "223  20200309    WA       136    1,110     80.0   1326   Pending from counties \n",
              "224  20200309    WI         1       31     12.0     44                      NaN\n",
              "\n",
              "[146 rows x 7 columns]"
            ]
          },
          "metadata": {
            "tags": []
          },
          "execution_count": 129
        }
      ]
    },
    {
      "cell_type": "code",
      "metadata": {
        "id": "F_L_-vFayAqI",
        "colab_type": "code",
        "colab": {}
      },
      "source": [
        "dfClean = dfData.fillna(0)"
      ],
      "execution_count": 0,
      "outputs": []
    },
    {
      "cell_type": "code",
      "metadata": {
        "id": "4nRZ92kWyEWP",
        "colab_type": "code",
        "colab": {
          "base_uri": "https://localhost:8080/",
          "height": 407
        },
        "outputId": "78cb1632-75e6-4e33-8157-f3a671afc5f6"
      },
      "source": [
        "dfClean.astype({'Positive': 'int32', 'Negative': 'int32', 'Total': 'int32'})"
      ],
      "execution_count": 172,
      "outputs": [
        {
          "output_type": "execute_result",
          "data": {
            "text/html": [
              "<div>\n",
              "<style scoped>\n",
              "    .dataframe tbody tr th:only-of-type {\n",
              "        vertical-align: middle;\n",
              "    }\n",
              "\n",
              "    .dataframe tbody tr th {\n",
              "        vertical-align: top;\n",
              "    }\n",
              "\n",
              "    .dataframe thead th {\n",
              "        text-align: right;\n",
              "    }\n",
              "</style>\n",
              "<table border=\"1\" class=\"dataframe\">\n",
              "  <thead>\n",
              "    <tr style=\"text-align: right;\">\n",
              "      <th></th>\n",
              "      <th>Date</th>\n",
              "      <th>State</th>\n",
              "      <th>Positive</th>\n",
              "      <th>Negative</th>\n",
              "      <th>Pending</th>\n",
              "      <th>Total</th>\n",
              "      <th>Notes</th>\n",
              "    </tr>\n",
              "  </thead>\n",
              "  <tbody>\n",
              "    <tr>\n",
              "      <th>0</th>\n",
              "      <td>20200304</td>\n",
              "      <td>AZ</td>\n",
              "      <td>2</td>\n",
              "      <td>27</td>\n",
              "      <td>5.0</td>\n",
              "      <td>34</td>\n",
              "      <td>0</td>\n",
              "    </tr>\n",
              "    <tr>\n",
              "      <th>1</th>\n",
              "      <td>20200304</td>\n",
              "      <td>CA</td>\n",
              "      <td>53</td>\n",
              "      <td>462</td>\n",
              "      <td>0.0</td>\n",
              "      <td>515</td>\n",
              "      <td>0</td>\n",
              "    </tr>\n",
              "    <tr>\n",
              "      <th>2</th>\n",
              "      <td>20200304</td>\n",
              "      <td>FL</td>\n",
              "      <td>2</td>\n",
              "      <td>24</td>\n",
              "      <td>16.0</td>\n",
              "      <td>42</td>\n",
              "      <td>0</td>\n",
              "    </tr>\n",
              "    <tr>\n",
              "      <th>3</th>\n",
              "      <td>20200304</td>\n",
              "      <td>GA</td>\n",
              "      <td>2</td>\n",
              "      <td>0</td>\n",
              "      <td>0.0</td>\n",
              "      <td>2</td>\n",
              "      <td>0</td>\n",
              "    </tr>\n",
              "    <tr>\n",
              "      <th>4</th>\n",
              "      <td>20200304</td>\n",
              "      <td>IL</td>\n",
              "      <td>4</td>\n",
              "      <td>124</td>\n",
              "      <td>27.0</td>\n",
              "      <td>155</td>\n",
              "      <td>0</td>\n",
              "    </tr>\n",
              "    <tr>\n",
              "      <th>...</th>\n",
              "      <td>...</td>\n",
              "      <td>...</td>\n",
              "      <td>...</td>\n",
              "      <td>...</td>\n",
              "      <td>...</td>\n",
              "      <td>...</td>\n",
              "      <td>...</td>\n",
              "    </tr>\n",
              "    <tr>\n",
              "      <th>222</th>\n",
              "      <td>20200309</td>\n",
              "      <td>VT</td>\n",
              "      <td>1</td>\n",
              "      <td>28</td>\n",
              "      <td>0.0</td>\n",
              "      <td>29</td>\n",
              "      <td>0</td>\n",
              "    </tr>\n",
              "    <tr>\n",
              "      <th>223</th>\n",
              "      <td>20200309</td>\n",
              "      <td>WA</td>\n",
              "      <td>136</td>\n",
              "      <td>1110</td>\n",
              "      <td>80.0</td>\n",
              "      <td>1326</td>\n",
              "      <td>Pending from counties</td>\n",
              "    </tr>\n",
              "    <tr>\n",
              "      <th>224</th>\n",
              "      <td>20200309</td>\n",
              "      <td>WI</td>\n",
              "      <td>1</td>\n",
              "      <td>31</td>\n",
              "      <td>12.0</td>\n",
              "      <td>44</td>\n",
              "      <td>0</td>\n",
              "    </tr>\n",
              "    <tr>\n",
              "      <th>225</th>\n",
              "      <td>20200309</td>\n",
              "      <td>WV</td>\n",
              "      <td>0</td>\n",
              "      <td>2</td>\n",
              "      <td>3.0</td>\n",
              "      <td>5</td>\n",
              "      <td>0</td>\n",
              "    </tr>\n",
              "    <tr>\n",
              "      <th>226</th>\n",
              "      <td>20200309</td>\n",
              "      <td>WY</td>\n",
              "      <td>0</td>\n",
              "      <td>0</td>\n",
              "      <td>0.0</td>\n",
              "      <td>0</td>\n",
              "      <td>0</td>\n",
              "    </tr>\n",
              "  </tbody>\n",
              "</table>\n",
              "<p>227 rows × 7 columns</p>\n",
              "</div>"
            ],
            "text/plain": [
              "         Date State  Positive  Negative  Pending  Total                   Notes\n",
              "0    20200304    AZ         2        27      5.0     34                       0\n",
              "1    20200304    CA        53       462      0.0    515                       0\n",
              "2    20200304    FL         2        24     16.0     42                       0\n",
              "3    20200304    GA         2         0      0.0      2                       0\n",
              "4    20200304    IL         4       124     27.0    155                       0\n",
              "..        ...   ...       ...       ...      ...    ...                     ...\n",
              "222  20200309    VT         1        28      0.0     29                       0\n",
              "223  20200309    WA       136      1110     80.0   1326  Pending from counties \n",
              "224  20200309    WI         1        31     12.0     44                       0\n",
              "225  20200309    WV         0         2      3.0      5                       0\n",
              "226  20200309    WY         0         0      0.0      0                       0\n",
              "\n",
              "[227 rows x 7 columns]"
            ]
          },
          "metadata": {
            "tags": []
          },
          "execution_count": 172
        }
      ]
    },
    {
      "cell_type": "code",
      "metadata": {
        "id": "nnfvlyj02LeB",
        "colab_type": "code",
        "colab": {}
      },
      "source": [
        "dfClean.Negative = dfClean.Negative.astype('int32')"
      ],
      "execution_count": 0,
      "outputs": []
    },
    {
      "cell_type": "code",
      "metadata": {
        "id": "QI7VLe1H2teT",
        "colab_type": "code",
        "colab": {
          "base_uri": "https://localhost:8080/",
          "height": 35
        },
        "outputId": "35c3653e-19bf-4362-90d4-3d8c1ed968ad"
      },
      "source": [
        "dfClean.Negative.sum()"
      ],
      "execution_count": 177,
      "outputs": [
        {
          "output_type": "execute_result",
          "data": {
            "text/plain": [
              "10920"
            ]
          },
          "metadata": {
            "tags": []
          },
          "execution_count": 177
        }
      ]
    },
    {
      "cell_type": "code",
      "metadata": {
        "id": "KZG73DrD3dn3",
        "colab_type": "code",
        "colab": {}
      },
      "source": [
        "dfClean.loc[223, ['Negative']]=1110\n"
      ],
      "execution_count": 0,
      "outputs": []
    },
    {
      "cell_type": "code",
      "metadata": {
        "id": "KBd1gdxo4ZSi",
        "colab_type": "code",
        "colab": {}
      },
      "source": [
        "df1 = dfClean.loc[180, ['Positive','Negative','Total']]\n",
        "df2 = dfClean.loc[127, ['Positive','Negative','Total']] "
      ],
      "execution_count": 0,
      "outputs": []
    },
    {
      "cell_type": "code",
      "metadata": {
        "id": "KNu5VxT04wpE",
        "colab_type": "code",
        "colab": {
          "base_uri": "https://localhost:8080/",
          "height": 90
        },
        "outputId": "6b39521b-ba90-4250-d8ab-5da7173821b0"
      },
      "source": [
        "df1\n"
      ],
      "execution_count": 179,
      "outputs": [
        {
          "output_type": "execute_result",
          "data": {
            "text/plain": [
              "Positive    114\n",
              "Negative    690\n",
              "Total       804\n",
              "Name: 180, dtype: object"
            ]
          },
          "metadata": {
            "tags": []
          },
          "execution_count": 179
        }
      ]
    },
    {
      "cell_type": "code",
      "metadata": {
        "id": "KVemMqSz6YCQ",
        "colab_type": "code",
        "colab": {
          "base_uri": "https://localhost:8080/",
          "height": 35
        },
        "outputId": "5cb8323f-3ef7-4b08-eb77-bc387fb632b7"
      },
      "source": [
        ""
      ],
      "execution_count": 171,
      "outputs": [
        {
          "output_type": "execute_result",
          "data": {
            "text/plain": [
              "array([114.0, '690', 804], dtype=object)"
            ]
          },
          "metadata": {
            "tags": []
          },
          "execution_count": 171
        }
      ]
    },
    {
      "cell_type": "code",
      "metadata": {
        "id": "Y1ICoStD6qVd",
        "colab_type": "code",
        "colab": {
          "base_uri": "https://localhost:8080/",
          "height": 90
        },
        "outputId": "f525f96c-58fd-447c-8988-62b66bc7ced3"
      },
      "source": [
        "df1-df2\n"
      ],
      "execution_count": 180,
      "outputs": [
        {
          "output_type": "execute_result",
          "data": {
            "text/plain": [
              "Positive     26\n",
              "Negative    228\n",
              "Total       254\n",
              "dtype: object"
            ]
          },
          "metadata": {
            "tags": []
          },
          "execution_count": 180
        }
      ]
    },
    {
      "cell_type": "code",
      "metadata": {
        "id": "lXeIFl_V71NJ",
        "colab_type": "code",
        "colab": {}
      },
      "source": [
        ""
      ],
      "execution_count": 0,
      "outputs": []
    }
  ]
}