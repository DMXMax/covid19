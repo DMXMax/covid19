{
  "nbformat": 4,
  "nbformat_minor": 0,
  "metadata": {
    "colab": {
      "name": "coviddata",
      "provenance": [],
      "toc_visible": true,
      "authorship_tag": "ABX9TyN2oErqsRGfDzLOCCvYsubG",
      "include_colab_link": true
    },
    "kernelspec": {
      "name": "python3",
      "display_name": "Python 3"
    }
  },
  "cells": [
    {
      "cell_type": "markdown",
      "metadata": {
        "id": "view-in-github",
        "colab_type": "text"
      },
      "source": [
        "<a href=\"https://colab.research.google.com/github/DMXMax/covid19/blob/gc_20200315/coviddata.ipynb\" target=\"_parent\"><img src=\"https://colab.research.google.com/assets/colab-badge.svg\" alt=\"Open In Colab\"/></a>"
      ]
    },
    {
      "cell_type": "code",
      "metadata": {
        "id": "jCzokJEPxFhv",
        "colab_type": "code",
        "colab": {}
      },
      "source": [
        "import numpy as np\n",
        "import pandas as pd\n",
        "import matplotlib.pyplot as plt\n",
        "import requests,json\n",
        "import datetime\n"
      ],
      "execution_count": 0,
      "outputs": []
    },
    {
      "cell_type": "code",
      "metadata": {
        "id": "zNKPT5Z8BXPT",
        "colab_type": "code",
        "colab": {}
      },
      "source": [
        "covidtrackingurl = \"https://covidtracking.com/api/v1/states/daily.json\"\n",
        "response = requests.get(covidtrackingurl)\n",
        "dfCovidtracking = pd.DataFrame(response.json())\n",
        "dfCovidtracking.fillna(0, inplace=True)\n",
        "dfCovidtracking.negative = dfCovidtracking.negative.astype('int64')\n",
        "dfCovidtracking.positive = dfCovidtracking.positive.astype('int64')\n",
        "dfCovidtracking.pending = dfCovidtracking.pending.astype('int64')\n",
        "dfCovidtracking.total = dfCovidtracking.total.astype('int64')\n",
        "dfCovidtracking.death = dfCovidtracking.death.astype('int64')\n",
        "\n",
        "dfCovidtracking.date = dfCovidtracking.date.transform(lambda x: pd.to_datetime(datetime.date(x//10000, x%10000//100, x%100\n",
        "                                          )))\n"
      ],
      "execution_count": 0,
      "outputs": []
    },
    {
      "cell_type": "code",
      "metadata": {
        "id": "8_Il5iuohC8_",
        "colab_type": "code",
        "colab": {}
      },
      "source": [
        "dfWHO = pd.read_csv(\"https://raw.githubusercontent.com/DMXMax/covid19/master/who/who_data.tsv\",\n",
        "                     sep='\\t', index_col='Date')"
      ],
      "execution_count": 0,
      "outputs": []
    },
    {
      "cell_type": "code",
      "metadata": {
        "id": "IHNp61EvdwQG",
        "colab_type": "code",
        "colab": {}
      },
      "source": [
        "jhurl = \"https://raw.githubusercontent.com/CSSEGISandData/COVID-19/master/\"+\\\n",
        "\"csse_covid_19_data/csse_covid_19_daily_reports/05-19-2020.csv\"\n",
        "\n",
        "\n",
        "dfJHUData = pd.read_csv(jhurl, header=0,\n",
        "                        names=['FIPS', 'city','state', 'country', 'last_update',\n",
        "                               'lat', 'lon','confirmed', 'dead', 'recovered','active', 'key'])"
      ],
      "execution_count": 0,
      "outputs": []
    },
    {
      "cell_type": "code",
      "metadata": {
        "id": "hrPlWJJCVtBR",
        "colab_type": "code",
        "colab": {}
      },
      "source": [
        "dfWHO = dfWHO.rename(columns={\"Confirmed\": \"confirmed\", \"Deaths\": \"who_deaths\"})\n",
        "dfWHO.index.names=['date']\n"
      ],
      "execution_count": 0,
      "outputs": []
    },
    {
      "cell_type": "code",
      "metadata": {
        "id": "ziqcH5LxdBrS",
        "colab_type": "code",
        "colab": {
          "base_uri": "https://localhost:8080/",
          "height": 186
        },
        "outputId": "49929fb7-2aa5-409d-d142-90ee55b8e4ab"
      },
      "source": [
        "print(\"US Summary\")\n",
        "dfCovidtracking.groupby(by='date').sum()[-3:][['positive', 'death', 'positiveIncrease', 'deathIncrease']]"
      ],
      "execution_count": 228,
      "outputs": [
        {
          "output_type": "stream",
          "text": [
            "US Summary\n"
          ],
          "name": "stdout"
        },
        {
          "output_type": "execute_result",
          "data": {
            "text/html": [
              "<div>\n",
              "<style scoped>\n",
              "    .dataframe tbody tr th:only-of-type {\n",
              "        vertical-align: middle;\n",
              "    }\n",
              "\n",
              "    .dataframe tbody tr th {\n",
              "        vertical-align: top;\n",
              "    }\n",
              "\n",
              "    .dataframe thead th {\n",
              "        text-align: right;\n",
              "    }\n",
              "</style>\n",
              "<table border=\"1\" class=\"dataframe\">\n",
              "  <thead>\n",
              "    <tr style=\"text-align: right;\">\n",
              "      <th></th>\n",
              "      <th>positive</th>\n",
              "      <th>death</th>\n",
              "      <th>positiveIncrease</th>\n",
              "      <th>deathIncrease</th>\n",
              "    </tr>\n",
              "    <tr>\n",
              "      <th>date</th>\n",
              "      <th></th>\n",
              "      <th></th>\n",
              "      <th></th>\n",
              "      <th></th>\n",
              "    </tr>\n",
              "  </thead>\n",
              "  <tbody>\n",
              "    <tr>\n",
              "      <th>2020-05-17</th>\n",
              "      <td>1480158</td>\n",
              "      <td>83854</td>\n",
              "      <td>20737.0</td>\n",
              "      <td>839.0</td>\n",
              "    </tr>\n",
              "    <tr>\n",
              "      <th>2020-05-18</th>\n",
              "      <td>1499722</td>\n",
              "      <td>84640</td>\n",
              "      <td>19564.0</td>\n",
              "      <td>786.0</td>\n",
              "    </tr>\n",
              "    <tr>\n",
              "      <th>2020-05-19</th>\n",
              "      <td>1520778</td>\n",
              "      <td>86070</td>\n",
              "      <td>21056.0</td>\n",
              "      <td>1430.0</td>\n",
              "    </tr>\n",
              "  </tbody>\n",
              "</table>\n",
              "</div>"
            ],
            "text/plain": [
              "            positive  death  positiveIncrease  deathIncrease\n",
              "date                                                        \n",
              "2020-05-17   1480158  83854           20737.0          839.0\n",
              "2020-05-18   1499722  84640           19564.0          786.0\n",
              "2020-05-19   1520778  86070           21056.0         1430.0"
            ]
          },
          "metadata": {
            "tags": []
          },
          "execution_count": 228
        }
      ]
    },
    {
      "cell_type": "code",
      "metadata": {
        "id": "0Fimy4iQiz6y",
        "colab_type": "code",
        "outputId": "6bc40924-a32b-4184-b6f9-fb31f26ca485",
        "colab": {
          "base_uri": "https://localhost:8080/",
          "height": 541
        }
      },
      "source": [
        "dfCovidtracking[dfCovidtracking.state=='CA'].head(10)"
      ],
      "execution_count": 219,
      "outputs": [
        {
          "output_type": "execute_result",
          "data": {
            "text/html": [
              "<div>\n",
              "<style scoped>\n",
              "    .dataframe tbody tr th:only-of-type {\n",
              "        vertical-align: middle;\n",
              "    }\n",
              "\n",
              "    .dataframe tbody tr th {\n",
              "        vertical-align: top;\n",
              "    }\n",
              "\n",
              "    .dataframe thead th {\n",
              "        text-align: right;\n",
              "    }\n",
              "</style>\n",
              "<table border=\"1\" class=\"dataframe\">\n",
              "  <thead>\n",
              "    <tr style=\"text-align: right;\">\n",
              "      <th></th>\n",
              "      <th>date</th>\n",
              "      <th>state</th>\n",
              "      <th>positive</th>\n",
              "      <th>negative</th>\n",
              "      <th>pending</th>\n",
              "      <th>hospitalizedCurrently</th>\n",
              "      <th>hospitalizedCumulative</th>\n",
              "      <th>inIcuCurrently</th>\n",
              "      <th>inIcuCumulative</th>\n",
              "      <th>onVentilatorCurrently</th>\n",
              "      <th>onVentilatorCumulative</th>\n",
              "      <th>recovered</th>\n",
              "      <th>dataQualityGrade</th>\n",
              "      <th>lastUpdateEt</th>\n",
              "      <th>hash</th>\n",
              "      <th>dateChecked</th>\n",
              "      <th>death</th>\n",
              "      <th>hospitalized</th>\n",
              "      <th>total</th>\n",
              "      <th>totalTestResults</th>\n",
              "      <th>posNeg</th>\n",
              "      <th>fips</th>\n",
              "      <th>deathIncrease</th>\n",
              "      <th>hospitalizedIncrease</th>\n",
              "      <th>negativeIncrease</th>\n",
              "      <th>positiveIncrease</th>\n",
              "      <th>totalTestResultsIncrease</th>\n",
              "    </tr>\n",
              "  </thead>\n",
              "  <tbody>\n",
              "    <tr>\n",
              "      <th>5</th>\n",
              "      <td>2020-05-19</td>\n",
              "      <td>CA</td>\n",
              "      <td>81795</td>\n",
              "      <td>1257521</td>\n",
              "      <td>0</td>\n",
              "      <td>4363.0</td>\n",
              "      <td>0.0</td>\n",
              "      <td>1307.0</td>\n",
              "      <td>0.0</td>\n",
              "      <td>0.0</td>\n",
              "      <td>0.0</td>\n",
              "      <td>0.0</td>\n",
              "      <td>B</td>\n",
              "      <td>5/19/2020 00:00</td>\n",
              "      <td>ad1044e4a2c384424aa492acbe2154e655566e10</td>\n",
              "      <td>2020-05-19T20:00:00Z</td>\n",
              "      <td>3334</td>\n",
              "      <td>0.0</td>\n",
              "      <td>1339316</td>\n",
              "      <td>1339316</td>\n",
              "      <td>1339316</td>\n",
              "      <td>06</td>\n",
              "      <td>32.0</td>\n",
              "      <td>0.0</td>\n",
              "      <td>45279.0</td>\n",
              "      <td>1365.0</td>\n",
              "      <td>46644.0</td>\n",
              "    </tr>\n",
              "    <tr>\n",
              "      <th>61</th>\n",
              "      <td>2020-05-18</td>\n",
              "      <td>CA</td>\n",
              "      <td>80430</td>\n",
              "      <td>1212242</td>\n",
              "      <td>0</td>\n",
              "      <td>4391.0</td>\n",
              "      <td>0.0</td>\n",
              "      <td>1325.0</td>\n",
              "      <td>0.0</td>\n",
              "      <td>0.0</td>\n",
              "      <td>0.0</td>\n",
              "      <td>0.0</td>\n",
              "      <td>B</td>\n",
              "      <td>5/17/2020 00:00</td>\n",
              "      <td>a4c726f97ca716cb19c945927806f45e0bb3cbea</td>\n",
              "      <td>2020-05-18T20:00:00Z</td>\n",
              "      <td>3302</td>\n",
              "      <td>0.0</td>\n",
              "      <td>1292672</td>\n",
              "      <td>1292672</td>\n",
              "      <td>1292672</td>\n",
              "      <td>06</td>\n",
              "      <td>41.0</td>\n",
              "      <td>0.0</td>\n",
              "      <td>55838.0</td>\n",
              "      <td>1591.0</td>\n",
              "      <td>57429.0</td>\n",
              "    </tr>\n",
              "    <tr>\n",
              "      <th>117</th>\n",
              "      <td>2020-05-17</td>\n",
              "      <td>CA</td>\n",
              "      <td>78839</td>\n",
              "      <td>1156404</td>\n",
              "      <td>0</td>\n",
              "      <td>4291.0</td>\n",
              "      <td>0.0</td>\n",
              "      <td>1293.0</td>\n",
              "      <td>0.0</td>\n",
              "      <td>0.0</td>\n",
              "      <td>0.0</td>\n",
              "      <td>0.0</td>\n",
              "      <td>B</td>\n",
              "      <td>5/17/2020 00:00</td>\n",
              "      <td>efe3d2e04569547fc50e7c3d8084f6f4ea4d4cc7</td>\n",
              "      <td>2020-05-17T20:00:00Z</td>\n",
              "      <td>3261</td>\n",
              "      <td>0.0</td>\n",
              "      <td>1235243</td>\n",
              "      <td>1235243</td>\n",
              "      <td>1235243</td>\n",
              "      <td>06</td>\n",
              "      <td>57.0</td>\n",
              "      <td>0.0</td>\n",
              "      <td>54071.0</td>\n",
              "      <td>2046.0</td>\n",
              "      <td>56117.0</td>\n",
              "    </tr>\n",
              "    <tr>\n",
              "      <th>173</th>\n",
              "      <td>2020-05-16</td>\n",
              "      <td>CA</td>\n",
              "      <td>76793</td>\n",
              "      <td>1102333</td>\n",
              "      <td>0</td>\n",
              "      <td>4424.0</td>\n",
              "      <td>0.0</td>\n",
              "      <td>1313.0</td>\n",
              "      <td>0.0</td>\n",
              "      <td>0.0</td>\n",
              "      <td>0.0</td>\n",
              "      <td>0.0</td>\n",
              "      <td>B</td>\n",
              "      <td>5/16/2020 00:00</td>\n",
              "      <td>e335473bcecc2092fc63063fe12ed043c5f73751</td>\n",
              "      <td>2020-05-16T20:00:00Z</td>\n",
              "      <td>3204</td>\n",
              "      <td>0.0</td>\n",
              "      <td>1179126</td>\n",
              "      <td>1179126</td>\n",
              "      <td>1179126</td>\n",
              "      <td>06</td>\n",
              "      <td>96.0</td>\n",
              "      <td>0.0</td>\n",
              "      <td>43363.0</td>\n",
              "      <td>1857.0</td>\n",
              "      <td>45220.0</td>\n",
              "    </tr>\n",
              "    <tr>\n",
              "      <th>229</th>\n",
              "      <td>2020-05-15</td>\n",
              "      <td>CA</td>\n",
              "      <td>74936</td>\n",
              "      <td>1058970</td>\n",
              "      <td>0</td>\n",
              "      <td>4519.0</td>\n",
              "      <td>0.0</td>\n",
              "      <td>1324.0</td>\n",
              "      <td>0.0</td>\n",
              "      <td>0.0</td>\n",
              "      <td>0.0</td>\n",
              "      <td>0.0</td>\n",
              "      <td>B</td>\n",
              "      <td>5/14/2020 00:00</td>\n",
              "      <td>dd4a56509207e53adc6f228223657494252d0d39</td>\n",
              "      <td>2020-05-15T20:00:00Z</td>\n",
              "      <td>3108</td>\n",
              "      <td>0.0</td>\n",
              "      <td>1133906</td>\n",
              "      <td>1133906</td>\n",
              "      <td>1133906</td>\n",
              "      <td>06</td>\n",
              "      <td>76.0</td>\n",
              "      <td>0.0</td>\n",
              "      <td>27483.0</td>\n",
              "      <td>1772.0</td>\n",
              "      <td>29255.0</td>\n",
              "    </tr>\n",
              "    <tr>\n",
              "      <th>285</th>\n",
              "      <td>2020-05-14</td>\n",
              "      <td>CA</td>\n",
              "      <td>73164</td>\n",
              "      <td>1031487</td>\n",
              "      <td>0</td>\n",
              "      <td>4655.0</td>\n",
              "      <td>0.0</td>\n",
              "      <td>1324.0</td>\n",
              "      <td>0.0</td>\n",
              "      <td>0.0</td>\n",
              "      <td>0.0</td>\n",
              "      <td>0.0</td>\n",
              "      <td>B</td>\n",
              "      <td>5/14/2020 00:00</td>\n",
              "      <td>ab1526dbbdbe36c6e661db2aa371d77dd19df51d</td>\n",
              "      <td>2020-05-14T20:00:00Z</td>\n",
              "      <td>3032</td>\n",
              "      <td>0.0</td>\n",
              "      <td>1104651</td>\n",
              "      <td>1104651</td>\n",
              "      <td>1104651</td>\n",
              "      <td>06</td>\n",
              "      <td>98.0</td>\n",
              "      <td>0.0</td>\n",
              "      <td>37036.0</td>\n",
              "      <td>2023.0</td>\n",
              "      <td>39059.0</td>\n",
              "    </tr>\n",
              "    <tr>\n",
              "      <th>341</th>\n",
              "      <td>2020-05-13</td>\n",
              "      <td>CA</td>\n",
              "      <td>71141</td>\n",
              "      <td>994451</td>\n",
              "      <td>0</td>\n",
              "      <td>4545.0</td>\n",
              "      <td>0.0</td>\n",
              "      <td>1314.0</td>\n",
              "      <td>0.0</td>\n",
              "      <td>0.0</td>\n",
              "      <td>0.0</td>\n",
              "      <td>0.0</td>\n",
              "      <td>B</td>\n",
              "      <td>5/13/2020 00:00</td>\n",
              "      <td>8a5867cd4322367e6ab3f8a0fb2b92285aa60b64</td>\n",
              "      <td>2020-05-13T20:00:00Z</td>\n",
              "      <td>2934</td>\n",
              "      <td>0.0</td>\n",
              "      <td>1065592</td>\n",
              "      <td>1065592</td>\n",
              "      <td>1065592</td>\n",
              "      <td>06</td>\n",
              "      <td>87.0</td>\n",
              "      <td>0.0</td>\n",
              "      <td>30463.0</td>\n",
              "      <td>1759.0</td>\n",
              "      <td>32222.0</td>\n",
              "    </tr>\n",
              "    <tr>\n",
              "      <th>397</th>\n",
              "      <td>2020-05-12</td>\n",
              "      <td>CA</td>\n",
              "      <td>69382</td>\n",
              "      <td>963988</td>\n",
              "      <td>0</td>\n",
              "      <td>4544.0</td>\n",
              "      <td>0.0</td>\n",
              "      <td>1349.0</td>\n",
              "      <td>0.0</td>\n",
              "      <td>0.0</td>\n",
              "      <td>0.0</td>\n",
              "      <td>0.0</td>\n",
              "      <td>B</td>\n",
              "      <td>5/12/2020 00:00</td>\n",
              "      <td>1c3c812803c41f5b0c75e07b15a8a4428e7d662f</td>\n",
              "      <td>2020-05-12T20:00:00Z</td>\n",
              "      <td>2847</td>\n",
              "      <td>0.0</td>\n",
              "      <td>1033370</td>\n",
              "      <td>1033370</td>\n",
              "      <td>1033370</td>\n",
              "      <td>06</td>\n",
              "      <td>77.0</td>\n",
              "      <td>0.0</td>\n",
              "      <td>40030.0</td>\n",
              "      <td>1443.0</td>\n",
              "      <td>41473.0</td>\n",
              "    </tr>\n",
              "    <tr>\n",
              "      <th>453</th>\n",
              "      <td>2020-05-11</td>\n",
              "      <td>CA</td>\n",
              "      <td>67939</td>\n",
              "      <td>923958</td>\n",
              "      <td>0</td>\n",
              "      <td>4549.0</td>\n",
              "      <td>0.0</td>\n",
              "      <td>1329.0</td>\n",
              "      <td>0.0</td>\n",
              "      <td>0.0</td>\n",
              "      <td>0.0</td>\n",
              "      <td>0.0</td>\n",
              "      <td>B</td>\n",
              "      <td>5/11/2020 00:00</td>\n",
              "      <td>53613cacac307d4a734c079025735a0eec798c35</td>\n",
              "      <td>2020-05-11T20:00:00Z</td>\n",
              "      <td>2770</td>\n",
              "      <td>0.0</td>\n",
              "      <td>991897</td>\n",
              "      <td>991897</td>\n",
              "      <td>991897</td>\n",
              "      <td>06</td>\n",
              "      <td>25.0</td>\n",
              "      <td>0.0</td>\n",
              "      <td>34974.0</td>\n",
              "      <td>1259.0</td>\n",
              "      <td>36233.0</td>\n",
              "    </tr>\n",
              "    <tr>\n",
              "      <th>509</th>\n",
              "      <td>2020-05-10</td>\n",
              "      <td>CA</td>\n",
              "      <td>66680</td>\n",
              "      <td>888984</td>\n",
              "      <td>0</td>\n",
              "      <td>4555.0</td>\n",
              "      <td>0.0</td>\n",
              "      <td>1328.0</td>\n",
              "      <td>0.0</td>\n",
              "      <td>0.0</td>\n",
              "      <td>0.0</td>\n",
              "      <td>0.0</td>\n",
              "      <td>B</td>\n",
              "      <td>5/10/2020 00:00</td>\n",
              "      <td>b618e4b193ed0312e703672e19ebad8c2eb045b9</td>\n",
              "      <td>2020-05-10T20:00:00Z</td>\n",
              "      <td>2745</td>\n",
              "      <td>0.0</td>\n",
              "      <td>955664</td>\n",
              "      <td>955664</td>\n",
              "      <td>955664</td>\n",
              "      <td>06</td>\n",
              "      <td>67.0</td>\n",
              "      <td>0.0</td>\n",
              "      <td>40975.0</td>\n",
              "      <td>2119.0</td>\n",
              "      <td>43094.0</td>\n",
              "    </tr>\n",
              "  </tbody>\n",
              "</table>\n",
              "</div>"
            ],
            "text/plain": [
              "          date state  ...  positiveIncrease  totalTestResultsIncrease\n",
              "5   2020-05-19    CA  ...            1365.0                   46644.0\n",
              "61  2020-05-18    CA  ...            1591.0                   57429.0\n",
              "117 2020-05-17    CA  ...            2046.0                   56117.0\n",
              "173 2020-05-16    CA  ...            1857.0                   45220.0\n",
              "229 2020-05-15    CA  ...            1772.0                   29255.0\n",
              "285 2020-05-14    CA  ...            2023.0                   39059.0\n",
              "341 2020-05-13    CA  ...            1759.0                   32222.0\n",
              "397 2020-05-12    CA  ...            1443.0                   41473.0\n",
              "453 2020-05-11    CA  ...            1259.0                   36233.0\n",
              "509 2020-05-10    CA  ...            2119.0                   43094.0\n",
              "\n",
              "[10 rows x 27 columns]"
            ]
          },
          "metadata": {
            "tags": []
          },
          "execution_count": 219
        }
      ]
    },
    {
      "cell_type": "code",
      "metadata": {
        "colab_type": "code",
        "id": "idyqfNddlLPv",
        "colab": {}
      },
      "source": [
        "dfctd_state_curr = dfCovidtracking.loc[dfCovidtracking.date==dfCovidtracking.date.max()] \\\n",
        "  .rename(columns={'positive':'total_positive'}) \\\n",
        "  .set_index('state') \n",
        "\n",
        "print(f\"Total positive cases = {dfctd_state_curr.total_positive.sum()}\")\n",
        "print(f\"Total deaths = {dfctd_state_curr.death.sum()}\")\n",
        "  \n",
        "dfctd_state_curr.sort_values(by='total_positive', ascending=False).head(5)"
      ],
      "execution_count": 0,
      "outputs": []
    },
    {
      "cell_type": "code",
      "metadata": {
        "id": "rFOHyOwb4bcm",
        "colab_type": "code",
        "colab": {}
      },
      "source": [
        "curr_state = 'CA'\n",
        "gbUSA = dfCovidtracking.groupby(['date'])\n",
        "gbState = dfCovidtracking[dfCovidtracking.state==curr_state].groupby(['date'])\n",
        "\n",
        "cols = ['positive', 'totalTestResults', 'death', 'positiveIncrease','deathIncrease']\n",
        "\n",
        "dfUSAPos = gbUSA[cols].sum().reset_index().copy()\n",
        "dfStatePos = gbState[cols].sum().reset_index().copy()\n",
        "\n",
        "#This will calculate the percentage each day is of the total. In a flattening, this will be more even\n",
        "# In a high growth situation, you'll higher percentages at the tail. \n",
        "\n",
        "dfUSAPos['pos_pct']= dfUSAPos.positive/dfctd_state_curr.total_positive.sum()\n",
        "dfStatePos['pos_pct']=dfStatePos.positive/dfctd_state_curr.loc[curr_state].total_positive"
      ],
      "execution_count": 0,
      "outputs": []
    },
    {
      "cell_type": "code",
      "metadata": {
        "colab_type": "code",
        "id": "BHKhtPRozVFF",
        "colab": {}
      },
      "source": [
        "dfUSAPos[-7:]\n"
      ],
      "execution_count": 0,
      "outputs": []
    },
    {
      "cell_type": "code",
      "metadata": {
        "colab_type": "code",
        "id": "EI4hKgZ5zUd8",
        "colab": {}
      },
      "source": [
        "dfStatePos[-7:]"
      ],
      "execution_count": 0,
      "outputs": []
    },
    {
      "cell_type": "code",
      "metadata": {
        "id": "BTvuZKJN0RoI",
        "colab_type": "code",
        "colab": {}
      },
      "source": [
        "gbUSA.sum()[-5:]"
      ],
      "execution_count": 0,
      "outputs": []
    },
    {
      "cell_type": "code",
      "metadata": {
        "id": "bjpo-qlGoA7A",
        "colab_type": "code",
        "colab": {}
      },
      "source": [
        "gbState.sum()[-5:]"
      ],
      "execution_count": 0,
      "outputs": []
    },
    {
      "cell_type": "code",
      "metadata": {
        "id": "9wU8B3GVvIiD",
        "colab_type": "code",
        "colab": {}
      },
      "source": [
        "rn = gbState.sum().loc['2020-05-02']\n",
        "rn.positive/rn.totalTestResults*100"
      ],
      "execution_count": 0,
      "outputs": []
    },
    {
      "cell_type": "code",
      "metadata": {
        "id": "916a0sCVdNRQ",
        "colab_type": "code",
        "colab": {}
      },
      "source": [
        "x=gbUSA.sum().loc[:, ['positive', 'negative','death','total']].plot.line()"
      ],
      "execution_count": 0,
      "outputs": []
    },
    {
      "cell_type": "code",
      "metadata": {
        "id": "Ftv2uSph2y7_",
        "colab_type": "code",
        "colab": {}
      },
      "source": [
        "dfResults = gbUSA.sum().join(dfWHO, how='left', rsuffix='_who' )\n",
        "dfResults.loc[:, ['positive', 'confirmed']].plot.line()"
      ],
      "execution_count": 0,
      "outputs": []
    },
    {
      "cell_type": "markdown",
      "metadata": {
        "id": "YxDqKQSObhxe",
        "colab_type": "text"
      },
      "source": [
        "# John Hopkins Data\n"
      ]
    },
    {
      "cell_type": "code",
      "metadata": {
        "id": "3WBkdfv2eLEc",
        "colab_type": "code",
        "colab": {}
      },
      "source": [
        "dfJHUData[dfJHUData.country=='US'][['confirmed', 'dead']].sum()"
      ],
      "execution_count": 0,
      "outputs": []
    },
    {
      "cell_type": "code",
      "metadata": {
        "id": "NUQ35Inse05H",
        "colab_type": "code",
        "colab": {}
      },
      "source": [
        "dfJHUData[(dfJHUData.country=='US')&(dfJHUData.state=='California')][['confirmed', 'dead']].sum()"
      ],
      "execution_count": 0,
      "outputs": []
    },
    {
      "cell_type": "code",
      "metadata": {
        "id": "H0JVVTFGfMOW",
        "colab_type": "code",
        "colab": {}
      },
      "source": [
        "dfJHUUS = dfJHUData[dfJHUData.country=='US']\n",
        "gbJHUByState= dfJHUUS.groupby(by='state')\n",
        "gbJHUByCountry = dfJHUData.groupby(by='country')"
      ],
      "execution_count": 0,
      "outputs": []
    },
    {
      "cell_type": "code",
      "metadata": {
        "id": "W8qWd0AYmg58",
        "colab_type": "code",
        "colab": {}
      },
      "source": [
        "gbJHUByCountry.confirmed.sum().sort_values(ascending=False).head(10)"
      ],
      "execution_count": 0,
      "outputs": []
    },
    {
      "cell_type": "code",
      "metadata": {
        "id": "1Lz_Cgh9fHwI",
        "colab_type": "code",
        "colab": {}
      },
      "source": [
        "dfctd_state_curr.head()"
      ],
      "execution_count": 0,
      "outputs": []
    },
    {
      "cell_type": "code",
      "metadata": {
        "id": "iPsfvvHC2_j1",
        "colab_type": "code",
        "colab": {}
      },
      "source": [
        "dfState = dfCovidtracking[['date','state','positive', 'death']].set_index('state') \\\n",
        "  .join(dfctd_state_curr.total_positive)"
      ],
      "execution_count": 0,
      "outputs": []
    },
    {
      "cell_type": "code",
      "metadata": {
        "id": "AkxH55Mx5yE6",
        "colab_type": "code",
        "colab": {}
      },
      "source": [
        "dfState['pct']=dfState.positive/dfState.total_positive"
      ],
      "execution_count": 0,
      "outputs": []
    },
    {
      "cell_type": "code",
      "metadata": {
        "id": "PKQ2rgz76XZR",
        "colab_type": "code",
        "colab": {}
      },
      "source": [
        "dfState.loc['FL'].head(7)"
      ],
      "execution_count": 0,
      "outputs": []
    },
    {
      "cell_type": "code",
      "metadata": {
        "id": "dkgVF6Q19glV",
        "colab_type": "code",
        "colab": {}
      },
      "source": [
        "res = dfState.reset_index().pivot(index = 'date', columns='state', values='pct').fillna(0)"
      ],
      "execution_count": 0,
      "outputs": []
    },
    {
      "cell_type": "code",
      "metadata": {
        "id": "w1ml4KC6BF7q",
        "colab_type": "code",
        "colab": {}
      },
      "source": [
        "x = res.loc[:, ['CA','FL']].plot.line()"
      ],
      "execution_count": 0,
      "outputs": []
    },
    {
      "cell_type": "code",
      "metadata": {
        "id": "eaLSwLbuBLY0",
        "colab_type": "code",
        "colab": {}
      },
      "source": [
        "dfNYTesting = dfCovidtracking.loc[dfCovidtracking.state=='NY', ['date', 'negative']].set_index('date')"
      ],
      "execution_count": 0,
      "outputs": []
    },
    {
      "cell_type": "code",
      "metadata": {
        "id": "vhL4WBWECIhP",
        "colab_type": "code",
        "colab": {}
      },
      "source": [
        "x = dfCovidtracking.groupby(by='date')\n",
        "y1=x.sum()[-33:].deathIncrease.plot.line(figsize=(40,20), fontsize=36, \\\n",
        "  style='.-', markersize=48, color='red', linewidth=4) \\\n",
        ".legend(['Daily Additional Deaths'],fontsize=32)\n"
      ],
      "execution_count": 0,
      "outputs": []
    },
    {
      "cell_type": "code",
      "metadata": {
        "colab_type": "code",
        "id": "tU6xIJWlPyp5",
        "colab": {}
      },
      "source": [
        "x = dfCovidtracking.groupby(by='date')\n",
        "y1=x.sum()[-33:-3].positiveIncrease.plot.line(figsize=(40,20), fontsize=36, \\\n",
        "  style='.-', markersize=48, color='red', linewidth=4) \\\n",
        ".legend(['Daily Additional Positive Tests'],fontsize=32)\n"
      ],
      "execution_count": 0,
      "outputs": []
    },
    {
      "cell_type": "code",
      "metadata": {
        "id": "NjDtqBrvDRMu",
        "colab_type": "code",
        "colab": {}
      },
      "source": [
        "def getWeek(dt):\n",
        "  return (dt.year*100)+dt.week\n",
        "\n",
        "dfByWeekYear = dfCovidtracking.set_index('date')[['deathIncrease', 'hospitalizedIncrease', 'negativeIncrease','positiveIncrease','totalTestResultsIncrease']].groupby(by=getWeek)\n"
      ],
      "execution_count": 0,
      "outputs": []
    },
    {
      "cell_type": "code",
      "metadata": {
        "colab_type": "code",
        "id": "z3kBSyO3Dvf7",
        "colab": {}
      },
      "source": [
        "def getWeek(dt):\n",
        "  return (dt.year*100)+dt.week\n",
        "\n",
        "dfDoW = dfCovidtracking.set_index('date')[['deathIncrease', 'hospitalizedIncrease', 'negativeIncrease','positiveIncrease','totalTestResultsIncrease']].groupby(by=lambda x: x.dayofweek)\n"
      ],
      "execution_count": 0,
      "outputs": []
    },
    {
      "cell_type": "code",
      "metadata": {
        "id": "Tz1eYggwEWXR",
        "colab_type": "code",
        "colab": {}
      },
      "source": [
        "dfDoW.mean().deathIncrease.plot.bar()\n",
        "\n"
      ],
      "execution_count": 0,
      "outputs": []
    },
    {
      "cell_type": "code",
      "metadata": {
        "id": "QlApKolYEeQk",
        "colab_type": "code",
        "colab": {}
      },
      "source": [
        "dfByWeekYear.sum()[-7:]"
      ],
      "execution_count": 0,
      "outputs": []
    },
    {
      "cell_type": "code",
      "metadata": {
        "id": "1kOc3QH1FpMu",
        "colab_type": "code",
        "colab": {}
      },
      "source": [
        "import matplotlib.ticker as ticker\n",
        "plt1 = dfByWeekYear.sum()[:-1][['deathIncrease']].plot.line(figsize=(40,20), \\\n",
        "    fontsize=36, style='.-', markersize=48, linewidth=10, color='red')\n",
        "plt1.legend(['Weekly Additional Deaths'],fontsize=32)\n",
        "plt2 = dfByWeekYear.sum()[:-1][['totalTestResultsIncrease']].plot.line(figsize=(40,20), \\\n",
        "    fontsize=36, style='.-', markersize=48, linewidth=10, color='purple')\n",
        "plt2.legend(['Weekly Additional Tests'],fontsize=32)\n",
        "\n",
        "plt2.yaxis.set_major_formatter(ticker.FormatStrFormatter('%6.0d'))\n",
        "    \n",
        "plt3 = dfByWeekYear.sum()[:-1][['positiveIncrease']].plot.line(figsize=(40,20), \\\n",
        "    fontsize=36, style='.-', markersize=48, linewidth=10, color='green')\n",
        "plt3.legend(['Weekly Additional Postives'],fontsize=32)"
      ],
      "execution_count": 0,
      "outputs": []
    },
    {
      "cell_type": "code",
      "metadata": {
        "id": "rvA7H7Ur2Wkg",
        "colab_type": "code",
        "colab": {}
      },
      "source": [
        "dfCovidtracking.groupby(by='date').sum().rolling(window=7).mean().positiveIncrease.plot.line()"
      ],
      "execution_count": 0,
      "outputs": []
    },
    {
      "cell_type": "code",
      "metadata": {
        "colab_type": "code",
        "id": "PKHVX_uExX9Q",
        "colab": {}
      },
      "source": [
        "dfCovidtracking.groupby(by='date').sum().rolling(window=7).mean().deathIncrease.plot.line()"
      ],
      "execution_count": 0,
      "outputs": []
    },
    {
      "cell_type": "code",
      "metadata": {
        "id": "veQ1Q3Kv3oJS",
        "colab_type": "code",
        "colab": {}
      },
      "source": [
        "dfCAAvg = dfCovidtracking[dfCovidtracking.state=='CA'] \\\n",
        ".groupby(by='date').sum().rolling(window=7).mean()"
      ],
      "execution_count": 0,
      "outputs": []
    },
    {
      "cell_type": "code",
      "metadata": {
        "id": "aF9b089h4u7L",
        "colab_type": "code",
        "colab": {}
      },
      "source": [
        "\n",
        "graph1 = dfCAAvg[20:].positiveIncrease.plot.bar(figsize=(14,7))\n"
      ],
      "execution_count": 0,
      "outputs": []
    },
    {
      "cell_type": "code",
      "metadata": {
        "id": "8GA3W0gG4U5i",
        "colab_type": "code",
        "colab": {}
      },
      "source": [
        "dfCAAvg.deathIncrease.plot.line()"
      ],
      "execution_count": 0,
      "outputs": []
    },
    {
      "cell_type": "code",
      "metadata": {
        "id": "c4uuFBTquS3o",
        "colab_type": "code",
        "colab": {}
      },
      "source": [
        "dfDates = dfState.reset_index().copy()\n",
        "dfDates[(dfDates.state.isin(['FL']))].head(10)"
      ],
      "execution_count": 0,
      "outputs": []
    },
    {
      "cell_type": "code",
      "metadata": {
        "id": "Puz0PBzemMD3",
        "colab_type": "code",
        "colab": {}
      },
      "source": [
        "datecutoff = dfDates.date.max()-datetime.timedelta(days=7)\n",
        "dfDates[(dfDates.date == datecutoff) & (dfDates.pct < .75)].sort_values(by='pct')\n"
      ],
      "execution_count": 0,
      "outputs": []
    },
    {
      "cell_type": "code",
      "metadata": {
        "id": "ZmaKzaBnGQwj",
        "colab_type": "code",
        "colab": {}
      },
      "source": [
        "state = 'CA'\n",
        "dfState = dfCovidtracking[dfCovidtracking.state==state].sort_values(by='date')\n",
        "vals = dfState.positive.values\n",
        "\n",
        "x=pd.Series([y-x for x,y in zip(vals,vals[1:])], \\\n",
        "          index = dfCovidtracking[dfCovidtracking.state==state]\\\n",
        "          .sort_values(by='date').date.values[1:] ) \\\n",
        "          .plot.bar(figsize=(12,5))\n",
        "\n"
      ],
      "execution_count": 0,
      "outputs": []
    },
    {
      "cell_type": "markdown",
      "metadata": {
        "id": "xFA0q8At-4sZ",
        "colab_type": "text"
      },
      "source": [
        "# State Population Data\n"
      ]
    },
    {
      "cell_type": "code",
      "metadata": {
        "id": "Nlx8_xZ27kvp",
        "colab_type": "code",
        "colab": {}
      },
      "source": [
        "data_url = \"https://www2.census.gov/programs-surveys/popest/datasets/2010-2019/national/totals/nst-est2019-alldata.csv\"\n"
      ],
      "execution_count": 0,
      "outputs": []
    },
    {
      "cell_type": "code",
      "metadata": {
        "id": "Lwz6IJdX_WFx",
        "colab_type": "code",
        "colab": {}
      },
      "source": [
        "dfUSPop = pd.read_csv(data_url)"
      ],
      "execution_count": 0,
      "outputs": []
    },
    {
      "cell_type": "code",
      "metadata": {
        "id": "aU3ZzHS-AkRS",
        "colab_type": "code",
        "colab": {}
      },
      "source": [
        "import math\n",
        "us_pop = dfUSPop.loc[0].POPESTIMATE2019 #Estimate from Wikipedia\n",
        "res = dfCovidtracking.loc[dfCovidtracking.date==dfCovidtracking.date.max(), ['positive', 'negative', 'pending','death', 'total']].sum()\n",
        "cir = res.positive/res.total\n",
        "cfr = res.death/res.positive\n",
        "p_aff= math.ceil(us_pop*cir)\n",
        "p_dead= math.ceil(p_aff*cfr)\n",
        "print(res)\n",
        "print(f\"Current Infection Rate {cir*100:2f}%\")\n",
        "print(f\"Percentage of US affected: {(res.positive+res.death)/us_pop*100:2f}%\")\n",
        "print(f\"Observed CFR: {cfr*100:2f}%\")\n",
        "print(f\"Percentage of US tested/affected: {(res.negative+res.positive+res.death)/us_pop*100:2f}%\")\n",
        "print(f\"Projected affected by cir = {p_aff:,d}\")\n",
        "print(f\"Projected killed = {p_dead:,d}\")\n"
      ],
      "execution_count": 0,
      "outputs": []
    },
    {
      "cell_type": "code",
      "metadata": {
        "id": "vihKU2ItzKWi",
        "colab_type": "code",
        "colab": {}
      },
      "source": [
        "!if [ ! -d \"loc\" ]; then \\\n",
        "git clone https://gist.github.com/rogerallen/1583593 --depth=1 --quiet loc; \\\n",
        "fi\n",
        "import sys\n",
        "sys.path.append(\"loc\")\n",
        "\n",
        "\n"
      ],
      "execution_count": 0,
      "outputs": []
    },
    {
      "cell_type": "code",
      "metadata": {
        "id": "66JPa3Sv0uH1",
        "colab_type": "code",
        "colab": {}
      },
      "source": [
        "import us_state_abbrev as us_abbr\n"
      ],
      "execution_count": 0,
      "outputs": []
    },
    {
      "cell_type": "code",
      "metadata": {
        "id": "JYnrS2eV2ohs",
        "colab_type": "code",
        "colab": {}
      },
      "source": [
        "dfStatePop = dfUSPop[dfUSPop.STATE != 0].copy()"
      ],
      "execution_count": 0,
      "outputs": []
    },
    {
      "cell_type": "code",
      "metadata": {
        "id": "43XHoUsx4Px7",
        "colab_type": "code",
        "colab": {}
      },
      "source": [
        "dfStatePop['ABBR']=dfStatePop.NAME.apply(lambda x: us_abbr.us_state_abbrev[x])"
      ],
      "execution_count": 0,
      "outputs": []
    },
    {
      "cell_type": "code",
      "metadata": {
        "id": "d08OerM_4vBo",
        "colab_type": "code",
        "colab": {}
      },
      "source": [
        "dfStatePop = dfStatePop.loc[:, ['ABBR', 'POPESTIMATE2019']]\n",
        "dfStatePop.set_index('ABBR', inplace=True)"
      ],
      "execution_count": 0,
      "outputs": []
    },
    {
      "cell_type": "code",
      "metadata": {
        "id": "4puN3Aea5qwp",
        "colab_type": "code",
        "colab": {}
      },
      "source": [
        "dfStateCovid = dfCovidtracking.loc[dfCovidtracking.date==dfCovidtracking.date.max()].set_index('state')"
      ],
      "execution_count": 0,
      "outputs": []
    },
    {
      "cell_type": "code",
      "metadata": {
        "id": "R2rumgN265Zr",
        "colab_type": "code",
        "colab": {}
      },
      "source": [
        "dfStateJoin = dfStateCovid.join(dfStatePop)"
      ],
      "execution_count": 0,
      "outputs": []
    },
    {
      "cell_type": "code",
      "metadata": {
        "id": "pgD43HXE7ayl",
        "colab_type": "code",
        "colab": {}
      },
      "source": [
        "pd.DataFrame([(dfStateJoin.positive / dfStateJoin.POPESTIMATE2019)*100, \\\n",
        "              (dfStateJoin.totalTestResults/ dfStateJoin.POPESTIMATE2019)*100],\\\n",
        "             index=['state_pos_pop','state_test_pop'] ).T.sort_values(by=\"state_pos_pop\", ascending=False)[:51]"
      ],
      "execution_count": 0,
      "outputs": []
    },
    {
      "cell_type": "code",
      "metadata": {
        "id": "-uy6plHZ84GH",
        "colab_type": "code",
        "colab": {}
      },
      "source": [
        "#print(f\"Current Infection Rate {res.positive/res.total*100:2f}%\")\n",
        "\n",
        "print(f\"Current Testing Percent {gbUSA.sum().tail(1).totalTestResults[0]/dfUSPop[dfUSPop.REGION=='0'].POPESTIMATE2019[0]*100:2f}%\")"
      ],
      "execution_count": 0,
      "outputs": []
    },
    {
      "cell_type": "code",
      "metadata": {
        "id": "Oe5ZLr99QRRc",
        "colab_type": "code",
        "colab": {}
      },
      "source": [
        "dfJHUData.columns"
      ],
      "execution_count": 0,
      "outputs": []
    },
    {
      "cell_type": "code",
      "metadata": {
        "id": "R8BhxDaaZG7J",
        "colab_type": "code",
        "colab": {}
      },
      "source": [
        "dfOwid = pd.read_csv(\"https://raw.githubusercontent.com/owid/covid-19-data/master/public/data/owid-covid-data.csv\")"
      ],
      "execution_count": 0,
      "outputs": []
    },
    {
      "cell_type": "code",
      "metadata": {
        "id": "P34L2uyifz16",
        "colab_type": "code",
        "colab": {}
      },
      "source": [
        "dfOwid.info()\n"
      ],
      "execution_count": 0,
      "outputs": []
    },
    {
      "cell_type": "code",
      "metadata": {
        "id": "KgJXmpC1g-Wz",
        "colab_type": "code",
        "colab": {}
      },
      "source": [
        "dfOwidTests = dfOwid.dropna(subset=['total_tests']).copy()"
      ],
      "execution_count": 0,
      "outputs": []
    },
    {
      "cell_type": "code",
      "metadata": {
        "id": "Qngm15gRiTJY",
        "colab_type": "code",
        "colab": {}
      },
      "source": [
        "dfOwidLatest = dfOwidTests.sort_values(by='date').groupby('iso_code').last()"
      ],
      "execution_count": 0,
      "outputs": []
    },
    {
      "cell_type": "code",
      "metadata": {
        "id": "kmMUQTWUioLl",
        "colab_type": "code",
        "colab": {}
      },
      "source": [
        "dfOwidLatest.total_tests.sort_values(ascending=False)"
      ],
      "execution_count": 0,
      "outputs": []
    },
    {
      "cell_type": "code",
      "metadata": {
        "id": "fJMhnvEtjjf8",
        "colab_type": "code",
        "colab": {}
      },
      "source": [
        "isUSA = dfOwidLatest.index.isin(['USA'])\n",
        "NonUSTests = dfOwidLatest[~isUSA].total_tests.sum()\n",
        "USTests = dfOwidLatest[isUSA].total_tests.sum()\n",
        "\n",
        "print(f\"Total testing done outside of USA: {NonUSTests:.0f}\")\n",
        "print(f\"Total tests done in USA : {USTests:.0f}\")\n",
        "print(f\"How many more times has the world tested more than the US: {NonUSTests/USTests:.1f}\")"
      ],
      "execution_count": 0,
      "outputs": []
    },
    {
      "cell_type": "code",
      "metadata": {
        "id": "PHEIbDtQnQ65",
        "colab_type": "code",
        "colab": {}
      },
      "source": [
        "dfOwidLatest[isUSA].sum()"
      ],
      "execution_count": 0,
      "outputs": []
    },
    {
      "cell_type": "code",
      "metadata": {
        "id": "kFfq__ymooV8",
        "colab_type": "code",
        "colab": {}
      },
      "source": [
        "dfOwidUSA = dfOwid.loc[dfOwid.iso_code=='USA']\n",
        "\n",
        "dfOwidUSA.set_index('date')[['new_cases','new_deaths']][-7:]"
      ],
      "execution_count": 0,
      "outputs": []
    },
    {
      "cell_type": "code",
      "metadata": {
        "id": "TLcrZlOtMrw4",
        "colab_type": "code",
        "colab": {}
      },
      "source": [
        "state = 'MN'\n",
        "dfRollingWeekState = dfCovidtracking.loc[dfCovidtracking.state==state].set_index('date')\\\n",
        ".rolling(window=7).sum()\n"
      ],
      "execution_count": 0,
      "outputs": []
    },
    {
      "cell_type": "code",
      "metadata": {
        "id": "DAPb9lcDM4sD",
        "colab_type": "code",
        "colab": {}
      },
      "source": [
        "plt = dfRollingWeekState.positiveIncrease.plot.line()"
      ],
      "execution_count": 0,
      "outputs": []
    },
    {
      "cell_type": "code",
      "metadata": {
        "id": "DJPb2rO9RIjF",
        "colab_type": "code",
        "colab": {}
      },
      "source": [
        "dfJHUData[dfJHUData.state=='Florida'].confirmed.sum()"
      ],
      "execution_count": 0,
      "outputs": []
    },
    {
      "cell_type": "code",
      "metadata": {
        "id": "a2_ggMU6VRNa",
        "colab_type": "code",
        "colab": {}
      },
      "source": [
        "doWGA = dfCovidtracking[dfCovidtracking.state=='GA'].set_index('date')[['deathIncrease', 'hospitalizedIncrease', 'negativeIncrease','positiveIncrease','totalTestResultsIncrease']]\\\n",
        ".groupby(lambda x: x.dayofweek)"
      ],
      "execution_count": 0,
      "outputs": []
    },
    {
      "cell_type": "code",
      "metadata": {
        "id": "a1KFQaErWpPL",
        "colab_type": "code",
        "colab": {}
      },
      "source": [
        "doWGA.sum()"
      ],
      "execution_count": 0,
      "outputs": []
    },
    {
      "cell_type": "code",
      "metadata": {
        "id": "kUejP2yOPteF",
        "colab_type": "code",
        "colab": {}
      },
      "source": [
        ""
      ],
      "execution_count": 0,
      "outputs": []
    },
    {
      "cell_type": "code",
      "metadata": {
        "id": "lZjK2vF2drfj",
        "colab_type": "code",
        "colab": {}
      },
      "source": [
        "!pip install sodapy"
      ],
      "execution_count": 0,
      "outputs": []
    },
    {
      "cell_type": "code",
      "metadata": {
        "id": "el7yqlqPeCTq",
        "colab_type": "code",
        "colab": {}
      },
      "source": [
        "from sodapy import Socrata"
      ],
      "execution_count": 0,
      "outputs": []
    },
    {
      "cell_type": "code",
      "metadata": {
        "id": "I2gyVu_3eL7N",
        "colab_type": "code",
        "colab": {}
      },
      "source": [
        "client = Socrata(\"data.sfgov.org\", \"LCSuN5PrqWkGtBe9dULkS75Rz\")"
      ],
      "execution_count": 0,
      "outputs": []
    },
    {
      "cell_type": "code",
      "metadata": {
        "id": "Mbe1Px3QiY7F",
        "colab_type": "code",
        "colab": {}
      },
      "source": [
        "results = client.get(\"tvq9-ec9w\")\n"
      ],
      "execution_count": 0,
      "outputs": []
    },
    {
      "cell_type": "code",
      "metadata": {
        "id": "A47Zezhciafb",
        "colab_type": "code",
        "colab": {}
      },
      "source": [
        "\n",
        "results_df = pd.DataFrame.from_records(results)"
      ],
      "execution_count": 0,
      "outputs": []
    },
    {
      "cell_type": "code",
      "metadata": {
        "id": "FJZ0ABLipnbD",
        "colab_type": "code",
        "colab": {}
      },
      "source": [
        "res = results_df.astype({'case_count':'int16'})"
      ],
      "execution_count": 0,
      "outputs": []
    },
    {
      "cell_type": "code",
      "metadata": {
        "id": "cPjtwsuup5TP",
        "colab_type": "code",
        "colab": {}
      },
      "source": [
        "res.groupby('date').sum().rolling(window=7).mean().plot.bar(figsize=(20,6))"
      ],
      "execution_count": 0,
      "outputs": []
    },
    {
      "cell_type": "code",
      "metadata": {
        "id": "HHZAHFvegx1q",
        "colab_type": "code",
        "colab": {}
      },
      "source": [
        ""
      ],
      "execution_count": 0,
      "outputs": []
    },
    {
      "cell_type": "markdown",
      "metadata": {
        "id": "PwfrkjQGgyzD",
        "colab_type": "text"
      },
      "source": [
        "# Marin Data"
      ]
    },
    {
      "cell_type": "code",
      "metadata": {
        "id": "w96oz6JAgz9i",
        "colab_type": "code",
        "colab": {}
      },
      "source": [
        "url = \"https://docs.google.com/spreadsheets/d/e/2PACX-1vSRmO2pStf7Ft1yYjDULluZXzUAczGK_B34hDemDBadGEY0HTLwlcadF2cHNEwmmvLetUTf-D2ruYCT/pub?gid=0&single=true&output=csv\"\n",
        "\n",
        "df = pd.read_csv(url, header=1, parse_dates=[0], usecols=[0,1,3,5,6,7], index_col=[0])"
      ],
      "execution_count": 0,
      "outputs": []
    },
    {
      "cell_type": "code",
      "metadata": {
        "id": "g11LXeYphBcC",
        "colab_type": "code",
        "colab": {}
      },
      "source": [
        "df.tail()"
      ],
      "execution_count": 0,
      "outputs": []
    },
    {
      "cell_type": "code",
      "metadata": {
        "id": "Ph8rfQgLhC-u",
        "colab_type": "code",
        "colab": {}
      },
      "source": [
        "df.positive - df.positive[1:]"
      ],
      "execution_count": 0,
      "outputs": []
    },
    {
      "cell_type": "code",
      "metadata": {
        "id": "j1Ecr7NOTYQW",
        "colab_type": "code",
        "colab": {}
      },
      "source": [
        "df.positive.diff().rolling(window=7).mean().plot.bar(figsize=(14,5))"
      ],
      "execution_count": 0,
      "outputs": []
    },
    {
      "cell_type": "code",
      "metadata": {
        "id": "Nbi1lHMPTxVq",
        "colab_type": "code",
        "colab": {}
      },
      "source": [
        "marin_pop = 252409\n",
        "\n",
        "print(f\"Marin Population Positive: {(df[-1:].positive[0]/marin_pop)*100:2.2f}%\")\n",
        "print(f\"Marin Population Tested: {(df[-1:].tested[0]/marin_pop)*100:2.2f}%\")"
      ],
      "execution_count": 0,
      "outputs": []
    },
    {
      "cell_type": "code",
      "metadata": {
        "id": "updTbryhV1Eg",
        "colab_type": "code",
        "colab": {}
      },
      "source": [
        "df.positive.diff().tail()"
      ],
      "execution_count": 0,
      "outputs": []
    },
    {
      "cell_type": "code",
      "metadata": {
        "id": "6Fe-tcUwYvoq",
        "colab_type": "code",
        "colab": {}
      },
      "source": [
        "df.positive.diff().rolling(window=7).mean().tail()"
      ],
      "execution_count": 0,
      "outputs": []
    },
    {
      "cell_type": "code",
      "metadata": {
        "id": "MKeqfnvYY7J1",
        "colab_type": "code",
        "colab": {}
      },
      "source": [
        ""
      ],
      "execution_count": 0,
      "outputs": []
    }
  ]
}