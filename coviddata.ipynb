{
  "nbformat": 4,
  "nbformat_minor": 0,
  "metadata": {
    "colab": {
      "name": "coviddata",
      "provenance": [],
      "toc_visible": true,
      "authorship_tag": "ABX9TyNrbY8XmiU0qqgbLiO87weB",
      "include_colab_link": true
    },
    "kernelspec": {
      "name": "python3",
      "display_name": "Python 3"
    }
  },
  "cells": [
    {
      "cell_type": "markdown",
      "metadata": {
        "id": "view-in-github",
        "colab_type": "text"
      },
      "source": [
        "<a href=\"https://colab.research.google.com/github/DMXMax/covid19/blob/gc_20200315/coviddata.ipynb\" target=\"_parent\"><img src=\"https://colab.research.google.com/assets/colab-badge.svg\" alt=\"Open In Colab\"/></a>"
      ]
    },
    {
      "cell_type": "code",
      "metadata": {
        "id": "jCzokJEPxFhv",
        "colab_type": "code",
        "colab": {}
      },
      "source": [
        "import numpy as np\n",
        "import pandas as pd\n",
        "import matplotlib.pyplot as plt\n",
        "import requests,json\n",
        "import datetime\n"
      ],
      "execution_count": 0,
      "outputs": []
    },
    {
      "cell_type": "code",
      "metadata": {
        "id": "zNKPT5Z8BXPT",
        "colab_type": "code",
        "colab": {}
      },
      "source": [
        "covidtrackingurl = \"https://covidtracking.com/api/states/daily\"\n",
        "response = requests.get(covidtrackingurl)\n",
        "dfCovidtracking = pd.DataFrame(response.json())\n",
        "dfCovidtracking.fillna(0, inplace=True)\n",
        "dfCovidtracking.negative = dfCovidtracking.negative.astype('int64')\n",
        "dfCovidtracking.positive = dfCovidtracking.positive.astype('int64')\n",
        "dfCovidtracking.pending = dfCovidtracking.pending.astype('int64')\n",
        "dfCovidtracking.total = dfCovidtracking.total.astype('int64')\n",
        "dfCovidtracking.death = dfCovidtracking.death.astype('int64')\n"
      ],
      "execution_count": 0,
      "outputs": []
    },
    {
      "cell_type": "code",
      "metadata": {
        "id": "8_Il5iuohC8_",
        "colab_type": "code",
        "colab": {}
      },
      "source": [
        "dfWHO = pd.read_csv(\"https://raw.githubusercontent.com/DMXMax/covid19/master/who/who_data.tsv\",\n",
        "                     sep='\\t', index_col='Date')"
      ],
      "execution_count": 0,
      "outputs": []
    },
    {
      "cell_type": "code",
      "metadata": {
        "id": "IHNp61EvdwQG",
        "colab_type": "code",
        "colab": {}
      },
      "source": [
        "jhurl = \"https://raw.githubusercontent.com/CSSEGISandData/COVID-19/master/\"+\\\n",
        "\"csse_covid_19_data/csse_covid_19_daily_reports/03-29-2020.csv\"\n",
        "dfJHUData = pd.read_csv(jhurl, header=0,\n",
        "                        names=['FIPS', 'city','state', 'country', 'last_update',\n",
        "                               'lat', 'lon','confirmed', 'dead', 'recovered','active', 'key'])"
      ],
      "execution_count": 0,
      "outputs": []
    },
    {
      "cell_type": "code",
      "metadata": {
        "id": "hrPlWJJCVtBR",
        "colab_type": "code",
        "colab": {}
      },
      "source": [
        "dfWHO = dfWHO.rename(columns={\"Confirmed\": \"confirmed\", \"Deaths\": \"who_deaths\"})\n",
        "dfWHO.index.names=['date']\n"
      ],
      "execution_count": 0,
      "outputs": []
    },
    {
      "cell_type": "code",
      "metadata": {
        "id": "HWHSGPq_yF50",
        "colab_type": "code",
        "outputId": "35a8dae0-5a1a-4765-cebd-3e3df71d864e",
        "colab": {
          "base_uri": "https://localhost:8080/",
          "height": 145
        }
      },
      "source": [
        "us_pop = 329968629  #Estimate from Wikipedia\n",
        "res = dfCovidtracking.loc[dfCovidtracking.date==dfCovidtracking.date.max(), ['positive', 'negative', 'pending', 'total']].sum()\n",
        "print(res)\n",
        "print(f\"Current Infection Rate {res.positive/res.total*100:2f}%\")\n",
        "print(f\"Percentage of US: {res.positive/us_pop*100:2f}%\")"
      ],
      "execution_count": 76,
      "outputs": [
        {
          "output_type": "stream",
          "text": [
            "positive    139061\n",
            "negative    692290\n",
            "pending      65549\n",
            "total       896900\n",
            "dtype: int64\n",
            "Current Infection Rate 15.504627%\n",
            "Percentage of US: 0.042144%\n"
          ],
          "name": "stdout"
        }
      ]
    },
    {
      "cell_type": "code",
      "metadata": {
        "colab_type": "code",
        "outputId": "e1cdd610-44c7-4409-b7ac-6b54cc7b9cb3",
        "id": "idyqfNddlLPv",
        "colab": {
          "base_uri": "https://localhost:8080/",
          "height": 348
        }
      },
      "source": [
        "dfCovidtracking.loc[dfCovidtracking.date==dfCovidtracking.date.max(),\\\n",
        "  ['state', 'positive', 'negative']].sort_values(by='positive', ascending=False).head(10)"
      ],
      "execution_count": 77,
      "outputs": [
        {
          "output_type": "execute_result",
          "data": {
            "text/html": [
              "<div>\n",
              "<style scoped>\n",
              "    .dataframe tbody tr th:only-of-type {\n",
              "        vertical-align: middle;\n",
              "    }\n",
              "\n",
              "    .dataframe tbody tr th {\n",
              "        vertical-align: top;\n",
              "    }\n",
              "\n",
              "    .dataframe thead th {\n",
              "        text-align: right;\n",
              "    }\n",
              "</style>\n",
              "<table border=\"1\" class=\"dataframe\">\n",
              "  <thead>\n",
              "    <tr style=\"text-align: right;\">\n",
              "      <th></th>\n",
              "      <th>state</th>\n",
              "      <th>positive</th>\n",
              "      <th>negative</th>\n",
              "    </tr>\n",
              "  </thead>\n",
              "  <tbody>\n",
              "    <tr>\n",
              "      <th>37</th>\n",
              "      <td>NY</td>\n",
              "      <td>59513</td>\n",
              "      <td>112847</td>\n",
              "    </tr>\n",
              "    <tr>\n",
              "      <th>34</th>\n",
              "      <td>NJ</td>\n",
              "      <td>13386</td>\n",
              "      <td>22216</td>\n",
              "    </tr>\n",
              "    <tr>\n",
              "      <th>5</th>\n",
              "      <td>CA</td>\n",
              "      <td>5708</td>\n",
              "      <td>20549</td>\n",
              "    </tr>\n",
              "    <tr>\n",
              "      <th>24</th>\n",
              "      <td>MI</td>\n",
              "      <td>5486</td>\n",
              "      <td>11893</td>\n",
              "    </tr>\n",
              "    <tr>\n",
              "      <th>21</th>\n",
              "      <td>MA</td>\n",
              "      <td>4955</td>\n",
              "      <td>34111</td>\n",
              "    </tr>\n",
              "    <tr>\n",
              "      <th>16</th>\n",
              "      <td>IL</td>\n",
              "      <td>4596</td>\n",
              "      <td>23166</td>\n",
              "    </tr>\n",
              "    <tr>\n",
              "      <th>52</th>\n",
              "      <td>WA</td>\n",
              "      <td>4310</td>\n",
              "      <td>54896</td>\n",
              "    </tr>\n",
              "    <tr>\n",
              "      <th>10</th>\n",
              "      <td>FL</td>\n",
              "      <td>4246</td>\n",
              "      <td>39070</td>\n",
              "    </tr>\n",
              "    <tr>\n",
              "      <th>20</th>\n",
              "      <td>LA</td>\n",
              "      <td>3540</td>\n",
              "      <td>24331</td>\n",
              "    </tr>\n",
              "    <tr>\n",
              "      <th>41</th>\n",
              "      <td>PA</td>\n",
              "      <td>3394</td>\n",
              "      <td>30061</td>\n",
              "    </tr>\n",
              "  </tbody>\n",
              "</table>\n",
              "</div>"
            ],
            "text/plain": [
              "   state  positive  negative\n",
              "37    NY     59513    112847\n",
              "34    NJ     13386     22216\n",
              "5     CA      5708     20549\n",
              "24    MI      5486     11893\n",
              "21    MA      4955     34111\n",
              "16    IL      4596     23166\n",
              "52    WA      4310     54896\n",
              "10    FL      4246     39070\n",
              "20    LA      3540     24331\n",
              "41    PA      3394     30061"
            ]
          },
          "metadata": {
            "tags": []
          },
          "execution_count": 77
        }
      ]
    },
    {
      "cell_type": "code",
      "metadata": {
        "id": "rFOHyOwb4bcm",
        "colab_type": "code",
        "colab": {}
      },
      "source": [
        "gbUSA = dfCovidtracking.groupby(['date'])\n",
        "gbCA = dfCovidtracking[dfCovidtracking.state=='CA'].groupby(['date'])\n",
        "\n",
        "dfUSAPos = gbUSA.positive.sum().reset_index().copy()\n",
        "dfCAPos = gbCA.positive.sum().reset_index().copy()\n",
        "\n",
        "#This will calculate the percentage each day is of the total. In a flattening, this will be more even\n",
        "# In a high growth situation, you'll higher percentages at the tail. \n",
        "dfUSAPos['PCT']= dfUSAPos.positive/dfUSAPos.max().positive\n",
        "dfCAPos['PCT']=dfCAPos.positive/dfCAPos.max().positive"
      ],
      "execution_count": 0,
      "outputs": []
    },
    {
      "cell_type": "code",
      "metadata": {
        "colab_type": "code",
        "outputId": "0aa9917e-c142-4a82-b091-e8526c338949",
        "id": "BHKhtPRozVFF",
        "colab": {
          "base_uri": "https://localhost:8080/",
          "height": 258
        }
      },
      "source": [
        "dfUSAPos[-7:]"
      ],
      "execution_count": 79,
      "outputs": [
        {
          "output_type": "execute_result",
          "data": {
            "text/html": [
              "<div>\n",
              "<style scoped>\n",
              "    .dataframe tbody tr th:only-of-type {\n",
              "        vertical-align: middle;\n",
              "    }\n",
              "\n",
              "    .dataframe tbody tr th {\n",
              "        vertical-align: top;\n",
              "    }\n",
              "\n",
              "    .dataframe thead th {\n",
              "        text-align: right;\n",
              "    }\n",
              "</style>\n",
              "<table border=\"1\" class=\"dataframe\">\n",
              "  <thead>\n",
              "    <tr style=\"text-align: right;\">\n",
              "      <th></th>\n",
              "      <th>date</th>\n",
              "      <th>positive</th>\n",
              "      <th>PCT</th>\n",
              "    </tr>\n",
              "  </thead>\n",
              "  <tbody>\n",
              "    <tr>\n",
              "      <th>19</th>\n",
              "      <td>20200323</td>\n",
              "      <td>42152</td>\n",
              "      <td>0.303119</td>\n",
              "    </tr>\n",
              "    <tr>\n",
              "      <th>20</th>\n",
              "      <td>20200324</td>\n",
              "      <td>51954</td>\n",
              "      <td>0.373606</td>\n",
              "    </tr>\n",
              "    <tr>\n",
              "      <th>21</th>\n",
              "      <td>20200325</td>\n",
              "      <td>63928</td>\n",
              "      <td>0.459712</td>\n",
              "    </tr>\n",
              "    <tr>\n",
              "      <th>22</th>\n",
              "      <td>20200326</td>\n",
              "      <td>80735</td>\n",
              "      <td>0.580573</td>\n",
              "    </tr>\n",
              "    <tr>\n",
              "      <th>23</th>\n",
              "      <td>20200327</td>\n",
              "      <td>99413</td>\n",
              "      <td>0.714888</td>\n",
              "    </tr>\n",
              "    <tr>\n",
              "      <th>24</th>\n",
              "      <td>20200328</td>\n",
              "      <td>118234</td>\n",
              "      <td>0.850231</td>\n",
              "    </tr>\n",
              "    <tr>\n",
              "      <th>25</th>\n",
              "      <td>20200329</td>\n",
              "      <td>139061</td>\n",
              "      <td>1.000000</td>\n",
              "    </tr>\n",
              "  </tbody>\n",
              "</table>\n",
              "</div>"
            ],
            "text/plain": [
              "        date  positive       PCT\n",
              "19  20200323     42152  0.303119\n",
              "20  20200324     51954  0.373606\n",
              "21  20200325     63928  0.459712\n",
              "22  20200326     80735  0.580573\n",
              "23  20200327     99413  0.714888\n",
              "24  20200328    118234  0.850231\n",
              "25  20200329    139061  1.000000"
            ]
          },
          "metadata": {
            "tags": []
          },
          "execution_count": 79
        }
      ]
    },
    {
      "cell_type": "code",
      "metadata": {
        "colab_type": "code",
        "outputId": "05ef5e73-7c8f-4680-8432-31da7a26e72e",
        "id": "EI4hKgZ5zUd8",
        "colab": {
          "base_uri": "https://localhost:8080/",
          "height": 258
        }
      },
      "source": [
        "dfCAPos[-7:]"
      ],
      "execution_count": 80,
      "outputs": [
        {
          "output_type": "execute_result",
          "data": {
            "text/html": [
              "<div>\n",
              "<style scoped>\n",
              "    .dataframe tbody tr th:only-of-type {\n",
              "        vertical-align: middle;\n",
              "    }\n",
              "\n",
              "    .dataframe tbody tr th {\n",
              "        vertical-align: top;\n",
              "    }\n",
              "\n",
              "    .dataframe thead th {\n",
              "        text-align: right;\n",
              "    }\n",
              "</style>\n",
              "<table border=\"1\" class=\"dataframe\">\n",
              "  <thead>\n",
              "    <tr style=\"text-align: right;\">\n",
              "      <th></th>\n",
              "      <th>date</th>\n",
              "      <th>positive</th>\n",
              "      <th>PCT</th>\n",
              "    </tr>\n",
              "  </thead>\n",
              "  <tbody>\n",
              "    <tr>\n",
              "      <th>19</th>\n",
              "      <td>20200323</td>\n",
              "      <td>1733</td>\n",
              "      <td>0.303609</td>\n",
              "    </tr>\n",
              "    <tr>\n",
              "      <th>20</th>\n",
              "      <td>20200324</td>\n",
              "      <td>2102</td>\n",
              "      <td>0.368255</td>\n",
              "    </tr>\n",
              "    <tr>\n",
              "      <th>21</th>\n",
              "      <td>20200325</td>\n",
              "      <td>2355</td>\n",
              "      <td>0.412579</td>\n",
              "    </tr>\n",
              "    <tr>\n",
              "      <th>22</th>\n",
              "      <td>20200326</td>\n",
              "      <td>3006</td>\n",
              "      <td>0.526629</td>\n",
              "    </tr>\n",
              "    <tr>\n",
              "      <th>23</th>\n",
              "      <td>20200327</td>\n",
              "      <td>3879</td>\n",
              "      <td>0.679573</td>\n",
              "    </tr>\n",
              "    <tr>\n",
              "      <th>24</th>\n",
              "      <td>20200328</td>\n",
              "      <td>4643</td>\n",
              "      <td>0.813420</td>\n",
              "    </tr>\n",
              "    <tr>\n",
              "      <th>25</th>\n",
              "      <td>20200329</td>\n",
              "      <td>5708</td>\n",
              "      <td>1.000000</td>\n",
              "    </tr>\n",
              "  </tbody>\n",
              "</table>\n",
              "</div>"
            ],
            "text/plain": [
              "        date  positive       PCT\n",
              "19  20200323      1733  0.303609\n",
              "20  20200324      2102  0.368255\n",
              "21  20200325      2355  0.412579\n",
              "22  20200326      3006  0.526629\n",
              "23  20200327      3879  0.679573\n",
              "24  20200328      4643  0.813420\n",
              "25  20200329      5708  1.000000"
            ]
          },
          "metadata": {
            "tags": []
          },
          "execution_count": 80
        }
      ]
    },
    {
      "cell_type": "code",
      "metadata": {
        "id": "BTvuZKJN0RoI",
        "colab_type": "code",
        "outputId": "5c51baf7-8a72-4864-ef7d-eb42feda0b97",
        "colab": {
          "base_uri": "https://localhost:8080/",
          "height": 248
        }
      },
      "source": [
        "gbUSA.sum()[-5:]"
      ],
      "execution_count": 81,
      "outputs": [
        {
          "output_type": "execute_result",
          "data": {
            "text/html": [
              "<div>\n",
              "<style scoped>\n",
              "    .dataframe tbody tr th:only-of-type {\n",
              "        vertical-align: middle;\n",
              "    }\n",
              "\n",
              "    .dataframe tbody tr th {\n",
              "        vertical-align: top;\n",
              "    }\n",
              "\n",
              "    .dataframe thead th {\n",
              "        text-align: right;\n",
              "    }\n",
              "</style>\n",
              "<table border=\"1\" class=\"dataframe\">\n",
              "  <thead>\n",
              "    <tr style=\"text-align: right;\">\n",
              "      <th></th>\n",
              "      <th>positive</th>\n",
              "      <th>negative</th>\n",
              "      <th>pending</th>\n",
              "      <th>hospitalized</th>\n",
              "      <th>death</th>\n",
              "      <th>total</th>\n",
              "      <th>totalTestResults</th>\n",
              "      <th>deathIncrease</th>\n",
              "      <th>hospitalizedIncrease</th>\n",
              "      <th>negativeIncrease</th>\n",
              "      <th>positiveIncrease</th>\n",
              "      <th>totalTestResultsIncrease</th>\n",
              "    </tr>\n",
              "    <tr>\n",
              "      <th>date</th>\n",
              "      <th></th>\n",
              "      <th></th>\n",
              "      <th></th>\n",
              "      <th></th>\n",
              "      <th></th>\n",
              "      <th></th>\n",
              "      <th></th>\n",
              "      <th></th>\n",
              "      <th></th>\n",
              "      <th></th>\n",
              "      <th></th>\n",
              "      <th></th>\n",
              "    </tr>\n",
              "  </thead>\n",
              "  <tbody>\n",
              "    <tr>\n",
              "      <th>20200325</th>\n",
              "      <td>63928</td>\n",
              "      <td>357604</td>\n",
              "      <td>51235</td>\n",
              "      <td>6136.0</td>\n",
              "      <td>900</td>\n",
              "      <td>472767</td>\n",
              "      <td>421532</td>\n",
              "      <td>225.0</td>\n",
              "      <td>1668.0</td>\n",
              "      <td>64846.0</td>\n",
              "      <td>11974.0</td>\n",
              "      <td>76820.0</td>\n",
              "    </tr>\n",
              "    <tr>\n",
              "      <th>20200326</th>\n",
              "      <td>80735</td>\n",
              "      <td>438603</td>\n",
              "      <td>60251</td>\n",
              "      <td>10131.0</td>\n",
              "      <td>1163</td>\n",
              "      <td>579589</td>\n",
              "      <td>519338</td>\n",
              "      <td>264.0</td>\n",
              "      <td>3996.0</td>\n",
              "      <td>80999.0</td>\n",
              "      <td>16807.0</td>\n",
              "      <td>97806.0</td>\n",
              "    </tr>\n",
              "    <tr>\n",
              "      <th>20200327</th>\n",
              "      <td>99413</td>\n",
              "      <td>527220</td>\n",
              "      <td>60094</td>\n",
              "      <td>13717.0</td>\n",
              "      <td>1530</td>\n",
              "      <td>686727</td>\n",
              "      <td>626633</td>\n",
              "      <td>367.0</td>\n",
              "      <td>3652.0</td>\n",
              "      <td>88617.0</td>\n",
              "      <td>18678.0</td>\n",
              "      <td>107295.0</td>\n",
              "    </tr>\n",
              "    <tr>\n",
              "      <th>20200328</th>\n",
              "      <td>118234</td>\n",
              "      <td>617470</td>\n",
              "      <td>65712</td>\n",
              "      <td>16729.0</td>\n",
              "      <td>1965</td>\n",
              "      <td>801416</td>\n",
              "      <td>735704</td>\n",
              "      <td>435.0</td>\n",
              "      <td>3012.0</td>\n",
              "      <td>90250.0</td>\n",
              "      <td>18821.0</td>\n",
              "      <td>109071.0</td>\n",
              "    </tr>\n",
              "    <tr>\n",
              "      <th>20200329</th>\n",
              "      <td>139061</td>\n",
              "      <td>692290</td>\n",
              "      <td>65549</td>\n",
              "      <td>19730.0</td>\n",
              "      <td>2428</td>\n",
              "      <td>896900</td>\n",
              "      <td>831351</td>\n",
              "      <td>463.0</td>\n",
              "      <td>3001.0</td>\n",
              "      <td>74820.0</td>\n",
              "      <td>20827.0</td>\n",
              "      <td>95647.0</td>\n",
              "    </tr>\n",
              "  </tbody>\n",
              "</table>\n",
              "</div>"
            ],
            "text/plain": [
              "          positive  negative  ...  positiveIncrease  totalTestResultsIncrease\n",
              "date                          ...                                            \n",
              "20200325     63928    357604  ...           11974.0                   76820.0\n",
              "20200326     80735    438603  ...           16807.0                   97806.0\n",
              "20200327     99413    527220  ...           18678.0                  107295.0\n",
              "20200328    118234    617470  ...           18821.0                  109071.0\n",
              "20200329    139061    692290  ...           20827.0                   95647.0\n",
              "\n",
              "[5 rows x 12 columns]"
            ]
          },
          "metadata": {
            "tags": []
          },
          "execution_count": 81
        }
      ]
    },
    {
      "cell_type": "code",
      "metadata": {
        "id": "bjpo-qlGoA7A",
        "colab_type": "code",
        "outputId": "c10e0078-015a-4ae7-f167-994e81dbafff",
        "colab": {
          "base_uri": "https://localhost:8080/",
          "height": 248
        }
      },
      "source": [
        "gbCA.sum()[-5:]"
      ],
      "execution_count": 82,
      "outputs": [
        {
          "output_type": "execute_result",
          "data": {
            "text/html": [
              "<div>\n",
              "<style scoped>\n",
              "    .dataframe tbody tr th:only-of-type {\n",
              "        vertical-align: middle;\n",
              "    }\n",
              "\n",
              "    .dataframe tbody tr th {\n",
              "        vertical-align: top;\n",
              "    }\n",
              "\n",
              "    .dataframe thead th {\n",
              "        text-align: right;\n",
              "    }\n",
              "</style>\n",
              "<table border=\"1\" class=\"dataframe\">\n",
              "  <thead>\n",
              "    <tr style=\"text-align: right;\">\n",
              "      <th></th>\n",
              "      <th>positive</th>\n",
              "      <th>negative</th>\n",
              "      <th>pending</th>\n",
              "      <th>hospitalized</th>\n",
              "      <th>death</th>\n",
              "      <th>total</th>\n",
              "      <th>totalTestResults</th>\n",
              "      <th>deathIncrease</th>\n",
              "      <th>hospitalizedIncrease</th>\n",
              "      <th>negativeIncrease</th>\n",
              "      <th>positiveIncrease</th>\n",
              "      <th>totalTestResultsIncrease</th>\n",
              "    </tr>\n",
              "    <tr>\n",
              "      <th>date</th>\n",
              "      <th></th>\n",
              "      <th></th>\n",
              "      <th></th>\n",
              "      <th></th>\n",
              "      <th></th>\n",
              "      <th></th>\n",
              "      <th></th>\n",
              "      <th></th>\n",
              "      <th></th>\n",
              "      <th></th>\n",
              "      <th></th>\n",
              "      <th></th>\n",
              "    </tr>\n",
              "  </thead>\n",
              "  <tbody>\n",
              "    <tr>\n",
              "      <th>20200325</th>\n",
              "      <td>2355</td>\n",
              "      <td>15921</td>\n",
              "      <td>48600</td>\n",
              "      <td>0.0</td>\n",
              "      <td>53</td>\n",
              "      <td>66876</td>\n",
              "      <td>18276</td>\n",
              "      <td>13.0</td>\n",
              "      <td>0.0</td>\n",
              "      <td>2469.0</td>\n",
              "      <td>253.0</td>\n",
              "      <td>2722.0</td>\n",
              "    </tr>\n",
              "    <tr>\n",
              "      <th>20200326</th>\n",
              "      <td>3006</td>\n",
              "      <td>17380</td>\n",
              "      <td>57400</td>\n",
              "      <td>0.0</td>\n",
              "      <td>65</td>\n",
              "      <td>77786</td>\n",
              "      <td>20386</td>\n",
              "      <td>12.0</td>\n",
              "      <td>0.0</td>\n",
              "      <td>1459.0</td>\n",
              "      <td>651.0</td>\n",
              "      <td>2110.0</td>\n",
              "    </tr>\n",
              "    <tr>\n",
              "      <th>20200327</th>\n",
              "      <td>3879</td>\n",
              "      <td>17380</td>\n",
              "      <td>57400</td>\n",
              "      <td>746.0</td>\n",
              "      <td>78</td>\n",
              "      <td>78659</td>\n",
              "      <td>21259</td>\n",
              "      <td>13.0</td>\n",
              "      <td>746.0</td>\n",
              "      <td>0.0</td>\n",
              "      <td>873.0</td>\n",
              "      <td>873.0</td>\n",
              "    </tr>\n",
              "    <tr>\n",
              "      <th>20200328</th>\n",
              "      <td>4643</td>\n",
              "      <td>20549</td>\n",
              "      <td>64400</td>\n",
              "      <td>1034.0</td>\n",
              "      <td>101</td>\n",
              "      <td>89592</td>\n",
              "      <td>25192</td>\n",
              "      <td>23.0</td>\n",
              "      <td>288.0</td>\n",
              "      <td>3169.0</td>\n",
              "      <td>764.0</td>\n",
              "      <td>3933.0</td>\n",
              "    </tr>\n",
              "    <tr>\n",
              "      <th>20200329</th>\n",
              "      <td>5708</td>\n",
              "      <td>20549</td>\n",
              "      <td>64400</td>\n",
              "      <td>1034.0</td>\n",
              "      <td>123</td>\n",
              "      <td>90657</td>\n",
              "      <td>26257</td>\n",
              "      <td>22.0</td>\n",
              "      <td>0.0</td>\n",
              "      <td>0.0</td>\n",
              "      <td>1065.0</td>\n",
              "      <td>1065.0</td>\n",
              "    </tr>\n",
              "  </tbody>\n",
              "</table>\n",
              "</div>"
            ],
            "text/plain": [
              "          positive  negative  ...  positiveIncrease  totalTestResultsIncrease\n",
              "date                          ...                                            \n",
              "20200325      2355     15921  ...             253.0                    2722.0\n",
              "20200326      3006     17380  ...             651.0                    2110.0\n",
              "20200327      3879     17380  ...             873.0                     873.0\n",
              "20200328      4643     20549  ...             764.0                    3933.0\n",
              "20200329      5708     20549  ...            1065.0                    1065.0\n",
              "\n",
              "[5 rows x 12 columns]"
            ]
          },
          "metadata": {
            "tags": []
          },
          "execution_count": 82
        }
      ]
    },
    {
      "cell_type": "code",
      "metadata": {
        "id": "916a0sCVdNRQ",
        "colab_type": "code",
        "outputId": "008743ab-79e2-499b-e7ce-1294131f3317",
        "colab": {
          "base_uri": "https://localhost:8080/",
          "height": 279
        }
      },
      "source": [
        "x=gbUSA.sum().loc[:, ['positive', 'negative','death','total']].plot.line()"
      ],
      "execution_count": 83,
      "outputs": [
        {
          "output_type": "display_data",
          "data": {
            "image/png": "[encoded data removed]",
            "text/plain": [
              "<Figure size 432x288 with 1 Axes>"
            ]
          },
          "metadata": {
            "tags": []
          }
        }
      ]
    },
    {
      "cell_type": "code",
      "metadata": {
        "id": "WewkySHXaLc4",
        "colab_type": "code",
        "outputId": "5ed314c5-4e78-4877-a909-35734483e305",
        "colab": {
          "base_uri": "https://localhost:8080/",
          "height": 498
        }
      },
      "source": [
        "dfWHO[-14:]"
      ],
      "execution_count": 84,
      "outputs": [
        {
          "output_type": "execute_result",
          "data": {
            "text/html": [
              "<div>\n",
              "<style scoped>\n",
              "    .dataframe tbody tr th:only-of-type {\n",
              "        vertical-align: middle;\n",
              "    }\n",
              "\n",
              "    .dataframe tbody tr th {\n",
              "        vertical-align: top;\n",
              "    }\n",
              "\n",
              "    .dataframe thead th {\n",
              "        text-align: right;\n",
              "    }\n",
              "</style>\n",
              "<table border=\"1\" class=\"dataframe\">\n",
              "  <thead>\n",
              "    <tr style=\"text-align: right;\">\n",
              "      <th></th>\n",
              "      <th>confirmed</th>\n",
              "      <th>who_deaths</th>\n",
              "    </tr>\n",
              "    <tr>\n",
              "      <th>date</th>\n",
              "      <th></th>\n",
              "      <th></th>\n",
              "    </tr>\n",
              "  </thead>\n",
              "  <tbody>\n",
              "    <tr>\n",
              "      <th>20200316</th>\n",
              "      <td>1678</td>\n",
              "      <td>41</td>\n",
              "    </tr>\n",
              "    <tr>\n",
              "      <th>20200317</th>\n",
              "      <td>3503</td>\n",
              "      <td>58</td>\n",
              "    </tr>\n",
              "    <tr>\n",
              "      <th>20200318</th>\n",
              "      <td>3536</td>\n",
              "      <td>58</td>\n",
              "    </tr>\n",
              "    <tr>\n",
              "      <th>20200319</th>\n",
              "      <td>7087</td>\n",
              "      <td>100</td>\n",
              "    </tr>\n",
              "    <tr>\n",
              "      <th>20200320</th>\n",
              "      <td>10442</td>\n",
              "      <td>150</td>\n",
              "    </tr>\n",
              "    <tr>\n",
              "      <th>20200321</th>\n",
              "      <td>15219</td>\n",
              "      <td>201</td>\n",
              "    </tr>\n",
              "    <tr>\n",
              "      <th>20200322</th>\n",
              "      <td>15219</td>\n",
              "      <td>201</td>\n",
              "    </tr>\n",
              "    <tr>\n",
              "      <th>20200323</th>\n",
              "      <td>31573</td>\n",
              "      <td>402</td>\n",
              "    </tr>\n",
              "    <tr>\n",
              "      <th>20200324</th>\n",
              "      <td>42164</td>\n",
              "      <td>471</td>\n",
              "    </tr>\n",
              "    <tr>\n",
              "      <th>20200325</th>\n",
              "      <td>51914</td>\n",
              "      <td>673</td>\n",
              "    </tr>\n",
              "    <tr>\n",
              "      <th>20200326</th>\n",
              "      <td>63570</td>\n",
              "      <td>884</td>\n",
              "    </tr>\n",
              "    <tr>\n",
              "      <th>20200327</th>\n",
              "      <td>68334</td>\n",
              "      <td>991</td>\n",
              "    </tr>\n",
              "    <tr>\n",
              "      <th>20200328</th>\n",
              "      <td>85228</td>\n",
              "      <td>1243</td>\n",
              "    </tr>\n",
              "    <tr>\n",
              "      <th>20200329</th>\n",
              "      <td>103321</td>\n",
              "      <td>1668</td>\n",
              "    </tr>\n",
              "  </tbody>\n",
              "</table>\n",
              "</div>"
            ],
            "text/plain": [
              "          confirmed  who_deaths\n",
              "date                           \n",
              "20200316       1678          41\n",
              "20200317       3503          58\n",
              "20200318       3536          58\n",
              "20200319       7087         100\n",
              "20200320      10442         150\n",
              "20200321      15219         201\n",
              "20200322      15219         201\n",
              "20200323      31573         402\n",
              "20200324      42164         471\n",
              "20200325      51914         673\n",
              "20200326      63570         884\n",
              "20200327      68334         991\n",
              "20200328      85228        1243\n",
              "20200329     103321        1668"
            ]
          },
          "metadata": {
            "tags": []
          },
          "execution_count": 84
        }
      ]
    },
    {
      "cell_type": "code",
      "metadata": {
        "id": "Ftv2uSph2y7_",
        "colab_type": "code",
        "outputId": "85a65402-6d0a-4529-f182-5836b1097d7f",
        "colab": {
          "base_uri": "https://localhost:8080/",
          "height": 297
        }
      },
      "source": [
        "dfResults = gbUSA.sum().join(dfWHO, how='left', rsuffix='_who' )\n",
        "dfResults.loc[:, ['positive', 'confirmed']].plot.line()"
      ],
      "execution_count": 85,
      "outputs": [
        {
          "output_type": "execute_result",
          "data": {
            "text/plain": [
              "<matplotlib.axes._subplots.AxesSubplot at 0x7f134145ecc0>"
            ]
          },
          "metadata": {
            "tags": []
          },
          "execution_count": 85
        },
        {
          "output_type": "display_data",
          "data": {
            "image/png": "[encoded data removed]",
            "text/plain": [
              "<Figure size 432x288 with 1 Axes>"
            ]
          },
          "metadata": {
            "tags": []
          }
        }
      ]
    },
    {
      "cell_type": "code",
      "metadata": {
        "id": "DTXXmezEHYPV",
        "colab_type": "code",
        "colab": {}
      },
      "source": [
        ""
      ],
      "execution_count": 0,
      "outputs": []
    },
    {
      "cell_type": "code",
      "metadata": {
        "colab_type": "code",
        "outputId": "e871e88b-a2d8-462f-b235-709450b432a7",
        "id": "55lq16z8w_Ec",
        "colab": {
          "base_uri": "https://localhost:8080/",
          "height": 308
        }
      },
      "source": [
        "gbCA.sum()[-7:]"
      ],
      "execution_count": 86,
      "outputs": [
        {
          "output_type": "execute_result",
          "data": {
            "text/html": [
              "<div>\n",
              "<style scoped>\n",
              "    .dataframe tbody tr th:only-of-type {\n",
              "        vertical-align: middle;\n",
              "    }\n",
              "\n",
              "    .dataframe tbody tr th {\n",
              "        vertical-align: top;\n",
              "    }\n",
              "\n",
              "    .dataframe thead th {\n",
              "        text-align: right;\n",
              "    }\n",
              "</style>\n",
              "<table border=\"1\" class=\"dataframe\">\n",
              "  <thead>\n",
              "    <tr style=\"text-align: right;\">\n",
              "      <th></th>\n",
              "      <th>positive</th>\n",
              "      <th>negative</th>\n",
              "      <th>pending</th>\n",
              "      <th>hospitalized</th>\n",
              "      <th>death</th>\n",
              "      <th>total</th>\n",
              "      <th>totalTestResults</th>\n",
              "      <th>deathIncrease</th>\n",
              "      <th>hospitalizedIncrease</th>\n",
              "      <th>negativeIncrease</th>\n",
              "      <th>positiveIncrease</th>\n",
              "      <th>totalTestResultsIncrease</th>\n",
              "    </tr>\n",
              "    <tr>\n",
              "      <th>date</th>\n",
              "      <th></th>\n",
              "      <th></th>\n",
              "      <th></th>\n",
              "      <th></th>\n",
              "      <th></th>\n",
              "      <th></th>\n",
              "      <th></th>\n",
              "      <th></th>\n",
              "      <th></th>\n",
              "      <th></th>\n",
              "      <th></th>\n",
              "      <th></th>\n",
              "    </tr>\n",
              "  </thead>\n",
              "  <tbody>\n",
              "    <tr>\n",
              "      <th>20200323</th>\n",
              "      <td>1733</td>\n",
              "      <td>12567</td>\n",
              "      <td>12100</td>\n",
              "      <td>0.0</td>\n",
              "      <td>27</td>\n",
              "      <td>26400</td>\n",
              "      <td>14300</td>\n",
              "      <td>0.0</td>\n",
              "      <td>0.0</td>\n",
              "      <td>1263.0</td>\n",
              "      <td>197.0</td>\n",
              "      <td>1460.0</td>\n",
              "    </tr>\n",
              "    <tr>\n",
              "      <th>20200324</th>\n",
              "      <td>2102</td>\n",
              "      <td>13452</td>\n",
              "      <td>12100</td>\n",
              "      <td>0.0</td>\n",
              "      <td>40</td>\n",
              "      <td>27654</td>\n",
              "      <td>15554</td>\n",
              "      <td>13.0</td>\n",
              "      <td>0.0</td>\n",
              "      <td>885.0</td>\n",
              "      <td>369.0</td>\n",
              "      <td>1254.0</td>\n",
              "    </tr>\n",
              "    <tr>\n",
              "      <th>20200325</th>\n",
              "      <td>2355</td>\n",
              "      <td>15921</td>\n",
              "      <td>48600</td>\n",
              "      <td>0.0</td>\n",
              "      <td>53</td>\n",
              "      <td>66876</td>\n",
              "      <td>18276</td>\n",
              "      <td>13.0</td>\n",
              "      <td>0.0</td>\n",
              "      <td>2469.0</td>\n",
              "      <td>253.0</td>\n",
              "      <td>2722.0</td>\n",
              "    </tr>\n",
              "    <tr>\n",
              "      <th>20200326</th>\n",
              "      <td>3006</td>\n",
              "      <td>17380</td>\n",
              "      <td>57400</td>\n",
              "      <td>0.0</td>\n",
              "      <td>65</td>\n",
              "      <td>77786</td>\n",
              "      <td>20386</td>\n",
              "      <td>12.0</td>\n",
              "      <td>0.0</td>\n",
              "      <td>1459.0</td>\n",
              "      <td>651.0</td>\n",
              "      <td>2110.0</td>\n",
              "    </tr>\n",
              "    <tr>\n",
              "      <th>20200327</th>\n",
              "      <td>3879</td>\n",
              "      <td>17380</td>\n",
              "      <td>57400</td>\n",
              "      <td>746.0</td>\n",
              "      <td>78</td>\n",
              "      <td>78659</td>\n",
              "      <td>21259</td>\n",
              "      <td>13.0</td>\n",
              "      <td>746.0</td>\n",
              "      <td>0.0</td>\n",
              "      <td>873.0</td>\n",
              "      <td>873.0</td>\n",
              "    </tr>\n",
              "    <tr>\n",
              "      <th>20200328</th>\n",
              "      <td>4643</td>\n",
              "      <td>20549</td>\n",
              "      <td>64400</td>\n",
              "      <td>1034.0</td>\n",
              "      <td>101</td>\n",
              "      <td>89592</td>\n",
              "      <td>25192</td>\n",
              "      <td>23.0</td>\n",
              "      <td>288.0</td>\n",
              "      <td>3169.0</td>\n",
              "      <td>764.0</td>\n",
              "      <td>3933.0</td>\n",
              "    </tr>\n",
              "    <tr>\n",
              "      <th>20200329</th>\n",
              "      <td>5708</td>\n",
              "      <td>20549</td>\n",
              "      <td>64400</td>\n",
              "      <td>1034.0</td>\n",
              "      <td>123</td>\n",
              "      <td>90657</td>\n",
              "      <td>26257</td>\n",
              "      <td>22.0</td>\n",
              "      <td>0.0</td>\n",
              "      <td>0.0</td>\n",
              "      <td>1065.0</td>\n",
              "      <td>1065.0</td>\n",
              "    </tr>\n",
              "  </tbody>\n",
              "</table>\n",
              "</div>"
            ],
            "text/plain": [
              "          positive  negative  ...  positiveIncrease  totalTestResultsIncrease\n",
              "date                          ...                                            \n",
              "20200323      1733     12567  ...             197.0                    1460.0\n",
              "20200324      2102     13452  ...             369.0                    1254.0\n",
              "20200325      2355     15921  ...             253.0                    2722.0\n",
              "20200326      3006     17380  ...             651.0                    2110.0\n",
              "20200327      3879     17380  ...             873.0                     873.0\n",
              "20200328      4643     20549  ...             764.0                    3933.0\n",
              "20200329      5708     20549  ...            1065.0                    1065.0\n",
              "\n",
              "[7 rows x 12 columns]"
            ]
          },
          "metadata": {
            "tags": []
          },
          "execution_count": 86
        }
      ]
    },
    {
      "cell_type": "code",
      "metadata": {
        "id": "3WBkdfv2eLEc",
        "colab_type": "code",
        "outputId": "99753c0b-aef5-48d2-8927-04968d26c552",
        "colab": {
          "base_uri": "https://localhost:8080/",
          "height": 72
        }
      },
      "source": [
        "dfJHUData[dfJHUData.country=='US'][['confirmed', 'dead']].sum()"
      ],
      "execution_count": 87,
      "outputs": [
        {
          "output_type": "execute_result",
          "data": {
            "text/plain": [
              "confirmed    140886\n",
              "dead           2467\n",
              "dtype: int64"
            ]
          },
          "metadata": {
            "tags": []
          },
          "execution_count": 87
        }
      ]
    },
    {
      "cell_type": "code",
      "metadata": {
        "id": "NUQ35Inse05H",
        "colab_type": "code",
        "outputId": "8cbc034d-236f-4107-c031-848853b7870d",
        "colab": {
          "base_uri": "https://localhost:8080/",
          "height": 72
        }
      },
      "source": [
        "dfJHUData[(dfJHUData.country=='US')&(dfJHUData.state=='California')][['confirmed', 'dead']].sum()"
      ],
      "execution_count": 88,
      "outputs": [
        {
          "output_type": "execute_result",
          "data": {
            "text/plain": [
              "confirmed    5852\n",
              "dead          124\n",
              "dtype: int64"
            ]
          },
          "metadata": {
            "tags": []
          },
          "execution_count": 88
        }
      ]
    },
    {
      "cell_type": "code",
      "metadata": {
        "id": "H0JVVTFGfMOW",
        "colab_type": "code",
        "colab": {}
      },
      "source": [
        "dfJHUUS = dfJHUData[dfJHUData.country=='US']\n",
        "gbJHUByState= dfJHUUS.groupby(by='state')\n",
        "gbJHUByCountry = dfJHUData.groupby(by='country')"
      ],
      "execution_count": 0,
      "outputs": []
    },
    {
      "cell_type": "code",
      "metadata": {
        "id": "W8qWd0AYmg58",
        "colab_type": "code",
        "outputId": "7e1ec3d6-c248-4be8-c24f-2cb3b29dc861",
        "colab": {
          "base_uri": "https://localhost:8080/",
          "height": 235
        }
      },
      "source": [
        "gbJHUByCountry.confirmed.sum().sort_values(ascending=False).head(10)"
      ],
      "execution_count": 90,
      "outputs": [
        {
          "output_type": "execute_result",
          "data": {
            "text/plain": [
              "country\n",
              "US                140886\n",
              "Italy              97689\n",
              "China              82122\n",
              "Spain              80110\n",
              "Germany            62095\n",
              "France             40708\n",
              "Iran               38309\n",
              "United Kingdom     19780\n",
              "Switzerland        14829\n",
              "Netherlands        10930\n",
              "Name: confirmed, dtype: int64"
            ]
          },
          "metadata": {
            "tags": []
          },
          "execution_count": 90
        }
      ]
    },
    {
      "cell_type": "code",
      "metadata": {
        "id": "YYKFYQpImnHI",
        "colab_type": "code",
        "outputId": "fba6d8a3-bb4c-451d-b532-e861e7c59de9",
        "colab": {
          "base_uri": "https://localhost:8080/",
          "height": 417
        }
      },
      "source": [
        "gbJHUByCountry.confirmed.sum().sort_values(ascending=False).head(20)"
      ],
      "execution_count": 91,
      "outputs": [
        {
          "output_type": "execute_result",
          "data": {
            "text/plain": [
              "country\n",
              "US                140886\n",
              "Italy              97689\n",
              "China              82122\n",
              "Spain              80110\n",
              "Germany            62095\n",
              "France             40708\n",
              "Iran               38309\n",
              "United Kingdom     19780\n",
              "Switzerland        14829\n",
              "Netherlands        10930\n",
              "Belgium            10836\n",
              "Korea, South        9583\n",
              "Turkey              9217\n",
              "Austria             8788\n",
              "Canada              6280\n",
              "Portugal            5962\n",
              "Norway              4284\n",
              "Brazil              4256\n",
              "Israel              4247\n",
              "Australia           3984\n",
              "Name: confirmed, dtype: int64"
            ]
          },
          "metadata": {
            "tags": []
          },
          "execution_count": 91
        }
      ]
    },
    {
      "cell_type": "code",
      "metadata": {
        "id": "9crIlvPH4oSU",
        "colab_type": "code",
        "colab": {}
      },
      "source": [
        "dfData = dfCovidtracking.groupby('date')"
      ],
      "execution_count": 0,
      "outputs": []
    },
    {
      "cell_type": "code",
      "metadata": {
        "id": "SjlCtiOt2b__",
        "colab_type": "code",
        "colab": {}
      },
      "source": [
        "dfStateTotal = dfCovidtracking[['state', 'positive']].groupby(by='state').max() \\\n",
        ".rename(columns={'positive':'current_total'})\n"
      ],
      "execution_count": 0,
      "outputs": []
    },
    {
      "cell_type": "code",
      "metadata": {
        "id": "iPsfvvHC2_j1",
        "colab_type": "code",
        "colab": {}
      },
      "source": [
        "dfState = dfCovidtracking[['date','state','positive']].set_index('state') \\\n",
        "  .join(dfStateTotal)"
      ],
      "execution_count": 0,
      "outputs": []
    },
    {
      "cell_type": "code",
      "metadata": {
        "id": "AkxH55Mx5yE6",
        "colab_type": "code",
        "colab": {}
      },
      "source": [
        "dfState['pct']=dfState.positive/dfState.current_total"
      ],
      "execution_count": 0,
      "outputs": []
    },
    {
      "cell_type": "code",
      "metadata": {
        "id": "PKQ2rgz76XZR",
        "colab_type": "code",
        "outputId": "88bef753-7e03-431d-9f39-cf593d7018ba",
        "colab": {
          "base_uri": "https://localhost:8080/",
          "height": 288
        }
      },
      "source": [
        "dfState.loc['FL'].head(7)"
      ],
      "execution_count": 103,
      "outputs": [
        {
          "output_type": "execute_result",
          "data": {
            "text/html": [
              "<div>\n",
              "<style scoped>\n",
              "    .dataframe tbody tr th:only-of-type {\n",
              "        vertical-align: middle;\n",
              "    }\n",
              "\n",
              "    .dataframe tbody tr th {\n",
              "        vertical-align: top;\n",
              "    }\n",
              "\n",
              "    .dataframe thead th {\n",
              "        text-align: right;\n",
              "    }\n",
              "</style>\n",
              "<table border=\"1\" class=\"dataframe\">\n",
              "  <thead>\n",
              "    <tr style=\"text-align: right;\">\n",
              "      <th></th>\n",
              "      <th>date</th>\n",
              "      <th>positive</th>\n",
              "      <th>current_total</th>\n",
              "      <th>pct</th>\n",
              "    </tr>\n",
              "    <tr>\n",
              "      <th>state</th>\n",
              "      <th></th>\n",
              "      <th></th>\n",
              "      <th></th>\n",
              "      <th></th>\n",
              "    </tr>\n",
              "  </thead>\n",
              "  <tbody>\n",
              "    <tr>\n",
              "      <th>FL</th>\n",
              "      <td>20200329</td>\n",
              "      <td>4246</td>\n",
              "      <td>4246</td>\n",
              "      <td>1.000000</td>\n",
              "    </tr>\n",
              "    <tr>\n",
              "      <th>FL</th>\n",
              "      <td>20200328</td>\n",
              "      <td>3763</td>\n",
              "      <td>4246</td>\n",
              "      <td>0.886246</td>\n",
              "    </tr>\n",
              "    <tr>\n",
              "      <th>FL</th>\n",
              "      <td>20200327</td>\n",
              "      <td>2765</td>\n",
              "      <td>4246</td>\n",
              "      <td>0.651201</td>\n",
              "    </tr>\n",
              "    <tr>\n",
              "      <th>FL</th>\n",
              "      <td>20200326</td>\n",
              "      <td>2355</td>\n",
              "      <td>4246</td>\n",
              "      <td>0.554640</td>\n",
              "    </tr>\n",
              "    <tr>\n",
              "      <th>FL</th>\n",
              "      <td>20200325</td>\n",
              "      <td>1682</td>\n",
              "      <td>4246</td>\n",
              "      <td>0.396138</td>\n",
              "    </tr>\n",
              "    <tr>\n",
              "      <th>FL</th>\n",
              "      <td>20200324</td>\n",
              "      <td>1412</td>\n",
              "      <td>4246</td>\n",
              "      <td>0.332548</td>\n",
              "    </tr>\n",
              "    <tr>\n",
              "      <th>FL</th>\n",
              "      <td>20200323</td>\n",
              "      <td>1171</td>\n",
              "      <td>4246</td>\n",
              "      <td>0.275789</td>\n",
              "    </tr>\n",
              "  </tbody>\n",
              "</table>\n",
              "</div>"
            ],
            "text/plain": [
              "           date  positive  current_total       pct\n",
              "state                                             \n",
              "FL     20200329      4246           4246  1.000000\n",
              "FL     20200328      3763           4246  0.886246\n",
              "FL     20200327      2765           4246  0.651201\n",
              "FL     20200326      2355           4246  0.554640\n",
              "FL     20200325      1682           4246  0.396138\n",
              "FL     20200324      1412           4246  0.332548\n",
              "FL     20200323      1171           4246  0.275789"
            ]
          },
          "metadata": {
            "tags": []
          },
          "execution_count": 103
        }
      ]
    },
    {
      "cell_type": "code",
      "metadata": {
        "id": "dkgVF6Q19glV",
        "colab_type": "code",
        "colab": {}
      },
      "source": [
        "res = dfState.reset_index().pivot(index = 'date', columns='state', values='pct').fillna(0)"
      ],
      "execution_count": 0,
      "outputs": []
    },
    {
      "cell_type": "code",
      "metadata": {
        "id": "w1ml4KC6BF7q",
        "colab_type": "code",
        "outputId": "0c1b0434-a36f-4f5e-a63f-c86903516479",
        "colab": {
          "base_uri": "https://localhost:8080/",
          "height": 279
        }
      },
      "source": [
        "x = res.loc[:, ['CA','NY','FL']].plot.line()"
      ],
      "execution_count": 98,
      "outputs": [
        {
          "output_type": "display_data",
          "data": {
            "image/png": "[encoded data removed]",
            "text/plain": [
              "<Figure size 432x288 with 1 Axes>"
            ]
          },
          "metadata": {
            "tags": []
          }
        }
      ]
    },
    {
      "cell_type": "code",
      "metadata": {
        "id": "eaLSwLbuBLY0",
        "colab_type": "code",
        "colab": {}
      },
      "source": [
        "dfNYTesting = dfCovidtracking.loc[dfCovidtracking.state=='NY', ['date', 'negative']].set_index('date')"
      ],
      "execution_count": 0,
      "outputs": []
    },
    {
      "cell_type": "code",
      "metadata": {
        "id": "vhL4WBWECIhP",
        "colab_type": "code",
        "outputId": "826fa6ae-ecd3-42f9-eced-357c44210fc1",
        "colab": {
          "base_uri": "https://localhost:8080/",
          "height": 279
        }
      },
      "source": [
        "x = dfNYTesting.plot.line()"
      ],
      "execution_count": 100,
      "outputs": [
        {
          "output_type": "display_data",
          "data": {
            "image/png": "[encoded data removed]",
            "text/plain": [
              "<Figure size 432x288 with 1 Axes>"
            ]
          },
          "metadata": {
            "tags": []
          }
        }
      ]
    },
    {
      "cell_type": "code",
      "metadata": {
        "id": "c4uuFBTquS3o",
        "colab_type": "code",
        "outputId": "a6f5ab7e-230f-49ce-ed45-3935516d7230",
        "colab": {
          "base_uri": "https://localhost:8080/",
          "height": 348
        }
      },
      "source": [
        "dfDates = dfState.reset_index().copy()\n",
        "dfDates[(dfDates.state.isin(['GA']))].head(10)"
      ],
      "execution_count": 101,
      "outputs": [
        {
          "output_type": "execute_result",
          "data": {
            "text/html": [
              "<div>\n",
              "<style scoped>\n",
              "    .dataframe tbody tr th:only-of-type {\n",
              "        vertical-align: middle;\n",
              "    }\n",
              "\n",
              "    .dataframe tbody tr th {\n",
              "        vertical-align: top;\n",
              "    }\n",
              "\n",
              "    .dataframe thead th {\n",
              "        text-align: right;\n",
              "    }\n",
              "</style>\n",
              "<table border=\"1\" class=\"dataframe\">\n",
              "  <thead>\n",
              "    <tr style=\"text-align: right;\">\n",
              "      <th></th>\n",
              "      <th>state</th>\n",
              "      <th>date</th>\n",
              "      <th>positive</th>\n",
              "      <th>current_total</th>\n",
              "      <th>pct</th>\n",
              "    </tr>\n",
              "  </thead>\n",
              "  <tbody>\n",
              "    <tr>\n",
              "      <th>260</th>\n",
              "      <td>GA</td>\n",
              "      <td>20200329</td>\n",
              "      <td>2651</td>\n",
              "      <td>2651</td>\n",
              "      <td>1.000000</td>\n",
              "    </tr>\n",
              "    <tr>\n",
              "      <th>261</th>\n",
              "      <td>GA</td>\n",
              "      <td>20200328</td>\n",
              "      <td>2366</td>\n",
              "      <td>2651</td>\n",
              "      <td>0.892493</td>\n",
              "    </tr>\n",
              "    <tr>\n",
              "      <th>262</th>\n",
              "      <td>GA</td>\n",
              "      <td>20200327</td>\n",
              "      <td>2001</td>\n",
              "      <td>2651</td>\n",
              "      <td>0.754810</td>\n",
              "    </tr>\n",
              "    <tr>\n",
              "      <th>263</th>\n",
              "      <td>GA</td>\n",
              "      <td>20200326</td>\n",
              "      <td>1525</td>\n",
              "      <td>2651</td>\n",
              "      <td>0.575255</td>\n",
              "    </tr>\n",
              "    <tr>\n",
              "      <th>264</th>\n",
              "      <td>GA</td>\n",
              "      <td>20200325</td>\n",
              "      <td>1247</td>\n",
              "      <td>2651</td>\n",
              "      <td>0.470389</td>\n",
              "    </tr>\n",
              "    <tr>\n",
              "      <th>265</th>\n",
              "      <td>GA</td>\n",
              "      <td>20200324</td>\n",
              "      <td>1026</td>\n",
              "      <td>2651</td>\n",
              "      <td>0.387024</td>\n",
              "    </tr>\n",
              "    <tr>\n",
              "      <th>266</th>\n",
              "      <td>GA</td>\n",
              "      <td>20200323</td>\n",
              "      <td>772</td>\n",
              "      <td>2651</td>\n",
              "      <td>0.291211</td>\n",
              "    </tr>\n",
              "    <tr>\n",
              "      <th>267</th>\n",
              "      <td>GA</td>\n",
              "      <td>20200322</td>\n",
              "      <td>600</td>\n",
              "      <td>2651</td>\n",
              "      <td>0.226330</td>\n",
              "    </tr>\n",
              "    <tr>\n",
              "      <th>268</th>\n",
              "      <td>GA</td>\n",
              "      <td>20200321</td>\n",
              "      <td>507</td>\n",
              "      <td>2651</td>\n",
              "      <td>0.191249</td>\n",
              "    </tr>\n",
              "    <tr>\n",
              "      <th>269</th>\n",
              "      <td>GA</td>\n",
              "      <td>20200320</td>\n",
              "      <td>420</td>\n",
              "      <td>2651</td>\n",
              "      <td>0.158431</td>\n",
              "    </tr>\n",
              "  </tbody>\n",
              "</table>\n",
              "</div>"
            ],
            "text/plain": [
              "    state      date  positive  current_total       pct\n",
              "260    GA  20200329      2651           2651  1.000000\n",
              "261    GA  20200328      2366           2651  0.892493\n",
              "262    GA  20200327      2001           2651  0.754810\n",
              "263    GA  20200326      1525           2651  0.575255\n",
              "264    GA  20200325      1247           2651  0.470389\n",
              "265    GA  20200324      1026           2651  0.387024\n",
              "266    GA  20200323       772           2651  0.291211\n",
              "267    GA  20200322       600           2651  0.226330\n",
              "268    GA  20200321       507           2651  0.191249\n",
              "269    GA  20200320       420           2651  0.158431"
            ]
          },
          "metadata": {
            "tags": []
          },
          "execution_count": 101
        }
      ]
    },
    {
      "cell_type": "code",
      "metadata": {
        "id": "Puz0PBzemMD3",
        "colab_type": "code",
        "outputId": "c994851b-7fcd-480f-f222-d7a218a04be5",
        "colab": {
          "base_uri": "https://localhost:8080/",
          "height": 1000
        }
      },
      "source": [
        "datecutoff = int(((pd.to_datetime(str(dfDates.date.max())))-datetime.timedelta(days=3)).strftime(\"%Y%m%d\"))\n",
        "dfDates[(dfDates.date == datecutoff) & (dfDates.pct < .60)].sort_values(by='positive',ascending=False)\n"
      ],
      "execution_count": 106,
      "outputs": [
        {
          "output_type": "execute_result",
          "data": {
            "text/html": [
              "<div>\n",
              "<style scoped>\n",
              "    .dataframe tbody tr th:only-of-type {\n",
              "        vertical-align: middle;\n",
              "    }\n",
              "\n",
              "    .dataframe tbody tr th {\n",
              "        vertical-align: top;\n",
              "    }\n",
              "\n",
              "    .dataframe thead th {\n",
              "        text-align: right;\n",
              "    }\n",
              "</style>\n",
              "<table border=\"1\" class=\"dataframe\">\n",
              "  <thead>\n",
              "    <tr style=\"text-align: right;\">\n",
              "      <th></th>\n",
              "      <th>state</th>\n",
              "      <th>date</th>\n",
              "      <th>positive</th>\n",
              "      <th>current_total</th>\n",
              "      <th>pct</th>\n",
              "    </tr>\n",
              "  </thead>\n",
              "  <tbody>\n",
              "    <tr>\n",
              "      <th>800</th>\n",
              "      <td>NJ</td>\n",
              "      <td>20200326</td>\n",
              "      <td>6876</td>\n",
              "      <td>13386</td>\n",
              "      <td>0.513671</td>\n",
              "    </tr>\n",
              "    <tr>\n",
              "      <th>114</th>\n",
              "      <td>CA</td>\n",
              "      <td>20200326</td>\n",
              "      <td>3006</td>\n",
              "      <td>5708</td>\n",
              "      <td>0.526629</td>\n",
              "    </tr>\n",
              "    <tr>\n",
              "      <th>568</th>\n",
              "      <td>MI</td>\n",
              "      <td>20200326</td>\n",
              "      <td>2856</td>\n",
              "      <td>5486</td>\n",
              "      <td>0.520598</td>\n",
              "    </tr>\n",
              "    <tr>\n",
              "      <th>1221</th>\n",
              "      <td>WA</td>\n",
              "      <td>20200326</td>\n",
              "      <td>2580</td>\n",
              "      <td>4310</td>\n",
              "      <td>0.598608</td>\n",
              "    </tr>\n",
              "    <tr>\n",
              "      <th>373</th>\n",
              "      <td>IL</td>\n",
              "      <td>20200326</td>\n",
              "      <td>2538</td>\n",
              "      <td>4596</td>\n",
              "      <td>0.552219</td>\n",
              "    </tr>\n",
              "    <tr>\n",
              "      <th>494</th>\n",
              "      <td>MA</td>\n",
              "      <td>20200326</td>\n",
              "      <td>2417</td>\n",
              "      <td>4955</td>\n",
              "      <td>0.487790</td>\n",
              "    </tr>\n",
              "    <tr>\n",
              "      <th>237</th>\n",
              "      <td>FL</td>\n",
              "      <td>20200326</td>\n",
              "      <td>2355</td>\n",
              "      <td>4246</td>\n",
              "      <td>0.554640</td>\n",
              "    </tr>\n",
              "    <tr>\n",
              "      <th>974</th>\n",
              "      <td>PA</td>\n",
              "      <td>20200326</td>\n",
              "      <td>1687</td>\n",
              "      <td>3394</td>\n",
              "      <td>0.497054</td>\n",
              "    </tr>\n",
              "    <tr>\n",
              "      <th>263</th>\n",
              "      <td>GA</td>\n",
              "      <td>20200326</td>\n",
              "      <td>1525</td>\n",
              "      <td>2651</td>\n",
              "      <td>0.575255</td>\n",
              "    </tr>\n",
              "    <tr>\n",
              "      <th>1109</th>\n",
              "      <td>TX</td>\n",
              "      <td>20200326</td>\n",
              "      <td>1396</td>\n",
              "      <td>2552</td>\n",
              "      <td>0.547022</td>\n",
              "    </tr>\n",
              "    <tr>\n",
              "      <th>140</th>\n",
              "      <td>CO</td>\n",
              "      <td>20200326</td>\n",
              "      <td>1086</td>\n",
              "      <td>2061</td>\n",
              "      <td>0.526929</td>\n",
              "    </tr>\n",
              "    <tr>\n",
              "      <th>165</th>\n",
              "      <td>CT</td>\n",
              "      <td>20200326</td>\n",
              "      <td>1012</td>\n",
              "      <td>1993</td>\n",
              "      <td>0.507777</td>\n",
              "    </tr>\n",
              "    <tr>\n",
              "      <th>900</th>\n",
              "      <td>OH</td>\n",
              "      <td>20200326</td>\n",
              "      <td>867</td>\n",
              "      <td>1653</td>\n",
              "      <td>0.524501</td>\n",
              "    </tr>\n",
              "    <tr>\n",
              "      <th>399</th>\n",
              "      <td>IN</td>\n",
              "      <td>20200326</td>\n",
              "      <td>645</td>\n",
              "      <td>1514</td>\n",
              "      <td>0.426024</td>\n",
              "    </tr>\n",
              "    <tr>\n",
              "      <th>520</th>\n",
              "      <td>MD</td>\n",
              "      <td>20200326</td>\n",
              "      <td>580</td>\n",
              "      <td>1239</td>\n",
              "      <td>0.468119</td>\n",
              "    </tr>\n",
              "    <tr>\n",
              "      <th>617</th>\n",
              "      <td>MO</td>\n",
              "      <td>20200326</td>\n",
              "      <td>502</td>\n",
              "      <td>838</td>\n",
              "      <td>0.599045</td>\n",
              "    </tr>\n",
              "    <tr>\n",
              "      <th>1158</th>\n",
              "      <td>VA</td>\n",
              "      <td>20200326</td>\n",
              "      <td>460</td>\n",
              "      <td>890</td>\n",
              "      <td>0.516854</td>\n",
              "    </tr>\n",
              "    <tr>\n",
              "      <th>1035</th>\n",
              "      <td>SC</td>\n",
              "      <td>20200326</td>\n",
              "      <td>456</td>\n",
              "      <td>774</td>\n",
              "      <td>0.589147</td>\n",
              "    </tr>\n",
              "    <tr>\n",
              "      <th>849</th>\n",
              "      <td>NV</td>\n",
              "      <td>20200326</td>\n",
              "      <td>420</td>\n",
              "      <td>738</td>\n",
              "      <td>0.569106</td>\n",
              "    </tr>\n",
              "    <tr>\n",
              "      <th>1135</th>\n",
              "      <td>UT</td>\n",
              "      <td>20200326</td>\n",
              "      <td>402</td>\n",
              "      <td>719</td>\n",
              "      <td>0.559110</td>\n",
              "    </tr>\n",
              "    <tr>\n",
              "      <th>948</th>\n",
              "      <td>OR</td>\n",
              "      <td>20200326</td>\n",
              "      <td>327</td>\n",
              "      <td>548</td>\n",
              "      <td>0.596715</td>\n",
              "    </tr>\n",
              "    <tr>\n",
              "      <th>925</th>\n",
              "      <td>OK</td>\n",
              "      <td>20200326</td>\n",
              "      <td>248</td>\n",
              "      <td>429</td>\n",
              "      <td>0.578089</td>\n",
              "    </tr>\n",
              "    <tr>\n",
              "      <th>447</th>\n",
              "      <td>KY</td>\n",
              "      <td>20200326</td>\n",
              "      <td>198</td>\n",
              "      <td>394</td>\n",
              "      <td>0.502538</td>\n",
              "    </tr>\n",
              "    <tr>\n",
              "      <th>326</th>\n",
              "      <td>IA</td>\n",
              "      <td>20200326</td>\n",
              "      <td>179</td>\n",
              "      <td>336</td>\n",
              "      <td>0.532738</td>\n",
              "    </tr>\n",
              "    <tr>\n",
              "      <th>423</th>\n",
              "      <td>KS</td>\n",
              "      <td>20200326</td>\n",
              "      <td>168</td>\n",
              "      <td>319</td>\n",
              "      <td>0.526646</td>\n",
              "    </tr>\n",
              "    <tr>\n",
              "      <th>1012</th>\n",
              "      <td>RI</td>\n",
              "      <td>20200326</td>\n",
              "      <td>165</td>\n",
              "      <td>294</td>\n",
              "      <td>0.561224</td>\n",
              "    </tr>\n",
              "    <tr>\n",
              "      <th>213</th>\n",
              "      <td>DE</td>\n",
              "      <td>20200326</td>\n",
              "      <td>130</td>\n",
              "      <td>232</td>\n",
              "      <td>0.560345</td>\n",
              "    </tr>\n",
              "    <tr>\n",
              "      <th>350</th>\n",
              "      <td>ID</td>\n",
              "      <td>20200326</td>\n",
              "      <td>123</td>\n",
              "      <td>261</td>\n",
              "      <td>0.471264</td>\n",
              "    </tr>\n",
              "    <tr>\n",
              "      <th>825</th>\n",
              "      <td>NM</td>\n",
              "      <td>20200326</td>\n",
              "      <td>112</td>\n",
              "      <td>237</td>\n",
              "      <td>0.472574</td>\n",
              "    </tr>\n",
              "    <tr>\n",
              "      <th>677</th>\n",
              "      <td>MT</td>\n",
              "      <td>20200326</td>\n",
              "      <td>71</td>\n",
              "      <td>154</td>\n",
              "      <td>0.461039</td>\n",
              "    </tr>\n",
              "    <tr>\n",
              "      <th>998</th>\n",
              "      <td>PR</td>\n",
              "      <td>20200326</td>\n",
              "      <td>64</td>\n",
              "      <td>127</td>\n",
              "      <td>0.503937</td>\n",
              "    </tr>\n",
              "    <tr>\n",
              "      <th>3</th>\n",
              "      <td>AK</td>\n",
              "      <td>20200326</td>\n",
              "      <td>59</td>\n",
              "      <td>102</td>\n",
              "      <td>0.578431</td>\n",
              "    </tr>\n",
              "    <tr>\n",
              "      <th>726</th>\n",
              "      <td>ND</td>\n",
              "      <td>20200326</td>\n",
              "      <td>52</td>\n",
              "      <td>98</td>\n",
              "      <td>0.530612</td>\n",
              "    </tr>\n",
              "    <tr>\n",
              "      <th>1273</th>\n",
              "      <td>WV</td>\n",
              "      <td>20200326</td>\n",
              "      <td>51</td>\n",
              "      <td>113</td>\n",
              "      <td>0.451327</td>\n",
              "    </tr>\n",
              "    <tr>\n",
              "      <th>1061</th>\n",
              "      <td>SD</td>\n",
              "      <td>20200326</td>\n",
              "      <td>46</td>\n",
              "      <td>90</td>\n",
              "      <td>0.511111</td>\n",
              "    </tr>\n",
              "    <tr>\n",
              "      <th>640</th>\n",
              "      <td>MP</td>\n",
              "      <td>20200326</td>\n",
              "      <td>0</td>\n",
              "      <td>2</td>\n",
              "      <td>0.000000</td>\n",
              "    </tr>\n",
              "  </tbody>\n",
              "</table>\n",
              "</div>"
            ],
            "text/plain": [
              "     state      date  positive  current_total       pct\n",
              "800     NJ  20200326      6876          13386  0.513671\n",
              "114     CA  20200326      3006           5708  0.526629\n",
              "568     MI  20200326      2856           5486  0.520598\n",
              "1221    WA  20200326      2580           4310  0.598608\n",
              "373     IL  20200326      2538           4596  0.552219\n",
              "494     MA  20200326      2417           4955  0.487790\n",
              "237     FL  20200326      2355           4246  0.554640\n",
              "974     PA  20200326      1687           3394  0.497054\n",
              "263     GA  20200326      1525           2651  0.575255\n",
              "1109    TX  20200326      1396           2552  0.547022\n",
              "140     CO  20200326      1086           2061  0.526929\n",
              "165     CT  20200326      1012           1993  0.507777\n",
              "900     OH  20200326       867           1653  0.524501\n",
              "399     IN  20200326       645           1514  0.426024\n",
              "520     MD  20200326       580           1239  0.468119\n",
              "617     MO  20200326       502            838  0.599045\n",
              "1158    VA  20200326       460            890  0.516854\n",
              "1035    SC  20200326       456            774  0.589147\n",
              "849     NV  20200326       420            738  0.569106\n",
              "1135    UT  20200326       402            719  0.559110\n",
              "948     OR  20200326       327            548  0.596715\n",
              "925     OK  20200326       248            429  0.578089\n",
              "447     KY  20200326       198            394  0.502538\n",
              "326     IA  20200326       179            336  0.532738\n",
              "423     KS  20200326       168            319  0.526646\n",
              "1012    RI  20200326       165            294  0.561224\n",
              "213     DE  20200326       130            232  0.560345\n",
              "350     ID  20200326       123            261  0.471264\n",
              "825     NM  20200326       112            237  0.472574\n",
              "677     MT  20200326        71            154  0.461039\n",
              "998     PR  20200326        64            127  0.503937\n",
              "3       AK  20200326        59            102  0.578431\n",
              "726     ND  20200326        52             98  0.530612\n",
              "1273    WV  20200326        51            113  0.451327\n",
              "1061    SD  20200326        46             90  0.511111\n",
              "640     MP  20200326         0              2  0.000000"
            ]
          },
          "metadata": {
            "tags": []
          },
          "execution_count": 106
        }
      ]
    },
    {
      "cell_type": "code",
      "metadata": {
        "id": "Gs8tzkJGnJjN",
        "colab_type": "code",
        "colab": {}
      },
      "source": [
        ""
      ],
      "execution_count": 0,
      "outputs": []
    }
  ]
}