{
  "nbformat": 4,
  "nbformat_minor": 0,
  "metadata": {
    "colab": {
      "name": "coviddata",
      "provenance": [],
      "toc_visible": true,
      "authorship_tag": "ABX9TyN5MSXVvsKYVfiscEqgBNLL",
      "include_colab_link": true
    },
    "kernelspec": {
      "name": "python3",
      "display_name": "Python 3"
    }
  },
  "cells": [
    {
      "cell_type": "markdown",
      "metadata": {
        "id": "view-in-github",
        "colab_type": "text"
      },
      "source": [
        "<a href=\"https://colab.research.google.com/github/DMXMax/covid19/blob/gc_20200315/coviddata.ipynb\" target=\"_parent\"><img src=\"https://colab.research.google.com/assets/colab-badge.svg\" alt=\"Open In Colab\"/></a>"
      ]
    },
    {
      "cell_type": "code",
      "metadata": {
        "id": "jCzokJEPxFhv",
        "colab_type": "code",
        "colab": {}
      },
      "source": [
        "import numpy as np\n",
        "import pandas as pd\n",
        "import matplotlib.pyplot as plt\n",
        "import requests,json\n"
      ],
      "execution_count": 0,
      "outputs": []
    },
    {
      "cell_type": "code",
      "metadata": {
        "id": "zNKPT5Z8BXPT",
        "colab_type": "code",
        "colab": {}
      },
      "source": [
        "covidtrackingurl = \"https://covidtracking.com/api/states/daily\"\n",
        "response = requests.get(covidtrackingurl)\n",
        "dfCovidtracking = pd.DataFrame(response.json())\n",
        "dfCovidtracking.fillna(0, inplace=True)\n",
        "dfCovidtracking.negative = dfCovidtracking.negative.astype('int64')\n",
        "dfCovidtracking.positive = dfCovidtracking.positive.astype('int64')\n",
        "dfCovidtracking.pending = dfCovidtracking.pending.astype('int64')\n",
        "dfCovidtracking.total = dfCovidtracking.total.astype('int64')\n",
        "dfCovidtracking.death = dfCovidtracking.death.astype('int64')\n"
      ],
      "execution_count": 0,
      "outputs": []
    },
    {
      "cell_type": "code",
      "metadata": {
        "id": "MwokJX5VqDG_",
        "colab_type": "code",
        "colab": {}
      },
      "source": [
        "#Setthe current date for new cells\n",
        "current_date = 20200316\n"
      ],
      "execution_count": 0,
      "outputs": []
    },
    {
      "cell_type": "code",
      "metadata": {
        "id": "8_Il5iuohC8_",
        "colab_type": "code",
        "colab": {}
      },
      "source": [
        "dfWHO = pd.read_csv(\"https://raw.githubusercontent.com/DMXMax/covid19/master/who/who_data.tsv\",\n",
        "                     sep='\\t', index_col='Date')"
      ],
      "execution_count": 0,
      "outputs": []
    },
    {
      "cell_type": "code",
      "metadata": {
        "id": "hrPlWJJCVtBR",
        "colab_type": "code",
        "colab": {}
      },
      "source": [
        "dfWHO = dfWHO.rename(columns={\"Confirmed\": \"confirmed\", \"Deaths\": \"who_deaths\"})\n",
        "dfWHO.index.names=['date']\n"
      ],
      "execution_count": 0,
      "outputs": []
    },
    {
      "cell_type": "code",
      "metadata": {
        "id": "HWHSGPq_yF50",
        "colab_type": "code",
        "outputId": "8fcb708f-ece6-4629-c83e-26798b5aac45",
        "colab": {
          "base_uri": "https://localhost:8080/",
          "height": 119
        }
      },
      "source": [
        "res = dfCovidtracking.loc[dfCovidtracking.date==current_date, ['positive', 'negative', 'pending', 'total']].sum()\n",
        "print(res)\n",
        "print(f\"Current Infection Rate {res.positive/res.total*100:2f}%\")"
      ],
      "execution_count": 6,
      "outputs": [
        {
          "output_type": "stream",
          "text": [
            "positive     4019\n",
            "negative    35840\n",
            "pending      1691\n",
            "total       41552\n",
            "dtype: int64\n",
            "Current Infection Rate 9.672218%\n"
          ],
          "name": "stdout"
        }
      ]
    },
    {
      "cell_type": "code",
      "metadata": {
        "colab_type": "code",
        "outputId": "ce232e32-e0b8-4874-dae4-7d4c0380ccb6",
        "id": "idyqfNddlLPv",
        "colab": {
          "base_uri": "https://localhost:8080/",
          "height": 359
        }
      },
      "source": [
        "dfCovidtracking.loc[dfCovidtracking.date==current_date,['state', 'positive']].sort_values(by='positive', ascending=False).head(10)"
      ],
      "execution_count": 7,
      "outputs": [
        {
          "output_type": "execute_result",
          "data": {
            "text/html": [
              "<div>\n",
              "<style scoped>\n",
              "    .dataframe tbody tr th:only-of-type {\n",
              "        vertical-align: middle;\n",
              "    }\n",
              "\n",
              "    .dataframe tbody tr th {\n",
              "        vertical-align: top;\n",
              "    }\n",
              "\n",
              "    .dataframe thead th {\n",
              "        text-align: right;\n",
              "    }\n",
              "</style>\n",
              "<table border=\"1\" class=\"dataframe\">\n",
              "  <thead>\n",
              "    <tr style=\"text-align: right;\">\n",
              "      <th></th>\n",
              "      <th>state</th>\n",
              "      <th>positive</th>\n",
              "    </tr>\n",
              "  </thead>\n",
              "  <tbody>\n",
              "    <tr>\n",
              "      <th>34</th>\n",
              "      <td>NY</td>\n",
              "      <td>950</td>\n",
              "    </tr>\n",
              "    <tr>\n",
              "      <th>47</th>\n",
              "      <td>WA</td>\n",
              "      <td>769</td>\n",
              "    </tr>\n",
              "    <tr>\n",
              "      <th>4</th>\n",
              "      <td>CA</td>\n",
              "      <td>335</td>\n",
              "    </tr>\n",
              "    <tr>\n",
              "      <th>31</th>\n",
              "      <td>NJ</td>\n",
              "      <td>178</td>\n",
              "    </tr>\n",
              "    <tr>\n",
              "      <th>19</th>\n",
              "      <td>MA</td>\n",
              "      <td>164</td>\n",
              "    </tr>\n",
              "    <tr>\n",
              "      <th>9</th>\n",
              "      <td>FL</td>\n",
              "      <td>141</td>\n",
              "    </tr>\n",
              "    <tr>\n",
              "      <th>5</th>\n",
              "      <td>CO</td>\n",
              "      <td>131</td>\n",
              "    </tr>\n",
              "    <tr>\n",
              "      <th>10</th>\n",
              "      <td>GA</td>\n",
              "      <td>121</td>\n",
              "    </tr>\n",
              "    <tr>\n",
              "      <th>18</th>\n",
              "      <td>LA</td>\n",
              "      <td>114</td>\n",
              "    </tr>\n",
              "    <tr>\n",
              "      <th>14</th>\n",
              "      <td>IL</td>\n",
              "      <td>93</td>\n",
              "    </tr>\n",
              "  </tbody>\n",
              "</table>\n",
              "</div>"
            ],
            "text/plain": [
              "   state  positive\n",
              "34    NY       950\n",
              "47    WA       769\n",
              "4     CA       335\n",
              "31    NJ       178\n",
              "19    MA       164\n",
              "9     FL       141\n",
              "5     CO       131\n",
              "10    GA       121\n",
              "18    LA       114\n",
              "14    IL        93"
            ]
          },
          "metadata": {
            "tags": []
          },
          "execution_count": 7
        }
      ]
    },
    {
      "cell_type": "code",
      "metadata": {
        "id": "aDnXxFW47TDX",
        "colab_type": "code",
        "colab": {}
      },
      "source": [
        "#Compare growth from 20200311 and 202020313\n",
        "dtstart = 20200315\n",
        "dtend = 20200316\n",
        "dfCA = dfCovidtracking[dfCovidtracking.state=='CA']"
      ],
      "execution_count": 0,
      "outputs": []
    },
    {
      "cell_type": "code",
      "metadata": {
        "id": "ZbzZ81viuetv",
        "colab_type": "code",
        "outputId": "4e132bee-ad21-4427-8801-784277edd8df",
        "colab": {
          "base_uri": "https://localhost:8080/",
          "height": 187
        }
      },
      "source": [
        "arCols = ['positive', 'negative', 'death']\n",
        "arTotCols= ['positive', 'negative']\n",
        "\n",
        "dfUSAstart = dfCovidtracking.loc[dfCovidtracking.date == dtstart, arCols].sum()\n",
        "print(dfUSAstart)\n",
        "print(dfUSAstart.loc[arTotCols].sum())\n",
        "dfUSAend = dfCovidtracking.loc[dfCovidtracking.date == dtend, arCols].sum()\n",
        "print(dfUSAend)\n",
        "print(dfUSAend.loc[arTotCols].sum())\n"
      ],
      "execution_count": 11,
      "outputs": [
        {
          "output_type": "stream",
          "text": [
            "positive     3173\n",
            "negative    22548\n",
            "death          60\n",
            "dtype: int64\n",
            "25721\n",
            "positive     4019\n",
            "negative    35840\n",
            "death          71\n",
            "dtype: int64\n",
            "39859\n"
          ],
          "name": "stdout"
        }
      ]
    },
    {
      "cell_type": "code",
      "metadata": {
        "id": "rFOHyOwb4bcm",
        "colab_type": "code",
        "colab": {}
      },
      "source": [
        "gbUSA = dfCovidtracking.groupby(['date'])\n",
        "gbCA = dfCovidtracking[dfCovidtracking.state=='CA'].groupby(['date'])\n",
        "\n",
        "dfUSAPos = gbUSA.positive.sum().reset_index().copy()\n",
        "dfCAPos = gbCA.positive.sum().reset_index().copy()\n",
        "\n",
        "#This will calculate the percentage each day is of the total. In a flattening, this will be more even\n",
        "# In a high growth situation, you'll higher percentages at the tail. \n",
        "dfUSAPos['PCT']= dfUSAPos.positive/dfUSAPos.max().positive\n",
        "dfCAPos['PCT']=dfCAPos.positive/dfCAPos.max().positive"
      ],
      "execution_count": 0,
      "outputs": []
    },
    {
      "cell_type": "code",
      "metadata": {
        "colab_type": "code",
        "outputId": "152d68c3-23a8-4111-970c-c073f685df4a",
        "id": "BHKhtPRozVFF",
        "colab": {
          "base_uri": "https://localhost:8080/",
          "height": 452
        }
      },
      "source": [
        "dfUSAPos"
      ],
      "execution_count": 13,
      "outputs": [
        {
          "output_type": "execute_result",
          "data": {
            "text/html": [
              "<div>\n",
              "<style scoped>\n",
              "    .dataframe tbody tr th:only-of-type {\n",
              "        vertical-align: middle;\n",
              "    }\n",
              "\n",
              "    .dataframe tbody tr th {\n",
              "        vertical-align: top;\n",
              "    }\n",
              "\n",
              "    .dataframe thead th {\n",
              "        text-align: right;\n",
              "    }\n",
              "</style>\n",
              "<table border=\"1\" class=\"dataframe\">\n",
              "  <thead>\n",
              "    <tr style=\"text-align: right;\">\n",
              "      <th></th>\n",
              "      <th>date</th>\n",
              "      <th>positive</th>\n",
              "      <th>PCT</th>\n",
              "    </tr>\n",
              "  </thead>\n",
              "  <tbody>\n",
              "    <tr>\n",
              "      <th>0</th>\n",
              "      <td>20200304</td>\n",
              "      <td>118</td>\n",
              "      <td>0.029361</td>\n",
              "    </tr>\n",
              "    <tr>\n",
              "      <th>1</th>\n",
              "      <td>20200305</td>\n",
              "      <td>176</td>\n",
              "      <td>0.043792</td>\n",
              "    </tr>\n",
              "    <tr>\n",
              "      <th>2</th>\n",
              "      <td>20200306</td>\n",
              "      <td>223</td>\n",
              "      <td>0.055486</td>\n",
              "    </tr>\n",
              "    <tr>\n",
              "      <th>3</th>\n",
              "      <td>20200307</td>\n",
              "      <td>341</td>\n",
              "      <td>0.084847</td>\n",
              "    </tr>\n",
              "    <tr>\n",
              "      <th>4</th>\n",
              "      <td>20200308</td>\n",
              "      <td>417</td>\n",
              "      <td>0.103757</td>\n",
              "    </tr>\n",
              "    <tr>\n",
              "      <th>5</th>\n",
              "      <td>20200309</td>\n",
              "      <td>584</td>\n",
              "      <td>0.145310</td>\n",
              "    </tr>\n",
              "    <tr>\n",
              "      <th>6</th>\n",
              "      <td>20200310</td>\n",
              "      <td>778</td>\n",
              "      <td>0.193580</td>\n",
              "    </tr>\n",
              "    <tr>\n",
              "      <th>7</th>\n",
              "      <td>20200311</td>\n",
              "      <td>1053</td>\n",
              "      <td>0.262005</td>\n",
              "    </tr>\n",
              "    <tr>\n",
              "      <th>8</th>\n",
              "      <td>20200312</td>\n",
              "      <td>1315</td>\n",
              "      <td>0.327196</td>\n",
              "    </tr>\n",
              "    <tr>\n",
              "      <th>9</th>\n",
              "      <td>20200313</td>\n",
              "      <td>1922</td>\n",
              "      <td>0.478228</td>\n",
              "    </tr>\n",
              "    <tr>\n",
              "      <th>10</th>\n",
              "      <td>20200314</td>\n",
              "      <td>2450</td>\n",
              "      <td>0.609604</td>\n",
              "    </tr>\n",
              "    <tr>\n",
              "      <th>11</th>\n",
              "      <td>20200315</td>\n",
              "      <td>3173</td>\n",
              "      <td>0.789500</td>\n",
              "    </tr>\n",
              "    <tr>\n",
              "      <th>12</th>\n",
              "      <td>20200316</td>\n",
              "      <td>4019</td>\n",
              "      <td>1.000000</td>\n",
              "    </tr>\n",
              "  </tbody>\n",
              "</table>\n",
              "</div>"
            ],
            "text/plain": [
              "        date  positive       PCT\n",
              "0   20200304       118  0.029361\n",
              "1   20200305       176  0.043792\n",
              "2   20200306       223  0.055486\n",
              "3   20200307       341  0.084847\n",
              "4   20200308       417  0.103757\n",
              "5   20200309       584  0.145310\n",
              "6   20200310       778  0.193580\n",
              "7   20200311      1053  0.262005\n",
              "8   20200312      1315  0.327196\n",
              "9   20200313      1922  0.478228\n",
              "10  20200314      2450  0.609604\n",
              "11  20200315      3173  0.789500\n",
              "12  20200316      4019  1.000000"
            ]
          },
          "metadata": {
            "tags": []
          },
          "execution_count": 13
        }
      ]
    },
    {
      "cell_type": "code",
      "metadata": {
        "colab_type": "code",
        "outputId": "58da219d-6642-4bdc-fd26-a79bf7909bbd",
        "id": "EI4hKgZ5zUd8",
        "colab": {
          "base_uri": "https://localhost:8080/",
          "height": 452
        }
      },
      "source": [
        "dfCAPos"
      ],
      "execution_count": 14,
      "outputs": [
        {
          "output_type": "execute_result",
          "data": {
            "text/html": [
              "<div>\n",
              "<style scoped>\n",
              "    .dataframe tbody tr th:only-of-type {\n",
              "        vertical-align: middle;\n",
              "    }\n",
              "\n",
              "    .dataframe tbody tr th {\n",
              "        vertical-align: top;\n",
              "    }\n",
              "\n",
              "    .dataframe thead th {\n",
              "        text-align: right;\n",
              "    }\n",
              "</style>\n",
              "<table border=\"1\" class=\"dataframe\">\n",
              "  <thead>\n",
              "    <tr style=\"text-align: right;\">\n",
              "      <th></th>\n",
              "      <th>date</th>\n",
              "      <th>positive</th>\n",
              "      <th>PCT</th>\n",
              "    </tr>\n",
              "  </thead>\n",
              "  <tbody>\n",
              "    <tr>\n",
              "      <th>0</th>\n",
              "      <td>20200304</td>\n",
              "      <td>53</td>\n",
              "      <td>0.158209</td>\n",
              "    </tr>\n",
              "    <tr>\n",
              "      <th>1</th>\n",
              "      <td>20200305</td>\n",
              "      <td>53</td>\n",
              "      <td>0.158209</td>\n",
              "    </tr>\n",
              "    <tr>\n",
              "      <th>2</th>\n",
              "      <td>20200306</td>\n",
              "      <td>60</td>\n",
              "      <td>0.179104</td>\n",
              "    </tr>\n",
              "    <tr>\n",
              "      <th>3</th>\n",
              "      <td>20200307</td>\n",
              "      <td>69</td>\n",
              "      <td>0.205970</td>\n",
              "    </tr>\n",
              "    <tr>\n",
              "      <th>4</th>\n",
              "      <td>20200308</td>\n",
              "      <td>88</td>\n",
              "      <td>0.262687</td>\n",
              "    </tr>\n",
              "    <tr>\n",
              "      <th>5</th>\n",
              "      <td>20200309</td>\n",
              "      <td>114</td>\n",
              "      <td>0.340299</td>\n",
              "    </tr>\n",
              "    <tr>\n",
              "      <th>6</th>\n",
              "      <td>20200310</td>\n",
              "      <td>133</td>\n",
              "      <td>0.397015</td>\n",
              "    </tr>\n",
              "    <tr>\n",
              "      <th>7</th>\n",
              "      <td>20200311</td>\n",
              "      <td>157</td>\n",
              "      <td>0.468657</td>\n",
              "    </tr>\n",
              "    <tr>\n",
              "      <th>8</th>\n",
              "      <td>20200312</td>\n",
              "      <td>202</td>\n",
              "      <td>0.602985</td>\n",
              "    </tr>\n",
              "    <tr>\n",
              "      <th>9</th>\n",
              "      <td>20200313</td>\n",
              "      <td>202</td>\n",
              "      <td>0.602985</td>\n",
              "    </tr>\n",
              "    <tr>\n",
              "      <th>10</th>\n",
              "      <td>20200314</td>\n",
              "      <td>252</td>\n",
              "      <td>0.752239</td>\n",
              "    </tr>\n",
              "    <tr>\n",
              "      <th>11</th>\n",
              "      <td>20200315</td>\n",
              "      <td>293</td>\n",
              "      <td>0.874627</td>\n",
              "    </tr>\n",
              "    <tr>\n",
              "      <th>12</th>\n",
              "      <td>20200316</td>\n",
              "      <td>335</td>\n",
              "      <td>1.000000</td>\n",
              "    </tr>\n",
              "  </tbody>\n",
              "</table>\n",
              "</div>"
            ],
            "text/plain": [
              "        date  positive       PCT\n",
              "0   20200304        53  0.158209\n",
              "1   20200305        53  0.158209\n",
              "2   20200306        60  0.179104\n",
              "3   20200307        69  0.205970\n",
              "4   20200308        88  0.262687\n",
              "5   20200309       114  0.340299\n",
              "6   20200310       133  0.397015\n",
              "7   20200311       157  0.468657\n",
              "8   20200312       202  0.602985\n",
              "9   20200313       202  0.602985\n",
              "10  20200314       252  0.752239\n",
              "11  20200315       293  0.874627\n",
              "12  20200316       335  1.000000"
            ]
          },
          "metadata": {
            "tags": []
          },
          "execution_count": 14
        }
      ]
    },
    {
      "cell_type": "code",
      "metadata": {
        "id": "BTvuZKJN0RoI",
        "colab_type": "code",
        "outputId": "c7b34736-19a9-4e2a-da41-39075c373ec0",
        "colab": {
          "base_uri": "https://localhost:8080/",
          "height": 483
        }
      },
      "source": [
        "gbUSA.sum()"
      ],
      "execution_count": 15,
      "outputs": [
        {
          "output_type": "execute_result",
          "data": {
            "text/html": [
              "<div>\n",
              "<style scoped>\n",
              "    .dataframe tbody tr th:only-of-type {\n",
              "        vertical-align: middle;\n",
              "    }\n",
              "\n",
              "    .dataframe tbody tr th {\n",
              "        vertical-align: top;\n",
              "    }\n",
              "\n",
              "    .dataframe thead th {\n",
              "        text-align: right;\n",
              "    }\n",
              "</style>\n",
              "<table border=\"1\" class=\"dataframe\">\n",
              "  <thead>\n",
              "    <tr style=\"text-align: right;\">\n",
              "      <th></th>\n",
              "      <th>positive</th>\n",
              "      <th>negative</th>\n",
              "      <th>pending</th>\n",
              "      <th>death</th>\n",
              "      <th>total</th>\n",
              "    </tr>\n",
              "    <tr>\n",
              "      <th>date</th>\n",
              "      <th></th>\n",
              "      <th></th>\n",
              "      <th></th>\n",
              "      <th></th>\n",
              "      <th></th>\n",
              "    </tr>\n",
              "  </thead>\n",
              "  <tbody>\n",
              "    <tr>\n",
              "      <th>20200304</th>\n",
              "      <td>118</td>\n",
              "      <td>748</td>\n",
              "      <td>103</td>\n",
              "      <td>0</td>\n",
              "      <td>969</td>\n",
              "    </tr>\n",
              "    <tr>\n",
              "      <th>20200305</th>\n",
              "      <td>176</td>\n",
              "      <td>971</td>\n",
              "      <td>197</td>\n",
              "      <td>0</td>\n",
              "      <td>1344</td>\n",
              "    </tr>\n",
              "    <tr>\n",
              "      <th>20200306</th>\n",
              "      <td>223</td>\n",
              "      <td>1617</td>\n",
              "      <td>458</td>\n",
              "      <td>0</td>\n",
              "      <td>2298</td>\n",
              "    </tr>\n",
              "    <tr>\n",
              "      <th>20200307</th>\n",
              "      <td>341</td>\n",
              "      <td>1863</td>\n",
              "      <td>602</td>\n",
              "      <td>0</td>\n",
              "      <td>2806</td>\n",
              "    </tr>\n",
              "    <tr>\n",
              "      <th>20200308</th>\n",
              "      <td>417</td>\n",
              "      <td>2437</td>\n",
              "      <td>347</td>\n",
              "      <td>0</td>\n",
              "      <td>3201</td>\n",
              "    </tr>\n",
              "    <tr>\n",
              "      <th>20200309</th>\n",
              "      <td>584</td>\n",
              "      <td>3500</td>\n",
              "      <td>313</td>\n",
              "      <td>0</td>\n",
              "      <td>4397</td>\n",
              "    </tr>\n",
              "    <tr>\n",
              "      <th>20200310</th>\n",
              "      <td>778</td>\n",
              "      <td>3807</td>\n",
              "      <td>469</td>\n",
              "      <td>0</td>\n",
              "      <td>4889</td>\n",
              "    </tr>\n",
              "    <tr>\n",
              "      <th>20200311</th>\n",
              "      <td>1053</td>\n",
              "      <td>5978</td>\n",
              "      <td>563</td>\n",
              "      <td>27</td>\n",
              "      <td>7617</td>\n",
              "    </tr>\n",
              "    <tr>\n",
              "      <th>20200312</th>\n",
              "      <td>1315</td>\n",
              "      <td>7913</td>\n",
              "      <td>673</td>\n",
              "      <td>36</td>\n",
              "      <td>9836</td>\n",
              "    </tr>\n",
              "    <tr>\n",
              "      <th>20200313</th>\n",
              "      <td>1922</td>\n",
              "      <td>13513</td>\n",
              "      <td>1130</td>\n",
              "      <td>39</td>\n",
              "      <td>16565</td>\n",
              "    </tr>\n",
              "    <tr>\n",
              "      <th>20200314</th>\n",
              "      <td>2450</td>\n",
              "      <td>17107</td>\n",
              "      <td>1236</td>\n",
              "      <td>49</td>\n",
              "      <td>20795</td>\n",
              "    </tr>\n",
              "    <tr>\n",
              "      <th>20200315</th>\n",
              "      <td>3173</td>\n",
              "      <td>22548</td>\n",
              "      <td>2242</td>\n",
              "      <td>60</td>\n",
              "      <td>27963</td>\n",
              "    </tr>\n",
              "    <tr>\n",
              "      <th>20200316</th>\n",
              "      <td>4019</td>\n",
              "      <td>35840</td>\n",
              "      <td>1691</td>\n",
              "      <td>71</td>\n",
              "      <td>41552</td>\n",
              "    </tr>\n",
              "  </tbody>\n",
              "</table>\n",
              "</div>"
            ],
            "text/plain": [
              "          positive  negative  pending  death  total\n",
              "date                                               \n",
              "20200304       118       748      103      0    969\n",
              "20200305       176       971      197      0   1344\n",
              "20200306       223      1617      458      0   2298\n",
              "20200307       341      1863      602      0   2806\n",
              "20200308       417      2437      347      0   3201\n",
              "20200309       584      3500      313      0   4397\n",
              "20200310       778      3807      469      0   4889\n",
              "20200311      1053      5978      563     27   7617\n",
              "20200312      1315      7913      673     36   9836\n",
              "20200313      1922     13513     1130     39  16565\n",
              "20200314      2450     17107     1236     49  20795\n",
              "20200315      3173     22548     2242     60  27963\n",
              "20200316      4019     35840     1691     71  41552"
            ]
          },
          "metadata": {
            "tags": []
          },
          "execution_count": 15
        }
      ]
    },
    {
      "cell_type": "code",
      "metadata": {
        "id": "916a0sCVdNRQ",
        "colab_type": "code",
        "outputId": "eeaf0d59-c0e1-4bc0-d986-40310c8d00d4",
        "colab": {
          "base_uri": "https://localhost:8080/",
          "height": 296
        }
      },
      "source": [
        "gbUSA.sum().loc[:, ['positive', 'negative','death','total']].plot.line()"
      ],
      "execution_count": 16,
      "outputs": [
        {
          "output_type": "execute_result",
          "data": {
            "text/plain": [
              "<matplotlib.axes._subplots.AxesSubplot at 0x7f6c19853e48>"
            ]
          },
          "metadata": {
            "tags": []
          },
          "execution_count": 16
        },
        {
          "output_type": "display_data",
          "data": {
            "image/png": "[encoded data removed]",
            "text/plain": [
              "<Figure size 432x288 with 1 Axes>"
            ]
          },
          "metadata": {
            "tags": []
          }
        }
      ]
    },
    {
      "cell_type": "code",
      "metadata": {
        "id": "Ftv2uSph2y7_",
        "colab_type": "code",
        "outputId": "f3d23722-f6b2-429f-9e28-5b09446b6ea6",
        "colab": {
          "base_uri": "https://localhost:8080/",
          "height": 296
        }
      },
      "source": [
        "dfResults = gbUSA.sum().join(dfWHO, how='left', rsuffix='_who' )\n",
        "dfResults.loc[:, ['positive', 'confirmed']].plot.line()"
      ],
      "execution_count": 17,
      "outputs": [
        {
          "output_type": "execute_result",
          "data": {
            "text/plain": [
              "<matplotlib.axes._subplots.AxesSubplot at 0x7f6c180be5f8>"
            ]
          },
          "metadata": {
            "tags": []
          },
          "execution_count": 17
        },
        {
          "output_type": "display_data",
          "data": {
            "image/png": "[encoded data removed]",
            "text/plain": [
              "<Figure size 432x288 with 1 Axes>"
            ]
          },
          "metadata": {
            "tags": []
          }
        }
      ]
    },
    {
      "cell_type": "code",
      "metadata": {
        "colab_type": "code",
        "outputId": "1f9ccfab-243d-4a30-a49e-049b12d5dc7d",
        "id": "55lq16z8w_Ec",
        "colab": {
          "base_uri": "https://localhost:8080/",
          "height": 483
        }
      },
      "source": [
        "gbCA.sum().sort_values(by='date')"
      ],
      "execution_count": 18,
      "outputs": [
        {
          "output_type": "execute_result",
          "data": {
            "text/html": [
              "<div>\n",
              "<style scoped>\n",
              "    .dataframe tbody tr th:only-of-type {\n",
              "        vertical-align: middle;\n",
              "    }\n",
              "\n",
              "    .dataframe tbody tr th {\n",
              "        vertical-align: top;\n",
              "    }\n",
              "\n",
              "    .dataframe thead th {\n",
              "        text-align: right;\n",
              "    }\n",
              "</style>\n",
              "<table border=\"1\" class=\"dataframe\">\n",
              "  <thead>\n",
              "    <tr style=\"text-align: right;\">\n",
              "      <th></th>\n",
              "      <th>positive</th>\n",
              "      <th>negative</th>\n",
              "      <th>pending</th>\n",
              "      <th>death</th>\n",
              "      <th>total</th>\n",
              "    </tr>\n",
              "    <tr>\n",
              "      <th>date</th>\n",
              "      <th></th>\n",
              "      <th></th>\n",
              "      <th></th>\n",
              "      <th></th>\n",
              "      <th></th>\n",
              "    </tr>\n",
              "  </thead>\n",
              "  <tbody>\n",
              "    <tr>\n",
              "      <th>20200304</th>\n",
              "      <td>53</td>\n",
              "      <td>462</td>\n",
              "      <td>0</td>\n",
              "      <td>0</td>\n",
              "      <td>515</td>\n",
              "    </tr>\n",
              "    <tr>\n",
              "      <th>20200305</th>\n",
              "      <td>53</td>\n",
              "      <td>462</td>\n",
              "      <td>0</td>\n",
              "      <td>0</td>\n",
              "      <td>515</td>\n",
              "    </tr>\n",
              "    <tr>\n",
              "      <th>20200306</th>\n",
              "      <td>60</td>\n",
              "      <td>462</td>\n",
              "      <td>0</td>\n",
              "      <td>0</td>\n",
              "      <td>522</td>\n",
              "    </tr>\n",
              "    <tr>\n",
              "      <th>20200307</th>\n",
              "      <td>69</td>\n",
              "      <td>462</td>\n",
              "      <td>0</td>\n",
              "      <td>0</td>\n",
              "      <td>531</td>\n",
              "    </tr>\n",
              "    <tr>\n",
              "      <th>20200308</th>\n",
              "      <td>88</td>\n",
              "      <td>462</td>\n",
              "      <td>0</td>\n",
              "      <td>0</td>\n",
              "      <td>550</td>\n",
              "    </tr>\n",
              "    <tr>\n",
              "      <th>20200309</th>\n",
              "      <td>114</td>\n",
              "      <td>690</td>\n",
              "      <td>0</td>\n",
              "      <td>0</td>\n",
              "      <td>804</td>\n",
              "    </tr>\n",
              "    <tr>\n",
              "      <th>20200310</th>\n",
              "      <td>133</td>\n",
              "      <td>690</td>\n",
              "      <td>0</td>\n",
              "      <td>0</td>\n",
              "      <td>823</td>\n",
              "    </tr>\n",
              "    <tr>\n",
              "      <th>20200311</th>\n",
              "      <td>157</td>\n",
              "      <td>916</td>\n",
              "      <td>0</td>\n",
              "      <td>0</td>\n",
              "      <td>1073</td>\n",
              "    </tr>\n",
              "    <tr>\n",
              "      <th>20200312</th>\n",
              "      <td>202</td>\n",
              "      <td>916</td>\n",
              "      <td>0</td>\n",
              "      <td>4</td>\n",
              "      <td>1118</td>\n",
              "    </tr>\n",
              "    <tr>\n",
              "      <th>20200313</th>\n",
              "      <td>202</td>\n",
              "      <td>916</td>\n",
              "      <td>0</td>\n",
              "      <td>4</td>\n",
              "      <td>1118</td>\n",
              "    </tr>\n",
              "    <tr>\n",
              "      <th>20200314</th>\n",
              "      <td>252</td>\n",
              "      <td>916</td>\n",
              "      <td>0</td>\n",
              "      <td>5</td>\n",
              "      <td>1168</td>\n",
              "    </tr>\n",
              "    <tr>\n",
              "      <th>20200315</th>\n",
              "      <td>293</td>\n",
              "      <td>916</td>\n",
              "      <td>0</td>\n",
              "      <td>5</td>\n",
              "      <td>1209</td>\n",
              "    </tr>\n",
              "    <tr>\n",
              "      <th>20200316</th>\n",
              "      <td>335</td>\n",
              "      <td>7981</td>\n",
              "      <td>0</td>\n",
              "      <td>6</td>\n",
              "      <td>8316</td>\n",
              "    </tr>\n",
              "  </tbody>\n",
              "</table>\n",
              "</div>"
            ],
            "text/plain": [
              "          positive  negative  pending  death  total\n",
              "date                                               \n",
              "20200304        53       462        0      0    515\n",
              "20200305        53       462        0      0    515\n",
              "20200306        60       462        0      0    522\n",
              "20200307        69       462        0      0    531\n",
              "20200308        88       462        0      0    550\n",
              "20200309       114       690        0      0    804\n",
              "20200310       133       690        0      0    823\n",
              "20200311       157       916        0      0   1073\n",
              "20200312       202       916        0      4   1118\n",
              "20200313       202       916        0      4   1118\n",
              "20200314       252       916        0      5   1168\n",
              "20200315       293       916        0      5   1209\n",
              "20200316       335      7981        0      6   8316"
            ]
          },
          "metadata": {
            "tags": []
          },
          "execution_count": 18
        }
      ]
    },
    {
      "cell_type": "code",
      "metadata": {
        "id": "IHNp61EvdwQG",
        "colab_type": "code",
        "colab": {}
      },
      "source": [
        "jhurl = \"https://raw.githubusercontent.com/CSSEGISandData/COVID-19/master/csse_covid_19_data/csse_covid_19_daily_reports/03-15-2020.csv\"\n",
        "dfJHUData = pd.read_csv(jhurl, header=0,\n",
        "                        names=['state', 'country', 'last_update',\n",
        "                               'confirmed', 'dead', 'recovered', 'lat','lon'])"
      ],
      "execution_count": 0,
      "outputs": []
    },
    {
      "cell_type": "code",
      "metadata": {
        "id": "3WBkdfv2eLEc",
        "colab_type": "code",
        "outputId": "afbda938-80ac-4436-a752-e6cddf7ae9d9",
        "colab": {
          "base_uri": "https://localhost:8080/",
          "height": 68
        }
      },
      "source": [
        "dfJHUData[dfJHUData.country=='US'][['confirmed', 'dead']].sum()"
      ],
      "execution_count": 23,
      "outputs": [
        {
          "output_type": "execute_result",
          "data": {
            "text/plain": [
              "confirmed    3499\n",
              "dead           63\n",
              "dtype: int64"
            ]
          },
          "metadata": {
            "tags": []
          },
          "execution_count": 23
        }
      ]
    },
    {
      "cell_type": "code",
      "metadata": {
        "id": "NUQ35Inse05H",
        "colab_type": "code",
        "outputId": "985f1c57-ddbc-4b87-c2da-413d5054ef3a",
        "colab": {
          "base_uri": "https://localhost:8080/",
          "height": 68
        }
      },
      "source": [
        "dfJHUData[(dfJHUData.country=='US')&(dfJHUData.state=='California')][['confirmed', 'dead']].sum()"
      ],
      "execution_count": 24,
      "outputs": [
        {
          "output_type": "execute_result",
          "data": {
            "text/plain": [
              "confirmed    426\n",
              "dead           6\n",
              "dtype: int64"
            ]
          },
          "metadata": {
            "tags": []
          },
          "execution_count": 24
        }
      ]
    },
    {
      "cell_type": "code",
      "metadata": {
        "id": "H0JVVTFGfMOW",
        "colab_type": "code",
        "colab": {}
      },
      "source": [
        "dfJHUUS = dfJHUData[dfJHUData.country=='US']\n",
        "gbJHUByState= dfJHUUS.groupby(by='state')\n",
        "gbJHUByCountry = dfJHUData.groupby(by='country')"
      ],
      "execution_count": 0,
      "outputs": []
    },
    {
      "cell_type": "code",
      "metadata": {
        "id": "W8qWd0AYmg58",
        "colab_type": "code",
        "outputId": "c05f36d9-06f5-49b8-b23e-2596d4bcb963",
        "colab": {
          "base_uri": "https://localhost:8080/",
          "height": 221
        }
      },
      "source": [
        "gbJHUByCountry.confirmed.sum().sort_values(ascending=False).head(10)"
      ],
      "execution_count": 26,
      "outputs": [
        {
          "output_type": "execute_result",
          "data": {
            "text/plain": [
              "country\n",
              "China           81003\n",
              "Italy           24747\n",
              "Iran            13938\n",
              "Korea, South     8162\n",
              "Spain            7798\n",
              "Germany          5795\n",
              "France           4513\n",
              "US               3499\n",
              "Switzerland      2200\n",
              "Norway           1221\n",
              "Name: confirmed, dtype: int64"
            ]
          },
          "metadata": {
            "tags": []
          },
          "execution_count": 26
        }
      ]
    },
    {
      "cell_type": "code",
      "metadata": {
        "id": "YYKFYQpImnHI",
        "colab_type": "code",
        "outputId": "dccefd17-95b2-444e-9ecb-1b4e5334f44a",
        "colab": {
          "base_uri": "https://localhost:8080/",
          "height": 238
        }
      },
      "source": [
        "gbJHUByCountry.confirmed.sum().sort_values(ascending=False)"
      ],
      "execution_count": 27,
      "outputs": [
        {
          "output_type": "execute_result",
          "data": {
            "text/plain": [
              "country\n",
              "China                             81003\n",
              "Italy                             24747\n",
              "Iran                              13938\n",
              "Korea, South                       8162\n",
              "Spain                              7798\n",
              "                                  ...  \n",
              "Ethiopia                              1\n",
              "Eswatini                              1\n",
              "Equatorial Guinea                     1\n",
              "Congo (Brazzaville)                   1\n",
              "occupied Palestinian territory        0\n",
              "Name: confirmed, Length: 147, dtype: int64"
            ]
          },
          "metadata": {
            "tags": []
          },
          "execution_count": 27
        }
      ]
    },
    {
      "cell_type": "code",
      "metadata": {
        "id": "Gg4mjqT7ulaa",
        "colab_type": "code",
        "colab": {}
      },
      "source": [
        ""
      ],
      "execution_count": 0,
      "outputs": []
    }
  ]
}