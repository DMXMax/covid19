{
  "nbformat": 4,
  "nbformat_minor": 0,
  "metadata": {
    "colab": {
      "name": "coviddata",
      "provenance": [],
      "toc_visible": true,
      "authorship_tag": "ABX9TyMrxNV9oJY367HI4eA93ye6",
      "include_colab_link": true
    },
    "kernelspec": {
      "name": "python3",
      "display_name": "Python 3"
    }
  },
  "cells": [
    {
      "cell_type": "markdown",
      "metadata": {
        "id": "view-in-github",
        "colab_type": "text"
      },
      "source": [
        "<a href=\"https://colab.research.google.com/github/DMXMax/covid19/blob/gc_20200315/coviddata.ipynb\" target=\"_parent\"><img src=\"https://colab.research.google.com/assets/colab-badge.svg\" alt=\"Open In Colab\"/></a>"
      ]
    },
    {
      "cell_type": "code",
      "metadata": {
        "id": "jCzokJEPxFhv",
        "colab_type": "code",
        "colab": {}
      },
      "source": [
        "import numpy as np\n",
        "import pandas as pd\n",
        "import matplotlib.pyplot as plt\n",
        "import requests,json\n",
        "import datetime\n"
      ],
      "execution_count": null,
      "outputs": []
    },
    {
      "cell_type": "code",
      "metadata": {
        "id": "n0o_aO_7F1ai",
        "colab_type": "code",
        "colab": {}
      },
      "source": [
        "# Marin ICU Beds\n",
        "## Mercury News March 24, 2020\n",
        "\n",
        "MARIN_ICU_COUNT=66"
      ],
      "execution_count": null,
      "outputs": []
    },
    {
      "cell_type": "code",
      "metadata": {
        "id": "zNKPT5Z8BXPT",
        "colab_type": "code",
        "colab": {}
      },
      "source": [
        "covidtrackingurl = \"https://covidtracking.com/api/v1/states/daily.json\"\n",
        "response = requests.get(covidtrackingurl)\n",
        "dfCovidtracking = pd.DataFrame(response.json())\n",
        "dfCovidtracking.fillna(0, inplace=True)\n",
        "dfCovidtracking.negative = dfCovidtracking.negative.astype('int64')\n",
        "dfCovidtracking.positive = dfCovidtracking.positive.astype('int64')\n",
        "dfCovidtracking.pending = dfCovidtracking.pending.astype('int64')\n",
        "dfCovidtracking.total = dfCovidtracking.total.astype('int64')\n",
        "dfCovidtracking.death = dfCovidtracking.death.astype('int64')\n",
        "\n",
        "dfCovidtracking.date = dfCovidtracking.date.transform(lambda x: pd.to_datetime(datetime.date(x//10000, x%10000//100, x%100\n",
        "                                          )))\n",
        "dfCovidtracking.set_index(['date'], inplace=True)\n"
      ],
      "execution_count": null,
      "outputs": []
    },
    {
      "cell_type": "code",
      "metadata": {
        "id": "8EpndPpukyx1",
        "colab_type": "code",
        "colab": {}
      },
      "source": [
        "dfCalifornia = pd.read_csv(\"https://data.ca.gov/dataset/590188d5-8545-4c93-a9a0-e230f0db7290/resource/926fd08f-cc91-4828-af38-bd45de97f8c3/download/statewide_cases.csv\")"
      ],
      "execution_count": null,
      "outputs": []
    },
    {
      "cell_type": "code",
      "metadata": {
        "id": "8_Il5iuohC8_",
        "colab_type": "code",
        "colab": {}
      },
      "source": [
        "dfWHO = pd.read_csv(\"https://raw.githubusercontent.com/DMXMax/covid19/master/who/who_data.tsv\",\n",
        "                     sep='\\t', index_col='Date')"
      ],
      "execution_count": null,
      "outputs": []
    },
    {
      "cell_type": "code",
      "metadata": {
        "id": "IHNp61EvdwQG",
        "colab_type": "code",
        "colab": {}
      },
      "source": [
        "jhurl = \"https://raw.githubusercontent.com/CSSEGISandData/COVID-19/master/\"+\\\n",
        "\"csse_covid_19_data/csse_covid_19_daily_reports/07-01-2020.csv\"\n",
        "\n",
        "\n",
        "dfJHUData = pd.read_csv(jhurl, header=0, usecols=[0,1,2,3,4,5,6,7,8,9,10,11],\n",
        "                        names=['FIPS', 'city','state', 'country', 'last_update',\n",
        "                               'lat', 'lon','confirmed', 'dead', 'recovered','active', 'key'])"
      ],
      "execution_count": null,
      "outputs": []
    },
    {
      "cell_type": "code",
      "metadata": {
        "id": "hrPlWJJCVtBR",
        "colab_type": "code",
        "colab": {}
      },
      "source": [
        "dfWHO = dfWHO.rename(columns={\"Confirmed\": \"confirmed\", \"Deaths\": \"who_deaths\"})\n",
        "dfWHO.index.names=['date']\n"
      ],
      "execution_count": null,
      "outputs": []
    },
    {
      "cell_type": "code",
      "metadata": {
        "id": "ziqcH5LxdBrS",
        "colab_type": "code",
        "colab": {}
      },
      "source": [
        "print(\"US Summary\")\n",
        "dfCovidtracking.groupby(by='date').sum()[-7:][['positive', 'death', 'positiveIncrease', 'deathIncrease']]"
      ],
      "execution_count": null,
      "outputs": []
    },
    {
      "cell_type": "code",
      "metadata": {
        "id": "0Fimy4iQiz6y",
        "colab_type": "code",
        "colab": {}
      },
      "source": [
        "dfCovidtracking.loc[dfCovidtracking.state=='CA'].groupby(by='date').sum()[['positive', 'death', 'positiveIncrease', 'deathIncrease']].tail(7)"
      ],
      "execution_count": null,
      "outputs": []
    },
    {
      "cell_type": "code",
      "metadata": {
        "id": "seTsogpLG0bH",
        "colab_type": "code",
        "colab": {}
      },
      "source": [
        "dfCovidtracking.groupby(by='date').sum().sort_values(by='positiveIncrease', ascending=False)[['positiveIncrease']].head(5)"
      ],
      "execution_count": null,
      "outputs": []
    },
    {
      "cell_type": "code",
      "metadata": {
        "colab_type": "code",
        "id": "idyqfNddlLPv",
        "colab": {}
      },
      "source": [
        "col = ['inc_pos', 'inc_death','tot_pos','death']\n",
        "dfctd_state_curr = dfCovidtracking.loc[dfCovidtracking.index.max()] \\\n",
        "  .rename(columns={'positive':'tot_pos',\n",
        "                   'positiveIncrease':'inc_pos',\n",
        "                   'deathIncrease':'inc_death'}) \\\n",
        "  .set_index('state') \n",
        "\n",
        "print(f\"Total positive cases = {dfctd_state_curr.tot_pos.sum()}\")\n",
        "print(f\"Total deaths = {dfctd_state_curr.death.sum()}\")\n",
        "  \n",
        "dfctd_state_curr.style.format(\"{:,}\")\n",
        "dfctd_state_curr.sort_values(by='inc_pos', ascending=False)[col][:5].style.format(\"{:18}\")"
      ],
      "execution_count": null,
      "outputs": []
    },
    {
      "cell_type": "code",
      "metadata": {
        "id": "PVbqm0iv_vkl",
        "colab_type": "code",
        "colab": {}
      },
      "source": [
        "#%load_ext google.colab.data_table\n",
        "from google.colab import data_table\n",
        "data_table.DataTable(dfctd_state_curr.sort_values(by='inc_pos', ascending=False) \\\n",
        "                     [['inc_pos']][:5].rename(columns = {'inc_pos': 'Positive Increase'}))\n",
        "\n",
        "%unload_ext google.colab.data_table"
      ],
      "execution_count": null,
      "outputs": []
    },
    {
      "cell_type": "code",
      "metadata": {
        "id": "0e-mvzfplLfO",
        "colab_type": "code",
        "colab": {}
      },
      "source": [
        "dfnormalized = dfCovidtracking.groupby(by='date').sum()[['positiveIncrease', 'deathIncrease']].copy()\n",
        "((dfnormalized-dfnormalized.min())/(dfnormalized.max()-dfnormalized.min())).rolling(window=7).mean()[-120:]\\\n",
        "  .plot.line(figsize=(21,7), title=\"Normalized Increases in Daily Positives and Deaths\")"
      ],
      "execution_count": null,
      "outputs": []
    },
    {
      "cell_type": "code",
      "metadata": {
        "id": "lGudHT881gNl",
        "colab_type": "code",
        "colab": {}
      },
      "source": [
        "dfnormalized.plot.line(figsize=(21,7), title=\"Increases in Daily Positive Tests and Deaths\")"
      ],
      "execution_count": null,
      "outputs": []
    },
    {
      "cell_type": "code",
      "metadata": {
        "id": "rFOHyOwb4bcm",
        "colab_type": "code",
        "colab": {}
      },
      "source": [
        "curr_state = 'CA'\n",
        "gbUSA = dfCovidtracking.groupby(['date'])\n",
        "gbState = dfCovidtracking[dfCovidtracking.state==curr_state].groupby(['date'])\n",
        "\n",
        "cols = ['positive', 'totalTestResultsIncrease', 'death', 'positiveIncrease','deathIncrease']\n",
        "\n",
        "dfUSAPos = gbUSA[cols].sum().reset_index().copy()\n",
        "dfStatePos = gbState[cols].sum().reset_index().copy()\n",
        "\n",
        "#This will calculate the percentage each day is of the total. In a flattening, this will be more even\n",
        "# In a high growth situation, you'll higher percentages at the tail. \n",
        "\n",
        "dfUSAPos['pos_pct']= dfUSAPos.positive/dfctd_state_curr.tot_pos.sum()\n",
        "dfStatePos['pos_pct']=dfStatePos.positive/dfctd_state_curr.loc[curr_state].tot_pos"
      ],
      "execution_count": null,
      "outputs": []
    },
    {
      "cell_type": "code",
      "metadata": {
        "colab_type": "code",
        "id": "BHKhtPRozVFF",
        "colab": {}
      },
      "source": [
        "dfUSAPos[-7:]"
      ],
      "execution_count": null,
      "outputs": []
    },
    {
      "cell_type": "code",
      "metadata": {
        "id": "BTvuZKJN0RoI",
        "colab_type": "code",
        "colab": {}
      },
      "source": [
        "gbUSA.sum()[-5:]"
      ],
      "execution_count": null,
      "outputs": []
    },
    {
      "cell_type": "code",
      "metadata": {
        "id": "bjpo-qlGoA7A",
        "colab_type": "code",
        "colab": {}
      },
      "source": [
        "gbState.sum()[-5:]"
      ],
      "execution_count": null,
      "outputs": []
    },
    {
      "cell_type": "code",
      "metadata": {
        "id": "916a0sCVdNRQ",
        "colab_type": "code",
        "colab": {}
      },
      "source": [
        "x=gbUSA.sum().loc[:, ['positive', 'negative','death','total']].plot.line()"
      ],
      "execution_count": null,
      "outputs": []
    },
    {
      "cell_type": "code",
      "metadata": {
        "id": "Ftv2uSph2y7_",
        "colab_type": "code",
        "colab": {}
      },
      "source": [
        "dfResults = gbUSA.sum().join(dfWHO, how='left', rsuffix='_who' )\n",
        "dfResults.loc[:, ['positive', 'confirmed']].plot.line()"
      ],
      "execution_count": null,
      "outputs": []
    },
    {
      "cell_type": "markdown",
      "metadata": {
        "id": "YxDqKQSObhxe",
        "colab_type": "text"
      },
      "source": [
        "# John Hopkins Data\n"
      ]
    },
    {
      "cell_type": "code",
      "metadata": {
        "id": "3WBkdfv2eLEc",
        "colab_type": "code",
        "colab": {}
      },
      "source": [
        "dfData = dfJHUData[dfJHUData.country=='US'][['confirmed', 'dead']].sum()\n",
        "print(dfData)\n",
        "print(f\"IFR based on JHU Data: {dfData.dead/dfData.confirmed*100:.2f}%\")"
      ],
      "execution_count": null,
      "outputs": []
    },
    {
      "cell_type": "code",
      "metadata": {
        "id": "NUQ35Inse05H",
        "colab_type": "code",
        "colab": {}
      },
      "source": [
        "dfJHUData[(dfJHUData.country=='US')&(dfJHUData.state=='California')][['confirmed', 'dead']].sum()"
      ],
      "execution_count": null,
      "outputs": []
    },
    {
      "cell_type": "code",
      "metadata": {
        "id": "H0JVVTFGfMOW",
        "colab_type": "code",
        "colab": {}
      },
      "source": [
        "dfJHUUS = dfJHUData[dfJHUData.country=='US']\n",
        "gbJHUByState= dfJHUUS.groupby(by='state')\n",
        "gbJHUByCountry = dfJHUData.groupby(by='country')"
      ],
      "execution_count": null,
      "outputs": []
    },
    {
      "cell_type": "code",
      "metadata": {
        "id": "MFL78gbq-rb8",
        "colab_type": "code",
        "colab": {}
      },
      "source": [
        "dfJHUData.head()"
      ],
      "execution_count": null,
      "outputs": []
    },
    {
      "cell_type": "code",
      "metadata": {
        "id": "tHAHXX8WJfOk",
        "colab_type": "code",
        "colab": {}
      },
      "source": [
        "dfJHUData[(dfJHUData.city==\"Orange\") & (dfJHUData.state==\"California\")]"
      ],
      "execution_count": null,
      "outputs": []
    },
    {
      "cell_type": "code",
      "metadata": {
        "id": "xMBAYCry3irt",
        "colab_type": "code",
        "colab": {}
      },
      "source": [
        "dfJHUData.set_index('state').loc[\"California\"].set_index('city').loc['Marin']"
      ],
      "execution_count": null,
      "outputs": []
    },
    {
      "cell_type": "code",
      "metadata": {
        "id": "iPsfvvHC2_j1",
        "colab_type": "code",
        "colab": {}
      },
      "source": [
        "dfState = dfCovidtracking.reset_index()[['date','state','positive', 'death']].set_index('state') \\\n",
        "  .join(dfctd_state_curr.tot_pos)"
      ],
      "execution_count": null,
      "outputs": []
    },
    {
      "cell_type": "code",
      "metadata": {
        "id": "AkxH55Mx5yE6",
        "colab_type": "code",
        "colab": {}
      },
      "source": [
        "dfState['pct']=dfState.positive/dfState.tot_pos"
      ],
      "execution_count": null,
      "outputs": []
    },
    {
      "cell_type": "code",
      "metadata": {
        "id": "PKQ2rgz76XZR",
        "colab_type": "code",
        "colab": {}
      },
      "source": [
        "dfState.loc['FL'].head(14)\n"
      ],
      "execution_count": null,
      "outputs": []
    },
    {
      "cell_type": "code",
      "metadata": {
        "id": "dkgVF6Q19glV",
        "colab_type": "code",
        "colab": {}
      },
      "source": [
        "res = dfState.reset_index().pivot(index = 'date', columns='state', values='pct').fillna(0)"
      ],
      "execution_count": null,
      "outputs": []
    },
    {
      "cell_type": "code",
      "metadata": {
        "id": "w1ml4KC6BF7q",
        "colab_type": "code",
        "colab": {}
      },
      "source": [
        "x = res.loc[:, ['CA','FL']].plot.line()"
      ],
      "execution_count": null,
      "outputs": []
    },
    {
      "cell_type": "code",
      "metadata": {
        "colab_type": "code",
        "id": "tU6xIJWlPyp5",
        "colab": {}
      },
      "source": [
        "x = dfCovidtracking.groupby(by='date')\n",
        "y1=x.sum()\n",
        "\n",
        "chart = y1[-90:].positiveIncrease.plot.line(figsize=(40,20), fontsize=36, \\\n",
        "  style='.-', markersize=48, color='red', linewidth=4) \\\n",
        ".legend(['Daily Additional Positive Tests'],fontsize=32)\n"
      ],
      "execution_count": null,
      "outputs": []
    },
    {
      "cell_type": "code",
      "metadata": {
        "id": "NjDtqBrvDRMu",
        "colab_type": "code",
        "colab": {}
      },
      "source": [
        "def getWeek(dt):\n",
        "  return (dt.year*100)+dt.week\n",
        "\n",
        "dfByWeekYear = dfCovidtracking[['deathIncrease', 'hospitalizedIncrease', \n",
        "                                'negativeIncrease','positiveIncrease','totalTestResultsIncrease']] \\\n",
        "                                .groupby(by=getWeek)\n"
      ],
      "execution_count": null,
      "outputs": []
    },
    {
      "cell_type": "code",
      "metadata": {
        "colab_type": "code",
        "id": "z3kBSyO3Dvf7",
        "colab": {}
      },
      "source": [
        "def getWeek(dt):\n",
        "  return (dt.year*100)+dt.week\n",
        "\n",
        "dfDoW = dfCovidtracking[['deathIncrease', 'hospitalizedIncrease', \n",
        "                         'negativeIncrease','positiveIncrease','totalTestResultsIncrease']] \\\n",
        "                         .groupby(by=lambda x: x.dayofweek)\n"
      ],
      "execution_count": null,
      "outputs": []
    },
    {
      "cell_type": "code",
      "metadata": {
        "id": "Tz1eYggwEWXR",
        "colab_type": "code",
        "colab": {}
      },
      "source": [
        "dfDoW.mean().deathIncrease.plot.bar()\n",
        "\n"
      ],
      "execution_count": null,
      "outputs": []
    },
    {
      "cell_type": "code",
      "metadata": {
        "id": "QlApKolYEeQk",
        "colab_type": "code",
        "colab": {}
      },
      "source": [
        "dfByWeekYear.sum()[-7:]"
      ],
      "execution_count": null,
      "outputs": []
    },
    {
      "cell_type": "code",
      "metadata": {
        "id": "1kOc3QH1FpMu",
        "colab_type": "code",
        "colab": {}
      },
      "source": [
        "import matplotlib.ticker as ticker\n",
        "plt1 = dfByWeekYear.sum()[:-1][['deathIncrease']].plot.line(figsize=(40,20), \\\n",
        "    fontsize=36, style='.-', markersize=48, linewidth=10, color='red')\n",
        "plt1.legend(['Weekly Additional Deaths'],fontsize=32)\n",
        "plt2 = dfByWeekYear.sum()[:-1][['totalTestResultsIncrease']].plot.line(figsize=(40,20), \\\n",
        "    fontsize=36, style='.-', markersize=48, linewidth=10, color='purple')\n",
        "plt2.legend(['Weekly Additional Tests'],fontsize=32)\n",
        "\n",
        "plt2.yaxis.set_major_formatter(ticker.FormatStrFormatter('%6.0d'))\n",
        "    \n",
        "plt3 = dfByWeekYear.sum()[:-1][['positiveIncrease']].plot.line(figsize=(40,20), \\\n",
        "    fontsize=36, style='.-', markersize=48, linewidth=10, color='green')\n",
        "plt3.legend(['Weekly Additional Postives'],fontsize=32)"
      ],
      "execution_count": null,
      "outputs": []
    },
    {
      "cell_type": "code",
      "metadata": {
        "id": "rvA7H7Ur2Wkg",
        "colab_type": "code",
        "colab": {}
      },
      "source": [
        "dfCovidtracking.groupby(by='date').sum().rolling(window=7).mean() \\\n",
        ".positiveIncrease.plot.line(figsize=(10,8), title=\"Positive Tests, 7 Day Rolling Average\", \\\n",
        "                            fontsize=20).title.set_size(20) \n",
        "                            "
      ],
      "execution_count": null,
      "outputs": []
    },
    {
      "cell_type": "code",
      "metadata": {
        "id": "veQ1Q3Kv3oJS",
        "colab_type": "code",
        "colab": {}
      },
      "source": [
        "dfCAAvg = dfCovidtracking[dfCovidtracking.state=='CA'] \\\n",
        ".groupby(by='date').sum().rolling(window=7).mean()\n",
        "\n",
        "graph1 = dfCAAvg[-40:].positiveIncrease.plot.bar(figsize=(14,7))"
      ],
      "execution_count": null,
      "outputs": []
    },
    {
      "cell_type": "code",
      "metadata": {
        "id": "8GA3W0gG4U5i",
        "colab_type": "code",
        "colab": {}
      },
      "source": [
        "dfCAAvg.deathIncrease.plot.line()"
      ],
      "execution_count": null,
      "outputs": []
    },
    {
      "cell_type": "code",
      "metadata": {
        "id": "Puz0PBzemMD3",
        "colab_type": "code",
        "colab": {}
      },
      "source": [
        "dfDates = dfState.reset_index().copy().set_index('date')\n",
        "datecutoff = dfDates.index.max()-datetime.timedelta(days=7)\n",
        "\n",
        "dfDates[(dfDates.index == datecutoff) & (dfDates.pct < .85)].sort_values(by='pct')\n"
      ],
      "execution_count": null,
      "outputs": []
    },
    {
      "cell_type": "code",
      "metadata": {
        "id": "ZmaKzaBnGQwj",
        "colab_type": "code",
        "colab": {}
      },
      "source": [
        "\n",
        "def showStateData(state):\n",
        "  return dfCovidtracking[dfCovidtracking.state==state]\\\n",
        "  .sort_index()\\\n",
        "  .copy()\n",
        "\n",
        "data = showStateData('CA')\n",
        "\n",
        "chart = data\\\n",
        ".positiveIncrease\\\n",
        ".rolling(window=7)\\\n",
        ".mean()\n",
        "\n",
        "chart = chart.tail(60).plot.bar(figsize=(14,5))\n",
        "\n",
        "x = data.index[-60:].strftime(\"%m-%d\")\n",
        "chart = chart.set_xticklabels(x)"
      ],
      "execution_count": null,
      "outputs": []
    },
    {
      "cell_type": "code",
      "metadata": {
        "id": "SUrvZAYZIBv_",
        "colab_type": "code",
        "colab": {}
      },
      "source": [
        "dfTest = dfCovidtracking[dfCovidtracking.state=='CA'].sort_index().copy()\n",
        "dfTest.head()"
      ],
      "execution_count": null,
      "outputs": []
    },
    {
      "cell_type": "code",
      "metadata": {
        "id": "xXwRJHzjJwBN",
        "colab_type": "code",
        "colab": {}
      },
      "source": [
        "dfTest.head()"
      ],
      "execution_count": null,
      "outputs": []
    },
    {
      "cell_type": "markdown",
      "metadata": {
        "id": "xFA0q8At-4sZ",
        "colab_type": "text"
      },
      "source": [
        "# State Population Data\n"
      ]
    },
    {
      "cell_type": "code",
      "metadata": {
        "id": "Nlx8_xZ27kvp",
        "colab_type": "code",
        "colab": {}
      },
      "source": [
        "data_url = \"https://www2.census.gov/programs-surveys/popest/datasets/2010-2019/national/totals/nst-est2019-alldata.csv\"\n"
      ],
      "execution_count": null,
      "outputs": []
    },
    {
      "cell_type": "code",
      "metadata": {
        "id": "Lwz6IJdX_WFx",
        "colab_type": "code",
        "colab": {}
      },
      "source": [
        "dfUSPop = pd.read_csv(data_url)"
      ],
      "execution_count": null,
      "outputs": []
    },
    {
      "cell_type": "code",
      "metadata": {
        "id": "aU3ZzHS-AkRS",
        "colab_type": "code",
        "colab": {}
      },
      "source": [
        "import math\n",
        "us_pop = dfUSPop.loc[0].POPESTIMATE2019 #Estimate from Wikipedia\n",
        "res = dfCovidtracking.loc[dfCovidtracking.index.max()][['positive', 'negative', 'pending','death', 'total']].sum()\n",
        "cir = res.positive/res.total\n",
        "cfr = res.death/res.positive\n",
        "p_aff= math.ceil(us_pop*cir)\n",
        "p_dead= math.ceil(p_aff*cfr)\n",
        "print(res)\n",
        "print(f\"Current Infection Rate {cir*100:2f}%\")\n",
        "print(f\"Percentage of US affected: {(res.positive+res.death)/us_pop*100:2f}%\")\n",
        "print(f\"Observed CFR: {cfr*100:2f}%\")\n",
        "print(f\"Percentage of US tested/affected: {(res.negative+res.positive+res.death)/us_pop*100:2f}%\")\n",
        "print(f\"Projected affected by cir = {p_aff:,d}\")\n",
        "print(f\"Projected killed = {p_dead:,d}\")\n"
      ],
      "execution_count": null,
      "outputs": []
    },
    {
      "cell_type": "code",
      "metadata": {
        "id": "vihKU2ItzKWi",
        "colab_type": "code",
        "colab": {}
      },
      "source": [
        "!if [ ! -d \"loc\" ]; then \\\n",
        "git clone https://gist.github.com/rogerallen/1583593 --depth=1 --quiet loc; \\\n",
        "fi\n",
        "import sys\n",
        "sys.path.append(\"loc\")\n",
        "\n",
        "\n"
      ],
      "execution_count": null,
      "outputs": []
    },
    {
      "cell_type": "code",
      "metadata": {
        "id": "66JPa3Sv0uH1",
        "colab_type": "code",
        "colab": {}
      },
      "source": [
        "import us_state_abbrev as us_abbr\n"
      ],
      "execution_count": null,
      "outputs": []
    },
    {
      "cell_type": "code",
      "metadata": {
        "id": "JYnrS2eV2ohs",
        "colab_type": "code",
        "colab": {}
      },
      "source": [
        "dfStatePop = dfUSPop[dfUSPop.STATE != 0].copy()"
      ],
      "execution_count": null,
      "outputs": []
    },
    {
      "cell_type": "code",
      "metadata": {
        "id": "43XHoUsx4Px7",
        "colab_type": "code",
        "colab": {}
      },
      "source": [
        "dfStatePop['ABBR']=dfStatePop.NAME.apply(lambda x: us_abbr.us_state_abbrev[x])"
      ],
      "execution_count": null,
      "outputs": []
    },
    {
      "cell_type": "code",
      "metadata": {
        "id": "d08OerM_4vBo",
        "colab_type": "code",
        "colab": {}
      },
      "source": [
        "dfStatePop = dfStatePop.loc[:, ['ABBR', 'POPESTIMATE2019']]\n",
        "dfStatePop.set_index('ABBR', inplace=True)"
      ],
      "execution_count": null,
      "outputs": []
    },
    {
      "cell_type": "code",
      "metadata": {
        "id": "4puN3Aea5qwp",
        "colab_type": "code",
        "colab": {}
      },
      "source": [
        "dfStateCovid = dfCovidtracking.loc[dfCovidtracking.index.max()].set_index('state')"
      ],
      "execution_count": null,
      "outputs": []
    },
    {
      "cell_type": "code",
      "metadata": {
        "id": "R2rumgN265Zr",
        "colab_type": "code",
        "colab": {}
      },
      "source": [
        "dfStateJoin = dfStateCovid.join(dfStatePop)"
      ],
      "execution_count": null,
      "outputs": []
    },
    {
      "cell_type": "code",
      "metadata": {
        "id": "pgD43HXE7ayl",
        "colab_type": "code",
        "colab": {}
      },
      "source": [
        "r1 = pd.DataFrame([(dfStateJoin.positive / dfStateJoin.POPESTIMATE2019)*100, \\\n",
        "              (dfStateJoin.totalTestResults/ dfStateJoin.POPESTIMATE2019)*100],\\\n",
        "             index=['state_pos_pop','state_test_pop'] ).\\\n",
        "             T.sort_values(by=\"state_pos_pop\", ascending=False)[:50]\n",
        "\n",
        "print(r1.loc[['CA', 'FL','MN','TX', 'MI','OK']])\n",
        "print(r1[:10])"
      ],
      "execution_count": null,
      "outputs": []
    },
    {
      "cell_type": "code",
      "metadata": {
        "id": "-uy6plHZ84GH",
        "colab_type": "code",
        "colab": {}
      },
      "source": [
        "#print(f\"Current Infection Rate {res.positive/res.total*100:2f}%\")\n",
        "\n",
        "print(f\"Current USA Testing Percent {gbUSA.sum().tail(1).totalTestResults[0]/dfUSPop[dfUSPop.REGION=='0'].POPESTIMATE2019[0]*100:2f}%\")"
      ],
      "execution_count": null,
      "outputs": []
    },
    {
      "cell_type": "markdown",
      "metadata": {
        "id": "0I0qZ-kjS9Ck",
        "colab_type": "text"
      },
      "source": [
        "# OWID Data"
      ]
    },
    {
      "cell_type": "code",
      "metadata": {
        "id": "R8BhxDaaZG7J",
        "colab_type": "code",
        "colab": {}
      },
      "source": [
        "dfOwid = pd.read_csv(\"https://raw.githubusercontent.com/owid/covid-19-data/master/public/data/owid-covid-data.csv\")"
      ],
      "execution_count": null,
      "outputs": []
    },
    {
      "cell_type": "code",
      "metadata": {
        "id": "KgJXmpC1g-Wz",
        "colab_type": "code",
        "colab": {}
      },
      "source": [
        "dfOwidTests = dfOwid.dropna(subset=['total_tests']).copy()"
      ],
      "execution_count": null,
      "outputs": []
    },
    {
      "cell_type": "code",
      "metadata": {
        "id": "Qngm15gRiTJY",
        "colab_type": "code",
        "colab": {}
      },
      "source": [
        "dfOwidLatest = dfOwidTests.sort_values(by='date').groupby('iso_code').last()"
      ],
      "execution_count": null,
      "outputs": []
    },
    {
      "cell_type": "code",
      "metadata": {
        "id": "kmMUQTWUioLl",
        "colab_type": "code",
        "colab": {}
      },
      "source": [
        "dfOwidLatest.total_tests.sort_values(ascending=False)"
      ],
      "execution_count": null,
      "outputs": []
    },
    {
      "cell_type": "code",
      "metadata": {
        "id": "fJMhnvEtjjf8",
        "colab_type": "code",
        "colab": {}
      },
      "source": [
        "isUSA = dfOwidLatest.index.isin(['USA'])\n",
        "NonUSTests = dfOwidLatest[~isUSA].total_tests.sum()\n",
        "USTests = dfOwidLatest[isUSA].total_tests.sum()\n",
        "\n",
        "print(f\"Total testing done outside of USA: {NonUSTests:.0f}\")\n",
        "print(f\"Total tests done in USA : {USTests:.0f}\")\n",
        "print(f\"How many more times has the world tested more than the US: {NonUSTests/USTests:.1f}\")"
      ],
      "execution_count": null,
      "outputs": []
    },
    {
      "cell_type": "code",
      "metadata": {
        "id": "PHEIbDtQnQ65",
        "colab_type": "code",
        "colab": {}
      },
      "source": [
        "dfOwidLatest[isUSA].sum()"
      ],
      "execution_count": null,
      "outputs": []
    },
    {
      "cell_type": "code",
      "metadata": {
        "id": "kFfq__ymooV8",
        "colab_type": "code",
        "colab": {}
      },
      "source": [
        "dfOwidUSA = dfOwid.loc[dfOwid.iso_code=='USA']\n",
        "\n",
        "dfOwidUSA.set_index('date')[['new_cases','new_deaths']][-60:].plot.line(figsize=(14,6))"
      ],
      "execution_count": null,
      "outputs": []
    },
    {
      "cell_type": "code",
      "metadata": {
        "id": "fHT4YMiYZ5BZ",
        "colab_type": "code",
        "colab": {}
      },
      "source": [
        "dfOwidLatest.sort_values(by='total_cases_per_million', ascending=False)[:10]"
      ],
      "execution_count": null,
      "outputs": []
    },
    {
      "cell_type": "code",
      "metadata": {
        "id": "TLcrZlOtMrw4",
        "colab_type": "code",
        "colab": {}
      },
      "source": [
        "state = 'CA'\n",
        "dfRollingWeekState = dfCovidtracking.loc[dfCovidtracking.state==state]\\\n",
        ".rolling(window=7).mean()\n",
        "\n",
        "plt = dfRollingWeekState.positiveIncrease.plot.line()"
      ],
      "execution_count": null,
      "outputs": []
    },
    {
      "cell_type": "code",
      "metadata": {
        "id": "DAPb9lcDM4sD",
        "colab_type": "code",
        "colab": {}
      },
      "source": [
        ""
      ],
      "execution_count": null,
      "outputs": []
    },
    {
      "cell_type": "code",
      "metadata": {
        "id": "DJPb2rO9RIjF",
        "colab_type": "code",
        "colab": {}
      },
      "source": [
        "dfJHUData[dfJHUData.state=='Florida'].confirmed.sum()"
      ],
      "execution_count": null,
      "outputs": []
    },
    {
      "cell_type": "code",
      "metadata": {
        "id": "a2_ggMU6VRNa",
        "colab_type": "code",
        "colab": {}
      },
      "source": [
        "doWGA = dfCovidtracking[dfCovidtracking.state=='GA'][['deathIncrease', 'hospitalizedIncrease', 'negativeIncrease','positiveIncrease','totalTestResultsIncrease']]\\\n",
        ".groupby(lambda x: x.dayofweek)"
      ],
      "execution_count": null,
      "outputs": []
    },
    {
      "cell_type": "code",
      "metadata": {
        "id": "a1KFQaErWpPL",
        "colab_type": "code",
        "colab": {}
      },
      "source": [
        "doWGA.sum()"
      ],
      "execution_count": null,
      "outputs": []
    },
    {
      "cell_type": "code",
      "metadata": {
        "id": "e_wKdV8Hk-H-",
        "colab_type": "code",
        "colab": {}
      },
      "source": [
        "dfCalifornia.groupby(by='date').count()"
      ],
      "execution_count": null,
      "outputs": []
    },
    {
      "cell_type": "code",
      "metadata": {
        "id": "0XxU1eKuk-Dt",
        "colab_type": "code",
        "colab": {}
      },
      "source": [
        "dfCalifornia.set_index('date', inplace=True)\n"
      ],
      "execution_count": null,
      "outputs": []
    },
    {
      "cell_type": "code",
      "metadata": {
        "id": "ypwYCc6Hl07I",
        "colab_type": "code",
        "colab": {}
      },
      "source": [
        "dfCalifornia.loc[dfCalifornia.index.values.max()].sum()"
      ],
      "execution_count": null,
      "outputs": []
    },
    {
      "cell_type": "markdown",
      "metadata": {
        "id": "dPef54j1mas4",
        "colab_type": "text"
      },
      "source": [
        ""
      ]
    },
    {
      "cell_type": "markdown",
      "metadata": {
        "id": "f2Yl_MChjfAF",
        "colab_type": "text"
      },
      "source": [
        "# Socrata (San Francisco) Data"
      ]
    },
    {
      "cell_type": "code",
      "metadata": {
        "id": "lZjK2vF2drfj",
        "colab_type": "code",
        "colab": {}
      },
      "source": [
        "!pip install sodapy"
      ],
      "execution_count": null,
      "outputs": []
    },
    {
      "cell_type": "code",
      "metadata": {
        "id": "el7yqlqPeCTq",
        "colab_type": "code",
        "colab": {}
      },
      "source": [
        "from sodapy import Socrata"
      ],
      "execution_count": null,
      "outputs": []
    },
    {
      "cell_type": "code",
      "metadata": {
        "id": "I2gyVu_3eL7N",
        "colab_type": "code",
        "colab": {}
      },
      "source": [
        "client = Socrata(\"data.sfgov.org\", \"LCSuN5PrqWkGtBe9dULkS75Rz\")\n",
        "results_df = pd.DataFrame.from_records(client.get(\"tvq9-ec9w\"))"
      ],
      "execution_count": null,
      "outputs": []
    },
    {
      "cell_type": "code",
      "metadata": {
        "id": "FJZ0ABLipnbD",
        "colab_type": "code",
        "colab": {}
      },
      "source": [
        "res = results_df.astype({'case_count':'int16'}).rename(columns={'specimen_collection_date':'date'})\n"
      ],
      "execution_count": null,
      "outputs": []
    },
    {
      "cell_type": "code",
      "metadata": {
        "id": "DgNTTy3OlAEO",
        "colab_type": "code",
        "colab": {}
      },
      "source": [
        "dfresConf = res[res.case_disposition=='Confirmed']\n",
        "dfresDead = res[res.case_disposition=='Death']"
      ],
      "execution_count": null,
      "outputs": []
    },
    {
      "cell_type": "code",
      "metadata": {
        "id": "F-z-Tjc7p7BG",
        "colab_type": "code",
        "colab": {}
      },
      "source": [
        "dfTotals = dfresConf.groupby(by='date').sum().join(dfresDead.groupby(by='date').sum(), \\\n",
        "        rsuffix='dead').fillna(0) \\\n",
        "        .rename(columns={'case_count':'positive', 'case_countdead':'dead'})"
      ],
      "execution_count": null,
      "outputs": []
    },
    {
      "cell_type": "code",
      "metadata": {
        "id": "Hk1Y0Extn_8h",
        "colab_type": "code",
        "colab": {}
      },
      "source": [
        "chart = dfTotals[['dead', 'positive']][-30:]\\\n",
        ".plot.bar(figsize=(18,6),stacked=True, color=['red','blue'])"
      ],
      "execution_count": null,
      "outputs": []
    },
    {
      "cell_type": "code",
      "metadata": {
        "id": "Bx31wxg6iVOl",
        "colab_type": "code",
        "colab": {}
      },
      "source": [
        "dfresConf.groupby('date').sum().rename(columns={'case_count':'new_cases'}).tail(14)"
      ],
      "execution_count": null,
      "outputs": []
    },
    {
      "cell_type": "code",
      "metadata": {
        "id": "cPjtwsuup5TP",
        "colab_type": "code",
        "colab": {}
      },
      "source": [
        "dfresConf.groupby('date').sum().rolling(window=7).mean()[-45:].plot.bar(figsize=(20,6))"
      ],
      "execution_count": null,
      "outputs": []
    },
    {
      "cell_type": "code",
      "metadata": {
        "id": "HHZAHFvegx1q",
        "colab_type": "code",
        "colab": {}
      },
      "source": [
        "dfCovidtracking.loc[dfCovidtracking.state=='CA'][-60::-1].inIcuCurrently.diff().plot.line()"
      ],
      "execution_count": null,
      "outputs": []
    },
    {
      "cell_type": "markdown",
      "metadata": {
        "id": "PwfrkjQGgyzD",
        "colab_type": "text"
      },
      "source": [
        "# Marin Data"
      ]
    },
    {
      "cell_type": "code",
      "metadata": {
        "id": "w96oz6JAgz9i",
        "colab_type": "code",
        "colab": {}
      },
      "source": [
        "url = \"https://docs.google.com/spreadsheets/d/e/2PACX-1vSRmO2pStf7Ft1yYjDULluZXzUAczGK_B34hDemDBadGEY0HTLwlcadF2cHNEwmmvLetUTf-D2ruYCT/pub?gid=0&single=true&output=csv\"\n",
        "\n",
        "df = pd.read_csv(url, header=1, parse_dates=[0], usecols=[0,1,3,5,6,7], index_col=[0])"
      ],
      "execution_count": null,
      "outputs": []
    },
    {
      "cell_type": "code",
      "metadata": {
        "id": "A-Ffb7VZG1x1",
        "colab_type": "code",
        "colab": {}
      },
      "source": [
        "df.tail()"
      ],
      "execution_count": null,
      "outputs": []
    },
    {
      "cell_type": "code",
      "metadata": {
        "id": "95DivvFeWXYi",
        "colab_type": "code",
        "colab": {}
      },
      "source": [
        "df[['deaths','positive','tested']].diff()[-14:]"
      ],
      "execution_count": null,
      "outputs": []
    },
    {
      "cell_type": "code",
      "metadata": {
        "id": "ZXEBHcClw-I4",
        "colab_type": "code",
        "colab": {}
      },
      "source": [
        "print(df[['deaths','positive','tested']].diff()[-14:].mean())\n",
        "print(df[['deaths','positive','tested']].diff()[-14:].std())"
      ],
      "execution_count": null,
      "outputs": []
    },
    {
      "cell_type": "code",
      "metadata": {
        "id": "j1Ecr7NOTYQW",
        "colab_type": "code",
        "colab": {}
      },
      "source": [
        "chart= df[['deaths','positive']].diff()[-30:]\\\n",
        ".plot.bar(stacked=True,figsize=(18,5), color=['r','b'])"
      ],
      "execution_count": null,
      "outputs": []
    },
    {
      "cell_type": "code",
      "metadata": {
        "id": "Rdu3k7JYXmHO",
        "colab_type": "code",
        "colab": {}
      },
      "source": [
        "chart= df[['positive','tested']].diff()[-30:]\\\n",
        ".plot.bar(stacked=True,figsize=(18,5), color=['darkblue','g'])"
      ],
      "execution_count": null,
      "outputs": []
    },
    {
      "cell_type": "code",
      "metadata": {
        "id": "g2EGRiLvYBkK",
        "colab_type": "code",
        "colab": {}
      },
      "source": [
        "def pos_test_ratio(depth):\n",
        "  return df.positive.diff()[-depth:]/df.tested.diff()[-depth:]\n",
        "\n",
        "df.positive.diff()[-2:]/df.tested.diff()[-2:]\n",
        "\n",
        "pos_test_ratio(7)\n"
      ],
      "execution_count": null,
      "outputs": []
    },
    {
      "cell_type": "code",
      "metadata": {
        "id": "xo4XzMu--AnB",
        "colab_type": "code",
        "colab": {}
      },
      "source": [
        "42/1090\n"
      ],
      "execution_count": null,
      "outputs": []
    },
    {
      "cell_type": "code",
      "metadata": {
        "id": "4mA8uzSNX1UE",
        "colab_type": "code",
        "colab": {}
      },
      "source": [
        "chart= df[['deaths','positive']].diff()\\\n",
        ".rolling(window=7).mean()[-90:]\\\n",
        ".plot.bar(stacked=True,figsize=(18,5), color=['r','b'])"
      ],
      "execution_count": null,
      "outputs": []
    },
    {
      "cell_type": "code",
      "metadata": {
        "id": "Nbi1lHMPTxVq",
        "colab_type": "code",
        "colab": {}
      },
      "source": [
        "marin_pop = 259725\n",
        "\n",
        "print(f\"Marin Population Positive: {(df[-1:].positive.values[0]/marin_pop)*100:2.2f}%\")\n",
        "print(f\"Marin Population Tested: {(df[-1:].tested.values[0]/marin_pop)*100:2.2f}%\")\n",
        "\n",
        "print(f\"Postive to test ratio: {(df[-1:].positive/df[-1:].tested)[0]*100:2.2f}%\")"
      ],
      "execution_count": null,
      "outputs": []
    },
    {
      "cell_type": "code",
      "metadata": {
        "id": "6Fe-tcUwYvoq",
        "colab_type": "code",
        "colab": {}
      },
      "source": [
        "df.positive.diff().rolling(window=7).mean().tail()"
      ],
      "execution_count": null,
      "outputs": []
    },
    {
      "cell_type": "code",
      "metadata": {
        "id": "MKeqfnvYY7J1",
        "colab_type": "code",
        "colab": {}
      },
      "source": [
        "d= dfCovidtracking[dfCovidtracking.state=='CA'].head(28)[::-1].positive.diff().max()\n",
        "print(f\"Currrent Record: {d:2.0f}, {hex(int(d))}\")\n"
      ],
      "execution_count": null,
      "outputs": []
    },
    {
      "cell_type": "code",
      "metadata": {
        "id": "HFTJm9T9nLuy",
        "colab_type": "code",
        "colab": {}
      },
      "source": [
        "dfctus = dfCovidtracking.groupby(by='date').sum()[-1:]\n",
        "dfjhu=dfJHUData[dfJHUData.country=='US'][['confirmed', 'dead']].sum()\n",
        "# Pulling from Owid is a little more interesting.\n",
        "idx=dfOwid[['iso_code','date']].groupby(by='iso_code').max()\n",
        "idx.set_index('date', append=True, inplace=True)\n",
        "dfowidusa = dfOwid.set_index(['iso_code','date']).loc[idx.index]\n",
        "dfowidusa = dfowidusa.set_index(dfowidusa.index.get_level_values('iso_code')).loc['USA']\n",
        "#  .set_index(x.index.get_level_values('iso_code')).loc['USA']\n",
        "dfwho = dfWHO[-1:].rename(columns={'confirmed':'positive', 'who_deaths':'dead'})\\\n",
        "  .set_index(pd.Index([\"WHO\"]))\n",
        "dfowidusa = pd.DataFrame([[dfowidusa.total_cases, dfowidusa.total_deaths], \\\n",
        "                          [dfctus.positive[0], dfctus.death[0]],\\\n",
        "                          [dfjhu.confirmed, dfjhu.dead],\\\n",
        "                          dfWHO[-1:].values[0]], \\\n",
        "                         columns=['confirmed', 'dead'], index=pd.Index([\"OWID\", \"CTP\", \"JHU\", \"WHO\"]))"
      ],
      "execution_count": null,
      "outputs": []
    },
    {
      "cell_type": "code",
      "metadata": {
        "id": "MnPBz5g6IiYW",
        "colab_type": "code",
        "colab": {}
      },
      "source": [
        "dfowidusa"
      ],
      "execution_count": null,
      "outputs": []
    },
    {
      "cell_type": "code",
      "metadata": {
        "id": "Mmr3VUI4yHmZ",
        "colab_type": "code",
        "colab": {}
      },
      "source": [
        "dfCovidtracking[dfCovidtracking.state==\"NJ\"][::-1].death.diff().plot.line(figsize=(10,8),title=\"Growth in positive tests\")"
      ],
      "execution_count": null,
      "outputs": []
    },
    {
      "cell_type": "code",
      "metadata": {
        "id": "JTPEZx2ZyKqq",
        "colab_type": "code",
        "colab": {}
      },
      "source": [
        "dfCovidtracking.columns"
      ],
      "execution_count": null,
      "outputs": []
    },
    {
      "cell_type": "code",
      "metadata": {
        "id": "lLPHPDEX8puX",
        "colab_type": "code",
        "colab": {}
      },
      "source": [
        "tst = dfCovidtracking.set_index('state', append=True)"
      ],
      "execution_count": null,
      "outputs": []
    },
    {
      "cell_type": "code",
      "metadata": {
        "id": "-DAehwFTnC_T",
        "colab_type": "code",
        "colab": {}
      },
      "source": [
        "\n",
        "dfCovidtracking[['positiveIncrease','deathIncrease']].rolling(window=7).mean().plot.line(subplots=True)"
      ],
      "execution_count": null,
      "outputs": []
    },
    {
      "cell_type": "code",
      "metadata": {
        "id": "xW-0vAT45Yw6",
        "colab_type": "code",
        "colab": {}
      },
      "source": [
        "test = dfCovidtracking[['positiveIncrease','deathIncrease']]\n",
        "test.sort_values(by='positiveIncrease').head()\n",
        "#test.head()"
      ],
      "execution_count": null,
      "outputs": []
    },
    {
      "cell_type": "code",
      "metadata": {
        "id": "5JcA4k077F1S",
        "colab_type": "code",
        "colab": {}
      },
      "source": [
        ""
      ],
      "execution_count": null,
      "outputs": []
    },
    {
      "cell_type": "code",
      "metadata": {
        "colab_type": "code",
        "id": "GZUrdaU38BMw",
        "colab": {}
      },
      "source": [
        "dfCTbyDate = dfCovidtracking.groupby(by='date').sum()\n",
        "ax = dfCTbyDate.rolling(window=7).mean() \\\n",
        ".positiveIncrease.plot.line(figsize=(10,8), title=\"Positive Tests, 7 Day Rolling Average\", \\\n",
        "                            fontsize=20)\n",
        "                            \n",
        "ax.title.set_size(20)  \n",
        "\n",
        "dfCTbyDate.positiveIncrease.plot.line(ax=ax)\n",
        "\n",
        "testSeries = pd.Series(data=dfCTbyDate.positive.values, index=dfCovidtracking.index.unique(),dtype='int64')\n",
        "#dfCovidtracking.index.unique()\n",
        "print(testSeries.tail())\n",
        "#print(testSeries)\n",
        "\n",
        "#testSeries[:90].plot.line(ax=ax, color='r')\n",
        "\n",
        "ax.ticklabel_format\n",
        "\n"
      ],
      "execution_count": null,
      "outputs": []
    },
    {
      "cell_type": "code",
      "metadata": {
        "id": "bG4AgSPxL2LD",
        "colab_type": "code",
        "colab": {}
      },
      "source": [
        "usbydate = dfCovidtracking.groupby(dfCovidtracking.index).sum()"
      ],
      "execution_count": null,
      "outputs": []
    },
    {
      "cell_type": "code",
      "metadata": {
        "id": "fAUtCT2WL6w7",
        "colab_type": "code",
        "colab": {}
      },
      "source": [
        "df= pd.DataFrame([usbydate.positive.sample(n=10).mean() for x in range(3000)])\n",
        "\n"
      ],
      "execution_count": null,
      "outputs": []
    },
    {
      "cell_type": "code",
      "metadata": {
        "id": "a0dDny8kUaay",
        "colab_type": "code",
        "colab": {}
      },
      "source": [
        "df.plot.hist()"
      ],
      "execution_count": null,
      "outputs": []
    },
    {
      "cell_type": "code",
      "metadata": {
        "id": "boEtT4CkS_WU",
        "colab_type": "code",
        "colab": {}
      },
      "source": [
        "from scipy.stats import shapiro\n",
        "stat, p = shapiro(df)\n",
        "print('Statistics={}, p={}'.format(stat, p))\n",
        "alpha = 0.05\n",
        "if p > alpha:\n",
        "    print('Sample looks Normal (do not reject H0)')\n",
        "else:\n",
        "    print('Sample does not look Normal (reject H0)')"
      ],
      "execution_count": null,
      "outputs": []
    },
    {
      "cell_type": "code",
      "metadata": {
        "id": "qrd8j4wUTS6L",
        "colab_type": "code",
        "colab": {}
      },
      "source": [
        ""
      ],
      "execution_count": null,
      "outputs": []
    }
  ]
}