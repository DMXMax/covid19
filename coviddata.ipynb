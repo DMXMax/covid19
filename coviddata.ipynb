{
  "nbformat": 4,
  "nbformat_minor": 0,
  "metadata": {
    "colab": {
      "name": "coviddata",
      "provenance": [],
      "toc_visible": true,
      "authorship_tag": "ABX9TyOs8BJEJBex80vFzZ9tCoyC",
      "include_colab_link": true
    },
    "kernelspec": {
      "name": "python3",
      "display_name": "Python 3"
    }
  },
  "cells": [
    {
      "cell_type": "markdown",
      "metadata": {
        "id": "view-in-github",
        "colab_type": "text"
      },
      "source": [
        "<a href=\"https://colab.research.google.com/github/DMXMax/covid19/blob/gc_20200315/coviddata.ipynb\" target=\"_parent\"><img src=\"https://colab.research.google.com/assets/colab-badge.svg\" alt=\"Open In Colab\"/></a>"
      ]
    },
    {
      "cell_type": "code",
      "metadata": {
        "id": "jCzokJEPxFhv",
        "colab_type": "code",
        "colab": {}
      },
      "source": [
        "import numpy as np\n",
        "import pandas as pd\n",
        "import matplotlib.pyplot as plt\n",
        "import requests,json\n",
        "import datetime\n"
      ],
      "execution_count": 0,
      "outputs": []
    },
    {
      "cell_type": "code",
      "metadata": {
        "id": "zNKPT5Z8BXPT",
        "colab_type": "code",
        "colab": {}
      },
      "source": [
        "covidtrackingurl = \"https://covidtracking.com/api/states/daily\"\n",
        "response = requests.get(covidtrackingurl)\n",
        "dfCovidtracking = pd.DataFrame(response.json())\n",
        "dfCovidtracking.fillna(0, inplace=True)\n",
        "dfCovidtracking.negative = dfCovidtracking.negative.astype('int64')\n",
        "dfCovidtracking.positive = dfCovidtracking.positive.astype('int64')\n",
        "dfCovidtracking.pending = dfCovidtracking.pending.astype('int64')\n",
        "dfCovidtracking.total = dfCovidtracking.total.astype('int64')\n",
        "dfCovidtracking.death = dfCovidtracking.death.astype('int64')\n"
      ],
      "execution_count": 0,
      "outputs": []
    },
    {
      "cell_type": "code",
      "metadata": {
        "id": "8_Il5iuohC8_",
        "colab_type": "code",
        "colab": {}
      },
      "source": [
        "dfWHO = pd.read_csv(\"https://raw.githubusercontent.com/DMXMax/covid19/master/who/who_data.tsv\",\n",
        "                     sep='\\t', index_col='Date')"
      ],
      "execution_count": 0,
      "outputs": []
    },
    {
      "cell_type": "code",
      "metadata": {
        "id": "IHNp61EvdwQG",
        "colab_type": "code",
        "colab": {}
      },
      "source": [
        "jhurl = \"https://raw.githubusercontent.com/CSSEGISandData/COVID-19/master/\"+\\\n",
        "\"csse_covid_19_data/csse_covid_19_daily_reports/03-29-2020.csv\"\n",
        "\n",
        "#https://raw.githubusercontent.com/CSSEGISandData/COVID-19/master/\n",
        "#csse_covid_19_data/csse_covid_19_daily_reports/03-29-2020.csv\n",
        "dfJHUData = pd.read_csv(jhurl, header=0,\n",
        "                        names=['FIPS', 'city','state', 'country', 'last_update',\n",
        "                               'lat', 'lon','confirmed', 'dead', 'recovered','active', 'key'])"
      ],
      "execution_count": 0,
      "outputs": []
    },
    {
      "cell_type": "code",
      "metadata": {
        "id": "hrPlWJJCVtBR",
        "colab_type": "code",
        "colab": {}
      },
      "source": [
        "dfWHO = dfWHO.rename(columns={\"Confirmed\": \"confirmed\", \"Deaths\": \"who_deaths\"})\n",
        "dfWHO.index.names=['date']\n"
      ],
      "execution_count": 0,
      "outputs": []
    },
    {
      "cell_type": "code",
      "metadata": {
        "id": "HWHSGPq_yF50",
        "colab_type": "code",
        "outputId": "4d6112d3-71b0-4b14-ab1d-f767da9cf42e",
        "colab": {
          "base_uri": "https://localhost:8080/",
          "height": 163
        }
      },
      "source": [
        "us_pop = 329968629  #Estimate from Wikipedia\n",
        "res = dfCovidtracking.loc[dfCovidtracking.date==dfCovidtracking.date.max(), ['positive', 'negative', 'pending','death', 'total']].sum()\n",
        "print(res)\n",
        "print(f\"Current Infection Rate {res.positive/res.total*100:2f}%\")\n",
        "print(f\"Percentage of US: {res.positive/us_pop*100:2f}%\")"
      ],
      "execution_count": 6,
      "outputs": [
        {
          "output_type": "stream",
          "text": [
            "positive     160530\n",
            "negative     784324\n",
            "pending       65382\n",
            "death          2939\n",
            "total       1010236\n",
            "dtype: int64\n",
            "Current Infection Rate 15.890346%\n",
            "Percentage of US: 0.048650%\n"
          ],
          "name": "stdout"
        }
      ]
    },
    {
      "cell_type": "code",
      "metadata": {
        "colab_type": "code",
        "outputId": "7638a1b5-6a70-47ee-cb01-1f82322dd9e0",
        "id": "idyqfNddlLPv",
        "colab": {
          "base_uri": "https://localhost:8080/",
          "height": 348
        }
      },
      "source": [
        "dfCovidtracking.loc[dfCovidtracking.date==dfCovidtracking.date.max(),\\\n",
        "  ['state', 'positive', 'negative']].sort_values(by='positive', ascending=False).head(10)"
      ],
      "execution_count": 7,
      "outputs": [
        {
          "output_type": "execute_result",
          "data": {
            "text/html": [
              "<div>\n",
              "<style scoped>\n",
              "    .dataframe tbody tr th:only-of-type {\n",
              "        vertical-align: middle;\n",
              "    }\n",
              "\n",
              "    .dataframe tbody tr th {\n",
              "        vertical-align: top;\n",
              "    }\n",
              "\n",
              "    .dataframe thead th {\n",
              "        text-align: right;\n",
              "    }\n",
              "</style>\n",
              "<table border=\"1\" class=\"dataframe\">\n",
              "  <thead>\n",
              "    <tr style=\"text-align: right;\">\n",
              "      <th></th>\n",
              "      <th>state</th>\n",
              "      <th>positive</th>\n",
              "      <th>negative</th>\n",
              "    </tr>\n",
              "  </thead>\n",
              "  <tbody>\n",
              "    <tr>\n",
              "      <th>37</th>\n",
              "      <td>NY</td>\n",
              "      <td>66497</td>\n",
              "      <td>119971</td>\n",
              "    </tr>\n",
              "    <tr>\n",
              "      <th>34</th>\n",
              "      <td>NJ</td>\n",
              "      <td>16636</td>\n",
              "      <td>25224</td>\n",
              "    </tr>\n",
              "    <tr>\n",
              "      <th>24</th>\n",
              "      <td>MI</td>\n",
              "      <td>6498</td>\n",
              "      <td>11893</td>\n",
              "    </tr>\n",
              "    <tr>\n",
              "      <th>5</th>\n",
              "      <td>CA</td>\n",
              "      <td>6447</td>\n",
              "      <td>20549</td>\n",
              "    </tr>\n",
              "    <tr>\n",
              "      <th>21</th>\n",
              "      <td>MA</td>\n",
              "      <td>5752</td>\n",
              "      <td>37041</td>\n",
              "    </tr>\n",
              "    <tr>\n",
              "      <th>10</th>\n",
              "      <td>FL</td>\n",
              "      <td>5473</td>\n",
              "      <td>48225</td>\n",
              "    </tr>\n",
              "    <tr>\n",
              "      <th>16</th>\n",
              "      <td>IL</td>\n",
              "      <td>5057</td>\n",
              "      <td>25389</td>\n",
              "    </tr>\n",
              "    <tr>\n",
              "      <th>52</th>\n",
              "      <td>WA</td>\n",
              "      <td>4896</td>\n",
              "      <td>60566</td>\n",
              "    </tr>\n",
              "    <tr>\n",
              "      <th>41</th>\n",
              "      <td>PA</td>\n",
              "      <td>4087</td>\n",
              "      <td>33777</td>\n",
              "    </tr>\n",
              "    <tr>\n",
              "      <th>20</th>\n",
              "      <td>LA</td>\n",
              "      <td>4025</td>\n",
              "      <td>30008</td>\n",
              "    </tr>\n",
              "  </tbody>\n",
              "</table>\n",
              "</div>"
            ],
            "text/plain": [
              "   state  positive  negative\n",
              "37    NY     66497    119971\n",
              "34    NJ     16636     25224\n",
              "24    MI      6498     11893\n",
              "5     CA      6447     20549\n",
              "21    MA      5752     37041\n",
              "10    FL      5473     48225\n",
              "16    IL      5057     25389\n",
              "52    WA      4896     60566\n",
              "41    PA      4087     33777\n",
              "20    LA      4025     30008"
            ]
          },
          "metadata": {
            "tags": []
          },
          "execution_count": 7
        }
      ]
    },
    {
      "cell_type": "code",
      "metadata": {
        "id": "rFOHyOwb4bcm",
        "colab_type": "code",
        "colab": {}
      },
      "source": [
        "gbUSA = dfCovidtracking.groupby(['date'])\n",
        "gbCA = dfCovidtracking[dfCovidtracking.state=='CA'].groupby(['date'])\n",
        "\n",
        "dfUSAPos = gbUSA.positive.sum().reset_index().copy()\n",
        "dfCAPos = gbCA.positive.sum().reset_index().copy()\n",
        "\n",
        "#This will calculate the percentage each day is of the total. In a flattening, this will be more even\n",
        "# In a high growth situation, you'll higher percentages at the tail. \n",
        "dfUSAPos['PCT']= dfUSAPos.positive/dfUSAPos.max().positive\n",
        "dfCAPos['PCT']=dfCAPos.positive/dfCAPos.max().positive"
      ],
      "execution_count": 0,
      "outputs": []
    },
    {
      "cell_type": "code",
      "metadata": {
        "colab_type": "code",
        "outputId": "ed604515-3687-48ee-ed87-796a5953837b",
        "id": "BHKhtPRozVFF",
        "colab": {
          "base_uri": "https://localhost:8080/",
          "height": 258
        }
      },
      "source": [
        "dfUSAPos[-7:]"
      ],
      "execution_count": 9,
      "outputs": [
        {
          "output_type": "execute_result",
          "data": {
            "text/html": [
              "<div>\n",
              "<style scoped>\n",
              "    .dataframe tbody tr th:only-of-type {\n",
              "        vertical-align: middle;\n",
              "    }\n",
              "\n",
              "    .dataframe tbody tr th {\n",
              "        vertical-align: top;\n",
              "    }\n",
              "\n",
              "    .dataframe thead th {\n",
              "        text-align: right;\n",
              "    }\n",
              "</style>\n",
              "<table border=\"1\" class=\"dataframe\">\n",
              "  <thead>\n",
              "    <tr style=\"text-align: right;\">\n",
              "      <th></th>\n",
              "      <th>date</th>\n",
              "      <th>positive</th>\n",
              "      <th>PCT</th>\n",
              "    </tr>\n",
              "  </thead>\n",
              "  <tbody>\n",
              "    <tr>\n",
              "      <th>20</th>\n",
              "      <td>20200324</td>\n",
              "      <td>51954</td>\n",
              "      <td>0.323640</td>\n",
              "    </tr>\n",
              "    <tr>\n",
              "      <th>21</th>\n",
              "      <td>20200325</td>\n",
              "      <td>63928</td>\n",
              "      <td>0.398231</td>\n",
              "    </tr>\n",
              "    <tr>\n",
              "      <th>22</th>\n",
              "      <td>20200326</td>\n",
              "      <td>80735</td>\n",
              "      <td>0.502928</td>\n",
              "    </tr>\n",
              "    <tr>\n",
              "      <th>23</th>\n",
              "      <td>20200327</td>\n",
              "      <td>99413</td>\n",
              "      <td>0.619280</td>\n",
              "    </tr>\n",
              "    <tr>\n",
              "      <th>24</th>\n",
              "      <td>20200328</td>\n",
              "      <td>118234</td>\n",
              "      <td>0.736523</td>\n",
              "    </tr>\n",
              "    <tr>\n",
              "      <th>25</th>\n",
              "      <td>20200329</td>\n",
              "      <td>139061</td>\n",
              "      <td>0.866262</td>\n",
              "    </tr>\n",
              "    <tr>\n",
              "      <th>26</th>\n",
              "      <td>20200330</td>\n",
              "      <td>160530</td>\n",
              "      <td>1.000000</td>\n",
              "    </tr>\n",
              "  </tbody>\n",
              "</table>\n",
              "</div>"
            ],
            "text/plain": [
              "        date  positive       PCT\n",
              "20  20200324     51954  0.323640\n",
              "21  20200325     63928  0.398231\n",
              "22  20200326     80735  0.502928\n",
              "23  20200327     99413  0.619280\n",
              "24  20200328    118234  0.736523\n",
              "25  20200329    139061  0.866262\n",
              "26  20200330    160530  1.000000"
            ]
          },
          "metadata": {
            "tags": []
          },
          "execution_count": 9
        }
      ]
    },
    {
      "cell_type": "code",
      "metadata": {
        "colab_type": "code",
        "outputId": "76988bec-865d-4cb8-8759-58e77782aa91",
        "id": "EI4hKgZ5zUd8",
        "colab": {
          "base_uri": "https://localhost:8080/",
          "height": 258
        }
      },
      "source": [
        "dfCAPos[-7:]"
      ],
      "execution_count": 10,
      "outputs": [
        {
          "output_type": "execute_result",
          "data": {
            "text/html": [
              "<div>\n",
              "<style scoped>\n",
              "    .dataframe tbody tr th:only-of-type {\n",
              "        vertical-align: middle;\n",
              "    }\n",
              "\n",
              "    .dataframe tbody tr th {\n",
              "        vertical-align: top;\n",
              "    }\n",
              "\n",
              "    .dataframe thead th {\n",
              "        text-align: right;\n",
              "    }\n",
              "</style>\n",
              "<table border=\"1\" class=\"dataframe\">\n",
              "  <thead>\n",
              "    <tr style=\"text-align: right;\">\n",
              "      <th></th>\n",
              "      <th>date</th>\n",
              "      <th>positive</th>\n",
              "      <th>PCT</th>\n",
              "    </tr>\n",
              "  </thead>\n",
              "  <tbody>\n",
              "    <tr>\n",
              "      <th>20</th>\n",
              "      <td>20200324</td>\n",
              "      <td>2102</td>\n",
              "      <td>0.326043</td>\n",
              "    </tr>\n",
              "    <tr>\n",
              "      <th>21</th>\n",
              "      <td>20200325</td>\n",
              "      <td>2355</td>\n",
              "      <td>0.365286</td>\n",
              "    </tr>\n",
              "    <tr>\n",
              "      <th>22</th>\n",
              "      <td>20200326</td>\n",
              "      <td>3006</td>\n",
              "      <td>0.466263</td>\n",
              "    </tr>\n",
              "    <tr>\n",
              "      <th>23</th>\n",
              "      <td>20200327</td>\n",
              "      <td>3879</td>\n",
              "      <td>0.601675</td>\n",
              "    </tr>\n",
              "    <tr>\n",
              "      <th>24</th>\n",
              "      <td>20200328</td>\n",
              "      <td>4643</td>\n",
              "      <td>0.720180</td>\n",
              "    </tr>\n",
              "    <tr>\n",
              "      <th>25</th>\n",
              "      <td>20200329</td>\n",
              "      <td>5708</td>\n",
              "      <td>0.885373</td>\n",
              "    </tr>\n",
              "    <tr>\n",
              "      <th>26</th>\n",
              "      <td>20200330</td>\n",
              "      <td>6447</td>\n",
              "      <td>1.000000</td>\n",
              "    </tr>\n",
              "  </tbody>\n",
              "</table>\n",
              "</div>"
            ],
            "text/plain": [
              "        date  positive       PCT\n",
              "20  20200324      2102  0.326043\n",
              "21  20200325      2355  0.365286\n",
              "22  20200326      3006  0.466263\n",
              "23  20200327      3879  0.601675\n",
              "24  20200328      4643  0.720180\n",
              "25  20200329      5708  0.885373\n",
              "26  20200330      6447  1.000000"
            ]
          },
          "metadata": {
            "tags": []
          },
          "execution_count": 10
        }
      ]
    },
    {
      "cell_type": "code",
      "metadata": {
        "id": "BTvuZKJN0RoI",
        "colab_type": "code",
        "outputId": "45923713-78b5-4e72-cedd-838047cf40ab",
        "colab": {
          "base_uri": "https://localhost:8080/",
          "height": 248
        }
      },
      "source": [
        "gbUSA.sum()[-5:]"
      ],
      "execution_count": 11,
      "outputs": [
        {
          "output_type": "execute_result",
          "data": {
            "text/html": [
              "<div>\n",
              "<style scoped>\n",
              "    .dataframe tbody tr th:only-of-type {\n",
              "        vertical-align: middle;\n",
              "    }\n",
              "\n",
              "    .dataframe tbody tr th {\n",
              "        vertical-align: top;\n",
              "    }\n",
              "\n",
              "    .dataframe thead th {\n",
              "        text-align: right;\n",
              "    }\n",
              "</style>\n",
              "<table border=\"1\" class=\"dataframe\">\n",
              "  <thead>\n",
              "    <tr style=\"text-align: right;\">\n",
              "      <th></th>\n",
              "      <th>positive</th>\n",
              "      <th>negative</th>\n",
              "      <th>pending</th>\n",
              "      <th>hospitalized</th>\n",
              "      <th>death</th>\n",
              "      <th>total</th>\n",
              "      <th>totalTestResults</th>\n",
              "      <th>deathIncrease</th>\n",
              "      <th>hospitalizedIncrease</th>\n",
              "      <th>negativeIncrease</th>\n",
              "      <th>positiveIncrease</th>\n",
              "      <th>totalTestResultsIncrease</th>\n",
              "    </tr>\n",
              "    <tr>\n",
              "      <th>date</th>\n",
              "      <th></th>\n",
              "      <th></th>\n",
              "      <th></th>\n",
              "      <th></th>\n",
              "      <th></th>\n",
              "      <th></th>\n",
              "      <th></th>\n",
              "      <th></th>\n",
              "      <th></th>\n",
              "      <th></th>\n",
              "      <th></th>\n",
              "      <th></th>\n",
              "    </tr>\n",
              "  </thead>\n",
              "  <tbody>\n",
              "    <tr>\n",
              "      <th>20200326</th>\n",
              "      <td>80735</td>\n",
              "      <td>438603</td>\n",
              "      <td>60251</td>\n",
              "      <td>10131.0</td>\n",
              "      <td>1163</td>\n",
              "      <td>579589</td>\n",
              "      <td>519338</td>\n",
              "      <td>264.0</td>\n",
              "      <td>3996.0</td>\n",
              "      <td>80999.0</td>\n",
              "      <td>16807.0</td>\n",
              "      <td>97806.0</td>\n",
              "    </tr>\n",
              "    <tr>\n",
              "      <th>20200327</th>\n",
              "      <td>99413</td>\n",
              "      <td>527220</td>\n",
              "      <td>60094</td>\n",
              "      <td>13717.0</td>\n",
              "      <td>1530</td>\n",
              "      <td>686727</td>\n",
              "      <td>626633</td>\n",
              "      <td>367.0</td>\n",
              "      <td>3652.0</td>\n",
              "      <td>88617.0</td>\n",
              "      <td>18678.0</td>\n",
              "      <td>107295.0</td>\n",
              "    </tr>\n",
              "    <tr>\n",
              "      <th>20200328</th>\n",
              "      <td>118234</td>\n",
              "      <td>617470</td>\n",
              "      <td>65712</td>\n",
              "      <td>16729.0</td>\n",
              "      <td>1965</td>\n",
              "      <td>801416</td>\n",
              "      <td>735704</td>\n",
              "      <td>435.0</td>\n",
              "      <td>3012.0</td>\n",
              "      <td>90250.0</td>\n",
              "      <td>18821.0</td>\n",
              "      <td>109071.0</td>\n",
              "    </tr>\n",
              "    <tr>\n",
              "      <th>20200329</th>\n",
              "      <td>139061</td>\n",
              "      <td>692290</td>\n",
              "      <td>65549</td>\n",
              "      <td>19730.0</td>\n",
              "      <td>2428</td>\n",
              "      <td>896900</td>\n",
              "      <td>831351</td>\n",
              "      <td>463.0</td>\n",
              "      <td>3001.0</td>\n",
              "      <td>74820.0</td>\n",
              "      <td>20827.0</td>\n",
              "      <td>95647.0</td>\n",
              "    </tr>\n",
              "    <tr>\n",
              "      <th>20200330</th>\n",
              "      <td>160530</td>\n",
              "      <td>784324</td>\n",
              "      <td>65382</td>\n",
              "      <td>22303.0</td>\n",
              "      <td>2939</td>\n",
              "      <td>1010236</td>\n",
              "      <td>944854</td>\n",
              "      <td>511.0</td>\n",
              "      <td>2573.0</td>\n",
              "      <td>92034.0</td>\n",
              "      <td>21469.0</td>\n",
              "      <td>113503.0</td>\n",
              "    </tr>\n",
              "  </tbody>\n",
              "</table>\n",
              "</div>"
            ],
            "text/plain": [
              "          positive  negative  ...  positiveIncrease  totalTestResultsIncrease\n",
              "date                          ...                                            \n",
              "20200326     80735    438603  ...           16807.0                   97806.0\n",
              "20200327     99413    527220  ...           18678.0                  107295.0\n",
              "20200328    118234    617470  ...           18821.0                  109071.0\n",
              "20200329    139061    692290  ...           20827.0                   95647.0\n",
              "20200330    160530    784324  ...           21469.0                  113503.0\n",
              "\n",
              "[5 rows x 12 columns]"
            ]
          },
          "metadata": {
            "tags": []
          },
          "execution_count": 11
        }
      ]
    },
    {
      "cell_type": "code",
      "metadata": {
        "id": "bjpo-qlGoA7A",
        "colab_type": "code",
        "outputId": "2f5b3ccc-7a1c-4eb4-c838-2a92bfffac66",
        "colab": {
          "base_uri": "https://localhost:8080/",
          "height": 248
        }
      },
      "source": [
        "gbCA.sum()[-5:]"
      ],
      "execution_count": 12,
      "outputs": [
        {
          "output_type": "execute_result",
          "data": {
            "text/html": [
              "<div>\n",
              "<style scoped>\n",
              "    .dataframe tbody tr th:only-of-type {\n",
              "        vertical-align: middle;\n",
              "    }\n",
              "\n",
              "    .dataframe tbody tr th {\n",
              "        vertical-align: top;\n",
              "    }\n",
              "\n",
              "    .dataframe thead th {\n",
              "        text-align: right;\n",
              "    }\n",
              "</style>\n",
              "<table border=\"1\" class=\"dataframe\">\n",
              "  <thead>\n",
              "    <tr style=\"text-align: right;\">\n",
              "      <th></th>\n",
              "      <th>positive</th>\n",
              "      <th>negative</th>\n",
              "      <th>pending</th>\n",
              "      <th>hospitalized</th>\n",
              "      <th>death</th>\n",
              "      <th>total</th>\n",
              "      <th>totalTestResults</th>\n",
              "      <th>deathIncrease</th>\n",
              "      <th>hospitalizedIncrease</th>\n",
              "      <th>negativeIncrease</th>\n",
              "      <th>positiveIncrease</th>\n",
              "      <th>totalTestResultsIncrease</th>\n",
              "    </tr>\n",
              "    <tr>\n",
              "      <th>date</th>\n",
              "      <th></th>\n",
              "      <th></th>\n",
              "      <th></th>\n",
              "      <th></th>\n",
              "      <th></th>\n",
              "      <th></th>\n",
              "      <th></th>\n",
              "      <th></th>\n",
              "      <th></th>\n",
              "      <th></th>\n",
              "      <th></th>\n",
              "      <th></th>\n",
              "    </tr>\n",
              "  </thead>\n",
              "  <tbody>\n",
              "    <tr>\n",
              "      <th>20200326</th>\n",
              "      <td>3006</td>\n",
              "      <td>17380</td>\n",
              "      <td>57400</td>\n",
              "      <td>0.0</td>\n",
              "      <td>65</td>\n",
              "      <td>77786</td>\n",
              "      <td>20386</td>\n",
              "      <td>12.0</td>\n",
              "      <td>0.0</td>\n",
              "      <td>1459.0</td>\n",
              "      <td>651.0</td>\n",
              "      <td>2110.0</td>\n",
              "    </tr>\n",
              "    <tr>\n",
              "      <th>20200327</th>\n",
              "      <td>3879</td>\n",
              "      <td>17380</td>\n",
              "      <td>57400</td>\n",
              "      <td>746.0</td>\n",
              "      <td>78</td>\n",
              "      <td>78659</td>\n",
              "      <td>21259</td>\n",
              "      <td>13.0</td>\n",
              "      <td>746.0</td>\n",
              "      <td>0.0</td>\n",
              "      <td>873.0</td>\n",
              "      <td>873.0</td>\n",
              "    </tr>\n",
              "    <tr>\n",
              "      <th>20200328</th>\n",
              "      <td>4643</td>\n",
              "      <td>20549</td>\n",
              "      <td>64400</td>\n",
              "      <td>1034.0</td>\n",
              "      <td>101</td>\n",
              "      <td>89592</td>\n",
              "      <td>25192</td>\n",
              "      <td>23.0</td>\n",
              "      <td>288.0</td>\n",
              "      <td>3169.0</td>\n",
              "      <td>764.0</td>\n",
              "      <td>3933.0</td>\n",
              "    </tr>\n",
              "    <tr>\n",
              "      <th>20200329</th>\n",
              "      <td>5708</td>\n",
              "      <td>20549</td>\n",
              "      <td>64400</td>\n",
              "      <td>1034.0</td>\n",
              "      <td>123</td>\n",
              "      <td>90657</td>\n",
              "      <td>26257</td>\n",
              "      <td>22.0</td>\n",
              "      <td>0.0</td>\n",
              "      <td>0.0</td>\n",
              "      <td>1065.0</td>\n",
              "      <td>1065.0</td>\n",
              "    </tr>\n",
              "    <tr>\n",
              "      <th>20200330</th>\n",
              "      <td>6447</td>\n",
              "      <td>20549</td>\n",
              "      <td>64400</td>\n",
              "      <td>1432.0</td>\n",
              "      <td>133</td>\n",
              "      <td>91396</td>\n",
              "      <td>26996</td>\n",
              "      <td>10.0</td>\n",
              "      <td>398.0</td>\n",
              "      <td>0.0</td>\n",
              "      <td>739.0</td>\n",
              "      <td>739.0</td>\n",
              "    </tr>\n",
              "  </tbody>\n",
              "</table>\n",
              "</div>"
            ],
            "text/plain": [
              "          positive  negative  ...  positiveIncrease  totalTestResultsIncrease\n",
              "date                          ...                                            \n",
              "20200326      3006     17380  ...             651.0                    2110.0\n",
              "20200327      3879     17380  ...             873.0                     873.0\n",
              "20200328      4643     20549  ...             764.0                    3933.0\n",
              "20200329      5708     20549  ...            1065.0                    1065.0\n",
              "20200330      6447     20549  ...             739.0                     739.0\n",
              "\n",
              "[5 rows x 12 columns]"
            ]
          },
          "metadata": {
            "tags": []
          },
          "execution_count": 12
        }
      ]
    },
    {
      "cell_type": "code",
      "metadata": {
        "id": "916a0sCVdNRQ",
        "colab_type": "code",
        "outputId": "d16b269a-e685-4372-9a70-76eb0c5cc488",
        "colab": {
          "base_uri": "https://localhost:8080/",
          "height": 290
        }
      },
      "source": [
        "x=gbUSA.sum().loc[:, ['positive', 'negative','death','total']].plot.line()"
      ],
      "execution_count": 13,
      "outputs": [
        {
          "output_type": "display_data",
          "data": {
            "image/png": "[encoded data removed]",
            "text/plain": [
              "<Figure size 432x288 with 1 Axes>"
            ]
          },
          "metadata": {
            "tags": []
          }
        }
      ]
    },
    {
      "cell_type": "code",
      "metadata": {
        "id": "WewkySHXaLc4",
        "colab_type": "code",
        "outputId": "7d553d39-0bb1-4715-cc26-9f061d3527a7",
        "colab": {
          "base_uri": "https://localhost:8080/",
          "height": 498
        }
      },
      "source": [
        "dfWHO[-14:]"
      ],
      "execution_count": 14,
      "outputs": [
        {
          "output_type": "execute_result",
          "data": {
            "text/html": [
              "<div>\n",
              "<style scoped>\n",
              "    .dataframe tbody tr th:only-of-type {\n",
              "        vertical-align: middle;\n",
              "    }\n",
              "\n",
              "    .dataframe tbody tr th {\n",
              "        vertical-align: top;\n",
              "    }\n",
              "\n",
              "    .dataframe thead th {\n",
              "        text-align: right;\n",
              "    }\n",
              "</style>\n",
              "<table border=\"1\" class=\"dataframe\">\n",
              "  <thead>\n",
              "    <tr style=\"text-align: right;\">\n",
              "      <th></th>\n",
              "      <th>confirmed</th>\n",
              "      <th>who_deaths</th>\n",
              "    </tr>\n",
              "    <tr>\n",
              "      <th>date</th>\n",
              "      <th></th>\n",
              "      <th></th>\n",
              "    </tr>\n",
              "  </thead>\n",
              "  <tbody>\n",
              "    <tr>\n",
              "      <th>20200317</th>\n",
              "      <td>3503</td>\n",
              "      <td>58</td>\n",
              "    </tr>\n",
              "    <tr>\n",
              "      <th>20200318</th>\n",
              "      <td>3536</td>\n",
              "      <td>58</td>\n",
              "    </tr>\n",
              "    <tr>\n",
              "      <th>20200319</th>\n",
              "      <td>7087</td>\n",
              "      <td>100</td>\n",
              "    </tr>\n",
              "    <tr>\n",
              "      <th>20200320</th>\n",
              "      <td>10442</td>\n",
              "      <td>150</td>\n",
              "    </tr>\n",
              "    <tr>\n",
              "      <th>20200321</th>\n",
              "      <td>15219</td>\n",
              "      <td>201</td>\n",
              "    </tr>\n",
              "    <tr>\n",
              "      <th>20200322</th>\n",
              "      <td>15219</td>\n",
              "      <td>201</td>\n",
              "    </tr>\n",
              "    <tr>\n",
              "      <th>20200323</th>\n",
              "      <td>31573</td>\n",
              "      <td>402</td>\n",
              "    </tr>\n",
              "    <tr>\n",
              "      <th>20200324</th>\n",
              "      <td>42164</td>\n",
              "      <td>471</td>\n",
              "    </tr>\n",
              "    <tr>\n",
              "      <th>20200325</th>\n",
              "      <td>51914</td>\n",
              "      <td>673</td>\n",
              "    </tr>\n",
              "    <tr>\n",
              "      <th>20200326</th>\n",
              "      <td>63570</td>\n",
              "      <td>884</td>\n",
              "    </tr>\n",
              "    <tr>\n",
              "      <th>20200327</th>\n",
              "      <td>68334</td>\n",
              "      <td>991</td>\n",
              "    </tr>\n",
              "    <tr>\n",
              "      <th>20200328</th>\n",
              "      <td>85228</td>\n",
              "      <td>1243</td>\n",
              "    </tr>\n",
              "    <tr>\n",
              "      <th>20200329</th>\n",
              "      <td>103321</td>\n",
              "      <td>1668</td>\n",
              "    </tr>\n",
              "    <tr>\n",
              "      <th>20200330</th>\n",
              "      <td>122653</td>\n",
              "      <td>2112</td>\n",
              "    </tr>\n",
              "  </tbody>\n",
              "</table>\n",
              "</div>"
            ],
            "text/plain": [
              "          confirmed  who_deaths\n",
              "date                           \n",
              "20200317       3503          58\n",
              "20200318       3536          58\n",
              "20200319       7087         100\n",
              "20200320      10442         150\n",
              "20200321      15219         201\n",
              "20200322      15219         201\n",
              "20200323      31573         402\n",
              "20200324      42164         471\n",
              "20200325      51914         673\n",
              "20200326      63570         884\n",
              "20200327      68334         991\n",
              "20200328      85228        1243\n",
              "20200329     103321        1668\n",
              "20200330     122653        2112"
            ]
          },
          "metadata": {
            "tags": []
          },
          "execution_count": 14
        }
      ]
    },
    {
      "cell_type": "code",
      "metadata": {
        "id": "Ftv2uSph2y7_",
        "colab_type": "code",
        "outputId": "2c59a040-cfa1-482f-cca8-45edef415fd3",
        "colab": {
          "base_uri": "https://localhost:8080/",
          "height": 297
        }
      },
      "source": [
        "dfResults = gbUSA.sum().join(dfWHO, how='left', rsuffix='_who' )\n",
        "dfResults.loc[:, ['positive', 'confirmed']].plot.line()"
      ],
      "execution_count": 15,
      "outputs": [
        {
          "output_type": "execute_result",
          "data": {
            "text/plain": [
              "<matplotlib.axes._subplots.AxesSubplot at 0x7fb8ee33ef98>"
            ]
          },
          "metadata": {
            "tags": []
          },
          "execution_count": 15
        },
        {
          "output_type": "display_data",
          "data": {
            "image/png": "[encoded data removed]",
            "text/plain": [
              "<Figure size 432x288 with 1 Axes>"
            ]
          },
          "metadata": {
            "tags": []
          }
        }
      ]
    },
    {
      "cell_type": "code",
      "metadata": {
        "id": "DTXXmezEHYPV",
        "colab_type": "code",
        "colab": {}
      },
      "source": [
        ""
      ],
      "execution_count": 0,
      "outputs": []
    },
    {
      "cell_type": "code",
      "metadata": {
        "colab_type": "code",
        "outputId": "998c9381-e5c8-4a65-e5fe-5a5a3f97a8c4",
        "id": "55lq16z8w_Ec",
        "colab": {
          "base_uri": "https://localhost:8080/",
          "height": 308
        }
      },
      "source": [
        "gbCA.sum()[-7:]"
      ],
      "execution_count": 16,
      "outputs": [
        {
          "output_type": "execute_result",
          "data": {
            "text/html": [
              "<div>\n",
              "<style scoped>\n",
              "    .dataframe tbody tr th:only-of-type {\n",
              "        vertical-align: middle;\n",
              "    }\n",
              "\n",
              "    .dataframe tbody tr th {\n",
              "        vertical-align: top;\n",
              "    }\n",
              "\n",
              "    .dataframe thead th {\n",
              "        text-align: right;\n",
              "    }\n",
              "</style>\n",
              "<table border=\"1\" class=\"dataframe\">\n",
              "  <thead>\n",
              "    <tr style=\"text-align: right;\">\n",
              "      <th></th>\n",
              "      <th>positive</th>\n",
              "      <th>negative</th>\n",
              "      <th>pending</th>\n",
              "      <th>hospitalized</th>\n",
              "      <th>death</th>\n",
              "      <th>total</th>\n",
              "      <th>totalTestResults</th>\n",
              "      <th>deathIncrease</th>\n",
              "      <th>hospitalizedIncrease</th>\n",
              "      <th>negativeIncrease</th>\n",
              "      <th>positiveIncrease</th>\n",
              "      <th>totalTestResultsIncrease</th>\n",
              "    </tr>\n",
              "    <tr>\n",
              "      <th>date</th>\n",
              "      <th></th>\n",
              "      <th></th>\n",
              "      <th></th>\n",
              "      <th></th>\n",
              "      <th></th>\n",
              "      <th></th>\n",
              "      <th></th>\n",
              "      <th></th>\n",
              "      <th></th>\n",
              "      <th></th>\n",
              "      <th></th>\n",
              "      <th></th>\n",
              "    </tr>\n",
              "  </thead>\n",
              "  <tbody>\n",
              "    <tr>\n",
              "      <th>20200324</th>\n",
              "      <td>2102</td>\n",
              "      <td>13452</td>\n",
              "      <td>12100</td>\n",
              "      <td>0.0</td>\n",
              "      <td>40</td>\n",
              "      <td>27654</td>\n",
              "      <td>15554</td>\n",
              "      <td>13.0</td>\n",
              "      <td>0.0</td>\n",
              "      <td>885.0</td>\n",
              "      <td>369.0</td>\n",
              "      <td>1254.0</td>\n",
              "    </tr>\n",
              "    <tr>\n",
              "      <th>20200325</th>\n",
              "      <td>2355</td>\n",
              "      <td>15921</td>\n",
              "      <td>48600</td>\n",
              "      <td>0.0</td>\n",
              "      <td>53</td>\n",
              "      <td>66876</td>\n",
              "      <td>18276</td>\n",
              "      <td>13.0</td>\n",
              "      <td>0.0</td>\n",
              "      <td>2469.0</td>\n",
              "      <td>253.0</td>\n",
              "      <td>2722.0</td>\n",
              "    </tr>\n",
              "    <tr>\n",
              "      <th>20200326</th>\n",
              "      <td>3006</td>\n",
              "      <td>17380</td>\n",
              "      <td>57400</td>\n",
              "      <td>0.0</td>\n",
              "      <td>65</td>\n",
              "      <td>77786</td>\n",
              "      <td>20386</td>\n",
              "      <td>12.0</td>\n",
              "      <td>0.0</td>\n",
              "      <td>1459.0</td>\n",
              "      <td>651.0</td>\n",
              "      <td>2110.0</td>\n",
              "    </tr>\n",
              "    <tr>\n",
              "      <th>20200327</th>\n",
              "      <td>3879</td>\n",
              "      <td>17380</td>\n",
              "      <td>57400</td>\n",
              "      <td>746.0</td>\n",
              "      <td>78</td>\n",
              "      <td>78659</td>\n",
              "      <td>21259</td>\n",
              "      <td>13.0</td>\n",
              "      <td>746.0</td>\n",
              "      <td>0.0</td>\n",
              "      <td>873.0</td>\n",
              "      <td>873.0</td>\n",
              "    </tr>\n",
              "    <tr>\n",
              "      <th>20200328</th>\n",
              "      <td>4643</td>\n",
              "      <td>20549</td>\n",
              "      <td>64400</td>\n",
              "      <td>1034.0</td>\n",
              "      <td>101</td>\n",
              "      <td>89592</td>\n",
              "      <td>25192</td>\n",
              "      <td>23.0</td>\n",
              "      <td>288.0</td>\n",
              "      <td>3169.0</td>\n",
              "      <td>764.0</td>\n",
              "      <td>3933.0</td>\n",
              "    </tr>\n",
              "    <tr>\n",
              "      <th>20200329</th>\n",
              "      <td>5708</td>\n",
              "      <td>20549</td>\n",
              "      <td>64400</td>\n",
              "      <td>1034.0</td>\n",
              "      <td>123</td>\n",
              "      <td>90657</td>\n",
              "      <td>26257</td>\n",
              "      <td>22.0</td>\n",
              "      <td>0.0</td>\n",
              "      <td>0.0</td>\n",
              "      <td>1065.0</td>\n",
              "      <td>1065.0</td>\n",
              "    </tr>\n",
              "    <tr>\n",
              "      <th>20200330</th>\n",
              "      <td>6447</td>\n",
              "      <td>20549</td>\n",
              "      <td>64400</td>\n",
              "      <td>1432.0</td>\n",
              "      <td>133</td>\n",
              "      <td>91396</td>\n",
              "      <td>26996</td>\n",
              "      <td>10.0</td>\n",
              "      <td>398.0</td>\n",
              "      <td>0.0</td>\n",
              "      <td>739.0</td>\n",
              "      <td>739.0</td>\n",
              "    </tr>\n",
              "  </tbody>\n",
              "</table>\n",
              "</div>"
            ],
            "text/plain": [
              "          positive  negative  ...  positiveIncrease  totalTestResultsIncrease\n",
              "date                          ...                                            \n",
              "20200324      2102     13452  ...             369.0                    1254.0\n",
              "20200325      2355     15921  ...             253.0                    2722.0\n",
              "20200326      3006     17380  ...             651.0                    2110.0\n",
              "20200327      3879     17380  ...             873.0                     873.0\n",
              "20200328      4643     20549  ...             764.0                    3933.0\n",
              "20200329      5708     20549  ...            1065.0                    1065.0\n",
              "20200330      6447     20549  ...             739.0                     739.0\n",
              "\n",
              "[7 rows x 12 columns]"
            ]
          },
          "metadata": {
            "tags": []
          },
          "execution_count": 16
        }
      ]
    },
    {
      "cell_type": "code",
      "metadata": {
        "id": "3WBkdfv2eLEc",
        "colab_type": "code",
        "outputId": "78f380b1-3806-4212-e943-3cb95bf4ac3c",
        "colab": {
          "base_uri": "https://localhost:8080/",
          "height": 72
        }
      },
      "source": [
        "dfJHUData[dfJHUData.country=='US'][['confirmed', 'dead']].sum()"
      ],
      "execution_count": 17,
      "outputs": [
        {
          "output_type": "execute_result",
          "data": {
            "text/plain": [
              "confirmed    140886\n",
              "dead           2467\n",
              "dtype: int64"
            ]
          },
          "metadata": {
            "tags": []
          },
          "execution_count": 17
        }
      ]
    },
    {
      "cell_type": "code",
      "metadata": {
        "id": "NUQ35Inse05H",
        "colab_type": "code",
        "outputId": "e830fa22-4fa5-41a4-8246-33261f3e7b52",
        "colab": {
          "base_uri": "https://localhost:8080/",
          "height": 72
        }
      },
      "source": [
        "dfJHUData[(dfJHUData.country=='US')&(dfJHUData.state=='California')][['confirmed', 'dead']].sum()"
      ],
      "execution_count": 18,
      "outputs": [
        {
          "output_type": "execute_result",
          "data": {
            "text/plain": [
              "confirmed    5852\n",
              "dead          124\n",
              "dtype: int64"
            ]
          },
          "metadata": {
            "tags": []
          },
          "execution_count": 18
        }
      ]
    },
    {
      "cell_type": "code",
      "metadata": {
        "id": "H0JVVTFGfMOW",
        "colab_type": "code",
        "colab": {}
      },
      "source": [
        "dfJHUUS = dfJHUData[dfJHUData.country=='US']\n",
        "gbJHUByState= dfJHUUS.groupby(by='state')\n",
        "gbJHUByCountry = dfJHUData.groupby(by='country')"
      ],
      "execution_count": 0,
      "outputs": []
    },
    {
      "cell_type": "code",
      "metadata": {
        "id": "W8qWd0AYmg58",
        "colab_type": "code",
        "outputId": "6ad468b5-d9ec-4bf8-d3ea-2d5c3820f110",
        "colab": {
          "base_uri": "https://localhost:8080/",
          "height": 235
        }
      },
      "source": [
        "gbJHUByCountry.confirmed.sum().sort_values(ascending=False).head(10)"
      ],
      "execution_count": 20,
      "outputs": [
        {
          "output_type": "execute_result",
          "data": {
            "text/plain": [
              "country\n",
              "US                140886\n",
              "Italy              97689\n",
              "China              82122\n",
              "Spain              80110\n",
              "Germany            62095\n",
              "France             40708\n",
              "Iran               38309\n",
              "United Kingdom     19780\n",
              "Switzerland        14829\n",
              "Netherlands        10930\n",
              "Name: confirmed, dtype: int64"
            ]
          },
          "metadata": {
            "tags": []
          },
          "execution_count": 20
        }
      ]
    },
    {
      "cell_type": "code",
      "metadata": {
        "id": "YYKFYQpImnHI",
        "colab_type": "code",
        "outputId": "a97cb895-8294-4c6a-ac41-ed908e811ef9",
        "colab": {
          "base_uri": "https://localhost:8080/",
          "height": 417
        }
      },
      "source": [
        "gbJHUByCountry.confirmed.sum().sort_values(ascending=False).head(20)"
      ],
      "execution_count": 21,
      "outputs": [
        {
          "output_type": "execute_result",
          "data": {
            "text/plain": [
              "country\n",
              "US                140886\n",
              "Italy              97689\n",
              "China              82122\n",
              "Spain              80110\n",
              "Germany            62095\n",
              "France             40708\n",
              "Iran               38309\n",
              "United Kingdom     19780\n",
              "Switzerland        14829\n",
              "Netherlands        10930\n",
              "Belgium            10836\n",
              "Korea, South        9583\n",
              "Turkey              9217\n",
              "Austria             8788\n",
              "Canada              6280\n",
              "Portugal            5962\n",
              "Norway              4284\n",
              "Brazil              4256\n",
              "Israel              4247\n",
              "Australia           3984\n",
              "Name: confirmed, dtype: int64"
            ]
          },
          "metadata": {
            "tags": []
          },
          "execution_count": 21
        }
      ]
    },
    {
      "cell_type": "code",
      "metadata": {
        "id": "9crIlvPH4oSU",
        "colab_type": "code",
        "colab": {}
      },
      "source": [
        "dfData = dfCovidtracking.groupby('date')"
      ],
      "execution_count": 0,
      "outputs": []
    },
    {
      "cell_type": "code",
      "metadata": {
        "id": "SjlCtiOt2b__",
        "colab_type": "code",
        "colab": {}
      },
      "source": [
        "dfStateTotal = dfCovidtracking[['state', 'positive']].groupby(by='state').max() \\\n",
        ".rename(columns={'positive':'current_total'})\n"
      ],
      "execution_count": 0,
      "outputs": []
    },
    {
      "cell_type": "code",
      "metadata": {
        "id": "iPsfvvHC2_j1",
        "colab_type": "code",
        "colab": {}
      },
      "source": [
        "dfState = dfCovidtracking[['date','state','positive']].set_index('state') \\\n",
        "  .join(dfStateTotal)"
      ],
      "execution_count": 0,
      "outputs": []
    },
    {
      "cell_type": "code",
      "metadata": {
        "id": "AkxH55Mx5yE6",
        "colab_type": "code",
        "colab": {}
      },
      "source": [
        "dfState['pct']=dfState.positive/dfState.current_total"
      ],
      "execution_count": 0,
      "outputs": []
    },
    {
      "cell_type": "code",
      "metadata": {
        "id": "PKQ2rgz76XZR",
        "colab_type": "code",
        "outputId": "04ae65b8-731e-45b6-b88b-3b6b567d9e20",
        "colab": {
          "base_uri": "https://localhost:8080/",
          "height": 288
        }
      },
      "source": [
        "dfState.loc['FL'].head(7)"
      ],
      "execution_count": 26,
      "outputs": [
        {
          "output_type": "execute_result",
          "data": {
            "text/html": [
              "<div>\n",
              "<style scoped>\n",
              "    .dataframe tbody tr th:only-of-type {\n",
              "        vertical-align: middle;\n",
              "    }\n",
              "\n",
              "    .dataframe tbody tr th {\n",
              "        vertical-align: top;\n",
              "    }\n",
              "\n",
              "    .dataframe thead th {\n",
              "        text-align: right;\n",
              "    }\n",
              "</style>\n",
              "<table border=\"1\" class=\"dataframe\">\n",
              "  <thead>\n",
              "    <tr style=\"text-align: right;\">\n",
              "      <th></th>\n",
              "      <th>date</th>\n",
              "      <th>positive</th>\n",
              "      <th>current_total</th>\n",
              "      <th>pct</th>\n",
              "    </tr>\n",
              "    <tr>\n",
              "      <th>state</th>\n",
              "      <th></th>\n",
              "      <th></th>\n",
              "      <th></th>\n",
              "      <th></th>\n",
              "    </tr>\n",
              "  </thead>\n",
              "  <tbody>\n",
              "    <tr>\n",
              "      <th>FL</th>\n",
              "      <td>20200330</td>\n",
              "      <td>5473</td>\n",
              "      <td>5473</td>\n",
              "      <td>1.000000</td>\n",
              "    </tr>\n",
              "    <tr>\n",
              "      <th>FL</th>\n",
              "      <td>20200329</td>\n",
              "      <td>4246</td>\n",
              "      <td>5473</td>\n",
              "      <td>0.775809</td>\n",
              "    </tr>\n",
              "    <tr>\n",
              "      <th>FL</th>\n",
              "      <td>20200328</td>\n",
              "      <td>3763</td>\n",
              "      <td>5473</td>\n",
              "      <td>0.687557</td>\n",
              "    </tr>\n",
              "    <tr>\n",
              "      <th>FL</th>\n",
              "      <td>20200327</td>\n",
              "      <td>2765</td>\n",
              "      <td>5473</td>\n",
              "      <td>0.505207</td>\n",
              "    </tr>\n",
              "    <tr>\n",
              "      <th>FL</th>\n",
              "      <td>20200326</td>\n",
              "      <td>2355</td>\n",
              "      <td>5473</td>\n",
              "      <td>0.430294</td>\n",
              "    </tr>\n",
              "    <tr>\n",
              "      <th>FL</th>\n",
              "      <td>20200325</td>\n",
              "      <td>1682</td>\n",
              "      <td>5473</td>\n",
              "      <td>0.307327</td>\n",
              "    </tr>\n",
              "    <tr>\n",
              "      <th>FL</th>\n",
              "      <td>20200324</td>\n",
              "      <td>1412</td>\n",
              "      <td>5473</td>\n",
              "      <td>0.257994</td>\n",
              "    </tr>\n",
              "  </tbody>\n",
              "</table>\n",
              "</div>"
            ],
            "text/plain": [
              "           date  positive  current_total       pct\n",
              "state                                             \n",
              "FL     20200330      5473           5473  1.000000\n",
              "FL     20200329      4246           5473  0.775809\n",
              "FL     20200328      3763           5473  0.687557\n",
              "FL     20200327      2765           5473  0.505207\n",
              "FL     20200326      2355           5473  0.430294\n",
              "FL     20200325      1682           5473  0.307327\n",
              "FL     20200324      1412           5473  0.257994"
            ]
          },
          "metadata": {
            "tags": []
          },
          "execution_count": 26
        }
      ]
    },
    {
      "cell_type": "code",
      "metadata": {
        "id": "dkgVF6Q19glV",
        "colab_type": "code",
        "colab": {}
      },
      "source": [
        "res = dfState.reset_index().pivot(index = 'date', columns='state', values='pct').fillna(0)"
      ],
      "execution_count": 0,
      "outputs": []
    },
    {
      "cell_type": "code",
      "metadata": {
        "id": "w1ml4KC6BF7q",
        "colab_type": "code",
        "outputId": "397a97e4-6a4a-4c14-96c8-de6f2126051a",
        "colab": {
          "base_uri": "https://localhost:8080/",
          "height": 279
        }
      },
      "source": [
        "x = res.loc[:, ['CA','FL']].plot.line()"
      ],
      "execution_count": 76,
      "outputs": [
        {
          "output_type": "display_data",
          "data": {
            "image/png": "[encoded data removed]",
            "text/plain": [
              "<Figure size 432x288 with 1 Axes>"
            ]
          },
          "metadata": {
            "tags": []
          }
        }
      ]
    },
    {
      "cell_type": "code",
      "metadata": {
        "id": "eaLSwLbuBLY0",
        "colab_type": "code",
        "colab": {}
      },
      "source": [
        "dfNYTesting = dfCovidtracking.loc[dfCovidtracking.state=='NY', ['date', 'negative']].set_index('date')"
      ],
      "execution_count": 0,
      "outputs": []
    },
    {
      "cell_type": "code",
      "metadata": {
        "id": "vhL4WBWECIhP",
        "colab_type": "code",
        "outputId": "38683be2-0264-478e-c4d9-7fdd6af9ead6",
        "colab": {
          "base_uri": "https://localhost:8080/",
          "height": 279
        }
      },
      "source": [
        "x = dfNYTesting.plot.line()"
      ],
      "execution_count": 30,
      "outputs": [
        {
          "output_type": "display_data",
          "data": {
            "image/png": "[encoded data removed]",
            "text/plain": [
              "<Figure size 432x288 with 1 Axes>"
            ]
          },
          "metadata": {
            "tags": []
          }
        }
      ]
    },
    {
      "cell_type": "code",
      "metadata": {
        "id": "c4uuFBTquS3o",
        "colab_type": "code",
        "outputId": "96018644-5151-4164-93a2-6627e57f3f82",
        "colab": {
          "base_uri": "https://localhost:8080/",
          "height": 348
        }
      },
      "source": [
        "dfDates = dfState.reset_index().copy()\n",
        "dfDates[(dfDates.state.isin(['FL']))].head(10)"
      ],
      "execution_count": 31,
      "outputs": [
        {
          "output_type": "execute_result",
          "data": {
            "text/html": [
              "<div>\n",
              "<style scoped>\n",
              "    .dataframe tbody tr th:only-of-type {\n",
              "        vertical-align: middle;\n",
              "    }\n",
              "\n",
              "    .dataframe tbody tr th {\n",
              "        vertical-align: top;\n",
              "    }\n",
              "\n",
              "    .dataframe thead th {\n",
              "        text-align: right;\n",
              "    }\n",
              "</style>\n",
              "<table border=\"1\" class=\"dataframe\">\n",
              "  <thead>\n",
              "    <tr style=\"text-align: right;\">\n",
              "      <th></th>\n",
              "      <th>state</th>\n",
              "      <th>date</th>\n",
              "      <th>positive</th>\n",
              "      <th>current_total</th>\n",
              "      <th>pct</th>\n",
              "    </tr>\n",
              "  </thead>\n",
              "  <tbody>\n",
              "    <tr>\n",
              "      <th>244</th>\n",
              "      <td>FL</td>\n",
              "      <td>20200330</td>\n",
              "      <td>5473</td>\n",
              "      <td>5473</td>\n",
              "      <td>1.000000</td>\n",
              "    </tr>\n",
              "    <tr>\n",
              "      <th>245</th>\n",
              "      <td>FL</td>\n",
              "      <td>20200329</td>\n",
              "      <td>4246</td>\n",
              "      <td>5473</td>\n",
              "      <td>0.775809</td>\n",
              "    </tr>\n",
              "    <tr>\n",
              "      <th>246</th>\n",
              "      <td>FL</td>\n",
              "      <td>20200328</td>\n",
              "      <td>3763</td>\n",
              "      <td>5473</td>\n",
              "      <td>0.687557</td>\n",
              "    </tr>\n",
              "    <tr>\n",
              "      <th>247</th>\n",
              "      <td>FL</td>\n",
              "      <td>20200327</td>\n",
              "      <td>2765</td>\n",
              "      <td>5473</td>\n",
              "      <td>0.505207</td>\n",
              "    </tr>\n",
              "    <tr>\n",
              "      <th>248</th>\n",
              "      <td>FL</td>\n",
              "      <td>20200326</td>\n",
              "      <td>2355</td>\n",
              "      <td>5473</td>\n",
              "      <td>0.430294</td>\n",
              "    </tr>\n",
              "    <tr>\n",
              "      <th>249</th>\n",
              "      <td>FL</td>\n",
              "      <td>20200325</td>\n",
              "      <td>1682</td>\n",
              "      <td>5473</td>\n",
              "      <td>0.307327</td>\n",
              "    </tr>\n",
              "    <tr>\n",
              "      <th>250</th>\n",
              "      <td>FL</td>\n",
              "      <td>20200324</td>\n",
              "      <td>1412</td>\n",
              "      <td>5473</td>\n",
              "      <td>0.257994</td>\n",
              "    </tr>\n",
              "    <tr>\n",
              "      <th>251</th>\n",
              "      <td>FL</td>\n",
              "      <td>20200323</td>\n",
              "      <td>1171</td>\n",
              "      <td>5473</td>\n",
              "      <td>0.213959</td>\n",
              "    </tr>\n",
              "    <tr>\n",
              "      <th>252</th>\n",
              "      <td>FL</td>\n",
              "      <td>20200322</td>\n",
              "      <td>830</td>\n",
              "      <td>5473</td>\n",
              "      <td>0.151654</td>\n",
              "    </tr>\n",
              "    <tr>\n",
              "      <th>253</th>\n",
              "      <td>FL</td>\n",
              "      <td>20200321</td>\n",
              "      <td>658</td>\n",
              "      <td>5473</td>\n",
              "      <td>0.120227</td>\n",
              "    </tr>\n",
              "  </tbody>\n",
              "</table>\n",
              "</div>"
            ],
            "text/plain": [
              "    state      date  positive  current_total       pct\n",
              "244    FL  20200330      5473           5473  1.000000\n",
              "245    FL  20200329      4246           5473  0.775809\n",
              "246    FL  20200328      3763           5473  0.687557\n",
              "247    FL  20200327      2765           5473  0.505207\n",
              "248    FL  20200326      2355           5473  0.430294\n",
              "249    FL  20200325      1682           5473  0.307327\n",
              "250    FL  20200324      1412           5473  0.257994\n",
              "251    FL  20200323      1171           5473  0.213959\n",
              "252    FL  20200322       830           5473  0.151654\n",
              "253    FL  20200321       658           5473  0.120227"
            ]
          },
          "metadata": {
            "tags": []
          },
          "execution_count": 31
        }
      ]
    },
    {
      "cell_type": "code",
      "metadata": {
        "id": "Puz0PBzemMD3",
        "colab_type": "code",
        "outputId": "b21e7b4e-dc8d-4f44-9546-a4e62fd9c9c7",
        "colab": {
          "base_uri": "https://localhost:8080/",
          "height": 858
        }
      },
      "source": [
        "datecutoff = int(((pd.to_datetime(str(dfDates.date.max())))-datetime.timedelta(days=3)).strftime(\"%Y%m%d\"))\n",
        "dfDates[(dfDates.date == datecutoff) & (dfDates.pct < .60)].sort_values(by='positive',ascending=False)\n"
      ],
      "execution_count": 32,
      "outputs": [
        {
          "output_type": "execute_result",
          "data": {
            "text/html": [
              "<div>\n",
              "<style scoped>\n",
              "    .dataframe tbody tr th:only-of-type {\n",
              "        vertical-align: middle;\n",
              "    }\n",
              "\n",
              "    .dataframe tbody tr th {\n",
              "        vertical-align: top;\n",
              "    }\n",
              "\n",
              "    .dataframe thead th {\n",
              "        text-align: right;\n",
              "    }\n",
              "</style>\n",
              "<table border=\"1\" class=\"dataframe\">\n",
              "  <thead>\n",
              "    <tr style=\"text-align: right;\">\n",
              "      <th></th>\n",
              "      <th>state</th>\n",
              "      <th>date</th>\n",
              "      <th>positive</th>\n",
              "      <th>current_total</th>\n",
              "      <th>pct</th>\n",
              "    </tr>\n",
              "  </thead>\n",
              "  <tbody>\n",
              "    <tr>\n",
              "      <th>834</th>\n",
              "      <td>NJ</td>\n",
              "      <td>20200327</td>\n",
              "      <td>8825</td>\n",
              "      <td>16636</td>\n",
              "      <td>0.530476</td>\n",
              "    </tr>\n",
              "    <tr>\n",
              "      <th>592</th>\n",
              "      <td>MI</td>\n",
              "      <td>20200327</td>\n",
              "      <td>3657</td>\n",
              "      <td>6498</td>\n",
              "      <td>0.562789</td>\n",
              "    </tr>\n",
              "    <tr>\n",
              "      <th>515</th>\n",
              "      <td>MA</td>\n",
              "      <td>20200327</td>\n",
              "      <td>3240</td>\n",
              "      <td>5752</td>\n",
              "      <td>0.563282</td>\n",
              "    </tr>\n",
              "    <tr>\n",
              "      <th>389</th>\n",
              "      <td>IL</td>\n",
              "      <td>20200327</td>\n",
              "      <td>3026</td>\n",
              "      <td>5057</td>\n",
              "      <td>0.598378</td>\n",
              "    </tr>\n",
              "    <tr>\n",
              "      <th>247</th>\n",
              "      <td>FL</td>\n",
              "      <td>20200327</td>\n",
              "      <td>2765</td>\n",
              "      <td>5473</td>\n",
              "      <td>0.505207</td>\n",
              "    </tr>\n",
              "    <tr>\n",
              "      <th>1015</th>\n",
              "      <td>PA</td>\n",
              "      <td>20200327</td>\n",
              "      <td>2218</td>\n",
              "      <td>4087</td>\n",
              "      <td>0.542696</td>\n",
              "    </tr>\n",
              "    <tr>\n",
              "      <th>146</th>\n",
              "      <td>CO</td>\n",
              "      <td>20200327</td>\n",
              "      <td>1430</td>\n",
              "      <td>2627</td>\n",
              "      <td>0.544347</td>\n",
              "    </tr>\n",
              "    <tr>\n",
              "      <th>172</th>\n",
              "      <td>CT</td>\n",
              "      <td>20200327</td>\n",
              "      <td>1291</td>\n",
              "      <td>2571</td>\n",
              "      <td>0.502139</td>\n",
              "    </tr>\n",
              "    <tr>\n",
              "      <th>938</th>\n",
              "      <td>OH</td>\n",
              "      <td>20200327</td>\n",
              "      <td>1137</td>\n",
              "      <td>1933</td>\n",
              "      <td>0.588205</td>\n",
              "    </tr>\n",
              "    <tr>\n",
              "      <th>416</th>\n",
              "      <td>IN</td>\n",
              "      <td>20200327</td>\n",
              "      <td>981</td>\n",
              "      <td>1786</td>\n",
              "      <td>0.549272</td>\n",
              "    </tr>\n",
              "    <tr>\n",
              "      <th>542</th>\n",
              "      <td>MD</td>\n",
              "      <td>20200327</td>\n",
              "      <td>774</td>\n",
              "      <td>1413</td>\n",
              "      <td>0.547771</td>\n",
              "    </tr>\n",
              "    <tr>\n",
              "      <th>730</th>\n",
              "      <td>NC</td>\n",
              "      <td>20200327</td>\n",
              "      <td>763</td>\n",
              "      <td>1307</td>\n",
              "      <td>0.583780</td>\n",
              "    </tr>\n",
              "    <tr>\n",
              "      <th>1207</th>\n",
              "      <td>VA</td>\n",
              "      <td>20200327</td>\n",
              "      <td>604</td>\n",
              "      <td>1020</td>\n",
              "      <td>0.592157</td>\n",
              "    </tr>\n",
              "    <tr>\n",
              "      <th>885</th>\n",
              "      <td>NV</td>\n",
              "      <td>20200327</td>\n",
              "      <td>535</td>\n",
              "      <td>1008</td>\n",
              "      <td>0.530754</td>\n",
              "    </tr>\n",
              "    <tr>\n",
              "      <th>1183</th>\n",
              "      <td>UT</td>\n",
              "      <td>20200327</td>\n",
              "      <td>480</td>\n",
              "      <td>806</td>\n",
              "      <td>0.595533</td>\n",
              "    </tr>\n",
              "    <tr>\n",
              "      <th>1079</th>\n",
              "      <td>SC</td>\n",
              "      <td>20200327</td>\n",
              "      <td>456</td>\n",
              "      <td>925</td>\n",
              "      <td>0.492973</td>\n",
              "    </tr>\n",
              "    <tr>\n",
              "      <th>466</th>\n",
              "      <td>KY</td>\n",
              "      <td>20200327</td>\n",
              "      <td>248</td>\n",
              "      <td>439</td>\n",
              "      <td>0.564920</td>\n",
              "    </tr>\n",
              "    <tr>\n",
              "      <th>340</th>\n",
              "      <td>IA</td>\n",
              "      <td>20200327</td>\n",
              "      <td>235</td>\n",
              "      <td>424</td>\n",
              "      <td>0.554245</td>\n",
              "    </tr>\n",
              "    <tr>\n",
              "      <th>441</th>\n",
              "      <td>KS</td>\n",
              "      <td>20200327</td>\n",
              "      <td>202</td>\n",
              "      <td>368</td>\n",
              "      <td>0.548913</td>\n",
              "    </tr>\n",
              "    <tr>\n",
              "      <th>1055</th>\n",
              "      <td>RI</td>\n",
              "      <td>20200327</td>\n",
              "      <td>165</td>\n",
              "      <td>408</td>\n",
              "      <td>0.404412</td>\n",
              "    </tr>\n",
              "    <tr>\n",
              "      <th>807</th>\n",
              "      <td>NH</td>\n",
              "      <td>20200327</td>\n",
              "      <td>158</td>\n",
              "      <td>314</td>\n",
              "      <td>0.503185</td>\n",
              "    </tr>\n",
              "    <tr>\n",
              "      <th>860</th>\n",
              "      <td>NM</td>\n",
              "      <td>20200327</td>\n",
              "      <td>136</td>\n",
              "      <td>237</td>\n",
              "      <td>0.573840</td>\n",
              "    </tr>\n",
              "    <tr>\n",
              "      <th>781</th>\n",
              "      <td>NE</td>\n",
              "      <td>20200327</td>\n",
              "      <td>85</td>\n",
              "      <td>145</td>\n",
              "      <td>0.586207</td>\n",
              "    </tr>\n",
              "    <tr>\n",
              "      <th>1040</th>\n",
              "      <td>PR</td>\n",
              "      <td>20200327</td>\n",
              "      <td>79</td>\n",
              "      <td>174</td>\n",
              "      <td>0.454023</td>\n",
              "    </tr>\n",
              "    <tr>\n",
              "      <th>757</th>\n",
              "      <td>ND</td>\n",
              "      <td>20200327</td>\n",
              "      <td>65</td>\n",
              "      <td>109</td>\n",
              "      <td>0.596330</td>\n",
              "    </tr>\n",
              "    <tr>\n",
              "      <th>1106</th>\n",
              "      <td>SD</td>\n",
              "      <td>20200327</td>\n",
              "      <td>58</td>\n",
              "      <td>101</td>\n",
              "      <td>0.574257</td>\n",
              "    </tr>\n",
              "    <tr>\n",
              "      <th>667</th>\n",
              "      <td>MP</td>\n",
              "      <td>20200327</td>\n",
              "      <td>0</td>\n",
              "      <td>2</td>\n",
              "      <td>0.000000</td>\n",
              "    </tr>\n",
              "  </tbody>\n",
              "</table>\n",
              "</div>"
            ],
            "text/plain": [
              "     state      date  positive  current_total       pct\n",
              "834     NJ  20200327      8825          16636  0.530476\n",
              "592     MI  20200327      3657           6498  0.562789\n",
              "515     MA  20200327      3240           5752  0.563282\n",
              "389     IL  20200327      3026           5057  0.598378\n",
              "247     FL  20200327      2765           5473  0.505207\n",
              "1015    PA  20200327      2218           4087  0.542696\n",
              "146     CO  20200327      1430           2627  0.544347\n",
              "172     CT  20200327      1291           2571  0.502139\n",
              "938     OH  20200327      1137           1933  0.588205\n",
              "416     IN  20200327       981           1786  0.549272\n",
              "542     MD  20200327       774           1413  0.547771\n",
              "730     NC  20200327       763           1307  0.583780\n",
              "1207    VA  20200327       604           1020  0.592157\n",
              "885     NV  20200327       535           1008  0.530754\n",
              "1183    UT  20200327       480            806  0.595533\n",
              "1079    SC  20200327       456            925  0.492973\n",
              "466     KY  20200327       248            439  0.564920\n",
              "340     IA  20200327       235            424  0.554245\n",
              "441     KS  20200327       202            368  0.548913\n",
              "1055    RI  20200327       165            408  0.404412\n",
              "807     NH  20200327       158            314  0.503185\n",
              "860     NM  20200327       136            237  0.573840\n",
              "781     NE  20200327        85            145  0.586207\n",
              "1040    PR  20200327        79            174  0.454023\n",
              "757     ND  20200327        65            109  0.596330\n",
              "1106    SD  20200327        58            101  0.574257\n",
              "667     MP  20200327         0              2  0.000000"
            ]
          },
          "metadata": {
            "tags": []
          },
          "execution_count": 32
        }
      ]
    },
    {
      "cell_type": "code",
      "metadata": {
        "id": "ZmaKzaBnGQwj",
        "colab_type": "code",
        "colab": {
          "base_uri": "https://localhost:8080/",
          "height": 308
        },
        "outputId": "c7369be8-8a23-4f83-c8ed-0860665ff348"
      },
      "source": [
        "state = 'NY'\n",
        "dfState = dfCovidtracking[dfCovidtracking.state==state].sort_values(by='date')\n",
        "vals = dfState.positive.values\n",
        "\n",
        "x=pd.Series([y-x for x,y in zip(vals,vals[1:])], \\\n",
        "          index = dfCovidtracking[dfCovidtracking.state==state]\\\n",
        "          .sort_values(by='date').date.values[1:] ) \\\n",
        "          .plot.bar()\n",
        "\n"
      ],
      "execution_count": 85,
      "outputs": [
        {
          "output_type": "display_data",
          "data": {
            "image/png": "[encoded data removed]",
            "text/plain": [
              "<Figure size 432x288 with 1 Axes>"
            ]
          },
          "metadata": {
            "tags": []
          }
        }
      ]
    },
    {
      "cell_type": "code",
      "metadata": {
        "id": "Nlx8_xZ27kvp",
        "colab_type": "code",
        "colab": {}
      },
      "source": [
        ""
      ],
      "execution_count": 0,
      "outputs": []
    }
  ]
}