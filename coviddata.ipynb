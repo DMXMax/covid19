{
  "nbformat": 4,
  "nbformat_minor": 0,
  "metadata": {
    "colab": {
      "name": "coviddata",
      "provenance": [],
      "toc_visible": true,
      "authorship_tag": "ABX9TyOqy3NL2QhsnOP822ARd63b",
      "include_colab_link": true
    },
    "kernelspec": {
      "name": "python3",
      "display_name": "Python 3"
    }
  },
  "cells": [
    {
      "cell_type": "markdown",
      "metadata": {
        "id": "view-in-github",
        "colab_type": "text"
      },
      "source": [
        "<a href=\"https://colab.research.google.com/github/DMXMax/covid19/blob/gc_20200315/coviddata.ipynb\" target=\"_parent\"><img src=\"https://colab.research.google.com/assets/colab-badge.svg\" alt=\"Open In Colab\"/></a>"
      ]
    },
    {
      "cell_type": "code",
      "metadata": {
        "id": "jCzokJEPxFhv",
        "colab_type": "code",
        "colab": {}
      },
      "source": [
        "import numpy as np\n",
        "import pandas as pd\n",
        "import matplotlib.pyplot as plt\n",
        "import requests,json\n",
        "import datetime\n"
      ],
      "execution_count": 0,
      "outputs": []
    },
    {
      "cell_type": "code",
      "metadata": {
        "id": "zNKPT5Z8BXPT",
        "colab_type": "code",
        "colab": {}
      },
      "source": [
        "covidtrackingurl = \"https://covidtracking.com/api/states/daily\"\n",
        "response = requests.get(covidtrackingurl)\n",
        "dfCovidtracking = pd.DataFrame(response.json())\n",
        "dfCovidtracking.fillna(0, inplace=True)\n",
        "dfCovidtracking.negative = dfCovidtracking.negative.astype('int64')\n",
        "dfCovidtracking.positive = dfCovidtracking.positive.astype('int64')\n",
        "dfCovidtracking.pending = dfCovidtracking.pending.astype('int64')\n",
        "dfCovidtracking.total = dfCovidtracking.total.astype('int64')\n",
        "dfCovidtracking.death = dfCovidtracking.death.astype('int64')\n",
        "\n",
        "dfCovidtracking.date = dfCovidtracking.date.transform(lambda x: pd.to_datetime(datetime.date(x//10000, x%10000//100, x%100\n",
        "                                          )))\n"
      ],
      "execution_count": 0,
      "outputs": []
    },
    {
      "cell_type": "code",
      "metadata": {
        "id": "8_Il5iuohC8_",
        "colab_type": "code",
        "colab": {}
      },
      "source": [
        "dfWHO = pd.read_csv(\"https://raw.githubusercontent.com/DMXMax/covid19/master/who/who_data.tsv\",\n",
        "                     sep='\\t', index_col='Date')"
      ],
      "execution_count": 0,
      "outputs": []
    },
    {
      "cell_type": "code",
      "metadata": {
        "id": "IHNp61EvdwQG",
        "colab_type": "code",
        "colab": {}
      },
      "source": [
        "jhurl = \"https://raw.githubusercontent.com/CSSEGISandData/COVID-19/master/\"+\\\n",
        "\"csse_covid_19_data/csse_covid_19_daily_reports/04-24-2020.csv\"\n",
        "\n",
        "\n",
        "dfJHUData = pd.read_csv(jhurl, header=0,\n",
        "                        names=['FIPS', 'city','state', 'country', 'last_update',\n",
        "                               'lat', 'lon','confirmed', 'dead', 'recovered','active', 'key'])"
      ],
      "execution_count": 0,
      "outputs": []
    },
    {
      "cell_type": "code",
      "metadata": {
        "id": "hrPlWJJCVtBR",
        "colab_type": "code",
        "colab": {}
      },
      "source": [
        "dfWHO = dfWHO.rename(columns={\"Confirmed\": \"confirmed\", \"Deaths\": \"who_deaths\"})\n",
        "dfWHO.index.names=['date']\n"
      ],
      "execution_count": 0,
      "outputs": []
    },
    {
      "cell_type": "code",
      "metadata": {
        "colab_type": "code",
        "id": "idyqfNddlLPv",
        "colab": {
          "base_uri": "https://localhost:8080/",
          "height": 348
        },
        "outputId": "896bbf65-b3ac-46f6-cebc-2864f1fd9ccb"
      },
      "source": [
        "dfCovidtracking.loc[dfCovidtracking.date==dfCovidtracking.date.max(),\\\n",
        "  ['state', 'positive', 'negative', 'totalTestResults']].sort_values(by='positive', ascending=False).head(10)"
      ],
      "execution_count": 46,
      "outputs": [
        {
          "output_type": "execute_result",
          "data": {
            "text/html": [
              "<div>\n",
              "<style scoped>\n",
              "    .dataframe tbody tr th:only-of-type {\n",
              "        vertical-align: middle;\n",
              "    }\n",
              "\n",
              "    .dataframe tbody tr th {\n",
              "        vertical-align: top;\n",
              "    }\n",
              "\n",
              "    .dataframe thead th {\n",
              "        text-align: right;\n",
              "    }\n",
              "</style>\n",
              "<table border=\"1\" class=\"dataframe\">\n",
              "  <thead>\n",
              "    <tr style=\"text-align: right;\">\n",
              "      <th></th>\n",
              "      <th>state</th>\n",
              "      <th>positive</th>\n",
              "      <th>negative</th>\n",
              "      <th>totalTestResults</th>\n",
              "    </tr>\n",
              "  </thead>\n",
              "  <tbody>\n",
              "    <tr>\n",
              "      <th>37</th>\n",
              "      <td>NY</td>\n",
              "      <td>271590</td>\n",
              "      <td>459066</td>\n",
              "      <td>730656.0</td>\n",
              "    </tr>\n",
              "    <tr>\n",
              "      <th>34</th>\n",
              "      <td>NJ</td>\n",
              "      <td>102196</td>\n",
              "      <td>103766</td>\n",
              "      <td>205962.0</td>\n",
              "    </tr>\n",
              "    <tr>\n",
              "      <th>21</th>\n",
              "      <td>MA</td>\n",
              "      <td>46023</td>\n",
              "      <td>149053</td>\n",
              "      <td>195076.0</td>\n",
              "    </tr>\n",
              "    <tr>\n",
              "      <th>16</th>\n",
              "      <td>IL</td>\n",
              "      <td>39658</td>\n",
              "      <td>149974</td>\n",
              "      <td>189632.0</td>\n",
              "    </tr>\n",
              "    <tr>\n",
              "      <th>5</th>\n",
              "      <td>CA</td>\n",
              "      <td>39254</td>\n",
              "      <td>454919</td>\n",
              "      <td>494173.0</td>\n",
              "    </tr>\n",
              "    <tr>\n",
              "      <th>41</th>\n",
              "      <td>PA</td>\n",
              "      <td>38652</td>\n",
              "      <td>147491</td>\n",
              "      <td>186143.0</td>\n",
              "    </tr>\n",
              "    <tr>\n",
              "      <th>24</th>\n",
              "      <td>MI</td>\n",
              "      <td>36641</td>\n",
              "      <td>99655</td>\n",
              "      <td>136296.0</td>\n",
              "    </tr>\n",
              "    <tr>\n",
              "      <th>10</th>\n",
              "      <td>FL</td>\n",
              "      <td>30174</td>\n",
              "      <td>286785</td>\n",
              "      <td>316959.0</td>\n",
              "    </tr>\n",
              "    <tr>\n",
              "      <th>20</th>\n",
              "      <td>LA</td>\n",
              "      <td>26140</td>\n",
              "      <td>117576</td>\n",
              "      <td>143716.0</td>\n",
              "    </tr>\n",
              "    <tr>\n",
              "      <th>7</th>\n",
              "      <td>CT</td>\n",
              "      <td>23921</td>\n",
              "      <td>50117</td>\n",
              "      <td>74038.0</td>\n",
              "    </tr>\n",
              "  </tbody>\n",
              "</table>\n",
              "</div>"
            ],
            "text/plain": [
              "   state  positive  negative  totalTestResults\n",
              "37    NY    271590    459066          730656.0\n",
              "34    NJ    102196    103766          205962.0\n",
              "21    MA     46023    149053          195076.0\n",
              "16    IL     39658    149974          189632.0\n",
              "5     CA     39254    454919          494173.0\n",
              "41    PA     38652    147491          186143.0\n",
              "24    MI     36641     99655          136296.0\n",
              "10    FL     30174    286785          316959.0\n",
              "20    LA     26140    117576          143716.0\n",
              "7     CT     23921     50117           74038.0"
            ]
          },
          "metadata": {
            "tags": []
          },
          "execution_count": 46
        }
      ]
    },
    {
      "cell_type": "code",
      "metadata": {
        "id": "rFOHyOwb4bcm",
        "colab_type": "code",
        "colab": {}
      },
      "source": [
        "gbUSA = dfCovidtracking.groupby(['date'])\n",
        "gbCA = dfCovidtracking[dfCovidtracking.state=='CA'].groupby(['date'])\n",
        "\n",
        "dfUSAPos = gbUSA[['positive', 'totalTestResults', 'death', 'positiveIncrease','deathIncrease']].sum().reset_index().copy()\n",
        "dfCAPos = gbCA[['positive', 'totalTestResults', 'death','positiveIncrease', 'deathIncrease']].sum().reset_index().copy()\n",
        "\n",
        "#This will calculate the percentage each day is of the total. In a flattening, this will be more even\n",
        "# In a high growth situation, you'll higher percentages at the tail. \n",
        "dfUSAPos['PCT']= dfUSAPos.positive/dfUSAPos.max().positive\n",
        "dfCAPos['PCT']=dfCAPos.positive/dfCAPos.max().positive"
      ],
      "execution_count": 0,
      "outputs": []
    },
    {
      "cell_type": "code",
      "metadata": {
        "colab_type": "code",
        "id": "BHKhtPRozVFF",
        "colab": {
          "base_uri": "https://localhost:8080/",
          "height": 468
        },
        "outputId": "eaf5f491-f511-4156-e21a-453ee3274600"
      },
      "source": [
        "dfUSAPos[-14:]"
      ],
      "execution_count": 48,
      "outputs": [
        {
          "output_type": "execute_result",
          "data": {
            "text/html": [
              "<div>\n",
              "<style scoped>\n",
              "    .dataframe tbody tr th:only-of-type {\n",
              "        vertical-align: middle;\n",
              "    }\n",
              "\n",
              "    .dataframe tbody tr th {\n",
              "        vertical-align: top;\n",
              "    }\n",
              "\n",
              "    .dataframe thead th {\n",
              "        text-align: right;\n",
              "    }\n",
              "</style>\n",
              "<table border=\"1\" class=\"dataframe\">\n",
              "  <thead>\n",
              "    <tr style=\"text-align: right;\">\n",
              "      <th></th>\n",
              "      <th>date</th>\n",
              "      <th>positive</th>\n",
              "      <th>totalTestResults</th>\n",
              "      <th>death</th>\n",
              "      <th>positiveIncrease</th>\n",
              "      <th>deathIncrease</th>\n",
              "      <th>PCT</th>\n",
              "    </tr>\n",
              "  </thead>\n",
              "  <tbody>\n",
              "    <tr>\n",
              "      <th>80</th>\n",
              "      <td>2020-04-11</td>\n",
              "      <td>522736</td>\n",
              "      <td>2665559.0</td>\n",
              "      <td>20423</td>\n",
              "      <td>29878.0</td>\n",
              "      <td>1935.0</td>\n",
              "      <td>0.586806</td>\n",
              "    </tr>\n",
              "    <tr>\n",
              "      <th>81</th>\n",
              "      <td>2020-04-12</td>\n",
              "      <td>551953</td>\n",
              "      <td>2806019.0</td>\n",
              "      <td>21919</td>\n",
              "      <td>29217.0</td>\n",
              "      <td>1496.0</td>\n",
              "      <td>0.619604</td>\n",
              "    </tr>\n",
              "    <tr>\n",
              "      <th>82</th>\n",
              "      <td>2020-04-13</td>\n",
              "      <td>576902</td>\n",
              "      <td>2935134.0</td>\n",
              "      <td>23369</td>\n",
              "      <td>24949.0</td>\n",
              "      <td>1450.0</td>\n",
              "      <td>0.647611</td>\n",
              "    </tr>\n",
              "    <tr>\n",
              "      <th>83</th>\n",
              "      <td>2020-04-14</td>\n",
              "      <td>602676</td>\n",
              "      <td>3081589.0</td>\n",
              "      <td>25668</td>\n",
              "      <td>25774.0</td>\n",
              "      <td>2299.0</td>\n",
              "      <td>0.676544</td>\n",
              "    </tr>\n",
              "    <tr>\n",
              "      <th>84</th>\n",
              "      <td>2020-04-15</td>\n",
              "      <td>633010</td>\n",
              "      <td>3243109.0</td>\n",
              "      <td>28160</td>\n",
              "      <td>30334.0</td>\n",
              "      <td>2492.0</td>\n",
              "      <td>0.710596</td>\n",
              "    </tr>\n",
              "    <tr>\n",
              "      <th>85</th>\n",
              "      <td>2020-04-16</td>\n",
              "      <td>663767</td>\n",
              "      <td>3401571.0</td>\n",
              "      <td>30296</td>\n",
              "      <td>30757.0</td>\n",
              "      <td>2136.0</td>\n",
              "      <td>0.745122</td>\n",
              "    </tr>\n",
              "    <tr>\n",
              "      <th>86</th>\n",
              "      <td>2020-04-17</td>\n",
              "      <td>694986</td>\n",
              "      <td>3557959.0</td>\n",
              "      <td>32365</td>\n",
              "      <td>31219.0</td>\n",
              "      <td>2069.0</td>\n",
              "      <td>0.780168</td>\n",
              "    </tr>\n",
              "    <tr>\n",
              "      <th>87</th>\n",
              "      <td>2020-04-18</td>\n",
              "      <td>722566</td>\n",
              "      <td>3698918.0</td>\n",
              "      <td>34139</td>\n",
              "      <td>27580.0</td>\n",
              "      <td>1774.0</td>\n",
              "      <td>0.811128</td>\n",
              "    </tr>\n",
              "    <tr>\n",
              "      <th>88</th>\n",
              "      <td>2020-04-19</td>\n",
              "      <td>749486</td>\n",
              "      <td>3866147.0</td>\n",
              "      <td>35793</td>\n",
              "      <td>26920.0</td>\n",
              "      <td>1654.0</td>\n",
              "      <td>0.841348</td>\n",
              "    </tr>\n",
              "    <tr>\n",
              "      <th>89</th>\n",
              "      <td>2020-04-20</td>\n",
              "      <td>773020</td>\n",
              "      <td>4004047.0</td>\n",
              "      <td>37321</td>\n",
              "      <td>23534.0</td>\n",
              "      <td>1528.0</td>\n",
              "      <td>0.867766</td>\n",
              "    </tr>\n",
              "    <tr>\n",
              "      <th>90</th>\n",
              "      <td>2020-04-21</td>\n",
              "      <td>800305</td>\n",
              "      <td>4155587.0</td>\n",
              "      <td>39995</td>\n",
              "      <td>27285.0</td>\n",
              "      <td>2674.0</td>\n",
              "      <td>0.898395</td>\n",
              "    </tr>\n",
              "    <tr>\n",
              "      <th>91</th>\n",
              "      <td>2020-04-22</td>\n",
              "      <td>827963</td>\n",
              "      <td>4469195.0</td>\n",
              "      <td>42128</td>\n",
              "      <td>27658.0</td>\n",
              "      <td>2133.0</td>\n",
              "      <td>0.929443</td>\n",
              "    </tr>\n",
              "    <tr>\n",
              "      <th>92</th>\n",
              "      <td>2020-04-23</td>\n",
              "      <td>859318</td>\n",
              "      <td>4660250.0</td>\n",
              "      <td>44014</td>\n",
              "      <td>31355.0</td>\n",
              "      <td>1886.0</td>\n",
              "      <td>0.964641</td>\n",
              "    </tr>\n",
              "    <tr>\n",
              "      <th>93</th>\n",
              "      <td>2020-04-24</td>\n",
              "      <td>890816</td>\n",
              "      <td>4883802.0</td>\n",
              "      <td>45786</td>\n",
              "      <td>31498.0</td>\n",
              "      <td>1772.0</td>\n",
              "      <td>1.000000</td>\n",
              "    </tr>\n",
              "  </tbody>\n",
              "</table>\n",
              "</div>"
            ],
            "text/plain": [
              "         date  positive  ...  deathIncrease       PCT\n",
              "80 2020-04-11    522736  ...         1935.0  0.586806\n",
              "81 2020-04-12    551953  ...         1496.0  0.619604\n",
              "82 2020-04-13    576902  ...         1450.0  0.647611\n",
              "83 2020-04-14    602676  ...         2299.0  0.676544\n",
              "84 2020-04-15    633010  ...         2492.0  0.710596\n",
              "85 2020-04-16    663767  ...         2136.0  0.745122\n",
              "86 2020-04-17    694986  ...         2069.0  0.780168\n",
              "87 2020-04-18    722566  ...         1774.0  0.811128\n",
              "88 2020-04-19    749486  ...         1654.0  0.841348\n",
              "89 2020-04-20    773020  ...         1528.0  0.867766\n",
              "90 2020-04-21    800305  ...         2674.0  0.898395\n",
              "91 2020-04-22    827963  ...         2133.0  0.929443\n",
              "92 2020-04-23    859318  ...         1886.0  0.964641\n",
              "93 2020-04-24    890816  ...         1772.0  1.000000\n",
              "\n",
              "[14 rows x 7 columns]"
            ]
          },
          "metadata": {
            "tags": []
          },
          "execution_count": 48
        }
      ]
    },
    {
      "cell_type": "code",
      "metadata": {
        "colab_type": "code",
        "id": "EI4hKgZ5zUd8",
        "colab": {
          "base_uri": "https://localhost:8080/",
          "height": 258
        },
        "outputId": "2fdb01b3-25c5-4555-bc7c-f9ab00ee5579"
      },
      "source": [
        "dfCAPos[-7:]"
      ],
      "execution_count": 49,
      "outputs": [
        {
          "output_type": "execute_result",
          "data": {
            "text/html": [
              "<div>\n",
              "<style scoped>\n",
              "    .dataframe tbody tr th:only-of-type {\n",
              "        vertical-align: middle;\n",
              "    }\n",
              "\n",
              "    .dataframe tbody tr th {\n",
              "        vertical-align: top;\n",
              "    }\n",
              "\n",
              "    .dataframe thead th {\n",
              "        text-align: right;\n",
              "    }\n",
              "</style>\n",
              "<table border=\"1\" class=\"dataframe\">\n",
              "  <thead>\n",
              "    <tr style=\"text-align: right;\">\n",
              "      <th></th>\n",
              "      <th>date</th>\n",
              "      <th>positive</th>\n",
              "      <th>totalTestResults</th>\n",
              "      <th>death</th>\n",
              "      <th>positiveIncrease</th>\n",
              "      <th>deathIncrease</th>\n",
              "      <th>PCT</th>\n",
              "    </tr>\n",
              "  </thead>\n",
              "  <tbody>\n",
              "    <tr>\n",
              "      <th>45</th>\n",
              "      <td>2020-04-18</td>\n",
              "      <td>28963</td>\n",
              "      <td>259666.0</td>\n",
              "      <td>1072</td>\n",
              "      <td>1435.0</td>\n",
              "      <td>87.0</td>\n",
              "      <td>0.737836</td>\n",
              "    </tr>\n",
              "    <tr>\n",
              "      <th>46</th>\n",
              "      <td>2020-04-19</td>\n",
              "      <td>30333</td>\n",
              "      <td>280900.0</td>\n",
              "      <td>1166</td>\n",
              "      <td>1370.0</td>\n",
              "      <td>94.0</td>\n",
              "      <td>0.772737</td>\n",
              "    </tr>\n",
              "    <tr>\n",
              "      <th>47</th>\n",
              "      <td>2020-04-20</td>\n",
              "      <td>30978</td>\n",
              "      <td>290500.0</td>\n",
              "      <td>1208</td>\n",
              "      <td>645.0</td>\n",
              "      <td>42.0</td>\n",
              "      <td>0.789168</td>\n",
              "    </tr>\n",
              "    <tr>\n",
              "      <th>48</th>\n",
              "      <td>2020-04-21</td>\n",
              "      <td>33261</td>\n",
              "      <td>300100.0</td>\n",
              "      <td>1268</td>\n",
              "      <td>2283.0</td>\n",
              "      <td>60.0</td>\n",
              "      <td>0.847328</td>\n",
              "    </tr>\n",
              "    <tr>\n",
              "      <th>49</th>\n",
              "      <td>2020-04-22</td>\n",
              "      <td>35396</td>\n",
              "      <td>465327.0</td>\n",
              "      <td>1354</td>\n",
              "      <td>2135.0</td>\n",
              "      <td>86.0</td>\n",
              "      <td>0.901717</td>\n",
              "    </tr>\n",
              "    <tr>\n",
              "      <th>50</th>\n",
              "      <td>2020-04-23</td>\n",
              "      <td>37369</td>\n",
              "      <td>482097.0</td>\n",
              "      <td>1469</td>\n",
              "      <td>1973.0</td>\n",
              "      <td>115.0</td>\n",
              "      <td>0.951979</td>\n",
              "    </tr>\n",
              "    <tr>\n",
              "      <th>51</th>\n",
              "      <td>2020-04-24</td>\n",
              "      <td>39254</td>\n",
              "      <td>494173.0</td>\n",
              "      <td>1562</td>\n",
              "      <td>1885.0</td>\n",
              "      <td>93.0</td>\n",
              "      <td>1.000000</td>\n",
              "    </tr>\n",
              "  </tbody>\n",
              "</table>\n",
              "</div>"
            ],
            "text/plain": [
              "         date  positive  ...  deathIncrease       PCT\n",
              "45 2020-04-18     28963  ...           87.0  0.737836\n",
              "46 2020-04-19     30333  ...           94.0  0.772737\n",
              "47 2020-04-20     30978  ...           42.0  0.789168\n",
              "48 2020-04-21     33261  ...           60.0  0.847328\n",
              "49 2020-04-22     35396  ...           86.0  0.901717\n",
              "50 2020-04-23     37369  ...          115.0  0.951979\n",
              "51 2020-04-24     39254  ...           93.0  1.000000\n",
              "\n",
              "[7 rows x 7 columns]"
            ]
          },
          "metadata": {
            "tags": []
          },
          "execution_count": 49
        }
      ]
    },
    {
      "cell_type": "code",
      "metadata": {
        "id": "BTvuZKJN0RoI",
        "colab_type": "code",
        "colab": {
          "base_uri": "https://localhost:8080/",
          "height": 335
        },
        "outputId": "91763584-5950-4b3b-8423-1a5ac94e4dc7"
      },
      "source": [
        "gbUSA.sum()[-5:]"
      ],
      "execution_count": 50,
      "outputs": [
        {
          "output_type": "execute_result",
          "data": {
            "text/html": [
              "<div>\n",
              "<style scoped>\n",
              "    .dataframe tbody tr th:only-of-type {\n",
              "        vertical-align: middle;\n",
              "    }\n",
              "\n",
              "    .dataframe tbody tr th {\n",
              "        vertical-align: top;\n",
              "    }\n",
              "\n",
              "    .dataframe thead th {\n",
              "        text-align: right;\n",
              "    }\n",
              "</style>\n",
              "<table border=\"1\" class=\"dataframe\">\n",
              "  <thead>\n",
              "    <tr style=\"text-align: right;\">\n",
              "      <th></th>\n",
              "      <th>positive</th>\n",
              "      <th>negative</th>\n",
              "      <th>pending</th>\n",
              "      <th>hospitalizedCurrently</th>\n",
              "      <th>hospitalizedCumulative</th>\n",
              "      <th>inIcuCurrently</th>\n",
              "      <th>inIcuCumulative</th>\n",
              "      <th>onVentilatorCurrently</th>\n",
              "      <th>onVentilatorCumulative</th>\n",
              "      <th>recovered</th>\n",
              "      <th>death</th>\n",
              "      <th>hospitalized</th>\n",
              "      <th>total</th>\n",
              "      <th>totalTestResults</th>\n",
              "      <th>posNeg</th>\n",
              "      <th>deathIncrease</th>\n",
              "      <th>hospitalizedIncrease</th>\n",
              "      <th>negativeIncrease</th>\n",
              "      <th>positiveIncrease</th>\n",
              "      <th>totalTestResultsIncrease</th>\n",
              "    </tr>\n",
              "    <tr>\n",
              "      <th>date</th>\n",
              "      <th></th>\n",
              "      <th></th>\n",
              "      <th></th>\n",
              "      <th></th>\n",
              "      <th></th>\n",
              "      <th></th>\n",
              "      <th></th>\n",
              "      <th></th>\n",
              "      <th></th>\n",
              "      <th></th>\n",
              "      <th></th>\n",
              "      <th></th>\n",
              "      <th></th>\n",
              "      <th></th>\n",
              "      <th></th>\n",
              "      <th></th>\n",
              "      <th></th>\n",
              "      <th></th>\n",
              "      <th></th>\n",
              "      <th></th>\n",
              "    </tr>\n",
              "  </thead>\n",
              "  <tbody>\n",
              "    <tr>\n",
              "      <th>2020-04-20</th>\n",
              "      <td>773020</td>\n",
              "      <td>3231027</td>\n",
              "      <td>4037</td>\n",
              "      <td>55509.0</td>\n",
              "      <td>82879.0</td>\n",
              "      <td>14691.0</td>\n",
              "      <td>2193.0</td>\n",
              "      <td>5567.0</td>\n",
              "      <td>214.0</td>\n",
              "      <td>54438.0</td>\n",
              "      <td>37321</td>\n",
              "      <td>82879.0</td>\n",
              "      <td>4008084</td>\n",
              "      <td>4004047.0</td>\n",
              "      <td>4004047.0</td>\n",
              "      <td>1528.0</td>\n",
              "      <td>1998.0</td>\n",
              "      <td>114366.0</td>\n",
              "      <td>23534.0</td>\n",
              "      <td>137900.0</td>\n",
              "    </tr>\n",
              "    <tr>\n",
              "      <th>2020-04-21</th>\n",
              "      <td>800305</td>\n",
              "      <td>3355282</td>\n",
              "      <td>3956</td>\n",
              "      <td>58468.0</td>\n",
              "      <td>84292.0</td>\n",
              "      <td>15228.0</td>\n",
              "      <td>2315.0</td>\n",
              "      <td>5514.0</td>\n",
              "      <td>214.0</td>\n",
              "      <td>58117.0</td>\n",
              "      <td>39995</td>\n",
              "      <td>84292.0</td>\n",
              "      <td>4159543</td>\n",
              "      <td>4155587.0</td>\n",
              "      <td>4155587.0</td>\n",
              "      <td>2674.0</td>\n",
              "      <td>1413.0</td>\n",
              "      <td>124255.0</td>\n",
              "      <td>27285.0</td>\n",
              "      <td>151540.0</td>\n",
              "    </tr>\n",
              "    <tr>\n",
              "      <th>2020-04-22</th>\n",
              "      <td>827963</td>\n",
              "      <td>3641232</td>\n",
              "      <td>4191</td>\n",
              "      <td>58173.0</td>\n",
              "      <td>85543.0</td>\n",
              "      <td>15341.0</td>\n",
              "      <td>2370.0</td>\n",
              "      <td>5474.0</td>\n",
              "      <td>227.0</td>\n",
              "      <td>61519.0</td>\n",
              "      <td>42128</td>\n",
              "      <td>85543.0</td>\n",
              "      <td>4473386</td>\n",
              "      <td>4469195.0</td>\n",
              "      <td>4469195.0</td>\n",
              "      <td>2133.0</td>\n",
              "      <td>1251.0</td>\n",
              "      <td>285950.0</td>\n",
              "      <td>27658.0</td>\n",
              "      <td>313608.0</td>\n",
              "    </tr>\n",
              "    <tr>\n",
              "      <th>2020-04-23</th>\n",
              "      <td>859318</td>\n",
              "      <td>3800932</td>\n",
              "      <td>4258</td>\n",
              "      <td>57879.0</td>\n",
              "      <td>91108.0</td>\n",
              "      <td>15163.0</td>\n",
              "      <td>2428.0</td>\n",
              "      <td>5464.0</td>\n",
              "      <td>227.0</td>\n",
              "      <td>63547.0</td>\n",
              "      <td>44014</td>\n",
              "      <td>91108.0</td>\n",
              "      <td>4664508</td>\n",
              "      <td>4660250.0</td>\n",
              "      <td>4660250.0</td>\n",
              "      <td>1886.0</td>\n",
              "      <td>5601.0</td>\n",
              "      <td>159700.0</td>\n",
              "      <td>31355.0</td>\n",
              "      <td>191055.0</td>\n",
              "    </tr>\n",
              "    <tr>\n",
              "      <th>2020-04-24</th>\n",
              "      <td>890816</td>\n",
              "      <td>3992986</td>\n",
              "      <td>4396</td>\n",
              "      <td>56118.0</td>\n",
              "      <td>93107.0</td>\n",
              "      <td>15078.0</td>\n",
              "      <td>2468.0</td>\n",
              "      <td>5187.0</td>\n",
              "      <td>227.0</td>\n",
              "      <td>80958.0</td>\n",
              "      <td>45786</td>\n",
              "      <td>93107.0</td>\n",
              "      <td>4888198</td>\n",
              "      <td>4883802.0</td>\n",
              "      <td>4883802.0</td>\n",
              "      <td>1772.0</td>\n",
              "      <td>1999.0</td>\n",
              "      <td>192054.0</td>\n",
              "      <td>31498.0</td>\n",
              "      <td>223552.0</td>\n",
              "    </tr>\n",
              "  </tbody>\n",
              "</table>\n",
              "</div>"
            ],
            "text/plain": [
              "            positive  negative  ...  positiveIncrease  totalTestResultsIncrease\n",
              "date                            ...                                            \n",
              "2020-04-20    773020   3231027  ...           23534.0                  137900.0\n",
              "2020-04-21    800305   3355282  ...           27285.0                  151540.0\n",
              "2020-04-22    827963   3641232  ...           27658.0                  313608.0\n",
              "2020-04-23    859318   3800932  ...           31355.0                  191055.0\n",
              "2020-04-24    890816   3992986  ...           31498.0                  223552.0\n",
              "\n",
              "[5 rows x 20 columns]"
            ]
          },
          "metadata": {
            "tags": []
          },
          "execution_count": 50
        }
      ]
    },
    {
      "cell_type": "code",
      "metadata": {
        "id": "bjpo-qlGoA7A",
        "colab_type": "code",
        "colab": {
          "base_uri": "https://localhost:8080/",
          "height": 335
        },
        "outputId": "7abba879-6977-441b-ab60-189f6c7ab64e"
      },
      "source": [
        "gbCA.sum()[-5:]"
      ],
      "execution_count": 51,
      "outputs": [
        {
          "output_type": "execute_result",
          "data": {
            "text/html": [
              "<div>\n",
              "<style scoped>\n",
              "    .dataframe tbody tr th:only-of-type {\n",
              "        vertical-align: middle;\n",
              "    }\n",
              "\n",
              "    .dataframe tbody tr th {\n",
              "        vertical-align: top;\n",
              "    }\n",
              "\n",
              "    .dataframe thead th {\n",
              "        text-align: right;\n",
              "    }\n",
              "</style>\n",
              "<table border=\"1\" class=\"dataframe\">\n",
              "  <thead>\n",
              "    <tr style=\"text-align: right;\">\n",
              "      <th></th>\n",
              "      <th>positive</th>\n",
              "      <th>negative</th>\n",
              "      <th>pending</th>\n",
              "      <th>hospitalizedCurrently</th>\n",
              "      <th>hospitalizedCumulative</th>\n",
              "      <th>inIcuCurrently</th>\n",
              "      <th>inIcuCumulative</th>\n",
              "      <th>onVentilatorCurrently</th>\n",
              "      <th>onVentilatorCumulative</th>\n",
              "      <th>recovered</th>\n",
              "      <th>death</th>\n",
              "      <th>hospitalized</th>\n",
              "      <th>total</th>\n",
              "      <th>totalTestResults</th>\n",
              "      <th>posNeg</th>\n",
              "      <th>deathIncrease</th>\n",
              "      <th>hospitalizedIncrease</th>\n",
              "      <th>negativeIncrease</th>\n",
              "      <th>positiveIncrease</th>\n",
              "      <th>totalTestResultsIncrease</th>\n",
              "    </tr>\n",
              "    <tr>\n",
              "      <th>date</th>\n",
              "      <th></th>\n",
              "      <th></th>\n",
              "      <th></th>\n",
              "      <th></th>\n",
              "      <th></th>\n",
              "      <th></th>\n",
              "      <th></th>\n",
              "      <th></th>\n",
              "      <th></th>\n",
              "      <th></th>\n",
              "      <th></th>\n",
              "      <th></th>\n",
              "      <th></th>\n",
              "      <th></th>\n",
              "      <th></th>\n",
              "      <th></th>\n",
              "      <th></th>\n",
              "      <th></th>\n",
              "      <th></th>\n",
              "      <th></th>\n",
              "    </tr>\n",
              "  </thead>\n",
              "  <tbody>\n",
              "    <tr>\n",
              "      <th>2020-04-20</th>\n",
              "      <td>30978</td>\n",
              "      <td>259522</td>\n",
              "      <td>0</td>\n",
              "      <td>4674.0</td>\n",
              "      <td>0.0</td>\n",
              "      <td>1480.0</td>\n",
              "      <td>0.0</td>\n",
              "      <td>0.0</td>\n",
              "      <td>0.0</td>\n",
              "      <td>0.0</td>\n",
              "      <td>1208</td>\n",
              "      <td>0.0</td>\n",
              "      <td>290500</td>\n",
              "      <td>290500.0</td>\n",
              "      <td>290500.0</td>\n",
              "      <td>42.0</td>\n",
              "      <td>0.0</td>\n",
              "      <td>8955.0</td>\n",
              "      <td>645.0</td>\n",
              "      <td>9600.0</td>\n",
              "    </tr>\n",
              "    <tr>\n",
              "      <th>2020-04-21</th>\n",
              "      <td>33261</td>\n",
              "      <td>266839</td>\n",
              "      <td>0</td>\n",
              "      <td>4886.0</td>\n",
              "      <td>0.0</td>\n",
              "      <td>1502.0</td>\n",
              "      <td>0.0</td>\n",
              "      <td>0.0</td>\n",
              "      <td>0.0</td>\n",
              "      <td>0.0</td>\n",
              "      <td>1268</td>\n",
              "      <td>0.0</td>\n",
              "      <td>300100</td>\n",
              "      <td>300100.0</td>\n",
              "      <td>300100.0</td>\n",
              "      <td>60.0</td>\n",
              "      <td>0.0</td>\n",
              "      <td>7317.0</td>\n",
              "      <td>2283.0</td>\n",
              "      <td>9600.0</td>\n",
              "    </tr>\n",
              "    <tr>\n",
              "      <th>2020-04-22</th>\n",
              "      <td>35396</td>\n",
              "      <td>429931</td>\n",
              "      <td>0</td>\n",
              "      <td>4984.0</td>\n",
              "      <td>0.0</td>\n",
              "      <td>1551.0</td>\n",
              "      <td>0.0</td>\n",
              "      <td>0.0</td>\n",
              "      <td>0.0</td>\n",
              "      <td>0.0</td>\n",
              "      <td>1354</td>\n",
              "      <td>0.0</td>\n",
              "      <td>465327</td>\n",
              "      <td>465327.0</td>\n",
              "      <td>465327.0</td>\n",
              "      <td>86.0</td>\n",
              "      <td>0.0</td>\n",
              "      <td>163092.0</td>\n",
              "      <td>2135.0</td>\n",
              "      <td>165227.0</td>\n",
              "    </tr>\n",
              "    <tr>\n",
              "      <th>2020-04-23</th>\n",
              "      <td>37369</td>\n",
              "      <td>444728</td>\n",
              "      <td>0</td>\n",
              "      <td>4929.0</td>\n",
              "      <td>0.0</td>\n",
              "      <td>1531.0</td>\n",
              "      <td>0.0</td>\n",
              "      <td>0.0</td>\n",
              "      <td>0.0</td>\n",
              "      <td>0.0</td>\n",
              "      <td>1469</td>\n",
              "      <td>0.0</td>\n",
              "      <td>482097</td>\n",
              "      <td>482097.0</td>\n",
              "      <td>482097.0</td>\n",
              "      <td>115.0</td>\n",
              "      <td>0.0</td>\n",
              "      <td>14797.0</td>\n",
              "      <td>1973.0</td>\n",
              "      <td>16770.0</td>\n",
              "    </tr>\n",
              "    <tr>\n",
              "      <th>2020-04-24</th>\n",
              "      <td>39254</td>\n",
              "      <td>454919</td>\n",
              "      <td>0</td>\n",
              "      <td>4880.0</td>\n",
              "      <td>0.0</td>\n",
              "      <td>1521.0</td>\n",
              "      <td>0.0</td>\n",
              "      <td>0.0</td>\n",
              "      <td>0.0</td>\n",
              "      <td>0.0</td>\n",
              "      <td>1562</td>\n",
              "      <td>0.0</td>\n",
              "      <td>494173</td>\n",
              "      <td>494173.0</td>\n",
              "      <td>494173.0</td>\n",
              "      <td>93.0</td>\n",
              "      <td>0.0</td>\n",
              "      <td>10191.0</td>\n",
              "      <td>1885.0</td>\n",
              "      <td>12076.0</td>\n",
              "    </tr>\n",
              "  </tbody>\n",
              "</table>\n",
              "</div>"
            ],
            "text/plain": [
              "            positive  negative  ...  positiveIncrease  totalTestResultsIncrease\n",
              "date                            ...                                            \n",
              "2020-04-20     30978    259522  ...             645.0                    9600.0\n",
              "2020-04-21     33261    266839  ...            2283.0                    9600.0\n",
              "2020-04-22     35396    429931  ...            2135.0                  165227.0\n",
              "2020-04-23     37369    444728  ...            1973.0                   16770.0\n",
              "2020-04-24     39254    454919  ...            1885.0                   12076.0\n",
              "\n",
              "[5 rows x 20 columns]"
            ]
          },
          "metadata": {
            "tags": []
          },
          "execution_count": 51
        }
      ]
    },
    {
      "cell_type": "code",
      "metadata": {
        "id": "916a0sCVdNRQ",
        "colab_type": "code",
        "colab": {
          "base_uri": "https://localhost:8080/",
          "height": 302
        },
        "outputId": "68e67977-7117-4d60-e8d8-05d5b1151041"
      },
      "source": [
        "x=gbUSA.sum().loc[:, ['positive', 'negative','death','total']].plot.line()"
      ],
      "execution_count": 52,
      "outputs": [
        {
          "output_type": "display_data",
          "data": {
            "image/png": "[encoded data removed]",
            "text/plain": [
              "<Figure size 432x288 with 1 Axes>"
            ]
          },
          "metadata": {
            "tags": [],
            "needs_background": "light"
          }
        }
      ]
    },
    {
      "cell_type": "code",
      "metadata": {
        "id": "WewkySHXaLc4",
        "colab_type": "code",
        "colab": {
          "base_uri": "https://localhost:8080/",
          "height": 498
        },
        "outputId": "3726b0bd-dd45-476b-e19f-aee1ea8c0106"
      },
      "source": [
        "dfWHO[-14:]"
      ],
      "execution_count": 53,
      "outputs": [
        {
          "output_type": "execute_result",
          "data": {
            "text/html": [
              "<div>\n",
              "<style scoped>\n",
              "    .dataframe tbody tr th:only-of-type {\n",
              "        vertical-align: middle;\n",
              "    }\n",
              "\n",
              "    .dataframe tbody tr th {\n",
              "        vertical-align: top;\n",
              "    }\n",
              "\n",
              "    .dataframe thead th {\n",
              "        text-align: right;\n",
              "    }\n",
              "</style>\n",
              "<table border=\"1\" class=\"dataframe\">\n",
              "  <thead>\n",
              "    <tr style=\"text-align: right;\">\n",
              "      <th></th>\n",
              "      <th>confirmed</th>\n",
              "      <th>who_deaths</th>\n",
              "    </tr>\n",
              "    <tr>\n",
              "      <th>date</th>\n",
              "      <th></th>\n",
              "      <th></th>\n",
              "    </tr>\n",
              "  </thead>\n",
              "  <tbody>\n",
              "    <tr>\n",
              "      <th>2020-04-11</th>\n",
              "      <td>461275</td>\n",
              "      <td>16596</td>\n",
              "    </tr>\n",
              "    <tr>\n",
              "      <th>2020-04-12</th>\n",
              "      <td>492881</td>\n",
              "      <td>18516</td>\n",
              "    </tr>\n",
              "    <tr>\n",
              "      <th>2020-04-13</th>\n",
              "      <td>524514</td>\n",
              "      <td>20444</td>\n",
              "    </tr>\n",
              "    <tr>\n",
              "      <th>2020-04-14</th>\n",
              "      <td>553822</td>\n",
              "      <td>21972</td>\n",
              "    </tr>\n",
              "    <tr>\n",
              "      <th>2020-04-15</th>\n",
              "      <td>578268</td>\n",
              "      <td>23476</td>\n",
              "    </tr>\n",
              "    <tr>\n",
              "      <th>2020-04-16</th>\n",
              "      <td>604070</td>\n",
              "      <td>25871</td>\n",
              "    </tr>\n",
              "    <tr>\n",
              "      <th>2020-04-17</th>\n",
              "      <td>632781</td>\n",
              "      <td>28221</td>\n",
              "    </tr>\n",
              "    <tr>\n",
              "      <th>2020-04-18</th>\n",
              "      <td>665330</td>\n",
              "      <td>30384</td>\n",
              "    </tr>\n",
              "    <tr>\n",
              "      <th>2020-04-19</th>\n",
              "      <td>695353</td>\n",
              "      <td>32427</td>\n",
              "    </tr>\n",
              "    <tr>\n",
              "      <th>2020-04-20</th>\n",
              "      <td>723605</td>\n",
              "      <td>34203</td>\n",
              "    </tr>\n",
              "    <tr>\n",
              "      <th>2020-04-21</th>\n",
              "      <td>751273</td>\n",
              "      <td>35884</td>\n",
              "    </tr>\n",
              "    <tr>\n",
              "      <th>2020-04-22</th>\n",
              "      <td>776907</td>\n",
              "      <td>37602</td>\n",
              "    </tr>\n",
              "    <tr>\n",
              "      <th>2020-04-23</th>\n",
              "      <td>800926</td>\n",
              "      <td>40073</td>\n",
              "    </tr>\n",
              "    <tr>\n",
              "      <th>2020-04-24</th>\n",
              "      <td>830053</td>\n",
              "      <td>42311</td>\n",
              "    </tr>\n",
              "  </tbody>\n",
              "</table>\n",
              "</div>"
            ],
            "text/plain": [
              "            confirmed  who_deaths\n",
              "date                             \n",
              "2020-04-11     461275       16596\n",
              "2020-04-12     492881       18516\n",
              "2020-04-13     524514       20444\n",
              "2020-04-14     553822       21972\n",
              "2020-04-15     578268       23476\n",
              "2020-04-16     604070       25871\n",
              "2020-04-17     632781       28221\n",
              "2020-04-18     665330       30384\n",
              "2020-04-19     695353       32427\n",
              "2020-04-20     723605       34203\n",
              "2020-04-21     751273       35884\n",
              "2020-04-22     776907       37602\n",
              "2020-04-23     800926       40073\n",
              "2020-04-24     830053       42311"
            ]
          },
          "metadata": {
            "tags": []
          },
          "execution_count": 53
        }
      ]
    },
    {
      "cell_type": "code",
      "metadata": {
        "id": "Ftv2uSph2y7_",
        "colab_type": "code",
        "colab": {
          "base_uri": "https://localhost:8080/",
          "height": 309
        },
        "outputId": "088adc18-8413-456f-a58e-42784eade3fa"
      },
      "source": [
        "dfResults = gbUSA.sum().join(dfWHO, how='left', rsuffix='_who' )\n",
        "dfResults.loc[:, ['positive', 'confirmed']].plot.line()"
      ],
      "execution_count": 54,
      "outputs": [
        {
          "output_type": "execute_result",
          "data": {
            "text/plain": [
              "<matplotlib.axes._subplots.AxesSubplot at 0x7f5e78a782e8>"
            ]
          },
          "metadata": {
            "tags": []
          },
          "execution_count": 54
        },
        {
          "output_type": "display_data",
          "data": {
            "image/png": "[encoded data removed]",
            "text/plain": [
              "<Figure size 432x288 with 1 Axes>"
            ]
          },
          "metadata": {
            "tags": [],
            "needs_background": "light"
          }
        }
      ]
    },
    {
      "cell_type": "code",
      "metadata": {
        "id": "DTXXmezEHYPV",
        "colab_type": "code",
        "colab": {}
      },
      "source": [
        ""
      ],
      "execution_count": 0,
      "outputs": []
    },
    {
      "cell_type": "code",
      "metadata": {
        "colab_type": "code",
        "id": "55lq16z8w_Ec",
        "colab": {
          "base_uri": "https://localhost:8080/",
          "height": 429
        },
        "outputId": "3835fdff-5fa5-4824-816a-f96f35622c5b"
      },
      "source": [
        "gbCA.sum()[-7:]"
      ],
      "execution_count": 55,
      "outputs": [
        {
          "output_type": "execute_result",
          "data": {
            "text/html": [
              "<div>\n",
              "<style scoped>\n",
              "    .dataframe tbody tr th:only-of-type {\n",
              "        vertical-align: middle;\n",
              "    }\n",
              "\n",
              "    .dataframe tbody tr th {\n",
              "        vertical-align: top;\n",
              "    }\n",
              "\n",
              "    .dataframe thead th {\n",
              "        text-align: right;\n",
              "    }\n",
              "</style>\n",
              "<table border=\"1\" class=\"dataframe\">\n",
              "  <thead>\n",
              "    <tr style=\"text-align: right;\">\n",
              "      <th></th>\n",
              "      <th>positive</th>\n",
              "      <th>negative</th>\n",
              "      <th>pending</th>\n",
              "      <th>hospitalizedCurrently</th>\n",
              "      <th>hospitalizedCumulative</th>\n",
              "      <th>inIcuCurrently</th>\n",
              "      <th>inIcuCumulative</th>\n",
              "      <th>onVentilatorCurrently</th>\n",
              "      <th>onVentilatorCumulative</th>\n",
              "      <th>recovered</th>\n",
              "      <th>death</th>\n",
              "      <th>hospitalized</th>\n",
              "      <th>total</th>\n",
              "      <th>totalTestResults</th>\n",
              "      <th>posNeg</th>\n",
              "      <th>deathIncrease</th>\n",
              "      <th>hospitalizedIncrease</th>\n",
              "      <th>negativeIncrease</th>\n",
              "      <th>positiveIncrease</th>\n",
              "      <th>totalTestResultsIncrease</th>\n",
              "    </tr>\n",
              "    <tr>\n",
              "      <th>date</th>\n",
              "      <th></th>\n",
              "      <th></th>\n",
              "      <th></th>\n",
              "      <th></th>\n",
              "      <th></th>\n",
              "      <th></th>\n",
              "      <th></th>\n",
              "      <th></th>\n",
              "      <th></th>\n",
              "      <th></th>\n",
              "      <th></th>\n",
              "      <th></th>\n",
              "      <th></th>\n",
              "      <th></th>\n",
              "      <th></th>\n",
              "      <th></th>\n",
              "      <th></th>\n",
              "      <th></th>\n",
              "      <th></th>\n",
              "      <th></th>\n",
              "    </tr>\n",
              "  </thead>\n",
              "  <tbody>\n",
              "    <tr>\n",
              "      <th>2020-04-18</th>\n",
              "      <td>28963</td>\n",
              "      <td>230703</td>\n",
              "      <td>7200</td>\n",
              "      <td>4936.0</td>\n",
              "      <td>0.0</td>\n",
              "      <td>1490.0</td>\n",
              "      <td>0.0</td>\n",
              "      <td>0.0</td>\n",
              "      <td>0.0</td>\n",
              "      <td>0.0</td>\n",
              "      <td>1072</td>\n",
              "      <td>0.0</td>\n",
              "      <td>266866</td>\n",
              "      <td>259666.0</td>\n",
              "      <td>259666.0</td>\n",
              "      <td>87.0</td>\n",
              "      <td>0.0</td>\n",
              "      <td>6617.0</td>\n",
              "      <td>1435.0</td>\n",
              "      <td>8052.0</td>\n",
              "    </tr>\n",
              "    <tr>\n",
              "      <th>2020-04-19</th>\n",
              "      <td>30333</td>\n",
              "      <td>250567</td>\n",
              "      <td>7200</td>\n",
              "      <td>4731.0</td>\n",
              "      <td>0.0</td>\n",
              "      <td>1457.0</td>\n",
              "      <td>0.0</td>\n",
              "      <td>0.0</td>\n",
              "      <td>0.0</td>\n",
              "      <td>0.0</td>\n",
              "      <td>1166</td>\n",
              "      <td>0.0</td>\n",
              "      <td>288100</td>\n",
              "      <td>280900.0</td>\n",
              "      <td>280900.0</td>\n",
              "      <td>94.0</td>\n",
              "      <td>0.0</td>\n",
              "      <td>19864.0</td>\n",
              "      <td>1370.0</td>\n",
              "      <td>21234.0</td>\n",
              "    </tr>\n",
              "    <tr>\n",
              "      <th>2020-04-20</th>\n",
              "      <td>30978</td>\n",
              "      <td>259522</td>\n",
              "      <td>0</td>\n",
              "      <td>4674.0</td>\n",
              "      <td>0.0</td>\n",
              "      <td>1480.0</td>\n",
              "      <td>0.0</td>\n",
              "      <td>0.0</td>\n",
              "      <td>0.0</td>\n",
              "      <td>0.0</td>\n",
              "      <td>1208</td>\n",
              "      <td>0.0</td>\n",
              "      <td>290500</td>\n",
              "      <td>290500.0</td>\n",
              "      <td>290500.0</td>\n",
              "      <td>42.0</td>\n",
              "      <td>0.0</td>\n",
              "      <td>8955.0</td>\n",
              "      <td>645.0</td>\n",
              "      <td>9600.0</td>\n",
              "    </tr>\n",
              "    <tr>\n",
              "      <th>2020-04-21</th>\n",
              "      <td>33261</td>\n",
              "      <td>266839</td>\n",
              "      <td>0</td>\n",
              "      <td>4886.0</td>\n",
              "      <td>0.0</td>\n",
              "      <td>1502.0</td>\n",
              "      <td>0.0</td>\n",
              "      <td>0.0</td>\n",
              "      <td>0.0</td>\n",
              "      <td>0.0</td>\n",
              "      <td>1268</td>\n",
              "      <td>0.0</td>\n",
              "      <td>300100</td>\n",
              "      <td>300100.0</td>\n",
              "      <td>300100.0</td>\n",
              "      <td>60.0</td>\n",
              "      <td>0.0</td>\n",
              "      <td>7317.0</td>\n",
              "      <td>2283.0</td>\n",
              "      <td>9600.0</td>\n",
              "    </tr>\n",
              "    <tr>\n",
              "      <th>2020-04-22</th>\n",
              "      <td>35396</td>\n",
              "      <td>429931</td>\n",
              "      <td>0</td>\n",
              "      <td>4984.0</td>\n",
              "      <td>0.0</td>\n",
              "      <td>1551.0</td>\n",
              "      <td>0.0</td>\n",
              "      <td>0.0</td>\n",
              "      <td>0.0</td>\n",
              "      <td>0.0</td>\n",
              "      <td>1354</td>\n",
              "      <td>0.0</td>\n",
              "      <td>465327</td>\n",
              "      <td>465327.0</td>\n",
              "      <td>465327.0</td>\n",
              "      <td>86.0</td>\n",
              "      <td>0.0</td>\n",
              "      <td>163092.0</td>\n",
              "      <td>2135.0</td>\n",
              "      <td>165227.0</td>\n",
              "    </tr>\n",
              "    <tr>\n",
              "      <th>2020-04-23</th>\n",
              "      <td>37369</td>\n",
              "      <td>444728</td>\n",
              "      <td>0</td>\n",
              "      <td>4929.0</td>\n",
              "      <td>0.0</td>\n",
              "      <td>1531.0</td>\n",
              "      <td>0.0</td>\n",
              "      <td>0.0</td>\n",
              "      <td>0.0</td>\n",
              "      <td>0.0</td>\n",
              "      <td>1469</td>\n",
              "      <td>0.0</td>\n",
              "      <td>482097</td>\n",
              "      <td>482097.0</td>\n",
              "      <td>482097.0</td>\n",
              "      <td>115.0</td>\n",
              "      <td>0.0</td>\n",
              "      <td>14797.0</td>\n",
              "      <td>1973.0</td>\n",
              "      <td>16770.0</td>\n",
              "    </tr>\n",
              "    <tr>\n",
              "      <th>2020-04-24</th>\n",
              "      <td>39254</td>\n",
              "      <td>454919</td>\n",
              "      <td>0</td>\n",
              "      <td>4880.0</td>\n",
              "      <td>0.0</td>\n",
              "      <td>1521.0</td>\n",
              "      <td>0.0</td>\n",
              "      <td>0.0</td>\n",
              "      <td>0.0</td>\n",
              "      <td>0.0</td>\n",
              "      <td>1562</td>\n",
              "      <td>0.0</td>\n",
              "      <td>494173</td>\n",
              "      <td>494173.0</td>\n",
              "      <td>494173.0</td>\n",
              "      <td>93.0</td>\n",
              "      <td>0.0</td>\n",
              "      <td>10191.0</td>\n",
              "      <td>1885.0</td>\n",
              "      <td>12076.0</td>\n",
              "    </tr>\n",
              "  </tbody>\n",
              "</table>\n",
              "</div>"
            ],
            "text/plain": [
              "            positive  negative  ...  positiveIncrease  totalTestResultsIncrease\n",
              "date                            ...                                            \n",
              "2020-04-18     28963    230703  ...            1435.0                    8052.0\n",
              "2020-04-19     30333    250567  ...            1370.0                   21234.0\n",
              "2020-04-20     30978    259522  ...             645.0                    9600.0\n",
              "2020-04-21     33261    266839  ...            2283.0                    9600.0\n",
              "2020-04-22     35396    429931  ...            2135.0                  165227.0\n",
              "2020-04-23     37369    444728  ...            1973.0                   16770.0\n",
              "2020-04-24     39254    454919  ...            1885.0                   12076.0\n",
              "\n",
              "[7 rows x 20 columns]"
            ]
          },
          "metadata": {
            "tags": []
          },
          "execution_count": 55
        }
      ]
    },
    {
      "cell_type": "code",
      "metadata": {
        "id": "3WBkdfv2eLEc",
        "colab_type": "code",
        "colab": {
          "base_uri": "https://localhost:8080/",
          "height": 72
        },
        "outputId": "5a0640e1-1bdd-46f7-9b6d-54e0a5624268"
      },
      "source": [
        "dfJHUData[dfJHUData.country=='US'][['confirmed', 'dead']].sum()"
      ],
      "execution_count": 56,
      "outputs": [
        {
          "output_type": "execute_result",
          "data": {
            "text/plain": [
              "confirmed    905333\n",
              "dead          51949\n",
              "dtype: int64"
            ]
          },
          "metadata": {
            "tags": []
          },
          "execution_count": 56
        }
      ]
    },
    {
      "cell_type": "code",
      "metadata": {
        "id": "NUQ35Inse05H",
        "colab_type": "code",
        "colab": {
          "base_uri": "https://localhost:8080/",
          "height": 72
        },
        "outputId": "3394cac7-321b-40c9-fe96-397c6cd261a1"
      },
      "source": [
        "dfJHUData[(dfJHUData.country=='US')&(dfJHUData.state=='California')][['confirmed', 'dead']].sum()"
      ],
      "execution_count": 57,
      "outputs": [
        {
          "output_type": "execute_result",
          "data": {
            "text/plain": [
              "confirmed    41355\n",
              "dead          1621\n",
              "dtype: int64"
            ]
          },
          "metadata": {
            "tags": []
          },
          "execution_count": 57
        }
      ]
    },
    {
      "cell_type": "code",
      "metadata": {
        "id": "H0JVVTFGfMOW",
        "colab_type": "code",
        "colab": {}
      },
      "source": [
        "dfJHUUS = dfJHUData[dfJHUData.country=='US']\n",
        "gbJHUByState= dfJHUUS.groupby(by='state')\n",
        "gbJHUByCountry = dfJHUData.groupby(by='country')"
      ],
      "execution_count": 0,
      "outputs": []
    },
    {
      "cell_type": "code",
      "metadata": {
        "id": "W8qWd0AYmg58",
        "colab_type": "code",
        "colab": {
          "base_uri": "https://localhost:8080/",
          "height": 235
        },
        "outputId": "0709f289-d7e2-44cf-c6ba-b6c32e456d0b"
      },
      "source": [
        "gbJHUByCountry.confirmed.sum().sort_values(ascending=False).head(10)"
      ],
      "execution_count": 59,
      "outputs": [
        {
          "output_type": "execute_result",
          "data": {
            "text/plain": [
              "country\n",
              "US                905333\n",
              "Spain             219764\n",
              "Italy             192994\n",
              "France            159952\n",
              "Germany           154999\n",
              "United Kingdom    144640\n",
              "Turkey            104912\n",
              "Iran               88194\n",
              "China              83899\n",
              "Russia             68622\n",
              "Name: confirmed, dtype: int64"
            ]
          },
          "metadata": {
            "tags": []
          },
          "execution_count": 59
        }
      ]
    },
    {
      "cell_type": "code",
      "metadata": {
        "id": "9crIlvPH4oSU",
        "colab_type": "code",
        "colab": {}
      },
      "source": [
        "dfData = dfCovidtracking.groupby('date')"
      ],
      "execution_count": 0,
      "outputs": []
    },
    {
      "cell_type": "code",
      "metadata": {
        "id": "SjlCtiOt2b__",
        "colab_type": "code",
        "colab": {}
      },
      "source": [
        "dfStateTotal = dfCovidtracking[['state', 'positive']].groupby(by='state').max() \\\n",
        ".rename(columns={'positive':'current_total'})\n"
      ],
      "execution_count": 0,
      "outputs": []
    },
    {
      "cell_type": "code",
      "metadata": {
        "id": "iPsfvvHC2_j1",
        "colab_type": "code",
        "colab": {}
      },
      "source": [
        "dfState = dfCovidtracking[['date','state','positive', 'death']].set_index('state') \\\n",
        "  .join(dfStateTotal)"
      ],
      "execution_count": 0,
      "outputs": []
    },
    {
      "cell_type": "code",
      "metadata": {
        "id": "AkxH55Mx5yE6",
        "colab_type": "code",
        "colab": {}
      },
      "source": [
        "dfState['pct']=dfState.positive/dfState.current_total"
      ],
      "execution_count": 0,
      "outputs": []
    },
    {
      "cell_type": "code",
      "metadata": {
        "id": "PKQ2rgz76XZR",
        "colab_type": "code",
        "colab": {
          "base_uri": "https://localhost:8080/",
          "height": 288
        },
        "outputId": "8acddfd4-170c-45b5-c838-bd7f36f4b568"
      },
      "source": [
        "dfState.loc['FL'].head(7)"
      ],
      "execution_count": 64,
      "outputs": [
        {
          "output_type": "execute_result",
          "data": {
            "text/html": [
              "<div>\n",
              "<style scoped>\n",
              "    .dataframe tbody tr th:only-of-type {\n",
              "        vertical-align: middle;\n",
              "    }\n",
              "\n",
              "    .dataframe tbody tr th {\n",
              "        vertical-align: top;\n",
              "    }\n",
              "\n",
              "    .dataframe thead th {\n",
              "        text-align: right;\n",
              "    }\n",
              "</style>\n",
              "<table border=\"1\" class=\"dataframe\">\n",
              "  <thead>\n",
              "    <tr style=\"text-align: right;\">\n",
              "      <th></th>\n",
              "      <th>date</th>\n",
              "      <th>positive</th>\n",
              "      <th>death</th>\n",
              "      <th>current_total</th>\n",
              "      <th>pct</th>\n",
              "    </tr>\n",
              "    <tr>\n",
              "      <th>state</th>\n",
              "      <th></th>\n",
              "      <th></th>\n",
              "      <th></th>\n",
              "      <th></th>\n",
              "      <th></th>\n",
              "    </tr>\n",
              "  </thead>\n",
              "  <tbody>\n",
              "    <tr>\n",
              "      <th>FL</th>\n",
              "      <td>2020-04-24</td>\n",
              "      <td>30174</td>\n",
              "      <td>1031</td>\n",
              "      <td>30174</td>\n",
              "      <td>1.000000</td>\n",
              "    </tr>\n",
              "    <tr>\n",
              "      <th>FL</th>\n",
              "      <td>2020-04-23</td>\n",
              "      <td>28832</td>\n",
              "      <td>979</td>\n",
              "      <td>30174</td>\n",
              "      <td>0.955525</td>\n",
              "    </tr>\n",
              "    <tr>\n",
              "      <th>FL</th>\n",
              "      <td>2020-04-22</td>\n",
              "      <td>28309</td>\n",
              "      <td>910</td>\n",
              "      <td>30174</td>\n",
              "      <td>0.938192</td>\n",
              "    </tr>\n",
              "    <tr>\n",
              "      <th>FL</th>\n",
              "      <td>2020-04-21</td>\n",
              "      <td>27495</td>\n",
              "      <td>856</td>\n",
              "      <td>30174</td>\n",
              "      <td>0.911215</td>\n",
              "    </tr>\n",
              "    <tr>\n",
              "      <th>FL</th>\n",
              "      <td>2020-04-20</td>\n",
              "      <td>26660</td>\n",
              "      <td>806</td>\n",
              "      <td>30174</td>\n",
              "      <td>0.883542</td>\n",
              "    </tr>\n",
              "    <tr>\n",
              "      <th>FL</th>\n",
              "      <td>2020-04-19</td>\n",
              "      <td>25996</td>\n",
              "      <td>781</td>\n",
              "      <td>30174</td>\n",
              "      <td>0.861536</td>\n",
              "    </tr>\n",
              "    <tr>\n",
              "      <th>FL</th>\n",
              "      <td>2020-04-18</td>\n",
              "      <td>25269</td>\n",
              "      <td>754</td>\n",
              "      <td>30174</td>\n",
              "      <td>0.837443</td>\n",
              "    </tr>\n",
              "  </tbody>\n",
              "</table>\n",
              "</div>"
            ],
            "text/plain": [
              "            date  positive  death  current_total       pct\n",
              "state                                                     \n",
              "FL    2020-04-24     30174   1031          30174  1.000000\n",
              "FL    2020-04-23     28832    979          30174  0.955525\n",
              "FL    2020-04-22     28309    910          30174  0.938192\n",
              "FL    2020-04-21     27495    856          30174  0.911215\n",
              "FL    2020-04-20     26660    806          30174  0.883542\n",
              "FL    2020-04-19     25996    781          30174  0.861536\n",
              "FL    2020-04-18     25269    754          30174  0.837443"
            ]
          },
          "metadata": {
            "tags": []
          },
          "execution_count": 64
        }
      ]
    },
    {
      "cell_type": "code",
      "metadata": {
        "id": "dkgVF6Q19glV",
        "colab_type": "code",
        "colab": {}
      },
      "source": [
        "res = dfState.reset_index().pivot(index = 'date', columns='state', values='pct').fillna(0)"
      ],
      "execution_count": 0,
      "outputs": []
    },
    {
      "cell_type": "code",
      "metadata": {
        "id": "w1ml4KC6BF7q",
        "colab_type": "code",
        "colab": {
          "base_uri": "https://localhost:8080/",
          "height": 291
        },
        "outputId": "860dbb5f-388d-4b14-d2d3-4b888e41195a"
      },
      "source": [
        "x = res.loc[:, ['CA','FL']].plot.line()"
      ],
      "execution_count": 66,
      "outputs": [
        {
          "output_type": "display_data",
          "data": {
            "image/png": "[encoded data removed]",
            "text/plain": [
              "<Figure size 432x288 with 1 Axes>"
            ]
          },
          "metadata": {
            "tags": [],
            "needs_background": "light"
          }
        }
      ]
    },
    {
      "cell_type": "code",
      "metadata": {
        "id": "eaLSwLbuBLY0",
        "colab_type": "code",
        "colab": {}
      },
      "source": [
        "dfNYTesting = dfCovidtracking.loc[dfCovidtracking.state=='NY', ['date', 'negative']].set_index('date')"
      ],
      "execution_count": 0,
      "outputs": []
    },
    {
      "cell_type": "code",
      "metadata": {
        "id": "vhL4WBWECIhP",
        "colab_type": "code",
        "colab": {
          "base_uri": "https://localhost:8080/",
          "height": 314
        },
        "outputId": "2dbabcfb-7806-4469-e1a5-77629e9b00a7"
      },
      "source": [
        "x = dfNYTesting.plot.line()"
      ],
      "execution_count": 68,
      "outputs": [
        {
          "output_type": "display_data",
          "data": {
            "image/png": "[encoded data removed]",
            "text/plain": [
              "<Figure size 432x288 with 1 Axes>"
            ]
          },
          "metadata": {
            "tags": [],
            "needs_background": "light"
          }
        }
      ]
    },
    {
      "cell_type": "code",
      "metadata": {
        "id": "c4uuFBTquS3o",
        "colab_type": "code",
        "colab": {
          "base_uri": "https://localhost:8080/",
          "height": 348
        },
        "outputId": "ae1f1b15-c6e9-49e4-d782-3693b47fd50d"
      },
      "source": [
        "dfDates = dfState.reset_index().copy()\n",
        "dfDates[(dfDates.state.isin(['FL']))].head(10)"
      ],
      "execution_count": 69,
      "outputs": [
        {
          "output_type": "execute_result",
          "data": {
            "text/html": [
              "<div>\n",
              "<style scoped>\n",
              "    .dataframe tbody tr th:only-of-type {\n",
              "        vertical-align: middle;\n",
              "    }\n",
              "\n",
              "    .dataframe tbody tr th {\n",
              "        vertical-align: top;\n",
              "    }\n",
              "\n",
              "    .dataframe thead th {\n",
              "        text-align: right;\n",
              "    }\n",
              "</style>\n",
              "<table border=\"1\" class=\"dataframe\">\n",
              "  <thead>\n",
              "    <tr style=\"text-align: right;\">\n",
              "      <th></th>\n",
              "      <th>state</th>\n",
              "      <th>date</th>\n",
              "      <th>positive</th>\n",
              "      <th>death</th>\n",
              "      <th>current_total</th>\n",
              "      <th>pct</th>\n",
              "    </tr>\n",
              "  </thead>\n",
              "  <tbody>\n",
              "    <tr>\n",
              "      <th>494</th>\n",
              "      <td>FL</td>\n",
              "      <td>2020-04-24</td>\n",
              "      <td>30174</td>\n",
              "      <td>1031</td>\n",
              "      <td>30174</td>\n",
              "      <td>1.000000</td>\n",
              "    </tr>\n",
              "    <tr>\n",
              "      <th>495</th>\n",
              "      <td>FL</td>\n",
              "      <td>2020-04-23</td>\n",
              "      <td>28832</td>\n",
              "      <td>979</td>\n",
              "      <td>30174</td>\n",
              "      <td>0.955525</td>\n",
              "    </tr>\n",
              "    <tr>\n",
              "      <th>496</th>\n",
              "      <td>FL</td>\n",
              "      <td>2020-04-22</td>\n",
              "      <td>28309</td>\n",
              "      <td>910</td>\n",
              "      <td>30174</td>\n",
              "      <td>0.938192</td>\n",
              "    </tr>\n",
              "    <tr>\n",
              "      <th>497</th>\n",
              "      <td>FL</td>\n",
              "      <td>2020-04-21</td>\n",
              "      <td>27495</td>\n",
              "      <td>856</td>\n",
              "      <td>30174</td>\n",
              "      <td>0.911215</td>\n",
              "    </tr>\n",
              "    <tr>\n",
              "      <th>498</th>\n",
              "      <td>FL</td>\n",
              "      <td>2020-04-20</td>\n",
              "      <td>26660</td>\n",
              "      <td>806</td>\n",
              "      <td>30174</td>\n",
              "      <td>0.883542</td>\n",
              "    </tr>\n",
              "    <tr>\n",
              "      <th>499</th>\n",
              "      <td>FL</td>\n",
              "      <td>2020-04-19</td>\n",
              "      <td>25996</td>\n",
              "      <td>781</td>\n",
              "      <td>30174</td>\n",
              "      <td>0.861536</td>\n",
              "    </tr>\n",
              "    <tr>\n",
              "      <th>500</th>\n",
              "      <td>FL</td>\n",
              "      <td>2020-04-18</td>\n",
              "      <td>25269</td>\n",
              "      <td>754</td>\n",
              "      <td>30174</td>\n",
              "      <td>0.837443</td>\n",
              "    </tr>\n",
              "    <tr>\n",
              "      <th>501</th>\n",
              "      <td>FL</td>\n",
              "      <td>2020-04-17</td>\n",
              "      <td>24119</td>\n",
              "      <td>699</td>\n",
              "      <td>30174</td>\n",
              "      <td>0.799331</td>\n",
              "    </tr>\n",
              "    <tr>\n",
              "      <th>502</th>\n",
              "      <td>FL</td>\n",
              "      <td>2020-04-16</td>\n",
              "      <td>22897</td>\n",
              "      <td>646</td>\n",
              "      <td>30174</td>\n",
              "      <td>0.758832</td>\n",
              "    </tr>\n",
              "    <tr>\n",
              "      <th>503</th>\n",
              "      <td>FL</td>\n",
              "      <td>2020-04-15</td>\n",
              "      <td>22511</td>\n",
              "      <td>609</td>\n",
              "      <td>30174</td>\n",
              "      <td>0.746040</td>\n",
              "    </tr>\n",
              "  </tbody>\n",
              "</table>\n",
              "</div>"
            ],
            "text/plain": [
              "    state       date  positive  death  current_total       pct\n",
              "494    FL 2020-04-24     30174   1031          30174  1.000000\n",
              "495    FL 2020-04-23     28832    979          30174  0.955525\n",
              "496    FL 2020-04-22     28309    910          30174  0.938192\n",
              "497    FL 2020-04-21     27495    856          30174  0.911215\n",
              "498    FL 2020-04-20     26660    806          30174  0.883542\n",
              "499    FL 2020-04-19     25996    781          30174  0.861536\n",
              "500    FL 2020-04-18     25269    754          30174  0.837443\n",
              "501    FL 2020-04-17     24119    699          30174  0.799331\n",
              "502    FL 2020-04-16     22897    646          30174  0.758832\n",
              "503    FL 2020-04-15     22511    609          30174  0.746040"
            ]
          },
          "metadata": {
            "tags": []
          },
          "execution_count": 69
        }
      ]
    },
    {
      "cell_type": "code",
      "metadata": {
        "id": "Puz0PBzemMD3",
        "colab_type": "code",
        "colab": {
          "base_uri": "https://localhost:8080/",
          "height": 48
        },
        "outputId": "cb976482-51e7-41de-c0f4-0edfd7bf5345"
      },
      "source": [
        "datecutoff = dfDates.date.max()-datetime.timedelta(days=3)\n",
        "dfDates[(dfDates.date == datecutoff) & (dfDates.pct < .7)].sort_values(by='pct')\n"
      ],
      "execution_count": 70,
      "outputs": [
        {
          "output_type": "execute_result",
          "data": {
            "text/html": [
              "<div>\n",
              "<style scoped>\n",
              "    .dataframe tbody tr th:only-of-type {\n",
              "        vertical-align: middle;\n",
              "    }\n",
              "\n",
              "    .dataframe tbody tr th {\n",
              "        vertical-align: top;\n",
              "    }\n",
              "\n",
              "    .dataframe thead th {\n",
              "        text-align: right;\n",
              "    }\n",
              "</style>\n",
              "<table border=\"1\" class=\"dataframe\">\n",
              "  <thead>\n",
              "    <tr style=\"text-align: right;\">\n",
              "      <th></th>\n",
              "      <th>state</th>\n",
              "      <th>date</th>\n",
              "      <th>positive</th>\n",
              "      <th>death</th>\n",
              "      <th>current_total</th>\n",
              "      <th>pct</th>\n",
              "    </tr>\n",
              "  </thead>\n",
              "  <tbody>\n",
              "  </tbody>\n",
              "</table>\n",
              "</div>"
            ],
            "text/plain": [
              "Empty DataFrame\n",
              "Columns: [state, date, positive, death, current_total, pct]\n",
              "Index: []"
            ]
          },
          "metadata": {
            "tags": []
          },
          "execution_count": 70
        }
      ]
    },
    {
      "cell_type": "code",
      "metadata": {
        "id": "ZmaKzaBnGQwj",
        "colab_type": "code",
        "colab": {
          "base_uri": "https://localhost:8080/",
          "height": 360
        },
        "outputId": "48f935ff-7d78-43f4-b76e-f40318526c4f"
      },
      "source": [
        "state = 'CA'\n",
        "dfState = dfCovidtracking[dfCovidtracking.state==state].sort_values(by='date')\n",
        "vals = dfState.positive.values\n",
        "\n",
        "x=pd.Series([y-x for x,y in zip(vals,vals[1:])], \\\n",
        "          index = dfCovidtracking[dfCovidtracking.state==state]\\\n",
        "          .sort_values(by='date').date.values[1:] ) \\\n",
        "          .plot.bar()\n",
        "\n"
      ],
      "execution_count": 71,
      "outputs": [
        {
          "output_type": "display_data",
          "data": {
            "image/png": "[encoded data removed]",
            "text/plain": [
              "<Figure size 432x288 with 1 Axes>"
            ]
          },
          "metadata": {
            "tags": [],
            "needs_background": "light"
          }
        }
      ]
    },
    {
      "cell_type": "markdown",
      "metadata": {
        "id": "xFA0q8At-4sZ",
        "colab_type": "text"
      },
      "source": [
        "# Added State Data"
      ]
    },
    {
      "cell_type": "code",
      "metadata": {
        "id": "Nlx8_xZ27kvp",
        "colab_type": "code",
        "colab": {}
      },
      "source": [
        "data_url = \"https://www2.census.gov/programs-surveys/popest/datasets/2010-2019/national/totals/nst-est2019-alldata.csv\"\n"
      ],
      "execution_count": 0,
      "outputs": []
    },
    {
      "cell_type": "code",
      "metadata": {
        "id": "Lwz6IJdX_WFx",
        "colab_type": "code",
        "colab": {}
      },
      "source": [
        "dfUSPop = pd.read_csv(data_url)"
      ],
      "execution_count": 0,
      "outputs": []
    },
    {
      "cell_type": "code",
      "metadata": {
        "id": "aU3ZzHS-AkRS",
        "colab_type": "code",
        "colab": {
          "base_uri": "https://localhost:8080/",
          "height": 181
        },
        "outputId": "e96e3fba-8039-47ba-81e2-b8a56eb40d4d"
      },
      "source": [
        "us_pop = dfUSPop.loc[0].POPESTIMATE2019 #Estimate from Wikipedia\n",
        "res = dfCovidtracking.loc[dfCovidtracking.date==dfCovidtracking.date.max(), ['positive', 'negative', 'pending','death', 'total']].sum()\n",
        "print(res)\n",
        "print(f\"Current Infection Rate {res.positive/res.total*100:2f}%\")\n",
        "print(f\"Percentage of US affected: {(res.positive+res.death)/us_pop*100:2f}%\")\n",
        "print(f\"Percentage of US tested/affected: {(res.negative+res.positive+res.death)/us_pop*100:2f}%\")"
      ],
      "execution_count": 74,
      "outputs": [
        {
          "output_type": "stream",
          "text": [
            "positive     890816\n",
            "negative    3992986\n",
            "pending        4396\n",
            "death         45786\n",
            "total       4888198\n",
            "dtype: int64\n",
            "Current Infection Rate 18.223812%\n",
            "Percentage of US affected: 0.285341%\n",
            "Percentage of US tested/affected: 1.501826%\n"
          ],
          "name": "stdout"
        }
      ]
    },
    {
      "cell_type": "code",
      "metadata": {
        "id": "vihKU2ItzKWi",
        "colab_type": "code",
        "colab": {}
      },
      "source": [
        "!if [ ! -d \"loc\" ]; then \\\n",
        "git clone https://gist.github.com/rogerallen/1583593 --depth=1 --quiet loc; \\\n",
        "fi\n",
        "import sys\n",
        "sys.path.append(\"loc\")\n",
        "\n",
        "\n"
      ],
      "execution_count": 0,
      "outputs": []
    },
    {
      "cell_type": "code",
      "metadata": {
        "id": "66JPa3Sv0uH1",
        "colab_type": "code",
        "colab": {}
      },
      "source": [
        "import us_state_abbrev as us_abbr\n"
      ],
      "execution_count": 0,
      "outputs": []
    },
    {
      "cell_type": "code",
      "metadata": {
        "id": "JYnrS2eV2ohs",
        "colab_type": "code",
        "colab": {}
      },
      "source": [
        "dfStatePop = dfUSPop[dfUSPop.STATE != 0].copy()"
      ],
      "execution_count": 0,
      "outputs": []
    },
    {
      "cell_type": "code",
      "metadata": {
        "id": "43XHoUsx4Px7",
        "colab_type": "code",
        "colab": {}
      },
      "source": [
        "dfStatePop['ABBR']=dfStatePop.NAME.apply(lambda x: us_abbr.us_state_abbrev[x])"
      ],
      "execution_count": 0,
      "outputs": []
    },
    {
      "cell_type": "code",
      "metadata": {
        "id": "d08OerM_4vBo",
        "colab_type": "code",
        "colab": {}
      },
      "source": [
        "dfStatePop = dfStatePop.loc[:, ['ABBR', 'POPESTIMATE2019']]\n",
        "dfStatePop.set_index('ABBR', inplace=True)"
      ],
      "execution_count": 0,
      "outputs": []
    },
    {
      "cell_type": "code",
      "metadata": {
        "id": "4puN3Aea5qwp",
        "colab_type": "code",
        "colab": {}
      },
      "source": [
        "dfStateCovid = dfCovidtracking.loc[dfCovidtracking.date==dfCovidtracking.date.max()].set_index('state')"
      ],
      "execution_count": 0,
      "outputs": []
    },
    {
      "cell_type": "code",
      "metadata": {
        "id": "R2rumgN265Zr",
        "colab_type": "code",
        "colab": {}
      },
      "source": [
        "dfStateJoin = dfStateCovid.join(dfStatePop)"
      ],
      "execution_count": 0,
      "outputs": []
    },
    {
      "cell_type": "code",
      "metadata": {
        "id": "pgD43HXE7ayl",
        "colab_type": "code",
        "colab": {
          "base_uri": "https://localhost:8080/",
          "height": 1000
        },
        "outputId": "230e50b4-7de1-49b2-e416-d3edba7dd5c0"
      },
      "source": [
        "pd.DataFrame([(dfStateJoin.positive / dfStateJoin.POPESTIMATE2019)*100, \\\n",
        "              (dfStateJoin.totalTestResults/ dfStateJoin.POPESTIMATE2019)*100],\\\n",
        "             index=['state_pos_pop','state_test_pop'] ).T.sort_values(by=\"state_pos_pop\", ascending=False)[:51]"
      ],
      "execution_count": 82,
      "outputs": [
        {
          "output_type": "execute_result",
          "data": {
            "text/html": [
              "<div>\n",
              "<style scoped>\n",
              "    .dataframe tbody tr th:only-of-type {\n",
              "        vertical-align: middle;\n",
              "    }\n",
              "\n",
              "    .dataframe tbody tr th {\n",
              "        vertical-align: top;\n",
              "    }\n",
              "\n",
              "    .dataframe thead th {\n",
              "        text-align: right;\n",
              "    }\n",
              "</style>\n",
              "<table border=\"1\" class=\"dataframe\">\n",
              "  <thead>\n",
              "    <tr style=\"text-align: right;\">\n",
              "      <th></th>\n",
              "      <th>state_pos_pop</th>\n",
              "      <th>state_test_pop</th>\n",
              "    </tr>\n",
              "    <tr>\n",
              "      <th>state</th>\n",
              "      <th></th>\n",
              "      <th></th>\n",
              "    </tr>\n",
              "  </thead>\n",
              "  <tbody>\n",
              "    <tr>\n",
              "      <th>NY</th>\n",
              "      <td>1.396094</td>\n",
              "      <td>3.755898</td>\n",
              "    </tr>\n",
              "    <tr>\n",
              "      <th>NJ</th>\n",
              "      <td>1.150572</td>\n",
              "      <td>2.318820</td>\n",
              "    </tr>\n",
              "    <tr>\n",
              "      <th>CT</th>\n",
              "      <td>0.670942</td>\n",
              "      <td>2.076635</td>\n",
              "    </tr>\n",
              "    <tr>\n",
              "      <th>MA</th>\n",
              "      <td>0.667725</td>\n",
              "      <td>2.830264</td>\n",
              "    </tr>\n",
              "    <tr>\n",
              "      <th>RI</th>\n",
              "      <td>0.632362</td>\n",
              "      <td>4.460897</td>\n",
              "    </tr>\n",
              "    <tr>\n",
              "      <th>LA</th>\n",
              "      <td>0.562296</td>\n",
              "      <td>3.091468</td>\n",
              "    </tr>\n",
              "    <tr>\n",
              "      <th>DC</th>\n",
              "      <td>0.499894</td>\n",
              "      <td>2.342618</td>\n",
              "    </tr>\n",
              "    <tr>\n",
              "      <th>MI</th>\n",
              "      <td>0.366892</td>\n",
              "      <td>1.364754</td>\n",
              "    </tr>\n",
              "    <tr>\n",
              "      <th>DE</th>\n",
              "      <td>0.353474</td>\n",
              "      <td>1.784724</td>\n",
              "    </tr>\n",
              "    <tr>\n",
              "      <th>IL</th>\n",
              "      <td>0.312962</td>\n",
              "      <td>1.496486</td>\n",
              "    </tr>\n",
              "    <tr>\n",
              "      <th>PA</th>\n",
              "      <td>0.301922</td>\n",
              "      <td>1.454016</td>\n",
              "    </tr>\n",
              "    <tr>\n",
              "      <th>MD</th>\n",
              "      <td>0.274841</td>\n",
              "      <td>1.401265</td>\n",
              "    </tr>\n",
              "    <tr>\n",
              "      <th>SD</th>\n",
              "      <td>0.230597</td>\n",
              "      <td>1.675674</td>\n",
              "    </tr>\n",
              "    <tr>\n",
              "      <th>GA</th>\n",
              "      <td>0.208591</td>\n",
              "      <td>1.009435</td>\n",
              "    </tr>\n",
              "    <tr>\n",
              "      <th>IN</th>\n",
              "      <td>0.203202</td>\n",
              "      <td>1.122260</td>\n",
              "    </tr>\n",
              "    <tr>\n",
              "      <th>CO</th>\n",
              "      <td>0.195564</td>\n",
              "      <td>0.908602</td>\n",
              "    </tr>\n",
              "    <tr>\n",
              "      <th>MS</th>\n",
              "      <td>0.182585</td>\n",
              "      <td>1.870538</td>\n",
              "    </tr>\n",
              "    <tr>\n",
              "      <th>WA</th>\n",
              "      <td>0.167474</td>\n",
              "      <td>2.014158</td>\n",
              "    </tr>\n",
              "    <tr>\n",
              "      <th>NV</th>\n",
              "      <td>0.142785</td>\n",
              "      <td>1.175005</td>\n",
              "    </tr>\n",
              "    <tr>\n",
              "      <th>IA</th>\n",
              "      <td>0.140884</td>\n",
              "      <td>1.013385</td>\n",
              "    </tr>\n",
              "    <tr>\n",
              "      <th>FL</th>\n",
              "      <td>0.140490</td>\n",
              "      <td>1.475756</td>\n",
              "    </tr>\n",
              "    <tr>\n",
              "      <th>VT</th>\n",
              "      <td>0.132534</td>\n",
              "      <td>2.293310</td>\n",
              "    </tr>\n",
              "    <tr>\n",
              "      <th>VA</th>\n",
              "      <td>0.130853</td>\n",
              "      <td>0.808562</td>\n",
              "    </tr>\n",
              "    <tr>\n",
              "      <th>TN</th>\n",
              "      <td>0.127775</td>\n",
              "      <td>1.923044</td>\n",
              "    </tr>\n",
              "    <tr>\n",
              "      <th>OH</th>\n",
              "      <td>0.124740</td>\n",
              "      <td>0.916315</td>\n",
              "    </tr>\n",
              "    <tr>\n",
              "      <th>NH</th>\n",
              "      <td>0.122820</td>\n",
              "      <td>1.236219</td>\n",
              "    </tr>\n",
              "    <tr>\n",
              "      <th>AL</th>\n",
              "      <td>0.118943</td>\n",
              "      <td>1.074710</td>\n",
              "    </tr>\n",
              "    <tr>\n",
              "      <th>UT</th>\n",
              "      <td>0.117968</td>\n",
              "      <td>2.641862</td>\n",
              "    </tr>\n",
              "    <tr>\n",
              "      <th>NM</th>\n",
              "      <td>0.113457</td>\n",
              "      <td>2.220639</td>\n",
              "    </tr>\n",
              "    <tr>\n",
              "      <th>NE</th>\n",
              "      <td>0.109801</td>\n",
              "      <td>0.962155</td>\n",
              "    </tr>\n",
              "    <tr>\n",
              "      <th>MO</th>\n",
              "      <td>0.107944</td>\n",
              "      <td>1.062448</td>\n",
              "    </tr>\n",
              "    <tr>\n",
              "      <th>ID</th>\n",
              "      <td>0.102738</td>\n",
              "      <td>1.068288</td>\n",
              "    </tr>\n",
              "    <tr>\n",
              "      <th>CA</th>\n",
              "      <td>0.099346</td>\n",
              "      <td>1.250684</td>\n",
              "    </tr>\n",
              "    <tr>\n",
              "      <th>ND</th>\n",
              "      <td>0.098155</td>\n",
              "      <td>2.289709</td>\n",
              "    </tr>\n",
              "    <tr>\n",
              "      <th>SC</th>\n",
              "      <td>0.095500</td>\n",
              "      <td>0.863575</td>\n",
              "    </tr>\n",
              "    <tr>\n",
              "      <th>KS</th>\n",
              "      <td>0.095321</td>\n",
              "      <td>0.809662</td>\n",
              "    </tr>\n",
              "    <tr>\n",
              "      <th>WI</th>\n",
              "      <td>0.091989</td>\n",
              "      <td>1.029277</td>\n",
              "    </tr>\n",
              "    <tr>\n",
              "      <th>AR</th>\n",
              "      <td>0.090828</td>\n",
              "      <td>1.178937</td>\n",
              "    </tr>\n",
              "    <tr>\n",
              "      <th>AZ</th>\n",
              "      <td>0.083050</td>\n",
              "      <td>0.834131</td>\n",
              "    </tr>\n",
              "    <tr>\n",
              "      <th>OK</th>\n",
              "      <td>0.078873</td>\n",
              "      <td>1.166043</td>\n",
              "    </tr>\n",
              "    <tr>\n",
              "      <th>TX</th>\n",
              "      <td>0.078653</td>\n",
              "      <td>0.836488</td>\n",
              "    </tr>\n",
              "    <tr>\n",
              "      <th>KY</th>\n",
              "      <td>0.077915</td>\n",
              "      <td>0.958978</td>\n",
              "    </tr>\n",
              "    <tr>\n",
              "      <th>NC</th>\n",
              "      <td>0.076773</td>\n",
              "      <td>0.959031</td>\n",
              "    </tr>\n",
              "    <tr>\n",
              "      <th>ME</th>\n",
              "      <td>0.071789</td>\n",
              "      <td>1.320402</td>\n",
              "    </tr>\n",
              "    <tr>\n",
              "      <th>WY</th>\n",
              "      <td>0.060301</td>\n",
              "      <td>1.390043</td>\n",
              "    </tr>\n",
              "    <tr>\n",
              "      <th>MN</th>\n",
              "      <td>0.056475</td>\n",
              "      <td>0.953732</td>\n",
              "    </tr>\n",
              "    <tr>\n",
              "      <th>WV</th>\n",
              "      <td>0.055129</td>\n",
              "      <td>1.663424</td>\n",
              "    </tr>\n",
              "    <tr>\n",
              "      <th>OR</th>\n",
              "      <td>0.051615</td>\n",
              "      <td>1.078588</td>\n",
              "    </tr>\n",
              "    <tr>\n",
              "      <th>AK</th>\n",
              "      <td>0.046340</td>\n",
              "      <td>1.678776</td>\n",
              "    </tr>\n",
              "    <tr>\n",
              "      <th>HI</th>\n",
              "      <td>0.042094</td>\n",
              "      <td>1.898971</td>\n",
              "    </tr>\n",
              "    <tr>\n",
              "      <th>MT</th>\n",
              "      <td>0.041543</td>\n",
              "      <td>1.134660</td>\n",
              "    </tr>\n",
              "  </tbody>\n",
              "</table>\n",
              "</div>"
            ],
            "text/plain": [
              "       state_pos_pop  state_test_pop\n",
              "state                               \n",
              "NY          1.396094        3.755898\n",
              "NJ          1.150572        2.318820\n",
              "CT          0.670942        2.076635\n",
              "MA          0.667725        2.830264\n",
              "RI          0.632362        4.460897\n",
              "LA          0.562296        3.091468\n",
              "DC          0.499894        2.342618\n",
              "MI          0.366892        1.364754\n",
              "DE          0.353474        1.784724\n",
              "IL          0.312962        1.496486\n",
              "PA          0.301922        1.454016\n",
              "MD          0.274841        1.401265\n",
              "SD          0.230597        1.675674\n",
              "GA          0.208591        1.009435\n",
              "IN          0.203202        1.122260\n",
              "CO          0.195564        0.908602\n",
              "MS          0.182585        1.870538\n",
              "WA          0.167474        2.014158\n",
              "NV          0.142785        1.175005\n",
              "IA          0.140884        1.013385\n",
              "FL          0.140490        1.475756\n",
              "VT          0.132534        2.293310\n",
              "VA          0.130853        0.808562\n",
              "TN          0.127775        1.923044\n",
              "OH          0.124740        0.916315\n",
              "NH          0.122820        1.236219\n",
              "AL          0.118943        1.074710\n",
              "UT          0.117968        2.641862\n",
              "NM          0.113457        2.220639\n",
              "NE          0.109801        0.962155\n",
              "MO          0.107944        1.062448\n",
              "ID          0.102738        1.068288\n",
              "CA          0.099346        1.250684\n",
              "ND          0.098155        2.289709\n",
              "SC          0.095500        0.863575\n",
              "KS          0.095321        0.809662\n",
              "WI          0.091989        1.029277\n",
              "AR          0.090828        1.178937\n",
              "AZ          0.083050        0.834131\n",
              "OK          0.078873        1.166043\n",
              "TX          0.078653        0.836488\n",
              "KY          0.077915        0.958978\n",
              "NC          0.076773        0.959031\n",
              "ME          0.071789        1.320402\n",
              "WY          0.060301        1.390043\n",
              "MN          0.056475        0.953732\n",
              "WV          0.055129        1.663424\n",
              "OR          0.051615        1.078588\n",
              "AK          0.046340        1.678776\n",
              "HI          0.042094        1.898971\n",
              "MT          0.041543        1.134660"
            ]
          },
          "metadata": {
            "tags": []
          },
          "execution_count": 82
        }
      ]
    },
    {
      "cell_type": "code",
      "metadata": {
        "id": "-uy6plHZ84GH",
        "colab_type": "code",
        "colab": {
          "base_uri": "https://localhost:8080/",
          "height": 35
        },
        "outputId": "c6b128e0-63ab-418f-f0ff-79a9e255675a"
      },
      "source": [
        "#print(f\"Current Infection Rate {res.positive/res.total*100:2f}%\")\n",
        "\n",
        "print(f\"Current Testing Percent {gbUSA.sum().tail(1).totalTestResults[0]/dfUSPop[dfUSPop.REGION=='0'].POPESTIMATE2019[0]*100:2f}%\")"
      ],
      "execution_count": 83,
      "outputs": [
        {
          "output_type": "stream",
          "text": [
            "Current Testing Percent 1.487877%\n"
          ],
          "name": "stdout"
        }
      ]
    },
    {
      "cell_type": "code",
      "metadata": {
        "id": "Oe5ZLr99QRRc",
        "colab_type": "code",
        "colab": {
          "base_uri": "https://localhost:8080/",
          "height": 72
        },
        "outputId": "78ebbb56-e5ac-4a42-d678-c8ef7588655b"
      },
      "source": [
        "dfJHUData.columns"
      ],
      "execution_count": 85,
      "outputs": [
        {
          "output_type": "execute_result",
          "data": {
            "text/plain": [
              "Index(['FIPS', 'city', 'state', 'country', 'last_update', 'lat', 'lon',\n",
              "       'confirmed', 'dead', 'recovered', 'active', 'key'],\n",
              "      dtype='object')"
            ]
          },
          "metadata": {
            "tags": []
          },
          "execution_count": 85
        }
      ]
    },
    {
      "cell_type": "code",
      "metadata": {
        "id": "R8BhxDaaZG7J",
        "colab_type": "code",
        "colab": {}
      },
      "source": [
        "dfOwid = pd.read_csv(\"https://raw.githubusercontent.com/owid/covid-19-data/master/public/data/owid-covid-data.csv\")"
      ],
      "execution_count": 0,
      "outputs": []
    },
    {
      "cell_type": "code",
      "metadata": {
        "id": "P34L2uyifz16",
        "colab_type": "code",
        "colab": {
          "base_uri": "https://localhost:8080/",
          "height": 435
        },
        "outputId": "a7f4207d-1459-4e3c-8f3b-c4da08863460"
      },
      "source": [
        "dfOwid.info()\n"
      ],
      "execution_count": 87,
      "outputs": [
        {
          "output_type": "stream",
          "text": [
            "<class 'pandas.core.frame.DataFrame'>\n",
            "RangeIndex: 13261 entries, 0 to 13260\n",
            "Data columns (total 16 columns):\n",
            " #   Column                    Non-Null Count  Dtype  \n",
            "---  ------                    --------------  -----  \n",
            " 0   iso_code                  13080 non-null  object \n",
            " 1   location                  13261 non-null  object \n",
            " 2   date                      13261 non-null  object \n",
            " 3   total_cases               13261 non-null  int64  \n",
            " 4   new_cases                 13261 non-null  int64  \n",
            " 5   total_deaths              13261 non-null  int64  \n",
            " 6   new_deaths                13261 non-null  int64  \n",
            " 7   total_cases_per_million   12985 non-null  float64\n",
            " 8   new_cases_per_million     12985 non-null  float64\n",
            " 9   total_deaths_per_million  12985 non-null  float64\n",
            " 10  new_deaths_per_million    12985 non-null  float64\n",
            " 11  total_tests               3144 non-null   float64\n",
            " 12  new_tests                 2804 non-null   float64\n",
            " 13  total_tests_per_thousand  3144 non-null   float64\n",
            " 14  new_tests_per_thousand    2807 non-null   float64\n",
            " 15  tests_units               3144 non-null   object \n",
            "dtypes: float64(8), int64(4), object(4)\n",
            "memory usage: 1.6+ MB\n"
          ],
          "name": "stdout"
        }
      ]
    },
    {
      "cell_type": "code",
      "metadata": {
        "id": "BMzHArokf3L1",
        "colab_type": "code",
        "colab": {
          "base_uri": "https://localhost:8080/",
          "height": 35
        },
        "outputId": "477f5b12-8c32-44ea-c0fa-10c33dda81a6"
      },
      "source": [
        "dfOwid.date.min()"
      ],
      "execution_count": 88,
      "outputs": [
        {
          "output_type": "execute_result",
          "data": {
            "text/plain": [
              "'2019-12-31'"
            ]
          },
          "metadata": {
            "tags": []
          },
          "execution_count": 88
        }
      ]
    },
    {
      "cell_type": "code",
      "metadata": {
        "id": "vPuEEoJ2g7kf",
        "colab_type": "code",
        "colab": {
          "base_uri": "https://localhost:8080/",
          "height": 35
        },
        "outputId": "41393b5e-5d74-4b80-ae01-6ebdab350b87"
      },
      "source": [
        "dfOwid.date.max()"
      ],
      "execution_count": 89,
      "outputs": [
        {
          "output_type": "execute_result",
          "data": {
            "text/plain": [
              "'2020-04-25'"
            ]
          },
          "metadata": {
            "tags": []
          },
          "execution_count": 89
        }
      ]
    },
    {
      "cell_type": "code",
      "metadata": {
        "id": "KgJXmpC1g-Wz",
        "colab_type": "code",
        "colab": {}
      },
      "source": [
        "dfOwidTests = dfOwid.dropna(subset=['total_tests']).copy()"
      ],
      "execution_count": 0,
      "outputs": []
    },
    {
      "cell_type": "code",
      "metadata": {
        "id": "SAciuLfhhwFr",
        "colab_type": "code",
        "colab": {
          "base_uri": "https://localhost:8080/",
          "height": 35
        },
        "outputId": "43c92bc4-bdec-4c4d-fdb0-3642a7a02525"
      },
      "source": [
        "dfOwidTests.date.max()"
      ],
      "execution_count": 93,
      "outputs": [
        {
          "output_type": "execute_result",
          "data": {
            "text/plain": [
              "'2020-04-25'"
            ]
          },
          "metadata": {
            "tags": []
          },
          "execution_count": 93
        }
      ]
    },
    {
      "cell_type": "code",
      "metadata": {
        "id": "aCF_7_Cjh8Q0",
        "colab_type": "code",
        "colab": {
          "base_uri": "https://localhost:8080/",
          "height": 305
        },
        "outputId": "4a02b24e-7452-4769-c7ba-8348a6a1f334"
      },
      "source": [
        "dfOwidTests.head()\n"
      ],
      "execution_count": 94,
      "outputs": [
        {
          "output_type": "execute_result",
          "data": {
            "text/html": [
              "<div>\n",
              "<style scoped>\n",
              "    .dataframe tbody tr th:only-of-type {\n",
              "        vertical-align: middle;\n",
              "    }\n",
              "\n",
              "    .dataframe tbody tr th {\n",
              "        vertical-align: top;\n",
              "    }\n",
              "\n",
              "    .dataframe thead th {\n",
              "        text-align: right;\n",
              "    }\n",
              "</style>\n",
              "<table border=\"1\" class=\"dataframe\">\n",
              "  <thead>\n",
              "    <tr style=\"text-align: right;\">\n",
              "      <th></th>\n",
              "      <th>iso_code</th>\n",
              "      <th>location</th>\n",
              "      <th>date</th>\n",
              "      <th>total_cases</th>\n",
              "      <th>new_cases</th>\n",
              "      <th>total_deaths</th>\n",
              "      <th>new_deaths</th>\n",
              "      <th>total_cases_per_million</th>\n",
              "      <th>new_cases_per_million</th>\n",
              "      <th>total_deaths_per_million</th>\n",
              "      <th>new_deaths_per_million</th>\n",
              "      <th>total_tests</th>\n",
              "      <th>new_tests</th>\n",
              "      <th>total_tests_per_thousand</th>\n",
              "      <th>new_tests_per_thousand</th>\n",
              "      <th>tests_units</th>\n",
              "    </tr>\n",
              "  </thead>\n",
              "  <tbody>\n",
              "    <tr>\n",
              "      <th>440</th>\n",
              "      <td>ARG</td>\n",
              "      <td>Argentina</td>\n",
              "      <td>2020-04-08</td>\n",
              "      <td>1715</td>\n",
              "      <td>87</td>\n",
              "      <td>60</td>\n",
              "      <td>7</td>\n",
              "      <td>37.946</td>\n",
              "      <td>1.925</td>\n",
              "      <td>1.328</td>\n",
              "      <td>0.155</td>\n",
              "      <td>13330.0</td>\n",
              "      <td>NaN</td>\n",
              "      <td>0.293</td>\n",
              "      <td>NaN</td>\n",
              "      <td>tests performed</td>\n",
              "    </tr>\n",
              "    <tr>\n",
              "      <th>441</th>\n",
              "      <td>ARG</td>\n",
              "      <td>Argentina</td>\n",
              "      <td>2020-04-09</td>\n",
              "      <td>1795</td>\n",
              "      <td>80</td>\n",
              "      <td>65</td>\n",
              "      <td>5</td>\n",
              "      <td>39.716</td>\n",
              "      <td>1.770</td>\n",
              "      <td>1.438</td>\n",
              "      <td>0.111</td>\n",
              "      <td>14850.0</td>\n",
              "      <td>1520.0</td>\n",
              "      <td>0.326</td>\n",
              "      <td>0.033</td>\n",
              "      <td>tests performed</td>\n",
              "    </tr>\n",
              "    <tr>\n",
              "      <th>442</th>\n",
              "      <td>ARG</td>\n",
              "      <td>Argentina</td>\n",
              "      <td>2020-04-10</td>\n",
              "      <td>1894</td>\n",
              "      <td>99</td>\n",
              "      <td>79</td>\n",
              "      <td>14</td>\n",
              "      <td>41.907</td>\n",
              "      <td>2.190</td>\n",
              "      <td>1.748</td>\n",
              "      <td>0.310</td>\n",
              "      <td>16379.0</td>\n",
              "      <td>1529.0</td>\n",
              "      <td>0.360</td>\n",
              "      <td>0.034</td>\n",
              "      <td>tests performed</td>\n",
              "    </tr>\n",
              "    <tr>\n",
              "      <th>443</th>\n",
              "      <td>ARG</td>\n",
              "      <td>Argentina</td>\n",
              "      <td>2020-04-11</td>\n",
              "      <td>1975</td>\n",
              "      <td>81</td>\n",
              "      <td>82</td>\n",
              "      <td>3</td>\n",
              "      <td>43.699</td>\n",
              "      <td>1.792</td>\n",
              "      <td>1.814</td>\n",
              "      <td>0.066</td>\n",
              "      <td>18027.0</td>\n",
              "      <td>1648.0</td>\n",
              "      <td>0.396</td>\n",
              "      <td>0.036</td>\n",
              "      <td>tests performed</td>\n",
              "    </tr>\n",
              "    <tr>\n",
              "      <th>445</th>\n",
              "      <td>ARG</td>\n",
              "      <td>Argentina</td>\n",
              "      <td>2020-04-13</td>\n",
              "      <td>2203</td>\n",
              "      <td>66</td>\n",
              "      <td>95</td>\n",
              "      <td>6</td>\n",
              "      <td>48.743</td>\n",
              "      <td>1.460</td>\n",
              "      <td>2.102</td>\n",
              "      <td>0.133</td>\n",
              "      <td>19758.0</td>\n",
              "      <td>NaN</td>\n",
              "      <td>0.434</td>\n",
              "      <td>NaN</td>\n",
              "      <td>tests performed</td>\n",
              "    </tr>\n",
              "  </tbody>\n",
              "</table>\n",
              "</div>"
            ],
            "text/plain": [
              "    iso_code   location  ... new_tests_per_thousand      tests_units\n",
              "440      ARG  Argentina  ...                    NaN  tests performed\n",
              "441      ARG  Argentina  ...                  0.033  tests performed\n",
              "442      ARG  Argentina  ...                  0.034  tests performed\n",
              "443      ARG  Argentina  ...                  0.036  tests performed\n",
              "445      ARG  Argentina  ...                    NaN  tests performed\n",
              "\n",
              "[5 rows x 16 columns]"
            ]
          },
          "metadata": {
            "tags": []
          },
          "execution_count": 94
        }
      ]
    },
    {
      "cell_type": "code",
      "metadata": {
        "id": "Qngm15gRiTJY",
        "colab_type": "code",
        "colab": {}
      },
      "source": [
        "dfOwidLatest = dfOwidTests.sort_values(by='date').groupby('iso_code').last()"
      ],
      "execution_count": 0,
      "outputs": []
    },
    {
      "cell_type": "code",
      "metadata": {
        "id": "kmMUQTWUioLl",
        "colab_type": "code",
        "colab": {
          "base_uri": "https://localhost:8080/",
          "height": 254
        },
        "outputId": "8f5f9a84-c971-4688-f349-ca9f35003ce7"
      },
      "source": [
        "dfOwidLatest.total_tests.sort_values(ascending=False)"
      ],
      "execution_count": 129,
      "outputs": [
        {
          "output_type": "execute_result",
          "data": {
            "text/plain": [
              "iso_code\n",
              "USA    4883802.0\n",
              "RUS    2721500.0\n",
              "DEU    2072669.0\n",
              "ITA    1707743.0\n",
              "ESP     930230.0\n",
              "         ...    \n",
              "CRI       8748.0\n",
              "PRY       7307.0\n",
              "SEN       7076.0\n",
              "MMR       5775.0\n",
              "BOL       5297.0\n",
              "Name: total_tests, Length: 78, dtype: float64"
            ]
          },
          "metadata": {
            "tags": []
          },
          "execution_count": 129
        }
      ]
    },
    {
      "cell_type": "code",
      "metadata": {
        "id": "fJMhnvEtjjf8",
        "colab_type": "code",
        "colab": {
          "base_uri": "https://localhost:8080/",
          "height": 72
        },
        "outputId": "c8d48bc1-0443-4c93-eb50-e83e02a0eab9"
      },
      "source": [
        "isUSA = dfOwidLatest.index.isin(['USA'])\n",
        "NonUSTests = dfOwidLatest[~isUSA].total_tests.sum()\n",
        "USTests = dfOwidLatest[isUSA].total_tests.sum()\n",
        "\n",
        "print(f\"Total testing done outside of USA: {NonUSTests:.0f}\")\n",
        "print(f\"Total tests done in USA : {USTests:.0f}\")\n",
        "print(f\"How many more times has the world tested more than the US: {NonUSTests/USTests:.1f}\")"
      ],
      "execution_count": 117,
      "outputs": [
        {
          "output_type": "stream",
          "text": [
            "Total testing done outside of USA: 17854563\n",
            "Total tests done in USA : 4883802\n",
            "How many more times has the world tested more than the US: 3.7\n"
          ],
          "name": "stdout"
        }
      ]
    },
    {
      "cell_type": "code",
      "metadata": {
        "id": "PHEIbDtQnQ65",
        "colab_type": "code",
        "colab": {
          "base_uri": "https://localhost:8080/",
          "height": 35
        },
        "outputId": "7180fb60-6327-4210-a332-36cde9eaa701"
      },
      "source": [
        "dfOwid.iso_code.nunique()"
      ],
      "execution_count": 125,
      "outputs": [
        {
          "output_type": "execute_result",
          "data": {
            "text/plain": [
              "206"
            ]
          },
          "metadata": {
            "tags": []
          },
          "execution_count": 125
        }
      ]
    },
    {
      "cell_type": "code",
      "metadata": {
        "id": "Hjjf3Lmaokbv",
        "colab_type": "code",
        "colab": {
          "base_uri": "https://localhost:8080/",
          "height": 305
        },
        "outputId": "f3198930-d09e-4f30-f144-aaf77178dd80"
      },
      "source": [
        "dfOwid.head()"
      ],
      "execution_count": 124,
      "outputs": [
        {
          "output_type": "execute_result",
          "data": {
            "text/html": [
              "<div>\n",
              "<style scoped>\n",
              "    .dataframe tbody tr th:only-of-type {\n",
              "        vertical-align: middle;\n",
              "    }\n",
              "\n",
              "    .dataframe tbody tr th {\n",
              "        vertical-align: top;\n",
              "    }\n",
              "\n",
              "    .dataframe thead th {\n",
              "        text-align: right;\n",
              "    }\n",
              "</style>\n",
              "<table border=\"1\" class=\"dataframe\">\n",
              "  <thead>\n",
              "    <tr style=\"text-align: right;\">\n",
              "      <th></th>\n",
              "      <th>iso_code</th>\n",
              "      <th>location</th>\n",
              "      <th>date</th>\n",
              "      <th>total_cases</th>\n",
              "      <th>new_cases</th>\n",
              "      <th>total_deaths</th>\n",
              "      <th>new_deaths</th>\n",
              "      <th>total_cases_per_million</th>\n",
              "      <th>new_cases_per_million</th>\n",
              "      <th>total_deaths_per_million</th>\n",
              "      <th>new_deaths_per_million</th>\n",
              "      <th>total_tests</th>\n",
              "      <th>new_tests</th>\n",
              "      <th>total_tests_per_thousand</th>\n",
              "      <th>new_tests_per_thousand</th>\n",
              "      <th>tests_units</th>\n",
              "    </tr>\n",
              "  </thead>\n",
              "  <tbody>\n",
              "    <tr>\n",
              "      <th>0</th>\n",
              "      <td>ABW</td>\n",
              "      <td>Aruba</td>\n",
              "      <td>2020-03-13</td>\n",
              "      <td>2</td>\n",
              "      <td>2</td>\n",
              "      <td>0</td>\n",
              "      <td>0</td>\n",
              "      <td>18.733</td>\n",
              "      <td>18.733</td>\n",
              "      <td>0.0</td>\n",
              "      <td>0.0</td>\n",
              "      <td>NaN</td>\n",
              "      <td>NaN</td>\n",
              "      <td>NaN</td>\n",
              "      <td>NaN</td>\n",
              "      <td>NaN</td>\n",
              "    </tr>\n",
              "    <tr>\n",
              "      <th>1</th>\n",
              "      <td>ABW</td>\n",
              "      <td>Aruba</td>\n",
              "      <td>2020-03-20</td>\n",
              "      <td>4</td>\n",
              "      <td>2</td>\n",
              "      <td>0</td>\n",
              "      <td>0</td>\n",
              "      <td>37.465</td>\n",
              "      <td>18.733</td>\n",
              "      <td>0.0</td>\n",
              "      <td>0.0</td>\n",
              "      <td>NaN</td>\n",
              "      <td>NaN</td>\n",
              "      <td>NaN</td>\n",
              "      <td>NaN</td>\n",
              "      <td>NaN</td>\n",
              "    </tr>\n",
              "    <tr>\n",
              "      <th>2</th>\n",
              "      <td>ABW</td>\n",
              "      <td>Aruba</td>\n",
              "      <td>2020-03-24</td>\n",
              "      <td>12</td>\n",
              "      <td>8</td>\n",
              "      <td>0</td>\n",
              "      <td>0</td>\n",
              "      <td>112.395</td>\n",
              "      <td>74.930</td>\n",
              "      <td>0.0</td>\n",
              "      <td>0.0</td>\n",
              "      <td>NaN</td>\n",
              "      <td>NaN</td>\n",
              "      <td>NaN</td>\n",
              "      <td>NaN</td>\n",
              "      <td>NaN</td>\n",
              "    </tr>\n",
              "    <tr>\n",
              "      <th>3</th>\n",
              "      <td>ABW</td>\n",
              "      <td>Aruba</td>\n",
              "      <td>2020-03-25</td>\n",
              "      <td>17</td>\n",
              "      <td>5</td>\n",
              "      <td>0</td>\n",
              "      <td>0</td>\n",
              "      <td>159.227</td>\n",
              "      <td>46.831</td>\n",
              "      <td>0.0</td>\n",
              "      <td>0.0</td>\n",
              "      <td>NaN</td>\n",
              "      <td>NaN</td>\n",
              "      <td>NaN</td>\n",
              "      <td>NaN</td>\n",
              "      <td>NaN</td>\n",
              "    </tr>\n",
              "    <tr>\n",
              "      <th>4</th>\n",
              "      <td>ABW</td>\n",
              "      <td>Aruba</td>\n",
              "      <td>2020-03-26</td>\n",
              "      <td>19</td>\n",
              "      <td>2</td>\n",
              "      <td>0</td>\n",
              "      <td>0</td>\n",
              "      <td>177.959</td>\n",
              "      <td>18.733</td>\n",
              "      <td>0.0</td>\n",
              "      <td>0.0</td>\n",
              "      <td>NaN</td>\n",
              "      <td>NaN</td>\n",
              "      <td>NaN</td>\n",
              "      <td>NaN</td>\n",
              "      <td>NaN</td>\n",
              "    </tr>\n",
              "  </tbody>\n",
              "</table>\n",
              "</div>"
            ],
            "text/plain": [
              "  iso_code location  ... new_tests_per_thousand  tests_units\n",
              "0      ABW    Aruba  ...                    NaN          NaN\n",
              "1      ABW    Aruba  ...                    NaN          NaN\n",
              "2      ABW    Aruba  ...                    NaN          NaN\n",
              "3      ABW    Aruba  ...                    NaN          NaN\n",
              "4      ABW    Aruba  ...                    NaN          NaN\n",
              "\n",
              "[5 rows x 16 columns]"
            ]
          },
          "metadata": {
            "tags": []
          },
          "execution_count": 124
        }
      ]
    },
    {
      "cell_type": "code",
      "metadata": {
        "id": "kFfq__ymooV8",
        "colab_type": "code",
        "colab": {}
      },
      "source": [
        ""
      ],
      "execution_count": 0,
      "outputs": []
    }
  ]
}