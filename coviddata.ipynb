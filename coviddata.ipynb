{
  "nbformat": 4,
  "nbformat_minor": 0,
  "metadata": {
    "colab": {
      "name": "coviddata",
      "provenance": [],
      "toc_visible": true,
      "authorship_tag": "ABX9TyPdpcK1g7C3vrM8nAgUvSTS",
      "include_colab_link": true
    },
    "kernelspec": {
      "name": "python3",
      "display_name": "Python 3"
    }
  },
  "cells": [
    {
      "cell_type": "markdown",
      "metadata": {
        "id": "view-in-github",
        "colab_type": "text"
      },
      "source": [
        "<a href=\"https://colab.research.google.com/github/DMXMax/covid19/blob/gc_20200315/coviddata.ipynb\" target=\"_parent\"><img src=\"https://colab.research.google.com/assets/colab-badge.svg\" alt=\"Open In Colab\"/></a>"
      ]
    },
    {
      "cell_type": "code",
      "metadata": {
        "id": "jCzokJEPxFhv",
        "colab_type": "code",
        "colab": {}
      },
      "source": [
        "import numpy as np\n",
        "import pandas as pd\n",
        "import matplotlib.pyplot as plt\n",
        "import requests,json\n",
        "import datetime\n"
      ],
      "execution_count": 0,
      "outputs": []
    },
    {
      "cell_type": "code",
      "metadata": {
        "id": "zNKPT5Z8BXPT",
        "colab_type": "code",
        "colab": {}
      },
      "source": [
        "covidtrackingurl = \"https://covidtracking.com/api/states/daily\"\n",
        "response = requests.get(covidtrackingurl)\n",
        "dfCovidtracking = pd.DataFrame(response.json())\n",
        "dfCovidtracking.fillna(0, inplace=True)\n",
        "dfCovidtracking.negative = dfCovidtracking.negative.astype('int64')\n",
        "dfCovidtracking.positive = dfCovidtracking.positive.astype('int64')\n",
        "dfCovidtracking.pending = dfCovidtracking.pending.astype('int64')\n",
        "dfCovidtracking.total = dfCovidtracking.total.astype('int64')\n",
        "dfCovidtracking.death = dfCovidtracking.death.astype('int64')\n",
        "\n",
        "dfCovidtracking.date = dfCovidtracking.date.transform(lambda x: pd.to_datetime(datetime.date(x//10000, x%10000//100, x%100\n",
        "                                          )))\n"
      ],
      "execution_count": 0,
      "outputs": []
    },
    {
      "cell_type": "code",
      "metadata": {
        "id": "8_Il5iuohC8_",
        "colab_type": "code",
        "colab": {}
      },
      "source": [
        "dfWHO = pd.read_csv(\"https://raw.githubusercontent.com/DMXMax/covid19/master/who/who_data.tsv\",\n",
        "                     sep='\\t', index_col='Date')"
      ],
      "execution_count": 0,
      "outputs": []
    },
    {
      "cell_type": "code",
      "metadata": {
        "id": "IHNp61EvdwQG",
        "colab_type": "code",
        "colab": {}
      },
      "source": [
        "jhurl = \"https://raw.githubusercontent.com/CSSEGISandData/COVID-19/master/\"+\\\n",
        "\"csse_covid_19_data/csse_covid_19_daily_reports/04-28-2020.csv\"\n",
        "\n",
        "\n",
        "dfJHUData = pd.read_csv(jhurl, header=0,\n",
        "                        names=['FIPS', 'city','state', 'country', 'last_update',\n",
        "                               'lat', 'lon','confirmed', 'dead', 'recovered','active', 'key'])"
      ],
      "execution_count": 0,
      "outputs": []
    },
    {
      "cell_type": "code",
      "metadata": {
        "id": "hrPlWJJCVtBR",
        "colab_type": "code",
        "colab": {}
      },
      "source": [
        "dfWHO = dfWHO.rename(columns={\"Confirmed\": \"confirmed\", \"Deaths\": \"who_deaths\"})\n",
        "dfWHO.index.names=['date']\n"
      ],
      "execution_count": 0,
      "outputs": []
    },
    {
      "cell_type": "code",
      "metadata": {
        "colab_type": "code",
        "id": "idyqfNddlLPv",
        "outputId": "580a0f54-6249-4efa-d14b-6d902058b667",
        "colab": {
          "base_uri": "https://localhost:8080/",
          "height": 348
        }
      },
      "source": [
        "dfCovidtracking.loc[dfCovidtracking.date==dfCovidtracking.date.max(),\\\n",
        "  ['state', 'positive', 'negative', 'totalTestResults']].sort_values(by='positive', ascending=False).head(10)"
      ],
      "execution_count": 7,
      "outputs": [
        {
          "output_type": "execute_result",
          "data": {
            "text/html": [
              "<div>\n",
              "<style scoped>\n",
              "    .dataframe tbody tr th:only-of-type {\n",
              "        vertical-align: middle;\n",
              "    }\n",
              "\n",
              "    .dataframe tbody tr th {\n",
              "        vertical-align: top;\n",
              "    }\n",
              "\n",
              "    .dataframe thead th {\n",
              "        text-align: right;\n",
              "    }\n",
              "</style>\n",
              "<table border=\"1\" class=\"dataframe\">\n",
              "  <thead>\n",
              "    <tr style=\"text-align: right;\">\n",
              "      <th></th>\n",
              "      <th>state</th>\n",
              "      <th>positive</th>\n",
              "      <th>negative</th>\n",
              "      <th>totalTestResults</th>\n",
              "    </tr>\n",
              "  </thead>\n",
              "  <tbody>\n",
              "    <tr>\n",
              "      <th>37</th>\n",
              "      <td>NY</td>\n",
              "      <td>295106</td>\n",
              "      <td>549888</td>\n",
              "      <td>844994.0</td>\n",
              "    </tr>\n",
              "    <tr>\n",
              "      <th>34</th>\n",
              "      <td>NJ</td>\n",
              "      <td>113856</td>\n",
              "      <td>120503</td>\n",
              "      <td>234359.0</td>\n",
              "    </tr>\n",
              "    <tr>\n",
              "      <th>21</th>\n",
              "      <td>MA</td>\n",
              "      <td>58302</td>\n",
              "      <td>196198</td>\n",
              "      <td>254500.0</td>\n",
              "    </tr>\n",
              "    <tr>\n",
              "      <th>16</th>\n",
              "      <td>IL</td>\n",
              "      <td>48102</td>\n",
              "      <td>194087</td>\n",
              "      <td>242189.0</td>\n",
              "    </tr>\n",
              "    <tr>\n",
              "      <th>5</th>\n",
              "      <td>CA</td>\n",
              "      <td>45031</td>\n",
              "      <td>532577</td>\n",
              "      <td>577608.0</td>\n",
              "    </tr>\n",
              "    <tr>\n",
              "      <th>41</th>\n",
              "      <td>PA</td>\n",
              "      <td>43264</td>\n",
              "      <td>165824</td>\n",
              "      <td>209088.0</td>\n",
              "    </tr>\n",
              "    <tr>\n",
              "      <th>24</th>\n",
              "      <td>MI</td>\n",
              "      <td>39262</td>\n",
              "      <td>125543</td>\n",
              "      <td>164805.0</td>\n",
              "    </tr>\n",
              "    <tr>\n",
              "      <th>10</th>\n",
              "      <td>FL</td>\n",
              "      <td>32846</td>\n",
              "      <td>334029</td>\n",
              "      <td>366875.0</td>\n",
              "    </tr>\n",
              "    <tr>\n",
              "      <th>20</th>\n",
              "      <td>LA</td>\n",
              "      <td>27286</td>\n",
              "      <td>123822</td>\n",
              "      <td>151108.0</td>\n",
              "    </tr>\n",
              "    <tr>\n",
              "      <th>7</th>\n",
              "      <td>CT</td>\n",
              "      <td>26312</td>\n",
              "      <td>66433</td>\n",
              "      <td>92745.0</td>\n",
              "    </tr>\n",
              "  </tbody>\n",
              "</table>\n",
              "</div>"
            ],
            "text/plain": [
              "   state  positive  negative  totalTestResults\n",
              "37    NY    295106    549888          844994.0\n",
              "34    NJ    113856    120503          234359.0\n",
              "21    MA     58302    196198          254500.0\n",
              "16    IL     48102    194087          242189.0\n",
              "5     CA     45031    532577          577608.0\n",
              "41    PA     43264    165824          209088.0\n",
              "24    MI     39262    125543          164805.0\n",
              "10    FL     32846    334029          366875.0\n",
              "20    LA     27286    123822          151108.0\n",
              "7     CT     26312     66433           92745.0"
            ]
          },
          "metadata": {
            "tags": []
          },
          "execution_count": 7
        }
      ]
    },
    {
      "cell_type": "code",
      "metadata": {
        "id": "rFOHyOwb4bcm",
        "colab_type": "code",
        "colab": {}
      },
      "source": [
        "gbUSA = dfCovidtracking.groupby(['date'])\n",
        "gbCA = dfCovidtracking[dfCovidtracking.state=='CA'].groupby(['date'])\n",
        "\n",
        "dfUSAPos = gbUSA[['positive', 'totalTestResults', 'death', 'positiveIncrease','deathIncrease']].sum().reset_index().copy()\n",
        "dfCAPos = gbCA[['positive', 'totalTestResults', 'death','positiveIncrease', 'deathIncrease']].sum().reset_index().copy()\n",
        "\n",
        "#This will calculate the percentage each day is of the total. In a flattening, this will be more even\n",
        "# In a high growth situation, you'll higher percentages at the tail. \n",
        "dfUSAPos['PCT']= dfUSAPos.positive/dfUSAPos.max().positive\n",
        "dfCAPos['PCT']=dfCAPos.positive/dfCAPos.max().positive"
      ],
      "execution_count": 0,
      "outputs": []
    },
    {
      "cell_type": "code",
      "metadata": {
        "colab_type": "code",
        "id": "BHKhtPRozVFF",
        "outputId": "c05981cb-ea2f-43ab-ff33-b2bfc56630eb",
        "colab": {
          "base_uri": "https://localhost:8080/",
          "height": 468
        }
      },
      "source": [
        "dfUSAPos[-14:]\n"
      ],
      "execution_count": 9,
      "outputs": [
        {
          "output_type": "execute_result",
          "data": {
            "text/html": [
              "<div>\n",
              "<style scoped>\n",
              "    .dataframe tbody tr th:only-of-type {\n",
              "        vertical-align: middle;\n",
              "    }\n",
              "\n",
              "    .dataframe tbody tr th {\n",
              "        vertical-align: top;\n",
              "    }\n",
              "\n",
              "    .dataframe thead th {\n",
              "        text-align: right;\n",
              "    }\n",
              "</style>\n",
              "<table border=\"1\" class=\"dataframe\">\n",
              "  <thead>\n",
              "    <tr style=\"text-align: right;\">\n",
              "      <th></th>\n",
              "      <th>date</th>\n",
              "      <th>positive</th>\n",
              "      <th>totalTestResults</th>\n",
              "      <th>death</th>\n",
              "      <th>positiveIncrease</th>\n",
              "      <th>deathIncrease</th>\n",
              "      <th>PCT</th>\n",
              "    </tr>\n",
              "  </thead>\n",
              "  <tbody>\n",
              "    <tr>\n",
              "      <th>84</th>\n",
              "      <td>2020-04-15</td>\n",
              "      <td>633112</td>\n",
              "      <td>3262564.0</td>\n",
              "      <td>28564</td>\n",
              "      <td>30444.0</td>\n",
              "      <td>2498.0</td>\n",
              "      <td>0.629591</td>\n",
              "    </tr>\n",
              "    <tr>\n",
              "      <th>85</th>\n",
              "      <td>2020-04-16</td>\n",
              "      <td>664129</td>\n",
              "      <td>3424690.0</td>\n",
              "      <td>30722</td>\n",
              "      <td>31017.0</td>\n",
              "      <td>2158.0</td>\n",
              "      <td>0.660436</td>\n",
              "    </tr>\n",
              "    <tr>\n",
              "      <th>86</th>\n",
              "      <td>2020-04-17</td>\n",
              "      <td>695761</td>\n",
              "      <td>3582610.0</td>\n",
              "      <td>32785</td>\n",
              "      <td>31632.0</td>\n",
              "      <td>2063.0</td>\n",
              "      <td>0.691892</td>\n",
              "    </tr>\n",
              "    <tr>\n",
              "      <th>87</th>\n",
              "      <td>2020-04-18</td>\n",
              "      <td>723776</td>\n",
              "      <td>3724925.0</td>\n",
              "      <td>34557</td>\n",
              "      <td>28015.0</td>\n",
              "      <td>1772.0</td>\n",
              "      <td>0.719751</td>\n",
              "    </tr>\n",
              "    <tr>\n",
              "      <th>88</th>\n",
              "      <td>2020-04-19</td>\n",
              "      <td>751287</td>\n",
              "      <td>3891383.0</td>\n",
              "      <td>36224</td>\n",
              "      <td>27511.0</td>\n",
              "      <td>1667.0</td>\n",
              "      <td>0.747109</td>\n",
              "    </tr>\n",
              "    <tr>\n",
              "      <th>89</th>\n",
              "      <td>2020-04-20</td>\n",
              "      <td>776419</td>\n",
              "      <td>4038895.0</td>\n",
              "      <td>37913</td>\n",
              "      <td>25132.0</td>\n",
              "      <td>1689.0</td>\n",
              "      <td>0.772101</td>\n",
              "    </tr>\n",
              "    <tr>\n",
              "      <th>90</th>\n",
              "      <td>2020-04-21</td>\n",
              "      <td>802330</td>\n",
              "      <td>4186974.0</td>\n",
              "      <td>40471</td>\n",
              "      <td>25911.0</td>\n",
              "      <td>2558.0</td>\n",
              "      <td>0.797868</td>\n",
              "    </tr>\n",
              "    <tr>\n",
              "      <th>91</th>\n",
              "      <td>2020-04-22</td>\n",
              "      <td>830223</td>\n",
              "      <td>4501156.0</td>\n",
              "      <td>42508</td>\n",
              "      <td>27893.0</td>\n",
              "      <td>2037.0</td>\n",
              "      <td>0.825606</td>\n",
              "    </tr>\n",
              "    <tr>\n",
              "      <th>92</th>\n",
              "      <td>2020-04-23</td>\n",
              "      <td>861788</td>\n",
              "      <td>4693168.0</td>\n",
              "      <td>44385</td>\n",
              "      <td>31565.0</td>\n",
              "      <td>1877.0</td>\n",
              "      <td>0.856996</td>\n",
              "    </tr>\n",
              "    <tr>\n",
              "      <th>93</th>\n",
              "      <td>2020-04-24</td>\n",
              "      <td>896306</td>\n",
              "      <td>4925393.0</td>\n",
              "      <td>46251</td>\n",
              "      <td>34518.0</td>\n",
              "      <td>1866.0</td>\n",
              "      <td>0.891322</td>\n",
              "    </tr>\n",
              "    <tr>\n",
              "      <th>94</th>\n",
              "      <td>2020-04-25</td>\n",
              "      <td>932242</td>\n",
              "      <td>5196649.0</td>\n",
              "      <td>48069</td>\n",
              "      <td>35936.0</td>\n",
              "      <td>1818.0</td>\n",
              "      <td>0.927058</td>\n",
              "    </tr>\n",
              "    <tr>\n",
              "      <th>95</th>\n",
              "      <td>2020-04-26</td>\n",
              "      <td>959258</td>\n",
              "      <td>5403052.0</td>\n",
              "      <td>49164</td>\n",
              "      <td>27016.0</td>\n",
              "      <td>1095.0</td>\n",
              "      <td>0.953924</td>\n",
              "    </tr>\n",
              "    <tr>\n",
              "      <th>96</th>\n",
              "      <td>2020-04-27</td>\n",
              "      <td>981134</td>\n",
              "      <td>5593495.0</td>\n",
              "      <td>50327</td>\n",
              "      <td>21876.0</td>\n",
              "      <td>1163.0</td>\n",
              "      <td>0.975678</td>\n",
              "    </tr>\n",
              "    <tr>\n",
              "      <th>97</th>\n",
              "      <td>2020-04-28</td>\n",
              "      <td>1005592</td>\n",
              "      <td>5795728.0</td>\n",
              "      <td>52525</td>\n",
              "      <td>24458.0</td>\n",
              "      <td>2198.0</td>\n",
              "      <td>1.000000</td>\n",
              "    </tr>\n",
              "  </tbody>\n",
              "</table>\n",
              "</div>"
            ],
            "text/plain": [
              "         date  positive  ...  deathIncrease       PCT\n",
              "84 2020-04-15    633112  ...         2498.0  0.629591\n",
              "85 2020-04-16    664129  ...         2158.0  0.660436\n",
              "86 2020-04-17    695761  ...         2063.0  0.691892\n",
              "87 2020-04-18    723776  ...         1772.0  0.719751\n",
              "88 2020-04-19    751287  ...         1667.0  0.747109\n",
              "89 2020-04-20    776419  ...         1689.0  0.772101\n",
              "90 2020-04-21    802330  ...         2558.0  0.797868\n",
              "91 2020-04-22    830223  ...         2037.0  0.825606\n",
              "92 2020-04-23    861788  ...         1877.0  0.856996\n",
              "93 2020-04-24    896306  ...         1866.0  0.891322\n",
              "94 2020-04-25    932242  ...         1818.0  0.927058\n",
              "95 2020-04-26    959258  ...         1095.0  0.953924\n",
              "96 2020-04-27    981134  ...         1163.0  0.975678\n",
              "97 2020-04-28   1005592  ...         2198.0  1.000000\n",
              "\n",
              "[14 rows x 7 columns]"
            ]
          },
          "metadata": {
            "tags": []
          },
          "execution_count": 9
        }
      ]
    },
    {
      "cell_type": "code",
      "metadata": {
        "colab_type": "code",
        "id": "EI4hKgZ5zUd8",
        "outputId": "b6f23084-5862-445c-9d0d-3d17fe3169ff",
        "colab": {
          "base_uri": "https://localhost:8080/",
          "height": 258
        }
      },
      "source": [
        "dfCAPos[-7:]"
      ],
      "execution_count": 10,
      "outputs": [
        {
          "output_type": "execute_result",
          "data": {
            "text/html": [
              "<div>\n",
              "<style scoped>\n",
              "    .dataframe tbody tr th:only-of-type {\n",
              "        vertical-align: middle;\n",
              "    }\n",
              "\n",
              "    .dataframe tbody tr th {\n",
              "        vertical-align: top;\n",
              "    }\n",
              "\n",
              "    .dataframe thead th {\n",
              "        text-align: right;\n",
              "    }\n",
              "</style>\n",
              "<table border=\"1\" class=\"dataframe\">\n",
              "  <thead>\n",
              "    <tr style=\"text-align: right;\">\n",
              "      <th></th>\n",
              "      <th>date</th>\n",
              "      <th>positive</th>\n",
              "      <th>totalTestResults</th>\n",
              "      <th>death</th>\n",
              "      <th>positiveIncrease</th>\n",
              "      <th>deathIncrease</th>\n",
              "      <th>PCT</th>\n",
              "    </tr>\n",
              "  </thead>\n",
              "  <tbody>\n",
              "    <tr>\n",
              "      <th>49</th>\n",
              "      <td>2020-04-22</td>\n",
              "      <td>35396</td>\n",
              "      <td>465327.0</td>\n",
              "      <td>1354</td>\n",
              "      <td>2135.0</td>\n",
              "      <td>86.0</td>\n",
              "      <td>0.786036</td>\n",
              "    </tr>\n",
              "    <tr>\n",
              "      <th>50</th>\n",
              "      <td>2020-04-23</td>\n",
              "      <td>37369</td>\n",
              "      <td>482097.0</td>\n",
              "      <td>1469</td>\n",
              "      <td>1973.0</td>\n",
              "      <td>115.0</td>\n",
              "      <td>0.829851</td>\n",
              "    </tr>\n",
              "    <tr>\n",
              "      <th>51</th>\n",
              "      <td>2020-04-24</td>\n",
              "      <td>39254</td>\n",
              "      <td>494173.0</td>\n",
              "      <td>1562</td>\n",
              "      <td>1885.0</td>\n",
              "      <td>93.0</td>\n",
              "      <td>0.871711</td>\n",
              "    </tr>\n",
              "    <tr>\n",
              "      <th>52</th>\n",
              "      <td>2020-04-25</td>\n",
              "      <td>41137</td>\n",
              "      <td>506035.0</td>\n",
              "      <td>1651</td>\n",
              "      <td>1883.0</td>\n",
              "      <td>89.0</td>\n",
              "      <td>0.913526</td>\n",
              "    </tr>\n",
              "    <tr>\n",
              "      <th>53</th>\n",
              "      <td>2020-04-26</td>\n",
              "      <td>42164</td>\n",
              "      <td>526084.0</td>\n",
              "      <td>1710</td>\n",
              "      <td>1027.0</td>\n",
              "      <td>59.0</td>\n",
              "      <td>0.936333</td>\n",
              "    </tr>\n",
              "    <tr>\n",
              "      <th>54</th>\n",
              "      <td>2020-04-27</td>\n",
              "      <td>43464</td>\n",
              "      <td>553409.0</td>\n",
              "      <td>1755</td>\n",
              "      <td>1300.0</td>\n",
              "      <td>45.0</td>\n",
              "      <td>0.965202</td>\n",
              "    </tr>\n",
              "    <tr>\n",
              "      <th>55</th>\n",
              "      <td>2020-04-28</td>\n",
              "      <td>45031</td>\n",
              "      <td>577608.0</td>\n",
              "      <td>1809</td>\n",
              "      <td>1567.0</td>\n",
              "      <td>54.0</td>\n",
              "      <td>1.000000</td>\n",
              "    </tr>\n",
              "  </tbody>\n",
              "</table>\n",
              "</div>"
            ],
            "text/plain": [
              "         date  positive  ...  deathIncrease       PCT\n",
              "49 2020-04-22     35396  ...           86.0  0.786036\n",
              "50 2020-04-23     37369  ...          115.0  0.829851\n",
              "51 2020-04-24     39254  ...           93.0  0.871711\n",
              "52 2020-04-25     41137  ...           89.0  0.913526\n",
              "53 2020-04-26     42164  ...           59.0  0.936333\n",
              "54 2020-04-27     43464  ...           45.0  0.965202\n",
              "55 2020-04-28     45031  ...           54.0  1.000000\n",
              "\n",
              "[7 rows x 7 columns]"
            ]
          },
          "metadata": {
            "tags": []
          },
          "execution_count": 10
        }
      ]
    },
    {
      "cell_type": "code",
      "metadata": {
        "id": "BTvuZKJN0RoI",
        "colab_type": "code",
        "outputId": "614b6edf-d502-4bf4-e29e-b77b9e11141c",
        "colab": {
          "base_uri": "https://localhost:8080/",
          "height": 335
        }
      },
      "source": [
        "gbUSA.sum()[-5:]"
      ],
      "execution_count": 11,
      "outputs": [
        {
          "output_type": "execute_result",
          "data": {
            "text/html": [
              "<div>\n",
              "<style scoped>\n",
              "    .dataframe tbody tr th:only-of-type {\n",
              "        vertical-align: middle;\n",
              "    }\n",
              "\n",
              "    .dataframe tbody tr th {\n",
              "        vertical-align: top;\n",
              "    }\n",
              "\n",
              "    .dataframe thead th {\n",
              "        text-align: right;\n",
              "    }\n",
              "</style>\n",
              "<table border=\"1\" class=\"dataframe\">\n",
              "  <thead>\n",
              "    <tr style=\"text-align: right;\">\n",
              "      <th></th>\n",
              "      <th>positive</th>\n",
              "      <th>negative</th>\n",
              "      <th>pending</th>\n",
              "      <th>hospitalizedCurrently</th>\n",
              "      <th>hospitalizedCumulative</th>\n",
              "      <th>inIcuCurrently</th>\n",
              "      <th>inIcuCumulative</th>\n",
              "      <th>onVentilatorCurrently</th>\n",
              "      <th>onVentilatorCumulative</th>\n",
              "      <th>recovered</th>\n",
              "      <th>death</th>\n",
              "      <th>hospitalized</th>\n",
              "      <th>total</th>\n",
              "      <th>totalTestResults</th>\n",
              "      <th>posNeg</th>\n",
              "      <th>deathIncrease</th>\n",
              "      <th>hospitalizedIncrease</th>\n",
              "      <th>negativeIncrease</th>\n",
              "      <th>positiveIncrease</th>\n",
              "      <th>totalTestResultsIncrease</th>\n",
              "    </tr>\n",
              "    <tr>\n",
              "      <th>date</th>\n",
              "      <th></th>\n",
              "      <th></th>\n",
              "      <th></th>\n",
              "      <th></th>\n",
              "      <th></th>\n",
              "      <th></th>\n",
              "      <th></th>\n",
              "      <th></th>\n",
              "      <th></th>\n",
              "      <th></th>\n",
              "      <th></th>\n",
              "      <th></th>\n",
              "      <th></th>\n",
              "      <th></th>\n",
              "      <th></th>\n",
              "      <th></th>\n",
              "      <th></th>\n",
              "      <th></th>\n",
              "      <th></th>\n",
              "      <th></th>\n",
              "    </tr>\n",
              "  </thead>\n",
              "  <tbody>\n",
              "    <tr>\n",
              "      <th>2020-04-24</th>\n",
              "      <td>896306</td>\n",
              "      <td>4029087</td>\n",
              "      <td>4396</td>\n",
              "      <td>56075.0</td>\n",
              "      <td>96677.0</td>\n",
              "      <td>15078.0</td>\n",
              "      <td>2468.0</td>\n",
              "      <td>5187.0</td>\n",
              "      <td>227.0</td>\n",
              "      <td>101517.0</td>\n",
              "      <td>46251</td>\n",
              "      <td>96677.0</td>\n",
              "      <td>4929789</td>\n",
              "      <td>4925393.0</td>\n",
              "      <td>4925393.0</td>\n",
              "      <td>1866.0</td>\n",
              "      <td>3407.0</td>\n",
              "      <td>197707.0</td>\n",
              "      <td>34518.0</td>\n",
              "      <td>232225.0</td>\n",
              "    </tr>\n",
              "    <tr>\n",
              "      <th>2020-04-25</th>\n",
              "      <td>932242</td>\n",
              "      <td>4264407</td>\n",
              "      <td>5315</td>\n",
              "      <td>56344.0</td>\n",
              "      <td>99099.0</td>\n",
              "      <td>15020.0</td>\n",
              "      <td>2516.0</td>\n",
              "      <td>5266.0</td>\n",
              "      <td>227.0</td>\n",
              "      <td>112783.0</td>\n",
              "      <td>48069</td>\n",
              "      <td>99099.0</td>\n",
              "      <td>5201964</td>\n",
              "      <td>5196649.0</td>\n",
              "      <td>5196649.0</td>\n",
              "      <td>1818.0</td>\n",
              "      <td>2422.0</td>\n",
              "      <td>235320.0</td>\n",
              "      <td>35936.0</td>\n",
              "      <td>271256.0</td>\n",
              "    </tr>\n",
              "    <tr>\n",
              "      <th>2020-04-26</th>\n",
              "      <td>959258</td>\n",
              "      <td>4443794</td>\n",
              "      <td>4445</td>\n",
              "      <td>55050.0</td>\n",
              "      <td>101233.0</td>\n",
              "      <td>14831.0</td>\n",
              "      <td>2571.0</td>\n",
              "      <td>5121.0</td>\n",
              "      <td>227.0</td>\n",
              "      <td>116801.0</td>\n",
              "      <td>49164</td>\n",
              "      <td>101233.0</td>\n",
              "      <td>5407497</td>\n",
              "      <td>5403052.0</td>\n",
              "      <td>5403052.0</td>\n",
              "      <td>1095.0</td>\n",
              "      <td>2134.0</td>\n",
              "      <td>179387.0</td>\n",
              "      <td>27016.0</td>\n",
              "      <td>206403.0</td>\n",
              "    </tr>\n",
              "    <tr>\n",
              "      <th>2020-04-27</th>\n",
              "      <td>981134</td>\n",
              "      <td>4612361</td>\n",
              "      <td>4077</td>\n",
              "      <td>54971.0</td>\n",
              "      <td>104249.0</td>\n",
              "      <td>9655.0</td>\n",
              "      <td>3720.0</td>\n",
              "      <td>4867.0</td>\n",
              "      <td>195.0</td>\n",
              "      <td>121609.0</td>\n",
              "      <td>50327</td>\n",
              "      <td>104249.0</td>\n",
              "      <td>5597572</td>\n",
              "      <td>5593495.0</td>\n",
              "      <td>5593495.0</td>\n",
              "      <td>1163.0</td>\n",
              "      <td>3307.0</td>\n",
              "      <td>168567.0</td>\n",
              "      <td>21876.0</td>\n",
              "      <td>190443.0</td>\n",
              "    </tr>\n",
              "    <tr>\n",
              "      <th>2020-04-28</th>\n",
              "      <td>1005592</td>\n",
              "      <td>4790136</td>\n",
              "      <td>4206</td>\n",
              "      <td>54940.0</td>\n",
              "      <td>106308.0</td>\n",
              "      <td>9491.0</td>\n",
              "      <td>3798.0</td>\n",
              "      <td>4760.0</td>\n",
              "      <td>195.0</td>\n",
              "      <td>139342.0</td>\n",
              "      <td>52525</td>\n",
              "      <td>106308.0</td>\n",
              "      <td>5799934</td>\n",
              "      <td>5795728.0</td>\n",
              "      <td>5795728.0</td>\n",
              "      <td>2198.0</td>\n",
              "      <td>2059.0</td>\n",
              "      <td>177775.0</td>\n",
              "      <td>24458.0</td>\n",
              "      <td>202233.0</td>\n",
              "    </tr>\n",
              "  </tbody>\n",
              "</table>\n",
              "</div>"
            ],
            "text/plain": [
              "            positive  negative  ...  positiveIncrease  totalTestResultsIncrease\n",
              "date                            ...                                            \n",
              "2020-04-24    896306   4029087  ...           34518.0                  232225.0\n",
              "2020-04-25    932242   4264407  ...           35936.0                  271256.0\n",
              "2020-04-26    959258   4443794  ...           27016.0                  206403.0\n",
              "2020-04-27    981134   4612361  ...           21876.0                  190443.0\n",
              "2020-04-28   1005592   4790136  ...           24458.0                  202233.0\n",
              "\n",
              "[5 rows x 20 columns]"
            ]
          },
          "metadata": {
            "tags": []
          },
          "execution_count": 11
        }
      ]
    },
    {
      "cell_type": "code",
      "metadata": {
        "id": "bjpo-qlGoA7A",
        "colab_type": "code",
        "outputId": "22a3db3d-d654-4fe0-9682-e7932acb1449",
        "colab": {
          "base_uri": "https://localhost:8080/",
          "height": 335
        }
      },
      "source": [
        "gbCA.sum()[-5:]"
      ],
      "execution_count": 12,
      "outputs": [
        {
          "output_type": "execute_result",
          "data": {
            "text/html": [
              "<div>\n",
              "<style scoped>\n",
              "    .dataframe tbody tr th:only-of-type {\n",
              "        vertical-align: middle;\n",
              "    }\n",
              "\n",
              "    .dataframe tbody tr th {\n",
              "        vertical-align: top;\n",
              "    }\n",
              "\n",
              "    .dataframe thead th {\n",
              "        text-align: right;\n",
              "    }\n",
              "</style>\n",
              "<table border=\"1\" class=\"dataframe\">\n",
              "  <thead>\n",
              "    <tr style=\"text-align: right;\">\n",
              "      <th></th>\n",
              "      <th>positive</th>\n",
              "      <th>negative</th>\n",
              "      <th>pending</th>\n",
              "      <th>hospitalizedCurrently</th>\n",
              "      <th>hospitalizedCumulative</th>\n",
              "      <th>inIcuCurrently</th>\n",
              "      <th>inIcuCumulative</th>\n",
              "      <th>onVentilatorCurrently</th>\n",
              "      <th>onVentilatorCumulative</th>\n",
              "      <th>recovered</th>\n",
              "      <th>death</th>\n",
              "      <th>hospitalized</th>\n",
              "      <th>total</th>\n",
              "      <th>totalTestResults</th>\n",
              "      <th>posNeg</th>\n",
              "      <th>deathIncrease</th>\n",
              "      <th>hospitalizedIncrease</th>\n",
              "      <th>negativeIncrease</th>\n",
              "      <th>positiveIncrease</th>\n",
              "      <th>totalTestResultsIncrease</th>\n",
              "    </tr>\n",
              "    <tr>\n",
              "      <th>date</th>\n",
              "      <th></th>\n",
              "      <th></th>\n",
              "      <th></th>\n",
              "      <th></th>\n",
              "      <th></th>\n",
              "      <th></th>\n",
              "      <th></th>\n",
              "      <th></th>\n",
              "      <th></th>\n",
              "      <th></th>\n",
              "      <th></th>\n",
              "      <th></th>\n",
              "      <th></th>\n",
              "      <th></th>\n",
              "      <th></th>\n",
              "      <th></th>\n",
              "      <th></th>\n",
              "      <th></th>\n",
              "      <th></th>\n",
              "      <th></th>\n",
              "    </tr>\n",
              "  </thead>\n",
              "  <tbody>\n",
              "    <tr>\n",
              "      <th>2020-04-24</th>\n",
              "      <td>39254</td>\n",
              "      <td>454919</td>\n",
              "      <td>0</td>\n",
              "      <td>4880.0</td>\n",
              "      <td>0.0</td>\n",
              "      <td>1521.0</td>\n",
              "      <td>0.0</td>\n",
              "      <td>0.0</td>\n",
              "      <td>0.0</td>\n",
              "      <td>0.0</td>\n",
              "      <td>1562</td>\n",
              "      <td>0.0</td>\n",
              "      <td>494173</td>\n",
              "      <td>494173.0</td>\n",
              "      <td>494173.0</td>\n",
              "      <td>93.0</td>\n",
              "      <td>0.0</td>\n",
              "      <td>10191.0</td>\n",
              "      <td>1885.0</td>\n",
              "      <td>12076.0</td>\n",
              "    </tr>\n",
              "    <tr>\n",
              "      <th>2020-04-25</th>\n",
              "      <td>41137</td>\n",
              "      <td>464898</td>\n",
              "      <td>0</td>\n",
              "      <td>4847.0</td>\n",
              "      <td>0.0</td>\n",
              "      <td>1458.0</td>\n",
              "      <td>0.0</td>\n",
              "      <td>0.0</td>\n",
              "      <td>0.0</td>\n",
              "      <td>0.0</td>\n",
              "      <td>1651</td>\n",
              "      <td>0.0</td>\n",
              "      <td>506035</td>\n",
              "      <td>506035.0</td>\n",
              "      <td>506035.0</td>\n",
              "      <td>89.0</td>\n",
              "      <td>0.0</td>\n",
              "      <td>9979.0</td>\n",
              "      <td>1883.0</td>\n",
              "      <td>11862.0</td>\n",
              "    </tr>\n",
              "    <tr>\n",
              "      <th>2020-04-26</th>\n",
              "      <td>42164</td>\n",
              "      <td>483920</td>\n",
              "      <td>0</td>\n",
              "      <td>4928.0</td>\n",
              "      <td>0.0</td>\n",
              "      <td>1473.0</td>\n",
              "      <td>0.0</td>\n",
              "      <td>0.0</td>\n",
              "      <td>0.0</td>\n",
              "      <td>0.0</td>\n",
              "      <td>1710</td>\n",
              "      <td>0.0</td>\n",
              "      <td>526084</td>\n",
              "      <td>526084.0</td>\n",
              "      <td>526084.0</td>\n",
              "      <td>59.0</td>\n",
              "      <td>0.0</td>\n",
              "      <td>19022.0</td>\n",
              "      <td>1027.0</td>\n",
              "      <td>20049.0</td>\n",
              "    </tr>\n",
              "    <tr>\n",
              "      <th>2020-04-27</th>\n",
              "      <td>43464</td>\n",
              "      <td>509945</td>\n",
              "      <td>0</td>\n",
              "      <td>4878.0</td>\n",
              "      <td>0.0</td>\n",
              "      <td>1499.0</td>\n",
              "      <td>0.0</td>\n",
              "      <td>0.0</td>\n",
              "      <td>0.0</td>\n",
              "      <td>0.0</td>\n",
              "      <td>1755</td>\n",
              "      <td>0.0</td>\n",
              "      <td>553409</td>\n",
              "      <td>553409.0</td>\n",
              "      <td>553409.0</td>\n",
              "      <td>45.0</td>\n",
              "      <td>0.0</td>\n",
              "      <td>26025.0</td>\n",
              "      <td>1300.0</td>\n",
              "      <td>27325.0</td>\n",
              "    </tr>\n",
              "    <tr>\n",
              "      <th>2020-04-28</th>\n",
              "      <td>45031</td>\n",
              "      <td>532577</td>\n",
              "      <td>0</td>\n",
              "      <td>4983.0</td>\n",
              "      <td>0.0</td>\n",
              "      <td>1485.0</td>\n",
              "      <td>0.0</td>\n",
              "      <td>0.0</td>\n",
              "      <td>0.0</td>\n",
              "      <td>0.0</td>\n",
              "      <td>1809</td>\n",
              "      <td>0.0</td>\n",
              "      <td>577608</td>\n",
              "      <td>577608.0</td>\n",
              "      <td>577608.0</td>\n",
              "      <td>54.0</td>\n",
              "      <td>0.0</td>\n",
              "      <td>22632.0</td>\n",
              "      <td>1567.0</td>\n",
              "      <td>24199.0</td>\n",
              "    </tr>\n",
              "  </tbody>\n",
              "</table>\n",
              "</div>"
            ],
            "text/plain": [
              "            positive  negative  ...  positiveIncrease  totalTestResultsIncrease\n",
              "date                            ...                                            \n",
              "2020-04-24     39254    454919  ...            1885.0                   12076.0\n",
              "2020-04-25     41137    464898  ...            1883.0                   11862.0\n",
              "2020-04-26     42164    483920  ...            1027.0                   20049.0\n",
              "2020-04-27     43464    509945  ...            1300.0                   27325.0\n",
              "2020-04-28     45031    532577  ...            1567.0                   24199.0\n",
              "\n",
              "[5 rows x 20 columns]"
            ]
          },
          "metadata": {
            "tags": []
          },
          "execution_count": 12
        }
      ]
    },
    {
      "cell_type": "code",
      "metadata": {
        "id": "916a0sCVdNRQ",
        "colab_type": "code",
        "outputId": "6d47979e-ddb1-4b02-dd51-60cc456ec49d",
        "colab": {
          "base_uri": "https://localhost:8080/",
          "height": 302
        }
      },
      "source": [
        "x=gbUSA.sum().loc[:, ['positive', 'negative','death','total']].plot.line()"
      ],
      "execution_count": 13,
      "outputs": [
        {
          "output_type": "display_data",
          "data": {
            "image/png": "[encoded data removed]",
            "text/plain": [
              "<Figure size 432x288 with 1 Axes>"
            ]
          },
          "metadata": {
            "tags": [],
            "needs_background": "light"
          }
        }
      ]
    },
    {
      "cell_type": "code",
      "metadata": {
        "id": "WewkySHXaLc4",
        "colab_type": "code",
        "outputId": "10ca9544-ef16-45d9-cc28-19d4729a2437",
        "colab": {
          "base_uri": "https://localhost:8080/",
          "height": 498
        }
      },
      "source": [
        "dfWHO[-14:]"
      ],
      "execution_count": 14,
      "outputs": [
        {
          "output_type": "execute_result",
          "data": {
            "text/html": [
              "<div>\n",
              "<style scoped>\n",
              "    .dataframe tbody tr th:only-of-type {\n",
              "        vertical-align: middle;\n",
              "    }\n",
              "\n",
              "    .dataframe tbody tr th {\n",
              "        vertical-align: top;\n",
              "    }\n",
              "\n",
              "    .dataframe thead th {\n",
              "        text-align: right;\n",
              "    }\n",
              "</style>\n",
              "<table border=\"1\" class=\"dataframe\">\n",
              "  <thead>\n",
              "    <tr style=\"text-align: right;\">\n",
              "      <th></th>\n",
              "      <th>confirmed</th>\n",
              "      <th>who_deaths</th>\n",
              "    </tr>\n",
              "    <tr>\n",
              "      <th>date</th>\n",
              "      <th></th>\n",
              "      <th></th>\n",
              "    </tr>\n",
              "  </thead>\n",
              "  <tbody>\n",
              "    <tr>\n",
              "      <th>2020-04-15</th>\n",
              "      <td>578268</td>\n",
              "      <td>23476</td>\n",
              "    </tr>\n",
              "    <tr>\n",
              "      <th>2020-04-16</th>\n",
              "      <td>604070</td>\n",
              "      <td>25871</td>\n",
              "    </tr>\n",
              "    <tr>\n",
              "      <th>2020-04-17</th>\n",
              "      <td>632781</td>\n",
              "      <td>28221</td>\n",
              "    </tr>\n",
              "    <tr>\n",
              "      <th>2020-04-18</th>\n",
              "      <td>665330</td>\n",
              "      <td>30384</td>\n",
              "    </tr>\n",
              "    <tr>\n",
              "      <th>2020-04-19</th>\n",
              "      <td>695353</td>\n",
              "      <td>32427</td>\n",
              "    </tr>\n",
              "    <tr>\n",
              "      <th>2020-04-20</th>\n",
              "      <td>723605</td>\n",
              "      <td>34203</td>\n",
              "    </tr>\n",
              "    <tr>\n",
              "      <th>2020-04-21</th>\n",
              "      <td>751273</td>\n",
              "      <td>35884</td>\n",
              "    </tr>\n",
              "    <tr>\n",
              "      <th>2020-04-22</th>\n",
              "      <td>776907</td>\n",
              "      <td>37602</td>\n",
              "    </tr>\n",
              "    <tr>\n",
              "      <th>2020-04-23</th>\n",
              "      <td>800926</td>\n",
              "      <td>40073</td>\n",
              "    </tr>\n",
              "    <tr>\n",
              "      <th>2020-04-24</th>\n",
              "      <td>830053</td>\n",
              "      <td>42311</td>\n",
              "    </tr>\n",
              "    <tr>\n",
              "      <th>2020-04-25</th>\n",
              "      <td>860772</td>\n",
              "      <td>44053</td>\n",
              "    </tr>\n",
              "    <tr>\n",
              "      <th>2020-04-26</th>\n",
              "      <td>899281</td>\n",
              "      <td>46204</td>\n",
              "    </tr>\n",
              "    <tr>\n",
              "      <th>2020-04-27</th>\n",
              "      <td>931698</td>\n",
              "      <td>47980</td>\n",
              "    </tr>\n",
              "    <tr>\n",
              "      <th>2020-04-28</th>\n",
              "      <td>960916</td>\n",
              "      <td>49170</td>\n",
              "    </tr>\n",
              "  </tbody>\n",
              "</table>\n",
              "</div>"
            ],
            "text/plain": [
              "            confirmed  who_deaths\n",
              "date                             \n",
              "2020-04-15     578268       23476\n",
              "2020-04-16     604070       25871\n",
              "2020-04-17     632781       28221\n",
              "2020-04-18     665330       30384\n",
              "2020-04-19     695353       32427\n",
              "2020-04-20     723605       34203\n",
              "2020-04-21     751273       35884\n",
              "2020-04-22     776907       37602\n",
              "2020-04-23     800926       40073\n",
              "2020-04-24     830053       42311\n",
              "2020-04-25     860772       44053\n",
              "2020-04-26     899281       46204\n",
              "2020-04-27     931698       47980\n",
              "2020-04-28     960916       49170"
            ]
          },
          "metadata": {
            "tags": []
          },
          "execution_count": 14
        }
      ]
    },
    {
      "cell_type": "code",
      "metadata": {
        "id": "Ftv2uSph2y7_",
        "colab_type": "code",
        "outputId": "87b21a8c-9026-4b36-f7ef-1da285d1901a",
        "colab": {
          "base_uri": "https://localhost:8080/",
          "height": 320
        }
      },
      "source": [
        "dfResults = gbUSA.sum().join(dfWHO, how='left', rsuffix='_who' )\n",
        "dfResults.loc[:, ['positive', 'confirmed']].plot.line()"
      ],
      "execution_count": 15,
      "outputs": [
        {
          "output_type": "execute_result",
          "data": {
            "text/plain": [
              "<matplotlib.axes._subplots.AxesSubplot at 0x7f8f20052518>"
            ]
          },
          "metadata": {
            "tags": []
          },
          "execution_count": 15
        },
        {
          "output_type": "display_data",
          "data": {
            "image/png": "[encoded data removed]",
            "text/plain": [
              "<Figure size 432x288 with 1 Axes>"
            ]
          },
          "metadata": {
            "tags": [],
            "needs_background": "light"
          }
        }
      ]
    },
    {
      "cell_type": "code",
      "metadata": {
        "id": "DTXXmezEHYPV",
        "colab_type": "code",
        "colab": {}
      },
      "source": [
        ""
      ],
      "execution_count": 0,
      "outputs": []
    },
    {
      "cell_type": "code",
      "metadata": {
        "colab_type": "code",
        "id": "55lq16z8w_Ec",
        "outputId": "ed3d48ac-5986-453e-b0df-dbf771884775",
        "colab": {
          "base_uri": "https://localhost:8080/",
          "height": 429
        }
      },
      "source": [
        "gbCA.sum()[-7:]"
      ],
      "execution_count": 16,
      "outputs": [
        {
          "output_type": "execute_result",
          "data": {
            "text/html": [
              "<div>\n",
              "<style scoped>\n",
              "    .dataframe tbody tr th:only-of-type {\n",
              "        vertical-align: middle;\n",
              "    }\n",
              "\n",
              "    .dataframe tbody tr th {\n",
              "        vertical-align: top;\n",
              "    }\n",
              "\n",
              "    .dataframe thead th {\n",
              "        text-align: right;\n",
              "    }\n",
              "</style>\n",
              "<table border=\"1\" class=\"dataframe\">\n",
              "  <thead>\n",
              "    <tr style=\"text-align: right;\">\n",
              "      <th></th>\n",
              "      <th>positive</th>\n",
              "      <th>negative</th>\n",
              "      <th>pending</th>\n",
              "      <th>hospitalizedCurrently</th>\n",
              "      <th>hospitalizedCumulative</th>\n",
              "      <th>inIcuCurrently</th>\n",
              "      <th>inIcuCumulative</th>\n",
              "      <th>onVentilatorCurrently</th>\n",
              "      <th>onVentilatorCumulative</th>\n",
              "      <th>recovered</th>\n",
              "      <th>death</th>\n",
              "      <th>hospitalized</th>\n",
              "      <th>total</th>\n",
              "      <th>totalTestResults</th>\n",
              "      <th>posNeg</th>\n",
              "      <th>deathIncrease</th>\n",
              "      <th>hospitalizedIncrease</th>\n",
              "      <th>negativeIncrease</th>\n",
              "      <th>positiveIncrease</th>\n",
              "      <th>totalTestResultsIncrease</th>\n",
              "    </tr>\n",
              "    <tr>\n",
              "      <th>date</th>\n",
              "      <th></th>\n",
              "      <th></th>\n",
              "      <th></th>\n",
              "      <th></th>\n",
              "      <th></th>\n",
              "      <th></th>\n",
              "      <th></th>\n",
              "      <th></th>\n",
              "      <th></th>\n",
              "      <th></th>\n",
              "      <th></th>\n",
              "      <th></th>\n",
              "      <th></th>\n",
              "      <th></th>\n",
              "      <th></th>\n",
              "      <th></th>\n",
              "      <th></th>\n",
              "      <th></th>\n",
              "      <th></th>\n",
              "      <th></th>\n",
              "    </tr>\n",
              "  </thead>\n",
              "  <tbody>\n",
              "    <tr>\n",
              "      <th>2020-04-22</th>\n",
              "      <td>35396</td>\n",
              "      <td>429931</td>\n",
              "      <td>0</td>\n",
              "      <td>4984.0</td>\n",
              "      <td>0.0</td>\n",
              "      <td>1551.0</td>\n",
              "      <td>0.0</td>\n",
              "      <td>0.0</td>\n",
              "      <td>0.0</td>\n",
              "      <td>0.0</td>\n",
              "      <td>1354</td>\n",
              "      <td>0.0</td>\n",
              "      <td>465327</td>\n",
              "      <td>465327.0</td>\n",
              "      <td>465327.0</td>\n",
              "      <td>86.0</td>\n",
              "      <td>0.0</td>\n",
              "      <td>163092.0</td>\n",
              "      <td>2135.0</td>\n",
              "      <td>165227.0</td>\n",
              "    </tr>\n",
              "    <tr>\n",
              "      <th>2020-04-23</th>\n",
              "      <td>37369</td>\n",
              "      <td>444728</td>\n",
              "      <td>0</td>\n",
              "      <td>4929.0</td>\n",
              "      <td>0.0</td>\n",
              "      <td>1531.0</td>\n",
              "      <td>0.0</td>\n",
              "      <td>0.0</td>\n",
              "      <td>0.0</td>\n",
              "      <td>0.0</td>\n",
              "      <td>1469</td>\n",
              "      <td>0.0</td>\n",
              "      <td>482097</td>\n",
              "      <td>482097.0</td>\n",
              "      <td>482097.0</td>\n",
              "      <td>115.0</td>\n",
              "      <td>0.0</td>\n",
              "      <td>14797.0</td>\n",
              "      <td>1973.0</td>\n",
              "      <td>16770.0</td>\n",
              "    </tr>\n",
              "    <tr>\n",
              "      <th>2020-04-24</th>\n",
              "      <td>39254</td>\n",
              "      <td>454919</td>\n",
              "      <td>0</td>\n",
              "      <td>4880.0</td>\n",
              "      <td>0.0</td>\n",
              "      <td>1521.0</td>\n",
              "      <td>0.0</td>\n",
              "      <td>0.0</td>\n",
              "      <td>0.0</td>\n",
              "      <td>0.0</td>\n",
              "      <td>1562</td>\n",
              "      <td>0.0</td>\n",
              "      <td>494173</td>\n",
              "      <td>494173.0</td>\n",
              "      <td>494173.0</td>\n",
              "      <td>93.0</td>\n",
              "      <td>0.0</td>\n",
              "      <td>10191.0</td>\n",
              "      <td>1885.0</td>\n",
              "      <td>12076.0</td>\n",
              "    </tr>\n",
              "    <tr>\n",
              "      <th>2020-04-25</th>\n",
              "      <td>41137</td>\n",
              "      <td>464898</td>\n",
              "      <td>0</td>\n",
              "      <td>4847.0</td>\n",
              "      <td>0.0</td>\n",
              "      <td>1458.0</td>\n",
              "      <td>0.0</td>\n",
              "      <td>0.0</td>\n",
              "      <td>0.0</td>\n",
              "      <td>0.0</td>\n",
              "      <td>1651</td>\n",
              "      <td>0.0</td>\n",
              "      <td>506035</td>\n",
              "      <td>506035.0</td>\n",
              "      <td>506035.0</td>\n",
              "      <td>89.0</td>\n",
              "      <td>0.0</td>\n",
              "      <td>9979.0</td>\n",
              "      <td>1883.0</td>\n",
              "      <td>11862.0</td>\n",
              "    </tr>\n",
              "    <tr>\n",
              "      <th>2020-04-26</th>\n",
              "      <td>42164</td>\n",
              "      <td>483920</td>\n",
              "      <td>0</td>\n",
              "      <td>4928.0</td>\n",
              "      <td>0.0</td>\n",
              "      <td>1473.0</td>\n",
              "      <td>0.0</td>\n",
              "      <td>0.0</td>\n",
              "      <td>0.0</td>\n",
              "      <td>0.0</td>\n",
              "      <td>1710</td>\n",
              "      <td>0.0</td>\n",
              "      <td>526084</td>\n",
              "      <td>526084.0</td>\n",
              "      <td>526084.0</td>\n",
              "      <td>59.0</td>\n",
              "      <td>0.0</td>\n",
              "      <td>19022.0</td>\n",
              "      <td>1027.0</td>\n",
              "      <td>20049.0</td>\n",
              "    </tr>\n",
              "    <tr>\n",
              "      <th>2020-04-27</th>\n",
              "      <td>43464</td>\n",
              "      <td>509945</td>\n",
              "      <td>0</td>\n",
              "      <td>4878.0</td>\n",
              "      <td>0.0</td>\n",
              "      <td>1499.0</td>\n",
              "      <td>0.0</td>\n",
              "      <td>0.0</td>\n",
              "      <td>0.0</td>\n",
              "      <td>0.0</td>\n",
              "      <td>1755</td>\n",
              "      <td>0.0</td>\n",
              "      <td>553409</td>\n",
              "      <td>553409.0</td>\n",
              "      <td>553409.0</td>\n",
              "      <td>45.0</td>\n",
              "      <td>0.0</td>\n",
              "      <td>26025.0</td>\n",
              "      <td>1300.0</td>\n",
              "      <td>27325.0</td>\n",
              "    </tr>\n",
              "    <tr>\n",
              "      <th>2020-04-28</th>\n",
              "      <td>45031</td>\n",
              "      <td>532577</td>\n",
              "      <td>0</td>\n",
              "      <td>4983.0</td>\n",
              "      <td>0.0</td>\n",
              "      <td>1485.0</td>\n",
              "      <td>0.0</td>\n",
              "      <td>0.0</td>\n",
              "      <td>0.0</td>\n",
              "      <td>0.0</td>\n",
              "      <td>1809</td>\n",
              "      <td>0.0</td>\n",
              "      <td>577608</td>\n",
              "      <td>577608.0</td>\n",
              "      <td>577608.0</td>\n",
              "      <td>54.0</td>\n",
              "      <td>0.0</td>\n",
              "      <td>22632.0</td>\n",
              "      <td>1567.0</td>\n",
              "      <td>24199.0</td>\n",
              "    </tr>\n",
              "  </tbody>\n",
              "</table>\n",
              "</div>"
            ],
            "text/plain": [
              "            positive  negative  ...  positiveIncrease  totalTestResultsIncrease\n",
              "date                            ...                                            \n",
              "2020-04-22     35396    429931  ...            2135.0                  165227.0\n",
              "2020-04-23     37369    444728  ...            1973.0                   16770.0\n",
              "2020-04-24     39254    454919  ...            1885.0                   12076.0\n",
              "2020-04-25     41137    464898  ...            1883.0                   11862.0\n",
              "2020-04-26     42164    483920  ...            1027.0                   20049.0\n",
              "2020-04-27     43464    509945  ...            1300.0                   27325.0\n",
              "2020-04-28     45031    532577  ...            1567.0                   24199.0\n",
              "\n",
              "[7 rows x 20 columns]"
            ]
          },
          "metadata": {
            "tags": []
          },
          "execution_count": 16
        }
      ]
    },
    {
      "cell_type": "code",
      "metadata": {
        "id": "3WBkdfv2eLEc",
        "colab_type": "code",
        "outputId": "f289e230-fc1d-4fdd-c36b-275f11660c59",
        "colab": {
          "base_uri": "https://localhost:8080/",
          "height": 72
        }
      },
      "source": [
        "dfJHUData[dfJHUData.country=='US'][['confirmed', 'dead']].sum()"
      ],
      "execution_count": 17,
      "outputs": [
        {
          "output_type": "execute_result",
          "data": {
            "text/plain": [
              "confirmed    1012582\n",
              "dead           58355\n",
              "dtype: int64"
            ]
          },
          "metadata": {
            "tags": []
          },
          "execution_count": 17
        }
      ]
    },
    {
      "cell_type": "code",
      "metadata": {
        "id": "NUQ35Inse05H",
        "colab_type": "code",
        "outputId": "cab14506-818e-49e9-93c8-19b4413c2441",
        "colab": {
          "base_uri": "https://localhost:8080/",
          "height": 72
        }
      },
      "source": [
        "dfJHUData[(dfJHUData.country=='US')&(dfJHUData.state=='California')][['confirmed', 'dead']].sum()"
      ],
      "execution_count": 18,
      "outputs": [
        {
          "output_type": "execute_result",
          "data": {
            "text/plain": [
              "confirmed    46164\n",
              "dead          1864\n",
              "dtype: int64"
            ]
          },
          "metadata": {
            "tags": []
          },
          "execution_count": 18
        }
      ]
    },
    {
      "cell_type": "code",
      "metadata": {
        "id": "H0JVVTFGfMOW",
        "colab_type": "code",
        "colab": {}
      },
      "source": [
        "dfJHUUS = dfJHUData[dfJHUData.country=='US']\n",
        "gbJHUByState= dfJHUUS.groupby(by='state')\n",
        "gbJHUByCountry = dfJHUData.groupby(by='country')"
      ],
      "execution_count": 0,
      "outputs": []
    },
    {
      "cell_type": "code",
      "metadata": {
        "id": "W8qWd0AYmg58",
        "colab_type": "code",
        "outputId": "0f9fcb1d-7d8f-4714-eefb-ee642d830115",
        "colab": {
          "base_uri": "https://localhost:8080/",
          "height": 235
        }
      },
      "source": [
        "gbJHUByCountry.confirmed.sum().sort_values(ascending=False).head(10)"
      ],
      "execution_count": 20,
      "outputs": [
        {
          "output_type": "execute_result",
          "data": {
            "text/plain": [
              "country\n",
              "US                1012582\n",
              "Spain              232128\n",
              "Italy              201505\n",
              "France             169053\n",
              "United Kingdom     162350\n",
              "Germany            159912\n",
              "Turkey             114653\n",
              "Russia              93558\n",
              "Iran                92584\n",
              "China               83940\n",
              "Name: confirmed, dtype: int64"
            ]
          },
          "metadata": {
            "tags": []
          },
          "execution_count": 20
        }
      ]
    },
    {
      "cell_type": "code",
      "metadata": {
        "id": "9crIlvPH4oSU",
        "colab_type": "code",
        "colab": {}
      },
      "source": [
        "dfData = dfCovidtracking.groupby('date')"
      ],
      "execution_count": 0,
      "outputs": []
    },
    {
      "cell_type": "code",
      "metadata": {
        "id": "SjlCtiOt2b__",
        "colab_type": "code",
        "colab": {}
      },
      "source": [
        "dfStateTotal = dfCovidtracking[['state', 'positive']].groupby(by='state').max() \\\n",
        ".rename(columns={'positive':'current_total'})\n"
      ],
      "execution_count": 0,
      "outputs": []
    },
    {
      "cell_type": "code",
      "metadata": {
        "id": "iPsfvvHC2_j1",
        "colab_type": "code",
        "colab": {}
      },
      "source": [
        "dfState = dfCovidtracking[['date','state','positive', 'death']].set_index('state') \\\n",
        "  .join(dfStateTotal)"
      ],
      "execution_count": 0,
      "outputs": []
    },
    {
      "cell_type": "code",
      "metadata": {
        "id": "AkxH55Mx5yE6",
        "colab_type": "code",
        "colab": {}
      },
      "source": [
        "dfState['pct']=dfState.positive/dfState.current_total"
      ],
      "execution_count": 0,
      "outputs": []
    },
    {
      "cell_type": "code",
      "metadata": {
        "id": "PKQ2rgz76XZR",
        "colab_type": "code",
        "outputId": "da141eab-78ad-4f17-97dd-2562769ff940",
        "colab": {
          "base_uri": "https://localhost:8080/",
          "height": 288
        }
      },
      "source": [
        "dfState.loc['FL'].head(7)"
      ],
      "execution_count": 25,
      "outputs": [
        {
          "output_type": "execute_result",
          "data": {
            "text/html": [
              "<div>\n",
              "<style scoped>\n",
              "    .dataframe tbody tr th:only-of-type {\n",
              "        vertical-align: middle;\n",
              "    }\n",
              "\n",
              "    .dataframe tbody tr th {\n",
              "        vertical-align: top;\n",
              "    }\n",
              "\n",
              "    .dataframe thead th {\n",
              "        text-align: right;\n",
              "    }\n",
              "</style>\n",
              "<table border=\"1\" class=\"dataframe\">\n",
              "  <thead>\n",
              "    <tr style=\"text-align: right;\">\n",
              "      <th></th>\n",
              "      <th>date</th>\n",
              "      <th>positive</th>\n",
              "      <th>death</th>\n",
              "      <th>current_total</th>\n",
              "      <th>pct</th>\n",
              "    </tr>\n",
              "    <tr>\n",
              "      <th>state</th>\n",
              "      <th></th>\n",
              "      <th></th>\n",
              "      <th></th>\n",
              "      <th></th>\n",
              "      <th></th>\n",
              "    </tr>\n",
              "  </thead>\n",
              "  <tbody>\n",
              "    <tr>\n",
              "      <th>FL</th>\n",
              "      <td>2020-04-28</td>\n",
              "      <td>32846</td>\n",
              "      <td>1154</td>\n",
              "      <td>32846</td>\n",
              "      <td>1.000000</td>\n",
              "    </tr>\n",
              "    <tr>\n",
              "      <th>FL</th>\n",
              "      <td>2020-04-27</td>\n",
              "      <td>32138</td>\n",
              "      <td>1101</td>\n",
              "      <td>32846</td>\n",
              "      <td>0.978445</td>\n",
              "    </tr>\n",
              "    <tr>\n",
              "      <th>FL</th>\n",
              "      <td>2020-04-26</td>\n",
              "      <td>31528</td>\n",
              "      <td>1094</td>\n",
              "      <td>32846</td>\n",
              "      <td>0.959873</td>\n",
              "    </tr>\n",
              "    <tr>\n",
              "      <th>FL</th>\n",
              "      <td>2020-04-25</td>\n",
              "      <td>30839</td>\n",
              "      <td>1075</td>\n",
              "      <td>32846</td>\n",
              "      <td>0.938897</td>\n",
              "    </tr>\n",
              "    <tr>\n",
              "      <th>FL</th>\n",
              "      <td>2020-04-24</td>\n",
              "      <td>30174</td>\n",
              "      <td>1031</td>\n",
              "      <td>32846</td>\n",
              "      <td>0.918651</td>\n",
              "    </tr>\n",
              "    <tr>\n",
              "      <th>FL</th>\n",
              "      <td>2020-04-23</td>\n",
              "      <td>28832</td>\n",
              "      <td>979</td>\n",
              "      <td>32846</td>\n",
              "      <td>0.877793</td>\n",
              "    </tr>\n",
              "    <tr>\n",
              "      <th>FL</th>\n",
              "      <td>2020-04-22</td>\n",
              "      <td>28309</td>\n",
              "      <td>910</td>\n",
              "      <td>32846</td>\n",
              "      <td>0.861871</td>\n",
              "    </tr>\n",
              "  </tbody>\n",
              "</table>\n",
              "</div>"
            ],
            "text/plain": [
              "            date  positive  death  current_total       pct\n",
              "state                                                     \n",
              "FL    2020-04-28     32846   1154          32846  1.000000\n",
              "FL    2020-04-27     32138   1101          32846  0.978445\n",
              "FL    2020-04-26     31528   1094          32846  0.959873\n",
              "FL    2020-04-25     30839   1075          32846  0.938897\n",
              "FL    2020-04-24     30174   1031          32846  0.918651\n",
              "FL    2020-04-23     28832    979          32846  0.877793\n",
              "FL    2020-04-22     28309    910          32846  0.861871"
            ]
          },
          "metadata": {
            "tags": []
          },
          "execution_count": 25
        }
      ]
    },
    {
      "cell_type": "code",
      "metadata": {
        "id": "dkgVF6Q19glV",
        "colab_type": "code",
        "colab": {}
      },
      "source": [
        "res = dfState.reset_index().pivot(index = 'date', columns='state', values='pct').fillna(0)"
      ],
      "execution_count": 0,
      "outputs": []
    },
    {
      "cell_type": "code",
      "metadata": {
        "id": "w1ml4KC6BF7q",
        "colab_type": "code",
        "outputId": "4e4cf00e-01a7-43ab-8e02-a706af78ecea",
        "colab": {
          "base_uri": "https://localhost:8080/",
          "height": 291
        }
      },
      "source": [
        "x = res.loc[:, ['CA','FL']].plot.line()"
      ],
      "execution_count": 27,
      "outputs": [
        {
          "output_type": "display_data",
          "data": {
            "image/png": "[encoded data removed]",
            "text/plain": [
              "<Figure size 432x288 with 1 Axes>"
            ]
          },
          "metadata": {
            "tags": [],
            "needs_background": "light"
          }
        }
      ]
    },
    {
      "cell_type": "code",
      "metadata": {
        "id": "eaLSwLbuBLY0",
        "colab_type": "code",
        "colab": {}
      },
      "source": [
        "dfNYTesting = dfCovidtracking.loc[dfCovidtracking.state=='NY', ['date', 'negative']].set_index('date')"
      ],
      "execution_count": 0,
      "outputs": []
    },
    {
      "cell_type": "code",
      "metadata": {
        "id": "vhL4WBWECIhP",
        "colab_type": "code",
        "outputId": "40de94f0-67c9-4859-be66-b59987db913c",
        "colab": {
          "base_uri": "https://localhost:8080/",
          "height": 291
        }
      },
      "source": [
        "x = dfCovidtracking.groupby(by='date')\n",
        "#y=x.positive.plot.line()\n",
        "y1=x.sum().deathIncrease.plot.line()"
      ],
      "execution_count": 29,
      "outputs": [
        {
          "output_type": "display_data",
          "data": {
            "image/png": "[encoded data removed]",
            "text/plain": [
              "<Figure size 432x288 with 1 Axes>"
            ]
          },
          "metadata": {
            "tags": [],
            "needs_background": "light"
          }
        }
      ]
    },
    {
      "cell_type": "code",
      "metadata": {
        "id": "NjDtqBrvDRMu",
        "colab_type": "code",
        "colab": {}
      },
      "source": [
        "def getWeek(dt):\n",
        "  return (dt.year*100)+dt.week\n",
        "\n",
        "dfByWeekYear = dfCovidtracking.set_index('date')[['deathIncrease', 'hospitalizedIncrease', 'negativeIncrease','positiveIncrease','totalTestResultsIncrease']].groupby(by=getWeek)\n"
      ],
      "execution_count": 0,
      "outputs": []
    },
    {
      "cell_type": "code",
      "metadata": {
        "id": "QlApKolYEeQk",
        "colab_type": "code",
        "colab": {
          "base_uri": "https://localhost:8080/",
          "height": 518
        },
        "outputId": "fc7d83d7-6195-4791-c99c-f4075c6d33bf"
      },
      "source": [
        "dfByWeekYear.sum()"
      ],
      "execution_count": 31,
      "outputs": [
        {
          "output_type": "execute_result",
          "data": {
            "text/html": [
              "<div>\n",
              "<style scoped>\n",
              "    .dataframe tbody tr th:only-of-type {\n",
              "        vertical-align: middle;\n",
              "    }\n",
              "\n",
              "    .dataframe tbody tr th {\n",
              "        vertical-align: top;\n",
              "    }\n",
              "\n",
              "    .dataframe thead th {\n",
              "        text-align: right;\n",
              "    }\n",
              "</style>\n",
              "<table border=\"1\" class=\"dataframe\">\n",
              "  <thead>\n",
              "    <tr style=\"text-align: right;\">\n",
              "      <th></th>\n",
              "      <th>deathIncrease</th>\n",
              "      <th>hospitalizedIncrease</th>\n",
              "      <th>negativeIncrease</th>\n",
              "      <th>positiveIncrease</th>\n",
              "      <th>totalTestResultsIncrease</th>\n",
              "    </tr>\n",
              "  </thead>\n",
              "  <tbody>\n",
              "    <tr>\n",
              "      <th>202004</th>\n",
              "      <td>0.0</td>\n",
              "      <td>0.0</td>\n",
              "      <td>0.0</td>\n",
              "      <td>0.0</td>\n",
              "      <td>0.0</td>\n",
              "    </tr>\n",
              "    <tr>\n",
              "      <th>202005</th>\n",
              "      <td>0.0</td>\n",
              "      <td>0.0</td>\n",
              "      <td>0.0</td>\n",
              "      <td>0.0</td>\n",
              "      <td>0.0</td>\n",
              "    </tr>\n",
              "    <tr>\n",
              "      <th>202006</th>\n",
              "      <td>0.0</td>\n",
              "      <td>0.0</td>\n",
              "      <td>0.0</td>\n",
              "      <td>1.0</td>\n",
              "      <td>1.0</td>\n",
              "    </tr>\n",
              "    <tr>\n",
              "      <th>202007</th>\n",
              "      <td>0.0</td>\n",
              "      <td>0.0</td>\n",
              "      <td>0.0</td>\n",
              "      <td>0.0</td>\n",
              "      <td>0.0</td>\n",
              "    </tr>\n",
              "    <tr>\n",
              "      <th>202008</th>\n",
              "      <td>0.0</td>\n",
              "      <td>0.0</td>\n",
              "      <td>0.0</td>\n",
              "      <td>0.0</td>\n",
              "      <td>0.0</td>\n",
              "    </tr>\n",
              "    <tr>\n",
              "      <th>202009</th>\n",
              "      <td>8.0</td>\n",
              "      <td>0.0</td>\n",
              "      <td>81.0</td>\n",
              "      <td>28.0</td>\n",
              "      <td>109.0</td>\n",
              "    </tr>\n",
              "    <tr>\n",
              "      <th>202010</th>\n",
              "      <td>23.0</td>\n",
              "      <td>0.0</td>\n",
              "      <td>2821.0</td>\n",
              "      <td>595.0</td>\n",
              "      <td>3416.0</td>\n",
              "    </tr>\n",
              "    <tr>\n",
              "      <th>202011</th>\n",
              "      <td>46.0</td>\n",
              "      <td>0.0</td>\n",
              "      <td>30203.0</td>\n",
              "      <td>4114.0</td>\n",
              "      <td>34317.0</td>\n",
              "    </tr>\n",
              "    <tr>\n",
              "      <th>202012</th>\n",
              "      <td>359.0</td>\n",
              "      <td>2498.0</td>\n",
              "      <td>179297.0</td>\n",
              "      <td>31482.0</td>\n",
              "      <td>210779.0</td>\n",
              "    </tr>\n",
              "    <tr>\n",
              "      <th>202013</th>\n",
              "      <td>2091.0</td>\n",
              "      <td>13766.0</td>\n",
              "      <td>497952.0</td>\n",
              "      <td>107963.0</td>\n",
              "      <td>605915.0</td>\n",
              "    </tr>\n",
              "    <tr>\n",
              "      <th>202014</th>\n",
              "      <td>7187.0</td>\n",
              "      <td>24448.0</td>\n",
              "      <td>744416.0</td>\n",
              "      <td>190421.0</td>\n",
              "      <td>934837.0</td>\n",
              "    </tr>\n",
              "    <tr>\n",
              "      <th>202015</th>\n",
              "      <td>12523.0</td>\n",
              "      <td>22930.0</td>\n",
              "      <td>834613.0</td>\n",
              "      <td>217188.0</td>\n",
              "      <td>1051801.0</td>\n",
              "    </tr>\n",
              "    <tr>\n",
              "      <th>202016</th>\n",
              "      <td>13987.0</td>\n",
              "      <td>21570.0</td>\n",
              "      <td>849680.0</td>\n",
              "      <td>199381.0</td>\n",
              "      <td>1049061.0</td>\n",
              "    </tr>\n",
              "    <tr>\n",
              "      <th>202017</th>\n",
              "      <td>12940.0</td>\n",
              "      <td>18513.0</td>\n",
              "      <td>1303698.0</td>\n",
              "      <td>207971.0</td>\n",
              "      <td>1511669.0</td>\n",
              "    </tr>\n",
              "    <tr>\n",
              "      <th>202018</th>\n",
              "      <td>3361.0</td>\n",
              "      <td>5366.0</td>\n",
              "      <td>346342.0</td>\n",
              "      <td>46334.0</td>\n",
              "      <td>392676.0</td>\n",
              "    </tr>\n",
              "  </tbody>\n",
              "</table>\n",
              "</div>"
            ],
            "text/plain": [
              "        deathIncrease  ...  totalTestResultsIncrease\n",
              "202004            0.0  ...                       0.0\n",
              "202005            0.0  ...                       0.0\n",
              "202006            0.0  ...                       1.0\n",
              "202007            0.0  ...                       0.0\n",
              "202008            0.0  ...                       0.0\n",
              "202009            8.0  ...                     109.0\n",
              "202010           23.0  ...                    3416.0\n",
              "202011           46.0  ...                   34317.0\n",
              "202012          359.0  ...                  210779.0\n",
              "202013         2091.0  ...                  605915.0\n",
              "202014         7187.0  ...                  934837.0\n",
              "202015        12523.0  ...                 1051801.0\n",
              "202016        13987.0  ...                 1049061.0\n",
              "202017        12940.0  ...                 1511669.0\n",
              "202018         3361.0  ...                  392676.0\n",
              "\n",
              "[15 rows x 5 columns]"
            ]
          },
          "metadata": {
            "tags": []
          },
          "execution_count": 31
        }
      ]
    },
    {
      "cell_type": "code",
      "metadata": {
        "id": "1kOc3QH1FpMu",
        "colab_type": "code",
        "colab": {
          "base_uri": "https://localhost:8080/",
          "height": 278
        },
        "outputId": "5debc829-dd5c-462a-fd67-5526d9381caa"
      },
      "source": [
        "plt = dfByWeekYear.sum()[0:-1].deathIncrease.plot.line()"
      ],
      "execution_count": 32,
      "outputs": [
        {
          "output_type": "display_data",
          "data": {
            "image/png": "[encoded data removed]",
            "text/plain": [
              "<Figure size 432x288 with 1 Axes>"
            ]
          },
          "metadata": {
            "tags": [],
            "needs_background": "light"
          }
        }
      ]
    },
    {
      "cell_type": "code",
      "metadata": {
        "id": "c4uuFBTquS3o",
        "colab_type": "code",
        "outputId": "124859d5-65c1-47cf-b101-d75cb2b6a851",
        "colab": {
          "base_uri": "https://localhost:8080/",
          "height": 348
        }
      },
      "source": [
        "dfDates = dfState.reset_index().copy()\n",
        "dfDates[(dfDates.state.isin(['FL']))].head(10)"
      ],
      "execution_count": 33,
      "outputs": [
        {
          "output_type": "execute_result",
          "data": {
            "text/html": [
              "<div>\n",
              "<style scoped>\n",
              "    .dataframe tbody tr th:only-of-type {\n",
              "        vertical-align: middle;\n",
              "    }\n",
              "\n",
              "    .dataframe tbody tr th {\n",
              "        vertical-align: top;\n",
              "    }\n",
              "\n",
              "    .dataframe thead th {\n",
              "        text-align: right;\n",
              "    }\n",
              "</style>\n",
              "<table border=\"1\" class=\"dataframe\">\n",
              "  <thead>\n",
              "    <tr style=\"text-align: right;\">\n",
              "      <th></th>\n",
              "      <th>state</th>\n",
              "      <th>date</th>\n",
              "      <th>positive</th>\n",
              "      <th>death</th>\n",
              "      <th>current_total</th>\n",
              "      <th>pct</th>\n",
              "    </tr>\n",
              "  </thead>\n",
              "  <tbody>\n",
              "    <tr>\n",
              "      <th>534</th>\n",
              "      <td>FL</td>\n",
              "      <td>2020-04-28</td>\n",
              "      <td>32846</td>\n",
              "      <td>1154</td>\n",
              "      <td>32846</td>\n",
              "      <td>1.000000</td>\n",
              "    </tr>\n",
              "    <tr>\n",
              "      <th>535</th>\n",
              "      <td>FL</td>\n",
              "      <td>2020-04-27</td>\n",
              "      <td>32138</td>\n",
              "      <td>1101</td>\n",
              "      <td>32846</td>\n",
              "      <td>0.978445</td>\n",
              "    </tr>\n",
              "    <tr>\n",
              "      <th>536</th>\n",
              "      <td>FL</td>\n",
              "      <td>2020-04-26</td>\n",
              "      <td>31528</td>\n",
              "      <td>1094</td>\n",
              "      <td>32846</td>\n",
              "      <td>0.959873</td>\n",
              "    </tr>\n",
              "    <tr>\n",
              "      <th>537</th>\n",
              "      <td>FL</td>\n",
              "      <td>2020-04-25</td>\n",
              "      <td>30839</td>\n",
              "      <td>1075</td>\n",
              "      <td>32846</td>\n",
              "      <td>0.938897</td>\n",
              "    </tr>\n",
              "    <tr>\n",
              "      <th>538</th>\n",
              "      <td>FL</td>\n",
              "      <td>2020-04-24</td>\n",
              "      <td>30174</td>\n",
              "      <td>1031</td>\n",
              "      <td>32846</td>\n",
              "      <td>0.918651</td>\n",
              "    </tr>\n",
              "    <tr>\n",
              "      <th>539</th>\n",
              "      <td>FL</td>\n",
              "      <td>2020-04-23</td>\n",
              "      <td>28832</td>\n",
              "      <td>979</td>\n",
              "      <td>32846</td>\n",
              "      <td>0.877793</td>\n",
              "    </tr>\n",
              "    <tr>\n",
              "      <th>540</th>\n",
              "      <td>FL</td>\n",
              "      <td>2020-04-22</td>\n",
              "      <td>28309</td>\n",
              "      <td>910</td>\n",
              "      <td>32846</td>\n",
              "      <td>0.861871</td>\n",
              "    </tr>\n",
              "    <tr>\n",
              "      <th>541</th>\n",
              "      <td>FL</td>\n",
              "      <td>2020-04-21</td>\n",
              "      <td>27495</td>\n",
              "      <td>856</td>\n",
              "      <td>32846</td>\n",
              "      <td>0.837088</td>\n",
              "    </tr>\n",
              "    <tr>\n",
              "      <th>542</th>\n",
              "      <td>FL</td>\n",
              "      <td>2020-04-20</td>\n",
              "      <td>26660</td>\n",
              "      <td>806</td>\n",
              "      <td>32846</td>\n",
              "      <td>0.811667</td>\n",
              "    </tr>\n",
              "    <tr>\n",
              "      <th>543</th>\n",
              "      <td>FL</td>\n",
              "      <td>2020-04-19</td>\n",
              "      <td>25996</td>\n",
              "      <td>781</td>\n",
              "      <td>32846</td>\n",
              "      <td>0.791451</td>\n",
              "    </tr>\n",
              "  </tbody>\n",
              "</table>\n",
              "</div>"
            ],
            "text/plain": [
              "    state       date  positive  death  current_total       pct\n",
              "534    FL 2020-04-28     32846   1154          32846  1.000000\n",
              "535    FL 2020-04-27     32138   1101          32846  0.978445\n",
              "536    FL 2020-04-26     31528   1094          32846  0.959873\n",
              "537    FL 2020-04-25     30839   1075          32846  0.938897\n",
              "538    FL 2020-04-24     30174   1031          32846  0.918651\n",
              "539    FL 2020-04-23     28832    979          32846  0.877793\n",
              "540    FL 2020-04-22     28309    910          32846  0.861871\n",
              "541    FL 2020-04-21     27495    856          32846  0.837088\n",
              "542    FL 2020-04-20     26660    806          32846  0.811667\n",
              "543    FL 2020-04-19     25996    781          32846  0.791451"
            ]
          },
          "metadata": {
            "tags": []
          },
          "execution_count": 33
        }
      ]
    },
    {
      "cell_type": "code",
      "metadata": {
        "id": "Puz0PBzemMD3",
        "colab_type": "code",
        "outputId": "a963d761-0530-48ec-9ef5-b2795aaa559d",
        "colab": {
          "base_uri": "https://localhost:8080/",
          "height": 48
        }
      },
      "source": [
        "datecutoff = dfDates.date.max()-datetime.timedelta(days=3)\n",
        "dfDates[(dfDates.date == datecutoff) & (dfDates.pct < .7)].sort_values(by='pct')\n"
      ],
      "execution_count": 34,
      "outputs": [
        {
          "output_type": "execute_result",
          "data": {
            "text/html": [
              "<div>\n",
              "<style scoped>\n",
              "    .dataframe tbody tr th:only-of-type {\n",
              "        vertical-align: middle;\n",
              "    }\n",
              "\n",
              "    .dataframe tbody tr th {\n",
              "        vertical-align: top;\n",
              "    }\n",
              "\n",
              "    .dataframe thead th {\n",
              "        text-align: right;\n",
              "    }\n",
              "</style>\n",
              "<table border=\"1\" class=\"dataframe\">\n",
              "  <thead>\n",
              "    <tr style=\"text-align: right;\">\n",
              "      <th></th>\n",
              "      <th>state</th>\n",
              "      <th>date</th>\n",
              "      <th>positive</th>\n",
              "      <th>death</th>\n",
              "      <th>current_total</th>\n",
              "      <th>pct</th>\n",
              "    </tr>\n",
              "  </thead>\n",
              "  <tbody>\n",
              "  </tbody>\n",
              "</table>\n",
              "</div>"
            ],
            "text/plain": [
              "Empty DataFrame\n",
              "Columns: [state, date, positive, death, current_total, pct]\n",
              "Index: []"
            ]
          },
          "metadata": {
            "tags": []
          },
          "execution_count": 34
        }
      ]
    },
    {
      "cell_type": "code",
      "metadata": {
        "id": "ZmaKzaBnGQwj",
        "colab_type": "code",
        "outputId": "ee76fe4a-a2c6-4bd6-e86e-68bd3b0a7942",
        "colab": {
          "base_uri": "https://localhost:8080/",
          "height": 360
        }
      },
      "source": [
        "state = 'CA'\n",
        "dfState = dfCovidtracking[dfCovidtracking.state==state].sort_values(by='date')\n",
        "vals = dfState.positive.values\n",
        "\n",
        "x=pd.Series([y-x for x,y in zip(vals,vals[1:])], \\\n",
        "          index = dfCovidtracking[dfCovidtracking.state==state]\\\n",
        "          .sort_values(by='date').date.values[1:] ) \\\n",
        "          .plot.bar()\n",
        "\n"
      ],
      "execution_count": 35,
      "outputs": [
        {
          "output_type": "display_data",
          "data": {
            "image/png": "[encoded data removed]",
            "text/plain": [
              "<Figure size 432x288 with 1 Axes>"
            ]
          },
          "metadata": {
            "tags": [],
            "needs_background": "light"
          }
        }
      ]
    },
    {
      "cell_type": "markdown",
      "metadata": {
        "id": "xFA0q8At-4sZ",
        "colab_type": "text"
      },
      "source": [
        "# Added State Data"
      ]
    },
    {
      "cell_type": "code",
      "metadata": {
        "id": "Nlx8_xZ27kvp",
        "colab_type": "code",
        "colab": {}
      },
      "source": [
        "data_url = \"https://www2.census.gov/programs-surveys/popest/datasets/2010-2019/national/totals/nst-est2019-alldata.csv\"\n"
      ],
      "execution_count": 0,
      "outputs": []
    },
    {
      "cell_type": "code",
      "metadata": {
        "id": "Lwz6IJdX_WFx",
        "colab_type": "code",
        "colab": {}
      },
      "source": [
        "dfUSPop = pd.read_csv(data_url)"
      ],
      "execution_count": 0,
      "outputs": []
    },
    {
      "cell_type": "code",
      "metadata": {
        "id": "aU3ZzHS-AkRS",
        "colab_type": "code",
        "outputId": "e3cf0595-df95-431d-e3e2-b2679c5a77e0",
        "colab": {
          "base_uri": "https://localhost:8080/",
          "height": 0
        }
      },
      "source": [
        "us_pop = dfUSPop.loc[0].POPESTIMATE2019 #Estimate from Wikipedia\n",
        "res = dfCovidtracking.loc[dfCovidtracking.date==dfCovidtracking.date.max(), ['positive', 'negative', 'pending','death', 'total']].sum()\n",
        "print(res)\n",
        "print(f\"Current Infection Rate {res.positive/res.total*100:2f}%\")\n",
        "print(f\"Percentage of US affected: {(res.positive+res.death)/us_pop*100:2f}%\")\n",
        "print(f\"Percentage of US tested/affected: {(res.negative+res.positive+res.death)/us_pop*100:2f}%\")"
      ],
      "execution_count": 38,
      "outputs": [
        {
          "output_type": "stream",
          "text": [
            "positive    1005592\n",
            "negative    4790136\n",
            "pending        4206\n",
            "death         52525\n",
            "total       5799934\n",
            "dtype: int64\n",
            "Current Infection Rate 17.337990%\n",
            "Percentage of US affected: 0.322361%\n",
            "Percentage of US tested/affected: 1.781703%\n"
          ],
          "name": "stdout"
        }
      ]
    },
    {
      "cell_type": "code",
      "metadata": {
        "id": "vihKU2ItzKWi",
        "colab_type": "code",
        "colab": {}
      },
      "source": [
        "!if [ ! -d \"loc\" ]; then \\\n",
        "git clone https://gist.github.com/rogerallen/1583593 --depth=1 --quiet loc; \\\n",
        "fi\n",
        "import sys\n",
        "sys.path.append(\"loc\")\n",
        "\n",
        "\n"
      ],
      "execution_count": 0,
      "outputs": []
    },
    {
      "cell_type": "code",
      "metadata": {
        "id": "66JPa3Sv0uH1",
        "colab_type": "code",
        "colab": {}
      },
      "source": [
        "import us_state_abbrev as us_abbr\n"
      ],
      "execution_count": 0,
      "outputs": []
    },
    {
      "cell_type": "code",
      "metadata": {
        "id": "JYnrS2eV2ohs",
        "colab_type": "code",
        "colab": {}
      },
      "source": [
        "dfStatePop = dfUSPop[dfUSPop.STATE != 0].copy()"
      ],
      "execution_count": 0,
      "outputs": []
    },
    {
      "cell_type": "code",
      "metadata": {
        "id": "43XHoUsx4Px7",
        "colab_type": "code",
        "colab": {}
      },
      "source": [
        "dfStatePop['ABBR']=dfStatePop.NAME.apply(lambda x: us_abbr.us_state_abbrev[x])"
      ],
      "execution_count": 0,
      "outputs": []
    },
    {
      "cell_type": "code",
      "metadata": {
        "id": "d08OerM_4vBo",
        "colab_type": "code",
        "colab": {}
      },
      "source": [
        "dfStatePop = dfStatePop.loc[:, ['ABBR', 'POPESTIMATE2019']]\n",
        "dfStatePop.set_index('ABBR', inplace=True)"
      ],
      "execution_count": 0,
      "outputs": []
    },
    {
      "cell_type": "code",
      "metadata": {
        "id": "4puN3Aea5qwp",
        "colab_type": "code",
        "colab": {}
      },
      "source": [
        "dfStateCovid = dfCovidtracking.loc[dfCovidtracking.date==dfCovidtracking.date.max()].set_index('state')"
      ],
      "execution_count": 0,
      "outputs": []
    },
    {
      "cell_type": "code",
      "metadata": {
        "id": "R2rumgN265Zr",
        "colab_type": "code",
        "colab": {}
      },
      "source": [
        "dfStateJoin = dfStateCovid.join(dfStatePop)"
      ],
      "execution_count": 0,
      "outputs": []
    },
    {
      "cell_type": "code",
      "metadata": {
        "id": "pgD43HXE7ayl",
        "colab_type": "code",
        "outputId": "fe84ff46-9804-4706-ff02-aadee07b2c40",
        "colab": {
          "base_uri": "https://localhost:8080/",
          "height": 0
        }
      },
      "source": [
        "pd.DataFrame([(dfStateJoin.positive / dfStateJoin.POPESTIMATE2019)*100, \\\n",
        "              (dfStateJoin.totalTestResults/ dfStateJoin.POPESTIMATE2019)*100],\\\n",
        "             index=['state_pos_pop','state_test_pop'] ).T.sort_values(by=\"state_pos_pop\", ascending=False)[:51]"
      ],
      "execution_count": 46,
      "outputs": [
        {
          "output_type": "execute_result",
          "data": {
            "text/html": [
              "<div>\n",
              "<style scoped>\n",
              "    .dataframe tbody tr th:only-of-type {\n",
              "        vertical-align: middle;\n",
              "    }\n",
              "\n",
              "    .dataframe tbody tr th {\n",
              "        vertical-align: top;\n",
              "    }\n",
              "\n",
              "    .dataframe thead th {\n",
              "        text-align: right;\n",
              "    }\n",
              "</style>\n",
              "<table border=\"1\" class=\"dataframe\">\n",
              "  <thead>\n",
              "    <tr style=\"text-align: right;\">\n",
              "      <th></th>\n",
              "      <th>state_pos_pop</th>\n",
              "      <th>state_test_pop</th>\n",
              "    </tr>\n",
              "    <tr>\n",
              "      <th>state</th>\n",
              "      <th></th>\n",
              "      <th></th>\n",
              "    </tr>\n",
              "  </thead>\n",
              "  <tbody>\n",
              "    <tr>\n",
              "      <th>NY</th>\n",
              "      <td>1.516977</td>\n",
              "      <td>4.343647</td>\n",
              "    </tr>\n",
              "    <tr>\n",
              "      <th>NJ</th>\n",
              "      <td>1.281846</td>\n",
              "      <td>2.638527</td>\n",
              "    </tr>\n",
              "    <tr>\n",
              "      <th>MA</th>\n",
              "      <td>0.845876</td>\n",
              "      <td>3.692418</td>\n",
              "    </tr>\n",
              "    <tr>\n",
              "      <th>RI</th>\n",
              "      <td>0.748187</td>\n",
              "      <td>5.446019</td>\n",
              "    </tr>\n",
              "    <tr>\n",
              "      <th>CT</th>\n",
              "      <td>0.738005</td>\n",
              "      <td>2.601333</td>\n",
              "    </tr>\n",
              "    <tr>\n",
              "      <th>LA</th>\n",
              "      <td>0.586948</td>\n",
              "      <td>3.250477</td>\n",
              "    </tr>\n",
              "    <tr>\n",
              "      <th>DC</th>\n",
              "      <td>0.565924</td>\n",
              "      <td>2.675881</td>\n",
              "    </tr>\n",
              "    <tr>\n",
              "      <th>DE</th>\n",
              "      <td>0.469826</td>\n",
              "      <td>2.175065</td>\n",
              "    </tr>\n",
              "    <tr>\n",
              "      <th>MI</th>\n",
              "      <td>0.393137</td>\n",
              "      <td>1.650219</td>\n",
              "    </tr>\n",
              "    <tr>\n",
              "      <th>IL</th>\n",
              "      <td>0.379598</td>\n",
              "      <td>1.911241</td>\n",
              "    </tr>\n",
              "    <tr>\n",
              "      <th>PA</th>\n",
              "      <td>0.337947</td>\n",
              "      <td>1.633246</td>\n",
              "    </tr>\n",
              "    <tr>\n",
              "      <th>MD</th>\n",
              "      <td>0.332684</td>\n",
              "      <td>1.782843</td>\n",
              "    </tr>\n",
              "    <tr>\n",
              "      <th>SD</th>\n",
              "      <td>0.261457</td>\n",
              "      <td>1.877786</td>\n",
              "    </tr>\n",
              "    <tr>\n",
              "      <th>IN</th>\n",
              "      <td>0.246397</td>\n",
              "      <td>1.294982</td>\n",
              "    </tr>\n",
              "    <tr>\n",
              "      <th>CO</th>\n",
              "      <td>0.241008</td>\n",
              "      <td>1.152006</td>\n",
              "    </tr>\n",
              "    <tr>\n",
              "      <th>GA</th>\n",
              "      <td>0.231836</td>\n",
              "      <td>1.318776</td>\n",
              "    </tr>\n",
              "    <tr>\n",
              "      <th>MS</th>\n",
              "      <td>0.213094</td>\n",
              "      <td>2.164273</td>\n",
              "    </tr>\n",
              "    <tr>\n",
              "      <th>IA</th>\n",
              "      <td>0.202087</td>\n",
              "      <td>1.262191</td>\n",
              "    </tr>\n",
              "    <tr>\n",
              "      <th>WA</th>\n",
              "      <td>0.179727</td>\n",
              "      <td>2.359574</td>\n",
              "    </tr>\n",
              "    <tr>\n",
              "      <th>NE</th>\n",
              "      <td>0.173593</td>\n",
              "      <td>1.220270</td>\n",
              "    </tr>\n",
              "    <tr>\n",
              "      <th>VA</th>\n",
              "      <td>0.161607</td>\n",
              "      <td>0.969513</td>\n",
              "    </tr>\n",
              "    <tr>\n",
              "      <th>NV</th>\n",
              "      <td>0.155999</td>\n",
              "      <td>1.302499</td>\n",
              "    </tr>\n",
              "    <tr>\n",
              "      <th>FL</th>\n",
              "      <td>0.152930</td>\n",
              "      <td>1.708164</td>\n",
              "    </tr>\n",
              "    <tr>\n",
              "      <th>TN</th>\n",
              "      <td>0.147192</td>\n",
              "      <td>2.371121</td>\n",
              "    </tr>\n",
              "    <tr>\n",
              "      <th>NH</th>\n",
              "      <td>0.142530</td>\n",
              "      <td>1.481565</td>\n",
              "    </tr>\n",
              "    <tr>\n",
              "      <th>VT</th>\n",
              "      <td>0.138143</td>\n",
              "      <td>2.438344</td>\n",
              "    </tr>\n",
              "    <tr>\n",
              "      <th>OH</th>\n",
              "      <td>0.137975</td>\n",
              "      <td>1.049747</td>\n",
              "    </tr>\n",
              "    <tr>\n",
              "      <th>AL</th>\n",
              "      <td>0.136381</td>\n",
              "      <td>1.546485</td>\n",
              "    </tr>\n",
              "    <tr>\n",
              "      <th>UT</th>\n",
              "      <td>0.135467</td>\n",
              "      <td>3.195270</td>\n",
              "    </tr>\n",
              "    <tr>\n",
              "      <th>NM</th>\n",
              "      <td>0.134632</td>\n",
              "      <td>2.804377</td>\n",
              "    </tr>\n",
              "    <tr>\n",
              "      <th>ND</th>\n",
              "      <td>0.130042</td>\n",
              "      <td>3.113001</td>\n",
              "    </tr>\n",
              "    <tr>\n",
              "      <th>KS</th>\n",
              "      <td>0.119829</td>\n",
              "      <td>0.964194</td>\n",
              "    </tr>\n",
              "    <tr>\n",
              "      <th>MO</th>\n",
              "      <td>0.118991</td>\n",
              "      <td>1.197619</td>\n",
              "    </tr>\n",
              "    <tr>\n",
              "      <th>CA</th>\n",
              "      <td>0.113967</td>\n",
              "      <td>1.461846</td>\n",
              "    </tr>\n",
              "    <tr>\n",
              "      <th>SC</th>\n",
              "      <td>0.109018</td>\n",
              "      <td>1.012777</td>\n",
              "    </tr>\n",
              "    <tr>\n",
              "      <th>WI</th>\n",
              "      <td>0.108013</td>\n",
              "      <td>1.199224</td>\n",
              "    </tr>\n",
              "    <tr>\n",
              "      <th>ID</th>\n",
              "      <td>0.107271</td>\n",
              "      <td>1.122063</td>\n",
              "    </tr>\n",
              "    <tr>\n",
              "      <th>AR</th>\n",
              "      <td>0.103088</td>\n",
              "      <td>1.347702</td>\n",
              "    </tr>\n",
              "    <tr>\n",
              "      <th>AZ</th>\n",
              "      <td>0.095456</td>\n",
              "      <td>0.926509</td>\n",
              "    </tr>\n",
              "    <tr>\n",
              "      <th>KY</th>\n",
              "      <td>0.092800</td>\n",
              "      <td>1.092269</td>\n",
              "    </tr>\n",
              "    <tr>\n",
              "      <th>NC</th>\n",
              "      <td>0.091227</td>\n",
              "      <td>1.075049</td>\n",
              "    </tr>\n",
              "    <tr>\n",
              "      <th>TX</th>\n",
              "      <td>0.090258</td>\n",
              "      <td>1.035954</td>\n",
              "    </tr>\n",
              "    <tr>\n",
              "      <th>OK</th>\n",
              "      <td>0.086177</td>\n",
              "      <td>1.508705</td>\n",
              "    </tr>\n",
              "    <tr>\n",
              "      <th>ME</th>\n",
              "      <td>0.077369</td>\n",
              "      <td>1.325981</td>\n",
              "    </tr>\n",
              "    <tr>\n",
              "      <th>MN</th>\n",
              "      <td>0.074136</td>\n",
              "      <td>1.131794</td>\n",
              "    </tr>\n",
              "    <tr>\n",
              "      <th>WY</th>\n",
              "      <td>0.067213</td>\n",
              "      <td>1.488530</td>\n",
              "    </tr>\n",
              "    <tr>\n",
              "      <th>WV</th>\n",
              "      <td>0.060207</td>\n",
              "      <td>2.402426</td>\n",
              "    </tr>\n",
              "    <tr>\n",
              "      <th>OR</th>\n",
              "      <td>0.055812</td>\n",
              "      <td>1.213874</td>\n",
              "    </tr>\n",
              "    <tr>\n",
              "      <th>AK</th>\n",
              "      <td>0.047981</td>\n",
              "      <td>2.336015</td>\n",
              "    </tr>\n",
              "    <tr>\n",
              "      <th>PR</th>\n",
              "      <td>0.043836</td>\n",
              "      <td>0.335442</td>\n",
              "    </tr>\n",
              "    <tr>\n",
              "      <th>HI</th>\n",
              "      <td>0.042871</td>\n",
              "      <td>2.061133</td>\n",
              "    </tr>\n",
              "  </tbody>\n",
              "</table>\n",
              "</div>"
            ],
            "text/plain": [
              "       state_pos_pop  state_test_pop\n",
              "state                               \n",
              "NY          1.516977        4.343647\n",
              "NJ          1.281846        2.638527\n",
              "MA          0.845876        3.692418\n",
              "RI          0.748187        5.446019\n",
              "CT          0.738005        2.601333\n",
              "LA          0.586948        3.250477\n",
              "DC          0.565924        2.675881\n",
              "DE          0.469826        2.175065\n",
              "MI          0.393137        1.650219\n",
              "IL          0.379598        1.911241\n",
              "PA          0.337947        1.633246\n",
              "MD          0.332684        1.782843\n",
              "SD          0.261457        1.877786\n",
              "IN          0.246397        1.294982\n",
              "CO          0.241008        1.152006\n",
              "GA          0.231836        1.318776\n",
              "MS          0.213094        2.164273\n",
              "IA          0.202087        1.262191\n",
              "WA          0.179727        2.359574\n",
              "NE          0.173593        1.220270\n",
              "VA          0.161607        0.969513\n",
              "NV          0.155999        1.302499\n",
              "FL          0.152930        1.708164\n",
              "TN          0.147192        2.371121\n",
              "NH          0.142530        1.481565\n",
              "VT          0.138143        2.438344\n",
              "OH          0.137975        1.049747\n",
              "AL          0.136381        1.546485\n",
              "UT          0.135467        3.195270\n",
              "NM          0.134632        2.804377\n",
              "ND          0.130042        3.113001\n",
              "KS          0.119829        0.964194\n",
              "MO          0.118991        1.197619\n",
              "CA          0.113967        1.461846\n",
              "SC          0.109018        1.012777\n",
              "WI          0.108013        1.199224\n",
              "ID          0.107271        1.122063\n",
              "AR          0.103088        1.347702\n",
              "AZ          0.095456        0.926509\n",
              "KY          0.092800        1.092269\n",
              "NC          0.091227        1.075049\n",
              "TX          0.090258        1.035954\n",
              "OK          0.086177        1.508705\n",
              "ME          0.077369        1.325981\n",
              "MN          0.074136        1.131794\n",
              "WY          0.067213        1.488530\n",
              "WV          0.060207        2.402426\n",
              "OR          0.055812        1.213874\n",
              "AK          0.047981        2.336015\n",
              "PR          0.043836        0.335442\n",
              "HI          0.042871        2.061133"
            ]
          },
          "metadata": {
            "tags": []
          },
          "execution_count": 46
        }
      ]
    },
    {
      "cell_type": "code",
      "metadata": {
        "id": "-uy6plHZ84GH",
        "colab_type": "code",
        "outputId": "ac0f585f-818e-4241-e0a2-3b84f0fee80a",
        "colab": {
          "base_uri": "https://localhost:8080/",
          "height": 0
        }
      },
      "source": [
        "#print(f\"Current Infection Rate {res.positive/res.total*100:2f}%\")\n",
        "\n",
        "print(f\"Current Testing Percent {gbUSA.sum().tail(1).totalTestResults[0]/dfUSPop[dfUSPop.REGION=='0'].POPESTIMATE2019[0]*100:2f}%\")"
      ],
      "execution_count": 47,
      "outputs": [
        {
          "output_type": "stream",
          "text": [
            "Current Testing Percent 1.765701%\n"
          ],
          "name": "stdout"
        }
      ]
    },
    {
      "cell_type": "code",
      "metadata": {
        "id": "Oe5ZLr99QRRc",
        "colab_type": "code",
        "outputId": "bd656220-19d0-470d-ee97-6c6d65a9cbc3",
        "colab": {
          "base_uri": "https://localhost:8080/",
          "height": 0
        }
      },
      "source": [
        "dfJHUData.columns"
      ],
      "execution_count": 48,
      "outputs": [
        {
          "output_type": "execute_result",
          "data": {
            "text/plain": [
              "Index(['FIPS', 'city', 'state', 'country', 'last_update', 'lat', 'lon',\n",
              "       'confirmed', 'dead', 'recovered', 'active', 'key'],\n",
              "      dtype='object')"
            ]
          },
          "metadata": {
            "tags": []
          },
          "execution_count": 48
        }
      ]
    },
    {
      "cell_type": "code",
      "metadata": {
        "id": "R8BhxDaaZG7J",
        "colab_type": "code",
        "colab": {}
      },
      "source": [
        "dfOwid = pd.read_csv(\"https://raw.githubusercontent.com/owid/covid-19-data/master/public/data/owid-covid-data.csv\")"
      ],
      "execution_count": 0,
      "outputs": []
    },
    {
      "cell_type": "code",
      "metadata": {
        "id": "P34L2uyifz16",
        "colab_type": "code",
        "outputId": "cfea3cbd-eaf1-4232-c941-9c27be33d465",
        "colab": {
          "base_uri": "https://localhost:8080/",
          "height": 0
        }
      },
      "source": [
        "dfOwid.info()\n"
      ],
      "execution_count": 50,
      "outputs": [
        {
          "output_type": "stream",
          "text": [
            "<class 'pandas.core.frame.DataFrame'>\n",
            "RangeIndex: 14090 entries, 0 to 14089\n",
            "Data columns (total 16 columns):\n",
            " #   Column                    Non-Null Count  Dtype  \n",
            "---  ------                    --------------  -----  \n",
            " 0   iso_code                  13905 non-null  object \n",
            " 1   location                  14090 non-null  object \n",
            " 2   date                      14090 non-null  object \n",
            " 3   total_cases               14090 non-null  int64  \n",
            " 4   new_cases                 14090 non-null  int64  \n",
            " 5   total_deaths              14090 non-null  int64  \n",
            " 6   new_deaths                14090 non-null  int64  \n",
            " 7   total_cases_per_million   13804 non-null  float64\n",
            " 8   new_cases_per_million     13804 non-null  float64\n",
            " 9   total_deaths_per_million  13804 non-null  float64\n",
            " 10  new_deaths_per_million    13804 non-null  float64\n",
            " 11  total_tests               3448 non-null   float64\n",
            " 12  new_tests                 3071 non-null   float64\n",
            " 13  total_tests_per_thousand  3448 non-null   float64\n",
            " 14  new_tests_per_thousand    3076 non-null   float64\n",
            " 15  tests_units               3448 non-null   object \n",
            "dtypes: float64(8), int64(4), object(4)\n",
            "memory usage: 1.7+ MB\n"
          ],
          "name": "stdout"
        }
      ]
    },
    {
      "cell_type": "code",
      "metadata": {
        "id": "KgJXmpC1g-Wz",
        "colab_type": "code",
        "colab": {}
      },
      "source": [
        "dfOwidTests = dfOwid.dropna(subset=['total_tests']).copy()"
      ],
      "execution_count": 0,
      "outputs": []
    },
    {
      "cell_type": "code",
      "metadata": {
        "id": "SAciuLfhhwFr",
        "colab_type": "code",
        "outputId": "231f7c49-0fad-4d76-ac19-d47a3309cd05",
        "colab": {
          "base_uri": "https://localhost:8080/",
          "height": 0
        }
      },
      "source": [
        "dfOwidTests.date.max()"
      ],
      "execution_count": 52,
      "outputs": [
        {
          "output_type": "execute_result",
          "data": {
            "text/plain": [
              "'2020-04-28'"
            ]
          },
          "metadata": {
            "tags": []
          },
          "execution_count": 52
        }
      ]
    },
    {
      "cell_type": "code",
      "metadata": {
        "id": "Qngm15gRiTJY",
        "colab_type": "code",
        "colab": {}
      },
      "source": [
        "dfOwidLatest = dfOwidTests.sort_values(by='date').groupby('iso_code').last()"
      ],
      "execution_count": 0,
      "outputs": []
    },
    {
      "cell_type": "code",
      "metadata": {
        "id": "kmMUQTWUioLl",
        "colab_type": "code",
        "outputId": "d6f2ab8c-6970-4fa3-8a8b-3024974b3a62",
        "colab": {
          "base_uri": "https://localhost:8080/",
          "height": 0
        }
      },
      "source": [
        "dfOwidLatest.total_tests.sort_values(ascending=False)"
      ],
      "execution_count": 54,
      "outputs": [
        {
          "output_type": "execute_result",
          "data": {
            "text/plain": [
              "iso_code\n",
              "USA    5593495.0\n",
              "RUS    3139258.0\n",
              "DEU    2072669.0\n",
              "ITA    1846934.0\n",
              "ESP    1035522.0\n",
              "         ...    \n",
              "CRI       8930.0\n",
              "PRY       8429.0\n",
              "MMR       7357.0\n",
              "ZWE       6834.0\n",
              "BOL       5988.0\n",
              "Name: total_tests, Length: 82, dtype: float64"
            ]
          },
          "metadata": {
            "tags": []
          },
          "execution_count": 54
        }
      ]
    },
    {
      "cell_type": "code",
      "metadata": {
        "id": "fJMhnvEtjjf8",
        "colab_type": "code",
        "outputId": "1fe28207-ae89-4e97-d810-9e3270a807be",
        "colab": {
          "base_uri": "https://localhost:8080/",
          "height": 0
        }
      },
      "source": [
        "isUSA = dfOwidLatest.index.isin(['USA'])\n",
        "NonUSTests = dfOwidLatest[~isUSA].total_tests.sum()\n",
        "USTests = dfOwidLatest[isUSA].total_tests.sum()\n",
        "\n",
        "print(f\"Total testing done outside of USA: {NonUSTests:.0f}\")\n",
        "print(f\"Total tests done in USA : {USTests:.0f}\")\n",
        "print(f\"How many more times has the world tested more than the US: {NonUSTests/USTests:.1f}\")"
      ],
      "execution_count": 55,
      "outputs": [
        {
          "output_type": "stream",
          "text": [
            "Total testing done outside of USA: 19905858\n",
            "Total tests done in USA : 5593495\n",
            "How many more times has the world tested more than the US: 3.6\n"
          ],
          "name": "stdout"
        }
      ]
    },
    {
      "cell_type": "code",
      "metadata": {
        "id": "PHEIbDtQnQ65",
        "colab_type": "code",
        "outputId": "7acba9ef-2ee7-47e8-9de5-3890ec916212",
        "colab": {
          "base_uri": "https://localhost:8080/",
          "height": 0
        }
      },
      "source": [
        "dfOwid.iso_code.nunique()"
      ],
      "execution_count": 56,
      "outputs": [
        {
          "output_type": "execute_result",
          "data": {
            "text/plain": [
              "207"
            ]
          },
          "metadata": {
            "tags": []
          },
          "execution_count": 56
        }
      ]
    },
    {
      "cell_type": "code",
      "metadata": {
        "id": "kFfq__ymooV8",
        "colab_type": "code",
        "colab": {}
      },
      "source": [
        ""
      ],
      "execution_count": 0,
      "outputs": []
    }
  ]
}