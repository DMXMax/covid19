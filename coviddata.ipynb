{
  "nbformat": 4,
  "nbformat_minor": 0,
  "metadata": {
    "colab": {
      "name": "coviddata",
      "provenance": [],
      "toc_visible": true,
      "authorship_tag": "ABX9TyPcY+Om91M9i8fVvtTQX7QW",
      "include_colab_link": true
    },
    "kernelspec": {
      "name": "python3",
      "display_name": "Python 3"
    }
  },
  "cells": [
    {
      "cell_type": "markdown",
      "metadata": {
        "id": "view-in-github",
        "colab_type": "text"
      },
      "source": [
        "<a href=\"https://colab.research.google.com/github/DMXMax/covid19/blob/gc_20200315/coviddata.ipynb\" target=\"_parent\"><img src=\"https://colab.research.google.com/assets/colab-badge.svg\" alt=\"Open In Colab\"/></a>"
      ]
    },
    {
      "cell_type": "code",
      "metadata": {
        "id": "jCzokJEPxFhv",
        "colab_type": "code",
        "colab": {}
      },
      "source": [
        "import numpy as np\n",
        "import pandas as pd\n",
        "import matplotlib.pyplot as plt\n",
        "import requests,json\n",
        "import datetime\n"
      ],
      "execution_count": 0,
      "outputs": []
    },
    {
      "cell_type": "code",
      "metadata": {
        "id": "zNKPT5Z8BXPT",
        "colab_type": "code",
        "colab": {}
      },
      "source": [
        "covidtrackingurl = \"https://covidtracking.com/api/v1/states/daily.json\"\n",
        "response = requests.get(covidtrackingurl)\n",
        "dfCovidtracking = pd.DataFrame(response.json())\n",
        "dfCovidtracking.fillna(0, inplace=True)\n",
        "dfCovidtracking.negative = dfCovidtracking.negative.astype('int64')\n",
        "dfCovidtracking.positive = dfCovidtracking.positive.astype('int64')\n",
        "dfCovidtracking.pending = dfCovidtracking.pending.astype('int64')\n",
        "dfCovidtracking.total = dfCovidtracking.total.astype('int64')\n",
        "dfCovidtracking.death = dfCovidtracking.death.astype('int64')\n",
        "\n",
        "dfCovidtracking.date = dfCovidtracking.date.transform(lambda x: pd.to_datetime(datetime.date(x//10000, x%10000//100, x%100\n",
        "                                          )))\n"
      ],
      "execution_count": 0,
      "outputs": []
    },
    {
      "cell_type": "code",
      "metadata": {
        "id": "8_Il5iuohC8_",
        "colab_type": "code",
        "colab": {}
      },
      "source": [
        "dfWHO = pd.read_csv(\"https://raw.githubusercontent.com/DMXMax/covid19/master/who/who_data.tsv\",\n",
        "                     sep='\\t', index_col='Date')"
      ],
      "execution_count": 0,
      "outputs": []
    },
    {
      "cell_type": "code",
      "metadata": {
        "id": "IHNp61EvdwQG",
        "colab_type": "code",
        "colab": {}
      },
      "source": [
        "jhurl = \"https://raw.githubusercontent.com/CSSEGISandData/COVID-19/master/\"+\\\n",
        "\"csse_covid_19_data/csse_covid_19_daily_reports/04-30-2020.csv\"\n",
        "\n",
        "\n",
        "dfJHUData = pd.read_csv(jhurl, header=0,\n",
        "                        names=['FIPS', 'city','state', 'country', 'last_update',\n",
        "                               'lat', 'lon','confirmed', 'dead', 'recovered','active', 'key'])"
      ],
      "execution_count": 0,
      "outputs": []
    },
    {
      "cell_type": "code",
      "metadata": {
        "id": "hrPlWJJCVtBR",
        "colab_type": "code",
        "colab": {}
      },
      "source": [
        "dfWHO = dfWHO.rename(columns={\"Confirmed\": \"confirmed\", \"Deaths\": \"who_deaths\"})\n",
        "dfWHO.index.names=['date']\n"
      ],
      "execution_count": 0,
      "outputs": []
    },
    {
      "cell_type": "code",
      "metadata": {
        "colab_type": "code",
        "id": "idyqfNddlLPv",
        "outputId": "c42da8ad-a579-4ada-d10a-fa093985e78b",
        "colab": {
          "base_uri": "https://localhost:8080/",
          "height": 348
        }
      },
      "source": [
        "dfCovidtracking.loc[dfCovidtracking.date==dfCovidtracking.date.max(),\\\n",
        "  ['state', 'positive', 'negative', 'totalTestResults']].sort_values(by='positive', ascending=False).head(10)"
      ],
      "execution_count": 6,
      "outputs": [
        {
          "output_type": "execute_result",
          "data": {
            "text/html": [
              "<div>\n",
              "<style scoped>\n",
              "    .dataframe tbody tr th:only-of-type {\n",
              "        vertical-align: middle;\n",
              "    }\n",
              "\n",
              "    .dataframe tbody tr th {\n",
              "        vertical-align: top;\n",
              "    }\n",
              "\n",
              "    .dataframe thead th {\n",
              "        text-align: right;\n",
              "    }\n",
              "</style>\n",
              "<table border=\"1\" class=\"dataframe\">\n",
              "  <thead>\n",
              "    <tr style=\"text-align: right;\">\n",
              "      <th></th>\n",
              "      <th>state</th>\n",
              "      <th>positive</th>\n",
              "      <th>negative</th>\n",
              "      <th>totalTestResults</th>\n",
              "    </tr>\n",
              "  </thead>\n",
              "  <tbody>\n",
              "    <tr>\n",
              "      <th>37</th>\n",
              "      <td>NY</td>\n",
              "      <td>304372</td>\n",
              "      <td>596264</td>\n",
              "      <td>900636.0</td>\n",
              "    </tr>\n",
              "    <tr>\n",
              "      <th>34</th>\n",
              "      <td>NJ</td>\n",
              "      <td>118652</td>\n",
              "      <td>129266</td>\n",
              "      <td>247918.0</td>\n",
              "    </tr>\n",
              "    <tr>\n",
              "      <th>21</th>\n",
              "      <td>MA</td>\n",
              "      <td>62205</td>\n",
              "      <td>213442</td>\n",
              "      <td>275647.0</td>\n",
              "    </tr>\n",
              "    <tr>\n",
              "      <th>16</th>\n",
              "      <td>IL</td>\n",
              "      <td>52918</td>\n",
              "      <td>216949</td>\n",
              "      <td>269867.0</td>\n",
              "    </tr>\n",
              "    <tr>\n",
              "      <th>5</th>\n",
              "      <td>CA</td>\n",
              "      <td>48917</td>\n",
              "      <td>576420</td>\n",
              "      <td>625337.0</td>\n",
              "    </tr>\n",
              "    <tr>\n",
              "      <th>41</th>\n",
              "      <td>PA</td>\n",
              "      <td>45763</td>\n",
              "      <td>175602</td>\n",
              "      <td>221365.0</td>\n",
              "    </tr>\n",
              "    <tr>\n",
              "      <th>24</th>\n",
              "      <td>MI</td>\n",
              "      <td>41379</td>\n",
              "      <td>138888</td>\n",
              "      <td>180267.0</td>\n",
              "    </tr>\n",
              "    <tr>\n",
              "      <th>10</th>\n",
              "      <td>FL</td>\n",
              "      <td>33690</td>\n",
              "      <td>348715</td>\n",
              "      <td>382405.0</td>\n",
              "    </tr>\n",
              "    <tr>\n",
              "      <th>20</th>\n",
              "      <td>LA</td>\n",
              "      <td>28001</td>\n",
              "      <td>133308</td>\n",
              "      <td>161309.0</td>\n",
              "    </tr>\n",
              "    <tr>\n",
              "      <th>7</th>\n",
              "      <td>CT</td>\n",
              "      <td>27700</td>\n",
              "      <td>69433</td>\n",
              "      <td>97133.0</td>\n",
              "    </tr>\n",
              "  </tbody>\n",
              "</table>\n",
              "</div>"
            ],
            "text/plain": [
              "   state  positive  negative  totalTestResults\n",
              "37    NY    304372    596264          900636.0\n",
              "34    NJ    118652    129266          247918.0\n",
              "21    MA     62205    213442          275647.0\n",
              "16    IL     52918    216949          269867.0\n",
              "5     CA     48917    576420          625337.0\n",
              "41    PA     45763    175602          221365.0\n",
              "24    MI     41379    138888          180267.0\n",
              "10    FL     33690    348715          382405.0\n",
              "20    LA     28001    133308          161309.0\n",
              "7     CT     27700     69433           97133.0"
            ]
          },
          "metadata": {
            "tags": []
          },
          "execution_count": 6
        }
      ]
    },
    {
      "cell_type": "code",
      "metadata": {
        "id": "rFOHyOwb4bcm",
        "colab_type": "code",
        "colab": {}
      },
      "source": [
        "gbUSA = dfCovidtracking.groupby(['date'])\n",
        "gbCA = dfCovidtracking[dfCovidtracking.state=='CA'].groupby(['date'])\n",
        "\n",
        "dfUSAPos = gbUSA[['positive', 'totalTestResults', 'death', 'positiveIncrease','deathIncrease']].sum().reset_index().copy()\n",
        "dfCAPos = gbCA[['positive', 'totalTestResults', 'death','positiveIncrease', 'deathIncrease']].sum().reset_index().copy()\n",
        "\n",
        "#This will calculate the percentage each day is of the total. In a flattening, this will be more even\n",
        "# In a high growth situation, you'll higher percentages at the tail. \n",
        "dfUSAPos['PCT']= dfUSAPos.positive/dfUSAPos.max().positive\n",
        "dfCAPos['PCT']=dfCAPos.positive/dfCAPos.max().positive"
      ],
      "execution_count": 0,
      "outputs": []
    },
    {
      "cell_type": "code",
      "metadata": {
        "colab_type": "code",
        "id": "BHKhtPRozVFF",
        "outputId": "220baca2-0467-43fa-a527-4579ea806a51",
        "colab": {
          "base_uri": "https://localhost:8080/",
          "height": 468
        }
      },
      "source": [
        "dfUSAPos[-14:]\n"
      ],
      "execution_count": 8,
      "outputs": [
        {
          "output_type": "execute_result",
          "data": {
            "text/html": [
              "<div>\n",
              "<style scoped>\n",
              "    .dataframe tbody tr th:only-of-type {\n",
              "        vertical-align: middle;\n",
              "    }\n",
              "\n",
              "    .dataframe tbody tr th {\n",
              "        vertical-align: top;\n",
              "    }\n",
              "\n",
              "    .dataframe thead th {\n",
              "        text-align: right;\n",
              "    }\n",
              "</style>\n",
              "<table border=\"1\" class=\"dataframe\">\n",
              "  <thead>\n",
              "    <tr style=\"text-align: right;\">\n",
              "      <th></th>\n",
              "      <th>date</th>\n",
              "      <th>positive</th>\n",
              "      <th>totalTestResults</th>\n",
              "      <th>death</th>\n",
              "      <th>positiveIncrease</th>\n",
              "      <th>deathIncrease</th>\n",
              "      <th>PCT</th>\n",
              "    </tr>\n",
              "  </thead>\n",
              "  <tbody>\n",
              "    <tr>\n",
              "      <th>86</th>\n",
              "      <td>2020-04-17</td>\n",
              "      <td>695761</td>\n",
              "      <td>3582610.0</td>\n",
              "      <td>32785</td>\n",
              "      <td>31632.0</td>\n",
              "      <td>2063.0</td>\n",
              "      <td>0.655697</td>\n",
              "    </tr>\n",
              "    <tr>\n",
              "      <th>87</th>\n",
              "      <td>2020-04-18</td>\n",
              "      <td>723776</td>\n",
              "      <td>3724925.0</td>\n",
              "      <td>34557</td>\n",
              "      <td>28015.0</td>\n",
              "      <td>1772.0</td>\n",
              "      <td>0.682099</td>\n",
              "    </tr>\n",
              "    <tr>\n",
              "      <th>88</th>\n",
              "      <td>2020-04-19</td>\n",
              "      <td>751287</td>\n",
              "      <td>3891383.0</td>\n",
              "      <td>36224</td>\n",
              "      <td>27511.0</td>\n",
              "      <td>1667.0</td>\n",
              "      <td>0.708026</td>\n",
              "    </tr>\n",
              "    <tr>\n",
              "      <th>89</th>\n",
              "      <td>2020-04-20</td>\n",
              "      <td>776419</td>\n",
              "      <td>4038895.0</td>\n",
              "      <td>37913</td>\n",
              "      <td>25132.0</td>\n",
              "      <td>1689.0</td>\n",
              "      <td>0.731711</td>\n",
              "    </tr>\n",
              "    <tr>\n",
              "      <th>90</th>\n",
              "      <td>2020-04-21</td>\n",
              "      <td>802330</td>\n",
              "      <td>4186974.0</td>\n",
              "      <td>40471</td>\n",
              "      <td>25911.0</td>\n",
              "      <td>2558.0</td>\n",
              "      <td>0.756130</td>\n",
              "    </tr>\n",
              "    <tr>\n",
              "      <th>91</th>\n",
              "      <td>2020-04-22</td>\n",
              "      <td>830223</td>\n",
              "      <td>4501156.0</td>\n",
              "      <td>42508</td>\n",
              "      <td>27893.0</td>\n",
              "      <td>2037.0</td>\n",
              "      <td>0.782417</td>\n",
              "    </tr>\n",
              "    <tr>\n",
              "      <th>92</th>\n",
              "      <td>2020-04-23</td>\n",
              "      <td>861788</td>\n",
              "      <td>4693168.0</td>\n",
              "      <td>44385</td>\n",
              "      <td>31565.0</td>\n",
              "      <td>1877.0</td>\n",
              "      <td>0.812164</td>\n",
              "    </tr>\n",
              "    <tr>\n",
              "      <th>93</th>\n",
              "      <td>2020-04-24</td>\n",
              "      <td>896306</td>\n",
              "      <td>4925393.0</td>\n",
              "      <td>46251</td>\n",
              "      <td>34518.0</td>\n",
              "      <td>1866.0</td>\n",
              "      <td>0.844694</td>\n",
              "    </tr>\n",
              "    <tr>\n",
              "      <th>94</th>\n",
              "      <td>2020-04-25</td>\n",
              "      <td>932242</td>\n",
              "      <td>5196649.0</td>\n",
              "      <td>48069</td>\n",
              "      <td>35936.0</td>\n",
              "      <td>1818.0</td>\n",
              "      <td>0.878561</td>\n",
              "    </tr>\n",
              "    <tr>\n",
              "      <th>95</th>\n",
              "      <td>2020-04-26</td>\n",
              "      <td>959258</td>\n",
              "      <td>5403052.0</td>\n",
              "      <td>49164</td>\n",
              "      <td>27016.0</td>\n",
              "      <td>1095.0</td>\n",
              "      <td>0.904021</td>\n",
              "    </tr>\n",
              "    <tr>\n",
              "      <th>96</th>\n",
              "      <td>2020-04-27</td>\n",
              "      <td>981134</td>\n",
              "      <td>5593495.0</td>\n",
              "      <td>50327</td>\n",
              "      <td>21876.0</td>\n",
              "      <td>1163.0</td>\n",
              "      <td>0.924638</td>\n",
              "    </tr>\n",
              "    <tr>\n",
              "      <th>97</th>\n",
              "      <td>2020-04-28</td>\n",
              "      <td>1005592</td>\n",
              "      <td>5793162.0</td>\n",
              "      <td>52525</td>\n",
              "      <td>24458.0</td>\n",
              "      <td>2198.0</td>\n",
              "      <td>0.947687</td>\n",
              "    </tr>\n",
              "    <tr>\n",
              "      <th>98</th>\n",
              "      <td>2020-04-29</td>\n",
              "      <td>1033157</td>\n",
              "      <td>6024625.0</td>\n",
              "      <td>55225</td>\n",
              "      <td>27565.0</td>\n",
              "      <td>2700.0</td>\n",
              "      <td>0.973665</td>\n",
              "    </tr>\n",
              "    <tr>\n",
              "      <th>99</th>\n",
              "      <td>2020-04-30</td>\n",
              "      <td>1061101</td>\n",
              "      <td>6231182.0</td>\n",
              "      <td>57266</td>\n",
              "      <td>27944.0</td>\n",
              "      <td>2041.0</td>\n",
              "      <td>1.000000</td>\n",
              "    </tr>\n",
              "  </tbody>\n",
              "</table>\n",
              "</div>"
            ],
            "text/plain": [
              "         date  positive  ...  deathIncrease       PCT\n",
              "86 2020-04-17    695761  ...         2063.0  0.655697\n",
              "87 2020-04-18    723776  ...         1772.0  0.682099\n",
              "88 2020-04-19    751287  ...         1667.0  0.708026\n",
              "89 2020-04-20    776419  ...         1689.0  0.731711\n",
              "90 2020-04-21    802330  ...         2558.0  0.756130\n",
              "91 2020-04-22    830223  ...         2037.0  0.782417\n",
              "92 2020-04-23    861788  ...         1877.0  0.812164\n",
              "93 2020-04-24    896306  ...         1866.0  0.844694\n",
              "94 2020-04-25    932242  ...         1818.0  0.878561\n",
              "95 2020-04-26    959258  ...         1095.0  0.904021\n",
              "96 2020-04-27    981134  ...         1163.0  0.924638\n",
              "97 2020-04-28   1005592  ...         2198.0  0.947687\n",
              "98 2020-04-29   1033157  ...         2700.0  0.973665\n",
              "99 2020-04-30   1061101  ...         2041.0  1.000000\n",
              "\n",
              "[14 rows x 7 columns]"
            ]
          },
          "metadata": {
            "tags": []
          },
          "execution_count": 8
        }
      ]
    },
    {
      "cell_type": "code",
      "metadata": {
        "colab_type": "code",
        "id": "EI4hKgZ5zUd8",
        "outputId": "92a25298-d817-451f-cdc2-4c612d950b73",
        "colab": {
          "base_uri": "https://localhost:8080/",
          "height": 468
        }
      },
      "source": [
        "dfCAPos[-14:]"
      ],
      "execution_count": 56,
      "outputs": [
        {
          "output_type": "execute_result",
          "data": {
            "text/html": [
              "<div>\n",
              "<style scoped>\n",
              "    .dataframe tbody tr th:only-of-type {\n",
              "        vertical-align: middle;\n",
              "    }\n",
              "\n",
              "    .dataframe tbody tr th {\n",
              "        vertical-align: top;\n",
              "    }\n",
              "\n",
              "    .dataframe thead th {\n",
              "        text-align: right;\n",
              "    }\n",
              "</style>\n",
              "<table border=\"1\" class=\"dataframe\">\n",
              "  <thead>\n",
              "    <tr style=\"text-align: right;\">\n",
              "      <th></th>\n",
              "      <th>date</th>\n",
              "      <th>positive</th>\n",
              "      <th>totalTestResults</th>\n",
              "      <th>death</th>\n",
              "      <th>positiveIncrease</th>\n",
              "      <th>deathIncrease</th>\n",
              "      <th>PCT</th>\n",
              "    </tr>\n",
              "  </thead>\n",
              "  <tbody>\n",
              "    <tr>\n",
              "      <th>44</th>\n",
              "      <td>2020-04-17</td>\n",
              "      <td>27528</td>\n",
              "      <td>251614.0</td>\n",
              "      <td>985</td>\n",
              "      <td>1346.0</td>\n",
              "      <td>95.0</td>\n",
              "      <td>0.562749</td>\n",
              "    </tr>\n",
              "    <tr>\n",
              "      <th>45</th>\n",
              "      <td>2020-04-18</td>\n",
              "      <td>28963</td>\n",
              "      <td>259666.0</td>\n",
              "      <td>1072</td>\n",
              "      <td>1435.0</td>\n",
              "      <td>87.0</td>\n",
              "      <td>0.592085</td>\n",
              "    </tr>\n",
              "    <tr>\n",
              "      <th>46</th>\n",
              "      <td>2020-04-19</td>\n",
              "      <td>30333</td>\n",
              "      <td>280900.0</td>\n",
              "      <td>1166</td>\n",
              "      <td>1370.0</td>\n",
              "      <td>94.0</td>\n",
              "      <td>0.620091</td>\n",
              "    </tr>\n",
              "    <tr>\n",
              "      <th>47</th>\n",
              "      <td>2020-04-20</td>\n",
              "      <td>30978</td>\n",
              "      <td>290500.0</td>\n",
              "      <td>1208</td>\n",
              "      <td>645.0</td>\n",
              "      <td>42.0</td>\n",
              "      <td>0.633277</td>\n",
              "    </tr>\n",
              "    <tr>\n",
              "      <th>48</th>\n",
              "      <td>2020-04-21</td>\n",
              "      <td>33261</td>\n",
              "      <td>300100.0</td>\n",
              "      <td>1268</td>\n",
              "      <td>2283.0</td>\n",
              "      <td>60.0</td>\n",
              "      <td>0.679948</td>\n",
              "    </tr>\n",
              "    <tr>\n",
              "      <th>49</th>\n",
              "      <td>2020-04-22</td>\n",
              "      <td>35396</td>\n",
              "      <td>465327.0</td>\n",
              "      <td>1354</td>\n",
              "      <td>2135.0</td>\n",
              "      <td>86.0</td>\n",
              "      <td>0.723593</td>\n",
              "    </tr>\n",
              "    <tr>\n",
              "      <th>50</th>\n",
              "      <td>2020-04-23</td>\n",
              "      <td>37369</td>\n",
              "      <td>482097.0</td>\n",
              "      <td>1469</td>\n",
              "      <td>1973.0</td>\n",
              "      <td>115.0</td>\n",
              "      <td>0.763927</td>\n",
              "    </tr>\n",
              "    <tr>\n",
              "      <th>51</th>\n",
              "      <td>2020-04-24</td>\n",
              "      <td>39254</td>\n",
              "      <td>494173.0</td>\n",
              "      <td>1562</td>\n",
              "      <td>1885.0</td>\n",
              "      <td>93.0</td>\n",
              "      <td>0.802461</td>\n",
              "    </tr>\n",
              "    <tr>\n",
              "      <th>52</th>\n",
              "      <td>2020-04-25</td>\n",
              "      <td>41137</td>\n",
              "      <td>506035.0</td>\n",
              "      <td>1651</td>\n",
              "      <td>1883.0</td>\n",
              "      <td>89.0</td>\n",
              "      <td>0.840955</td>\n",
              "    </tr>\n",
              "    <tr>\n",
              "      <th>53</th>\n",
              "      <td>2020-04-26</td>\n",
              "      <td>42164</td>\n",
              "      <td>526084.0</td>\n",
              "      <td>1710</td>\n",
              "      <td>1027.0</td>\n",
              "      <td>59.0</td>\n",
              "      <td>0.861950</td>\n",
              "    </tr>\n",
              "    <tr>\n",
              "      <th>54</th>\n",
              "      <td>2020-04-27</td>\n",
              "      <td>43464</td>\n",
              "      <td>553409.0</td>\n",
              "      <td>1755</td>\n",
              "      <td>1300.0</td>\n",
              "      <td>45.0</td>\n",
              "      <td>0.888525</td>\n",
              "    </tr>\n",
              "    <tr>\n",
              "      <th>55</th>\n",
              "      <td>2020-04-28</td>\n",
              "      <td>45031</td>\n",
              "      <td>577608.0</td>\n",
              "      <td>1809</td>\n",
              "      <td>1567.0</td>\n",
              "      <td>54.0</td>\n",
              "      <td>0.920559</td>\n",
              "    </tr>\n",
              "    <tr>\n",
              "      <th>56</th>\n",
              "      <td>2020-04-29</td>\n",
              "      <td>46500</td>\n",
              "      <td>603139.0</td>\n",
              "      <td>1887</td>\n",
              "      <td>1469.0</td>\n",
              "      <td>78.0</td>\n",
              "      <td>0.950590</td>\n",
              "    </tr>\n",
              "    <tr>\n",
              "      <th>57</th>\n",
              "      <td>2020-04-30</td>\n",
              "      <td>48917</td>\n",
              "      <td>625337.0</td>\n",
              "      <td>1982</td>\n",
              "      <td>2417.0</td>\n",
              "      <td>95.0</td>\n",
              "      <td>1.000000</td>\n",
              "    </tr>\n",
              "  </tbody>\n",
              "</table>\n",
              "</div>"
            ],
            "text/plain": [
              "         date  positive  ...  deathIncrease       PCT\n",
              "44 2020-04-17     27528  ...           95.0  0.562749\n",
              "45 2020-04-18     28963  ...           87.0  0.592085\n",
              "46 2020-04-19     30333  ...           94.0  0.620091\n",
              "47 2020-04-20     30978  ...           42.0  0.633277\n",
              "48 2020-04-21     33261  ...           60.0  0.679948\n",
              "49 2020-04-22     35396  ...           86.0  0.723593\n",
              "50 2020-04-23     37369  ...          115.0  0.763927\n",
              "51 2020-04-24     39254  ...           93.0  0.802461\n",
              "52 2020-04-25     41137  ...           89.0  0.840955\n",
              "53 2020-04-26     42164  ...           59.0  0.861950\n",
              "54 2020-04-27     43464  ...           45.0  0.888525\n",
              "55 2020-04-28     45031  ...           54.0  0.920559\n",
              "56 2020-04-29     46500  ...           78.0  0.950590\n",
              "57 2020-04-30     48917  ...           95.0  1.000000\n",
              "\n",
              "[14 rows x 7 columns]"
            ]
          },
          "metadata": {
            "tags": []
          },
          "execution_count": 56
        }
      ]
    },
    {
      "cell_type": "code",
      "metadata": {
        "id": "BTvuZKJN0RoI",
        "colab_type": "code",
        "outputId": "fd87c695-34ed-482a-ed49-9d5a5a78e40d",
        "colab": {
          "base_uri": "https://localhost:8080/",
          "height": 335
        }
      },
      "source": [
        "gbUSA.sum()[-5:]"
      ],
      "execution_count": 10,
      "outputs": [
        {
          "output_type": "execute_result",
          "data": {
            "text/html": [
              "<div>\n",
              "<style scoped>\n",
              "    .dataframe tbody tr th:only-of-type {\n",
              "        vertical-align: middle;\n",
              "    }\n",
              "\n",
              "    .dataframe tbody tr th {\n",
              "        vertical-align: top;\n",
              "    }\n",
              "\n",
              "    .dataframe thead th {\n",
              "        text-align: right;\n",
              "    }\n",
              "</style>\n",
              "<table border=\"1\" class=\"dataframe\">\n",
              "  <thead>\n",
              "    <tr style=\"text-align: right;\">\n",
              "      <th></th>\n",
              "      <th>positive</th>\n",
              "      <th>negative</th>\n",
              "      <th>pending</th>\n",
              "      <th>hospitalizedCurrently</th>\n",
              "      <th>hospitalizedCumulative</th>\n",
              "      <th>inIcuCurrently</th>\n",
              "      <th>inIcuCumulative</th>\n",
              "      <th>onVentilatorCurrently</th>\n",
              "      <th>onVentilatorCumulative</th>\n",
              "      <th>recovered</th>\n",
              "      <th>death</th>\n",
              "      <th>hospitalized</th>\n",
              "      <th>total</th>\n",
              "      <th>totalTestResults</th>\n",
              "      <th>posNeg</th>\n",
              "      <th>deathIncrease</th>\n",
              "      <th>hospitalizedIncrease</th>\n",
              "      <th>negativeIncrease</th>\n",
              "      <th>positiveIncrease</th>\n",
              "      <th>totalTestResultsIncrease</th>\n",
              "    </tr>\n",
              "    <tr>\n",
              "      <th>date</th>\n",
              "      <th></th>\n",
              "      <th></th>\n",
              "      <th></th>\n",
              "      <th></th>\n",
              "      <th></th>\n",
              "      <th></th>\n",
              "      <th></th>\n",
              "      <th></th>\n",
              "      <th></th>\n",
              "      <th></th>\n",
              "      <th></th>\n",
              "      <th></th>\n",
              "      <th></th>\n",
              "      <th></th>\n",
              "      <th></th>\n",
              "      <th></th>\n",
              "      <th></th>\n",
              "      <th></th>\n",
              "      <th></th>\n",
              "      <th></th>\n",
              "    </tr>\n",
              "  </thead>\n",
              "  <tbody>\n",
              "    <tr>\n",
              "      <th>2020-04-26</th>\n",
              "      <td>959258</td>\n",
              "      <td>4443794</td>\n",
              "      <td>4445</td>\n",
              "      <td>55050.0</td>\n",
              "      <td>101233.0</td>\n",
              "      <td>14831.0</td>\n",
              "      <td>2571.0</td>\n",
              "      <td>5121.0</td>\n",
              "      <td>227.0</td>\n",
              "      <td>116801.0</td>\n",
              "      <td>49164</td>\n",
              "      <td>101233.0</td>\n",
              "      <td>5407497</td>\n",
              "      <td>5403052.0</td>\n",
              "      <td>5403052.0</td>\n",
              "      <td>1095.0</td>\n",
              "      <td>2134.0</td>\n",
              "      <td>179387.0</td>\n",
              "      <td>27016.0</td>\n",
              "      <td>206403.0</td>\n",
              "    </tr>\n",
              "    <tr>\n",
              "      <th>2020-04-27</th>\n",
              "      <td>981134</td>\n",
              "      <td>4612361</td>\n",
              "      <td>4077</td>\n",
              "      <td>54971.0</td>\n",
              "      <td>104249.0</td>\n",
              "      <td>9655.0</td>\n",
              "      <td>3720.0</td>\n",
              "      <td>4867.0</td>\n",
              "      <td>195.0</td>\n",
              "      <td>121609.0</td>\n",
              "      <td>50327</td>\n",
              "      <td>104249.0</td>\n",
              "      <td>5597572</td>\n",
              "      <td>5593495.0</td>\n",
              "      <td>5593495.0</td>\n",
              "      <td>1163.0</td>\n",
              "      <td>3307.0</td>\n",
              "      <td>168567.0</td>\n",
              "      <td>21876.0</td>\n",
              "      <td>190443.0</td>\n",
              "    </tr>\n",
              "    <tr>\n",
              "      <th>2020-04-28</th>\n",
              "      <td>1005592</td>\n",
              "      <td>4787570</td>\n",
              "      <td>4206</td>\n",
              "      <td>54940.0</td>\n",
              "      <td>106308.0</td>\n",
              "      <td>9491.0</td>\n",
              "      <td>3798.0</td>\n",
              "      <td>4760.0</td>\n",
              "      <td>195.0</td>\n",
              "      <td>139342.0</td>\n",
              "      <td>52525</td>\n",
              "      <td>106308.0</td>\n",
              "      <td>5797368</td>\n",
              "      <td>5793162.0</td>\n",
              "      <td>5793162.0</td>\n",
              "      <td>2198.0</td>\n",
              "      <td>2059.0</td>\n",
              "      <td>175209.0</td>\n",
              "      <td>24458.0</td>\n",
              "      <td>199667.0</td>\n",
              "    </tr>\n",
              "    <tr>\n",
              "      <th>2020-04-29</th>\n",
              "      <td>1033157</td>\n",
              "      <td>4991468</td>\n",
              "      <td>4832</td>\n",
              "      <td>54930.0</td>\n",
              "      <td>109690.0</td>\n",
              "      <td>9612.0</td>\n",
              "      <td>4093.0</td>\n",
              "      <td>4796.0</td>\n",
              "      <td>365.0</td>\n",
              "      <td>147484.0</td>\n",
              "      <td>55225</td>\n",
              "      <td>109690.0</td>\n",
              "      <td>6029457</td>\n",
              "      <td>6024625.0</td>\n",
              "      <td>6024625.0</td>\n",
              "      <td>2700.0</td>\n",
              "      <td>3382.0</td>\n",
              "      <td>203898.0</td>\n",
              "      <td>27565.0</td>\n",
              "      <td>231463.0</td>\n",
              "    </tr>\n",
              "    <tr>\n",
              "      <th>2020-04-30</th>\n",
              "      <td>1061101</td>\n",
              "      <td>5170081</td>\n",
              "      <td>2775</td>\n",
              "      <td>53793.0</td>\n",
              "      <td>111955.0</td>\n",
              "      <td>9486.0</td>\n",
              "      <td>4192.0</td>\n",
              "      <td>4712.0</td>\n",
              "      <td>373.0</td>\n",
              "      <td>153947.0</td>\n",
              "      <td>57266</td>\n",
              "      <td>111955.0</td>\n",
              "      <td>6233957</td>\n",
              "      <td>6231182.0</td>\n",
              "      <td>6231182.0</td>\n",
              "      <td>2041.0</td>\n",
              "      <td>2265.0</td>\n",
              "      <td>178613.0</td>\n",
              "      <td>27944.0</td>\n",
              "      <td>206557.0</td>\n",
              "    </tr>\n",
              "  </tbody>\n",
              "</table>\n",
              "</div>"
            ],
            "text/plain": [
              "            positive  negative  ...  positiveIncrease  totalTestResultsIncrease\n",
              "date                            ...                                            \n",
              "2020-04-26    959258   4443794  ...           27016.0                  206403.0\n",
              "2020-04-27    981134   4612361  ...           21876.0                  190443.0\n",
              "2020-04-28   1005592   4787570  ...           24458.0                  199667.0\n",
              "2020-04-29   1033157   4991468  ...           27565.0                  231463.0\n",
              "2020-04-30   1061101   5170081  ...           27944.0                  206557.0\n",
              "\n",
              "[5 rows x 20 columns]"
            ]
          },
          "metadata": {
            "tags": []
          },
          "execution_count": 10
        }
      ]
    },
    {
      "cell_type": "code",
      "metadata": {
        "id": "bjpo-qlGoA7A",
        "colab_type": "code",
        "outputId": "a2df9b9f-74de-48b4-96ce-5497b809a12c",
        "colab": {
          "base_uri": "https://localhost:8080/",
          "height": 335
        }
      },
      "source": [
        "gbCA.sum()[-5:]"
      ],
      "execution_count": 11,
      "outputs": [
        {
          "output_type": "execute_result",
          "data": {
            "text/html": [
              "<div>\n",
              "<style scoped>\n",
              "    .dataframe tbody tr th:only-of-type {\n",
              "        vertical-align: middle;\n",
              "    }\n",
              "\n",
              "    .dataframe tbody tr th {\n",
              "        vertical-align: top;\n",
              "    }\n",
              "\n",
              "    .dataframe thead th {\n",
              "        text-align: right;\n",
              "    }\n",
              "</style>\n",
              "<table border=\"1\" class=\"dataframe\">\n",
              "  <thead>\n",
              "    <tr style=\"text-align: right;\">\n",
              "      <th></th>\n",
              "      <th>positive</th>\n",
              "      <th>negative</th>\n",
              "      <th>pending</th>\n",
              "      <th>hospitalizedCurrently</th>\n",
              "      <th>hospitalizedCumulative</th>\n",
              "      <th>inIcuCurrently</th>\n",
              "      <th>inIcuCumulative</th>\n",
              "      <th>onVentilatorCurrently</th>\n",
              "      <th>onVentilatorCumulative</th>\n",
              "      <th>recovered</th>\n",
              "      <th>death</th>\n",
              "      <th>hospitalized</th>\n",
              "      <th>total</th>\n",
              "      <th>totalTestResults</th>\n",
              "      <th>posNeg</th>\n",
              "      <th>deathIncrease</th>\n",
              "      <th>hospitalizedIncrease</th>\n",
              "      <th>negativeIncrease</th>\n",
              "      <th>positiveIncrease</th>\n",
              "      <th>totalTestResultsIncrease</th>\n",
              "    </tr>\n",
              "    <tr>\n",
              "      <th>date</th>\n",
              "      <th></th>\n",
              "      <th></th>\n",
              "      <th></th>\n",
              "      <th></th>\n",
              "      <th></th>\n",
              "      <th></th>\n",
              "      <th></th>\n",
              "      <th></th>\n",
              "      <th></th>\n",
              "      <th></th>\n",
              "      <th></th>\n",
              "      <th></th>\n",
              "      <th></th>\n",
              "      <th></th>\n",
              "      <th></th>\n",
              "      <th></th>\n",
              "      <th></th>\n",
              "      <th></th>\n",
              "      <th></th>\n",
              "      <th></th>\n",
              "    </tr>\n",
              "  </thead>\n",
              "  <tbody>\n",
              "    <tr>\n",
              "      <th>2020-04-26</th>\n",
              "      <td>42164</td>\n",
              "      <td>483920</td>\n",
              "      <td>0</td>\n",
              "      <td>4928.0</td>\n",
              "      <td>0.0</td>\n",
              "      <td>1473.0</td>\n",
              "      <td>0.0</td>\n",
              "      <td>0.0</td>\n",
              "      <td>0.0</td>\n",
              "      <td>0.0</td>\n",
              "      <td>1710</td>\n",
              "      <td>0.0</td>\n",
              "      <td>526084</td>\n",
              "      <td>526084.0</td>\n",
              "      <td>526084.0</td>\n",
              "      <td>59.0</td>\n",
              "      <td>0.0</td>\n",
              "      <td>19022.0</td>\n",
              "      <td>1027.0</td>\n",
              "      <td>20049.0</td>\n",
              "    </tr>\n",
              "    <tr>\n",
              "      <th>2020-04-27</th>\n",
              "      <td>43464</td>\n",
              "      <td>509945</td>\n",
              "      <td>0</td>\n",
              "      <td>4878.0</td>\n",
              "      <td>0.0</td>\n",
              "      <td>1499.0</td>\n",
              "      <td>0.0</td>\n",
              "      <td>0.0</td>\n",
              "      <td>0.0</td>\n",
              "      <td>0.0</td>\n",
              "      <td>1755</td>\n",
              "      <td>0.0</td>\n",
              "      <td>553409</td>\n",
              "      <td>553409.0</td>\n",
              "      <td>553409.0</td>\n",
              "      <td>45.0</td>\n",
              "      <td>0.0</td>\n",
              "      <td>26025.0</td>\n",
              "      <td>1300.0</td>\n",
              "      <td>27325.0</td>\n",
              "    </tr>\n",
              "    <tr>\n",
              "      <th>2020-04-28</th>\n",
              "      <td>45031</td>\n",
              "      <td>532577</td>\n",
              "      <td>0</td>\n",
              "      <td>4983.0</td>\n",
              "      <td>0.0</td>\n",
              "      <td>1485.0</td>\n",
              "      <td>0.0</td>\n",
              "      <td>0.0</td>\n",
              "      <td>0.0</td>\n",
              "      <td>0.0</td>\n",
              "      <td>1809</td>\n",
              "      <td>0.0</td>\n",
              "      <td>577608</td>\n",
              "      <td>577608.0</td>\n",
              "      <td>577608.0</td>\n",
              "      <td>54.0</td>\n",
              "      <td>0.0</td>\n",
              "      <td>22632.0</td>\n",
              "      <td>1567.0</td>\n",
              "      <td>24199.0</td>\n",
              "    </tr>\n",
              "    <tr>\n",
              "      <th>2020-04-29</th>\n",
              "      <td>46500</td>\n",
              "      <td>556639</td>\n",
              "      <td>0</td>\n",
              "      <td>5011.0</td>\n",
              "      <td>0.0</td>\n",
              "      <td>1512.0</td>\n",
              "      <td>0.0</td>\n",
              "      <td>0.0</td>\n",
              "      <td>0.0</td>\n",
              "      <td>0.0</td>\n",
              "      <td>1887</td>\n",
              "      <td>0.0</td>\n",
              "      <td>603139</td>\n",
              "      <td>603139.0</td>\n",
              "      <td>603139.0</td>\n",
              "      <td>78.0</td>\n",
              "      <td>0.0</td>\n",
              "      <td>24062.0</td>\n",
              "      <td>1469.0</td>\n",
              "      <td>25531.0</td>\n",
              "    </tr>\n",
              "    <tr>\n",
              "      <th>2020-04-30</th>\n",
              "      <td>48917</td>\n",
              "      <td>576420</td>\n",
              "      <td>0</td>\n",
              "      <td>4981.0</td>\n",
              "      <td>0.0</td>\n",
              "      <td>1473.0</td>\n",
              "      <td>0.0</td>\n",
              "      <td>0.0</td>\n",
              "      <td>0.0</td>\n",
              "      <td>0.0</td>\n",
              "      <td>1982</td>\n",
              "      <td>0.0</td>\n",
              "      <td>625337</td>\n",
              "      <td>625337.0</td>\n",
              "      <td>625337.0</td>\n",
              "      <td>95.0</td>\n",
              "      <td>0.0</td>\n",
              "      <td>19781.0</td>\n",
              "      <td>2417.0</td>\n",
              "      <td>22198.0</td>\n",
              "    </tr>\n",
              "  </tbody>\n",
              "</table>\n",
              "</div>"
            ],
            "text/plain": [
              "            positive  negative  ...  positiveIncrease  totalTestResultsIncrease\n",
              "date                            ...                                            \n",
              "2020-04-26     42164    483920  ...            1027.0                   20049.0\n",
              "2020-04-27     43464    509945  ...            1300.0                   27325.0\n",
              "2020-04-28     45031    532577  ...            1567.0                   24199.0\n",
              "2020-04-29     46500    556639  ...            1469.0                   25531.0\n",
              "2020-04-30     48917    576420  ...            2417.0                   22198.0\n",
              "\n",
              "[5 rows x 20 columns]"
            ]
          },
          "metadata": {
            "tags": []
          },
          "execution_count": 11
        }
      ]
    },
    {
      "cell_type": "code",
      "metadata": {
        "id": "916a0sCVdNRQ",
        "colab_type": "code",
        "outputId": "2ee0b8b1-1618-4c13-a8d4-29e5882d6a9b",
        "colab": {
          "base_uri": "https://localhost:8080/",
          "height": 302
        }
      },
      "source": [
        "x=gbUSA.sum().loc[:, ['positive', 'negative','death','total']].plot.line()"
      ],
      "execution_count": 12,
      "outputs": [
        {
          "output_type": "display_data",
          "data": {
            "image/png": "[encoded data removed]",
            "text/plain": [
              "<Figure size 432x288 with 1 Axes>"
            ]
          },
          "metadata": {
            "tags": [],
            "needs_background": "light"
          }
        }
      ]
    },
    {
      "cell_type": "code",
      "metadata": {
        "id": "WewkySHXaLc4",
        "colab_type": "code",
        "outputId": "c43c9283-3bd8-45de-b97c-cd9ffbd9d024",
        "colab": {
          "base_uri": "https://localhost:8080/",
          "height": 498
        }
      },
      "source": [
        "dfWHO[-14:]"
      ],
      "execution_count": 13,
      "outputs": [
        {
          "output_type": "execute_result",
          "data": {
            "text/html": [
              "<div>\n",
              "<style scoped>\n",
              "    .dataframe tbody tr th:only-of-type {\n",
              "        vertical-align: middle;\n",
              "    }\n",
              "\n",
              "    .dataframe tbody tr th {\n",
              "        vertical-align: top;\n",
              "    }\n",
              "\n",
              "    .dataframe thead th {\n",
              "        text-align: right;\n",
              "    }\n",
              "</style>\n",
              "<table border=\"1\" class=\"dataframe\">\n",
              "  <thead>\n",
              "    <tr style=\"text-align: right;\">\n",
              "      <th></th>\n",
              "      <th>confirmed</th>\n",
              "      <th>who_deaths</th>\n",
              "    </tr>\n",
              "    <tr>\n",
              "      <th>date</th>\n",
              "      <th></th>\n",
              "      <th></th>\n",
              "    </tr>\n",
              "  </thead>\n",
              "  <tbody>\n",
              "    <tr>\n",
              "      <th>2020-04-17</th>\n",
              "      <td>632781</td>\n",
              "      <td>28221</td>\n",
              "    </tr>\n",
              "    <tr>\n",
              "      <th>2020-04-18</th>\n",
              "      <td>665330</td>\n",
              "      <td>30384</td>\n",
              "    </tr>\n",
              "    <tr>\n",
              "      <th>2020-04-19</th>\n",
              "      <td>695353</td>\n",
              "      <td>32427</td>\n",
              "    </tr>\n",
              "    <tr>\n",
              "      <th>2020-04-20</th>\n",
              "      <td>723605</td>\n",
              "      <td>34203</td>\n",
              "    </tr>\n",
              "    <tr>\n",
              "      <th>2020-04-21</th>\n",
              "      <td>751273</td>\n",
              "      <td>35884</td>\n",
              "    </tr>\n",
              "    <tr>\n",
              "      <th>2020-04-22</th>\n",
              "      <td>776907</td>\n",
              "      <td>37602</td>\n",
              "    </tr>\n",
              "    <tr>\n",
              "      <th>2020-04-23</th>\n",
              "      <td>800926</td>\n",
              "      <td>40073</td>\n",
              "    </tr>\n",
              "    <tr>\n",
              "      <th>2020-04-24</th>\n",
              "      <td>830053</td>\n",
              "      <td>42311</td>\n",
              "    </tr>\n",
              "    <tr>\n",
              "      <th>2020-04-25</th>\n",
              "      <td>860772</td>\n",
              "      <td>44053</td>\n",
              "    </tr>\n",
              "    <tr>\n",
              "      <th>2020-04-26</th>\n",
              "      <td>899281</td>\n",
              "      <td>46204</td>\n",
              "    </tr>\n",
              "    <tr>\n",
              "      <th>2020-04-27</th>\n",
              "      <td>931698</td>\n",
              "      <td>47980</td>\n",
              "    </tr>\n",
              "    <tr>\n",
              "      <th>2020-04-28</th>\n",
              "      <td>960916</td>\n",
              "      <td>49170</td>\n",
              "    </tr>\n",
              "    <tr>\n",
              "      <th>2020-04-29</th>\n",
              "      <td>983457</td>\n",
              "      <td>50492</td>\n",
              "    </tr>\n",
              "    <tr>\n",
              "      <th>2020-04-30</th>\n",
              "      <td>1003974</td>\n",
              "      <td>52428</td>\n",
              "    </tr>\n",
              "  </tbody>\n",
              "</table>\n",
              "</div>"
            ],
            "text/plain": [
              "            confirmed  who_deaths\n",
              "date                             \n",
              "2020-04-17     632781       28221\n",
              "2020-04-18     665330       30384\n",
              "2020-04-19     695353       32427\n",
              "2020-04-20     723605       34203\n",
              "2020-04-21     751273       35884\n",
              "2020-04-22     776907       37602\n",
              "2020-04-23     800926       40073\n",
              "2020-04-24     830053       42311\n",
              "2020-04-25     860772       44053\n",
              "2020-04-26     899281       46204\n",
              "2020-04-27     931698       47980\n",
              "2020-04-28     960916       49170\n",
              "2020-04-29     983457       50492\n",
              "2020-04-30    1003974       52428"
            ]
          },
          "metadata": {
            "tags": []
          },
          "execution_count": 13
        }
      ]
    },
    {
      "cell_type": "code",
      "metadata": {
        "id": "Ftv2uSph2y7_",
        "colab_type": "code",
        "outputId": "e7df65ef-4835-45ff-b3c5-a05aad06cfeb",
        "colab": {
          "base_uri": "https://localhost:8080/",
          "height": 320
        }
      },
      "source": [
        "dfResults = gbUSA.sum().join(dfWHO, how='left', rsuffix='_who' )\n",
        "dfResults.loc[:, ['positive', 'confirmed']].plot.line()"
      ],
      "execution_count": 14,
      "outputs": [
        {
          "output_type": "execute_result",
          "data": {
            "text/plain": [
              "<matplotlib.axes._subplots.AxesSubplot at 0x7fe98e18b0b8>"
            ]
          },
          "metadata": {
            "tags": []
          },
          "execution_count": 14
        },
        {
          "output_type": "display_data",
          "data": {
            "image/png": "[encoded data removed]",
            "text/plain": [
              "<Figure size 432x288 with 1 Axes>"
            ]
          },
          "metadata": {
            "tags": [],
            "needs_background": "light"
          }
        }
      ]
    },
    {
      "cell_type": "code",
      "metadata": {
        "id": "DTXXmezEHYPV",
        "colab_type": "code",
        "colab": {}
      },
      "source": [
        ""
      ],
      "execution_count": 0,
      "outputs": []
    },
    {
      "cell_type": "code",
      "metadata": {
        "colab_type": "code",
        "id": "55lq16z8w_Ec",
        "outputId": "85aaed8b-2b8c-4cbf-ad5d-89b1d8136320",
        "colab": {
          "base_uri": "https://localhost:8080/",
          "height": 429
        }
      },
      "source": [
        "gbCA.sum()[-7:]"
      ],
      "execution_count": 15,
      "outputs": [
        {
          "output_type": "execute_result",
          "data": {
            "text/html": [
              "<div>\n",
              "<style scoped>\n",
              "    .dataframe tbody tr th:only-of-type {\n",
              "        vertical-align: middle;\n",
              "    }\n",
              "\n",
              "    .dataframe tbody tr th {\n",
              "        vertical-align: top;\n",
              "    }\n",
              "\n",
              "    .dataframe thead th {\n",
              "        text-align: right;\n",
              "    }\n",
              "</style>\n",
              "<table border=\"1\" class=\"dataframe\">\n",
              "  <thead>\n",
              "    <tr style=\"text-align: right;\">\n",
              "      <th></th>\n",
              "      <th>positive</th>\n",
              "      <th>negative</th>\n",
              "      <th>pending</th>\n",
              "      <th>hospitalizedCurrently</th>\n",
              "      <th>hospitalizedCumulative</th>\n",
              "      <th>inIcuCurrently</th>\n",
              "      <th>inIcuCumulative</th>\n",
              "      <th>onVentilatorCurrently</th>\n",
              "      <th>onVentilatorCumulative</th>\n",
              "      <th>recovered</th>\n",
              "      <th>death</th>\n",
              "      <th>hospitalized</th>\n",
              "      <th>total</th>\n",
              "      <th>totalTestResults</th>\n",
              "      <th>posNeg</th>\n",
              "      <th>deathIncrease</th>\n",
              "      <th>hospitalizedIncrease</th>\n",
              "      <th>negativeIncrease</th>\n",
              "      <th>positiveIncrease</th>\n",
              "      <th>totalTestResultsIncrease</th>\n",
              "    </tr>\n",
              "    <tr>\n",
              "      <th>date</th>\n",
              "      <th></th>\n",
              "      <th></th>\n",
              "      <th></th>\n",
              "      <th></th>\n",
              "      <th></th>\n",
              "      <th></th>\n",
              "      <th></th>\n",
              "      <th></th>\n",
              "      <th></th>\n",
              "      <th></th>\n",
              "      <th></th>\n",
              "      <th></th>\n",
              "      <th></th>\n",
              "      <th></th>\n",
              "      <th></th>\n",
              "      <th></th>\n",
              "      <th></th>\n",
              "      <th></th>\n",
              "      <th></th>\n",
              "      <th></th>\n",
              "    </tr>\n",
              "  </thead>\n",
              "  <tbody>\n",
              "    <tr>\n",
              "      <th>2020-04-24</th>\n",
              "      <td>39254</td>\n",
              "      <td>454919</td>\n",
              "      <td>0</td>\n",
              "      <td>4880.0</td>\n",
              "      <td>0.0</td>\n",
              "      <td>1521.0</td>\n",
              "      <td>0.0</td>\n",
              "      <td>0.0</td>\n",
              "      <td>0.0</td>\n",
              "      <td>0.0</td>\n",
              "      <td>1562</td>\n",
              "      <td>0.0</td>\n",
              "      <td>494173</td>\n",
              "      <td>494173.0</td>\n",
              "      <td>494173.0</td>\n",
              "      <td>93.0</td>\n",
              "      <td>0.0</td>\n",
              "      <td>10191.0</td>\n",
              "      <td>1885.0</td>\n",
              "      <td>12076.0</td>\n",
              "    </tr>\n",
              "    <tr>\n",
              "      <th>2020-04-25</th>\n",
              "      <td>41137</td>\n",
              "      <td>464898</td>\n",
              "      <td>0</td>\n",
              "      <td>4847.0</td>\n",
              "      <td>0.0</td>\n",
              "      <td>1458.0</td>\n",
              "      <td>0.0</td>\n",
              "      <td>0.0</td>\n",
              "      <td>0.0</td>\n",
              "      <td>0.0</td>\n",
              "      <td>1651</td>\n",
              "      <td>0.0</td>\n",
              "      <td>506035</td>\n",
              "      <td>506035.0</td>\n",
              "      <td>506035.0</td>\n",
              "      <td>89.0</td>\n",
              "      <td>0.0</td>\n",
              "      <td>9979.0</td>\n",
              "      <td>1883.0</td>\n",
              "      <td>11862.0</td>\n",
              "    </tr>\n",
              "    <tr>\n",
              "      <th>2020-04-26</th>\n",
              "      <td>42164</td>\n",
              "      <td>483920</td>\n",
              "      <td>0</td>\n",
              "      <td>4928.0</td>\n",
              "      <td>0.0</td>\n",
              "      <td>1473.0</td>\n",
              "      <td>0.0</td>\n",
              "      <td>0.0</td>\n",
              "      <td>0.0</td>\n",
              "      <td>0.0</td>\n",
              "      <td>1710</td>\n",
              "      <td>0.0</td>\n",
              "      <td>526084</td>\n",
              "      <td>526084.0</td>\n",
              "      <td>526084.0</td>\n",
              "      <td>59.0</td>\n",
              "      <td>0.0</td>\n",
              "      <td>19022.0</td>\n",
              "      <td>1027.0</td>\n",
              "      <td>20049.0</td>\n",
              "    </tr>\n",
              "    <tr>\n",
              "      <th>2020-04-27</th>\n",
              "      <td>43464</td>\n",
              "      <td>509945</td>\n",
              "      <td>0</td>\n",
              "      <td>4878.0</td>\n",
              "      <td>0.0</td>\n",
              "      <td>1499.0</td>\n",
              "      <td>0.0</td>\n",
              "      <td>0.0</td>\n",
              "      <td>0.0</td>\n",
              "      <td>0.0</td>\n",
              "      <td>1755</td>\n",
              "      <td>0.0</td>\n",
              "      <td>553409</td>\n",
              "      <td>553409.0</td>\n",
              "      <td>553409.0</td>\n",
              "      <td>45.0</td>\n",
              "      <td>0.0</td>\n",
              "      <td>26025.0</td>\n",
              "      <td>1300.0</td>\n",
              "      <td>27325.0</td>\n",
              "    </tr>\n",
              "    <tr>\n",
              "      <th>2020-04-28</th>\n",
              "      <td>45031</td>\n",
              "      <td>532577</td>\n",
              "      <td>0</td>\n",
              "      <td>4983.0</td>\n",
              "      <td>0.0</td>\n",
              "      <td>1485.0</td>\n",
              "      <td>0.0</td>\n",
              "      <td>0.0</td>\n",
              "      <td>0.0</td>\n",
              "      <td>0.0</td>\n",
              "      <td>1809</td>\n",
              "      <td>0.0</td>\n",
              "      <td>577608</td>\n",
              "      <td>577608.0</td>\n",
              "      <td>577608.0</td>\n",
              "      <td>54.0</td>\n",
              "      <td>0.0</td>\n",
              "      <td>22632.0</td>\n",
              "      <td>1567.0</td>\n",
              "      <td>24199.0</td>\n",
              "    </tr>\n",
              "    <tr>\n",
              "      <th>2020-04-29</th>\n",
              "      <td>46500</td>\n",
              "      <td>556639</td>\n",
              "      <td>0</td>\n",
              "      <td>5011.0</td>\n",
              "      <td>0.0</td>\n",
              "      <td>1512.0</td>\n",
              "      <td>0.0</td>\n",
              "      <td>0.0</td>\n",
              "      <td>0.0</td>\n",
              "      <td>0.0</td>\n",
              "      <td>1887</td>\n",
              "      <td>0.0</td>\n",
              "      <td>603139</td>\n",
              "      <td>603139.0</td>\n",
              "      <td>603139.0</td>\n",
              "      <td>78.0</td>\n",
              "      <td>0.0</td>\n",
              "      <td>24062.0</td>\n",
              "      <td>1469.0</td>\n",
              "      <td>25531.0</td>\n",
              "    </tr>\n",
              "    <tr>\n",
              "      <th>2020-04-30</th>\n",
              "      <td>48917</td>\n",
              "      <td>576420</td>\n",
              "      <td>0</td>\n",
              "      <td>4981.0</td>\n",
              "      <td>0.0</td>\n",
              "      <td>1473.0</td>\n",
              "      <td>0.0</td>\n",
              "      <td>0.0</td>\n",
              "      <td>0.0</td>\n",
              "      <td>0.0</td>\n",
              "      <td>1982</td>\n",
              "      <td>0.0</td>\n",
              "      <td>625337</td>\n",
              "      <td>625337.0</td>\n",
              "      <td>625337.0</td>\n",
              "      <td>95.0</td>\n",
              "      <td>0.0</td>\n",
              "      <td>19781.0</td>\n",
              "      <td>2417.0</td>\n",
              "      <td>22198.0</td>\n",
              "    </tr>\n",
              "  </tbody>\n",
              "</table>\n",
              "</div>"
            ],
            "text/plain": [
              "            positive  negative  ...  positiveIncrease  totalTestResultsIncrease\n",
              "date                            ...                                            \n",
              "2020-04-24     39254    454919  ...            1885.0                   12076.0\n",
              "2020-04-25     41137    464898  ...            1883.0                   11862.0\n",
              "2020-04-26     42164    483920  ...            1027.0                   20049.0\n",
              "2020-04-27     43464    509945  ...            1300.0                   27325.0\n",
              "2020-04-28     45031    532577  ...            1567.0                   24199.0\n",
              "2020-04-29     46500    556639  ...            1469.0                   25531.0\n",
              "2020-04-30     48917    576420  ...            2417.0                   22198.0\n",
              "\n",
              "[7 rows x 20 columns]"
            ]
          },
          "metadata": {
            "tags": []
          },
          "execution_count": 15
        }
      ]
    },
    {
      "cell_type": "code",
      "metadata": {
        "id": "3WBkdfv2eLEc",
        "colab_type": "code",
        "outputId": "fc594463-cb19-4e4d-d810-24ccd3913dd9",
        "colab": {
          "base_uri": "https://localhost:8080/",
          "height": 72
        }
      },
      "source": [
        "dfJHUData[dfJHUData.country=='US'][['confirmed', 'dead']].sum()"
      ],
      "execution_count": 16,
      "outputs": [
        {
          "output_type": "execute_result",
          "data": {
            "text/plain": [
              "confirmed    1069424\n",
              "dead           62996\n",
              "dtype: int64"
            ]
          },
          "metadata": {
            "tags": []
          },
          "execution_count": 16
        }
      ]
    },
    {
      "cell_type": "code",
      "metadata": {
        "id": "NUQ35Inse05H",
        "colab_type": "code",
        "outputId": "5476c7e0-33ff-4fca-aa77-cb3c549cc31d",
        "colab": {
          "base_uri": "https://localhost:8080/",
          "height": 72
        }
      },
      "source": [
        "dfJHUData[(dfJHUData.country=='US')&(dfJHUData.state=='California')][['confirmed', 'dead']].sum()"
      ],
      "execution_count": 17,
      "outputs": [
        {
          "output_type": "execute_result",
          "data": {
            "text/plain": [
              "confirmed    50130\n",
              "dead          2031\n",
              "dtype: int64"
            ]
          },
          "metadata": {
            "tags": []
          },
          "execution_count": 17
        }
      ]
    },
    {
      "cell_type": "code",
      "metadata": {
        "id": "H0JVVTFGfMOW",
        "colab_type": "code",
        "colab": {}
      },
      "source": [
        "dfJHUUS = dfJHUData[dfJHUData.country=='US']\n",
        "gbJHUByState= dfJHUUS.groupby(by='state')\n",
        "gbJHUByCountry = dfJHUData.groupby(by='country')"
      ],
      "execution_count": 0,
      "outputs": []
    },
    {
      "cell_type": "code",
      "metadata": {
        "id": "W8qWd0AYmg58",
        "colab_type": "code",
        "outputId": "dabbbc8e-9af2-4b87-d86d-23236e13d0f0",
        "colab": {
          "base_uri": "https://localhost:8080/",
          "height": 235
        }
      },
      "source": [
        "gbJHUByCountry.confirmed.sum().sort_values(ascending=False).head(10)"
      ],
      "execution_count": 19,
      "outputs": [
        {
          "output_type": "execute_result",
          "data": {
            "text/plain": [
              "country\n",
              "US                1069424\n",
              "Spain              213435\n",
              "Italy              205463\n",
              "United Kingdom     172481\n",
              "France             167299\n",
              "Germany            163009\n",
              "Turkey             120204\n",
              "Russia             106498\n",
              "Iran                94640\n",
              "Brazil              87187\n",
              "Name: confirmed, dtype: int64"
            ]
          },
          "metadata": {
            "tags": []
          },
          "execution_count": 19
        }
      ]
    },
    {
      "cell_type": "code",
      "metadata": {
        "id": "9crIlvPH4oSU",
        "colab_type": "code",
        "colab": {}
      },
      "source": [
        "dfData = dfCovidtracking.groupby('date')"
      ],
      "execution_count": 0,
      "outputs": []
    },
    {
      "cell_type": "code",
      "metadata": {
        "id": "SjlCtiOt2b__",
        "colab_type": "code",
        "colab": {}
      },
      "source": [
        "dfStateTotal = dfCovidtracking[['state', 'positive']].groupby(by='state').max() \\\n",
        ".rename(columns={'positive':'current_total'})\n"
      ],
      "execution_count": 0,
      "outputs": []
    },
    {
      "cell_type": "code",
      "metadata": {
        "id": "iPsfvvHC2_j1",
        "colab_type": "code",
        "colab": {}
      },
      "source": [
        "dfState = dfCovidtracking[['date','state','positive', 'death']].set_index('state') \\\n",
        "  .join(dfStateTotal)"
      ],
      "execution_count": 0,
      "outputs": []
    },
    {
      "cell_type": "code",
      "metadata": {
        "id": "AkxH55Mx5yE6",
        "colab_type": "code",
        "colab": {}
      },
      "source": [
        "dfState['pct']=dfState.positive/dfState.current_total"
      ],
      "execution_count": 0,
      "outputs": []
    },
    {
      "cell_type": "code",
      "metadata": {
        "id": "PKQ2rgz76XZR",
        "colab_type": "code",
        "outputId": "9c349e24-e77b-43a6-8305-ead26b66ef51",
        "colab": {
          "base_uri": "https://localhost:8080/",
          "height": 288
        }
      },
      "source": [
        "dfState.loc['FL'].head(7)"
      ],
      "execution_count": 24,
      "outputs": [
        {
          "output_type": "execute_result",
          "data": {
            "text/html": [
              "<div>\n",
              "<style scoped>\n",
              "    .dataframe tbody tr th:only-of-type {\n",
              "        vertical-align: middle;\n",
              "    }\n",
              "\n",
              "    .dataframe tbody tr th {\n",
              "        vertical-align: top;\n",
              "    }\n",
              "\n",
              "    .dataframe thead th {\n",
              "        text-align: right;\n",
              "    }\n",
              "</style>\n",
              "<table border=\"1\" class=\"dataframe\">\n",
              "  <thead>\n",
              "    <tr style=\"text-align: right;\">\n",
              "      <th></th>\n",
              "      <th>date</th>\n",
              "      <th>positive</th>\n",
              "      <th>death</th>\n",
              "      <th>current_total</th>\n",
              "      <th>pct</th>\n",
              "    </tr>\n",
              "    <tr>\n",
              "      <th>state</th>\n",
              "      <th></th>\n",
              "      <th></th>\n",
              "      <th></th>\n",
              "      <th></th>\n",
              "      <th></th>\n",
              "    </tr>\n",
              "  </thead>\n",
              "  <tbody>\n",
              "    <tr>\n",
              "      <th>FL</th>\n",
              "      <td>2020-04-30</td>\n",
              "      <td>33690</td>\n",
              "      <td>1290</td>\n",
              "      <td>33690</td>\n",
              "      <td>1.000000</td>\n",
              "    </tr>\n",
              "    <tr>\n",
              "      <th>FL</th>\n",
              "      <td>2020-04-29</td>\n",
              "      <td>33193</td>\n",
              "      <td>1240</td>\n",
              "      <td>33690</td>\n",
              "      <td>0.985248</td>\n",
              "    </tr>\n",
              "    <tr>\n",
              "      <th>FL</th>\n",
              "      <td>2020-04-28</td>\n",
              "      <td>32846</td>\n",
              "      <td>1154</td>\n",
              "      <td>33690</td>\n",
              "      <td>0.974948</td>\n",
              "    </tr>\n",
              "    <tr>\n",
              "      <th>FL</th>\n",
              "      <td>2020-04-27</td>\n",
              "      <td>32138</td>\n",
              "      <td>1101</td>\n",
              "      <td>33690</td>\n",
              "      <td>0.953933</td>\n",
              "    </tr>\n",
              "    <tr>\n",
              "      <th>FL</th>\n",
              "      <td>2020-04-26</td>\n",
              "      <td>31528</td>\n",
              "      <td>1094</td>\n",
              "      <td>33690</td>\n",
              "      <td>0.935827</td>\n",
              "    </tr>\n",
              "    <tr>\n",
              "      <th>FL</th>\n",
              "      <td>2020-04-25</td>\n",
              "      <td>30839</td>\n",
              "      <td>1075</td>\n",
              "      <td>33690</td>\n",
              "      <td>0.915375</td>\n",
              "    </tr>\n",
              "    <tr>\n",
              "      <th>FL</th>\n",
              "      <td>2020-04-24</td>\n",
              "      <td>30174</td>\n",
              "      <td>1031</td>\n",
              "      <td>33690</td>\n",
              "      <td>0.895637</td>\n",
              "    </tr>\n",
              "  </tbody>\n",
              "</table>\n",
              "</div>"
            ],
            "text/plain": [
              "            date  positive  death  current_total       pct\n",
              "state                                                     \n",
              "FL    2020-04-30     33690   1290          33690  1.000000\n",
              "FL    2020-04-29     33193   1240          33690  0.985248\n",
              "FL    2020-04-28     32846   1154          33690  0.974948\n",
              "FL    2020-04-27     32138   1101          33690  0.953933\n",
              "FL    2020-04-26     31528   1094          33690  0.935827\n",
              "FL    2020-04-25     30839   1075          33690  0.915375\n",
              "FL    2020-04-24     30174   1031          33690  0.895637"
            ]
          },
          "metadata": {
            "tags": []
          },
          "execution_count": 24
        }
      ]
    },
    {
      "cell_type": "code",
      "metadata": {
        "id": "dkgVF6Q19glV",
        "colab_type": "code",
        "colab": {}
      },
      "source": [
        "res = dfState.reset_index().pivot(index = 'date', columns='state', values='pct').fillna(0)"
      ],
      "execution_count": 0,
      "outputs": []
    },
    {
      "cell_type": "code",
      "metadata": {
        "id": "w1ml4KC6BF7q",
        "colab_type": "code",
        "outputId": "37d68ad6-87d7-446b-a138-19ce98a41164",
        "colab": {
          "base_uri": "https://localhost:8080/",
          "height": 291
        }
      },
      "source": [
        "x = res.loc[:, ['CA','FL']].plot.line()"
      ],
      "execution_count": 26,
      "outputs": [
        {
          "output_type": "display_data",
          "data": {
            "image/png": "[encoded data removed]",
            "text/plain": [
              "<Figure size 432x288 with 1 Axes>"
            ]
          },
          "metadata": {
            "tags": [],
            "needs_background": "light"
          }
        }
      ]
    },
    {
      "cell_type": "code",
      "metadata": {
        "id": "eaLSwLbuBLY0",
        "colab_type": "code",
        "colab": {}
      },
      "source": [
        "dfNYTesting = dfCovidtracking.loc[dfCovidtracking.state=='NY', ['date', 'negative']].set_index('date')"
      ],
      "execution_count": 0,
      "outputs": []
    },
    {
      "cell_type": "code",
      "metadata": {
        "id": "vhL4WBWECIhP",
        "colab_type": "code",
        "outputId": "a6de334d-30bf-4086-9e4a-e25fe71999e1",
        "colab": {
          "base_uri": "https://localhost:8080/",
          "height": 291
        }
      },
      "source": [
        "x = dfCovidtracking.groupby(by='date')\n",
        "#y=x.positive.plot.line()\n",
        "y1=x.sum().deathIncrease.plot.line()"
      ],
      "execution_count": 28,
      "outputs": [
        {
          "output_type": "display_data",
          "data": {
            "image/png": "[encoded data removed]",
            "text/plain": [
              "<Figure size 432x288 with 1 Axes>"
            ]
          },
          "metadata": {
            "tags": [],
            "needs_background": "light"
          }
        }
      ]
    },
    {
      "cell_type": "code",
      "metadata": {
        "id": "NjDtqBrvDRMu",
        "colab_type": "code",
        "colab": {}
      },
      "source": [
        "def getWeek(dt):\n",
        "  return (dt.year*100)+dt.week\n",
        "\n",
        "dfByWeekYear = dfCovidtracking.set_index('date')[['deathIncrease', 'hospitalizedIncrease', 'negativeIncrease','positiveIncrease','totalTestResultsIncrease']].groupby(by=getWeek)\n"
      ],
      "execution_count": 0,
      "outputs": []
    },
    {
      "cell_type": "code",
      "metadata": {
        "id": "QlApKolYEeQk",
        "colab_type": "code",
        "outputId": "a75d0064-f16d-4a12-a8b8-6eae1c7118d8",
        "colab": {
          "base_uri": "https://localhost:8080/",
          "height": 488
        }
      },
      "source": [
        "dfByWeekYear.sum()[:-1]"
      ],
      "execution_count": 30,
      "outputs": [
        {
          "output_type": "execute_result",
          "data": {
            "text/html": [
              "<div>\n",
              "<style scoped>\n",
              "    .dataframe tbody tr th:only-of-type {\n",
              "        vertical-align: middle;\n",
              "    }\n",
              "\n",
              "    .dataframe tbody tr th {\n",
              "        vertical-align: top;\n",
              "    }\n",
              "\n",
              "    .dataframe thead th {\n",
              "        text-align: right;\n",
              "    }\n",
              "</style>\n",
              "<table border=\"1\" class=\"dataframe\">\n",
              "  <thead>\n",
              "    <tr style=\"text-align: right;\">\n",
              "      <th></th>\n",
              "      <th>deathIncrease</th>\n",
              "      <th>hospitalizedIncrease</th>\n",
              "      <th>negativeIncrease</th>\n",
              "      <th>positiveIncrease</th>\n",
              "      <th>totalTestResultsIncrease</th>\n",
              "    </tr>\n",
              "  </thead>\n",
              "  <tbody>\n",
              "    <tr>\n",
              "      <th>202004</th>\n",
              "      <td>0.0</td>\n",
              "      <td>0.0</td>\n",
              "      <td>0.0</td>\n",
              "      <td>0.0</td>\n",
              "      <td>0.0</td>\n",
              "    </tr>\n",
              "    <tr>\n",
              "      <th>202005</th>\n",
              "      <td>0.0</td>\n",
              "      <td>0.0</td>\n",
              "      <td>0.0</td>\n",
              "      <td>0.0</td>\n",
              "      <td>0.0</td>\n",
              "    </tr>\n",
              "    <tr>\n",
              "      <th>202006</th>\n",
              "      <td>0.0</td>\n",
              "      <td>0.0</td>\n",
              "      <td>0.0</td>\n",
              "      <td>1.0</td>\n",
              "      <td>1.0</td>\n",
              "    </tr>\n",
              "    <tr>\n",
              "      <th>202007</th>\n",
              "      <td>0.0</td>\n",
              "      <td>0.0</td>\n",
              "      <td>0.0</td>\n",
              "      <td>0.0</td>\n",
              "      <td>0.0</td>\n",
              "    </tr>\n",
              "    <tr>\n",
              "      <th>202008</th>\n",
              "      <td>0.0</td>\n",
              "      <td>0.0</td>\n",
              "      <td>0.0</td>\n",
              "      <td>0.0</td>\n",
              "      <td>0.0</td>\n",
              "    </tr>\n",
              "    <tr>\n",
              "      <th>202009</th>\n",
              "      <td>8.0</td>\n",
              "      <td>0.0</td>\n",
              "      <td>81.0</td>\n",
              "      <td>28.0</td>\n",
              "      <td>109.0</td>\n",
              "    </tr>\n",
              "    <tr>\n",
              "      <th>202010</th>\n",
              "      <td>23.0</td>\n",
              "      <td>0.0</td>\n",
              "      <td>2821.0</td>\n",
              "      <td>595.0</td>\n",
              "      <td>3416.0</td>\n",
              "    </tr>\n",
              "    <tr>\n",
              "      <th>202011</th>\n",
              "      <td>46.0</td>\n",
              "      <td>0.0</td>\n",
              "      <td>30203.0</td>\n",
              "      <td>4114.0</td>\n",
              "      <td>34317.0</td>\n",
              "    </tr>\n",
              "    <tr>\n",
              "      <th>202012</th>\n",
              "      <td>359.0</td>\n",
              "      <td>2498.0</td>\n",
              "      <td>179297.0</td>\n",
              "      <td>31482.0</td>\n",
              "      <td>210779.0</td>\n",
              "    </tr>\n",
              "    <tr>\n",
              "      <th>202013</th>\n",
              "      <td>2091.0</td>\n",
              "      <td>13766.0</td>\n",
              "      <td>497952.0</td>\n",
              "      <td>107963.0</td>\n",
              "      <td>605915.0</td>\n",
              "    </tr>\n",
              "    <tr>\n",
              "      <th>202014</th>\n",
              "      <td>7187.0</td>\n",
              "      <td>24448.0</td>\n",
              "      <td>744416.0</td>\n",
              "      <td>190421.0</td>\n",
              "      <td>934837.0</td>\n",
              "    </tr>\n",
              "    <tr>\n",
              "      <th>202015</th>\n",
              "      <td>12523.0</td>\n",
              "      <td>22930.0</td>\n",
              "      <td>834613.0</td>\n",
              "      <td>217188.0</td>\n",
              "      <td>1051801.0</td>\n",
              "    </tr>\n",
              "    <tr>\n",
              "      <th>202016</th>\n",
              "      <td>13987.0</td>\n",
              "      <td>21570.0</td>\n",
              "      <td>849680.0</td>\n",
              "      <td>199381.0</td>\n",
              "      <td>1049061.0</td>\n",
              "    </tr>\n",
              "    <tr>\n",
              "      <th>202017</th>\n",
              "      <td>12940.0</td>\n",
              "      <td>18513.0</td>\n",
              "      <td>1303698.0</td>\n",
              "      <td>207971.0</td>\n",
              "      <td>1511669.0</td>\n",
              "    </tr>\n",
              "  </tbody>\n",
              "</table>\n",
              "</div>"
            ],
            "text/plain": [
              "        deathIncrease  ...  totalTestResultsIncrease\n",
              "202004            0.0  ...                       0.0\n",
              "202005            0.0  ...                       0.0\n",
              "202006            0.0  ...                       1.0\n",
              "202007            0.0  ...                       0.0\n",
              "202008            0.0  ...                       0.0\n",
              "202009            8.0  ...                     109.0\n",
              "202010           23.0  ...                    3416.0\n",
              "202011           46.0  ...                   34317.0\n",
              "202012          359.0  ...                  210779.0\n",
              "202013         2091.0  ...                  605915.0\n",
              "202014         7187.0  ...                  934837.0\n",
              "202015        12523.0  ...                 1051801.0\n",
              "202016        13987.0  ...                 1049061.0\n",
              "202017        12940.0  ...                 1511669.0\n",
              "\n",
              "[14 rows x 5 columns]"
            ]
          },
          "metadata": {
            "tags": []
          },
          "execution_count": 30
        }
      ]
    },
    {
      "cell_type": "code",
      "metadata": {
        "id": "1kOc3QH1FpMu",
        "colab_type": "code",
        "outputId": "3aa54dc3-01dd-4ec0-e92f-6105cdf84fc7",
        "colab": {
          "base_uri": "https://localhost:8080/",
          "height": 811
        }
      },
      "source": [
        "plt1 = dfByWeekYear.sum()[:-1][['deathIncrease']].plot.line()\n",
        "plt2 = dfByWeekYear.sum()[:-1][['totalTestResultsIncrease']].plot.line()\n",
        "plt3 = dfByWeekYear.sum()[:-1][['positiveIncrease']].plot.line()"
      ],
      "execution_count": 31,
      "outputs": [
        {
          "output_type": "display_data",
          "data": {
            "image/png": "[encoded data removed]",
            "text/plain": [
              "<Figure size 432x288 with 1 Axes>"
            ]
          },
          "metadata": {
            "tags": [],
            "needs_background": "light"
          }
        },
        {
          "output_type": "display_data",
          "data": {
            "image/png": "[encoded data removed]",
            "text/plain": [
              "<Figure size 432x288 with 1 Axes>"
            ]
          },
          "metadata": {
            "tags": [],
            "needs_background": "light"
          }
        },
        {
          "output_type": "display_data",
          "data": {
            "image/png": "[encoded data removed]",
            "text/plain": [
              "<Figure size 432x288 with 1 Axes>"
            ]
          },
          "metadata": {
            "tags": [],
            "needs_background": "light"
          }
        }
      ]
    },
    {
      "cell_type": "code",
      "metadata": {
        "id": "c4uuFBTquS3o",
        "colab_type": "code",
        "outputId": "8404aa6d-dcef-4cd2-d7e4-a95949fc64bd",
        "colab": {
          "base_uri": "https://localhost:8080/",
          "height": 348
        }
      },
      "source": [
        "dfDates = dfState.reset_index().copy()\n",
        "dfDates[(dfDates.state.isin(['FL']))].head(10)"
      ],
      "execution_count": 32,
      "outputs": [
        {
          "output_type": "execute_result",
          "data": {
            "text/html": [
              "<div>\n",
              "<style scoped>\n",
              "    .dataframe tbody tr th:only-of-type {\n",
              "        vertical-align: middle;\n",
              "    }\n",
              "\n",
              "    .dataframe tbody tr th {\n",
              "        vertical-align: top;\n",
              "    }\n",
              "\n",
              "    .dataframe thead th {\n",
              "        text-align: right;\n",
              "    }\n",
              "</style>\n",
              "<table border=\"1\" class=\"dataframe\">\n",
              "  <thead>\n",
              "    <tr style=\"text-align: right;\">\n",
              "      <th></th>\n",
              "      <th>state</th>\n",
              "      <th>date</th>\n",
              "      <th>positive</th>\n",
              "      <th>death</th>\n",
              "      <th>current_total</th>\n",
              "      <th>pct</th>\n",
              "    </tr>\n",
              "  </thead>\n",
              "  <tbody>\n",
              "    <tr>\n",
              "      <th>554</th>\n",
              "      <td>FL</td>\n",
              "      <td>2020-04-30</td>\n",
              "      <td>33690</td>\n",
              "      <td>1290</td>\n",
              "      <td>33690</td>\n",
              "      <td>1.000000</td>\n",
              "    </tr>\n",
              "    <tr>\n",
              "      <th>555</th>\n",
              "      <td>FL</td>\n",
              "      <td>2020-04-29</td>\n",
              "      <td>33193</td>\n",
              "      <td>1240</td>\n",
              "      <td>33690</td>\n",
              "      <td>0.985248</td>\n",
              "    </tr>\n",
              "    <tr>\n",
              "      <th>556</th>\n",
              "      <td>FL</td>\n",
              "      <td>2020-04-28</td>\n",
              "      <td>32846</td>\n",
              "      <td>1154</td>\n",
              "      <td>33690</td>\n",
              "      <td>0.974948</td>\n",
              "    </tr>\n",
              "    <tr>\n",
              "      <th>557</th>\n",
              "      <td>FL</td>\n",
              "      <td>2020-04-27</td>\n",
              "      <td>32138</td>\n",
              "      <td>1101</td>\n",
              "      <td>33690</td>\n",
              "      <td>0.953933</td>\n",
              "    </tr>\n",
              "    <tr>\n",
              "      <th>558</th>\n",
              "      <td>FL</td>\n",
              "      <td>2020-04-26</td>\n",
              "      <td>31528</td>\n",
              "      <td>1094</td>\n",
              "      <td>33690</td>\n",
              "      <td>0.935827</td>\n",
              "    </tr>\n",
              "    <tr>\n",
              "      <th>559</th>\n",
              "      <td>FL</td>\n",
              "      <td>2020-04-25</td>\n",
              "      <td>30839</td>\n",
              "      <td>1075</td>\n",
              "      <td>33690</td>\n",
              "      <td>0.915375</td>\n",
              "    </tr>\n",
              "    <tr>\n",
              "      <th>560</th>\n",
              "      <td>FL</td>\n",
              "      <td>2020-04-24</td>\n",
              "      <td>30174</td>\n",
              "      <td>1031</td>\n",
              "      <td>33690</td>\n",
              "      <td>0.895637</td>\n",
              "    </tr>\n",
              "    <tr>\n",
              "      <th>561</th>\n",
              "      <td>FL</td>\n",
              "      <td>2020-04-23</td>\n",
              "      <td>28832</td>\n",
              "      <td>979</td>\n",
              "      <td>33690</td>\n",
              "      <td>0.855803</td>\n",
              "    </tr>\n",
              "    <tr>\n",
              "      <th>562</th>\n",
              "      <td>FL</td>\n",
              "      <td>2020-04-22</td>\n",
              "      <td>28309</td>\n",
              "      <td>910</td>\n",
              "      <td>33690</td>\n",
              "      <td>0.840279</td>\n",
              "    </tr>\n",
              "    <tr>\n",
              "      <th>563</th>\n",
              "      <td>FL</td>\n",
              "      <td>2020-04-21</td>\n",
              "      <td>27495</td>\n",
              "      <td>856</td>\n",
              "      <td>33690</td>\n",
              "      <td>0.816118</td>\n",
              "    </tr>\n",
              "  </tbody>\n",
              "</table>\n",
              "</div>"
            ],
            "text/plain": [
              "    state       date  positive  death  current_total       pct\n",
              "554    FL 2020-04-30     33690   1290          33690  1.000000\n",
              "555    FL 2020-04-29     33193   1240          33690  0.985248\n",
              "556    FL 2020-04-28     32846   1154          33690  0.974948\n",
              "557    FL 2020-04-27     32138   1101          33690  0.953933\n",
              "558    FL 2020-04-26     31528   1094          33690  0.935827\n",
              "559    FL 2020-04-25     30839   1075          33690  0.915375\n",
              "560    FL 2020-04-24     30174   1031          33690  0.895637\n",
              "561    FL 2020-04-23     28832    979          33690  0.855803\n",
              "562    FL 2020-04-22     28309    910          33690  0.840279\n",
              "563    FL 2020-04-21     27495    856          33690  0.816118"
            ]
          },
          "metadata": {
            "tags": []
          },
          "execution_count": 32
        }
      ]
    },
    {
      "cell_type": "code",
      "metadata": {
        "id": "Puz0PBzemMD3",
        "colab_type": "code",
        "outputId": "4e6a24f2-b9dc-4157-9a26-8d24ff9d6ab3",
        "colab": {
          "base_uri": "https://localhost:8080/",
          "height": 78
        }
      },
      "source": [
        "datecutoff = dfDates.date.max()-datetime.timedelta(days=3)\n",
        "dfDates[(dfDates.date == datecutoff) & (dfDates.pct < .7)].sort_values(by='pct')\n"
      ],
      "execution_count": 33,
      "outputs": [
        {
          "output_type": "execute_result",
          "data": {
            "text/html": [
              "<div>\n",
              "<style scoped>\n",
              "    .dataframe tbody tr th:only-of-type {\n",
              "        vertical-align: middle;\n",
              "    }\n",
              "\n",
              "    .dataframe tbody tr th {\n",
              "        vertical-align: top;\n",
              "    }\n",
              "\n",
              "    .dataframe thead th {\n",
              "        text-align: right;\n",
              "    }\n",
              "</style>\n",
              "<table border=\"1\" class=\"dataframe\">\n",
              "  <thead>\n",
              "    <tr style=\"text-align: right;\">\n",
              "      <th></th>\n",
              "      <th>state</th>\n",
              "      <th>date</th>\n",
              "      <th>positive</th>\n",
              "      <th>death</th>\n",
              "      <th>current_total</th>\n",
              "      <th>pct</th>\n",
              "    </tr>\n",
              "  </thead>\n",
              "  <tbody>\n",
              "    <tr>\n",
              "      <th>3101</th>\n",
              "      <td>WY</td>\n",
              "      <td>2020-04-27</td>\n",
              "      <td>370</td>\n",
              "      <td>7</td>\n",
              "      <td>544</td>\n",
              "      <td>0.680147</td>\n",
              "    </tr>\n",
              "  </tbody>\n",
              "</table>\n",
              "</div>"
            ],
            "text/plain": [
              "     state       date  positive  death  current_total       pct\n",
              "3101    WY 2020-04-27       370      7            544  0.680147"
            ]
          },
          "metadata": {
            "tags": []
          },
          "execution_count": 33
        }
      ]
    },
    {
      "cell_type": "code",
      "metadata": {
        "id": "ZmaKzaBnGQwj",
        "colab_type": "code",
        "outputId": "3c4a15c7-8661-415d-ae5c-0acad83e1e3e",
        "colab": {
          "base_uri": "https://localhost:8080/",
          "height": 361
        }
      },
      "source": [
        "state = 'CA'\n",
        "dfState = dfCovidtracking[dfCovidtracking.state==state].sort_values(by='date')\n",
        "vals = dfState.positive.values\n",
        "\n",
        "x=pd.Series([y-x for x,y in zip(vals,vals[1:])], \\\n",
        "          index = dfCovidtracking[dfCovidtracking.state==state]\\\n",
        "          .sort_values(by='date').date.values[1:] ) \\\n",
        "          .plot.bar()\n",
        "\n"
      ],
      "execution_count": 34,
      "outputs": [
        {
          "output_type": "display_data",
          "data": {
            "image/png": "[encoded data removed]",
            "text/plain": [
              "<Figure size 432x288 with 1 Axes>"
            ]
          },
          "metadata": {
            "tags": [],
            "needs_background": "light"
          }
        }
      ]
    },
    {
      "cell_type": "markdown",
      "metadata": {
        "id": "xFA0q8At-4sZ",
        "colab_type": "text"
      },
      "source": [
        "# Added State Data"
      ]
    },
    {
      "cell_type": "code",
      "metadata": {
        "id": "Nlx8_xZ27kvp",
        "colab_type": "code",
        "colab": {}
      },
      "source": [
        "data_url = \"https://www2.census.gov/programs-surveys/popest/datasets/2010-2019/national/totals/nst-est2019-alldata.csv\"\n"
      ],
      "execution_count": 0,
      "outputs": []
    },
    {
      "cell_type": "code",
      "metadata": {
        "id": "Lwz6IJdX_WFx",
        "colab_type": "code",
        "colab": {}
      },
      "source": [
        "dfUSPop = pd.read_csv(data_url)"
      ],
      "execution_count": 0,
      "outputs": []
    },
    {
      "cell_type": "code",
      "metadata": {
        "id": "aU3ZzHS-AkRS",
        "colab_type": "code",
        "outputId": "08294909-a929-4833-e54f-e1738aaf250a",
        "colab": {
          "base_uri": "https://localhost:8080/",
          "height": 199
        }
      },
      "source": [
        "us_pop = dfUSPop.loc[0].POPESTIMATE2019 #Estimate from Wikipedia\n",
        "res = dfCovidtracking.loc[dfCovidtracking.date==dfCovidtracking.date.max(), ['positive', 'negative', 'pending','death', 'total']].sum()\n",
        "print(res)\n",
        "print(f\"Current Infection Rate {res.positive/res.total*100:2f}%\")\n",
        "print(f\"Percentage of US affected: {(res.positive+res.death)/us_pop*100:2f}%\")\n",
        "print(f\"Observed CFR: {(res.death/res.positive)*100:2f}%\")\n",
        "print(f\"Percentage of US tested/affected: {(res.negative+res.positive+res.death)/us_pop*100:2f}%\")"
      ],
      "execution_count": 59,
      "outputs": [
        {
          "output_type": "stream",
          "text": [
            "positive    1061101\n",
            "negative    5170081\n",
            "pending        2775\n",
            "death         57266\n",
            "total       6233957\n",
            "dtype: int64\n",
            "Current Infection Rate 17.021308%\n",
            "Percentage of US affected: 0.340717%\n",
            "Observed CFR: 5.396847%\n",
            "Percentage of US tested/affected: 1.915811%\n"
          ],
          "name": "stdout"
        }
      ]
    },
    {
      "cell_type": "code",
      "metadata": {
        "id": "vihKU2ItzKWi",
        "colab_type": "code",
        "colab": {}
      },
      "source": [
        "!if [ ! -d \"loc\" ]; then \\\n",
        "git clone https://gist.github.com/rogerallen/1583593 --depth=1 --quiet loc; \\\n",
        "fi\n",
        "import sys\n",
        "sys.path.append(\"loc\")\n",
        "\n",
        "\n"
      ],
      "execution_count": 0,
      "outputs": []
    },
    {
      "cell_type": "code",
      "metadata": {
        "id": "66JPa3Sv0uH1",
        "colab_type": "code",
        "colab": {}
      },
      "source": [
        "import us_state_abbrev as us_abbr\n"
      ],
      "execution_count": 0,
      "outputs": []
    },
    {
      "cell_type": "code",
      "metadata": {
        "id": "JYnrS2eV2ohs",
        "colab_type": "code",
        "colab": {}
      },
      "source": [
        "dfStatePop = dfUSPop[dfUSPop.STATE != 0].copy()"
      ],
      "execution_count": 0,
      "outputs": []
    },
    {
      "cell_type": "code",
      "metadata": {
        "id": "43XHoUsx4Px7",
        "colab_type": "code",
        "colab": {}
      },
      "source": [
        "dfStatePop['ABBR']=dfStatePop.NAME.apply(lambda x: us_abbr.us_state_abbrev[x])"
      ],
      "execution_count": 0,
      "outputs": []
    },
    {
      "cell_type": "code",
      "metadata": {
        "id": "d08OerM_4vBo",
        "colab_type": "code",
        "colab": {}
      },
      "source": [
        "dfStatePop = dfStatePop.loc[:, ['ABBR', 'POPESTIMATE2019']]\n",
        "dfStatePop.set_index('ABBR', inplace=True)"
      ],
      "execution_count": 0,
      "outputs": []
    },
    {
      "cell_type": "code",
      "metadata": {
        "id": "4puN3Aea5qwp",
        "colab_type": "code",
        "colab": {}
      },
      "source": [
        "dfStateCovid = dfCovidtracking.loc[dfCovidtracking.date==dfCovidtracking.date.max()].set_index('state')"
      ],
      "execution_count": 0,
      "outputs": []
    },
    {
      "cell_type": "code",
      "metadata": {
        "id": "R2rumgN265Zr",
        "colab_type": "code",
        "colab": {}
      },
      "source": [
        "dfStateJoin = dfStateCovid.join(dfStatePop)"
      ],
      "execution_count": 0,
      "outputs": []
    },
    {
      "cell_type": "code",
      "metadata": {
        "id": "pgD43HXE7ayl",
        "colab_type": "code",
        "outputId": "6634a9ea-71eb-4b82-a3c3-7a7b91af399e",
        "colab": {
          "base_uri": "https://localhost:8080/",
          "height": 1000
        }
      },
      "source": [
        "pd.DataFrame([(dfStateJoin.positive / dfStateJoin.POPESTIMATE2019)*100, \\\n",
        "              (dfStateJoin.totalTestResults/ dfStateJoin.POPESTIMATE2019)*100],\\\n",
        "             index=['state_pos_pop','state_test_pop'] ).T.sort_values(by=\"state_pos_pop\", ascending=False)[:51]"
      ],
      "execution_count": 45,
      "outputs": [
        {
          "output_type": "execute_result",
          "data": {
            "text/html": [
              "<div>\n",
              "<style scoped>\n",
              "    .dataframe tbody tr th:only-of-type {\n",
              "        vertical-align: middle;\n",
              "    }\n",
              "\n",
              "    .dataframe tbody tr th {\n",
              "        vertical-align: top;\n",
              "    }\n",
              "\n",
              "    .dataframe thead th {\n",
              "        text-align: right;\n",
              "    }\n",
              "</style>\n",
              "<table border=\"1\" class=\"dataframe\">\n",
              "  <thead>\n",
              "    <tr style=\"text-align: right;\">\n",
              "      <th></th>\n",
              "      <th>state_pos_pop</th>\n",
              "      <th>state_test_pop</th>\n",
              "    </tr>\n",
              "    <tr>\n",
              "      <th>state</th>\n",
              "      <th></th>\n",
              "      <th></th>\n",
              "    </tr>\n",
              "  </thead>\n",
              "  <tbody>\n",
              "    <tr>\n",
              "      <th>NY</th>\n",
              "      <td>1.564608</td>\n",
              "      <td>4.629672</td>\n",
              "    </tr>\n",
              "    <tr>\n",
              "      <th>NJ</th>\n",
              "      <td>1.335842</td>\n",
              "      <td>2.791181</td>\n",
              "    </tr>\n",
              "    <tr>\n",
              "      <th>MA</th>\n",
              "      <td>0.902502</td>\n",
              "      <td>3.999229</td>\n",
              "    </tr>\n",
              "    <tr>\n",
              "      <th>RI</th>\n",
              "      <td>0.813792</td>\n",
              "      <td>6.014003</td>\n",
              "    </tr>\n",
              "    <tr>\n",
              "      <th>CT</th>\n",
              "      <td>0.776936</td>\n",
              "      <td>2.724409</td>\n",
              "    </tr>\n",
              "    <tr>\n",
              "      <th>DC</th>\n",
              "      <td>0.612541</td>\n",
              "      <td>2.845062</td>\n",
              "    </tr>\n",
              "    <tr>\n",
              "      <th>LA</th>\n",
              "      <td>0.602328</td>\n",
              "      <td>3.469911</td>\n",
              "    </tr>\n",
              "    <tr>\n",
              "      <th>DE</th>\n",
              "      <td>0.486155</td>\n",
              "      <td>2.240789</td>\n",
              "    </tr>\n",
              "    <tr>\n",
              "      <th>IL</th>\n",
              "      <td>0.417604</td>\n",
              "      <td>2.129662</td>\n",
              "    </tr>\n",
              "    <tr>\n",
              "      <th>MI</th>\n",
              "      <td>0.414335</td>\n",
              "      <td>1.805042</td>\n",
              "    </tr>\n",
              "    <tr>\n",
              "      <th>MD</th>\n",
              "      <td>0.359629</td>\n",
              "      <td>1.891582</td>\n",
              "    </tr>\n",
              "    <tr>\n",
              "      <th>PA</th>\n",
              "      <td>0.357468</td>\n",
              "      <td>1.729145</td>\n",
              "    </tr>\n",
              "    <tr>\n",
              "      <th>SD</th>\n",
              "      <td>0.276830</td>\n",
              "      <td>1.924809</td>\n",
              "    </tr>\n",
              "    <tr>\n",
              "      <th>IN</th>\n",
              "      <td>0.264920</td>\n",
              "      <td>1.411095</td>\n",
              "    </tr>\n",
              "    <tr>\n",
              "      <th>CO</th>\n",
              "      <td>0.256272</td>\n",
              "      <td>1.233934</td>\n",
              "    </tr>\n",
              "    <tr>\n",
              "      <th>GA</th>\n",
              "      <td>0.246340</td>\n",
              "      <td>1.403768</td>\n",
              "    </tr>\n",
              "    <tr>\n",
              "      <th>MS</th>\n",
              "      <td>0.228987</td>\n",
              "      <td>2.229055</td>\n",
              "    </tr>\n",
              "    <tr>\n",
              "      <th>IA</th>\n",
              "      <td>0.226461</td>\n",
              "      <td>1.352331</td>\n",
              "    </tr>\n",
              "    <tr>\n",
              "      <th>NE</th>\n",
              "      <td>0.195615</td>\n",
              "      <td>1.308979</td>\n",
              "    </tr>\n",
              "    <tr>\n",
              "      <th>VA</th>\n",
              "      <td>0.185648</td>\n",
              "      <td>1.072096</td>\n",
              "    </tr>\n",
              "    <tr>\n",
              "      <th>WA</th>\n",
              "      <td>0.184770</td>\n",
              "      <td>2.466220</td>\n",
              "    </tr>\n",
              "    <tr>\n",
              "      <th>NV</th>\n",
              "      <td>0.162265</td>\n",
              "      <td>1.363113</td>\n",
              "    </tr>\n",
              "    <tr>\n",
              "      <th>FL</th>\n",
              "      <td>0.156860</td>\n",
              "      <td>1.780472</td>\n",
              "    </tr>\n",
              "    <tr>\n",
              "      <th>OH</th>\n",
              "      <td>0.154221</td>\n",
              "      <td>1.145426</td>\n",
              "    </tr>\n",
              "    <tr>\n",
              "      <th>NM</th>\n",
              "      <td>0.153231</td>\n",
              "      <td>3.103973</td>\n",
              "    </tr>\n",
              "    <tr>\n",
              "      <th>TN</th>\n",
              "      <td>0.151790</td>\n",
              "      <td>2.468073</td>\n",
              "    </tr>\n",
              "    <tr>\n",
              "      <th>NH</th>\n",
              "      <td>0.151062</td>\n",
              "      <td>1.612181</td>\n",
              "    </tr>\n",
              "    <tr>\n",
              "      <th>UT</th>\n",
              "      <td>0.145729</td>\n",
              "      <td>3.384355</td>\n",
              "    </tr>\n",
              "    <tr>\n",
              "      <th>KS</th>\n",
              "      <td>0.145470</td>\n",
              "      <td>1.085568</td>\n",
              "    </tr>\n",
              "    <tr>\n",
              "      <th>AL</th>\n",
              "      <td>0.143152</td>\n",
              "      <td>1.778354</td>\n",
              "    </tr>\n",
              "    <tr>\n",
              "      <th>ND</th>\n",
              "      <td>0.140015</td>\n",
              "      <td>3.603381</td>\n",
              "    </tr>\n",
              "    <tr>\n",
              "      <th>VT</th>\n",
              "      <td>0.138784</td>\n",
              "      <td>2.508378</td>\n",
              "    </tr>\n",
              "    <tr>\n",
              "      <th>CA</th>\n",
              "      <td>0.123802</td>\n",
              "      <td>1.582642</td>\n",
              "    </tr>\n",
              "    <tr>\n",
              "      <th>MO</th>\n",
              "      <td>0.123211</td>\n",
              "      <td>1.314671</td>\n",
              "    </tr>\n",
              "    <tr>\n",
              "      <th>SC</th>\n",
              "      <td>0.118379</td>\n",
              "      <td>1.097594</td>\n",
              "    </tr>\n",
              "    <tr>\n",
              "      <th>WI</th>\n",
              "      <td>0.117717</td>\n",
              "      <td>1.309555</td>\n",
              "    </tr>\n",
              "    <tr>\n",
              "      <th>ID</th>\n",
              "      <td>0.111020</td>\n",
              "      <td>1.605594</td>\n",
              "    </tr>\n",
              "    <tr>\n",
              "      <th>AR</th>\n",
              "      <td>0.107860</td>\n",
              "      <td>1.603119</td>\n",
              "    </tr>\n",
              "    <tr>\n",
              "      <th>AZ</th>\n",
              "      <td>0.105073</td>\n",
              "      <td>0.986245</td>\n",
              "    </tr>\n",
              "    <tr>\n",
              "      <th>KY</th>\n",
              "      <td>0.101597</td>\n",
              "      <td>1.210944</td>\n",
              "    </tr>\n",
              "    <tr>\n",
              "      <th>NC</th>\n",
              "      <td>0.100199</td>\n",
              "      <td>1.220776</td>\n",
              "    </tr>\n",
              "    <tr>\n",
              "      <th>WY</th>\n",
              "      <td>0.093994</td>\n",
              "      <td>1.632113</td>\n",
              "    </tr>\n",
              "    <tr>\n",
              "      <th>TX</th>\n",
              "      <td>0.093303</td>\n",
              "      <td>1.085637</td>\n",
              "    </tr>\n",
              "    <tr>\n",
              "      <th>OK</th>\n",
              "      <td>0.091434</td>\n",
              "      <td>1.602792</td>\n",
              "    </tr>\n",
              "    <tr>\n",
              "      <th>MN</th>\n",
              "      <td>0.091070</td>\n",
              "      <td>1.246110</td>\n",
              "    </tr>\n",
              "    <tr>\n",
              "      <th>ME</th>\n",
              "      <td>0.081460</td>\n",
              "      <td>1.535546</td>\n",
              "    </tr>\n",
              "    <tr>\n",
              "      <th>WV</th>\n",
              "      <td>0.062383</td>\n",
              "      <td>2.485343</td>\n",
              "    </tr>\n",
              "    <tr>\n",
              "      <th>OR</th>\n",
              "      <td>0.059511</td>\n",
              "      <td>1.328485</td>\n",
              "    </tr>\n",
              "    <tr>\n",
              "      <th>AK</th>\n",
              "      <td>0.048527</td>\n",
              "      <td>2.613510</td>\n",
              "    </tr>\n",
              "    <tr>\n",
              "      <th>PR</th>\n",
              "      <td>0.048189</td>\n",
              "      <td>0.339795</td>\n",
              "    </tr>\n",
              "    <tr>\n",
              "      <th>HI</th>\n",
              "      <td>0.043295</td>\n",
              "      <td>2.164037</td>\n",
              "    </tr>\n",
              "  </tbody>\n",
              "</table>\n",
              "</div>"
            ],
            "text/plain": [
              "       state_pos_pop  state_test_pop\n",
              "state                               \n",
              "NY          1.564608        4.629672\n",
              "NJ          1.335842        2.791181\n",
              "MA          0.902502        3.999229\n",
              "RI          0.813792        6.014003\n",
              "CT          0.776936        2.724409\n",
              "DC          0.612541        2.845062\n",
              "LA          0.602328        3.469911\n",
              "DE          0.486155        2.240789\n",
              "IL          0.417604        2.129662\n",
              "MI          0.414335        1.805042\n",
              "MD          0.359629        1.891582\n",
              "PA          0.357468        1.729145\n",
              "SD          0.276830        1.924809\n",
              "IN          0.264920        1.411095\n",
              "CO          0.256272        1.233934\n",
              "GA          0.246340        1.403768\n",
              "MS          0.228987        2.229055\n",
              "IA          0.226461        1.352331\n",
              "NE          0.195615        1.308979\n",
              "VA          0.185648        1.072096\n",
              "WA          0.184770        2.466220\n",
              "NV          0.162265        1.363113\n",
              "FL          0.156860        1.780472\n",
              "OH          0.154221        1.145426\n",
              "NM          0.153231        3.103973\n",
              "TN          0.151790        2.468073\n",
              "NH          0.151062        1.612181\n",
              "UT          0.145729        3.384355\n",
              "KS          0.145470        1.085568\n",
              "AL          0.143152        1.778354\n",
              "ND          0.140015        3.603381\n",
              "VT          0.138784        2.508378\n",
              "CA          0.123802        1.582642\n",
              "MO          0.123211        1.314671\n",
              "SC          0.118379        1.097594\n",
              "WI          0.117717        1.309555\n",
              "ID          0.111020        1.605594\n",
              "AR          0.107860        1.603119\n",
              "AZ          0.105073        0.986245\n",
              "KY          0.101597        1.210944\n",
              "NC          0.100199        1.220776\n",
              "WY          0.093994        1.632113\n",
              "TX          0.093303        1.085637\n",
              "OK          0.091434        1.602792\n",
              "MN          0.091070        1.246110\n",
              "ME          0.081460        1.535546\n",
              "WV          0.062383        2.485343\n",
              "OR          0.059511        1.328485\n",
              "AK          0.048527        2.613510\n",
              "PR          0.048189        0.339795\n",
              "HI          0.043295        2.164037"
            ]
          },
          "metadata": {
            "tags": []
          },
          "execution_count": 45
        }
      ]
    },
    {
      "cell_type": "code",
      "metadata": {
        "id": "-uy6plHZ84GH",
        "colab_type": "code",
        "outputId": "da351362-6818-4778-b72b-1a4e89b54a7b",
        "colab": {
          "base_uri": "https://localhost:8080/",
          "height": 35
        }
      },
      "source": [
        "#print(f\"Current Infection Rate {res.positive/res.total*100:2f}%\")\n",
        "\n",
        "print(f\"Current Testing Percent {gbUSA.sum().tail(1).totalTestResults[0]/dfUSPop[dfUSPop.REGION=='0'].POPESTIMATE2019[0]*100:2f}%\")"
      ],
      "execution_count": 46,
      "outputs": [
        {
          "output_type": "stream",
          "text": [
            "Current Testing Percent 1.898364%\n"
          ],
          "name": "stdout"
        }
      ]
    },
    {
      "cell_type": "code",
      "metadata": {
        "id": "Oe5ZLr99QRRc",
        "colab_type": "code",
        "outputId": "a2cb32d9-c55f-4a2d-ece1-343e2a7afa86",
        "colab": {
          "base_uri": "https://localhost:8080/",
          "height": 72
        }
      },
      "source": [
        "dfJHUData.columns"
      ],
      "execution_count": 47,
      "outputs": [
        {
          "output_type": "execute_result",
          "data": {
            "text/plain": [
              "Index(['FIPS', 'city', 'state', 'country', 'last_update', 'lat', 'lon',\n",
              "       'confirmed', 'dead', 'recovered', 'active', 'key'],\n",
              "      dtype='object')"
            ]
          },
          "metadata": {
            "tags": []
          },
          "execution_count": 47
        }
      ]
    },
    {
      "cell_type": "code",
      "metadata": {
        "id": "R8BhxDaaZG7J",
        "colab_type": "code",
        "colab": {}
      },
      "source": [
        "dfOwid = pd.read_csv(\"https://raw.githubusercontent.com/owid/covid-19-data/master/public/data/owid-covid-data.csv\")"
      ],
      "execution_count": 0,
      "outputs": []
    },
    {
      "cell_type": "code",
      "metadata": {
        "id": "P34L2uyifz16",
        "colab_type": "code",
        "outputId": "4e818bac-9eee-4ac1-c786-b4e001bc6a3c",
        "colab": {
          "base_uri": "https://localhost:8080/",
          "height": 435
        }
      },
      "source": [
        "dfOwid.info()\n"
      ],
      "execution_count": 49,
      "outputs": [
        {
          "output_type": "stream",
          "text": [
            "<class 'pandas.core.frame.DataFrame'>\n",
            "RangeIndex: 14294 entries, 0 to 14293\n",
            "Data columns (total 16 columns):\n",
            " #   Column                    Non-Null Count  Dtype  \n",
            "---  ------                    --------------  -----  \n",
            " 0   iso_code                  14108 non-null  object \n",
            " 1   location                  14294 non-null  object \n",
            " 2   date                      14294 non-null  object \n",
            " 3   total_cases               14294 non-null  int64  \n",
            " 4   new_cases                 14294 non-null  int64  \n",
            " 5   total_deaths              14294 non-null  int64  \n",
            " 6   new_deaths                14294 non-null  int64  \n",
            " 7   total_cases_per_million   14009 non-null  float64\n",
            " 8   new_cases_per_million     14009 non-null  float64\n",
            " 9   total_deaths_per_million  14009 non-null  float64\n",
            " 10  new_deaths_per_million    14009 non-null  float64\n",
            " 11  total_tests               3581 non-null   float64\n",
            " 12  new_tests                 3198 non-null   float64\n",
            " 13  total_tests_per_thousand  3581 non-null   float64\n",
            " 14  new_tests_per_thousand    3205 non-null   float64\n",
            " 15  tests_units               3581 non-null   object \n",
            "dtypes: float64(8), int64(4), object(4)\n",
            "memory usage: 1.7+ MB\n"
          ],
          "name": "stdout"
        }
      ]
    },
    {
      "cell_type": "code",
      "metadata": {
        "id": "KgJXmpC1g-Wz",
        "colab_type": "code",
        "colab": {}
      },
      "source": [
        "dfOwidTests = dfOwid.dropna(subset=['total_tests']).copy()"
      ],
      "execution_count": 0,
      "outputs": []
    },
    {
      "cell_type": "code",
      "metadata": {
        "id": "SAciuLfhhwFr",
        "colab_type": "code",
        "outputId": "58060d38-7e5f-41b0-92c6-f90cb16b5ed2",
        "colab": {
          "base_uri": "https://localhost:8080/",
          "height": 35
        }
      },
      "source": [
        "dfOwidTests.date.max()"
      ],
      "execution_count": 51,
      "outputs": [
        {
          "output_type": "execute_result",
          "data": {
            "text/plain": [
              "'2020-04-30'"
            ]
          },
          "metadata": {
            "tags": []
          },
          "execution_count": 51
        }
      ]
    },
    {
      "cell_type": "code",
      "metadata": {
        "id": "Qngm15gRiTJY",
        "colab_type": "code",
        "colab": {}
      },
      "source": [
        "dfOwidLatest = dfOwidTests.sort_values(by='date').groupby('iso_code').last()"
      ],
      "execution_count": 0,
      "outputs": []
    },
    {
      "cell_type": "code",
      "metadata": {
        "id": "kmMUQTWUioLl",
        "colab_type": "code",
        "outputId": "9304d8d5-6c9f-4236-91d3-f509ff874df4",
        "colab": {
          "base_uri": "https://localhost:8080/",
          "height": 254
        }
      },
      "source": [
        "dfOwidLatest.total_tests.sort_values(ascending=False)"
      ],
      "execution_count": 53,
      "outputs": [
        {
          "output_type": "execute_result",
          "data": {
            "text/plain": [
              "iso_code\n",
              "USA    6024625.0\n",
              "RUS    3498308.0\n",
              "DEU    2547052.0\n",
              "ITA    1979217.0\n",
              "ESP    1035522.0\n",
              "         ...    \n",
              "PRY       9439.0\n",
              "CRI       9335.0\n",
              "MMR       7890.0\n",
              "ZWE       7642.0\n",
              "BOL       6409.0\n",
              "Name: total_tests, Length: 82, dtype: float64"
            ]
          },
          "metadata": {
            "tags": []
          },
          "execution_count": 53
        }
      ]
    },
    {
      "cell_type": "code",
      "metadata": {
        "id": "fJMhnvEtjjf8",
        "colab_type": "code",
        "outputId": "d70e8302-7854-4f5c-a14f-0fe7722e86ef",
        "colab": {
          "base_uri": "https://localhost:8080/",
          "height": 72
        }
      },
      "source": [
        "isUSA = dfOwidLatest.index.isin(['USA'])\n",
        "NonUSTests = dfOwidLatest[~isUSA].total_tests.sum()\n",
        "USTests = dfOwidLatest[isUSA].total_tests.sum()\n",
        "\n",
        "print(f\"Total testing done outside of USA: {NonUSTests:.0f}\")\n",
        "print(f\"Total tests done in USA : {USTests:.0f}\")\n",
        "print(f\"How many more times has the world tested more than the US: {NonUSTests/USTests:.1f}\")"
      ],
      "execution_count": 54,
      "outputs": [
        {
          "output_type": "stream",
          "text": [
            "Total testing done outside of USA: 22409328\n",
            "Total tests done in USA : 6024625\n",
            "How many more times has the world tested more than the US: 3.7\n"
          ],
          "name": "stdout"
        }
      ]
    },
    {
      "cell_type": "code",
      "metadata": {
        "id": "PHEIbDtQnQ65",
        "colab_type": "code",
        "outputId": "bb7899c2-5745-4e84-9748-c1cf9478755a",
        "colab": {
          "base_uri": "https://localhost:8080/",
          "height": 308
        }
      },
      "source": [
        "dfOwidLatest[isUSA].sum()"
      ],
      "execution_count": 61,
      "outputs": [
        {
          "output_type": "execute_result",
          "data": {
            "text/plain": [
              "location                                                  United States\n",
              "date                                                         2020-04-29\n",
              "total_cases                                                     1012583\n",
              "new_cases                                                         24132\n",
              "total_deaths                                                      58355\n",
              "new_deaths                                                         2110\n",
              "total_cases_per_million                                         3059.14\n",
              "new_cases_per_million                                            72.906\n",
              "total_deaths_per_million                                        176.298\n",
              "new_deaths_per_million                                            6.375\n",
              "total_tests                                                 6.02462e+06\n",
              "new_tests                                                        231463\n",
              "total_tests_per_thousand                                         18.201\n",
              "new_tests_per_thousand                                            0.699\n",
              "tests_units                 inconsistent units (COVID Tracking Project)\n",
              "dtype: object"
            ]
          },
          "metadata": {
            "tags": []
          },
          "execution_count": 61
        }
      ]
    },
    {
      "cell_type": "code",
      "metadata": {
        "id": "kFfq__ymooV8",
        "colab_type": "code",
        "colab": {}
      },
      "source": [
        ""
      ],
      "execution_count": 0,
      "outputs": []
    }
  ]
}